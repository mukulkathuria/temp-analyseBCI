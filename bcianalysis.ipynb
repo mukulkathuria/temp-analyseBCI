{
 "cells": [
  {
   "cell_type": "code",
   "execution_count": null,
   "metadata": {},
   "outputs": [],
   "source": [
    "import pandas as pd\n",
    "import numpy as np\n",
    "from matplotlib import pyplot as plt\n",
    "from scipy import stats"
   ]
  },
  {
   "cell_type": "code",
   "execution_count": 2,
   "metadata": {},
   "outputs": [
    {
     "name": "stdout",
     "output_type": "stream",
     "text": [
      "<class 'pandas.core.frame.DataFrame'>\n",
      "RangeIndex: 20 entries, 0 to 19\n",
      "Data columns (total 30 columns):\n",
      " #   Column                       Non-Null Count  Dtype \n",
      "---  ------                       --------------  ----- \n",
      " 0   Lead_ID                      20 non-null     object\n",
      " 1   Booking_ID                   20 non-null     object\n",
      " 2   Customer name                20 non-null     object\n",
      " 3   Lead_Source                  20 non-null     object\n",
      " 4   First_Time_Buyer             20 non-null     object\n",
      " 5   Age                          20 non-null     int64 \n",
      " 6   Gender                       20 non-null     object\n",
      " 7   Location                     20 non-null     object\n",
      " 8   Income                       20 non-null     int64 \n",
      " 9   OEM_Loyalty_Program          20 non-null     object\n",
      " 10  Finances_Status              20 non-null     object\n",
      " 11  CIBIL_Score                  20 non-null     int64 \n",
      " 12  Down_Payment                 20 non-null     int64 \n",
      " 13  Undecided_Finances           20 non-null     object\n",
      " 14  Special_Occasions            16 non-null     object\n",
      " 15  Booking_Lead_Time            20 non-null     object\n",
      " 16  Needs_Match                  20 non-null     object\n",
      " 17  Add_Ons                      15 non-null     object\n",
      " 18  Dealership_Engagement        20 non-null     object\n",
      " 19  Experience_With_Sales_Rep    20 non-null     object\n",
      " 20  Companion_Feedback           20 non-null     object\n",
      " 21  Stock_Status                 20 non-null     object\n",
      " 22  Delivery_Date_Status         20 non-null     object\n",
      " 23  Competitive_Factors          20 non-null     object\n",
      " 24  External_Factors             20 non-null     object\n",
      " 25  Customer_Satisfaction_Score  20 non-null     int64 \n",
      " 26  Cancellation_Probability     20 non-null     object\n",
      " 27  Vehicle_Type                 20 non-null     object\n",
      " 28  Test_Drive_Status            20 non-null     object\n",
      " 29  Preferred_Delivery_Time      20 non-null     object\n",
      "dtypes: int64(5), object(25)\n",
      "memory usage: 4.8+ KB\n"
     ]
    }
   ],
   "source": [
    "\n",
    "df = pd.read_excel('BCI backup.xlsx', sheet_name='Dummy leads')\n",
    "df.info()"
   ]
  },
  {
   "cell_type": "code",
   "execution_count": 3,
   "metadata": {},
   "outputs": [
    {
     "name": "stdout",
     "output_type": "stream",
     "text": [
      "<class 'pandas.core.frame.DataFrame'>\n",
      "RangeIndex: 20 entries, 0 to 19\n",
      "Data columns (total 30 columns):\n",
      " #   Column                       Non-Null Count  Dtype \n",
      "---  ------                       --------------  ----- \n",
      " 0   Lead_ID                      20 non-null     object\n",
      " 1   Booking_ID                   20 non-null     object\n",
      " 2   Customer name                20 non-null     object\n",
      " 3   Lead_Source                  20 non-null     object\n",
      " 4   First_Time_Buyer             20 non-null     object\n",
      " 5   Age                          20 non-null     int64 \n",
      " 6   Gender                       20 non-null     object\n",
      " 7   Location                     20 non-null     object\n",
      " 8   Income                       20 non-null     int64 \n",
      " 9   OEM_Loyalty_Program          20 non-null     object\n",
      " 10  Finances_Status              20 non-null     object\n",
      " 11  CIBIL_Score                  20 non-null     int64 \n",
      " 12  Down_Payment                 20 non-null     int64 \n",
      " 13  Undecided_Finances           20 non-null     object\n",
      " 14  Special_Occasions            20 non-null     object\n",
      " 15  Booking_Lead_Time            20 non-null     object\n",
      " 16  Needs_Match                  20 non-null     object\n",
      " 17  Add_Ons                      20 non-null     object\n",
      " 18  Dealership_Engagement        20 non-null     object\n",
      " 19  Experience_With_Sales_Rep    20 non-null     object\n",
      " 20  Companion_Feedback           20 non-null     object\n",
      " 21  Stock_Status                 20 non-null     object\n",
      " 22  Delivery_Date_Status         20 non-null     object\n",
      " 23  Competitive_Factors          20 non-null     object\n",
      " 24  External_Factors             20 non-null     object\n",
      " 25  Customer_Satisfaction_Score  20 non-null     int64 \n",
      " 26  Cancellation_Probability     20 non-null     object\n",
      " 27  Vehicle_Type                 20 non-null     object\n",
      " 28  Test_Drive_Status            20 non-null     object\n",
      " 29  Preferred_Delivery_Time      20 non-null     object\n",
      "dtypes: int64(5), object(25)\n",
      "memory usage: 4.8+ KB\n"
     ]
    }
   ],
   "source": [
    "df = df.fillna('None')\n",
    "df.info()"
   ]
  },
  {
   "cell_type": "code",
   "execution_count": 4,
   "metadata": {},
   "outputs": [
    {
     "data": {
      "text/html": [
       "<div>\n",
       "<style scoped>\n",
       "    .dataframe tbody tr th:only-of-type {\n",
       "        vertical-align: middle;\n",
       "    }\n",
       "\n",
       "    .dataframe tbody tr th {\n",
       "        vertical-align: top;\n",
       "    }\n",
       "\n",
       "    .dataframe thead th {\n",
       "        text-align: right;\n",
       "    }\n",
       "</style>\n",
       "<table border=\"1\" class=\"dataframe\">\n",
       "  <thead>\n",
       "    <tr style=\"text-align: right;\">\n",
       "      <th></th>\n",
       "      <th>Age</th>\n",
       "      <th>Income</th>\n",
       "      <th>CIBIL_Score</th>\n",
       "      <th>Down_Payment</th>\n",
       "      <th>Customer_Satisfaction_Score</th>\n",
       "    </tr>\n",
       "  </thead>\n",
       "  <tbody>\n",
       "    <tr>\n",
       "      <th>count</th>\n",
       "      <td>20.000000</td>\n",
       "      <td>2.000000e+01</td>\n",
       "      <td>20.000000</td>\n",
       "      <td>20.000000</td>\n",
       "      <td>20.000000</td>\n",
       "    </tr>\n",
       "    <tr>\n",
       "      <th>mean</th>\n",
       "      <td>35.100000</td>\n",
       "      <td>1.297500e+06</td>\n",
       "      <td>752.500000</td>\n",
       "      <td>273000.000000</td>\n",
       "      <td>7.700000</td>\n",
       "    </tr>\n",
       "    <tr>\n",
       "      <th>std</th>\n",
       "      <td>6.881707</td>\n",
       "      <td>4.021243e+05</td>\n",
       "      <td>60.686858</td>\n",
       "      <td>183420.712829</td>\n",
       "      <td>1.380313</td>\n",
       "    </tr>\n",
       "    <tr>\n",
       "      <th>min</th>\n",
       "      <td>25.000000</td>\n",
       "      <td>7.500000e+05</td>\n",
       "      <td>650.000000</td>\n",
       "      <td>50000.000000</td>\n",
       "      <td>5.000000</td>\n",
       "    </tr>\n",
       "    <tr>\n",
       "      <th>25%</th>\n",
       "      <td>29.000000</td>\n",
       "      <td>9.500000e+05</td>\n",
       "      <td>707.500000</td>\n",
       "      <td>150000.000000</td>\n",
       "      <td>7.000000</td>\n",
       "    </tr>\n",
       "    <tr>\n",
       "      <th>50%</th>\n",
       "      <td>34.500000</td>\n",
       "      <td>1.300000e+06</td>\n",
       "      <td>755.000000</td>\n",
       "      <td>200000.000000</td>\n",
       "      <td>8.000000</td>\n",
       "    </tr>\n",
       "    <tr>\n",
       "      <th>75%</th>\n",
       "      <td>39.250000</td>\n",
       "      <td>1.550000e+06</td>\n",
       "      <td>800.000000</td>\n",
       "      <td>325000.000000</td>\n",
       "      <td>9.000000</td>\n",
       "    </tr>\n",
       "    <tr>\n",
       "      <th>max</th>\n",
       "      <td>50.000000</td>\n",
       "      <td>2.000000e+06</td>\n",
       "      <td>850.000000</td>\n",
       "      <td>700000.000000</td>\n",
       "      <td>9.000000</td>\n",
       "    </tr>\n",
       "  </tbody>\n",
       "</table>\n",
       "</div>"
      ],
      "text/plain": [
       "             Age        Income  CIBIL_Score   Down_Payment  \\\n",
       "count  20.000000  2.000000e+01    20.000000      20.000000   \n",
       "mean   35.100000  1.297500e+06   752.500000  273000.000000   \n",
       "std     6.881707  4.021243e+05    60.686858  183420.712829   \n",
       "min    25.000000  7.500000e+05   650.000000   50000.000000   \n",
       "25%    29.000000  9.500000e+05   707.500000  150000.000000   \n",
       "50%    34.500000  1.300000e+06   755.000000  200000.000000   \n",
       "75%    39.250000  1.550000e+06   800.000000  325000.000000   \n",
       "max    50.000000  2.000000e+06   850.000000  700000.000000   \n",
       "\n",
       "       Customer_Satisfaction_Score  \n",
       "count                    20.000000  \n",
       "mean                      7.700000  \n",
       "std                       1.380313  \n",
       "min                       5.000000  \n",
       "25%                       7.000000  \n",
       "50%                       8.000000  \n",
       "75%                       9.000000  \n",
       "max                       9.000000  "
      ]
     },
     "execution_count": 4,
     "metadata": {},
     "output_type": "execute_result"
    }
   ],
   "source": [
    "df.describe()"
   ]
  },
  {
   "cell_type": "code",
   "execution_count": 5,
   "metadata": {},
   "outputs": [
    {
     "name": "stdout",
     "output_type": "stream",
     "text": [
      "bciindex\n",
      "0    15\n",
      "1     5\n",
      "Name: count, dtype: int64\n",
      "0    1\n",
      "1    0\n",
      "2    0\n",
      "3    0\n",
      "4    0\n",
      "Name: bciindex, dtype: int64\n"
     ]
    }
   ],
   "source": [
    "from rules import bci_rules, evaluate_condition\n",
    "\n",
    "def addTargetValue(row):\n",
    "    counts = 0\n",
    "    for i in range(len(bci_rules)):\n",
    "        if evaluate_condition(row[bci_rules[i]['value']], bci_rules[i][\"condition\"]):\n",
    "            counts += 1\n",
    "    if counts >= 10:\n",
    "        return 1\n",
    "    return 0\n",
    "\n",
    "df['bciindex'] = df.apply(lambda row: addTargetValue(row), axis=1)\n",
    "print(df['bciindex'].value_counts())\n",
    "print(df['bciindex'].head())"
   ]
  },
  {
   "cell_type": "code",
   "execution_count": 6,
   "metadata": {},
   "outputs": [
    {
     "name": "stdout",
     "output_type": "stream",
     "text": [
      "0    2\n",
      "1    1\n",
      "2    1\n",
      "3    1\n",
      "4    1\n",
      "Name: Add_Ons, dtype: int64\n",
      "       Lead_Source        Age        Income  OEM_Loyalty_Program  CIBIL_Score  \\\n",
      "count    20.000000  20.000000  2.000000e+01            20.000000    20.000000   \n",
      "mean      1.000000  35.100000  1.297500e+06             0.500000   752.500000   \n",
      "std       0.794719   6.881707  4.021243e+05             0.512989    60.686858   \n",
      "min       0.000000  25.000000  7.500000e+05             0.000000   650.000000   \n",
      "25%       0.000000  29.000000  9.500000e+05             0.000000   707.500000   \n",
      "50%       1.000000  34.500000  1.300000e+06             0.500000   755.000000   \n",
      "75%       2.000000  39.250000  1.550000e+06             1.000000   800.000000   \n",
      "max       2.000000  50.000000  2.000000e+06             1.000000   850.000000   \n",
      "\n",
      "        Down_Payment  Special_Occasions  Booking_Lead_Time  Needs_Match  \\\n",
      "count      20.000000          20.000000          20.000000    20.000000   \n",
      "mean   273000.000000           1.100000          20.550000     1.400000   \n",
      "std    183420.712829           0.718185          10.450258     0.680557   \n",
      "min     50000.000000           0.000000           5.000000     0.000000   \n",
      "25%    150000.000000           1.000000          13.500000     1.000000   \n",
      "50%    200000.000000           1.000000          19.000000     1.500000   \n",
      "75%    325000.000000           2.000000          26.250000     2.000000   \n",
      "max    700000.000000           2.000000          45.000000     2.000000   \n",
      "\n",
      "         Add_Ons  ...  Customer_Satisfaction_Score  Cancellation_Probability  \\\n",
      "count  20.000000  ...                    20.000000                  20.00000   \n",
      "mean    1.100000  ...                     7.700000                   0.65000   \n",
      "std     0.307794  ...                     1.380313                   0.67082   \n",
      "min     1.000000  ...                     5.000000                   0.00000   \n",
      "25%     1.000000  ...                     7.000000                   0.00000   \n",
      "50%     1.000000  ...                     8.000000                   1.00000   \n",
      "75%     1.000000  ...                     9.000000                   1.00000   \n",
      "max     2.000000  ...                     9.000000                   2.00000   \n",
      "\n",
      "       Test_Drive_Status  Preferred_Delivery_Time   bciindex     isMale  \\\n",
      "count          20.000000                20.000000  20.000000  20.000000   \n",
      "mean            0.750000                 0.900000   0.250000   0.500000   \n",
      "std             0.444262                 0.852242   0.444262   0.512989   \n",
      "min             0.000000                 0.000000   0.000000   0.000000   \n",
      "25%             0.750000                 0.000000   0.000000   0.000000   \n",
      "50%             1.000000                 1.000000   0.000000   0.500000   \n",
      "75%             1.000000                 2.000000   0.250000   1.000000   \n",
      "max             1.000000                 2.000000   1.000000   1.000000   \n",
      "\n",
      "       isStockAvailable  isOnDeliveryDate  isUndecidedFinances  \\\n",
      "count         20.000000         20.000000            20.000000   \n",
      "mean           0.600000          0.600000             0.450000   \n",
      "std            0.502625          0.502625             0.510418   \n",
      "min            0.000000          0.000000             0.000000   \n",
      "25%            0.000000          0.000000             0.000000   \n",
      "50%            1.000000          1.000000             0.000000   \n",
      "75%            1.000000          1.000000             1.000000   \n",
      "max            1.000000          1.000000             1.000000   \n",
      "\n",
      "       isFirstTimeBuyer  \n",
      "count         20.000000  \n",
      "mean           0.600000  \n",
      "std            0.502625  \n",
      "min            0.000000  \n",
      "25%            0.000000  \n",
      "50%            1.000000  \n",
      "75%            1.000000  \n",
      "max            1.000000  \n",
      "\n",
      "[8 rows x 25 columns]\n"
     ]
    }
   ],
   "source": [
    "def checkRows(row):\n",
    "    row['Booking_Lead_Time'] = int(row['Booking_Lead_Time'].replace(' days', ''))\n",
    "    row['Add_Ons'] = len(row['Add_Ons'].replace(' ', '').split(';'))\n",
    "    row['OEM_Loyalty_Program'] = 1 if row['OEM_Loyalty_Program'] == 'Yes' else 0\n",
    "    return row\n",
    "df['isMale'] = df['Gender'].map({'Male': 1, 'Female': 0})\n",
    "df['Lead_Source'] = df['Lead_Source'].map({ 'Referral': 2 , 'Online': 1, 'Walk-in': 0})\n",
    "df['Needs_Match'] = df['Needs_Match'].map({ 'High': 2 , 'Medium': 1, 'Low': 0})\n",
    "df['Dealership_Engagement'] = df['Dealership_Engagement'].map({ 'High': 2 , 'Medium': 1, 'Low': 0})\n",
    "df['Competitive_Factors'] = df['Competitive_Factors'].map({ 'High': 2 , 'Medium': 1, 'Low': 0})\n",
    "df['External_Factors'] = df['External_Factors'].map({ 'High': 2 , 'Medium': 1, 'Low': 0})\n",
    "df['Cancellation_Probability'] = df['Cancellation_Probability'].map({ 'High': 2 , 'Medium': 1, 'Low': 0})\n",
    "df['Preferred_Delivery_Time'] = df['Preferred_Delivery_Time'].map({ 'Evening': 2 , 'Afternoon': 1, 'Morning': 0})\n",
    "df['isStockAvailable'] = df['Stock_Status'].map({'Available': 1, 'Unavailable': 0})\n",
    "df['isOnDeliveryDate'] = df['Delivery_Date_Status'].map({'On-Time': 1, 'Delayed': 0})\n",
    "df['isUndecidedFinances'] = df['Undecided_Finances'].map({'Yes': 1, 'No': 0})\n",
    "df['isFirstTimeBuyer'] = df['First_Time_Buyer'].map({'Yes': 1, 'No': 0})\n",
    "df['Test_Drive_Status'] = df['Test_Drive_Status'].map({'Completed': 1, 'Not Taken': 0})\n",
    "df['Experience_With_Sales_Rep'] = df['Experience_With_Sales_Rep'].map({ 'Positive': 1 , 'Neutral': 0, 'Negative': -1})\n",
    "df['Companion_Feedback'] = df['Companion_Feedback'].map({ 'Positive': 1 , 'Neutral': 0, 'Negative': -1})\n",
    "df['Special_Occasions'] = df['Special_Occasions'].map({ 'Wedding': 2 , 'Festival': 1, 'None': 0})\n",
    "df = df.apply(checkRows, axis=1)\n",
    "print(df['Add_Ons'].head())\n",
    "print(df.describe())"
   ]
  },
  {
   "cell_type": "code",
   "execution_count": 7,
   "metadata": {},
   "outputs": [
    {
     "data": {
      "text/plain": [
       "array([[<Axes: title={'center': 'Lead_Source'}>,\n",
       "        <Axes: title={'center': 'Age'}>,\n",
       "        <Axes: title={'center': 'Income'}>,\n",
       "        <Axes: title={'center': 'OEM_Loyalty_Program'}>,\n",
       "        <Axes: title={'center': 'CIBIL_Score'}>],\n",
       "       [<Axes: title={'center': 'Down_Payment'}>,\n",
       "        <Axes: title={'center': 'Special_Occasions'}>,\n",
       "        <Axes: title={'center': 'Booking_Lead_Time'}>,\n",
       "        <Axes: title={'center': 'Needs_Match'}>,\n",
       "        <Axes: title={'center': 'Add_Ons'}>],\n",
       "       [<Axes: title={'center': 'Dealership_Engagement'}>,\n",
       "        <Axes: title={'center': 'Experience_With_Sales_Rep'}>,\n",
       "        <Axes: title={'center': 'Companion_Feedback'}>,\n",
       "        <Axes: title={'center': 'Competitive_Factors'}>,\n",
       "        <Axes: title={'center': 'External_Factors'}>],\n",
       "       [<Axes: title={'center': 'Customer_Satisfaction_Score'}>,\n",
       "        <Axes: title={'center': 'Cancellation_Probability'}>,\n",
       "        <Axes: title={'center': 'Test_Drive_Status'}>,\n",
       "        <Axes: title={'center': 'Preferred_Delivery_Time'}>,\n",
       "        <Axes: title={'center': 'bciindex'}>],\n",
       "       [<Axes: title={'center': 'isMale'}>,\n",
       "        <Axes: title={'center': 'isStockAvailable'}>,\n",
       "        <Axes: title={'center': 'isOnDeliveryDate'}>,\n",
       "        <Axes: title={'center': 'isUndecidedFinances'}>,\n",
       "        <Axes: title={'center': 'isFirstTimeBuyer'}>]], dtype=object)"
      ]
     },
     "execution_count": 7,
     "metadata": {},
     "output_type": "execute_result"
    },
    {
     "data": {
      "image/png": "[encoded data removed]",
      "text/plain": [
       "<Figure size 1500x1000 with 25 Axes>"
      ]
     },
     "metadata": {},
     "output_type": "display_data"
    }
   ],
   "source": [
    "df.hist(bins=5, figsize=(15,10))"
   ]
  },
  {
   "cell_type": "code",
   "execution_count": 8,
   "metadata": {},
   "outputs": [],
   "source": [
    "# import seaborn as sns\n",
    "# df_filtered = df.select_dtypes(include=['int64', 'float64'])\n",
    "# sns.pairplot(df_filtered)"
   ]
  },
  {
   "cell_type": "code",
   "execution_count": 9,
   "metadata": {},
   "outputs": [
    {
     "name": "stdout",
     "output_type": "stream",
     "text": [
      "T-statistic: 0.51880524140054, P-value: 0.6102163399683445\n"
     ]
    }
   ],
   "source": [
    "\n",
    "\n",
    "first_time_buyers = df[df['First_Time_Buyer'] == 'Yes']['Customer_Satisfaction_Score']\n",
    "repeat_customers = df[df['First_Time_Buyer'] == 'No']['Customer_Satisfaction_Score']\n",
    "\n",
    "t_statistic, p_value = stats.ttest_ind(first_time_buyers, repeat_customers)\n",
    "\n",
    "print(f\"T-statistic: {t_statistic}, P-value: {p_value}\")"
   ]
  },
  {
   "cell_type": "code",
   "execution_count": 10,
   "metadata": {},
   "outputs": [
    {
     "data": {
      "text/html": [
       "<div>\n",
       "<style scoped>\n",
       "    .dataframe tbody tr th:only-of-type {\n",
       "        vertical-align: middle;\n",
       "    }\n",
       "\n",
       "    .dataframe tbody tr th {\n",
       "        vertical-align: top;\n",
       "    }\n",
       "\n",
       "    .dataframe thead th {\n",
       "        text-align: right;\n",
       "    }\n",
       "</style>\n",
       "<table border=\"1\" class=\"dataframe\">\n",
       "  <thead>\n",
       "    <tr style=\"text-align: right;\">\n",
       "      <th></th>\n",
       "      <th>Lead_Source</th>\n",
       "      <th>Age</th>\n",
       "      <th>Income</th>\n",
       "      <th>OEM_Loyalty_Program</th>\n",
       "      <th>Finances_Status</th>\n",
       "      <th>CIBIL_Score</th>\n",
       "      <th>Down_Payment</th>\n",
       "      <th>Special_Occasions</th>\n",
       "      <th>Booking_Lead_Time</th>\n",
       "      <th>Needs_Match</th>\n",
       "      <th>...</th>\n",
       "      <th>Cancellation_Probability</th>\n",
       "      <th>Vehicle_Type</th>\n",
       "      <th>Test_Drive_Status</th>\n",
       "      <th>Preferred_Delivery_Time</th>\n",
       "      <th>bciindex</th>\n",
       "      <th>isMale</th>\n",
       "      <th>isStockAvailable</th>\n",
       "      <th>isOnDeliveryDate</th>\n",
       "      <th>isUndecidedFinances</th>\n",
       "      <th>isFirstTimeBuyer</th>\n",
       "    </tr>\n",
       "  </thead>\n",
       "  <tbody>\n",
       "    <tr>\n",
       "      <th>0</th>\n",
       "      <td>1</td>\n",
       "      <td>28</td>\n",
       "      <td>1200000</td>\n",
       "      <td>1</td>\n",
       "      <td>Approved Loans</td>\n",
       "      <td>750</td>\n",
       "      <td>200000</td>\n",
       "      <td>1</td>\n",
       "      <td>15</td>\n",
       "      <td>2</td>\n",
       "      <td>...</td>\n",
       "      <td>0</td>\n",
       "      <td>SUV</td>\n",
       "      <td>1</td>\n",
       "      <td>0</td>\n",
       "      <td>1</td>\n",
       "      <td>1</td>\n",
       "      <td>1</td>\n",
       "      <td>1</td>\n",
       "      <td>0</td>\n",
       "      <td>1</td>\n",
       "    </tr>\n",
       "    <tr>\n",
       "      <th>1</th>\n",
       "      <td>0</td>\n",
       "      <td>35</td>\n",
       "      <td>1800000</td>\n",
       "      <td>0</td>\n",
       "      <td>Cash Purchase</td>\n",
       "      <td>800</td>\n",
       "      <td>500000</td>\n",
       "      <td>2</td>\n",
       "      <td>30</td>\n",
       "      <td>1</td>\n",
       "      <td>...</td>\n",
       "      <td>1</td>\n",
       "      <td>Sedan</td>\n",
       "      <td>0</td>\n",
       "      <td>1</td>\n",
       "      <td>0</td>\n",
       "      <td>0</td>\n",
       "      <td>0</td>\n",
       "      <td>0</td>\n",
       "      <td>0</td>\n",
       "      <td>0</td>\n",
       "    </tr>\n",
       "    <tr>\n",
       "      <th>2</th>\n",
       "      <td>2</td>\n",
       "      <td>45</td>\n",
       "      <td>1500000</td>\n",
       "      <td>1</td>\n",
       "      <td>Pending Loans</td>\n",
       "      <td>700</td>\n",
       "      <td>150000</td>\n",
       "      <td>0</td>\n",
       "      <td>10</td>\n",
       "      <td>0</td>\n",
       "      <td>...</td>\n",
       "      <td>2</td>\n",
       "      <td>Hatchback</td>\n",
       "      <td>1</td>\n",
       "      <td>2</td>\n",
       "      <td>0</td>\n",
       "      <td>1</td>\n",
       "      <td>1</td>\n",
       "      <td>1</td>\n",
       "      <td>1</td>\n",
       "      <td>1</td>\n",
       "    </tr>\n",
       "    <tr>\n",
       "      <th>3</th>\n",
       "      <td>1</td>\n",
       "      <td>32</td>\n",
       "      <td>800000</td>\n",
       "      <td>0</td>\n",
       "      <td>Undecided</td>\n",
       "      <td>670</td>\n",
       "      <td>100000</td>\n",
       "      <td>1</td>\n",
       "      <td>7</td>\n",
       "      <td>1</td>\n",
       "      <td>...</td>\n",
       "      <td>1</td>\n",
       "      <td>SUV</td>\n",
       "      <td>1</td>\n",
       "      <td>0</td>\n",
       "      <td>0</td>\n",
       "      <td>0</td>\n",
       "      <td>0</td>\n",
       "      <td>0</td>\n",
       "      <td>1</td>\n",
       "      <td>1</td>\n",
       "    </tr>\n",
       "    <tr>\n",
       "      <th>4</th>\n",
       "      <td>0</td>\n",
       "      <td>50</td>\n",
       "      <td>2000000</td>\n",
       "      <td>1</td>\n",
       "      <td>Cash Purchase</td>\n",
       "      <td>850</td>\n",
       "      <td>700000</td>\n",
       "      <td>0</td>\n",
       "      <td>45</td>\n",
       "      <td>2</td>\n",
       "      <td>...</td>\n",
       "      <td>0</td>\n",
       "      <td>Sedan</td>\n",
       "      <td>0</td>\n",
       "      <td>1</td>\n",
       "      <td>0</td>\n",
       "      <td>1</td>\n",
       "      <td>1</td>\n",
       "      <td>1</td>\n",
       "      <td>0</td>\n",
       "      <td>0</td>\n",
       "    </tr>\n",
       "  </tbody>\n",
       "</table>\n",
       "<p>5 rows × 27 columns</p>\n",
       "</div>"
      ],
      "text/plain": [
       "   Lead_Source  Age   Income  OEM_Loyalty_Program Finances_Status  \\\n",
       "0            1   28  1200000                    1  Approved Loans   \n",
       "1            0   35  1800000                    0   Cash Purchase   \n",
       "2            2   45  1500000                    1   Pending Loans   \n",
       "3            1   32   800000                    0       Undecided   \n",
       "4            0   50  2000000                    1   Cash Purchase   \n",
       "\n",
       "   CIBIL_Score  Down_Payment  Special_Occasions  Booking_Lead_Time  \\\n",
       "0          750        200000                  1                 15   \n",
       "1          800        500000                  2                 30   \n",
       "2          700        150000                  0                 10   \n",
       "3          670        100000                  1                  7   \n",
       "4          850        700000                  0                 45   \n",
       "\n",
       "   Needs_Match  ...  Cancellation_Probability  Vehicle_Type  \\\n",
       "0            2  ...                         0           SUV   \n",
       "1            1  ...                         1         Sedan   \n",
       "2            0  ...                         2     Hatchback   \n",
       "3            1  ...                         1           SUV   \n",
       "4            2  ...                         0         Sedan   \n",
       "\n",
       "   Test_Drive_Status  Preferred_Delivery_Time  bciindex  isMale  \\\n",
       "0                  1                        0         1       1   \n",
       "1                  0                        1         0       0   \n",
       "2                  1                        2         0       1   \n",
       "3                  1                        0         0       0   \n",
       "4                  0                        1         0       1   \n",
       "\n",
       "   isStockAvailable  isOnDeliveryDate isUndecidedFinances  isFirstTimeBuyer  \n",
       "0                 1                 1                   0                 1  \n",
       "1                 0                 0                   0                 0  \n",
       "2                 1                 1                   1                 1  \n",
       "3                 0                 0                   1                 1  \n",
       "4                 1                 1                   0                 0  \n",
       "\n",
       "[5 rows x 27 columns]"
      ]
     },
     "execution_count": 10,
     "metadata": {},
     "output_type": "execute_result"
    }
   ],
   "source": [
    "# from sklearn.preprocessing import MultiLabelBinarizer\n",
    "# mlb = MultiLabelBinarizer()\n",
    "# models_encoded = mlb.fit_transform(df['Add_Ons'])\n",
    "# models_encoded_df = pd.DataFrame(models_encoded, columns=mlb.classes_)\n",
    "# df = df.join(models_encoded_df)\n",
    "df = df.drop(['Lead_ID', 'Booking_ID', 'Customer name', 'Gender', 'Stock_Status', 'Delivery_Date_Status', 'Undecided_Finances', 'First_Time_Buyer', 'Location'], axis=1)\n",
    "df.head()"
   ]
  },
  {
   "cell_type": "code",
   "execution_count": 11,
   "metadata": {},
   "outputs": [
    {
     "data": {
      "text/plain": [
       "Index(['Finances_Status', 'Vehicle_Type'], dtype='object')"
      ]
     },
     "execution_count": 11,
     "metadata": {},
     "output_type": "execute_result"
    }
   ],
   "source": [
    "df_filtered = df.select_dtypes(exclude=['int64', 'float64', 'datetime64[ns]'])\n",
    "df_filtered.columns"
   ]
  },
  {
   "cell_type": "code",
   "execution_count": 12,
   "metadata": {},
   "outputs": [
    {
     "name": "stdout",
     "output_type": "stream",
     "text": [
      "<class 'pandas.core.frame.DataFrame'>\n",
      "RangeIndex: 20 entries, 0 to 19\n",
      "Data columns (total 32 columns):\n",
      " #   Column                          Non-Null Count  Dtype  \n",
      "---  ------                          --------------  -----  \n",
      " 0   Lead_Source                     20 non-null     int64  \n",
      " 1   Age                             20 non-null     int64  \n",
      " 2   Income                          20 non-null     int64  \n",
      " 3   OEM_Loyalty_Program             20 non-null     int64  \n",
      " 4   CIBIL_Score                     20 non-null     int64  \n",
      " 5   Down_Payment                    20 non-null     int64  \n",
      " 6   Special_Occasions               20 non-null     int64  \n",
      " 7   Booking_Lead_Time               20 non-null     int64  \n",
      " 8   Needs_Match                     20 non-null     int64  \n",
      " 9   Add_Ons                         20 non-null     int64  \n",
      " 10  Dealership_Engagement           20 non-null     int64  \n",
      " 11  Experience_With_Sales_Rep       20 non-null     int64  \n",
      " 12  Companion_Feedback              20 non-null     int64  \n",
      " 13  Competitive_Factors             20 non-null     int64  \n",
      " 14  External_Factors                20 non-null     int64  \n",
      " 15  Customer_Satisfaction_Score     20 non-null     int64  \n",
      " 16  Cancellation_Probability        20 non-null     int64  \n",
      " 17  Test_Drive_Status               20 non-null     int64  \n",
      " 18  Preferred_Delivery_Time         20 non-null     int64  \n",
      " 19  bciindex                        20 non-null     int64  \n",
      " 20  isMale                          20 non-null     int64  \n",
      " 21  isStockAvailable                20 non-null     int64  \n",
      " 22  isOnDeliveryDate                20 non-null     int64  \n",
      " 23  isUndecidedFinances             20 non-null     int64  \n",
      " 24  isFirstTimeBuyer                20 non-null     int64  \n",
      " 25  Finances_Status_Approved Loans  20 non-null     float64\n",
      " 26  Finances_Status_Cash Purchase   20 non-null     float64\n",
      " 27  Finances_Status_Pending Loans   20 non-null     float64\n",
      " 28  Finances_Status_Undecided       20 non-null     float64\n",
      " 29  Vehicle_Type_Hatchback          20 non-null     float64\n",
      " 30  Vehicle_Type_SUV                20 non-null     float64\n",
      " 31  Vehicle_Type_Sedan              20 non-null     float64\n",
      "dtypes: float64(7), int64(25)\n",
      "memory usage: 5.1 KB\n"
     ]
    }
   ],
   "source": [
    "from sklearn.preprocessing import OneHotEncoder\n",
    "prusage_encoder = OneHotEncoder(sparse_output=False)\n",
    "hot_encoded_data = prusage_encoder.fit_transform(df[df_filtered.columns])\n",
    "one_hot_df = pd.DataFrame(hot_encoded_data, columns=prusage_encoder.get_feature_names_out(df_filtered.columns))\n",
    "df = df.drop(df_filtered.columns, axis=1)\n",
    "df = df.join(one_hot_df)\n",
    "df.info()"
   ]
  },
  {
   "cell_type": "code",
   "execution_count": 13,
   "metadata": {},
   "outputs": [
    {
     "data": {
      "text/html": [
       "<div>\n",
       "<style scoped>\n",
       "    .dataframe tbody tr th:only-of-type {\n",
       "        vertical-align: middle;\n",
       "    }\n",
       "\n",
       "    .dataframe tbody tr th {\n",
       "        vertical-align: top;\n",
       "    }\n",
       "\n",
       "    .dataframe thead th {\n",
       "        text-align: right;\n",
       "    }\n",
       "</style>\n",
       "<table border=\"1\" class=\"dataframe\">\n",
       "  <thead>\n",
       "    <tr style=\"text-align: right;\">\n",
       "      <th></th>\n",
       "      <th>Lead_Source</th>\n",
       "      <th>Age</th>\n",
       "      <th>Income</th>\n",
       "      <th>OEM_Loyalty_Program</th>\n",
       "      <th>CIBIL_Score</th>\n",
       "      <th>Down_Payment</th>\n",
       "      <th>Special_Occasions</th>\n",
       "      <th>Booking_Lead_Time</th>\n",
       "      <th>Needs_Match</th>\n",
       "      <th>Add_Ons</th>\n",
       "      <th>Dealership_Engagement</th>\n",
       "      <th>Experience_With_Sales_Rep</th>\n",
       "      <th>Companion_Feedback</th>\n",
       "      <th>Competitive_Factors</th>\n",
       "      <th>External_Factors</th>\n",
       "      <th>Customer_Satisfaction_Score</th>\n",
       "      <th>Cancellation_Probability</th>\n",
       "      <th>Test_Drive_Status</th>\n",
       "      <th>Preferred_Delivery_Time</th>\n",
       "      <th>bciindex</th>\n",
       "      <th>isMale</th>\n",
       "      <th>isStockAvailable</th>\n",
       "      <th>isOnDeliveryDate</th>\n",
       "      <th>isUndecidedFinances</th>\n",
       "      <th>isFirstTimeBuyer</th>\n",
       "      <th>Finances_Status_Approved Loans</th>\n",
       "      <th>Finances_Status_Cash Purchase</th>\n",
       "      <th>Finances_Status_Pending Loans</th>\n",
       "      <th>Finances_Status_Undecided</th>\n",
       "      <th>Vehicle_Type_Hatchback</th>\n",
       "      <th>Vehicle_Type_SUV</th>\n",
       "      <th>Vehicle_Type_Sedan</th>\n",
       "    </tr>\n",
       "  </thead>\n",
       "  <tbody>\n",
       "    <tr>\n",
       "      <th>0</th>\n",
       "      <td>1</td>\n",
       "      <td>28</td>\n",
       "      <td>1200000</td>\n",
       "      <td>1</td>\n",
       "      <td>750</td>\n",
       "      <td>200000</td>\n",
       "      <td>1</td>\n",
       "      <td>15</td>\n",
       "      <td>2</td>\n",
       "      <td>2</td>\n",
       "      <td>2</td>\n",
       "      <td>1</td>\n",
       "      <td>1</td>\n",
       "      <td>0</td>\n",
       "      <td>0</td>\n",
       "      <td>9</td>\n",
       "      <td>0</td>\n",
       "      <td>1</td>\n",
       "      <td>0</td>\n",
       "      <td>1</td>\n",
       "      <td>1</td>\n",
       "      <td>1</td>\n",
       "      <td>1</td>\n",
       "      <td>0</td>\n",
       "      <td>1</td>\n",
       "      <td>1.0</td>\n",
       "      <td>0.0</td>\n",
       "      <td>0.0</td>\n",
       "      <td>0.0</td>\n",
       "      <td>0.0</td>\n",
       "      <td>1.0</td>\n",
       "      <td>0.0</td>\n",
       "    </tr>\n",
       "    <tr>\n",
       "      <th>1</th>\n",
       "      <td>0</td>\n",
       "      <td>35</td>\n",
       "      <td>1800000</td>\n",
       "      <td>0</td>\n",
       "      <td>800</td>\n",
       "      <td>500000</td>\n",
       "      <td>2</td>\n",
       "      <td>30</td>\n",
       "      <td>1</td>\n",
       "      <td>1</td>\n",
       "      <td>1</td>\n",
       "      <td>0</td>\n",
       "      <td>0</td>\n",
       "      <td>1</td>\n",
       "      <td>1</td>\n",
       "      <td>7</td>\n",
       "      <td>1</td>\n",
       "      <td>0</td>\n",
       "      <td>1</td>\n",
       "      <td>0</td>\n",
       "      <td>0</td>\n",
       "      <td>0</td>\n",
       "      <td>0</td>\n",
       "      <td>0</td>\n",
       "      <td>0</td>\n",
       "      <td>0.0</td>\n",
       "      <td>1.0</td>\n",
       "      <td>0.0</td>\n",
       "      <td>0.0</td>\n",
       "      <td>0.0</td>\n",
       "      <td>0.0</td>\n",
       "      <td>1.0</td>\n",
       "    </tr>\n",
       "    <tr>\n",
       "      <th>2</th>\n",
       "      <td>2</td>\n",
       "      <td>45</td>\n",
       "      <td>1500000</td>\n",
       "      <td>1</td>\n",
       "      <td>700</td>\n",
       "      <td>150000</td>\n",
       "      <td>0</td>\n",
       "      <td>10</td>\n",
       "      <td>0</td>\n",
       "      <td>1</td>\n",
       "      <td>0</td>\n",
       "      <td>-1</td>\n",
       "      <td>-1</td>\n",
       "      <td>2</td>\n",
       "      <td>2</td>\n",
       "      <td>5</td>\n",
       "      <td>2</td>\n",
       "      <td>1</td>\n",
       "      <td>2</td>\n",
       "      <td>0</td>\n",
       "      <td>1</td>\n",
       "      <td>1</td>\n",
       "      <td>1</td>\n",
       "      <td>1</td>\n",
       "      <td>1</td>\n",
       "      <td>0.0</td>\n",
       "      <td>0.0</td>\n",
       "      <td>1.0</td>\n",
       "      <td>0.0</td>\n",
       "      <td>1.0</td>\n",
       "      <td>0.0</td>\n",
       "      <td>0.0</td>\n",
       "    </tr>\n",
       "    <tr>\n",
       "      <th>3</th>\n",
       "      <td>1</td>\n",
       "      <td>32</td>\n",
       "      <td>800000</td>\n",
       "      <td>0</td>\n",
       "      <td>670</td>\n",
       "      <td>100000</td>\n",
       "      <td>1</td>\n",
       "      <td>7</td>\n",
       "      <td>1</td>\n",
       "      <td>1</td>\n",
       "      <td>2</td>\n",
       "      <td>1</td>\n",
       "      <td>0</td>\n",
       "      <td>1</td>\n",
       "      <td>0</td>\n",
       "      <td>8</td>\n",
       "      <td>1</td>\n",
       "      <td>1</td>\n",
       "      <td>0</td>\n",
       "      <td>0</td>\n",
       "      <td>0</td>\n",
       "      <td>0</td>\n",
       "      <td>0</td>\n",
       "      <td>1</td>\n",
       "      <td>1</td>\n",
       "      <td>0.0</td>\n",
       "      <td>0.0</td>\n",
       "      <td>0.0</td>\n",
       "      <td>1.0</td>\n",
       "      <td>0.0</td>\n",
       "      <td>1.0</td>\n",
       "      <td>0.0</td>\n",
       "    </tr>\n",
       "    <tr>\n",
       "      <th>4</th>\n",
       "      <td>0</td>\n",
       "      <td>50</td>\n",
       "      <td>2000000</td>\n",
       "      <td>1</td>\n",
       "      <td>850</td>\n",
       "      <td>700000</td>\n",
       "      <td>0</td>\n",
       "      <td>45</td>\n",
       "      <td>2</td>\n",
       "      <td>1</td>\n",
       "      <td>1</td>\n",
       "      <td>1</td>\n",
       "      <td>1</td>\n",
       "      <td>0</td>\n",
       "      <td>0</td>\n",
       "      <td>9</td>\n",
       "      <td>0</td>\n",
       "      <td>0</td>\n",
       "      <td>1</td>\n",
       "      <td>0</td>\n",
       "      <td>1</td>\n",
       "      <td>1</td>\n",
       "      <td>1</td>\n",
       "      <td>0</td>\n",
       "      <td>0</td>\n",
       "      <td>0.0</td>\n",
       "      <td>1.0</td>\n",
       "      <td>0.0</td>\n",
       "      <td>0.0</td>\n",
       "      <td>0.0</td>\n",
       "      <td>0.0</td>\n",
       "      <td>1.0</td>\n",
       "    </tr>\n",
       "  </tbody>\n",
       "</table>\n",
       "</div>"
      ],
      "text/plain": [
       "   Lead_Source  Age   Income  OEM_Loyalty_Program  CIBIL_Score  Down_Payment  \\\n",
       "0            1   28  1200000                    1          750        200000   \n",
       "1            0   35  1800000                    0          800        500000   \n",
       "2            2   45  1500000                    1          700        150000   \n",
       "3            1   32   800000                    0          670        100000   \n",
       "4            0   50  2000000                    1          850        700000   \n",
       "\n",
       "   Special_Occasions  Booking_Lead_Time  Needs_Match  Add_Ons  \\\n",
       "0                  1                 15            2        2   \n",
       "1                  2                 30            1        1   \n",
       "2                  0                 10            0        1   \n",
       "3                  1                  7            1        1   \n",
       "4                  0                 45            2        1   \n",
       "\n",
       "   Dealership_Engagement  Experience_With_Sales_Rep  Companion_Feedback  \\\n",
       "0                      2                          1                   1   \n",
       "1                      1                          0                   0   \n",
       "2                      0                         -1                  -1   \n",
       "3                      2                          1                   0   \n",
       "4                      1                          1                   1   \n",
       "\n",
       "   Competitive_Factors  External_Factors  Customer_Satisfaction_Score  \\\n",
       "0                    0                 0                            9   \n",
       "1                    1                 1                            7   \n",
       "2                    2                 2                            5   \n",
       "3                    1                 0                            8   \n",
       "4                    0                 0                            9   \n",
       "\n",
       "   Cancellation_Probability  Test_Drive_Status  Preferred_Delivery_Time  \\\n",
       "0                         0                  1                        0   \n",
       "1                         1                  0                        1   \n",
       "2                         2                  1                        2   \n",
       "3                         1                  1                        0   \n",
       "4                         0                  0                        1   \n",
       "\n",
       "   bciindex  isMale  isStockAvailable  isOnDeliveryDate  isUndecidedFinances  \\\n",
       "0         1       1                 1                 1                    0   \n",
       "1         0       0                 0                 0                    0   \n",
       "2         0       1                 1                 1                    1   \n",
       "3         0       0                 0                 0                    1   \n",
       "4         0       1                 1                 1                    0   \n",
       "\n",
       "   isFirstTimeBuyer  Finances_Status_Approved Loans  \\\n",
       "0                 1                             1.0   \n",
       "1                 0                             0.0   \n",
       "2                 1                             0.0   \n",
       "3                 1                             0.0   \n",
       "4                 0                             0.0   \n",
       "\n",
       "   Finances_Status_Cash Purchase  Finances_Status_Pending Loans  \\\n",
       "0                            0.0                            0.0   \n",
       "1                            1.0                            0.0   \n",
       "2                            0.0                            1.0   \n",
       "3                            0.0                            0.0   \n",
       "4                            1.0                            0.0   \n",
       "\n",
       "   Finances_Status_Undecided  Vehicle_Type_Hatchback  Vehicle_Type_SUV  \\\n",
       "0                        0.0                     0.0               1.0   \n",
       "1                        0.0                     0.0               0.0   \n",
       "2                        0.0                     1.0               0.0   \n",
       "3                        1.0                     0.0               1.0   \n",
       "4                        0.0                     0.0               0.0   \n",
       "\n",
       "   Vehicle_Type_Sedan  \n",
       "0                 0.0  \n",
       "1                 1.0  \n",
       "2                 0.0  \n",
       "3                 0.0  \n",
       "4                 1.0  "
      ]
     },
     "execution_count": 13,
     "metadata": {},
     "output_type": "execute_result"
    }
   ],
   "source": [
    "pd.set_option('display.max_columns', None)\n",
    "df.head()"
   ]
  },
  {
   "cell_type": "code",
   "execution_count": 14,
   "metadata": {},
   "outputs": [
    {
     "name": "stdout",
     "output_type": "stream",
     "text": [
      "{'Experience_With_Sales_Rep', 'Down_Payment', 'Finances_Status_Cash Purchase', 'Customer_Satisfaction_Score', 'Cancellation_Probability', 'isUndecidedFinances'}\n"
     ]
    }
   ],
   "source": [
    "df.to_csv('BCIchanges.csv', index=False)\n",
    "def correlation(dataset, threshold):\n",
    "  col_corr = set()\n",
    "  corr_matrix = dataset.corr()\n",
    "  for i in range(len(corr_matrix.columns)):\n",
    "    for j in range(i):\n",
    "      if abs(corr_matrix.iloc[i, j]) > threshold:\n",
    "        colname = corr_matrix.columns[i]\n",
    "        col_corr.add(colname)\n",
    "  return col_corr\n",
    "\n",
    "corr_features = correlation(df, 0.8)\n",
    "print(corr_features)"
   ]
  },
  {
   "cell_type": "code",
   "execution_count": 15,
   "metadata": {},
   "outputs": [],
   "source": [
    "# After looking at correlation, dropping the columns\n",
    "# df = df.drop(['Experience_With_Sales_Rep', 'Cancellation_Probability'], axis=1)"
   ]
  },
  {
   "cell_type": "code",
   "execution_count": 16,
   "metadata": {},
   "outputs": [],
   "source": [
    "from sklearn.model_selection import train_test_split\n",
    "from imblearn.over_sampling import SMOTE\n",
    "\n",
    "X = df.drop('bciindex', axis=1)\n",
    "y = df['bciindex']\n",
    "X_resampled, y_resampled = SMOTE(k_neighbors=3).fit_resample(X, y)\n",
    "X_train, X_test, y_train, y_test = train_test_split(X_resampled, y_resampled, test_size=0.2, random_state=42)"
   ]
  },
  {
   "cell_type": "code",
   "execution_count": 17,
   "metadata": {},
   "outputs": [
    {
     "name": "stdout",
     "output_type": "stream",
     "text": [
      "Coefficients:\n",
      "                                 Coefficient\n",
      "Lead_Source                        0.067111\n",
      "Age                               -0.952841\n",
      "Income                            -0.000022\n",
      "OEM_Loyalty_Program                0.159672\n",
      "CIBIL_Score                        0.059414\n",
      "Down_Payment                       0.000077\n",
      "Special_Occasions                  0.028207\n",
      "Booking_Lead_Time                 -0.529322\n",
      "Needs_Match                        0.087357\n",
      "Add_Ons                            0.029401\n",
      "Dealership_Engagement              0.124411\n",
      "Experience_With_Sales_Rep          0.084425\n",
      "Companion_Feedback                 0.112164\n",
      "Competitive_Factors               -0.161073\n",
      "External_Factors                  -0.088042\n",
      "Customer_Satisfaction_Score        0.069646\n",
      "Cancellation_Probability          -0.097253\n",
      "Test_Drive_Status                  0.046663\n",
      "Preferred_Delivery_Time           -0.140161\n",
      "isMale                             0.092299\n",
      "isStockAvailable                   0.024242\n",
      "isOnDeliveryDate                   0.059672\n",
      "isUndecidedFinances               -0.055581\n",
      "isFirstTimeBuyer                   0.045604\n",
      "Finances_Status_Approved Loans     0.135132\n",
      "Finances_Status_Cash Purchase     -0.049582\n",
      "Finances_Status_Pending Loans     -0.006293\n",
      "Finances_Status_Undecided         -0.088021\n",
      "Vehicle_Type_Hatchback            -0.005125\n",
      "Vehicle_Type_SUV                   0.079947\n",
      "Vehicle_Type_Sedan                -0.083585\n",
      "Intercept: [-0.00924985]\n"
     ]
    },
    {
     "name": "stderr",
     "output_type": "stream",
     "text": [
      "c:\\Users\\mukulkathuria\\Documents\\mlprac\\driveai\\bciindexanalysis\\bcienv\\Lib\\site-packages\\sklearn\\linear_model\\_logistic.py:465: ConvergenceWarning: lbfgs failed to converge (status=1):\n",
      "STOP: TOTAL NO. of ITERATIONS REACHED LIMIT.\n",
      "\n",
      "Increase the number of iterations (max_iter) or scale the data as shown in:\n",
      "    https://scikit-learn.org/stable/modules/preprocessing.html\n",
      "Please also refer to the documentation for alternative solver options:\n",
      "    https://scikit-learn.org/stable/modules/linear_model.html#logistic-regression\n",
      "  n_iter_i = _check_optimize_result(\n"
     ]
    }
   ],
   "source": [
    "from sklearn.linear_model import LogisticRegression\n",
    "\n",
    "model = LogisticRegression()\n",
    "model.fit(X_train, y_train)\n",
    "\n",
    "coefficients = pd.DataFrame(model.coef_.T, index=X.columns, columns=[\"Coefficient\"])\n",
    "intercept = model.intercept_\n",
    "print(\"Coefficients:\\n\", coefficients)\n",
    "print(\"Intercept:\", intercept)"
   ]
  },
  {
   "cell_type": "code",
   "execution_count": 18,
   "metadata": {},
   "outputs": [
    {
     "name": "stdout",
     "output_type": "stream",
     "text": [
      "Predicted Probabilities: [99.80939267003457, 23.573553041556654, 99.87286519421335, 99.99999891857885, 0.09773091157022701, 0.027135866093571336]\n",
      "Accuracy: 1.0000\n",
      "Precision: 1.0000\n",
      "Recall: 1.0000\n",
      "F1 Score: 1.0000\n",
      "AUC: 1.0000\n",
      "Log Loss: 0.0455\n",
      "Brier Loss: 0.0093\n",
      "Classification Report:                precision    recall  f1-score   support\n",
      "\n",
      "           0       1.00      1.00      1.00         3\n",
      "           1       1.00      1.00      1.00         3\n",
      "\n",
      "    accuracy                           1.00         6\n",
      "   macro avg       1.00      1.00      1.00         6\n",
      "weighted avg       1.00      1.00      1.00         6\n",
      "\n"
     ]
    }
   ],
   "source": [
    "from sklearn.metrics import accuracy_score, classification_report, precision_score, recall_score, f1_score, roc_auc_score, log_loss, brier_score_loss\n",
    "\n",
    "y_pred = model.predict(X_test)\n",
    "y_prob = model.predict_proba(X_test)[:, 1]\n",
    "accuracy = accuracy_score(y_test, y_pred)\n",
    "precision = precision_score(y_test, y_pred)\n",
    "recall = recall_score(y_test, y_pred)\n",
    "f1 = f1_score(y_test, y_pred)\n",
    "auc = roc_auc_score(y_test, y_prob)\n",
    "logloss = log_loss(y_test, y_prob)\n",
    "brierloss = brier_score_loss(y_test, y_prob)\n",
    "classreport = classification_report(y_test, y_pred)\n",
    "\n",
    "probs = [float(value) * 100 for value in y_prob]\n",
    "print(f\"Predicted Probabilities: {probs}\")\n",
    "print(f\"Accuracy: {accuracy:.4f}\")\n",
    "print(f\"Precision: {precision:.4f}\")\n",
    "print(f\"Recall: {recall:.4f}\")\n",
    "print(f\"F1 Score: {f1:.4f}\")\n",
    "print(f\"AUC: {auc:.4f}\")\n",
    "print(f\"Log Loss: {logloss:.4f}\")\n",
    "print(f\"Brier Loss: {brierloss:.4f}\")\n",
    "print(\"Classification Report: \", classreport)"
   ]
  },
  {
   "cell_type": "code",
   "execution_count": 19,
   "metadata": {},
   "outputs": [],
   "source": [
    "# from sklearn.metrics import roc_curve\n",
    "\n",
    "# fpr, tpr, _ = roc_curve(y_test,  y_prob)\n",
    "# auc = roc_auc_score(y_test, y_prob)\n",
    "\n",
    "# #create ROC curve\n",
    "# plt.plot(fpr,tpr,label=\"AUC=\"+str(auc))\n",
    "# plt.legend(loc=4)\n",
    "# plt.show()"
   ]
  },
  {
   "cell_type": "code",
   "execution_count": 20,
   "metadata": {},
   "outputs": [
    {
     "data": {
      "image/png": "[encoded data removed]",
      "text/plain": [
       "<Figure size 1000x600 with 1 Axes>"
      ]
     },
     "metadata": {},
     "output_type": "display_data"
    }
   ],
   "source": [
    "# import shap\n",
    "\n",
    "# explainer = shap.LinearExplainer(model, X_train)\n",
    "# shap_values = explainer.shap_values(X_test)\n",
    "# shap.summary_plot(shap_values, X_test, plot_type=\"bar\")\n",
    "coefficients = model.coef_[0]\n",
    "\n",
    "feature_names = X.columns\n",
    "\n",
    "# Plot the coefficients\n",
    "plt.figure(figsize=(10, 6))\n",
    "plt.barh(feature_names, coefficients, color='lightblue')\n",
    "plt.xlabel('Coefficient Value')\n",
    "plt.title('Logistic Regression Coefficients')\n",
    "plt.yticks(fontsize=6)\n",
    "plt.show()"
   ]
  },
  {
   "cell_type": "code",
   "execution_count": 21,
   "metadata": {},
   "outputs": [
    {
     "name": "stdout",
     "output_type": "stream",
     "text": [
      "[1 0 1 0 0 0]\n"
     ]
    }
   ],
   "source": [
    "from sklearn.naive_bayes import BernoulliNB\n",
    "\n",
    "bernaulliNB_model = BernoulliNB()\n",
    "bernaulliNB_model.fit(X_train, y_train)\n",
    "print(bernaulliNB_model.predict(X_test))"
   ]
  },
  {
   "cell_type": "code",
   "execution_count": 22,
   "metadata": {},
   "outputs": [
    {
     "name": "stdout",
     "output_type": "stream",
     "text": [
      "Predicted Probabilities: [99.99997349884748, 0.012959901407920115, 99.99999036321559, 47.01393684233481, 39.58179099310456, 0.010282511159033364]\n",
      "Accuracy: 0.8333\n",
      "Precision: 1.0000\n",
      "Recall: 0.6667\n",
      "F1 Score: 0.8000\n",
      "AUC: 1.0000\n",
      "Log Loss: 0.2098\n",
      "Brier Loss: 0.0729\n",
      "Classification Report:                precision    recall  f1-score   support\n",
      "\n",
      "           0       0.75      1.00      0.86         3\n",
      "           1       1.00      0.67      0.80         3\n",
      "\n",
      "    accuracy                           0.83         6\n",
      "   macro avg       0.88      0.83      0.83         6\n",
      "weighted avg       0.88      0.83      0.83         6\n",
      "\n"
     ]
    }
   ],
   "source": [
    "y_pred = bernaulliNB_model.predict(X_test)\n",
    "y_prob = bernaulliNB_model.predict_proba(X_test)[:, 1]\n",
    "accuracy = accuracy_score(y_test, y_pred)\n",
    "precision = precision_score(y_test, y_pred)\n",
    "recall = recall_score(y_test, y_pred)\n",
    "f1 = f1_score(y_test, y_pred)\n",
    "auc = roc_auc_score(y_test, y_prob)\n",
    "logloss = log_loss(y_test, y_prob)\n",
    "brierloss = brier_score_loss(y_test, y_prob)\n",
    "classreport = classification_report(y_test, y_pred)\n",
    "\n",
    "probs = [float(value) * 100 for value in y_prob]\n",
    "print(f\"Predicted Probabilities: {probs}\")\n",
    "print(f\"Accuracy: {accuracy:.4f}\")\n",
    "print(f\"Precision: {precision:.4f}\")\n",
    "print(f\"Recall: {recall:.4f}\")\n",
    "print(f\"F1 Score: {f1:.4f}\")\n",
    "print(f\"AUC: {auc:.4f}\")\n",
    "print(f\"Log Loss: {logloss:.4f}\")\n",
    "print(f\"Brier Loss: {brierloss:.4f}\")\n",
    "print(\"Classification Report: \", classreport)"
   ]
  },
  {
   "cell_type": "code",
   "execution_count": 23,
   "metadata": {},
   "outputs": [
    {
     "name": "stdout",
     "output_type": "stream",
     "text": [
      "Top 10 Negative Class Features and their Log-Probabilities:\n",
      "Feature: Booking_Lead_Time, Log-Probability: -0.07410797215372167\n",
      "Feature: CIBIL_Score, Log-Probability: -0.07410797215372167\n",
      "Feature: Income, Log-Probability: -0.07410797215372167\n",
      "Feature: Age, Log-Probability: -0.07410797215372167\n",
      "Feature: Down_Payment, Log-Probability: -0.07410797215372167\n",
      "Feature: Add_Ons, Log-Probability: -0.07410797215372167\n",
      "Feature: Customer_Satisfaction_Score, Log-Probability: -0.07410797215372167\n",
      "Feature: Needs_Match, Log-Probability: -0.24116205681688774\n",
      "Feature: Competitive_Factors, Log-Probability: -0.24116205681688774\n",
      "Feature: Preferred_Delivery_Time, Log-Probability: -0.3364722366212125\n",
      "\n",
      "Top 10 Positive Class Features and their Log-Probabilities:\n",
      "Feature: Finances_Status_Approved Loans, Log-Probability: -0.07410797215372167\n",
      "Feature: isOnDeliveryDate, Log-Probability: -0.07410797215372167\n",
      "Feature: isFirstTimeBuyer, Log-Probability: -0.07410797215372167\n",
      "Feature: Test_Drive_Status, Log-Probability: -0.07410797215372167\n",
      "Feature: Down_Payment, Log-Probability: -0.07410797215372167\n",
      "Feature: Income, Log-Probability: -0.07410797215372167\n",
      "Feature: OEM_Loyalty_Program, Log-Probability: -0.07410797215372167\n",
      "Feature: Booking_Lead_Time, Log-Probability: -0.07410797215372167\n",
      "Feature: Special_Occasions, Log-Probability: -0.07410797215372167\n",
      "Feature: Needs_Match, Log-Probability: -0.07410797215372167\n"
     ]
    }
   ],
   "source": [
    "neg_class_prob_sorted = bernaulliNB_model.feature_log_prob_[0, :].argsort()[::-1]\n",
    "pos_class_prob_sorted = bernaulliNB_model.feature_log_prob_[1, :].argsort()[::-1]\n",
    "\n",
    "top_10_neg_class_features = neg_class_prob_sorted[:10]\n",
    "top_10_pos_class_features = pos_class_prob_sorted[:10]\n",
    "\n",
    "neg_class_feature_names = X_train.columns[top_10_neg_class_features]\n",
    "pos_class_feature_names = X_train.columns[top_10_pos_class_features]\n",
    "\n",
    "print(\"Top 10 Negative Class Features and their Log-Probabilities:\")\n",
    "for feature, log_prob in zip(neg_class_feature_names, bernaulliNB_model.feature_log_prob_[0, top_10_neg_class_features]):\n",
    "    print(f\"Feature: {feature}, Log-Probability: {log_prob}\")\n",
    "\n",
    "print(\"\\nTop 10 Positive Class Features and their Log-Probabilities:\")\n",
    "for feature, log_prob in zip(pos_class_feature_names, bernaulliNB_model.feature_log_prob_[1, top_10_pos_class_features]):\n",
    "    print(f\"Feature: {feature}, Log-Probability: {log_prob}\")"
   ]
  },
  {
   "cell_type": "markdown",
   "metadata": {},
   "source": [
    "## Gausian Naive Bayes Model"
   ]
  },
  {
   "cell_type": "code",
   "execution_count": 24,
   "metadata": {},
   "outputs": [
    {
     "name": "stdout",
     "output_type": "stream",
     "text": [
      "[1 0 1 0 0 1]\n"
     ]
    }
   ],
   "source": [
    "from sklearn.naive_bayes import GaussianNB\n",
    "\n",
    "GaussianNB_model = GaussianNB()\n",
    "GaussianNB_model.fit(X_train, y_train)\n",
    "print(GaussianNB_model.predict(X_test))"
   ]
  },
  {
   "cell_type": "code",
   "execution_count": 25,
   "metadata": {},
   "outputs": [
    {
     "name": "stdout",
     "output_type": "stream",
     "text": [
      "Predicted Probabilities: [94.47321329444853, 28.187189132174908, 88.10852273341962, 1.144339818233917, 47.302892576210894, 81.31222968692984]\n",
      "Accuracy: 0.6667\n",
      "Precision: 0.6667\n",
      "Recall: 0.6667\n",
      "F1 Score: 0.6667\n",
      "AUC: 0.6667\n",
      "Log Loss: 1.2171\n",
      "Brier Loss: 0.3265\n",
      "Classification Report:                precision    recall  f1-score   support\n",
      "\n",
      "           0       0.67      0.67      0.67         3\n",
      "           1       0.67      0.67      0.67         3\n",
      "\n",
      "    accuracy                           0.67         6\n",
      "   macro avg       0.67      0.67      0.67         6\n",
      "weighted avg       0.67      0.67      0.67         6\n",
      "\n"
     ]
    }
   ],
   "source": [
    "y_pred = GaussianNB_model.predict(X_test)\n",
    "y_prob = GaussianNB_model.predict_proba(X_test)[:, 1]\n",
    "accuracy = accuracy_score(y_test, y_pred)\n",
    "precision = precision_score(y_test, y_pred)\n",
    "recall = recall_score(y_test, y_pred)\n",
    "f1 = f1_score(y_test, y_pred)\n",
    "auc = roc_auc_score(y_test, y_prob)\n",
    "logloss = log_loss(y_test, y_prob)\n",
    "brierloss = brier_score_loss(y_test, y_prob)\n",
    "classreport = classification_report(y_test, y_pred)\n",
    "\n",
    "probs = [float(value) * 100 for value in y_prob]\n",
    "print(f\"Predicted Probabilities: {probs}\")\n",
    "print(f\"Accuracy: {accuracy:.4f}\")\n",
    "print(f\"Precision: {precision:.4f}\")\n",
    "print(f\"Recall: {recall:.4f}\")\n",
    "print(f\"F1 Score: {f1:.4f}\")\n",
    "print(f\"AUC: {auc:.4f}\")\n",
    "print(f\"Log Loss: {logloss:.4f}\")\n",
    "print(f\"Brier Loss: {brierloss:.4f}\")\n",
    "print(\"Classification Report: \", classreport)"
   ]
  },
  {
   "cell_type": "code",
   "execution_count": 26,
   "metadata": {},
   "outputs": [
    {
     "name": "stdout",
     "output_type": "stream",
     "text": [
      "Preparation of a new explainer is initiated\n",
      "\n",
      "  -> data              : 20 rows 31 cols\n",
      "  -> target variable   : Parameter 'y' was a pandas.Series. Converted to a numpy.ndarray.\n",
      "  -> target variable   : 20 values\n",
      "  -> model_class       : sklearn.linear_model._logistic.LogisticRegression (default)\n",
      "  -> label             : Not specified, model's class short name will be used. (default)\n",
      "  -> predict function  : <function yhat_proba_default at 0x000002A854322700> will be used (default)\n",
      "  -> predict function  : Accepts pandas.DataFrame and numpy.ndarray.\n",
      "  -> predicted values  : min = 1.85e-14, mean = 0.267, max = 1.0\n",
      "  -> model type        : classification will be used (default)\n",
      "  -> residual function : difference between y and yhat (default)\n",
      "  -> residuals         : min = -0.472, mean = -0.0167, max = 0.363\n",
      "  -> model_info        : package sklearn\n",
      "\n",
      "A new explainer has been created!\n"
     ]
    },
    {
     "data": {
      "application/vnd.plotly.v1+json": {
       "config": {
        "displaylogo": false,
        "modeBarButtonsToRemove": [
         "sendDataToCloud",
         "lasso2d",
         "autoScale2d",
         "select2d",
         "zoom2d",
         "pan2d",
         "zoomIn2d",
         "zoomOut2d",
         "resetScale2d",
         "toggleSpikelines",
         "hoverCompareCartesian",
         "hoverClosestCartesian"
        ],
        "plotlyServerURL": "https://plot.ly",
        "staticPlot": false,
        "toImageButtonOptions": {
         "height": null,
         "width": null
        }
       },
       "data": [
        {
         "base": 0.26674552850178335,
         "connector": {
          "line": {
           "color": "#371ea3",
           "dash": "solid",
           "width": 1
          },
          "mode": "spanning"
         },
         "decreasing": {
          "marker": {
           "color": "#f05a71"
          }
         },
         "hoverinfo": "text+delta",
         "hoverlabel": {
          "bgcolor": "rgba(0,0,0,0.8)"
         },
         "hovertext": [
          "Average response: 0.267<br>Prediction: 0.637",
          "Age = 28.0<br>increases average response by",
          "Booking_Lead_Time = 15.0<br>increases average response by",
          "Income = 1200000.0<br>decreases average response by",
          "CIBIL_Score = 750.0<br>decreases average response by",
          "Down_Payment = 200000.0<br>decreases average response by",
          "Competitive_Factors = 0.0<br>increases average response by",
          "Preferred_Delivery_Time = 0.0<br>increases average response by",
          "OEM_Loyalty_Program = 1.0<br>increases average response by",
          "Customer_Satisfaction_Score = 9.0<br>increases average response by",
          "External_Factors = 0.0<br>increases average response by",
          "+ all other factors<br>increases average response by",
          "Average response: 0.267<br>Prediction: 0.637"
         ],
         "increasing": {
          "marker": {
           "color": "#8bdcbe"
          }
         },
         "measure": [
          "relative",
          "relative",
          "relative",
          "relative",
          "relative",
          "relative",
          "relative",
          "relative",
          "relative",
          "relative",
          "relative",
          "relative",
          "total"
         ],
         "orientation": "h",
         "showlegend": false,
         "text": [
          "0.267",
          "+0.257",
          "+0.071",
          "-0.071",
          "-0.001",
          "-0.162",
          "+0.026",
          "+0.026",
          "+0.018",
          "+0.02",
          "+0.018",
          "+0.168",
          "0.637"
         ],
         "textposition": "outside",
         "totals": {
          "marker": {
           "color": "#371ea3"
          }
         },
         "type": "waterfall",
         "x": [
          0,
          0.257,
          0.071,
          -0.071,
          -0.001,
          -0.162,
          0.026,
          0.026,
          0.018,
          0.02,
          0.018,
          0.168,
          0.37
         ],
         "xaxis": "x",
         "y": [
          "intercept",
          "Age = 28.0",
          "Booking_Lead_Time = 15.0",
          "Income = 1200000.0",
          "CIBIL_Score = 750.0",
          "Down_Payment = 200000.0",
          "Competitive_Factors = 0.0",
          "Preferred_Delivery_Time = 0.0",
          "OEM_Loyalty_Program = 1.0",
          "Customer_Satisfaction_Score = 9.0",
          "External_Factors = 0.0",
          "+ all other factors",
          "prediction"
         ],
         "yaxis": "y"
        }
       ],
       "layout": {
        "annotations": [
         {
          "font": {
           "size": 16
          },
          "showarrow": false,
          "text": "LogisticRegression",
          "x": 0.5,
          "xanchor": "center",
          "xref": "paper",
          "y": 1,
          "yanchor": "bottom",
          "yref": "paper"
         },
         {
          "font": {
           "size": 16
          },
          "showarrow": false,
          "text": "contribution",
          "x": 0.5,
          "xanchor": "center",
          "xref": "paper",
          "y": 0,
          "yanchor": "top",
          "yref": "paper",
          "yshift": -30
         }
        ],
        "font": {
         "color": "#371ea3"
        },
        "height": 413,
        "margin": {
         "b": 71,
         "r": 30,
         "t": 78
        },
        "shapes": [
         {
          "line": {
           "color": "#371ea3",
           "dash": "dot",
           "width": 1.5
          },
          "type": "line",
          "x0": 0.26674552850178335,
          "x1": 0.26674552850178335,
          "xref": "x",
          "y0": -1,
          "y1": 13,
          "yref": "y"
         }
        ],
        "template": {
         "data": {
          "scatter": [
           {
            "type": "scatter"
           }
          ]
         }
        },
        "title": {
         "text": "Aditi Joshi",
         "x": 0.15
        },
        "xaxis": {
         "anchor": "y",
         "automargin": true,
         "domain": [
          0,
          1
         ],
         "fixedrange": true,
         "gridwidth": 2,
         "range": [
          0.21150000000000002,
          0.6925
         ],
         "tickcolor": "white",
         "ticklen": 3,
         "ticks": "outside",
         "type": "linear",
         "zeroline": false
        },
        "yaxis": {
         "anchor": "x",
         "automargin": true,
         "autorange": "reversed",
         "domain": [
          0,
          1
         ],
         "fixedrange": true,
         "gridwidth": 2,
         "tickcolor": "white",
         "ticklen": 10,
         "ticks": "outside",
         "type": "category"
        }
       }
      }
     },
     "metadata": {},
     "output_type": "display_data"
    },
    {
     "data": {
      "application/vnd.plotly.v1+json": {
       "config": {
        "displaylogo": false,
        "modeBarButtonsToRemove": [
         "sendDataToCloud",
         "lasso2d",
         "autoScale2d",
         "select2d",
         "zoom2d",
         "pan2d",
         "zoomIn2d",
         "zoomOut2d",
         "resetScale2d",
         "toggleSpikelines",
         "hoverCompareCartesian",
         "hoverClosestCartesian"
        ],
        "plotlyServerURL": "https://plot.ly",
        "staticPlot": false,
        "toImageButtonOptions": {
         "height": null,
         "width": null
        }
       },
       "data": [
        {
         "base": 0.26674552850178335,
         "connector": {
          "line": {
           "color": "#371ea3",
           "dash": "solid",
           "width": 1
          },
          "mode": "spanning"
         },
         "decreasing": {
          "marker": {
           "color": "#f05a71"
          }
         },
         "hoverinfo": "text+delta",
         "hoverlabel": {
          "bgcolor": "rgba(0,0,0,0.8)"
         },
         "hovertext": [
          "Average response: 0.267<br>Prediction: 0.034",
          "Down_Payment = 500000.0<br>increases average response by",
          "CIBIL_Score = 800.0<br>increases average response by",
          "isUndecidedFinances = 0.0<br>decreases average response by",
          "Special_Occasions = 2.0<br>increases average response by",
          "Finances_Status_Undecided = 0.0<br>decreases average response by",
          "Finances_Status_Pending Loans = 0.0<br>decreases average response by",
          "Vehicle_Type_Hatchback = 0.0<br>decreases average response by",
          "Add_Ons = 1.0<br>decreases average response by",
          "isStockAvailable = 0.0<br>decreases average response by",
          "External_Factors = 1.0<br>increases average response by",
          "+ all other factors<br>decreases average response by",
          "Average response: 0.267<br>Prediction: 0.034"
         ],
         "increasing": {
          "marker": {
           "color": "#8bdcbe"
          }
         },
         "measure": [
          "relative",
          "relative",
          "relative",
          "relative",
          "relative",
          "relative",
          "relative",
          "relative",
          "relative",
          "relative",
          "relative",
          "relative",
          "total"
         ],
         "orientation": "h",
         "showlegend": false,
         "text": [
          "0.267",
          "+0.44",
          "+0.043",
          "0.0",
          "+0.001",
          "0.0",
          "0.0",
          "0.0",
          "-0.0",
          "-0.001",
          "+0.001",
          "-0.717",
          "0.034"
         ],
         "textposition": "outside",
         "totals": {
          "marker": {
           "color": "#371ea3"
          }
         },
         "type": "waterfall",
         "x": [
          0,
          0.44,
          0.043,
          0,
          0.001,
          0,
          0,
          0,
          0,
          -0.001,
          0.001,
          -0.717,
          -0.233
         ],
         "xaxis": "x",
         "y": [
          "intercept",
          "Down_Payment = 500000.0",
          "CIBIL_Score = 800.0",
          "isUndecidedFinances = 0.0",
          "Special_Occasions = 2.0",
          "Finances_Status_Undecided = 0.0",
          "Finances_Status_Pending Loans = 0.0",
          "Vehicle_Type_Hatchback = 0.0",
          "Add_Ons = 1.0",
          "isStockAvailable = 0.0",
          "External_Factors = 1.0",
          "+ all other factors",
          "prediction"
         ],
         "yaxis": "y"
        }
       ],
       "layout": {
        "annotations": [
         {
          "font": {
           "size": 16
          },
          "showarrow": false,
          "text": "LogisticRegression",
          "x": 0.5,
          "xanchor": "center",
          "xref": "paper",
          "y": 1,
          "yanchor": "bottom",
          "yref": "paper"
         },
         {
          "font": {
           "size": 16
          },
          "showarrow": false,
          "text": "contribution",
          "x": 0.5,
          "xanchor": "center",
          "xref": "paper",
          "y": 0,
          "yanchor": "top",
          "yref": "paper",
          "yshift": -30
         }
        ],
        "font": {
         "color": "#371ea3"
        },
        "height": 413,
        "margin": {
         "b": 71,
         "r": 30,
         "t": 78
        },
        "shapes": [
         {
          "line": {
           "color": "#371ea3",
           "dash": "dot",
           "width": 1.5
          },
          "type": "line",
          "x0": 0.26674552850178335,
          "x1": 0.26674552850178335,
          "xref": "x",
          "y0": -1,
          "y1": 13,
          "yref": "y"
         }
        ],
        "template": {
         "data": {
          "scatter": [
           {
            "type": "scatter"
           }
          ]
         }
        },
        "title": {
         "text": "Rajesh Kumar",
         "x": 0.15
        },
        "xaxis": {
         "anchor": "y",
         "automargin": true,
         "domain": [
          0,
          1
         ],
         "fixedrange": true,
         "gridwidth": 2,
         "range": [
          -0.07354999999999999,
          0.85855
         ],
         "tickcolor": "white",
         "ticklen": 3,
         "ticks": "outside",
         "type": "linear",
         "zeroline": false
        },
        "yaxis": {
         "anchor": "x",
         "automargin": true,
         "autorange": "reversed",
         "domain": [
          0,
          1
         ],
         "fixedrange": true,
         "gridwidth": 2,
         "tickcolor": "white",
         "ticklen": 10,
         "ticks": "outside",
         "type": "category"
        }
       }
      }
     },
     "metadata": {},
     "output_type": "display_data"
    },
    {
     "data": {
      "application/vnd.plotly.v1+json": {
       "config": {
        "displaylogo": false,
        "modeBarButtonsToRemove": [
         "sendDataToCloud",
         "lasso2d",
         "autoScale2d",
         "select2d",
         "zoom2d",
         "pan2d",
         "zoomIn2d",
         "zoomOut2d",
         "resetScale2d",
         "toggleSpikelines",
         "hoverCompareCartesian",
         "hoverClosestCartesian"
        ],
        "plotlyServerURL": "https://plot.ly",
        "staticPlot": false,
        "toImageButtonOptions": {
         "height": null,
         "width": null
        }
       },
       "data": [
        {
         "base": 0.26674552850178335,
         "connector": {
          "line": {
           "color": "#371ea3",
           "dash": "solid",
           "width": 1
          },
          "mode": "spanning"
         },
         "decreasing": {
          "marker": {
           "color": "#f05a71"
          }
         },
         "hoverinfo": "text+delta",
         "hoverlabel": {
          "bgcolor": "rgba(0,0,0,0.8)"
         },
         "hovertext": [
          "Average response: 0.267<br>Prediction: 0.0",
          "Booking_Lead_Time = 10.0<br>increases average response by",
          "Lead_Source = 2.0<br>increases average response by",
          "OEM_Loyalty_Program = 1.0<br>increases average response by",
          "isMale = 1.0<br>increases average response by",
          "isOnDeliveryDate = 1.0<br>increases average response by",
          "Vehicle_Type_Sedan = 0.0<br>decreases average response by",
          "Finances_Status_Undecided = 0.0<br>decreases average response by",
          "isStockAvailable = 1.0<br>decreases average response by",
          "Finances_Status_Cash Purchase = 0.0<br>decreases average response by",
          "Test_Drive_Status = 1.0<br>decreases average response by",
          "+ all other factors<br>decreases average response by",
          "Average response: 0.267<br>Prediction: 0.0"
         ],
         "increasing": {
          "marker": {
           "color": "#8bdcbe"
          }
         },
         "measure": [
          "relative",
          "relative",
          "relative",
          "relative",
          "relative",
          "relative",
          "relative",
          "relative",
          "relative",
          "relative",
          "relative",
          "relative",
          "total"
         ],
         "orientation": "h",
         "showlegend": false,
         "text": [
          "0.267",
          "+0.303",
          "+0.001",
          "+0.001",
          "+0.001",
          "+0.001",
          "0.0",
          "0.0",
          "0.0",
          "0.0",
          "0.0",
          "-0.575",
          "0.0"
         ],
         "textposition": "outside",
         "totals": {
          "marker": {
           "color": "#371ea3"
          }
         },
         "type": "waterfall",
         "x": [
          0,
          0.303,
          0.001,
          0.001,
          0.001,
          0.001,
          0,
          0,
          0,
          0,
          0,
          -0.575,
          -0.267
         ],
         "xaxis": "x",
         "y": [
          "intercept",
          "Booking_Lead_Time = 10.0",
          "Lead_Source = 2.0",
          "OEM_Loyalty_Program = 1.0",
          "isMale = 1.0",
          "isOnDeliveryDate = 1.0",
          "Vehicle_Type_Sedan = 0.0",
          "Finances_Status_Undecided = 0.0",
          "isStockAvailable = 1.0",
          "Finances_Status_Cash Purchase = 0.0",
          "Test_Drive_Status = 1.0",
          "+ all other factors",
          "prediction"
         ],
         "yaxis": "y"
        }
       ],
       "layout": {
        "annotations": [
         {
          "font": {
           "size": 16
          },
          "showarrow": false,
          "text": "LogisticRegression",
          "x": 0.5,
          "xanchor": "center",
          "xref": "paper",
          "y": 1,
          "yanchor": "bottom",
          "yref": "paper"
         },
         {
          "font": {
           "size": 16
          },
          "showarrow": false,
          "text": "contribution",
          "x": 0.5,
          "xanchor": "center",
          "xref": "paper",
          "y": 0,
          "yanchor": "top",
          "yref": "paper",
          "yshift": -30
         }
        ],
        "font": {
         "color": "#371ea3"
        },
        "height": 413,
        "margin": {
         "b": 71,
         "r": 30,
         "t": 78
        },
        "shapes": [
         {
          "line": {
           "color": "#371ea3",
           "dash": "dot",
           "width": 1.5
          },
          "type": "line",
          "x0": 0.26674552850178335,
          "x1": 0.26674552850178335,
          "xref": "x",
          "y0": -1,
          "y1": 13,
          "yref": "y"
         }
        ],
        "template": {
         "data": {
          "scatter": [
           {
            "type": "scatter"
           }
          ]
         }
        },
        "title": {
         "text": "Neha Patil",
         "x": 0.15
        },
        "xaxis": {
         "anchor": "y",
         "automargin": true,
         "domain": [
          0,
          1
         ],
         "fixedrange": true,
         "gridwidth": 2,
         "range": [
          -0.08625,
          0.6612499999999999
         ],
         "tickcolor": "white",
         "ticklen": 3,
         "ticks": "outside",
         "type": "linear",
         "zeroline": false
        },
        "yaxis": {
         "anchor": "x",
         "automargin": true,
         "autorange": "reversed",
         "domain": [
          0,
          1
         ],
         "fixedrange": true,
         "gridwidth": 2,
         "tickcolor": "white",
         "ticklen": 10,
         "ticks": "outside",
         "type": "category"
        }
       }
      }
     },
     "metadata": {},
     "output_type": "display_data"
    },
    {
     "data": {
      "application/vnd.plotly.v1+json": {
       "config": {
        "displaylogo": false,
        "modeBarButtonsToRemove": [
         "sendDataToCloud",
         "lasso2d",
         "autoScale2d",
         "select2d",
         "zoom2d",
         "pan2d",
         "zoomIn2d",
         "zoomOut2d",
         "resetScale2d",
         "toggleSpikelines",
         "hoverCompareCartesian",
         "hoverClosestCartesian"
        ],
        "plotlyServerURL": "https://plot.ly",
        "staticPlot": false,
        "toImageButtonOptions": {
         "height": null,
         "width": null
        }
       },
       "data": [
        {
         "base": 0.26674552850178335,
         "connector": {
          "line": {
           "color": "#371ea3",
           "dash": "solid",
           "width": 1
          },
          "mode": "spanning"
         },
         "decreasing": {
          "marker": {
           "color": "#f05a71"
          }
         },
         "hoverinfo": "text+delta",
         "hoverlabel": {
          "bgcolor": "rgba(0,0,0,0.8)"
         },
         "hovertext": [
          "Average response: 0.267<br>Prediction: 0.024",
          "Income = 800000.0<br>increases average response by",
          "Booking_Lead_Time = 7.0<br>increases average response by",
          "Age = 32.0<br>increases average response by",
          "Preferred_Delivery_Time = 0.0<br>increases average response by",
          "External_Factors = 0.0<br>increases average response by",
          "Vehicle_Type_SUV = 1.0<br>increases average response by",
          "Dealership_Engagement = 2.0<br>increases average response by",
          "Lead_Source = 1.0<br>decreases average response by",
          "Vehicle_Type_Sedan = 0.0<br>decreases average response by",
          "Experience_With_Sales_Rep = 1.0<br>increases average response by",
          "+ all other factors<br>decreases average response by",
          "Average response: 0.267<br>Prediction: 0.024"
         ],
         "increasing": {
          "marker": {
           "color": "#8bdcbe"
          }
         },
         "measure": [
          "relative",
          "relative",
          "relative",
          "relative",
          "relative",
          "relative",
          "relative",
          "relative",
          "relative",
          "relative",
          "relative",
          "relative",
          "total"
         ],
         "orientation": "h",
         "showlegend": false,
         "text": [
          "0.267",
          "+0.349",
          "+0.049",
          "+0.154",
          "+0.003",
          "+0.002",
          "+0.001",
          "+0.005",
          "-0.001",
          "0.0",
          "+0.003",
          "-0.808",
          "0.024"
         ],
         "textposition": "outside",
         "totals": {
          "marker": {
           "color": "#371ea3"
          }
         },
         "type": "waterfall",
         "x": [
          0,
          0.349,
          0.049,
          0.154,
          0.003,
          0.002,
          0.001,
          0.005,
          -0.001,
          0,
          0.003,
          -0.808,
          -0.242
         ],
         "xaxis": "x",
         "y": [
          "intercept",
          "Income = 800000.0",
          "Booking_Lead_Time = 7.0",
          "Age = 32.0",
          "Preferred_Delivery_Time = 0.0",
          "External_Factors = 0.0",
          "Vehicle_Type_SUV = 1.0",
          "Dealership_Engagement = 2.0",
          "Lead_Source = 1.0",
          "Vehicle_Type_Sedan = 0.0",
          "Experience_With_Sales_Rep = 1.0",
          "+ all other factors",
          "prediction"
         ],
         "yaxis": "y"
        }
       ],
       "layout": {
        "annotations": [
         {
          "font": {
           "size": 16
          },
          "showarrow": false,
          "text": "LogisticRegression",
          "x": 0.5,
          "xanchor": "center",
          "xref": "paper",
          "y": 1,
          "yanchor": "bottom",
          "yref": "paper"
         },
         {
          "font": {
           "size": 16
          },
          "showarrow": false,
          "text": "contribution",
          "x": 0.5,
          "xanchor": "center",
          "xref": "paper",
          "y": 0,
          "yanchor": "top",
          "yref": "paper",
          "yshift": -30
         }
        ],
        "font": {
         "color": "#371ea3"
        },
        "height": 413,
        "margin": {
         "b": 71,
         "r": 30,
         "t": 78
        },
        "shapes": [
         {
          "line": {
           "color": "#371ea3",
           "dash": "dot",
           "width": 1.5
          },
          "type": "line",
          "x0": 0.26674552850178335,
          "x1": 0.26674552850178335,
          "xref": "x",
          "y0": -1,
          "y1": 13,
          "yref": "y"
         }
        ],
        "template": {
         "data": {
          "scatter": [
           {
            "type": "scatter"
           }
          ]
         }
        },
        "title": {
         "text": "Vishal Reddy",
         "x": 0.15
        },
        "xaxis": {
         "anchor": "y",
         "automargin": true,
         "domain": [
          0,
          1
         ],
         "fixedrange": true,
         "gridwidth": 2,
         "range": [
          -0.09719999999999998,
          0.9531999999999999
         ],
         "tickcolor": "white",
         "ticklen": 3,
         "ticks": "outside",
         "type": "linear",
         "zeroline": false
        },
        "yaxis": {
         "anchor": "x",
         "automargin": true,
         "autorange": "reversed",
         "domain": [
          0,
          1
         ],
         "fixedrange": true,
         "gridwidth": 2,
         "tickcolor": "white",
         "ticklen": 10,
         "ticks": "outside",
         "type": "category"
        }
       }
      }
     },
     "metadata": {},
     "output_type": "display_data"
    },
    {
     "data": {
      "application/vnd.plotly.v1+json": {
       "config": {
        "displaylogo": false,
        "modeBarButtonsToRemove": [
         "sendDataToCloud",
         "lasso2d",
         "autoScale2d",
         "select2d",
         "zoom2d",
         "pan2d",
         "zoomIn2d",
         "zoomOut2d",
         "resetScale2d",
         "toggleSpikelines",
         "hoverCompareCartesian",
         "hoverClosestCartesian"
        ],
        "plotlyServerURL": "https://plot.ly",
        "staticPlot": false,
        "toImageButtonOptions": {
         "height": null,
         "width": null
        }
       },
       "data": [
        {
         "base": 0.26674552850178335,
         "connector": {
          "line": {
           "color": "#371ea3",
           "dash": "solid",
           "width": 1
          },
          "mode": "spanning"
         },
         "decreasing": {
          "marker": {
           "color": "#f05a71"
          }
         },
         "hoverinfo": "text+delta",
         "hoverlabel": {
          "bgcolor": "rgba(0,0,0,0.8)"
         },
         "hovertext": [
          "Average response: 0.267<br>Prediction: 0.0",
          "Down_Payment = 700000.0<br>increases average response by",
          "CIBIL_Score = 850.0<br>decreases average response by",
          "Competitive_Factors = 0.0<br>decreases average response by",
          "OEM_Loyalty_Program = 1.0<br>decreases average response by",
          "Customer_Satisfaction_Score = 9.0<br>decreases average response by",
          "External_Factors = 0.0<br>decreases average response by",
          "Cancellation_Probability = 0.0<br>decreases average response by",
          "isMale = 1.0<br>decreases average response by",
          "Companion_Feedback = 1.0<br>decreases average response by",
          "isUndecidedFinances = 0.0<br>decreases average response by",
          "+ all other factors<br>decreases average response by",
          "Average response: 0.267<br>Prediction: 0.0"
         ],
         "increasing": {
          "marker": {
           "color": "#8bdcbe"
          }
         },
         "measure": [
          "relative",
          "relative",
          "relative",
          "relative",
          "relative",
          "relative",
          "relative",
          "relative",
          "relative",
          "relative",
          "relative",
          "relative",
          "total"
         ],
         "orientation": "h",
         "showlegend": false,
         "text": [
          "0.267",
          "+0.683",
          "0.0",
          "0.0",
          "0.0",
          "0.0",
          "0.0",
          "0.0",
          "0.0",
          "0.0",
          "0.0",
          "-0.95",
          "0.0"
         ],
         "textposition": "outside",
         "totals": {
          "marker": {
           "color": "#371ea3"
          }
         },
         "type": "waterfall",
         "x": [
          0,
          0.683,
          0,
          0,
          0,
          0,
          0,
          0,
          0,
          0,
          0,
          -0.95,
          -0.267
         ],
         "xaxis": "x",
         "y": [
          "intercept",
          "Down_Payment = 700000.0",
          "CIBIL_Score = 850.0",
          "Competitive_Factors = 0.0",
          "OEM_Loyalty_Program = 1.0",
          "Customer_Satisfaction_Score = 9.0",
          "External_Factors = 0.0",
          "Cancellation_Probability = 0.0",
          "isMale = 1.0",
          "Companion_Feedback = 1.0",
          "isUndecidedFinances = 0.0",
          "+ all other factors",
          "prediction"
         ],
         "yaxis": "y"
        }
       ],
       "layout": {
        "annotations": [
         {
          "font": {
           "size": 16
          },
          "showarrow": false,
          "text": "LogisticRegression",
          "x": 0.5,
          "xanchor": "center",
          "xref": "paper",
          "y": 1,
          "yanchor": "bottom",
          "yref": "paper"
         },
         {
          "font": {
           "size": 16
          },
          "showarrow": false,
          "text": "contribution",
          "x": 0.5,
          "xanchor": "center",
          "xref": "paper",
          "y": 0,
          "yanchor": "top",
          "yref": "paper",
          "yshift": -30
         }
        ],
        "font": {
         "color": "#371ea3"
        },
        "height": 413,
        "margin": {
         "b": 71,
         "r": 30,
         "t": 78
        },
        "shapes": [
         {
          "line": {
           "color": "#371ea3",
           "dash": "dot",
           "width": 1.5
          },
          "type": "line",
          "x0": 0.26674552850178335,
          "x1": 0.26674552850178335,
          "xref": "x",
          "y0": -1,
          "y1": 13,
          "yref": "y"
         }
        ],
        "template": {
         "data": {
          "scatter": [
           {
            "type": "scatter"
           }
          ]
         }
        },
        "title": {
         "text": "Kavya Iyer",
         "x": 0.15
        },
        "xaxis": {
         "anchor": "y",
         "automargin": true,
         "domain": [
          0,
          1
         ],
         "fixedrange": true,
         "gridwidth": 2,
         "range": [
          -0.1425,
          1.0925
         ],
         "tickcolor": "white",
         "ticklen": 3,
         "ticks": "outside",
         "type": "linear",
         "zeroline": false
        },
        "yaxis": {
         "anchor": "x",
         "automargin": true,
         "autorange": "reversed",
         "domain": [
          0,
          1
         ],
         "fixedrange": true,
         "gridwidth": 2,
         "tickcolor": "white",
         "ticklen": 10,
         "ticks": "outside",
         "type": "category"
        }
       }
      }
     },
     "metadata": {},
     "output_type": "display_data"
    },
    {
     "data": {
      "application/vnd.plotly.v1+json": {
       "config": {
        "displaylogo": false,
        "modeBarButtonsToRemove": [
         "sendDataToCloud",
         "lasso2d",
         "autoScale2d",
         "select2d",
         "zoom2d",
         "pan2d",
         "zoomIn2d",
         "zoomOut2d",
         "resetScale2d",
         "toggleSpikelines",
         "hoverCompareCartesian",
         "hoverClosestCartesian"
        ],
        "plotlyServerURL": "https://plot.ly",
        "staticPlot": false,
        "toImageButtonOptions": {
         "height": null,
         "width": null
        }
       },
       "data": [
        {
         "base": 0.26674552850178335,
         "connector": {
          "line": {
           "color": "#371ea3",
           "dash": "solid",
           "width": 1
          },
          "mode": "spanning"
         },
         "decreasing": {
          "marker": {
           "color": "#f05a71"
          }
         },
         "hoverinfo": "text+delta",
         "hoverlabel": {
          "bgcolor": "rgba(0,0,0,0.8)"
         },
         "hovertext": [
          "Average response: 0.267<br>Prediction: 1.0",
          "Income = 950000.0<br>increases average response by",
          "Age = 29.0<br>increases average response by",
          "CIBIL_Score = 780.0<br>increases average response by",
          "Down_Payment = 250000.0<br>increases average response by",
          "Booking_Lead_Time = 20.0<br>increases average response by",
          "Preferred_Delivery_Time = 0.0<br>decreases average response by",
          "OEM_Loyalty_Program = 1.0<br>decreases average response by",
          "Finances_Status_Approved Loans = 1.0<br>decreases average response by",
          "Cancellation_Probability = 0.0<br>decreases average response by",
          "Companion_Feedback = 1.0<br>decreases average response by",
          "+ all other factors<br>decreases average response by",
          "Average response: 0.267<br>Prediction: 1.0"
         ],
         "increasing": {
          "marker": {
           "color": "#8bdcbe"
          }
         },
         "measure": [
          "relative",
          "relative",
          "relative",
          "relative",
          "relative",
          "relative",
          "relative",
          "relative",
          "relative",
          "relative",
          "relative",
          "relative",
          "total"
         ],
         "orientation": "h",
         "showlegend": false,
         "text": [
          "0.267",
          "+0.273",
          "+0.115",
          "+0.152",
          "+0.043",
          "+0.149",
          "0.0",
          "0.0",
          "0.0",
          "0.0",
          "0.0",
          "0.0",
          "1.0"
         ],
         "textposition": "outside",
         "totals": {
          "marker": {
           "color": "#371ea3"
          }
         },
         "type": "waterfall",
         "x": [
          0,
          0.273,
          0.115,
          0.152,
          0.043,
          0.149,
          0,
          0,
          0,
          0,
          0,
          0,
          0.733
         ],
         "xaxis": "x",
         "y": [
          "intercept",
          "Income = 950000.0",
          "Age = 29.0",
          "CIBIL_Score = 780.0",
          "Down_Payment = 250000.0",
          "Booking_Lead_Time = 20.0",
          "Preferred_Delivery_Time = 0.0",
          "OEM_Loyalty_Program = 1.0",
          "Finances_Status_Approved Loans = 1.0",
          "Cancellation_Probability = 0.0",
          "Companion_Feedback = 1.0",
          "+ all other factors",
          "prediction"
         ],
         "yaxis": "y"
        }
       ],
       "layout": {
        "annotations": [
         {
          "font": {
           "size": 16
          },
          "showarrow": false,
          "text": "LogisticRegression",
          "x": 0.5,
          "xanchor": "center",
          "xref": "paper",
          "y": 1,
          "yanchor": "bottom",
          "yref": "paper"
         },
         {
          "font": {
           "size": 16
          },
          "showarrow": false,
          "text": "contribution",
          "x": 0.5,
          "xanchor": "center",
          "xref": "paper",
          "y": 0,
          "yanchor": "top",
          "yref": "paper",
          "yshift": -30
         }
        ],
        "font": {
         "color": "#371ea3"
        },
        "height": 413,
        "margin": {
         "b": 71,
         "r": 30,
         "t": 78
        },
        "shapes": [
         {
          "line": {
           "color": "#371ea3",
           "dash": "dot",
           "width": 1.5
          },
          "type": "line",
          "x0": 0.26674552850178335,
          "x1": 0.26674552850178335,
          "xref": "x",
          "y0": -1,
          "y1": 13,
          "yref": "y"
         }
        ],
        "template": {
         "data": {
          "scatter": [
           {
            "type": "scatter"
           }
          ]
         }
        },
        "title": {
         "text": "Arjun Malhotra",
         "x": 0.15
        },
        "xaxis": {
         "anchor": "y",
         "automargin": true,
         "domain": [
          0,
          1
         ],
         "fixedrange": true,
         "gridwidth": 2,
         "range": [
          0.15705000000000002,
          1.10995
         ],
         "tickcolor": "white",
         "ticklen": 3,
         "ticks": "outside",
         "type": "linear",
         "zeroline": false
        },
        "yaxis": {
         "anchor": "x",
         "automargin": true,
         "autorange": "reversed",
         "domain": [
          0,
          1
         ],
         "fixedrange": true,
         "gridwidth": 2,
         "tickcolor": "white",
         "ticklen": 10,
         "ticks": "outside",
         "type": "category"
        }
       }
      }
     },
     "metadata": {},
     "output_type": "display_data"
    },
    {
     "data": {
      "application/vnd.plotly.v1+json": {
       "config": {
        "displaylogo": false,
        "modeBarButtonsToRemove": [
         "sendDataToCloud",
         "lasso2d",
         "autoScale2d",
         "select2d",
         "zoom2d",
         "pan2d",
         "zoomIn2d",
         "zoomOut2d",
         "resetScale2d",
         "toggleSpikelines",
         "hoverCompareCartesian",
         "hoverClosestCartesian"
        ],
        "plotlyServerURL": "https://plot.ly",
        "staticPlot": false,
        "toImageButtonOptions": {
         "height": null,
         "width": null
        }
       },
       "data": [
        {
         "base": 0.26674552850178335,
         "connector": {
          "line": {
           "color": "#371ea3",
           "dash": "solid",
           "width": 1
          },
          "mode": "spanning"
         },
         "decreasing": {
          "marker": {
           "color": "#f05a71"
          }
         },
         "hoverinfo": "text+delta",
         "hoverlabel": {
          "bgcolor": "rgba(0,0,0,0.8)"
         },
         "hovertext": [
          "Average response: 0.267<br>Prediction: 0.0",
          "Income = 1300000.0<br>increases average response by",
          "Lead_Source = 2.0<br>increases average response by",
          "isMale = 1.0<br>increases average response by",
          "Vehicle_Type_SUV = 1.0<br>increases average response by",
          "Vehicle_Type_Sedan = 0.0<br>decreases average response by",
          "Finances_Status_Undecided = 0.0<br>decreases average response by",
          "Finances_Status_Cash Purchase = 0.0<br>decreases average response by",
          "Test_Drive_Status = 1.0<br>decreases average response by",
          "Vehicle_Type_Hatchback = 0.0<br>decreases average response by",
          "Finances_Status_Pending Loans = 1.0<br>decreases average response by",
          "+ all other factors<br>decreases average response by",
          "Average response: 0.267<br>Prediction: 0.0"
         ],
         "increasing": {
          "marker": {
           "color": "#8bdcbe"
          }
         },
         "measure": [
          "relative",
          "relative",
          "relative",
          "relative",
          "relative",
          "relative",
          "relative",
          "relative",
          "relative",
          "relative",
          "relative",
          "relative",
          "total"
         ],
         "orientation": "h",
         "showlegend": false,
         "text": [
          "0.267",
          "+0.02",
          "+0.002",
          "+0.001",
          "+0.002",
          "0.0",
          "0.0",
          "0.0",
          "0.0",
          "0.0",
          "-0.0",
          "-0.292",
          "0.0"
         ],
         "textposition": "outside",
         "totals": {
          "marker": {
           "color": "#371ea3"
          }
         },
         "type": "waterfall",
         "x": [
          0,
          0.02,
          0.002,
          0.001,
          0.002,
          0,
          0,
          0,
          0,
          0,
          0,
          -0.292,
          -0.267
         ],
         "xaxis": "x",
         "y": [
          "intercept",
          "Income = 1300000.0",
          "Lead_Source = 2.0",
          "isMale = 1.0",
          "Vehicle_Type_SUV = 1.0",
          "Vehicle_Type_Sedan = 0.0",
          "Finances_Status_Undecided = 0.0",
          "Finances_Status_Cash Purchase = 0.0",
          "Test_Drive_Status = 1.0",
          "Vehicle_Type_Hatchback = 0.0",
          "Finances_Status_Pending Loans = 1.0",
          "+ all other factors",
          "prediction"
         ],
         "yaxis": "y"
        }
       ],
       "layout": {
        "annotations": [
         {
          "font": {
           "size": 16
          },
          "showarrow": false,
          "text": "LogisticRegression",
          "x": 0.5,
          "xanchor": "center",
          "xref": "paper",
          "y": 1,
          "yanchor": "bottom",
          "yref": "paper"
         },
         {
          "font": {
           "size": 16
          },
          "showarrow": false,
          "text": "contribution",
          "x": 0.5,
          "xanchor": "center",
          "xref": "paper",
          "y": 0,
          "yanchor": "top",
          "yref": "paper",
          "yshift": -30
         }
        ],
        "font": {
         "color": "#371ea3"
        },
        "height": 413,
        "margin": {
         "b": 71,
         "r": 30,
         "t": 78
        },
        "shapes": [
         {
          "line": {
           "color": "#371ea3",
           "dash": "dot",
           "width": 1.5
          },
          "type": "line",
          "x0": 0.26674552850178335,
          "x1": 0.26674552850178335,
          "xref": "x",
          "y0": -1,
          "y1": 13,
          "yref": "y"
         }
        ],
        "template": {
         "data": {
          "scatter": [
           {
            "type": "scatter"
           }
          ]
         }
        },
        "title": {
         "text": "Pooja Bansal",
         "x": 0.15
        },
        "xaxis": {
         "anchor": "y",
         "automargin": true,
         "domain": [
          0,
          1
         ],
         "fixedrange": true,
         "gridwidth": 2,
         "range": [
          -0.0438,
          0.3358
         ],
         "tickcolor": "white",
         "ticklen": 3,
         "ticks": "outside",
         "type": "linear",
         "zeroline": false
        },
        "yaxis": {
         "anchor": "x",
         "automargin": true,
         "autorange": "reversed",
         "domain": [
          0,
          1
         ],
         "fixedrange": true,
         "gridwidth": 2,
         "tickcolor": "white",
         "ticklen": 10,
         "ticks": "outside",
         "type": "category"
        }
       }
      }
     },
     "metadata": {},
     "output_type": "display_data"
    },
    {
     "data": {
      "application/vnd.plotly.v1+json": {
       "config": {
        "displaylogo": false,
        "modeBarButtonsToRemove": [
         "sendDataToCloud",
         "lasso2d",
         "autoScale2d",
         "select2d",
         "zoom2d",
         "pan2d",
         "zoomIn2d",
         "zoomOut2d",
         "resetScale2d",
         "toggleSpikelines",
         "hoverCompareCartesian",
         "hoverClosestCartesian"
        ],
        "plotlyServerURL": "https://plot.ly",
        "staticPlot": false,
        "toImageButtonOptions": {
         "height": null,
         "width": null
        }
       },
       "data": [
        {
         "base": 0.26674552850178335,
         "connector": {
          "line": {
           "color": "#371ea3",
           "dash": "solid",
           "width": 1
          },
          "mode": "spanning"
         },
         "decreasing": {
          "marker": {
           "color": "#f05a71"
          }
         },
         "hoverinfo": "text+delta",
         "hoverlabel": {
          "bgcolor": "rgba(0,0,0,0.8)"
         },
         "hovertext": [
          "Average response: 0.267<br>Prediction: 0.14",
          "Income = 750000.0<br>increases average response by",
          "Booking_Lead_Time = 5.0<br>increases average response by",
          "Age = 27.0<br>increases average response by",
          "Customer_Satisfaction_Score = 9.0<br>increases average response by",
          "External_Factors = 0.0<br>decreases average response by",
          "Cancellation_Probability = 0.0<br>decreases average response by",
          "Companion_Feedback = 1.0<br>decreases average response by",
          "isOnDeliveryDate = 1.0<br>decreases average response by",
          "Experience_With_Sales_Rep = 1.0<br>decreases average response by",
          "Needs_Match = 2.0<br>decreases average response by",
          "+ all other factors<br>decreases average response by",
          "Average response: 0.267<br>Prediction: 0.14"
         ],
         "increasing": {
          "marker": {
           "color": "#8bdcbe"
          }
         },
         "measure": [
          "relative",
          "relative",
          "relative",
          "relative",
          "relative",
          "relative",
          "relative",
          "relative",
          "relative",
          "relative",
          "relative",
          "relative",
          "total"
         ],
         "orientation": "h",
         "showlegend": false,
         "text": [
          "0.267",
          "+0.376",
          "+0.064",
          "+0.245",
          "+0.001",
          "0.0",
          "0.0",
          "0.0",
          "0.0",
          "0.0",
          "0.0",
          "-0.814",
          "0.14"
         ],
         "textposition": "outside",
         "totals": {
          "marker": {
           "color": "#371ea3"
          }
         },
         "type": "waterfall",
         "x": [
          0,
          0.376,
          0.064,
          0.245,
          0.001,
          0,
          0,
          0,
          0,
          0,
          0,
          -0.814,
          -0.127
         ],
         "xaxis": "x",
         "y": [
          "intercept",
          "Income = 750000.0",
          "Booking_Lead_Time = 5.0",
          "Age = 27.0",
          "Customer_Satisfaction_Score = 9.0",
          "External_Factors = 0.0",
          "Cancellation_Probability = 0.0",
          "Companion_Feedback = 1.0",
          "isOnDeliveryDate = 1.0",
          "Experience_With_Sales_Rep = 1.0",
          "Needs_Match = 2.0",
          "+ all other factors",
          "prediction"
         ],
         "yaxis": "y"
        }
       ],
       "layout": {
        "annotations": [
         {
          "font": {
           "size": 16
          },
          "showarrow": false,
          "text": "LogisticRegression",
          "x": 0.5,
          "xanchor": "center",
          "xref": "paper",
          "y": 1,
          "yanchor": "bottom",
          "yref": "paper"
         },
         {
          "font": {
           "size": 16
          },
          "showarrow": false,
          "text": "contribution",
          "x": 0.5,
          "xanchor": "center",
          "xref": "paper",
          "y": 0,
          "yanchor": "top",
          "yref": "paper",
          "yshift": -30
         }
        ],
        "font": {
         "color": "#371ea3"
        },
        "height": 413,
        "margin": {
         "b": 71,
         "r": 30,
         "t": 78
        },
        "shapes": [
         {
          "line": {
           "color": "#371ea3",
           "dash": "dot",
           "width": 1.5
          },
          "type": "line",
          "x0": 0.26674552850178335,
          "x1": 0.26674552850178335,
          "xref": "x",
          "y0": -1,
          "y1": 13,
          "yref": "y"
         }
        ],
        "template": {
         "data": {
          "scatter": [
           {
            "type": "scatter"
           }
          ]
         }
        },
        "title": {
         "text": "Ramesh Choudhary",
         "x": 0.15
        },
        "xaxis": {
         "anchor": "y",
         "automargin": true,
         "domain": [
          0,
          1
         ],
         "fixedrange": true,
         "gridwidth": 2,
         "range": [
          0.017900000000000027,
          1.0760999999999998
         ],
         "tickcolor": "white",
         "ticklen": 3,
         "ticks": "outside",
         "type": "linear",
         "zeroline": false
        },
        "yaxis": {
         "anchor": "x",
         "automargin": true,
         "autorange": "reversed",
         "domain": [
          0,
          1
         ],
         "fixedrange": true,
         "gridwidth": 2,
         "tickcolor": "white",
         "ticklen": 10,
         "ticks": "outside",
         "type": "category"
        }
       }
      }
     },
     "metadata": {},
     "output_type": "display_data"
    },
    {
     "data": {
      "application/vnd.plotly.v1+json": {
       "config": {
        "displaylogo": false,
        "modeBarButtonsToRemove": [
         "sendDataToCloud",
         "lasso2d",
         "autoScale2d",
         "select2d",
         "zoom2d",
         "pan2d",
         "zoomIn2d",
         "zoomOut2d",
         "resetScale2d",
         "toggleSpikelines",
         "hoverCompareCartesian",
         "hoverClosestCartesian"
        ],
        "plotlyServerURL": "https://plot.ly",
        "staticPlot": false,
        "toImageButtonOptions": {
         "height": null,
         "width": null
        }
       },
       "data": [
        {
         "base": 0.26674552850178335,
         "connector": {
          "line": {
           "color": "#371ea3",
           "dash": "solid",
           "width": 1
          },
          "mode": "spanning"
         },
         "decreasing": {
          "marker": {
           "color": "#f05a71"
          }
         },
         "hoverinfo": "text+delta",
         "hoverlabel": {
          "bgcolor": "rgba(0,0,0,0.8)"
         },
         "hovertext": [
          "Average response: 0.267<br>Prediction: 0.001",
          "Down_Payment = 400000.0<br>increases average response by",
          "CIBIL_Score = 820.0<br>increases average response by",
          "Competitive_Factors = 0.0<br>increases average response by",
          "Preferred_Delivery_Time = 0.0<br>increases average response by",
          "OEM_Loyalty_Program = 1.0<br>increases average response by",
          "Customer_Satisfaction_Score = 9.0<br>increases average response by",
          "Cancellation_Probability = 0.0<br>increases average response by",
          "isMale = 1.0<br>decreases average response by",
          "Vehicle_Type_SUV = 1.0<br>increases average response by",
          "Dealership_Engagement = 2.0<br>increases average response by",
          "+ all other factors<br>decreases average response by",
          "Average response: 0.267<br>Prediction: 0.001"
         ],
         "increasing": {
          "marker": {
           "color": "#8bdcbe"
          }
         },
         "measure": [
          "relative",
          "relative",
          "relative",
          "relative",
          "relative",
          "relative",
          "relative",
          "relative",
          "relative",
          "relative",
          "relative",
          "relative",
          "total"
         ],
         "orientation": "h",
         "showlegend": false,
         "text": [
          "0.267",
          "+0.294",
          "+0.047",
          "+0.004",
          "+0.004",
          "+0.002",
          "+0.004",
          "+0.003",
          "0.0",
          "+0.001",
          "+0.005",
          "-0.628",
          "0.001"
         ],
         "textposition": "outside",
         "totals": {
          "marker": {
           "color": "#371ea3"
          }
         },
         "type": "waterfall",
         "x": [
          0,
          0.294,
          0.047,
          0.004,
          0.004,
          0.002,
          0.004,
          0.003,
          0,
          0.001,
          0.005,
          -0.628,
          -0.266
         ],
         "xaxis": "x",
         "y": [
          "intercept",
          "Down_Payment = 400000.0",
          "CIBIL_Score = 820.0",
          "Competitive_Factors = 0.0",
          "Preferred_Delivery_Time = 0.0",
          "OEM_Loyalty_Program = 1.0",
          "Customer_Satisfaction_Score = 9.0",
          "Cancellation_Probability = 0.0",
          "isMale = 1.0",
          "Vehicle_Type_SUV = 1.0",
          "Dealership_Engagement = 2.0",
          "+ all other factors",
          "prediction"
         ],
         "yaxis": "y"
        }
       ],
       "layout": {
        "annotations": [
         {
          "font": {
           "size": 16
          },
          "showarrow": false,
          "text": "LogisticRegression",
          "x": 0.5,
          "xanchor": "center",
          "xref": "paper",
          "y": 1,
          "yanchor": "bottom",
          "yref": "paper"
         },
         {
          "font": {
           "size": 16
          },
          "showarrow": false,
          "text": "contribution",
          "x": 0.5,
          "xanchor": "center",
          "xref": "paper",
          "y": 0,
          "yanchor": "top",
          "yref": "paper",
          "yshift": -30
         }
        ],
        "font": {
         "color": "#371ea3"
        },
        "height": 413,
        "margin": {
         "b": 71,
         "r": 30,
         "t": 78
        },
        "shapes": [
         {
          "line": {
           "color": "#371ea3",
           "dash": "dot",
           "width": 1.5
          },
          "type": "line",
          "x0": 0.26674552850178335,
          "x1": 0.26674552850178335,
          "xref": "x",
          "y0": -1,
          "y1": 13,
          "yref": "y"
         }
        ],
        "template": {
         "data": {
          "scatter": [
           {
            "type": "scatter"
           }
          ]
         }
        },
        "title": {
         "text": "Snehal Deshpande",
         "x": 0.15
        },
        "xaxis": {
         "anchor": "y",
         "automargin": true,
         "domain": [
          0,
          1
         ],
         "fixedrange": true,
         "gridwidth": 2,
         "range": [
          -0.09319999999999999,
          0.7232
         ],
         "tickcolor": "white",
         "ticklen": 3,
         "ticks": "outside",
         "type": "linear",
         "zeroline": false
        },
        "yaxis": {
         "anchor": "x",
         "automargin": true,
         "autorange": "reversed",
         "domain": [
          0,
          1
         ],
         "fixedrange": true,
         "gridwidth": 2,
         "tickcolor": "white",
         "ticklen": 10,
         "ticks": "outside",
         "type": "category"
        }
       }
      }
     },
     "metadata": {},
     "output_type": "display_data"
    },
    {
     "data": {
      "application/vnd.plotly.v1+json": {
       "config": {
        "displaylogo": false,
        "modeBarButtonsToRemove": [
         "sendDataToCloud",
         "lasso2d",
         "autoScale2d",
         "select2d",
         "zoom2d",
         "pan2d",
         "zoomIn2d",
         "zoomOut2d",
         "resetScale2d",
         "toggleSpikelines",
         "hoverCompareCartesian",
         "hoverClosestCartesian"
        ],
        "plotlyServerURL": "https://plot.ly",
        "staticPlot": false,
        "toImageButtonOptions": {
         "height": null,
         "width": null
        }
       },
       "data": [
        {
         "base": 0.26674552850178335,
         "connector": {
          "line": {
           "color": "#371ea3",
           "dash": "solid",
           "width": 1
          },
          "mode": "spanning"
         },
         "decreasing": {
          "marker": {
           "color": "#f05a71"
          }
         },
         "hoverinfo": "text+delta",
         "hoverlabel": {
          "bgcolor": "rgba(0,0,0,0.8)"
         },
         "hovertext": [
          "Average response: 0.267<br>Prediction: 0.0",
          "Down_Payment = 300000.0<br>increases average response by",
          "Booking_Lead_Time = 18.0<br>increases average response by",
          "CIBIL_Score = 760.0<br>increases average response by",
          "Lead_Source = 2.0<br>decreases average response by",
          "Finances_Status_Approved Loans = 1.0<br>increases average response by",
          "Companion_Feedback = 1.0<br>decreases average response by",
          "isUndecidedFinances = 0.0<br>decreases average response by",
          "Finances_Status_Undecided = 0.0<br>increases average response by",
          "Finances_Status_Cash Purchase = 0.0<br>decreases average response by",
          "Test_Drive_Status = 1.0<br>decreases average response by",
          "+ all other factors<br>decreases average response by",
          "Average response: 0.267<br>Prediction: 0.0"
         ],
         "increasing": {
          "marker": {
           "color": "#8bdcbe"
          }
         },
         "measure": [
          "relative",
          "relative",
          "relative",
          "relative",
          "relative",
          "relative",
          "relative",
          "relative",
          "relative",
          "relative",
          "relative",
          "relative",
          "total"
         ],
         "orientation": "h",
         "showlegend": false,
         "text": [
          "0.267",
          "+0.167",
          "+0.063",
          "+0.04",
          "0.0",
          "+0.001",
          "0.0",
          "0.0",
          "+0.001",
          "0.0",
          "0.0",
          "-0.54",
          "0.0"
         ],
         "textposition": "outside",
         "totals": {
          "marker": {
           "color": "#371ea3"
          }
         },
         "type": "waterfall",
         "x": [
          0,
          0.167,
          0.063,
          0.04,
          0,
          0.001,
          0,
          0,
          0.001,
          0,
          0,
          -0.54,
          -0.266
         ],
         "xaxis": "x",
         "y": [
          "intercept",
          "Down_Payment = 300000.0",
          "Booking_Lead_Time = 18.0",
          "CIBIL_Score = 760.0",
          "Lead_Source = 2.0",
          "Finances_Status_Approved Loans = 1.0",
          "Companion_Feedback = 1.0",
          "isUndecidedFinances = 0.0",
          "Finances_Status_Undecided = 0.0",
          "Finances_Status_Cash Purchase = 0.0",
          "Test_Drive_Status = 1.0",
          "+ all other factors",
          "prediction"
         ],
         "yaxis": "y"
        }
       ],
       "layout": {
        "annotations": [
         {
          "font": {
           "size": 16
          },
          "showarrow": false,
          "text": "LogisticRegression",
          "x": 0.5,
          "xanchor": "center",
          "xref": "paper",
          "y": 1,
          "yanchor": "bottom",
          "yref": "paper"
         },
         {
          "font": {
           "size": 16
          },
          "showarrow": false,
          "text": "contribution",
          "x": 0.5,
          "xanchor": "center",
          "xref": "paper",
          "y": 0,
          "yanchor": "top",
          "yref": "paper",
          "yshift": -30
         }
        ],
        "font": {
         "color": "#371ea3"
        },
        "height": 413,
        "margin": {
         "b": 71,
         "r": 30,
         "t": 78
        },
        "shapes": [
         {
          "line": {
           "color": "#371ea3",
           "dash": "dot",
           "width": 1.5
          },
          "type": "line",
          "x0": 0.26674552850178335,
          "x1": 0.26674552850178335,
          "xref": "x",
          "y0": -1,
          "y1": 13,
          "yref": "y"
         }
        ],
        "template": {
         "data": {
          "scatter": [
           {
            "type": "scatter"
           }
          ]
         }
        },
        "title": {
         "text": "Ankit Kapoor",
         "x": 0.15
        },
        "xaxis": {
         "anchor": "y",
         "automargin": true,
         "domain": [
          0,
          1
         ],
         "fixedrange": true,
         "gridwidth": 2,
         "range": [
          -0.081,
          0.621
         ],
         "tickcolor": "white",
         "ticklen": 3,
         "ticks": "outside",
         "type": "linear",
         "zeroline": false
        },
        "yaxis": {
         "anchor": "x",
         "automargin": true,
         "autorange": "reversed",
         "domain": [
          0,
          1
         ],
         "fixedrange": true,
         "gridwidth": 2,
         "tickcolor": "white",
         "ticklen": 10,
         "ticks": "outside",
         "type": "category"
        }
       }
      }
     },
     "metadata": {},
     "output_type": "display_data"
    },
    {
     "data": {
      "application/vnd.plotly.v1+json": {
       "config": {
        "displaylogo": false,
        "modeBarButtonsToRemove": [
         "sendDataToCloud",
         "lasso2d",
         "autoScale2d",
         "select2d",
         "zoom2d",
         "pan2d",
         "zoomIn2d",
         "zoomOut2d",
         "resetScale2d",
         "toggleSpikelines",
         "hoverCompareCartesian",
         "hoverClosestCartesian"
        ],
        "plotlyServerURL": "https://plot.ly",
        "staticPlot": false,
        "toImageButtonOptions": {
         "height": null,
         "width": null
        }
       },
       "data": [
        {
         "base": 0.26674552850178335,
         "connector": {
          "line": {
           "color": "#371ea3",
           "dash": "solid",
           "width": 1
          },
          "mode": "spanning"
         },
         "decreasing": {
          "marker": {
           "color": "#f05a71"
          }
         },
         "hoverinfo": "text+delta",
         "hoverlabel": {
          "bgcolor": "rgba(0,0,0,0.8)"
         },
         "hovertext": [
          "Average response: 0.267<br>Prediction: 0.472",
          "Age = 29.0<br>increases average response by",
          "Income = 1100000.0<br>increases average response by",
          "CIBIL_Score = 770.0<br>increases average response by",
          "Booking_Lead_Time = 20.0<br>decreases average response by",
          "Down_Payment = 200000.0<br>decreases average response by",
          "Competitive_Factors = 0.0<br>increases average response by",
          "Preferred_Delivery_Time = 0.0<br>increases average response by",
          "Customer_Satisfaction_Score = 9.0<br>increases average response by",
          "Finances_Status_Approved Loans = 1.0<br>increases average response by",
          "Cancellation_Probability = 0.0<br>increases average response by",
          "+ all other factors<br>increases average response by",
          "Average response: 0.267<br>Prediction: 0.472"
         ],
         "increasing": {
          "marker": {
           "color": "#8bdcbe"
          }
         },
         "measure": [
          "relative",
          "relative",
          "relative",
          "relative",
          "relative",
          "relative",
          "relative",
          "relative",
          "relative",
          "relative",
          "relative",
          "relative",
          "total"
         ],
         "orientation": "h",
         "showlegend": false,
         "text": [
          "0.267",
          "+0.191",
          "+0.055",
          "+0.079",
          "-0.077",
          "-0.191",
          "+0.024",
          "+0.024",
          "+0.018",
          "+0.021",
          "+0.014",
          "+0.046",
          "0.472"
         ],
         "textposition": "outside",
         "totals": {
          "marker": {
           "color": "#371ea3"
          }
         },
         "type": "waterfall",
         "x": [
          0,
          0.191,
          0.055,
          0.079,
          -0.077,
          -0.191,
          0.024,
          0.024,
          0.018,
          0.021,
          0.014,
          0.046,
          0.205
         ],
         "xaxis": "x",
         "y": [
          "intercept",
          "Age = 29.0",
          "Income = 1100000.0",
          "CIBIL_Score = 770.0",
          "Booking_Lead_Time = 20.0",
          "Down_Payment = 200000.0",
          "Competitive_Factors = 0.0",
          "Preferred_Delivery_Time = 0.0",
          "Customer_Satisfaction_Score = 9.0",
          "Finances_Status_Approved Loans = 1.0",
          "Cancellation_Probability = 0.0",
          "+ all other factors",
          "prediction"
         ],
         "yaxis": "y"
        }
       ],
       "layout": {
        "annotations": [
         {
          "font": {
           "size": 16
          },
          "showarrow": false,
          "text": "LogisticRegression",
          "x": 0.5,
          "xanchor": "center",
          "xref": "paper",
          "y": 1,
          "yanchor": "bottom",
          "yref": "paper"
         },
         {
          "font": {
           "size": 16
          },
          "showarrow": false,
          "text": "contribution",
          "x": 0.5,
          "xanchor": "center",
          "xref": "paper",
          "y": 0,
          "yanchor": "top",
          "yref": "paper",
          "yshift": -30
         }
        ],
        "font": {
         "color": "#371ea3"
        },
        "height": 413,
        "margin": {
         "b": 71,
         "r": 30,
         "t": 78
        },
        "shapes": [
         {
          "line": {
           "color": "#371ea3",
           "dash": "dot",
           "width": 1.5
          },
          "type": "line",
          "x0": 0.26674552850178335,
          "x1": 0.26674552850178335,
          "xref": "x",
          "y0": -1,
          "y1": 13,
          "yref": "y"
         }
        ],
        "template": {
         "data": {
          "scatter": [
           {
            "type": "scatter"
           }
          ]
         }
        },
        "title": {
         "text": "Priya Sharma",
         "x": 0.15
        },
        "xaxis": {
         "anchor": "y",
         "automargin": true,
         "domain": [
          0,
          1
         ],
         "fixedrange": true,
         "gridwidth": 2,
         "range": [
          0.21825000000000003,
          0.6407499999999999
         ],
         "tickcolor": "white",
         "ticklen": 3,
         "ticks": "outside",
         "type": "linear",
         "zeroline": false
        },
        "yaxis": {
         "anchor": "x",
         "automargin": true,
         "autorange": "reversed",
         "domain": [
          0,
          1
         ],
         "fixedrange": true,
         "gridwidth": 2,
         "tickcolor": "white",
         "ticklen": 10,
         "ticks": "outside",
         "type": "category"
        }
       }
      }
     },
     "metadata": {},
     "output_type": "display_data"
    },
    {
     "data": {
      "application/vnd.plotly.v1+json": {
       "config": {
        "displaylogo": false,
        "modeBarButtonsToRemove": [
         "sendDataToCloud",
         "lasso2d",
         "autoScale2d",
         "select2d",
         "zoom2d",
         "pan2d",
         "zoomIn2d",
         "zoomOut2d",
         "resetScale2d",
         "toggleSpikelines",
         "hoverCompareCartesian",
         "hoverClosestCartesian"
        ],
        "plotlyServerURL": "https://plot.ly",
        "staticPlot": false,
        "toImageButtonOptions": {
         "height": null,
         "width": null
        }
       },
       "data": [
        {
         "base": 0.26674552850178335,
         "connector": {
          "line": {
           "color": "#371ea3",
           "dash": "solid",
           "width": 1
          },
          "mode": "spanning"
         },
         "decreasing": {
          "marker": {
           "color": "#f05a71"
          }
         },
         "hoverinfo": "text+delta",
         "hoverlabel": {
          "bgcolor": "rgba(0,0,0,0.8)"
         },
         "hovertext": [
          "Average response: 0.267<br>Prediction: 0.0",
          "Booking_Lead_Time = 15.0<br>increases average response by",
          "OEM_Loyalty_Program = 1.0<br>increases average response by",
          "isMale = 1.0<br>increases average response by",
          "Companion_Feedback = 1.0<br>increases average response by",
          "Lead_Source = 1.0<br>increases average response by",
          "Finances_Status_Undecided = 0.0<br>decreases average response by",
          "Finances_Status_Cash Purchase = 0.0<br>increases average response by",
          "Test_Drive_Status = 1.0<br>decreases average response by",
          "Vehicle_Type_Hatchback = 0.0<br>decreases average response by",
          "Finances_Status_Pending Loans = 1.0<br>decreases average response by",
          "+ all other factors<br>decreases average response by",
          "Average response: 0.267<br>Prediction: 0.0"
         ],
         "increasing": {
          "marker": {
           "color": "#8bdcbe"
          }
         },
         "measure": [
          "relative",
          "relative",
          "relative",
          "relative",
          "relative",
          "relative",
          "relative",
          "relative",
          "relative",
          "relative",
          "relative",
          "relative",
          "total"
         ],
         "orientation": "h",
         "showlegend": false,
         "text": [
          "0.267",
          "+0.229",
          "+0.003",
          "+0.002",
          "+0.002",
          "+0.001",
          "0.0",
          "+0.001",
          "0.0",
          "0.0",
          "-0.0",
          "-0.505",
          "0.0"
         ],
         "textposition": "outside",
         "totals": {
          "marker": {
           "color": "#371ea3"
          }
         },
         "type": "waterfall",
         "x": [
          0,
          0.229,
          0.003,
          0.002,
          0.002,
          0.001,
          0,
          0.001,
          0,
          0,
          0,
          -0.505,
          -0.267
         ],
         "xaxis": "x",
         "y": [
          "intercept",
          "Booking_Lead_Time = 15.0",
          "OEM_Loyalty_Program = 1.0",
          "isMale = 1.0",
          "Companion_Feedback = 1.0",
          "Lead_Source = 1.0",
          "Finances_Status_Undecided = 0.0",
          "Finances_Status_Cash Purchase = 0.0",
          "Test_Drive_Status = 1.0",
          "Vehicle_Type_Hatchback = 0.0",
          "Finances_Status_Pending Loans = 1.0",
          "+ all other factors",
          "prediction"
         ],
         "yaxis": "y"
        }
       ],
       "layout": {
        "annotations": [
         {
          "font": {
           "size": 16
          },
          "showarrow": false,
          "text": "LogisticRegression",
          "x": 0.5,
          "xanchor": "center",
          "xref": "paper",
          "y": 1,
          "yanchor": "bottom",
          "yref": "paper"
         },
         {
          "font": {
           "size": 16
          },
          "showarrow": false,
          "text": "contribution",
          "x": 0.5,
          "xanchor": "center",
          "xref": "paper",
          "y": 0,
          "yanchor": "top",
          "yref": "paper",
          "yshift": -30
         }
        ],
        "font": {
         "color": "#371ea3"
        },
        "height": 413,
        "margin": {
         "b": 71,
         "r": 30,
         "t": 78
        },
        "shapes": [
         {
          "line": {
           "color": "#371ea3",
           "dash": "dot",
           "width": 1.5
          },
          "type": "line",
          "x0": 0.26674552850178335,
          "x1": 0.26674552850178335,
          "xref": "x",
          "y0": -1,
          "y1": 13,
          "yref": "y"
         }
        ],
        "template": {
         "data": {
          "scatter": [
           {
            "type": "scatter"
           }
          ]
         }
        },
        "title": {
         "text": "Rohan Mehta",
         "x": 0.15
        },
        "xaxis": {
         "anchor": "y",
         "automargin": true,
         "domain": [
          0,
          1
         ],
         "fixedrange": true,
         "gridwidth": 2,
         "range": [
          -0.07575,
          0.58075
         ],
         "tickcolor": "white",
         "ticklen": 3,
         "ticks": "outside",
         "type": "linear",
         "zeroline": false
        },
        "yaxis": {
         "anchor": "x",
         "automargin": true,
         "autorange": "reversed",
         "domain": [
          0,
          1
         ],
         "fixedrange": true,
         "gridwidth": 2,
         "tickcolor": "white",
         "ticklen": 10,
         "ticks": "outside",
         "type": "category"
        }
       }
      }
     },
     "metadata": {},
     "output_type": "display_data"
    },
    {
     "data": {
      "application/vnd.plotly.v1+json": {
       "config": {
        "displaylogo": false,
        "modeBarButtonsToRemove": [
         "sendDataToCloud",
         "lasso2d",
         "autoScale2d",
         "select2d",
         "zoom2d",
         "pan2d",
         "zoomIn2d",
         "zoomOut2d",
         "resetScale2d",
         "toggleSpikelines",
         "hoverCompareCartesian",
         "hoverClosestCartesian"
        ],
        "plotlyServerURL": "https://plot.ly",
        "staticPlot": false,
        "toImageButtonOptions": {
         "height": null,
         "width": null
        }
       },
       "data": [
        {
         "base": 0.26674552850178335,
         "connector": {
          "line": {
           "color": "#371ea3",
           "dash": "solid",
           "width": 1
          },
          "mode": "spanning"
         },
         "decreasing": {
          "marker": {
           "color": "#f05a71"
          }
         },
         "hoverinfo": "text+delta",
         "hoverlabel": {
          "bgcolor": "rgba(0,0,0,0.8)"
         },
         "hovertext": [
          "Average response: 0.267<br>Prediction: 0.034",
          "Income = 950000.0<br>increases average response by",
          "CIBIL_Score = 780.0<br>increases average response by",
          "Down_Payment = 250000.0<br>decreases average response by",
          "Lead_Source = 2.0<br>decreases average response by",
          "isUndecidedFinances = 0.0<br>decreases average response by",
          "isOnDeliveryDate = 1.0<br>increases average response by",
          "Vehicle_Type_Sedan = 0.0<br>increases average response by",
          "Finances_Status_Undecided = 0.0<br>decreases average response by",
          "isStockAvailable = 1.0<br>decreases average response by",
          "isFirstTimeBuyer = 1.0<br>decreases average response by",
          "+ all other factors<br>decreases average response by",
          "Average response: 0.267<br>Prediction: 0.034"
         ],
         "increasing": {
          "marker": {
           "color": "#8bdcbe"
          }
         },
         "measure": [
          "relative",
          "relative",
          "relative",
          "relative",
          "relative",
          "relative",
          "relative",
          "relative",
          "relative",
          "relative",
          "relative",
          "relative",
          "total"
         ],
         "orientation": "h",
         "showlegend": false,
         "text": [
          "0.267",
          "+0.273",
          "+0.054",
          "-0.125",
          "0.0",
          "0.0",
          "+0.001",
          "+0.001",
          "0.0",
          "0.0",
          "0.0",
          "-0.44",
          "0.034"
         ],
         "textposition": "outside",
         "totals": {
          "marker": {
           "color": "#371ea3"
          }
         },
         "type": "waterfall",
         "x": [
          0,
          0.273,
          0.054,
          -0.125,
          0,
          0,
          0.001,
          0.001,
          0,
          0,
          0,
          -0.44,
          -0.233
         ],
         "xaxis": "x",
         "y": [
          "intercept",
          "Income = 950000.0",
          "CIBIL_Score = 780.0",
          "Down_Payment = 250000.0",
          "Lead_Source = 2.0",
          "isUndecidedFinances = 0.0",
          "isOnDeliveryDate = 1.0",
          "Vehicle_Type_Sedan = 0.0",
          "Finances_Status_Undecided = 0.0",
          "isStockAvailable = 1.0",
          "isFirstTimeBuyer = 1.0",
          "+ all other factors",
          "prediction"
         ],
         "yaxis": "y"
        }
       ],
       "layout": {
        "annotations": [
         {
          "font": {
           "size": 16
          },
          "showarrow": false,
          "text": "LogisticRegression",
          "x": 0.5,
          "xanchor": "center",
          "xref": "paper",
          "y": 1,
          "yanchor": "bottom",
          "yref": "paper"
         },
         {
          "font": {
           "size": 16
          },
          "showarrow": false,
          "text": "contribution",
          "x": 0.5,
          "xanchor": "center",
          "xref": "paper",
          "y": 0,
          "yanchor": "top",
          "yref": "paper",
          "yshift": -30
         }
        ],
        "font": {
         "color": "#371ea3"
        },
        "height": 413,
        "margin": {
         "b": 71,
         "r": 30,
         "t": 78
        },
        "shapes": [
         {
          "line": {
           "color": "#371ea3",
           "dash": "dot",
           "width": 1.5
          },
          "type": "line",
          "x0": 0.26674552850178335,
          "x1": 0.26674552850178335,
          "xref": "x",
          "y0": -1,
          "y1": 13,
          "yref": "y"
         }
        ],
        "template": {
         "data": {
          "scatter": [
           {
            "type": "scatter"
           }
          ]
         }
        },
        "title": {
         "text": "Anjali Verma",
         "x": 0.15
        },
        "xaxis": {
         "anchor": "y",
         "automargin": true,
         "domain": [
          0,
          1
         ],
         "fixedrange": true,
         "gridwidth": 2,
         "range": [
          -0.050149999999999986,
          0.6791499999999999
         ],
         "tickcolor": "white",
         "ticklen": 3,
         "ticks": "outside",
         "type": "linear",
         "zeroline": false
        },
        "yaxis": {
         "anchor": "x",
         "automargin": true,
         "autorange": "reversed",
         "domain": [
          0,
          1
         ],
         "fixedrange": true,
         "gridwidth": 2,
         "tickcolor": "white",
         "ticklen": 10,
         "ticks": "outside",
         "type": "category"
        }
       }
      }
     },
     "metadata": {},
     "output_type": "display_data"
    },
    {
     "data": {
      "application/vnd.plotly.v1+json": {
       "config": {
        "displaylogo": false,
        "modeBarButtonsToRemove": [
         "sendDataToCloud",
         "lasso2d",
         "autoScale2d",
         "select2d",
         "zoom2d",
         "pan2d",
         "zoomIn2d",
         "zoomOut2d",
         "resetScale2d",
         "toggleSpikelines",
         "hoverCompareCartesian",
         "hoverClosestCartesian"
        ],
        "plotlyServerURL": "https://plot.ly",
        "staticPlot": false,
        "toImageButtonOptions": {
         "height": null,
         "width": null
        }
       },
       "data": [
        {
         "base": 0.26674552850178335,
         "connector": {
          "line": {
           "color": "#371ea3",
           "dash": "solid",
           "width": 1
          },
          "mode": "spanning"
         },
         "decreasing": {
          "marker": {
           "color": "#f05a71"
          }
         },
         "hoverinfo": "text+delta",
         "hoverlabel": {
          "bgcolor": "rgba(0,0,0,0.8)"
         },
         "hovertext": [
          "Average response: 0.267<br>Prediction: 0.758",
          "Income = 800000.0<br>increases average response by",
          "Booking_Lead_Time = 18.0<br>increases average response by",
          "CIBIL_Score = 750.0<br>decreases average response by",
          "Age = 31.0<br>increases average response by",
          "Competitive_Factors = 0.0<br>increases average response by",
          "Preferred_Delivery_Time = 0.0<br>increases average response by",
          "OEM_Loyalty_Program = 1.0<br>increases average response by",
          "Customer_Satisfaction_Score = 9.0<br>increases average response by",
          "External_Factors = 0.0<br>increases average response by",
          "Finances_Status_Approved Loans = 1.0<br>increases average response by",
          "+ all other factors<br>decreases average response by",
          "Average response: 0.267<br>Prediction: 0.758"
         ],
         "increasing": {
          "marker": {
           "color": "#8bdcbe"
          }
         },
         "measure": [
          "relative",
          "relative",
          "relative",
          "relative",
          "relative",
          "relative",
          "relative",
          "relative",
          "relative",
          "relative",
          "relative",
          "relative",
          "total"
         ],
         "orientation": "h",
         "showlegend": false,
         "text": [
          "0.267",
          "+0.349",
          "+0.02",
          "-0.002",
          "+0.118",
          "+0.009",
          "+0.006",
          "+0.003",
          "+0.006",
          "+0.004",
          "+0.005",
          "-0.027",
          "0.758"
         ],
         "textposition": "outside",
         "totals": {
          "marker": {
           "color": "#371ea3"
          }
         },
         "type": "waterfall",
         "x": [
          0,
          0.349,
          0.02,
          -0.002,
          0.118,
          0.009,
          0.006,
          0.003,
          0.006,
          0.004,
          0.005,
          -0.027,
          0.491
         ],
         "xaxis": "x",
         "y": [
          "intercept",
          "Income = 800000.0",
          "Booking_Lead_Time = 18.0",
          "CIBIL_Score = 750.0",
          "Age = 31.0",
          "Competitive_Factors = 0.0",
          "Preferred_Delivery_Time = 0.0",
          "OEM_Loyalty_Program = 1.0",
          "Customer_Satisfaction_Score = 9.0",
          "External_Factors = 0.0",
          "Finances_Status_Approved Loans = 1.0",
          "+ all other factors",
          "prediction"
         ],
         "yaxis": "y"
        }
       ],
       "layout": {
        "annotations": [
         {
          "font": {
           "size": 16
          },
          "showarrow": false,
          "text": "LogisticRegression",
          "x": 0.5,
          "xanchor": "center",
          "xref": "paper",
          "y": 1,
          "yanchor": "bottom",
          "yref": "paper"
         },
         {
          "font": {
           "size": 16
          },
          "showarrow": false,
          "text": "contribution",
          "x": 0.5,
          "xanchor": "center",
          "xref": "paper",
          "y": 0,
          "yanchor": "top",
          "yref": "paper",
          "yshift": -30
         }
        ],
        "font": {
         "color": "#371ea3"
        },
        "height": 413,
        "margin": {
         "b": 71,
         "r": 30,
         "t": 78
        },
        "shapes": [
         {
          "line": {
           "color": "#371ea3",
           "dash": "dot",
           "width": 1.5
          },
          "type": "line",
          "x0": 0.26674552850178335,
          "x1": 0.26674552850178335,
          "xref": "x",
          "y0": -1,
          "y1": 13,
          "yref": "y"
         }
        ],
        "template": {
         "data": {
          "scatter": [
           {
            "type": "scatter"
           }
          ]
         }
        },
        "title": {
         "text": "Sanjay Gupta",
         "x": 0.15
        },
        "xaxis": {
         "anchor": "y",
         "automargin": true,
         "domain": [
          0,
          1
         ],
         "fixedrange": true,
         "gridwidth": 2,
         "range": [
          0.18930000000000002,
          0.8627
         ],
         "tickcolor": "white",
         "ticklen": 3,
         "ticks": "outside",
         "type": "linear",
         "zeroline": false
        },
        "yaxis": {
         "anchor": "x",
         "automargin": true,
         "autorange": "reversed",
         "domain": [
          0,
          1
         ],
         "fixedrange": true,
         "gridwidth": 2,
         "tickcolor": "white",
         "ticklen": 10,
         "ticks": "outside",
         "type": "category"
        }
       }
      }
     },
     "metadata": {},
     "output_type": "display_data"
    },
    {
     "data": {
      "application/vnd.plotly.v1+json": {
       "config": {
        "displaylogo": false,
        "modeBarButtonsToRemove": [
         "sendDataToCloud",
         "lasso2d",
         "autoScale2d",
         "select2d",
         "zoom2d",
         "pan2d",
         "zoomIn2d",
         "zoomOut2d",
         "resetScale2d",
         "toggleSpikelines",
         "hoverCompareCartesian",
         "hoverClosestCartesian"
        ],
        "plotlyServerURL": "https://plot.ly",
        "staticPlot": false,
        "toImageButtonOptions": {
         "height": null,
         "width": null
        }
       },
       "data": [
        {
         "base": 0.26674552850178335,
         "connector": {
          "line": {
           "color": "#371ea3",
           "dash": "solid",
           "width": 1
          },
          "mode": "spanning"
         },
         "decreasing": {
          "marker": {
           "color": "#f05a71"
          }
         },
         "hoverinfo": "text+delta",
         "hoverlabel": {
          "bgcolor": "rgba(0,0,0,0.8)"
         },
         "hovertext": [
          "Average response: 0.267<br>Prediction: 0.0",
          "Down_Payment = 400000.0<br>increases average response by",
          "CIBIL_Score = 820.0<br>increases average response by",
          "isUndecidedFinances = 0.0<br>increases average response by",
          "Finances_Status_Undecided = 0.0<br>decreases average response by",
          "Test_Drive_Status = 1.0<br>decreases average response by",
          "Finances_Status_Pending Loans = 0.0<br>decreases average response by",
          "Vehicle_Type_Hatchback = 0.0<br>decreases average response by",
          "Special_Occasions = 1.0<br>decreases average response by",
          "Add_Ons = 1.0<br>decreases average response by",
          "isStockAvailable = 0.0<br>decreases average response by",
          "+ all other factors<br>decreases average response by",
          "Average response: 0.267<br>Prediction: 0.0"
         ],
         "increasing": {
          "marker": {
           "color": "#8bdcbe"
          }
         },
         "measure": [
          "relative",
          "relative",
          "relative",
          "relative",
          "relative",
          "relative",
          "relative",
          "relative",
          "relative",
          "relative",
          "relative",
          "relative",
          "total"
         ],
         "orientation": "h",
         "showlegend": false,
         "text": [
          "0.267",
          "+0.294",
          "+0.047",
          "+0.001",
          "0.0",
          "0.0",
          "0.0",
          "0.0",
          "0.0",
          "-0.0",
          "-0.0",
          "-0.608",
          "0.0"
         ],
         "textposition": "outside",
         "totals": {
          "marker": {
           "color": "#371ea3"
          }
         },
         "type": "waterfall",
         "x": [
          0,
          0.294,
          0.047,
          0.001,
          0,
          0,
          0,
          0,
          0,
          0,
          0,
          -0.608,
          -0.267
         ],
         "xaxis": "x",
         "y": [
          "intercept",
          "Down_Payment = 400000.0",
          "CIBIL_Score = 820.0",
          "isUndecidedFinances = 0.0",
          "Finances_Status_Undecided = 0.0",
          "Test_Drive_Status = 1.0",
          "Finances_Status_Pending Loans = 0.0",
          "Vehicle_Type_Hatchback = 0.0",
          "Special_Occasions = 1.0",
          "Add_Ons = 1.0",
          "isStockAvailable = 0.0",
          "+ all other factors",
          "prediction"
         ],
         "yaxis": "y"
        }
       ],
       "layout": {
        "annotations": [
         {
          "font": {
           "size": 16
          },
          "showarrow": false,
          "text": "LogisticRegression",
          "x": 0.5,
          "xanchor": "center",
          "xref": "paper",
          "y": 1,
          "yanchor": "bottom",
          "yref": "paper"
         },
         {
          "font": {
           "size": 16
          },
          "showarrow": false,
          "text": "contribution",
          "x": 0.5,
          "xanchor": "center",
          "xref": "paper",
          "y": 0,
          "yanchor": "top",
          "yref": "paper",
          "yshift": -30
         }
        ],
        "font": {
         "color": "#371ea3"
        },
        "height": 413,
        "margin": {
         "b": 71,
         "r": 30,
         "t": 78
        },
        "shapes": [
         {
          "line": {
           "color": "#371ea3",
           "dash": "dot",
           "width": 1.5
          },
          "type": "line",
          "x0": 0.26674552850178335,
          "x1": 0.26674552850178335,
          "xref": "x",
          "y0": -1,
          "y1": 13,
          "yref": "y"
         }
        ],
        "template": {
         "data": {
          "scatter": [
           {
            "type": "scatter"
           }
          ]
         }
        },
        "title": {
         "text": "Meera Kapoor",
         "x": 0.15
        },
        "xaxis": {
         "anchor": "y",
         "automargin": true,
         "domain": [
          0,
          1
         ],
         "fixedrange": true,
         "gridwidth": 2,
         "range": [
          -0.09119999999999999,
          0.6991999999999999
         ],
         "tickcolor": "white",
         "ticklen": 3,
         "ticks": "outside",
         "type": "linear",
         "zeroline": false
        },
        "yaxis": {
         "anchor": "x",
         "automargin": true,
         "autorange": "reversed",
         "domain": [
          0,
          1
         ],
         "fixedrange": true,
         "gridwidth": 2,
         "tickcolor": "white",
         "ticklen": 10,
         "ticks": "outside",
         "type": "category"
        }
       }
      }
     },
     "metadata": {},
     "output_type": "display_data"
    },
    {
     "data": {
      "application/vnd.plotly.v1+json": {
       "config": {
        "displaylogo": false,
        "modeBarButtonsToRemove": [
         "sendDataToCloud",
         "lasso2d",
         "autoScale2d",
         "select2d",
         "zoom2d",
         "pan2d",
         "zoomIn2d",
         "zoomOut2d",
         "resetScale2d",
         "toggleSpikelines",
         "hoverCompareCartesian",
         "hoverClosestCartesian"
        ],
        "plotlyServerURL": "https://plot.ly",
        "staticPlot": false,
        "toImageButtonOptions": {
         "height": null,
         "width": null
        }
       },
       "data": [
        {
         "base": 0.26674552850178335,
         "connector": {
          "line": {
           "color": "#371ea3",
           "dash": "solid",
           "width": 1
          },
          "mode": "spanning"
         },
         "decreasing": {
          "marker": {
           "color": "#f05a71"
          }
         },
         "hoverinfo": "text+delta",
         "hoverlabel": {
          "bgcolor": "rgba(0,0,0,0.8)"
         },
         "hovertext": [
          "Average response: 0.267<br>Prediction: 0.236",
          "Age = 25.0<br>increases average response by",
          "Booking_Lead_Time = 12.0<br>increases average response by",
          "Down_Payment = 200000.0<br>decreases average response by",
          "Income = 1300000.0<br>increases average response by",
          "Lead_Source = 2.0<br>increases average response by",
          "OEM_Loyalty_Program = 1.0<br>increases average response by",
          "isMale = 1.0<br>increases average response by",
          "Companion_Feedback = 1.0<br>increases average response by",
          "Dealership_Engagement = 2.0<br>increases average response by",
          "Vehicle_Type_Sedan = 0.0<br>increases average response by",
          "+ all other factors<br>decreases average response by",
          "Average response: 0.267<br>Prediction: 0.236"
         ],
         "increasing": {
          "marker": {
           "color": "#8bdcbe"
          }
         },
         "measure": [
          "relative",
          "relative",
          "relative",
          "relative",
          "relative",
          "relative",
          "relative",
          "relative",
          "relative",
          "relative",
          "relative",
          "relative",
          "total"
         ],
         "orientation": "h",
         "showlegend": false,
         "text": [
          "0.267",
          "+0.397",
          "+0.03",
          "-0.119",
          "+0.054",
          "+0.002",
          "+0.004",
          "+0.002",
          "+0.003",
          "+0.008",
          "+0.002",
          "-0.414",
          "0.236"
         ],
         "textposition": "outside",
         "totals": {
          "marker": {
           "color": "#371ea3"
          }
         },
         "type": "waterfall",
         "x": [
          0,
          0.397,
          0.03,
          -0.119,
          0.054,
          0.002,
          0.004,
          0.002,
          0.003,
          0.008,
          0.002,
          -0.414,
          -0.031
         ],
         "xaxis": "x",
         "y": [
          "intercept",
          "Age = 25.0",
          "Booking_Lead_Time = 12.0",
          "Down_Payment = 200000.0",
          "Income = 1300000.0",
          "Lead_Source = 2.0",
          "OEM_Loyalty_Program = 1.0",
          "isMale = 1.0",
          "Companion_Feedback = 1.0",
          "Dealership_Engagement = 2.0",
          "Vehicle_Type_Sedan = 0.0",
          "+ all other factors",
          "prediction"
         ],
         "yaxis": "y"
        }
       ],
       "layout": {
        "annotations": [
         {
          "font": {
           "size": 16
          },
          "showarrow": false,
          "text": "LogisticRegression",
          "x": 0.5,
          "xanchor": "center",
          "xref": "paper",
          "y": 1,
          "yanchor": "bottom",
          "yref": "paper"
         },
         {
          "font": {
           "size": 16
          },
          "showarrow": false,
          "text": "contribution",
          "x": 0.5,
          "xanchor": "center",
          "xref": "paper",
          "y": 0,
          "yanchor": "top",
          "yref": "paper",
          "yshift": -30
         }
        ],
        "font": {
         "color": "#371ea3"
        },
        "height": 413,
        "margin": {
         "b": 71,
         "r": 30,
         "t": 78
        },
        "shapes": [
         {
          "line": {
           "color": "#371ea3",
           "dash": "dot",
           "width": 1.5
          },
          "type": "line",
          "x0": 0.26674552850178335,
          "x1": 0.26674552850178335,
          "xref": "x",
          "y0": -1,
          "y1": 13,
          "yref": "y"
         }
        ],
        "template": {
         "data": {
          "scatter": [
           {
            "type": "scatter"
           }
          ]
         }
        },
        "title": {
         "text": "Arjun Nair",
         "x": 0.15
        },
        "xaxis": {
         "anchor": "y",
         "automargin": true,
         "domain": [
          0,
          1
         ],
         "fixedrange": true,
         "gridwidth": 2,
         "range": [
          0.1673,
          0.7626999999999999
         ],
         "tickcolor": "white",
         "ticklen": 3,
         "ticks": "outside",
         "type": "linear",
         "zeroline": false
        },
        "yaxis": {
         "anchor": "x",
         "automargin": true,
         "autorange": "reversed",
         "domain": [
          0,
          1
         ],
         "fixedrange": true,
         "gridwidth": 2,
         "tickcolor": "white",
         "ticklen": 10,
         "ticks": "outside",
         "type": "category"
        }
       }
      }
     },
     "metadata": {},
     "output_type": "display_data"
    },
    {
     "data": {
      "application/vnd.plotly.v1+json": {
       "config": {
        "displaylogo": false,
        "modeBarButtonsToRemove": [
         "sendDataToCloud",
         "lasso2d",
         "autoScale2d",
         "select2d",
         "zoom2d",
         "pan2d",
         "zoomIn2d",
         "zoomOut2d",
         "resetScale2d",
         "toggleSpikelines",
         "hoverCompareCartesian",
         "hoverClosestCartesian"
        ],
        "plotlyServerURL": "https://plot.ly",
        "staticPlot": false,
        "toImageButtonOptions": {
         "height": null,
         "width": null
        }
       },
       "data": [
        {
         "base": 0.26674552850178335,
         "connector": {
          "line": {
           "color": "#371ea3",
           "dash": "solid",
           "width": 1
          },
          "mode": "spanning"
         },
         "decreasing": {
          "marker": {
           "color": "#f05a71"
          }
         },
         "hoverinfo": "text+delta",
         "hoverlabel": {
          "bgcolor": "rgba(0,0,0,0.8)"
         },
         "hovertext": [
          "Average response: 0.267<br>Prediction: 0.0",
          "Income = 850000.0<br>increases average response by",
          "Preferred_Delivery_Time = 0.0<br>increases average response by",
          "External_Factors = 0.0<br>increases average response by",
          "Vehicle_Type_SUV = 1.0<br>increases average response by",
          "isOnDeliveryDate = 1.0<br>decreases average response by",
          "Lead_Source = 1.0<br>decreases average response by",
          "Vehicle_Type_Sedan = 0.0<br>decreases average response by",
          "isStockAvailable = 1.0<br>decreases average response by",
          "Finances_Status_Cash Purchase = 0.0<br>increases average response by",
          "Finances_Status_Pending Loans = 0.0<br>decreases average response by",
          "+ all other factors<br>decreases average response by",
          "Average response: 0.267<br>Prediction: 0.0"
         ],
         "increasing": {
          "marker": {
           "color": "#8bdcbe"
          }
         },
         "measure": [
          "relative",
          "relative",
          "relative",
          "relative",
          "relative",
          "relative",
          "relative",
          "relative",
          "relative",
          "relative",
          "relative",
          "relative",
          "total"
         ],
         "orientation": "h",
         "showlegend": false,
         "text": [
          "0.267",
          "+0.32",
          "+0.003",
          "+0.001",
          "+0.001",
          "0.0",
          "-0.001",
          "0.0",
          "0.0",
          "+0.001",
          "0.0",
          "-0.592",
          "0.0"
         ],
         "textposition": "outside",
         "totals": {
          "marker": {
           "color": "#371ea3"
          }
         },
         "type": "waterfall",
         "x": [
          0,
          0.32,
          0.003,
          0.001,
          0.001,
          0,
          -0.001,
          0,
          0,
          0.001,
          0,
          -0.592,
          -0.267
         ],
         "xaxis": "x",
         "y": [
          "intercept",
          "Income = 850000.0",
          "Preferred_Delivery_Time = 0.0",
          "External_Factors = 0.0",
          "Vehicle_Type_SUV = 1.0",
          "isOnDeliveryDate = 1.0",
          "Lead_Source = 1.0",
          "Vehicle_Type_Sedan = 0.0",
          "isStockAvailable = 1.0",
          "Finances_Status_Cash Purchase = 0.0",
          "Finances_Status_Pending Loans = 0.0",
          "+ all other factors",
          "prediction"
         ],
         "yaxis": "y"
        }
       ],
       "layout": {
        "annotations": [
         {
          "font": {
           "size": 16
          },
          "showarrow": false,
          "text": "LogisticRegression",
          "x": 0.5,
          "xanchor": "center",
          "xref": "paper",
          "y": 1,
          "yanchor": "bottom",
          "yref": "paper"
         },
         {
          "font": {
           "size": 16
          },
          "showarrow": false,
          "text": "contribution",
          "x": 0.5,
          "xanchor": "center",
          "xref": "paper",
          "y": 0,
          "yanchor": "top",
          "yref": "paper",
          "yshift": -30
         }
        ],
        "font": {
         "color": "#371ea3"
        },
        "height": 413,
        "margin": {
         "b": 71,
         "r": 30,
         "t": 78
        },
        "shapes": [
         {
          "line": {
           "color": "#371ea3",
           "dash": "dot",
           "width": 1.5
          },
          "type": "line",
          "x0": 0.26674552850178335,
          "x1": 0.26674552850178335,
          "xref": "x",
          "y0": -1,
          "y1": 13,
          "yref": "y"
         }
        ],
        "template": {
         "data": {
          "scatter": [
           {
            "type": "scatter"
           }
          ]
         }
        },
        "title": {
         "text": "Sneha Kulkarni",
         "x": 0.15
        },
        "xaxis": {
         "anchor": "y",
         "automargin": true,
         "domain": [
          0,
          1
         ],
         "fixedrange": true,
         "gridwidth": 2,
         "range": [
          -0.08879999999999999,
          0.6808
         ],
         "tickcolor": "white",
         "ticklen": 3,
         "ticks": "outside",
         "type": "linear",
         "zeroline": false
        },
        "yaxis": {
         "anchor": "x",
         "automargin": true,
         "autorange": "reversed",
         "domain": [
          0,
          1
         ],
         "fixedrange": true,
         "gridwidth": 2,
         "tickcolor": "white",
         "ticklen": 10,
         "ticks": "outside",
         "type": "category"
        }
       }
      }
     },
     "metadata": {},
     "output_type": "display_data"
    },
    {
     "data": {
      "application/vnd.plotly.v1+json": {
       "config": {
        "displaylogo": false,
        "modeBarButtonsToRemove": [
         "sendDataToCloud",
         "lasso2d",
         "autoScale2d",
         "select2d",
         "zoom2d",
         "pan2d",
         "zoomIn2d",
         "zoomOut2d",
         "resetScale2d",
         "toggleSpikelines",
         "hoverCompareCartesian",
         "hoverClosestCartesian"
        ],
        "plotlyServerURL": "https://plot.ly",
        "staticPlot": false,
        "toImageButtonOptions": {
         "height": null,
         "width": null
        }
       },
       "data": [
        {
         "base": 0.26674552850178335,
         "connector": {
          "line": {
           "color": "#371ea3",
           "dash": "solid",
           "width": 1
          },
          "mode": "spanning"
         },
         "decreasing": {
          "marker": {
           "color": "#f05a71"
          }
         },
         "hoverinfo": "text+delta",
         "hoverlabel": {
          "bgcolor": "rgba(0,0,0,0.8)"
         },
         "hovertext": [
          "Average response: 0.267<br>Prediction: 1.0",
          "Down_Payment = 700000.0<br>increases average response by",
          "Booking_Lead_Time = 10.0<br>increases average response by",
          "CIBIL_Score = 850.0<br>decreases average response by",
          "Competitive_Factors = 0.0<br>decreases average response by",
          "OEM_Loyalty_Program = 1.0<br>decreases average response by",
          "Customer_Satisfaction_Score = 9.0<br>decreases average response by",
          "Cancellation_Probability = 0.0<br>decreases average response by",
          "isMale = 1.0<br>decreases average response by",
          "Companion_Feedback = 1.0<br>decreases average response by",
          "isUndecidedFinances = 0.0<br>decreases average response by",
          "+ all other factors<br>decreases average response by",
          "Average response: 0.267<br>Prediction: 1.0"
         ],
         "increasing": {
          "marker": {
           "color": "#8bdcbe"
          }
         },
         "measure": [
          "relative",
          "relative",
          "relative",
          "relative",
          "relative",
          "relative",
          "relative",
          "relative",
          "relative",
          "relative",
          "relative",
          "relative",
          "total"
         ],
         "orientation": "h",
         "showlegend": false,
         "text": [
          "0.267",
          "+0.683",
          "+0.05",
          "0.0",
          "0.0",
          "0.0",
          "0.0",
          "0.0",
          "0.0",
          "0.0",
          "0.0",
          "0.0",
          "1.0"
         ],
         "textposition": "outside",
         "totals": {
          "marker": {
           "color": "#371ea3"
          }
         },
         "type": "waterfall",
         "x": [
          0,
          0.683,
          0.05,
          0,
          0,
          0,
          0,
          0,
          0,
          0,
          0,
          0,
          0.733
         ],
         "xaxis": "x",
         "y": [
          "intercept",
          "Down_Payment = 700000.0",
          "Booking_Lead_Time = 10.0",
          "CIBIL_Score = 850.0",
          "Competitive_Factors = 0.0",
          "OEM_Loyalty_Program = 1.0",
          "Customer_Satisfaction_Score = 9.0",
          "Cancellation_Probability = 0.0",
          "isMale = 1.0",
          "Companion_Feedback = 1.0",
          "isUndecidedFinances = 0.0",
          "+ all other factors",
          "prediction"
         ],
         "yaxis": "y"
        }
       ],
       "layout": {
        "annotations": [
         {
          "font": {
           "size": 16
          },
          "showarrow": false,
          "text": "LogisticRegression",
          "x": 0.5,
          "xanchor": "center",
          "xref": "paper",
          "y": 1,
          "yanchor": "bottom",
          "yref": "paper"
         },
         {
          "font": {
           "size": 16
          },
          "showarrow": false,
          "text": "contribution",
          "x": 0.5,
          "xanchor": "center",
          "xref": "paper",
          "y": 0,
          "yanchor": "top",
          "yref": "paper",
          "yshift": -30
         }
        ],
        "font": {
         "color": "#371ea3"
        },
        "height": 413,
        "margin": {
         "b": 71,
         "r": 30,
         "t": 78
        },
        "shapes": [
         {
          "line": {
           "color": "#371ea3",
           "dash": "dot",
           "width": 1.5
          },
          "type": "line",
          "x0": 0.26674552850178335,
          "x1": 0.26674552850178335,
          "xref": "x",
          "y0": -1,
          "y1": 13,
          "yref": "y"
         }
        ],
        "template": {
         "data": {
          "scatter": [
           {
            "type": "scatter"
           }
          ]
         }
        },
        "title": {
         "text": "Rahul Desai",
         "x": 0.15
        },
        "xaxis": {
         "anchor": "y",
         "automargin": true,
         "domain": [
          0,
          1
         ],
         "fixedrange": true,
         "gridwidth": 2,
         "range": [
          0.15705000000000002,
          1.10995
         ],
         "tickcolor": "white",
         "ticklen": 3,
         "ticks": "outside",
         "type": "linear",
         "zeroline": false
        },
        "yaxis": {
         "anchor": "x",
         "automargin": true,
         "autorange": "reversed",
         "domain": [
          0,
          1
         ],
         "fixedrange": true,
         "gridwidth": 2,
         "tickcolor": "white",
         "ticklen": 10,
         "ticks": "outside",
         "type": "category"
        }
       }
      }
     },
     "metadata": {},
     "output_type": "display_data"
    },
    {
     "data": {
      "application/vnd.plotly.v1+json": {
       "config": {
        "displaylogo": false,
        "modeBarButtonsToRemove": [
         "sendDataToCloud",
         "lasso2d",
         "autoScale2d",
         "select2d",
         "zoom2d",
         "pan2d",
         "zoomIn2d",
         "zoomOut2d",
         "resetScale2d",
         "toggleSpikelines",
         "hoverCompareCartesian",
         "hoverClosestCartesian"
        ],
        "plotlyServerURL": "https://plot.ly",
        "staticPlot": false,
        "toImageButtonOptions": {
         "height": null,
         "width": null
        }
       },
       "data": [
        {
         "base": 0.26674552850178335,
         "connector": {
          "line": {
           "color": "#371ea3",
           "dash": "solid",
           "width": 1
          },
          "mode": "spanning"
         },
         "decreasing": {
          "marker": {
           "color": "#f05a71"
          }
         },
         "hoverinfo": "text+delta",
         "hoverlabel": {
          "bgcolor": "rgba(0,0,0,0.8)"
         },
         "hovertext": [
          "Average response: 0.267<br>Prediction: 1.0",
          "Age = 27.0<br>increases average response by",
          "Booking_Lead_Time = 14.0<br>increases average response by",
          "CIBIL_Score = 800.0<br>increases average response by",
          "Down_Payment = 300000.0<br>decreases average response by",
          "Competitive_Factors = 0.0<br>increases average response by",
          "Preferred_Delivery_Time = 0.0<br>increases average response by",
          "OEM_Loyalty_Program = 1.0<br>increases average response by",
          "Customer_Satisfaction_Score = 9.0<br>increases average response by",
          "External_Factors = 0.0<br>increases average response by",
          "Finances_Status_Approved Loans = 1.0<br>increases average response by",
          "+ all other factors<br>increases average response by",
          "Average response: 0.267<br>Prediction: 1.0"
         ],
         "increasing": {
          "marker": {
           "color": "#8bdcbe"
          }
         },
         "measure": [
          "relative",
          "relative",
          "relative",
          "relative",
          "relative",
          "relative",
          "relative",
          "relative",
          "relative",
          "relative",
          "relative",
          "relative",
          "total"
         ],
         "orientation": "h",
         "showlegend": false,
         "text": [
          "0.267",
          "+0.312",
          "+0.052",
          "+0.206",
          "-0.023",
          "+0.003",
          "+0.003",
          "+0.001",
          "+0.003",
          "+0.004",
          "+0.004",
          "+0.17",
          "1.0"
         ],
         "textposition": "outside",
         "totals": {
          "marker": {
           "color": "#371ea3"
          }
         },
         "type": "waterfall",
         "x": [
          0,
          0.312,
          0.052,
          0.206,
          -0.023,
          0.003,
          0.003,
          0.001,
          0.003,
          0.004,
          0.004,
          0.17,
          0.733
         ],
         "xaxis": "x",
         "y": [
          "intercept",
          "Age = 27.0",
          "Booking_Lead_Time = 14.0",
          "CIBIL_Score = 800.0",
          "Down_Payment = 300000.0",
          "Competitive_Factors = 0.0",
          "Preferred_Delivery_Time = 0.0",
          "OEM_Loyalty_Program = 1.0",
          "Customer_Satisfaction_Score = 9.0",
          "External_Factors = 0.0",
          "Finances_Status_Approved Loans = 1.0",
          "+ all other factors",
          "prediction"
         ],
         "yaxis": "y"
        }
       ],
       "layout": {
        "annotations": [
         {
          "font": {
           "size": 16
          },
          "showarrow": false,
          "text": "LogisticRegression",
          "x": 0.5,
          "xanchor": "center",
          "xref": "paper",
          "y": 1,
          "yanchor": "bottom",
          "yref": "paper"
         },
         {
          "font": {
           "size": 16
          },
          "showarrow": false,
          "text": "contribution",
          "x": 0.5,
          "xanchor": "center",
          "xref": "paper",
          "y": 0,
          "yanchor": "top",
          "yref": "paper",
          "yshift": -30
         }
        ],
        "font": {
         "color": "#371ea3"
        },
        "height": 413,
        "margin": {
         "b": 71,
         "r": 30,
         "t": 78
        },
        "shapes": [
         {
          "line": {
           "color": "#371ea3",
           "dash": "dot",
           "width": 1.5
          },
          "type": "line",
          "x0": 0.26674552850178335,
          "x1": 0.26674552850178335,
          "xref": "x",
          "y0": -1,
          "y1": 13,
          "yref": "y"
         }
        ],
        "template": {
         "data": {
          "scatter": [
           {
            "type": "scatter"
           }
          ]
         }
        },
        "title": {
         "text": "Kavita Singh",
         "x": 0.15
        },
        "xaxis": {
         "anchor": "y",
         "automargin": true,
         "domain": [
          0,
          1
         ],
         "fixedrange": true,
         "gridwidth": 2,
         "range": [
          0.15705000000000002,
          1.10995
         ],
         "tickcolor": "white",
         "ticklen": 3,
         "ticks": "outside",
         "type": "linear",
         "zeroline": false
        },
        "yaxis": {
         "anchor": "x",
         "automargin": true,
         "autorange": "reversed",
         "domain": [
          0,
          1
         ],
         "fixedrange": true,
         "gridwidth": 2,
         "tickcolor": "white",
         "ticklen": 10,
         "ticks": "outside",
         "type": "category"
        }
       }
      }
     },
     "metadata": {},
     "output_type": "display_data"
    },
    {
     "data": {
      "application/vnd.plotly.v1+json": {
       "config": {
        "displaylogo": false,
        "modeBarButtonsToRemove": [
         "sendDataToCloud",
         "lasso2d",
         "autoScale2d",
         "select2d",
         "zoom2d",
         "pan2d",
         "zoomIn2d",
         "zoomOut2d",
         "resetScale2d",
         "toggleSpikelines",
         "hoverCompareCartesian",
         "hoverClosestCartesian"
        ],
        "plotlyServerURL": "https://plot.ly",
        "staticPlot": false,
        "toImageButtonOptions": {
         "height": null,
         "width": null
        }
       },
       "data": [
        {
         "base": 0.26674552850178335,
         "connector": {
          "line": {
           "color": "#371ea3",
           "dash": "solid",
           "width": 1
          },
          "mode": "spanning"
         },
         "decreasing": {
          "marker": {
           "color": "#f05a71"
          }
         },
         "hoverinfo": "text+delta",
         "hoverlabel": {
          "bgcolor": "rgba(0,0,0,0.8)"
         },
         "hovertext": [
          "Average response: 0.267<br>Prediction: 0.0",
          "Income = 950000.0<br>increases average response by",
          "Booking_Lead_Time = 22.0<br>decreases average response by",
          "Lead_Source = 2.0<br>increases average response by",
          "isMale = 1.0<br>increases average response by",
          "Companion_Feedback = 1.0<br>increases average response by",
          "isStockAvailable = 1.0<br>increases average response by",
          "Finances_Status_Cash Purchase = 0.0<br>decreases average response by",
          "Test_Drive_Status = 1.0<br>decreases average response by",
          "Finances_Status_Pending Loans = 0.0<br>decreases average response by",
          "Vehicle_Type_Hatchback = 0.0<br>decreases average response by",
          "+ all other factors<br>decreases average response by",
          "Average response: 0.267<br>Prediction: 0.0"
         ],
         "increasing": {
          "marker": {
           "color": "#8bdcbe"
          }
         },
         "measure": [
          "relative",
          "relative",
          "relative",
          "relative",
          "relative",
          "relative",
          "relative",
          "relative",
          "relative",
          "relative",
          "relative",
          "relative",
          "total"
         ],
         "orientation": "h",
         "showlegend": false,
         "text": [
          "0.267",
          "+0.273",
          "-0.031",
          "+0.001",
          "+0.002",
          "+0.001",
          "+0.001",
          "0.0",
          "0.0",
          "0.0",
          "0.0",
          "-0.515",
          "0.0"
         ],
         "textposition": "outside",
         "totals": {
          "marker": {
           "color": "#371ea3"
          }
         },
         "type": "waterfall",
         "x": [
          0,
          0.273,
          -0.031,
          0.001,
          0.002,
          0.001,
          0.001,
          0,
          0,
          0,
          0,
          -0.515,
          -0.267
         ],
         "xaxis": "x",
         "y": [
          "intercept",
          "Income = 950000.0",
          "Booking_Lead_Time = 22.0",
          "Lead_Source = 2.0",
          "isMale = 1.0",
          "Companion_Feedback = 1.0",
          "isStockAvailable = 1.0",
          "Finances_Status_Cash Purchase = 0.0",
          "Test_Drive_Status = 1.0",
          "Finances_Status_Pending Loans = 0.0",
          "Vehicle_Type_Hatchback = 0.0",
          "+ all other factors",
          "prediction"
         ],
         "yaxis": "y"
        }
       ],
       "layout": {
        "annotations": [
         {
          "font": {
           "size": 16
          },
          "showarrow": false,
          "text": "LogisticRegression",
          "x": 0.5,
          "xanchor": "center",
          "xref": "paper",
          "y": 1,
          "yanchor": "bottom",
          "yref": "paper"
         },
         {
          "font": {
           "size": 16
          },
          "showarrow": false,
          "text": "contribution",
          "x": 0.5,
          "xanchor": "center",
          "xref": "paper",
          "y": 0,
          "yanchor": "top",
          "yref": "paper",
          "yshift": -30
         }
        ],
        "font": {
         "color": "#371ea3"
        },
        "height": 413,
        "margin": {
         "b": 71,
         "r": 30,
         "t": 78
        },
        "shapes": [
         {
          "line": {
           "color": "#371ea3",
           "dash": "dot",
           "width": 1.5
          },
          "type": "line",
          "x0": 0.26674552850178335,
          "x1": 0.26674552850178335,
          "xref": "x",
          "y0": -1,
          "y1": 13,
          "yref": "y"
         }
        ],
        "template": {
         "data": {
          "scatter": [
           {
            "type": "scatter"
           }
          ]
         }
        },
        "title": {
         "text": "Deepak Sharma",
         "x": 0.15
        },
        "xaxis": {
         "anchor": "y",
         "automargin": true,
         "domain": [
          0,
          1
         ],
         "fixedrange": true,
         "gridwidth": 2,
         "range": [
          -0.081,
          0.621
         ],
         "tickcolor": "white",
         "ticklen": 3,
         "ticks": "outside",
         "type": "linear",
         "zeroline": false
        },
        "yaxis": {
         "anchor": "x",
         "automargin": true,
         "autorange": "reversed",
         "domain": [
          0,
          1
         ],
         "fixedrange": true,
         "gridwidth": 2,
         "tickcolor": "white",
         "ticklen": 10,
         "ticks": "outside",
         "type": "category"
        }
       }
      }
     },
     "metadata": {},
     "output_type": "display_data"
    }
   ],
   "source": [
    "import dalex as dx\n",
    "\n",
    "exp = dx.Explainer(model, X, y)\n",
    "df_index = pd.read_excel('BCI backup.xlsx', sheet_name='Dummy leads')\n",
    "\n",
    "for i in range(len(X)):\n",
    "    # Get feature importance\n",
    "    breakdown = exp.predict_parts(X.iloc[i], type='break_down', label=X.index[0])\n",
    "    breakdown.plot(title=df_index.iloc[i]['Customer name'])"
   ]
  },
  {
   "cell_type": "code",
   "execution_count": 27,
   "metadata": {},
   "outputs": [
    {
     "data": {
      "application/vnd.jupyter.widget-view+json": {
       "model_id": "7bfb98ef192a4ae5b3fd1280a55360d2",
       "version_major": 2,
       "version_minor": 0
      },
      "text/plain": [
       "interactive(children=(Dropdown(description='column', options=('Lead_Source', 'Age', 'Income', 'OEM_Loyalty_Pro…"
      ]
     },
     "metadata": {},
     "output_type": "display_data"
    }
   ],
   "source": [
    "import ipywidgets as widgets\n",
    "from ipywidgets import interact\n",
    "\n",
    "importances = coefficients\n",
    "importance_dict = dict(zip(X.columns, importances))\n",
    "column_widget = widgets.Dropdown(options=list(importance_dict.keys()), value=list(importance_dict.keys())[0])\n",
    "threshold_widget = widgets.FloatSlider(min=min(importances), max=max(importances), step=0.01, value=min(importances))\n",
    "\n",
    "def filter_dataset(column, threshold):\n",
    "    filtered_df = df.copy()\n",
    "    for col, importance in importance_dict.items():\n",
    "        if abs(importance) < abs(threshold) and col != column:\n",
    "            filtered_df = filtered_df.drop(col, axis=1)\n",
    "    return filtered_df\n",
    "\n",
    "\n",
    "interact(filter_dataset, column=column_widget, threshold=threshold_widget);"
   ]
  },
  {
   "cell_type": "code",
   "execution_count": 34,
   "metadata": {},
   "outputs": [
    {
     "name": "stdout",
     "output_type": "stream",
     "text": [
      "Warning: Maximum number of iterations has been exceeded.\n",
      "         Current function value: 0.000000\n",
      "         Iterations: 35\n",
      "                           Logit Regression Results                           \n",
      "==============================================================================\n",
      "Dep. Variable:               bciindex   No. Observations:                   20\n",
      "Model:                          Logit   Df Residuals:                        0\n",
      "Method:                           MLE   Df Model:                           19\n",
      "Date:                Fri, 07 Feb 2025   Pseudo R-squ.:                   1.000\n",
      "Time:                        14:33:16   Log-Likelihood:            -1.8760e-09\n",
      "converged:                      False   LL-Null:                       -11.247\n",
      "Covariance Type:            nonrobust   LLR p-value:                    0.2604\n",
      "==================================================================================================\n",
      "                                     coef    std err          z      P>|z|      [0.025      0.975]\n",
      "--------------------------------------------------------------------------------------------------\n",
      "Lead_Source                        2.5885        nan        nan        nan         nan         nan\n",
      "Age                               -1.5670        nan        nan        nan         nan         nan\n",
      "Income                         -3.969e-05   1.11e+06  -3.58e-11      1.000   -2.18e+06    2.18e+06\n",
      "OEM_Loyalty_Program               12.8741        nan        nan        nan         nan         nan\n",
      "CIBIL_Score                        0.2220        nan        nan        nan         nan         nan\n",
      "Down_Payment                       0.0001   2.76e+07   5.11e-12      1.000    -5.4e+07     5.4e+07\n",
      "Special_Occasions                  5.3847   1.76e+12   3.06e-12      1.000   -3.45e+12    3.45e+12\n",
      "Booking_Lead_Time                 -1.4681        nan        nan        nan         nan         nan\n",
      "Needs_Match                       -3.0904   1.49e+12  -2.07e-12      1.000   -2.93e+12    2.93e+12\n",
      "Add_Ons                            2.3876   1.12e+12   2.13e-12      1.000    -2.2e+12     2.2e+12\n",
      "Dealership_Engagement             -7.9882        nan        nan        nan         nan         nan\n",
      "Experience_With_Sales_Rep         -4.9246    5.3e+12   -9.3e-13      1.000   -1.04e+13    1.04e+13\n",
      "Companion_Feedback                11.3573   4.78e+11   2.38e-11      1.000   -9.36e+11    9.36e+11\n",
      "Competitive_Factors               -1.8618   5.33e+12  -3.49e-13      1.000   -1.05e+13    1.05e+13\n",
      "External_Factors                 -11.9213   2.73e+12  -4.36e-12      1.000   -5.36e+12    5.36e+12\n",
      "Customer_Satisfaction_Score      -10.2617        nan        nan        nan         nan         nan\n",
      "Cancellation_Probability         -11.0236   1.01e+13  -1.09e-12      1.000   -1.98e+13    1.98e+13\n",
      "Test_Drive_Status                  9.6245   5.53e+12   1.74e-12      1.000   -1.08e+13    1.08e+13\n",
      "Preferred_Delivery_Time           -8.3907        nan        nan        nan         nan         nan\n",
      "isMale                            10.2672   1.26e+12   8.16e-12      1.000   -2.46e+12    2.46e+12\n",
      "isStockAvailable                   0.5441        nan        nan        nan         nan         nan\n",
      "isOnDeliveryDate                   2.1482   1.91e+12   1.13e-12      1.000   -3.74e+12    3.74e+12\n",
      "isUndecidedFinances               -3.9837        nan        nan        nan         nan         nan\n",
      "isFirstTimeBuyer                  -8.6147   2.78e+12   -3.1e-12      1.000   -5.45e+12    5.45e+12\n",
      "Finances_Status_Approved Loans     8.8865        nan        nan        nan         nan         nan\n",
      "Finances_Status_Cash Purchase     -5.3124        nan        nan        nan         nan         nan\n",
      "Finances_Status_Pending Loans     -0.1862   9.11e+12  -2.04e-14      1.000   -1.79e+13    1.79e+13\n",
      "Finances_Status_Undecided         -3.6694   3.57e+12  -1.03e-12      1.000   -7.01e+12    7.01e+12\n",
      "Vehicle_Type_Hatchback            -0.7999   4.93e+12  -1.62e-13      1.000   -9.66e+12    9.66e+12\n",
      "Vehicle_Type_SUV                   2.2725        nan        nan        nan         nan         nan\n",
      "Vehicle_Type_Sedan                -1.7542   1.09e+13  -1.61e-13      1.000   -2.14e+13    2.14e+13\n",
      "==================================================================================================\n",
      "\n",
      "Complete Separation: The results show that there iscomplete separation or perfect prediction.\n",
      "In this case the Maximum Likelihood Estimator does not exist and the parameters\n",
      "are not identified.\n"
     ]
    },
    {
     "name": "stderr",
     "output_type": "stream",
     "text": [
      "c:\\Users\\mukulkathuria\\Documents\\mlprac\\driveai\\bciindexanalysis\\bcienv\\Lib\\site-packages\\statsmodels\\discrete\\discrete_model.py:227: PerfectSeparationWarning:\n",
      "\n",
      "Perfect separation or prediction detected, parameter may not be identified\n",
      "\n",
      "c:\\Users\\mukulkathuria\\Documents\\mlprac\\driveai\\bciindexanalysis\\bcienv\\Lib\\site-packages\\statsmodels\\discrete\\discrete_model.py:227: PerfectSeparationWarning:\n",
      "\n",
      "Perfect separation or prediction detected, parameter may not be identified\n",
      "\n",
      "c:\\Users\\mukulkathuria\\Documents\\mlprac\\driveai\\bciindexanalysis\\bcienv\\Lib\\site-packages\\statsmodels\\discrete\\discrete_model.py:227: PerfectSeparationWarning:\n",
      "\n",
      "Perfect separation or prediction detected, parameter may not be identified\n",
      "\n",
      "c:\\Users\\mukulkathuria\\Documents\\mlprac\\driveai\\bciindexanalysis\\bcienv\\Lib\\site-packages\\statsmodels\\discrete\\discrete_model.py:227: PerfectSeparationWarning:\n",
      "\n",
      "Perfect separation or prediction detected, parameter may not be identified\n",
      "\n",
      "c:\\Users\\mukulkathuria\\Documents\\mlprac\\driveai\\bciindexanalysis\\bcienv\\Lib\\site-packages\\statsmodels\\discrete\\discrete_model.py:227: PerfectSeparationWarning:\n",
      "\n",
      "Perfect separation or prediction detected, parameter may not be identified\n",
      "\n",
      "c:\\Users\\mukulkathuria\\Documents\\mlprac\\driveai\\bciindexanalysis\\bcienv\\Lib\\site-packages\\statsmodels\\discrete\\discrete_model.py:227: PerfectSeparationWarning:\n",
      "\n",
      "Perfect separation or prediction detected, parameter may not be identified\n",
      "\n",
      "c:\\Users\\mukulkathuria\\Documents\\mlprac\\driveai\\bciindexanalysis\\bcienv\\Lib\\site-packages\\statsmodels\\discrete\\discrete_model.py:227: PerfectSeparationWarning:\n",
      "\n",
      "Perfect separation or prediction detected, parameter may not be identified\n",
      "\n",
      "c:\\Users\\mukulkathuria\\Documents\\mlprac\\driveai\\bciindexanalysis\\bcienv\\Lib\\site-packages\\statsmodels\\discrete\\discrete_model.py:227: PerfectSeparationWarning:\n",
      "\n",
      "Perfect separation or prediction detected, parameter may not be identified\n",
      "\n",
      "c:\\Users\\mukulkathuria\\Documents\\mlprac\\driveai\\bciindexanalysis\\bcienv\\Lib\\site-packages\\statsmodels\\base\\model.py:607: ConvergenceWarning:\n",
      "\n",
      "Maximum Likelihood optimization failed to converge. Check mle_retvals\n",
      "\n"
     ]
    }
   ],
   "source": [
    "import statsmodels.api as sm\n",
    "\n",
    "logitmodel = sm.Logit(y,X).fit()\n",
    "print(logitmodel.summary())\n"
   ]
  },
  {
   "cell_type": "code",
   "execution_count": 35,
   "metadata": {},
   "outputs": [
    {
     "data": {
      "text/plain": [
       "Index(['Lead_Source', 'Age', 'Income', 'OEM_Loyalty_Program', 'CIBIL_Score',\n",
       "       'Down_Payment', 'Special_Occasions', 'Booking_Lead_Time', 'Needs_Match',\n",
       "       'Add_Ons', 'Dealership_Engagement', 'Experience_With_Sales_Rep',\n",
       "       'Companion_Feedback', 'Competitive_Factors', 'External_Factors',\n",
       "       'Customer_Satisfaction_Score', 'Cancellation_Probability',\n",
       "       'Test_Drive_Status', 'Preferred_Delivery_Time', 'isMale',\n",
       "       'isStockAvailable', 'isOnDeliveryDate', 'isUndecidedFinances',\n",
       "       'isFirstTimeBuyer', 'Finances_Status_Approved Loans',\n",
       "       'Finances_Status_Cash Purchase', 'Finances_Status_Pending Loans',\n",
       "       'Finances_Status_Undecided', 'Vehicle_Type_Hatchback',\n",
       "       'Vehicle_Type_SUV', 'Vehicle_Type_Sedan'],\n",
       "      dtype='object')"
      ]
     },
     "execution_count": 35,
     "metadata": {},
     "output_type": "execute_result"
    }
   ],
   "source": [
    "X.columns"
   ]
  },
  {
   "cell_type": "code",
   "execution_count": 37,
   "metadata": {},
   "outputs": [
    {
     "name": "stdout",
     "output_type": "stream",
     "text": [
      "Warning: Maximum number of iterations has been exceeded.\n",
      "         Current function value: 0.209873\n",
      "         Iterations: 35\n",
      "                           Logit Regression Results                           \n",
      "==============================================================================\n",
      "Dep. Variable:               bciindex   No. Observations:                   20\n",
      "Model:                          Logit   Df Residuals:                       16\n",
      "Method:                           MLE   Df Model:                            3\n",
      "Date:                Fri, 07 Feb 2025   Pseudo R-squ.:                  0.6268\n",
      "Time:                        14:54:20   Log-Likelihood:                -4.1975\n",
      "converged:                      False   LL-Null:                       -11.247\n",
      "Covariance Type:            nonrobust   LLR p-value:                  0.002774\n",
      "=======================================================================================\n",
      "                          coef    std err          z      P>|z|      [0.025      0.975]\n",
      "---------------------------------------------------------------------------------------\n",
      "isFirstTimeBuyer        1.9985      2.181      0.916      0.360      -2.276       6.273\n",
      "Age                    -0.1657      0.083     -1.996      0.046      -0.328      -0.003\n",
      "isMale                -21.1705   5.05e+04     -0.000      1.000    -9.9e+04    9.89e+04\n",
      "OEM_Loyalty_Program    25.0111   5.05e+04      0.000      1.000   -9.89e+04     9.9e+04\n",
      "=======================================================================================\n",
      "\n",
      "Possibly complete quasi-separation: A fraction 0.20 of observations can be\n",
      "perfectly predicted. This might indicate that there is complete\n",
      "quasi-separation. In this case some parameters will not be identified.\n"
     ]
    },
    {
     "name": "stderr",
     "output_type": "stream",
     "text": [
      "c:\\Users\\mukulkathuria\\Documents\\mlprac\\driveai\\bciindexanalysis\\bcienv\\Lib\\site-packages\\statsmodels\\base\\model.py:607: ConvergenceWarning:\n",
      "\n",
      "Maximum Likelihood optimization failed to converge. Check mle_retvals\n",
      "\n"
     ]
    }
   ],
   "source": [
    "df_Customerprofile = X[[\"isFirstTimeBuyer\",\"Age\", \"isMale\", \"OEM_Loyalty_Program\"]]\n",
    "df_Finance = X[['Finances_Status_Approved Loans',\n",
    "       'Finances_Status_Cash Purchase', 'Finances_Status_Pending Loans',\n",
    "       'Finances_Status_Undecided', 'isUndecidedFinances', 'CIBIL_Score', 'Down_Payment']]\n",
    "df_Bookingdetails = X[[\"Special_Occasions\",\"Booking_Lead_Time\", \"Needs_Match\", \"Add_Ons\"]]\n",
    "df_deliveryDetails = X[[\"isOnDeliveryDate\",\"isStockAvailable\", \"Customer_Satisfaction_Score\", \"Experience_With_Sales_Rep\", \"Dealership_Engagement\"]]\n",
    "\n",
    "logitsubmodel1 = sm.Logit(y,df_Customerprofile).fit()\n",
    "print(logitsubmodel1.summary())"
   ]
  },
  {
   "cell_type": "code",
   "execution_count": 38,
   "metadata": {},
   "outputs": [
    {
     "name": "stdout",
     "output_type": "stream",
     "text": [
      "Warning: Maximum number of iterations has been exceeded.\n",
      "         Current function value: 0.234933\n",
      "         Iterations: 35\n",
      "                           Logit Regression Results                           \n",
      "==============================================================================\n",
      "Dep. Variable:               bciindex   No. Observations:                   20\n",
      "Model:                          Logit   Df Residuals:                       13\n",
      "Method:                           MLE   Df Model:                            6\n",
      "Date:                Fri, 07 Feb 2025   Pseudo R-squ.:                  0.5822\n",
      "Time:                        14:54:23   Log-Likelihood:                -4.6987\n",
      "converged:                      False   LL-Null:                       -11.247\n",
      "Covariance Type:            nonrobust   LLR p-value:                   0.04154\n",
      "==================================================================================================\n",
      "                                     coef    std err          z      P>|z|      [0.025      0.975]\n",
      "--------------------------------------------------------------------------------------------------\n",
      "Finances_Status_Approved Loans   -43.6832     53.178     -0.821      0.411    -147.909      60.543\n",
      "Finances_Status_Cash Purchase    -50.7119     55.722     -0.910      0.363    -159.925      58.501\n",
      "Finances_Status_Pending Loans   -119.2679   1.28e+13  -9.28e-12      1.000   -2.52e+13    2.52e+13\n",
      "Finances_Status_Undecided       -116.3275   1.28e+13  -9.05e-12      1.000   -2.52e+13    2.52e+13\n",
      "isUndecidedFinances               51.8551   1.28e+13   4.04e-12      1.000   -2.52e+13    2.52e+13\n",
      "CIBIL_Score                        0.0559      0.072      0.779      0.436      -0.085       0.197\n",
      "Down_Payment                     4.27e-06   1.34e-05      0.319      0.749   -2.19e-05    3.05e-05\n",
      "==================================================================================================\n",
      "\n",
      "Possibly complete quasi-separation: A fraction 0.45 of observations can be\n",
      "perfectly predicted. This might indicate that there is complete\n",
      "quasi-separation. In this case some parameters will not be identified.\n"
     ]
    },
    {
     "name": "stderr",
     "output_type": "stream",
     "text": [
      "c:\\Users\\mukulkathuria\\Documents\\mlprac\\driveai\\bciindexanalysis\\bcienv\\Lib\\site-packages\\statsmodels\\base\\model.py:607: ConvergenceWarning:\n",
      "\n",
      "Maximum Likelihood optimization failed to converge. Check mle_retvals\n",
      "\n"
     ]
    }
   ],
   "source": [
    "logitsubmodel2 = sm.Logit(y,df_Finance).fit()\n",
    "print(logitsubmodel2.summary())"
   ]
  },
  {
   "cell_type": "code",
   "execution_count": 39,
   "metadata": {},
   "outputs": [
    {
     "name": "stdout",
     "output_type": "stream",
     "text": [
      "Optimization terminated successfully.\n",
      "         Current function value: 0.381772\n",
      "         Iterations 8\n",
      "                           Logit Regression Results                           \n",
      "==============================================================================\n",
      "Dep. Variable:               bciindex   No. Observations:                   20\n",
      "Model:                          Logit   Df Residuals:                       16\n",
      "Method:                           MLE   Df Model:                            3\n",
      "Date:                Fri, 07 Feb 2025   Pseudo R-squ.:                  0.3211\n",
      "Time:                        14:54:26   Log-Likelihood:                -7.6354\n",
      "converged:                       True   LL-Null:                       -11.247\n",
      "Covariance Type:            nonrobust   LLR p-value:                   0.06513\n",
      "=====================================================================================\n",
      "                        coef    std err          z      P>|z|      [0.025      0.975]\n",
      "-------------------------------------------------------------------------------------\n",
      "Special_Occasions     1.6041      1.824      0.879      0.379      -1.971       5.179\n",
      "Booking_Lead_Time    -0.1739      0.115     -1.512      0.130      -0.399       0.051\n",
      "Needs_Match           0.9404      1.416      0.664      0.507      -1.835       3.716\n",
      "Add_Ons              -1.2983      1.715     -0.757      0.449      -4.659       2.062\n",
      "=====================================================================================\n"
     ]
    }
   ],
   "source": [
    "logitsubmodel3 = sm.Logit(y,df_Bookingdetails).fit()\n",
    "print(logitsubmodel3.summary())"
   ]
  },
  {
   "cell_type": "code",
   "execution_count": 40,
   "metadata": {},
   "outputs": [
    {
     "name": "stdout",
     "output_type": "stream",
     "text": [
      "Warning: Maximum number of iterations has been exceeded.\n",
      "         Current function value: 0.263730\n",
      "         Iterations: 35\n",
      "                           Logit Regression Results                           \n",
      "==============================================================================\n",
      "Dep. Variable:               bciindex   No. Observations:                   20\n",
      "Model:                          Logit   Df Residuals:                       15\n",
      "Method:                           MLE   Df Model:                            4\n",
      "Date:                Fri, 07 Feb 2025   Pseudo R-squ.:                  0.5310\n",
      "Time:                        14:54:36   Log-Likelihood:                -5.2746\n",
      "converged:                      False   LL-Null:                       -11.247\n",
      "Covariance Type:            nonrobust   LLR p-value:                   0.01777\n",
      "===============================================================================================\n",
      "                                  coef    std err          z      P>|z|      [0.025      0.975]\n",
      "-----------------------------------------------------------------------------------------------\n",
      "isOnDeliveryDate               74.2880   4.04e+05      0.000      1.000   -7.93e+05    7.93e+05\n",
      "isStockAvailable              -13.4405   2.46e+05  -5.47e-05      1.000   -4.82e+05    4.82e+05\n",
      "Customer_Satisfaction_Score   -10.7392   1.13e+05  -9.46e-05      1.000   -2.22e+05    2.22e+05\n",
      "Experience_With_Sales_Rep      34.0134   5.67e+05      6e-05      1.000   -1.11e+06    1.11e+06\n",
      "Dealership_Engagement           1.0986      1.528      0.719      0.472      -1.895       4.093\n",
      "===============================================================================================\n",
      "\n",
      "Possibly complete quasi-separation: A fraction 0.60 of observations can be\n",
      "perfectly predicted. This might indicate that there is complete\n",
      "quasi-separation. In this case some parameters will not be identified.\n"
     ]
    },
    {
     "name": "stderr",
     "output_type": "stream",
     "text": [
      "c:\\Users\\mukulkathuria\\Documents\\mlprac\\driveai\\bciindexanalysis\\bcienv\\Lib\\site-packages\\statsmodels\\base\\model.py:607: ConvergenceWarning:\n",
      "\n",
      "Maximum Likelihood optimization failed to converge. Check mle_retvals\n",
      "\n"
     ]
    }
   ],
   "source": [
    "logitsubmodel4 = sm.Logit(y,df_deliveryDetails).fit()\n",
    "print(logitsubmodel4.summary())"
   ]
  },
  {
   "cell_type": "code",
   "execution_count": 41,
   "metadata": {},
   "outputs": [
    {
     "name": "stderr",
     "output_type": "stream",
     "text": [
      "c:\\Users\\mukulkathuria\\Documents\\mlprac\\driveai\\bciindexanalysis\\bcienv\\Lib\\site-packages\\sklearn\\linear_model\\_logistic.py:465: ConvergenceWarning:\n",
      "\n",
      "lbfgs failed to converge (status=1):\n",
      "STOP: TOTAL NO. of ITERATIONS REACHED LIMIT.\n",
      "\n",
      "Increase the number of iterations (max_iter) or scale the data as shown in:\n",
      "    https://scikit-learn.org/stable/modules/preprocessing.html\n",
      "Please also refer to the documentation for alternative solver options:\n",
      "    https://scikit-learn.org/stable/modules/linear_model.html#logistic-regression\n",
      "\n"
     ]
    },
    {
     "data": {
      "text/html": [
       "<style>#sk-container-id-1 {\n",
       "  /* Definition of color scheme common for light and dark mode */\n",
       "  --sklearn-color-text: #000;\n",
       "  --sklearn-color-text-muted: #666;\n",
       "  --sklearn-color-line: gray;\n",
       "  /* Definition of color scheme for unfitted estimators */\n",
       "  --sklearn-color-unfitted-level-0: #fff5e6;\n",
       "  --sklearn-color-unfitted-level-1: #f6e4d2;\n",
       "  --sklearn-color-unfitted-level-2: #ffe0b3;\n",
       "  --sklearn-color-unfitted-level-3: chocolate;\n",
       "  /* Definition of color scheme for fitted estimators */\n",
       "  --sklearn-color-fitted-level-0: #f0f8ff;\n",
       "  --sklearn-color-fitted-level-1: #d4ebff;\n",
       "  --sklearn-color-fitted-level-2: #b3dbfd;\n",
       "  --sklearn-color-fitted-level-3: cornflowerblue;\n",
       "\n",
       "  /* Specific color for light theme */\n",
       "  --sklearn-color-text-on-default-background: var(--sg-text-color, var(--theme-code-foreground, var(--jp-content-font-color1, black)));\n",
       "  --sklearn-color-background: var(--sg-background-color, var(--theme-background, var(--jp-layout-color0, white)));\n",
       "  --sklearn-color-border-box: var(--sg-text-color, var(--theme-code-foreground, var(--jp-content-font-color1, black)));\n",
       "  --sklearn-color-icon: #696969;\n",
       "\n",
       "  @media (prefers-color-scheme: dark) {\n",
       "    /* Redefinition of color scheme for dark theme */\n",
       "    --sklearn-color-text-on-default-background: var(--sg-text-color, var(--theme-code-foreground, var(--jp-content-font-color1, white)));\n",
       "    --sklearn-color-background: var(--sg-background-color, var(--theme-background, var(--jp-layout-color0, #111)));\n",
       "    --sklearn-color-border-box: var(--sg-text-color, var(--theme-code-foreground, var(--jp-content-font-color1, white)));\n",
       "    --sklearn-color-icon: #878787;\n",
       "  }\n",
       "}\n",
       "\n",
       "#sk-container-id-1 {\n",
       "  color: var(--sklearn-color-text);\n",
       "}\n",
       "\n",
       "#sk-container-id-1 pre {\n",
       "  padding: 0;\n",
       "}\n",
       "\n",
       "#sk-container-id-1 input.sk-hidden--visually {\n",
       "  border: 0;\n",
       "  clip: rect(1px 1px 1px 1px);\n",
       "  clip: rect(1px, 1px, 1px, 1px);\n",
       "  height: 1px;\n",
       "  margin: -1px;\n",
       "  overflow: hidden;\n",
       "  padding: 0;\n",
       "  position: absolute;\n",
       "  width: 1px;\n",
       "}\n",
       "\n",
       "#sk-container-id-1 div.sk-dashed-wrapped {\n",
       "  border: 1px dashed var(--sklearn-color-line);\n",
       "  margin: 0 0.4em 0.5em 0.4em;\n",
       "  box-sizing: border-box;\n",
       "  padding-bottom: 0.4em;\n",
       "  background-color: var(--sklearn-color-background);\n",
       "}\n",
       "\n",
       "#sk-container-id-1 div.sk-container {\n",
       "  /* jupyter's `normalize.less` sets `[hidden] { display: none; }`\n",
       "     but bootstrap.min.css set `[hidden] { display: none !important; }`\n",
       "     so we also need the `!important` here to be able to override the\n",
       "     default hidden behavior on the sphinx rendered scikit-learn.org.\n",
       "     See: https://github.com/scikit-learn/scikit-learn/issues/21755 */\n",
       "  display: inline-block !important;\n",
       "  position: relative;\n",
       "}\n",
       "\n",
       "#sk-container-id-1 div.sk-text-repr-fallback {\n",
       "  display: none;\n",
       "}\n",
       "\n",
       "div.sk-parallel-item,\n",
       "div.sk-serial,\n",
       "div.sk-item {\n",
       "  /* draw centered vertical line to link estimators */\n",
       "  background-image: linear-gradient(var(--sklearn-color-text-on-default-background), var(--sklearn-color-text-on-default-background));\n",
       "  background-size: 2px 100%;\n",
       "  background-repeat: no-repeat;\n",
       "  background-position: center center;\n",
       "}\n",
       "\n",
       "/* Parallel-specific style estimator block */\n",
       "\n",
       "#sk-container-id-1 div.sk-parallel-item::after {\n",
       "  content: \"\";\n",
       "  width: 100%;\n",
       "  border-bottom: 2px solid var(--sklearn-color-text-on-default-background);\n",
       "  flex-grow: 1;\n",
       "}\n",
       "\n",
       "#sk-container-id-1 div.sk-parallel {\n",
       "  display: flex;\n",
       "  align-items: stretch;\n",
       "  justify-content: center;\n",
       "  background-color: var(--sklearn-color-background);\n",
       "  position: relative;\n",
       "}\n",
       "\n",
       "#sk-container-id-1 div.sk-parallel-item {\n",
       "  display: flex;\n",
       "  flex-direction: column;\n",
       "}\n",
       "\n",
       "#sk-container-id-1 div.sk-parallel-item:first-child::after {\n",
       "  align-self: flex-end;\n",
       "  width: 50%;\n",
       "}\n",
       "\n",
       "#sk-container-id-1 div.sk-parallel-item:last-child::after {\n",
       "  align-self: flex-start;\n",
       "  width: 50%;\n",
       "}\n",
       "\n",
       "#sk-container-id-1 div.sk-parallel-item:only-child::after {\n",
       "  width: 0;\n",
       "}\n",
       "\n",
       "/* Serial-specific style estimator block */\n",
       "\n",
       "#sk-container-id-1 div.sk-serial {\n",
       "  display: flex;\n",
       "  flex-direction: column;\n",
       "  align-items: center;\n",
       "  background-color: var(--sklearn-color-background);\n",
       "  padding-right: 1em;\n",
       "  padding-left: 1em;\n",
       "}\n",
       "\n",
       "\n",
       "/* Toggleable style: style used for estimator/Pipeline/ColumnTransformer box that is\n",
       "clickable and can be expanded/collapsed.\n",
       "- Pipeline and ColumnTransformer use this feature and define the default style\n",
       "- Estimators will overwrite some part of the style using the `sk-estimator` class\n",
       "*/\n",
       "\n",
       "/* Pipeline and ColumnTransformer style (default) */\n",
       "\n",
       "#sk-container-id-1 div.sk-toggleable {\n",
       "  /* Default theme specific background. It is overwritten whether we have a\n",
       "  specific estimator or a Pipeline/ColumnTransformer */\n",
       "  background-color: var(--sklearn-color-background);\n",
       "}\n",
       "\n",
       "/* Toggleable label */\n",
       "#sk-container-id-1 label.sk-toggleable__label {\n",
       "  cursor: pointer;\n",
       "  display: flex;\n",
       "  width: 100%;\n",
       "  margin-bottom: 0;\n",
       "  padding: 0.5em;\n",
       "  box-sizing: border-box;\n",
       "  text-align: center;\n",
       "  align-items: start;\n",
       "  justify-content: space-between;\n",
       "  gap: 0.5em;\n",
       "}\n",
       "\n",
       "#sk-container-id-1 label.sk-toggleable__label .caption {\n",
       "  font-size: 0.6rem;\n",
       "  font-weight: lighter;\n",
       "  color: var(--sklearn-color-text-muted);\n",
       "}\n",
       "\n",
       "#sk-container-id-1 label.sk-toggleable__label-arrow:before {\n",
       "  /* Arrow on the left of the label */\n",
       "  content: \"▸\";\n",
       "  float: left;\n",
       "  margin-right: 0.25em;\n",
       "  color: var(--sklearn-color-icon);\n",
       "}\n",
       "\n",
       "#sk-container-id-1 label.sk-toggleable__label-arrow:hover:before {\n",
       "  color: var(--sklearn-color-text);\n",
       "}\n",
       "\n",
       "/* Toggleable content - dropdown */\n",
       "\n",
       "#sk-container-id-1 div.sk-toggleable__content {\n",
       "  max-height: 0;\n",
       "  max-width: 0;\n",
       "  overflow: hidden;\n",
       "  text-align: left;\n",
       "  /* unfitted */\n",
       "  background-color: var(--sklearn-color-unfitted-level-0);\n",
       "}\n",
       "\n",
       "#sk-container-id-1 div.sk-toggleable__content.fitted {\n",
       "  /* fitted */\n",
       "  background-color: var(--sklearn-color-fitted-level-0);\n",
       "}\n",
       "\n",
       "#sk-container-id-1 div.sk-toggleable__content pre {\n",
       "  margin: 0.2em;\n",
       "  border-radius: 0.25em;\n",
       "  color: var(--sklearn-color-text);\n",
       "  /* unfitted */\n",
       "  background-color: var(--sklearn-color-unfitted-level-0);\n",
       "}\n",
       "\n",
       "#sk-container-id-1 div.sk-toggleable__content.fitted pre {\n",
       "  /* unfitted */\n",
       "  background-color: var(--sklearn-color-fitted-level-0);\n",
       "}\n",
       "\n",
       "#sk-container-id-1 input.sk-toggleable__control:checked~div.sk-toggleable__content {\n",
       "  /* Expand drop-down */\n",
       "  max-height: 200px;\n",
       "  max-width: 100%;\n",
       "  overflow: auto;\n",
       "}\n",
       "\n",
       "#sk-container-id-1 input.sk-toggleable__control:checked~label.sk-toggleable__label-arrow:before {\n",
       "  content: \"▾\";\n",
       "}\n",
       "\n",
       "/* Pipeline/ColumnTransformer-specific style */\n",
       "\n",
       "#sk-container-id-1 div.sk-label input.sk-toggleable__control:checked~label.sk-toggleable__label {\n",
       "  color: var(--sklearn-color-text);\n",
       "  background-color: var(--sklearn-color-unfitted-level-2);\n",
       "}\n",
       "\n",
       "#sk-container-id-1 div.sk-label.fitted input.sk-toggleable__control:checked~label.sk-toggleable__label {\n",
       "  background-color: var(--sklearn-color-fitted-level-2);\n",
       "}\n",
       "\n",
       "/* Estimator-specific style */\n",
       "\n",
       "/* Colorize estimator box */\n",
       "#sk-container-id-1 div.sk-estimator input.sk-toggleable__control:checked~label.sk-toggleable__label {\n",
       "  /* unfitted */\n",
       "  background-color: var(--sklearn-color-unfitted-level-2);\n",
       "}\n",
       "\n",
       "#sk-container-id-1 div.sk-estimator.fitted input.sk-toggleable__control:checked~label.sk-toggleable__label {\n",
       "  /* fitted */\n",
       "  background-color: var(--sklearn-color-fitted-level-2);\n",
       "}\n",
       "\n",
       "#sk-container-id-1 div.sk-label label.sk-toggleable__label,\n",
       "#sk-container-id-1 div.sk-label label {\n",
       "  /* The background is the default theme color */\n",
       "  color: var(--sklearn-color-text-on-default-background);\n",
       "}\n",
       "\n",
       "/* On hover, darken the color of the background */\n",
       "#sk-container-id-1 div.sk-label:hover label.sk-toggleable__label {\n",
       "  color: var(--sklearn-color-text);\n",
       "  background-color: var(--sklearn-color-unfitted-level-2);\n",
       "}\n",
       "\n",
       "/* Label box, darken color on hover, fitted */\n",
       "#sk-container-id-1 div.sk-label.fitted:hover label.sk-toggleable__label.fitted {\n",
       "  color: var(--sklearn-color-text);\n",
       "  background-color: var(--sklearn-color-fitted-level-2);\n",
       "}\n",
       "\n",
       "/* Estimator label */\n",
       "\n",
       "#sk-container-id-1 div.sk-label label {\n",
       "  font-family: monospace;\n",
       "  font-weight: bold;\n",
       "  display: inline-block;\n",
       "  line-height: 1.2em;\n",
       "}\n",
       "\n",
       "#sk-container-id-1 div.sk-label-container {\n",
       "  text-align: center;\n",
       "}\n",
       "\n",
       "/* Estimator-specific */\n",
       "#sk-container-id-1 div.sk-estimator {\n",
       "  font-family: monospace;\n",
       "  border: 1px dotted var(--sklearn-color-border-box);\n",
       "  border-radius: 0.25em;\n",
       "  box-sizing: border-box;\n",
       "  margin-bottom: 0.5em;\n",
       "  /* unfitted */\n",
       "  background-color: var(--sklearn-color-unfitted-level-0);\n",
       "}\n",
       "\n",
       "#sk-container-id-1 div.sk-estimator.fitted {\n",
       "  /* fitted */\n",
       "  background-color: var(--sklearn-color-fitted-level-0);\n",
       "}\n",
       "\n",
       "/* on hover */\n",
       "#sk-container-id-1 div.sk-estimator:hover {\n",
       "  /* unfitted */\n",
       "  background-color: var(--sklearn-color-unfitted-level-2);\n",
       "}\n",
       "\n",
       "#sk-container-id-1 div.sk-estimator.fitted:hover {\n",
       "  /* fitted */\n",
       "  background-color: var(--sklearn-color-fitted-level-2);\n",
       "}\n",
       "\n",
       "/* Specification for estimator info (e.g. \"i\" and \"?\") */\n",
       "\n",
       "/* Common style for \"i\" and \"?\" */\n",
       "\n",
       ".sk-estimator-doc-link,\n",
       "a:link.sk-estimator-doc-link,\n",
       "a:visited.sk-estimator-doc-link {\n",
       "  float: right;\n",
       "  font-size: smaller;\n",
       "  line-height: 1em;\n",
       "  font-family: monospace;\n",
       "  background-color: var(--sklearn-color-background);\n",
       "  border-radius: 1em;\n",
       "  height: 1em;\n",
       "  width: 1em;\n",
       "  text-decoration: none !important;\n",
       "  margin-left: 0.5em;\n",
       "  text-align: center;\n",
       "  /* unfitted */\n",
       "  border: var(--sklearn-color-unfitted-level-1) 1pt solid;\n",
       "  color: var(--sklearn-color-unfitted-level-1);\n",
       "}\n",
       "\n",
       ".sk-estimator-doc-link.fitted,\n",
       "a:link.sk-estimator-doc-link.fitted,\n",
       "a:visited.sk-estimator-doc-link.fitted {\n",
       "  /* fitted */\n",
       "  border: var(--sklearn-color-fitted-level-1) 1pt solid;\n",
       "  color: var(--sklearn-color-fitted-level-1);\n",
       "}\n",
       "\n",
       "/* On hover */\n",
       "div.sk-estimator:hover .sk-estimator-doc-link:hover,\n",
       ".sk-estimator-doc-link:hover,\n",
       "div.sk-label-container:hover .sk-estimator-doc-link:hover,\n",
       ".sk-estimator-doc-link:hover {\n",
       "  /* unfitted */\n",
       "  background-color: var(--sklearn-color-unfitted-level-3);\n",
       "  color: var(--sklearn-color-background);\n",
       "  text-decoration: none;\n",
       "}\n",
       "\n",
       "div.sk-estimator.fitted:hover .sk-estimator-doc-link.fitted:hover,\n",
       ".sk-estimator-doc-link.fitted:hover,\n",
       "div.sk-label-container:hover .sk-estimator-doc-link.fitted:hover,\n",
       ".sk-estimator-doc-link.fitted:hover {\n",
       "  /* fitted */\n",
       "  background-color: var(--sklearn-color-fitted-level-3);\n",
       "  color: var(--sklearn-color-background);\n",
       "  text-decoration: none;\n",
       "}\n",
       "\n",
       "/* Span, style for the box shown on hovering the info icon */\n",
       ".sk-estimator-doc-link span {\n",
       "  display: none;\n",
       "  z-index: 9999;\n",
       "  position: relative;\n",
       "  font-weight: normal;\n",
       "  right: .2ex;\n",
       "  padding: .5ex;\n",
       "  margin: .5ex;\n",
       "  width: min-content;\n",
       "  min-width: 20ex;\n",
       "  max-width: 50ex;\n",
       "  color: var(--sklearn-color-text);\n",
       "  box-shadow: 2pt 2pt 4pt #999;\n",
       "  /* unfitted */\n",
       "  background: var(--sklearn-color-unfitted-level-0);\n",
       "  border: .5pt solid var(--sklearn-color-unfitted-level-3);\n",
       "}\n",
       "\n",
       ".sk-estimator-doc-link.fitted span {\n",
       "  /* fitted */\n",
       "  background: var(--sklearn-color-fitted-level-0);\n",
       "  border: var(--sklearn-color-fitted-level-3);\n",
       "}\n",
       "\n",
       ".sk-estimator-doc-link:hover span {\n",
       "  display: block;\n",
       "}\n",
       "\n",
       "/* \"?\"-specific style due to the `<a>` HTML tag */\n",
       "\n",
       "#sk-container-id-1 a.estimator_doc_link {\n",
       "  float: right;\n",
       "  font-size: 1rem;\n",
       "  line-height: 1em;\n",
       "  font-family: monospace;\n",
       "  background-color: var(--sklearn-color-background);\n",
       "  border-radius: 1rem;\n",
       "  height: 1rem;\n",
       "  width: 1rem;\n",
       "  text-decoration: none;\n",
       "  /* unfitted */\n",
       "  color: var(--sklearn-color-unfitted-level-1);\n",
       "  border: var(--sklearn-color-unfitted-level-1) 1pt solid;\n",
       "}\n",
       "\n",
       "#sk-container-id-1 a.estimator_doc_link.fitted {\n",
       "  /* fitted */\n",
       "  border: var(--sklearn-color-fitted-level-1) 1pt solid;\n",
       "  color: var(--sklearn-color-fitted-level-1);\n",
       "}\n",
       "\n",
       "/* On hover */\n",
       "#sk-container-id-1 a.estimator_doc_link:hover {\n",
       "  /* unfitted */\n",
       "  background-color: var(--sklearn-color-unfitted-level-3);\n",
       "  color: var(--sklearn-color-background);\n",
       "  text-decoration: none;\n",
       "}\n",
       "\n",
       "#sk-container-id-1 a.estimator_doc_link.fitted:hover {\n",
       "  /* fitted */\n",
       "  background-color: var(--sklearn-color-fitted-level-3);\n",
       "}\n",
       "</style><div id=\"sk-container-id-1\" class=\"sk-top-container\"><div class=\"sk-text-repr-fallback\"><pre>LogisticRegression()</pre><b>In a Jupyter environment, please rerun this cell to show the HTML representation or trust the notebook. <br />On GitHub, the HTML representation is unable to render, please try loading this page with nbviewer.org.</b></div><div class=\"sk-container\" hidden><div class=\"sk-item\"><div class=\"sk-estimator fitted sk-toggleable\"><input class=\"sk-toggleable__control sk-hidden--visually\" id=\"sk-estimator-id-1\" type=\"checkbox\" checked><label for=\"sk-estimator-id-1\" class=\"sk-toggleable__label fitted sk-toggleable__label-arrow\"><div><div>LogisticRegression</div></div><div><a class=\"sk-estimator-doc-link fitted\" rel=\"noreferrer\" target=\"_blank\" href=\"https://scikit-learn.org/1.6/modules/generated/sklearn.linear_model.LogisticRegression.html\">?<span>Documentation for LogisticRegression</span></a><span class=\"sk-estimator-doc-link fitted\">i<span>Fitted</span></span></div></label><div class=\"sk-toggleable__content fitted\"><pre>LogisticRegression()</pre></div> </div></div></div></div>"
      ],
      "text/plain": [
       "LogisticRegression()"
      ]
     },
     "execution_count": 41,
     "metadata": {},
     "output_type": "execute_result"
    }
   ],
   "source": [
    "logisticmodel1 = LogisticRegression()\n",
    "logisticmodel1.fit(df_Customerprofile, y)\n",
    "logisticmodel2 = LogisticRegression()\n",
    "logisticmodel2.fit(df_Finance, y)\n",
    "logisticmodel3 = LogisticRegression()\n",
    "logisticmodel3.fit(df_Bookingdetails, y)\n",
    "logisticmodel4 = LogisticRegression()\n",
    "logisticmodel4.fit(df_deliveryDetails, y)"
   ]
  },
  {
   "cell_type": "code",
   "execution_count": null,
   "metadata": {},
   "outputs": [
    {
     "name": "stdout",
     "output_type": "stream",
     "text": [
      "Preparation of a new explainer is initiated\n",
      "\n",
      "  -> data              : 20 rows 4 cols\n",
      "  -> target variable   : Parameter 'y' was a pandas.Series. Converted to a numpy.ndarray.\n",
      "  -> target variable   : 20 values\n",
      "  -> model_class       : sklearn.linear_model._logistic.LogisticRegression (default)\n",
      "  -> label             : Not specified, model's class short name will be used. (default)\n",
      "  -> predict function  : <function yhat_proba_default at 0x000002A854322700> will be used (default)\n",
      "  -> predict function  : Accepts pandas.DataFrame and numpy.ndarray.\n",
      "  -> predicted values  : min = 0.0384, mean = 0.25, max = 0.694\n",
      "  -> model type        : classification will be used (default)\n",
      "  -> residual function : difference between y and yhat (default)\n",
      "  -> residuals         : min = -0.694, mean = -7.68e-07, max = 0.72\n",
      "  -> model_info        : package sklearn\n",
      "\n",
      "A new explainer has been created!\n"
     ]
    },
    {
     "data": {
      "application/vnd.plotly.v1+json": {
       "config": {
        "displaylogo": false,
        "modeBarButtonsToRemove": [
         "sendDataToCloud",
         "lasso2d",
         "autoScale2d",
         "select2d",
         "zoom2d",
         "pan2d",
         "zoomIn2d",
         "zoomOut2d",
         "resetScale2d",
         "toggleSpikelines",
         "hoverCompareCartesian",
         "hoverClosestCartesian"
        ],
        "plotlyServerURL": "https://plot.ly",
        "staticPlot": false,
        "toImageButtonOptions": {
         "height": null,
         "width": null
        }
       },
       "data": [
        {
         "base": 0.2500007675371677,
         "connector": {
          "line": {
           "color": "#371ea3",
           "dash": "solid",
           "width": 1
          },
          "mode": "spanning"
         },
         "decreasing": {
          "marker": {
           "color": "#f05a71"
          }
         },
         "hoverinfo": "text+delta",
         "hoverlabel": {
          "bgcolor": "rgba(0,0,0,0.8)"
         },
         "hovertext": [
          "Average response: 0.25<br>Prediction: 0.293",
          "Age = 27.0<br>increases average response by",
          "isFirstTimeBuyer = 1.0<br>increases average response by",
          "isMale = 0.0<br>decreases average response by",
          "OEM_Loyalty_Program = 0.0<br>decreases average response by",
          "Average response: 0.25<br>Prediction: 0.293"
         ],
         "increasing": {
          "marker": {
           "color": "#8bdcbe"
          }
         },
         "measure": [
          "relative",
          "relative",
          "relative",
          "relative",
          "relative",
          "total"
         ],
         "orientation": "h",
         "showlegend": false,
         "text": [
          "0.25",
          "+0.157",
          "+0.058",
          "-0.026",
          "-0.146",
          "0.293"
         ],
         "textposition": "outside",
         "totals": {
          "marker": {
           "color": "#371ea3"
          }
         },
         "type": "waterfall",
         "x": [
          0,
          0.157,
          0.058,
          -0.026,
          -0.146,
          0.043
         ],
         "xaxis": "x",
         "y": [
          "intercept",
          "Age = 27.0",
          "isFirstTimeBuyer = 1.0",
          "isMale = 0.0",
          "OEM_Loyalty_Program = 0.0",
          "prediction"
         ],
         "yaxis": "y"
        }
       ],
       "layout": {
        "annotations": [
         {
          "font": {
           "size": 16
          },
          "showarrow": false,
          "text": "Customer Profile",
          "x": 0.5,
          "xanchor": "center",
          "xref": "paper",
          "y": 1,
          "yanchor": "bottom",
          "yref": "paper"
         },
         {
          "font": {
           "size": 16
          },
          "showarrow": false,
          "text": "contribution",
          "x": 0.5,
          "xanchor": "center",
          "xref": "paper",
          "y": 0,
          "yanchor": "top",
          "yref": "paper",
          "yshift": -30
         }
        ],
        "font": {
         "color": "#371ea3"
        },
        "height": 273,
        "margin": {
         "b": 71,
         "r": 30,
         "t": 78
        },
        "shapes": [
         {
          "line": {
           "color": "#371ea3",
           "dash": "dot",
           "width": 1.5
          },
          "type": "line",
          "x0": 0.2500007675371677,
          "x1": 0.2500007675371677,
          "xref": "x",
          "y0": -1,
          "y1": 6,
          "yref": "y"
         }
        ],
        "template": {
         "data": {
          "scatter": [
           {
            "type": "scatter"
           }
          ]
         }
        },
        "title": {
         "text": "Ramesh Choudhary",
         "x": 0.15
        },
        "xaxis": {
         "anchor": "y",
         "automargin": true,
         "domain": [
          0,
          1
         ],
         "fixedrange": true,
         "gridwidth": 2,
         "range": [
          0.21775,
          0.49725
         ],
         "tickcolor": "white",
         "ticklen": 3,
         "ticks": "outside",
         "type": "linear",
         "zeroline": false
        },
        "yaxis": {
         "anchor": "x",
         "automargin": true,
         "autorange": "reversed",
         "domain": [
          0,
          1
         ],
         "fixedrange": true,
         "gridwidth": 2,
         "tickcolor": "white",
         "ticklen": 10,
         "ticks": "outside",
         "type": "category"
        }
       }
      }
     },
     "metadata": {},
     "output_type": "display_data"
    },
    {
     "name": "stdout",
     "output_type": "stream",
     "text": [
      "Preparation of a new explainer is initiated\n",
      "\n",
      "  -> data              : 20 rows 7 cols\n",
      "  -> target variable   : Parameter 'y' was a pandas.Series. Converted to a numpy.ndarray.\n",
      "  -> target variable   : 20 values\n",
      "  -> model_class       : sklearn.linear_model._logistic.LogisticRegression (default)\n",
      "  -> label             : Not specified, model's class short name will be used. (default)\n",
      "  -> predict function  : <function yhat_proba_default at 0x000002A854322700> will be used (default)\n",
      "  -> predict function  : Accepts pandas.DataFrame and numpy.ndarray.\n",
      "  -> predicted values  : min = 0.09, mean = 0.254, max = 0.528\n",
      "  -> model type        : classification will be used (default)\n",
      "  -> residual function : difference between y and yhat (default)\n",
      "  -> residuals         : min = -0.528, mean = -0.00402, max = 0.642\n",
      "  -> model_info        : package sklearn\n",
      "\n",
      "A new explainer has been created!\n"
     ]
    },
    {
     "data": {
      "application/vnd.plotly.v1+json": {
       "config": {
        "displaylogo": false,
        "modeBarButtonsToRemove": [
         "sendDataToCloud",
         "lasso2d",
         "autoScale2d",
         "select2d",
         "zoom2d",
         "pan2d",
         "zoomIn2d",
         "zoomOut2d",
         "resetScale2d",
         "toggleSpikelines",
         "hoverCompareCartesian",
         "hoverClosestCartesian"
        ],
        "plotlyServerURL": "https://plot.ly",
        "staticPlot": false,
        "toImageButtonOptions": {
         "height": null,
         "width": null
        }
       },
       "data": [
        {
         "base": 0.25402330130238837,
         "connector": {
          "line": {
           "color": "#371ea3",
           "dash": "solid",
           "width": 1
          },
          "mode": "spanning"
         },
         "decreasing": {
          "marker": {
           "color": "#f05a71"
          }
         },
         "hoverinfo": "text+delta",
         "hoverlabel": {
          "bgcolor": "rgba(0,0,0,0.8)"
         },
         "hovertext": [
          "Average response: 0.254<br>Prediction: 0.09",
          "CIBIL_Score = 650.0<br>increases average response by",
          "Finances_Status_Cash Purchase = 0.0<br>increases average response by",
          "Finances_Status_Pending Loans = 0.0<br>increases average response by",
          "isUndecidedFinances = 1.0<br>decreases average response by",
          "Finances_Status_Undecided = 1.0<br>decreases average response by",
          "Finances_Status_Approved Loans = 0.0<br>decreases average response by",
          "Down_Payment = 50000.0<br>decreases average response by",
          "Average response: 0.254<br>Prediction: 0.09"
         ],
         "increasing": {
          "marker": {
           "color": "#8bdcbe"
          }
         },
         "measure": [
          "relative",
          "relative",
          "relative",
          "relative",
          "relative",
          "relative",
          "relative",
          "relative",
          "total"
         ],
         "orientation": "h",
         "showlegend": false,
         "text": [
          "0.254",
          "+0.056",
          "+0.034",
          "+0.011",
          "-0.027",
          "-0.065",
          "-0.072",
          "-0.102",
          "0.09"
         ],
         "textposition": "outside",
         "totals": {
          "marker": {
           "color": "#371ea3"
          }
         },
         "type": "waterfall",
         "x": [
          0,
          0.056,
          0.034,
          0.011,
          -0.027,
          -0.065,
          -0.072,
          -0.102,
          -0.164
         ],
         "xaxis": "x",
         "y": [
          "intercept",
          "CIBIL_Score = 650.0",
          "Finances_Status_Cash Purchase = 0.0",
          "Finances_Status_Pending Loans = 0.0",
          "isUndecidedFinances = 1.0",
          "Finances_Status_Undecided = 1.0",
          "Finances_Status_Approved Loans = 0.0",
          "Down_Payment = 50000.0",
          "prediction"
         ],
         "yaxis": "y"
        }
       ],
       "layout": {
        "annotations": [
         {
          "font": {
           "size": 16
          },
          "showarrow": false,
          "text": "Finances",
          "x": 0.5,
          "xanchor": "center",
          "xref": "paper",
          "y": 1,
          "yanchor": "bottom",
          "yref": "paper"
         },
         {
          "font": {
           "size": 16
          },
          "showarrow": false,
          "text": "contribution",
          "x": 0.5,
          "xanchor": "center",
          "xref": "paper",
          "y": 0,
          "yanchor": "top",
          "yref": "paper",
          "yshift": -30
         }
        ],
        "font": {
         "color": "#371ea3"
        },
        "height": 333,
        "margin": {
         "b": 71,
         "r": 30,
         "t": 78
        },
        "shapes": [
         {
          "line": {
           "color": "#371ea3",
           "dash": "dot",
           "width": 1.5
          },
          "type": "line",
          "x0": 0.25402330130238837,
          "x1": 0.25402330130238837,
          "xref": "x",
          "y0": -1,
          "y1": 9,
          "yref": "y"
         }
        ],
        "template": {
         "data": {
          "scatter": [
           {
            "type": "scatter"
           }
          ]
         }
        },
        "title": {
         "text": "Ramesh Choudhary",
         "x": 0.15
        },
        "xaxis": {
         "anchor": "y",
         "automargin": true,
         "domain": [
          0,
          1
         ],
         "fixedrange": true,
         "gridwidth": 2,
         "range": [
          0.050249999999999996,
          0.39475
         ],
         "tickcolor": "white",
         "ticklen": 3,
         "ticks": "outside",
         "type": "linear",
         "zeroline": false
        },
        "yaxis": {
         "anchor": "x",
         "automargin": true,
         "autorange": "reversed",
         "domain": [
          0,
          1
         ],
         "fixedrange": true,
         "gridwidth": 2,
         "tickcolor": "white",
         "ticklen": 10,
         "ticks": "outside",
         "type": "category"
        }
       }
      }
     },
     "metadata": {},
     "output_type": "display_data"
    },
    {
     "name": "stdout",
     "output_type": "stream",
     "text": [
      "Preparation of a new explainer is initiated\n",
      "\n",
      "  -> data              : 20 rows 4 cols\n",
      "  -> target variable   : Parameter 'y' was a pandas.Series. Converted to a numpy.ndarray.\n",
      "  -> target variable   : 20 values\n",
      "  -> model_class       : sklearn.linear_model._logistic.LogisticRegression (default)\n",
      "  -> label             : Not specified, model's class short name will be used. (default)\n",
      "  -> predict function  : <function yhat_proba_default at 0x000002A854322700> will be used (default)\n",
      "  -> predict function  : Accepts pandas.DataFrame and numpy.ndarray.\n",
      "  -> predicted values  : min = 0.00792, mean = 0.25, max = 0.58\n",
      "  -> model type        : classification will be used (default)\n",
      "  -> residual function : difference between y and yhat (default)\n",
      "  -> residuals         : min = -0.575, mean = -7.35e-05, max = 0.614\n",
      "  -> model_info        : package sklearn\n",
      "\n",
      "A new explainer has been created!\n"
     ]
    },
    {
     "data": {
      "application/vnd.plotly.v1+json": {
       "config": {
        "displaylogo": false,
        "modeBarButtonsToRemove": [
         "sendDataToCloud",
         "lasso2d",
         "autoScale2d",
         "select2d",
         "zoom2d",
         "pan2d",
         "zoomIn2d",
         "zoomOut2d",
         "resetScale2d",
         "toggleSpikelines",
         "hoverCompareCartesian",
         "hoverClosestCartesian"
        ],
        "plotlyServerURL": "https://plot.ly",
        "staticPlot": false,
        "toImageButtonOptions": {
         "height": null,
         "width": null
        }
       },
       "data": [
        {
         "base": 0.25007354545466803,
         "connector": {
          "line": {
           "color": "#371ea3",
           "dash": "solid",
           "width": 1
          },
          "mode": "spanning"
         },
         "decreasing": {
          "marker": {
           "color": "#f05a71"
          }
         },
         "hoverinfo": "text+delta",
         "hoverlabel": {
          "bgcolor": "rgba(0,0,0,0.8)"
         },
         "hovertext": [
          "Average response: 0.25<br>Prediction: 0.575",
          "Booking_Lead_Time = 5.0<br>increases average response by",
          "Needs_Match = 2.0<br>increases average response by",
          "Add_Ons = 1.0<br>decreases average response by",
          "Special_Occasions = 1.0<br>decreases average response by",
          "Average response: 0.25<br>Prediction: 0.575"
         ],
         "increasing": {
          "marker": {
           "color": "#8bdcbe"
          }
         },
         "measure": [
          "relative",
          "relative",
          "relative",
          "relative",
          "relative",
          "total"
         ],
         "orientation": "h",
         "showlegend": false,
         "text": [
          "0.25",
          "+0.215",
          "+0.126",
          "-0.003",
          "-0.014",
          "0.575"
         ],
         "textposition": "outside",
         "totals": {
          "marker": {
           "color": "#371ea3"
          }
         },
         "type": "waterfall",
         "x": [
          0,
          0.215,
          0.126,
          -0.003,
          -0.014,
          0.324
         ],
         "xaxis": "x",
         "y": [
          "intercept",
          "Booking_Lead_Time = 5.0",
          "Needs_Match = 2.0",
          "Add_Ons = 1.0",
          "Special_Occasions = 1.0",
          "prediction"
         ],
         "yaxis": "y"
        }
       ],
       "layout": {
        "annotations": [
         {
          "font": {
           "size": 16
          },
          "showarrow": false,
          "text": "Booking Details",
          "x": 0.5,
          "xanchor": "center",
          "xref": "paper",
          "y": 1,
          "yanchor": "bottom",
          "yref": "paper"
         },
         {
          "font": {
           "size": 16
          },
          "showarrow": false,
          "text": "contribution",
          "x": 0.5,
          "xanchor": "center",
          "xref": "paper",
          "y": 0,
          "yanchor": "top",
          "yref": "paper",
          "yshift": -30
         }
        ],
        "font": {
         "color": "#371ea3"
        },
        "height": 273,
        "margin": {
         "b": 71,
         "r": 30,
         "t": 78
        },
        "shapes": [
         {
          "line": {
           "color": "#371ea3",
           "dash": "dot",
           "width": 1.5
          },
          "type": "line",
          "x0": 0.25007354545466803,
          "x1": 0.25007354545466803,
          "xref": "x",
          "y0": -1,
          "y1": 6,
          "yref": "y"
         }
        ],
        "template": {
         "data": {
          "scatter": [
           {
            "type": "scatter"
           }
          ]
         }
        },
        "title": {
         "text": "Ramesh Choudhary",
         "x": 0.15
        },
        "xaxis": {
         "anchor": "y",
         "automargin": true,
         "domain": [
          0,
          1
         ],
         "fixedrange": true,
         "gridwidth": 2,
         "range": [
          0.19885,
          0.64215
         ],
         "tickcolor": "white",
         "ticklen": 3,
         "ticks": "outside",
         "type": "linear",
         "zeroline": false
        },
        "yaxis": {
         "anchor": "x",
         "automargin": true,
         "autorange": "reversed",
         "domain": [
          0,
          1
         ],
         "fixedrange": true,
         "gridwidth": 2,
         "tickcolor": "white",
         "ticklen": 10,
         "ticks": "outside",
         "type": "category"
        }
       }
      }
     },
     "metadata": {},
     "output_type": "display_data"
    },
    {
     "name": "stdout",
     "output_type": "stream",
     "text": [
      "Preparation of a new explainer is initiated\n",
      "\n",
      "  -> data              : 20 rows 5 cols\n",
      "  -> target variable   : Parameter 'y' was a pandas.Series. Converted to a numpy.ndarray.\n",
      "  -> target variable   : 20 values\n",
      "  -> model_class       : sklearn.linear_model._logistic.LogisticRegression (default)\n",
      "  -> label             : Not specified, model's class short name will be used. (default)\n",
      "  -> predict function  : <function yhat_proba_default at 0x000002A854322700> will be used (default)\n",
      "  -> predict function  : Accepts pandas.DataFrame and numpy.ndarray.\n",
      "  -> predicted values  : min = 0.00999, mean = 0.25, max = 0.545\n",
      "  -> model type        : classification will be used (default)\n",
      "  -> residual function : difference between y and yhat (default)\n",
      "  -> residuals         : min = -0.545, mean = -4.33e-06, max = 0.619\n",
      "  -> model_info        : package sklearn\n",
      "\n",
      "A new explainer has been created!\n"
     ]
    },
    {
     "data": {
      "application/vnd.plotly.v1+json": {
       "config": {
        "displaylogo": false,
        "modeBarButtonsToRemove": [
         "sendDataToCloud",
         "lasso2d",
         "autoScale2d",
         "select2d",
         "zoom2d",
         "pan2d",
         "zoomIn2d",
         "zoomOut2d",
         "resetScale2d",
         "toggleSpikelines",
         "hoverCompareCartesian",
         "hoverClosestCartesian"
        ],
        "plotlyServerURL": "https://plot.ly",
        "staticPlot": false,
        "toImageButtonOptions": {
         "height": null,
         "width": null
        }
       },
       "data": [
        {
         "base": 0.25000432686065477,
         "connector": {
          "line": {
           "color": "#371ea3",
           "dash": "solid",
           "width": 1
          },
          "mode": "spanning"
         },
         "decreasing": {
          "marker": {
           "color": "#f05a71"
          }
         },
         "hoverinfo": "text+delta",
         "hoverlabel": {
          "bgcolor": "rgba(0,0,0,0.8)"
         },
         "hovertext": [
          "Average response: 0.25<br>Prediction: 0.381",
          "Customer_Satisfaction_Score = 9.0<br>increases average response by",
          "isOnDeliveryDate = 1.0<br>increases average response by",
          "Experience_With_Sales_Rep = 1.0<br>increases average response by",
          "isStockAvailable = 1.0<br>decreases average response by",
          "Dealership_Engagement = 1.0<br>decreases average response by",
          "Average response: 0.25<br>Prediction: 0.381"
         ],
         "increasing": {
          "marker": {
           "color": "#8bdcbe"
          }
         },
         "measure": [
          "relative",
          "relative",
          "relative",
          "relative",
          "relative",
          "relative",
          "total"
         ],
         "orientation": "h",
         "showlegend": false,
         "text": [
          "0.25",
          "+0.071",
          "+0.046",
          "+0.052",
          "-0.001",
          "-0.038",
          "0.381"
         ],
         "textposition": "outside",
         "totals": {
          "marker": {
           "color": "#371ea3"
          }
         },
         "type": "waterfall",
         "x": [
          0,
          0.071,
          0.046,
          0.052,
          -0.001,
          -0.038,
          0.131
         ],
         "xaxis": "x",
         "y": [
          "intercept",
          "Customer_Satisfaction_Score = 9.0",
          "isOnDeliveryDate = 1.0",
          "Experience_With_Sales_Rep = 1.0",
          "isStockAvailable = 1.0",
          "Dealership_Engagement = 1.0",
          "prediction"
         ],
         "yaxis": "y"
        }
       ],
       "layout": {
        "annotations": [
         {
          "font": {
           "size": 16
          },
          "showarrow": false,
          "text": "Delivery Details",
          "x": 0.5,
          "xanchor": "center",
          "xref": "paper",
          "y": 1,
          "yanchor": "bottom",
          "yref": "paper"
         },
         {
          "font": {
           "size": 16
          },
          "showarrow": false,
          "text": "contribution",
          "x": 0.5,
          "xanchor": "center",
          "xref": "paper",
          "y": 0,
          "yanchor": "top",
          "yref": "paper",
          "yshift": -30
         }
        ],
        "font": {
         "color": "#371ea3"
        },
        "height": 293,
        "margin": {
         "b": 71,
         "r": 30,
         "t": 78
        },
        "shapes": [
         {
          "line": {
           "color": "#371ea3",
           "dash": "dot",
           "width": 1.5
          },
          "type": "line",
          "x0": 0.25000432686065477,
          "x1": 0.25000432686065477,
          "xref": "x",
          "y0": -1,
          "y1": 7,
          "yref": "y"
         }
        ],
        "template": {
         "data": {
          "scatter": [
           {
            "type": "scatter"
           }
          ]
         }
        },
        "title": {
         "text": "Ramesh Choudhary",
         "x": 0.15
        },
        "xaxis": {
         "anchor": "y",
         "automargin": true,
         "domain": [
          0,
          1
         ],
         "fixedrange": true,
         "gridwidth": 2,
         "range": [
          0.2245,
          0.4455
         ],
         "tickcolor": "white",
         "ticklen": 3,
         "ticks": "outside",
         "type": "linear",
         "zeroline": false
        },
        "yaxis": {
         "anchor": "x",
         "automargin": true,
         "autorange": "reversed",
         "domain": [
          0,
          1
         ],
         "fixedrange": true,
         "gridwidth": 2,
         "tickcolor": "white",
         "ticklen": 10,
         "ticks": "outside",
         "type": "category"
        }
       }
      }
     },
     "metadata": {},
     "output_type": "display_data"
    },
    {
     "name": "stdout",
     "output_type": "stream",
     "text": [
      "Final Prbability:  33.48\n"
     ]
    },
    {
     "name": "stderr",
     "output_type": "stream",
     "text": [
      "c:\\Users\\mukulkathuria\\Documents\\mlprac\\driveai\\bciindexanalysis\\bcienv\\Lib\\site-packages\\sklearn\\utils\\validation.py:2739: UserWarning:\n",
      "\n",
      "X does not have valid feature names, but LogisticRegression was fitted with feature names\n",
      "\n",
      "c:\\Users\\mukulkathuria\\Documents\\mlprac\\driveai\\bciindexanalysis\\bcienv\\Lib\\site-packages\\sklearn\\utils\\validation.py:2739: UserWarning:\n",
      "\n",
      "X does not have valid feature names, but LogisticRegression was fitted with feature names\n",
      "\n",
      "c:\\Users\\mukulkathuria\\Documents\\mlprac\\driveai\\bciindexanalysis\\bcienv\\Lib\\site-packages\\sklearn\\utils\\validation.py:2739: UserWarning:\n",
      "\n",
      "X does not have valid feature names, but LogisticRegression was fitted with feature names\n",
      "\n",
      "c:\\Users\\mukulkathuria\\Documents\\mlprac\\driveai\\bciindexanalysis\\bcienv\\Lib\\site-packages\\sklearn\\utils\\validation.py:2739: UserWarning:\n",
      "\n",
      "X does not have valid feature names, but LogisticRegression was fitted with feature names\n",
      "\n"
     ]
    }
   ],
   "source": [
    "# lets find the index of a user\n",
    "def getValuesofCustomer(person):\n",
    "    index = np.where(df_index['Customer name'] == person)[0][0]\n",
    "    to_predicted = X.iloc[int(index)]\n",
    "\n",
    "    model1values = [to_predicted[df_Customerprofile.columns]]\n",
    "    exp = dx.Explainer(logisticmodel1, df_Customerprofile, y)\n",
    "    breakdown = exp.predict_parts(to_predicted[df_Customerprofile.columns], type='break_down', label='Customer Profile')\n",
    "    breakdown.plot(title=person)\n",
    "\n",
    "    model2values = [to_predicted[df_Finance.columns]]\n",
    "    exp = dx.Explainer(logisticmodel2, df_Finance, y)\n",
    "    breakdown = exp.predict_parts(to_predicted[df_Finance.columns], type='break_down', label='Finances')\n",
    "    breakdown.plot(title=person)\n",
    "\n",
    "    model3values = [to_predicted[df_Bookingdetails.columns]]\n",
    "    exp = dx.Explainer(logisticmodel3, df_Bookingdetails, y)\n",
    "    breakdown = exp.predict_parts(to_predicted[df_Bookingdetails.columns], type='break_down', label='Booking Details')\n",
    "    breakdown.plot(title=person)\n",
    "\n",
    "    model4values = [to_predicted[df_deliveryDetails.columns]]\n",
    "    exp = dx.Explainer(logisticmodel4, df_deliveryDetails, y)\n",
    "    breakdown = exp.predict_parts(to_predicted[df_deliveryDetails.columns], type='break_down', label='Delivery Details')\n",
    "    breakdown.plot(title=person)\n",
    "\n",
    "    finalresult  = logisticmodel1.predict_proba(model1values)[:,1][0] + logisticmodel2.predict_proba(model2values)[:,1][0] + logisticmodel3.predict_proba(model3values)[:,1][0] + logisticmodel4.predict_proba(model4values)[:,1][0]\n",
    "    return round((finalresult * 100) / 4,2)\n",
    "\n",
    "print(\"Final Prbability: \", getValuesofCustomer('Ramesh Choudhary'))"
   ]
  },
  {
   "cell_type": "code",
   "execution_count": 87,
   "metadata": {},
   "outputs": [
    {
     "name": "stdout",
     "output_type": "stream",
     "text": [
      "Preparation of a new explainer is initiated\n",
      "\n",
      "  -> data              : 20 rows 4 cols\n",
      "  -> target variable   : Parameter 'y' was a pandas.Series. Converted to a numpy.ndarray.\n",
      "  -> target variable   : 20 values\n",
      "  -> model_class       : statsmodels.discrete.discrete_model.BinaryResultsWrapper (default)\n",
      "  -> label             : Not specified, model's class short name will be used. (default)\n",
      "  -> predict function  : <function yhat_default at 0x000002A854322520> will be used (default)\n",
      "  -> predict function  : Accepts pandas.DataFrame and numpy.ndarray.\n",
      "  -> predicted values  : min = 7.18e-13, mean = 0.261, max = 1.0\n",
      "  -> model type        : regression will be used (default)\n",
      "  -> residual function : difference between y and yhat (default)\n",
      "  -> residuals         : min = -0.845, mean = -0.0105, max = 0.651\n",
      "  -> model_info        : package statsmodels\n",
      "\n",
      "A new explainer has been created!\n"
     ]
    },
    {
     "name": "stderr",
     "output_type": "stream",
     "text": [
      "c:\\Users\\mukulkathuria\\Documents\\mlprac\\driveai\\bciindexanalysis\\bcienv\\Lib\\site-packages\\dalex\\_explainer\\object.py:138: UserWarning:\n",
      "\n",
      "\n",
      "  -> predicted values  : 'predict_function' must return numpy.ndarray (1d)\n",
      "\n"
     ]
    },
    {
     "data": {
      "application/vnd.plotly.v1+json": {
       "config": {
        "displaylogo": false,
        "modeBarButtonsToRemove": [
         "sendDataToCloud",
         "lasso2d",
         "autoScale2d",
         "select2d",
         "zoom2d",
         "pan2d",
         "zoomIn2d",
         "zoomOut2d",
         "resetScale2d",
         "toggleSpikelines",
         "hoverCompareCartesian",
         "hoverClosestCartesian"
        ],
        "plotlyServerURL": "https://plot.ly",
        "staticPlot": false,
        "toImageButtonOptions": {
         "height": null,
         "width": null
        }
       },
       "data": [
        {
         "base": 0.2605039545187083,
         "connector": {
          "line": {
           "color": "#371ea3",
           "dash": "solid",
           "width": 1
          },
          "mode": "spanning"
         },
         "decreasing": {
          "marker": {
           "color": "#f05a71"
          }
         },
         "hoverinfo": "text+delta",
         "hoverlabel": {
          "bgcolor": "rgba(0,0,0,0.8)"
         },
         "hovertext": [
          "Average response: 0.261<br>Prediction: 0.078",
          "isMale = 0.0<br>increases average response by",
          "Age = 27.0<br>increases average response by",
          "isFirstTimeBuyer = 1.0<br>increases average response by",
          "OEM_Loyalty_Program = 0.0<br>decreases average response by",
          "Average response: 0.261<br>Prediction: 0.078"
         ],
         "increasing": {
          "marker": {
           "color": "#8bdcbe"
          }
         },
         "measure": [
          "relative",
          "relative",
          "relative",
          "relative",
          "relative",
          "total"
         ],
         "orientation": "h",
         "showlegend": false,
         "text": [
          "0.261",
          "+0.25",
          "+0.012",
          "+0.017",
          "-0.461",
          "0.078"
         ],
         "textposition": "outside",
         "totals": {
          "marker": {
           "color": "#371ea3"
          }
         },
         "type": "waterfall",
         "x": [
          0,
          0.25,
          0.012,
          0.017,
          -0.461,
          -0.183
         ],
         "xaxis": "x",
         "y": [
          "intercept",
          "isMale = 0.0",
          "Age = 27.0",
          "isFirstTimeBuyer = 1.0",
          "OEM_Loyalty_Program = 0.0",
          "prediction"
         ],
         "yaxis": "y"
        }
       ],
       "layout": {
        "annotations": [
         {
          "font": {
           "size": 16
          },
          "showarrow": false,
          "text": "Customer Profile",
          "x": 0.5,
          "xanchor": "center",
          "xref": "paper",
          "y": 1,
          "yanchor": "bottom",
          "yref": "paper"
         },
         {
          "font": {
           "size": 16
          },
          "showarrow": false,
          "text": "contribution",
          "x": 0.5,
          "xanchor": "center",
          "xref": "paper",
          "y": 0,
          "yanchor": "top",
          "yref": "paper",
          "yshift": -30
         }
        ],
        "font": {
         "color": "#371ea3"
        },
        "height": 273,
        "margin": {
         "b": 71,
         "r": 30,
         "t": 78
        },
        "shapes": [
         {
          "line": {
           "color": "#371ea3",
           "dash": "dot",
           "width": 1.5
          },
          "type": "line",
          "x0": 0.2605039545187083,
          "x1": 0.2605039545187083,
          "xref": "x",
          "y0": -1,
          "y1": 6,
          "yref": "y"
         }
        ],
        "template": {
         "data": {
          "scatter": [
           {
            "type": "scatter"
           }
          ]
         }
        },
        "title": {
         "text": "Ramesh Choudhary",
         "x": 0.15
        },
        "xaxis": {
         "anchor": "y",
         "automargin": true,
         "domain": [
          0,
          1
         ],
         "fixedrange": true,
         "gridwidth": 2,
         "range": [
          0.008849999999999997,
          0.6081500000000001
         ],
         "tickcolor": "white",
         "ticklen": 3,
         "ticks": "outside",
         "type": "linear",
         "zeroline": false
        },
        "yaxis": {
         "anchor": "x",
         "automargin": true,
         "autorange": "reversed",
         "domain": [
          0,
          1
         ],
         "fixedrange": true,
         "gridwidth": 2,
         "tickcolor": "white",
         "ticklen": 10,
         "ticks": "outside",
         "type": "category"
        }
       }
      }
     },
     "metadata": {},
     "output_type": "display_data"
    },
    {
     "name": "stdout",
     "output_type": "stream",
     "text": [
      "Preparation of a new explainer is initiated\n",
      "\n",
      "  -> data              : 20 rows 7 cols\n",
      "  -> target variable   : Parameter 'y' was a pandas.Series. Converted to a numpy.ndarray.\n",
      "  -> target variable   : 20 values\n",
      "  -> model_class       : statsmodels.discrete.discrete_model.BinaryResultsWrapper (default)\n",
      "  -> label             : Not specified, model's class short name will be used. (default)\n",
      "  -> predict function  : <function yhat_default at 0x000002A854322520> will be used (default)\n",
      "  -> predict function  : Accepts pandas.DataFrame and numpy.ndarray.\n",
      "  -> predicted values  : min = 7.46e-13, mean = 0.25, max = 1.0\n",
      "  -> model type        : regression will be used (default)\n",
      "  -> residual function : difference between y and yhat (default)\n",
      "  -> residuals         : min = -0.553, mean = -1.28e-12, max = 0.712\n",
      "  -> model_info        : package statsmodels\n",
      "\n",
      "A new explainer has been created!\n"
     ]
    },
    {
     "name": "stderr",
     "output_type": "stream",
     "text": [
      "c:\\Users\\mukulkathuria\\Documents\\mlprac\\driveai\\bciindexanalysis\\bcienv\\Lib\\site-packages\\dalex\\_explainer\\object.py:138: UserWarning:\n",
      "\n",
      "\n",
      "  -> predicted values  : 'predict_function' must return numpy.ndarray (1d)\n",
      "\n"
     ]
    },
    {
     "data": {
      "application/vnd.plotly.v1+json": {
       "config": {
        "displaylogo": false,
        "modeBarButtonsToRemove": [
         "sendDataToCloud",
         "lasso2d",
         "autoScale2d",
         "select2d",
         "zoom2d",
         "pan2d",
         "zoomIn2d",
         "zoomOut2d",
         "resetScale2d",
         "toggleSpikelines",
         "hoverCompareCartesian",
         "hoverClosestCartesian"
        ],
        "plotlyServerURL": "https://plot.ly",
        "staticPlot": false,
        "toImageButtonOptions": {
         "height": null,
         "width": null
        }
       },
       "data": [
        {
         "base": 0.25000000000128086,
         "connector": {
          "line": {
           "color": "#371ea3",
           "dash": "solid",
           "width": 1
          },
          "mode": "spanning"
         },
         "decreasing": {
          "marker": {
           "color": "#f05a71"
          }
         },
         "hoverinfo": "text+delta",
         "hoverlabel": {
          "bgcolor": "rgba(0,0,0,0.8)"
         },
         "hovertext": [
          "Average response: 0.25<br>Prediction: 0.0",
          "isUndecidedFinances = 1.0<br>increases average response by",
          "Finances_Status_Cash Purchase = 0.0<br>decreases average response by",
          "Finances_Status_Pending Loans = 0.0<br>increases average response by",
          "Finances_Status_Approved Loans = 0.0<br>decreases average response by",
          "Down_Payment = 50000.0<br>decreases average response by",
          "CIBIL_Score = 650.0<br>decreases average response by",
          "Finances_Status_Undecided = 1.0<br>decreases average response by",
          "Average response: 0.25<br>Prediction: 0.0"
         ],
         "increasing": {
          "marker": {
           "color": "#8bdcbe"
          }
         },
         "measure": [
          "relative",
          "relative",
          "relative",
          "relative",
          "relative",
          "relative",
          "relative",
          "relative",
          "total"
         ],
         "orientation": "h",
         "showlegend": false,
         "text": [
          "0.25",
          "+0.35",
          "0.0",
          "+0.2",
          "0.0",
          "-0.0",
          "-0.0",
          "-0.8",
          "0.0"
         ],
         "textposition": "outside",
         "totals": {
          "marker": {
           "color": "#371ea3"
          }
         },
         "type": "waterfall",
         "x": [
          0,
          0.35,
          0,
          0.2,
          0,
          0,
          0,
          -0.8,
          -0.25
         ],
         "xaxis": "x",
         "y": [
          "intercept",
          "isUndecidedFinances = 1.0",
          "Finances_Status_Cash Purchase = 0.0",
          "Finances_Status_Pending Loans = 0.0",
          "Finances_Status_Approved Loans = 0.0",
          "Down_Payment = 50000.0",
          "CIBIL_Score = 650.0",
          "Finances_Status_Undecided = 1.0",
          "prediction"
         ],
         "yaxis": "y"
        }
       ],
       "layout": {
        "annotations": [
         {
          "font": {
           "size": 16
          },
          "showarrow": false,
          "text": "Finances",
          "x": 0.5,
          "xanchor": "center",
          "xref": "paper",
          "y": 1,
          "yanchor": "bottom",
          "yref": "paper"
         },
         {
          "font": {
           "size": 16
          },
          "showarrow": false,
          "text": "contribution",
          "x": 0.5,
          "xanchor": "center",
          "xref": "paper",
          "y": 0,
          "yanchor": "top",
          "yref": "paper",
          "yshift": -30
         }
        ],
        "font": {
         "color": "#371ea3"
        },
        "height": 333,
        "margin": {
         "b": 71,
         "r": 30,
         "t": 78
        },
        "shapes": [
         {
          "line": {
           "color": "#371ea3",
           "dash": "dot",
           "width": 1.5
          },
          "type": "line",
          "x0": 0.25000000000128086,
          "x1": 0.25000000000128086,
          "xref": "x",
          "y0": -1,
          "y1": 9,
          "yref": "y"
         }
        ],
        "template": {
         "data": {
          "scatter": [
           {
            "type": "scatter"
           }
          ]
         }
        },
        "title": {
         "text": "Ramesh Choudhary",
         "x": 0.15
        },
        "xaxis": {
         "anchor": "y",
         "automargin": true,
         "domain": [
          0,
          1
         ],
         "fixedrange": true,
         "gridwidth": 2,
         "range": [
          -0.12,
          0.92
         ],
         "tickcolor": "white",
         "ticklen": 3,
         "ticks": "outside",
         "type": "linear",
         "zeroline": false
        },
        "yaxis": {
         "anchor": "x",
         "automargin": true,
         "autorange": "reversed",
         "domain": [
          0,
          1
         ],
         "fixedrange": true,
         "gridwidth": 2,
         "tickcolor": "white",
         "ticklen": 10,
         "ticks": "outside",
         "type": "category"
        }
       }
      }
     },
     "metadata": {},
     "output_type": "display_data"
    },
    {
     "name": "stdout",
     "output_type": "stream",
     "text": [
      "Preparation of a new explainer is initiated\n",
      "\n",
      "  -> data              : 20 rows 4 cols\n",
      "  -> target variable   : Parameter 'y' was a pandas.Series. Converted to a numpy.ndarray.\n",
      "  -> target variable   : 20 values\n",
      "  -> model_class       : statsmodels.discrete.discrete_model.BinaryResultsWrapper (default)\n",
      "  -> label             : Not specified, model's class short name will be used. (default)\n",
      "  -> predict function  : <function yhat_default at 0x000002A854322520> will be used (default)\n",
      "  -> predict function  : Accepts pandas.DataFrame and numpy.ndarray.\n",
      "  -> predicted values  : min = 0.000714, mean = 0.279, max = 0.795\n",
      "  -> model type        : regression will be used (default)\n",
      "  -> residual function : difference between y and yhat (default)\n",
      "  -> residuals         : min = -0.789, mean = -0.0288, max = 0.848\n",
      "  -> model_info        : package statsmodels\n",
      "\n",
      "A new explainer has been created!\n"
     ]
    },
    {
     "name": "stderr",
     "output_type": "stream",
     "text": [
      "c:\\Users\\mukulkathuria\\Documents\\mlprac\\driveai\\bciindexanalysis\\bcienv\\Lib\\site-packages\\dalex\\_explainer\\object.py:138: UserWarning:\n",
      "\n",
      "\n",
      "  -> predicted values  : 'predict_function' must return numpy.ndarray (1d)\n",
      "\n"
     ]
    },
    {
     "data": {
      "application/vnd.plotly.v1+json": {
       "config": {
        "displaylogo": false,
        "modeBarButtonsToRemove": [
         "sendDataToCloud",
         "lasso2d",
         "autoScale2d",
         "select2d",
         "zoom2d",
         "pan2d",
         "zoomIn2d",
         "zoomOut2d",
         "resetScale2d",
         "toggleSpikelines",
         "hoverCompareCartesian",
         "hoverClosestCartesian"
        ],
        "plotlyServerURL": "https://plot.ly",
        "staticPlot": false,
        "toImageButtonOptions": {
         "height": null,
         "width": null
        }
       },
       "data": [
        {
         "base": 0.27882881591472486,
         "connector": {
          "line": {
           "color": "#371ea3",
           "dash": "solid",
           "width": 1
          },
          "mode": "spanning"
         },
         "decreasing": {
          "marker": {
           "color": "#f05a71"
          }
         },
         "hoverinfo": "text+delta",
         "hoverlabel": {
          "bgcolor": "rgba(0,0,0,0.8)"
         },
         "hovertext": [
          "Average response: 0.279<br>Prediction: 0.789",
          "Booking_Lead_Time = 5.0<br>increases average response by",
          "Needs_Match = 2.0<br>increases average response by",
          "Add_Ons = 1.0<br>increases average response by",
          "Special_Occasions = 1.0<br>increases average response by",
          "Average response: 0.279<br>Prediction: 0.789"
         ],
         "increasing": {
          "marker": {
           "color": "#8bdcbe"
          }
         },
         "measure": [
          "relative",
          "relative",
          "relative",
          "relative",
          "relative",
          "total"
         ],
         "orientation": "h",
         "showlegend": false,
         "text": [
          "0.279",
          "+0.361",
          "+0.105",
          "+0.02",
          "+0.024",
          "0.789"
         ],
         "textposition": "outside",
         "totals": {
          "marker": {
           "color": "#371ea3"
          }
         },
         "type": "waterfall",
         "x": [
          0,
          0.361,
          0.105,
          0.02,
          0.024,
          0.51
         ],
         "xaxis": "x",
         "y": [
          "intercept",
          "Booking_Lead_Time = 5.0",
          "Needs_Match = 2.0",
          "Add_Ons = 1.0",
          "Special_Occasions = 1.0",
          "prediction"
         ],
         "yaxis": "y"
        }
       ],
       "layout": {
        "annotations": [
         {
          "font": {
           "size": 16
          },
          "showarrow": false,
          "text": "Booking Details",
          "x": 0.5,
          "xanchor": "center",
          "xref": "paper",
          "y": 1,
          "yanchor": "bottom",
          "yref": "paper"
         },
         {
          "font": {
           "size": 16
          },
          "showarrow": false,
          "text": "contribution",
          "x": 0.5,
          "xanchor": "center",
          "xref": "paper",
          "y": 0,
          "yanchor": "top",
          "yref": "paper",
          "yshift": -30
         }
        ],
        "font": {
         "color": "#371ea3"
        },
        "height": 273,
        "margin": {
         "b": 71,
         "r": 30,
         "t": 78
        },
        "shapes": [
         {
          "line": {
           "color": "#371ea3",
           "dash": "dot",
           "width": 1.5
          },
          "type": "line",
          "x0": 0.27882881591472486,
          "x1": 0.27882881591472486,
          "xref": "x",
          "y0": -1,
          "y1": 6,
          "yref": "y"
         }
        ],
        "template": {
         "data": {
          "scatter": [
           {
            "type": "scatter"
           }
          ]
         }
        },
        "title": {
         "text": "Ramesh Choudhary",
         "x": 0.15
        },
        "xaxis": {
         "anchor": "y",
         "automargin": true,
         "domain": [
          0,
          1
         ],
         "fixedrange": true,
         "gridwidth": 2,
         "range": [
          0.2025,
          0.8655
         ],
         "tickcolor": "white",
         "ticklen": 3,
         "ticks": "outside",
         "type": "linear",
         "zeroline": false
        },
        "yaxis": {
         "anchor": "x",
         "automargin": true,
         "autorange": "reversed",
         "domain": [
          0,
          1
         ],
         "fixedrange": true,
         "gridwidth": 2,
         "tickcolor": "white",
         "ticklen": 10,
         "ticks": "outside",
         "type": "category"
        }
       }
      }
     },
     "metadata": {},
     "output_type": "display_data"
    },
    {
     "name": "stdout",
     "output_type": "stream",
     "text": [
      "Preparation of a new explainer is initiated\n",
      "\n",
      "  -> data              : 20 rows 5 cols\n",
      "  -> target variable   : Parameter 'y' was a pandas.Series. Converted to a numpy.ndarray.\n",
      "  -> target variable   : 20 values\n",
      "  -> model_class       : statsmodels.discrete.discrete_model.BinaryResultsWrapper (default)\n",
      "  -> label             : Not specified, model's class short name will be used. (default)\n",
      "  -> predict function  : <function yhat_default at 0x000002A854322520> will be used (default)\n",
      "  -> predict function  : Accepts pandas.DataFrame and numpy.ndarray.\n",
      "  -> predicted values  : min = 9.82e-39, mean = 0.25, max = 1.0\n",
      "  -> model type        : regression will be used (default)\n",
      "  -> residual function : difference between y and yhat (default)\n",
      "  -> residuals         : min = -0.6, mean = -1.12e-09, max = 0.667\n",
      "  -> model_info        : package statsmodels\n",
      "\n",
      "A new explainer has been created!\n"
     ]
    },
    {
     "name": "stderr",
     "output_type": "stream",
     "text": [
      "c:\\Users\\mukulkathuria\\Documents\\mlprac\\driveai\\bciindexanalysis\\bcienv\\Lib\\site-packages\\dalex\\_explainer\\object.py:138: UserWarning:\n",
      "\n",
      "\n",
      "  -> predicted values  : 'predict_function' must return numpy.ndarray (1d)\n",
      "\n"
     ]
    },
    {
     "data": {
      "application/vnd.plotly.v1+json": {
       "config": {
        "displaylogo": false,
        "modeBarButtonsToRemove": [
         "sendDataToCloud",
         "lasso2d",
         "autoScale2d",
         "select2d",
         "zoom2d",
         "pan2d",
         "zoomIn2d",
         "zoomOut2d",
         "resetScale2d",
         "toggleSpikelines",
         "hoverCompareCartesian",
         "hoverClosestCartesian"
        ],
        "plotlyServerURL": "https://plot.ly",
        "staticPlot": false,
        "toImageButtonOptions": {
         "height": null,
         "width": null
        }
       },
       "data": [
        {
         "base": 0.25000000112399007,
         "connector": {
          "line": {
           "color": "#371ea3",
           "dash": "solid",
           "width": 1
          },
          "mode": "spanning"
         },
         "decreasing": {
          "marker": {
           "color": "#f05a71"
          }
         },
         "hoverinfo": "text+delta",
         "hoverlabel": {
          "bgcolor": "rgba(0,0,0,0.8)"
         },
         "hovertext": [
          "Average response: 0.25<br>Prediction: 0.333",
          "isOnDeliveryDate = 1.0<br>increases average response by",
          "Experience_With_Sales_Rep = 1.0<br>increases average response by",
          "Customer_Satisfaction_Score = 9.0<br>decreases average response by",
          "isStockAvailable = 1.0<br>decreases average response by",
          "Dealership_Engagement = 1.0<br>decreases average response by",
          "Average response: 0.25<br>Prediction: 0.333"
         ],
         "increasing": {
          "marker": {
           "color": "#8bdcbe"
          }
         },
         "measure": [
          "relative",
          "relative",
          "relative",
          "relative",
          "relative",
          "relative",
          "total"
         ],
         "orientation": "h",
         "showlegend": false,
         "text": [
          "0.25",
          "+0.233",
          "+0.317",
          "-0.162",
          "-0.236",
          "-0.069",
          "0.333"
         ],
         "textposition": "outside",
         "totals": {
          "marker": {
           "color": "#371ea3"
          }
         },
         "type": "waterfall",
         "x": [
          0,
          0.233,
          0.317,
          -0.162,
          -0.236,
          -0.069,
          0.083
         ],
         "xaxis": "x",
         "y": [
          "intercept",
          "isOnDeliveryDate = 1.0",
          "Experience_With_Sales_Rep = 1.0",
          "Customer_Satisfaction_Score = 9.0",
          "isStockAvailable = 1.0",
          "Dealership_Engagement = 1.0",
          "prediction"
         ],
         "yaxis": "y"
        }
       ],
       "layout": {
        "annotations": [
         {
          "font": {
           "size": 16
          },
          "showarrow": false,
          "text": "Delivery Details",
          "x": 0.5,
          "xanchor": "center",
          "xref": "paper",
          "y": 1,
          "yanchor": "bottom",
          "yref": "paper"
         },
         {
          "font": {
           "size": 16
          },
          "showarrow": false,
          "text": "contribution",
          "x": 0.5,
          "xanchor": "center",
          "xref": "paper",
          "y": 0,
          "yanchor": "top",
          "yref": "paper",
          "yshift": -30
         }
        ],
        "font": {
         "color": "#371ea3"
        },
        "height": 293,
        "margin": {
         "b": 71,
         "r": 30,
         "t": 78
        },
        "shapes": [
         {
          "line": {
           "color": "#371ea3",
           "dash": "dot",
           "width": 1.5
          },
          "type": "line",
          "x0": 0.25000000112399007,
          "x1": 0.25000000112399007,
          "xref": "x",
          "y0": -1,
          "y1": 7,
          "yref": "y"
         }
        ],
        "template": {
         "data": {
          "scatter": [
           {
            "type": "scatter"
           }
          ]
         }
        },
        "title": {
         "text": "Ramesh Choudhary",
         "x": 0.15
        },
        "xaxis": {
         "anchor": "y",
         "automargin": true,
         "domain": [
          0,
          1
         ],
         "fixedrange": true,
         "gridwidth": 2,
         "range": [
          0.16749999999999998,
          0.8825000000000001
         ],
         "tickcolor": "white",
         "ticklen": 3,
         "ticks": "outside",
         "type": "linear",
         "zeroline": false
        },
        "yaxis": {
         "anchor": "x",
         "automargin": true,
         "autorange": "reversed",
         "domain": [
          0,
          1
         ],
         "fixedrange": true,
         "gridwidth": 2,
         "tickcolor": "white",
         "ticklen": 10,
         "ticks": "outside",
         "type": "category"
        }
       }
      }
     },
     "metadata": {},
     "output_type": "display_data"
    },
    {
     "name": "stdout",
     "output_type": "stream",
     "text": [
      "Final Prbability:  29.99\n"
     ]
    }
   ],
   "source": [
    "def getLogitValuesofCustomer(person):\n",
    "    index = np.where(df_index['Customer name'] == person)[0][0]\n",
    "    to_predicted = X.iloc[int(index)]\n",
    "\n",
    "    model1values = [to_predicted[df_Customerprofile.columns]]\n",
    "    exp = dx.Explainer(logitsubmodel1, df_Customerprofile, y)\n",
    "    breakdown = exp.predict_parts(to_predicted[df_Customerprofile.columns], type='break_down', label='Customer Profile')\n",
    "    breakdown.plot(title=person)\n",
    "\n",
    "    model2values = [to_predicted[df_Finance.columns]]\n",
    "    exp = dx.Explainer(logitsubmodel2, df_Finance, y)\n",
    "    breakdown = exp.predict_parts(to_predicted[df_Finance.columns], type='break_down', label='Finances')\n",
    "    breakdown.plot(title=person)\n",
    "\n",
    "    model3values = [to_predicted[df_Bookingdetails.columns]]\n",
    "    exp = dx.Explainer(logitsubmodel3, df_Bookingdetails, y)\n",
    "    breakdown = exp.predict_parts(to_predicted[df_Bookingdetails.columns], type='break_down', label='Booking Details')\n",
    "    breakdown.plot(title=person)\n",
    "\n",
    "    model4values = [to_predicted[df_deliveryDetails.columns]]\n",
    "    exp = dx.Explainer(logitsubmodel4, df_deliveryDetails, y)\n",
    "    breakdown = exp.predict_parts(to_predicted[df_deliveryDetails.columns], type='break_down', label='Delivery Details')\n",
    "    breakdown.plot(title=person)\n",
    "\n",
    "    finalresult  = logitsubmodel1.predict(model1values)[0] + logitsubmodel2.predict(model2values)[0] + logitsubmodel3.predict(model3values)[0] + logitsubmodel4.predict(model4values)[0]\n",
    "    return round((finalresult * 100) / 4,2)\n",
    "\n",
    "print(\"Final Prbability: \", getLogitValuesofCustomer('Ramesh Choudhary'))"
   ]
  }
 ],
 "metadata": {
  "kernelspec": {
   "display_name": "bcienv",
   "language": "python",
   "name": "python3"
  },
  "language_info": {
   "codemirror_mode": {
    "name": "ipython",
    "version": 3
   },
   "file_extension": ".py",
   "mimetype": "text/x-python",
   "name": "python",
   "nbconvert_exporter": "python",
   "pygments_lexer": "ipython3",
   "version": "3.12.8"
  }
 },
 "nbformat": 4,
 "nbformat_minor": 2
}
