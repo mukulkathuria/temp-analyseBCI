{
 "cells": [
  {
   "cell_type": "code",
   "execution_count": 1,
   "metadata": {},
   "outputs": [],
   "source": [
    "import pandas as pd\n",
    "from matplotlib import pyplot as plt\n",
    "from scipy import stats"
   ]
  },
  {
   "cell_type": "code",
   "execution_count": 2,
   "metadata": {},
   "outputs": [
    {
     "name": "stdout",
     "output_type": "stream",
     "text": [
      "<class 'pandas.core.frame.DataFrame'>\n",
      "RangeIndex: 20 entries, 0 to 19\n",
      "Data columns (total 30 columns):\n",
      " #   Column                       Non-Null Count  Dtype \n",
      "---  ------                       --------------  ----- \n",
      " 0   Lead_ID                      20 non-null     object\n",
      " 1   Booking_ID                   20 non-null     object\n",
      " 2   Customer name                20 non-null     object\n",
      " 3   Lead_Source                  20 non-null     object\n",
      " 4   First_Time_Buyer             20 non-null     object\n",
      " 5   Age                          20 non-null     int64 \n",
      " 6   Gender                       20 non-null     object\n",
      " 7   Location                     20 non-null     object\n",
      " 8   Income                       20 non-null     int64 \n",
      " 9   OEM_Loyalty_Program          20 non-null     object\n",
      " 10  Finances_Status              20 non-null     object\n",
      " 11  CIBIL_Score                  20 non-null     int64 \n",
      " 12  Down_Payment                 20 non-null     int64 \n",
      " 13  Undecided_Finances           20 non-null     object\n",
      " 14  Special_Occasions            16 non-null     object\n",
      " 15  Booking_Lead_Time            20 non-null     object\n",
      " 16  Needs_Match                  20 non-null     object\n",
      " 17  Add_Ons                      15 non-null     object\n",
      " 18  Dealership_Engagement        20 non-null     object\n",
      " 19  Experience_With_Sales_Rep    20 non-null     object\n",
      " 20  Companion_Feedback           20 non-null     object\n",
      " 21  Stock_Status                 20 non-null     object\n",
      " 22  Delivery_Date_Status         20 non-null     object\n",
      " 23  Competitive_Factors          20 non-null     object\n",
      " 24  External_Factors             20 non-null     object\n",
      " 25  Customer_Satisfaction_Score  20 non-null     int64 \n",
      " 26  Cancellation_Probability     20 non-null     object\n",
      " 27  Vehicle_Type                 20 non-null     object\n",
      " 28  Test_Drive_Status            20 non-null     object\n",
      " 29  Preferred_Delivery_Time      20 non-null     object\n",
      "dtypes: int64(5), object(25)\n",
      "memory usage: 4.8+ KB\n"
     ]
    }
   ],
   "source": [
    "\n",
    "df = pd.read_excel('BCI backup.xlsx', sheet_name='Dummy leads')\n",
    "df.info()"
   ]
  },
  {
   "cell_type": "code",
   "execution_count": 3,
   "metadata": {},
   "outputs": [
    {
     "name": "stdout",
     "output_type": "stream",
     "text": [
      "<class 'pandas.core.frame.DataFrame'>\n",
      "RangeIndex: 20 entries, 0 to 19\n",
      "Data columns (total 30 columns):\n",
      " #   Column                       Non-Null Count  Dtype \n",
      "---  ------                       --------------  ----- \n",
      " 0   Lead_ID                      20 non-null     object\n",
      " 1   Booking_ID                   20 non-null     object\n",
      " 2   Customer name                20 non-null     object\n",
      " 3   Lead_Source                  20 non-null     object\n",
      " 4   First_Time_Buyer             20 non-null     object\n",
      " 5   Age                          20 non-null     int64 \n",
      " 6   Gender                       20 non-null     object\n",
      " 7   Location                     20 non-null     object\n",
      " 8   Income                       20 non-null     int64 \n",
      " 9   OEM_Loyalty_Program          20 non-null     object\n",
      " 10  Finances_Status              20 non-null     object\n",
      " 11  CIBIL_Score                  20 non-null     int64 \n",
      " 12  Down_Payment                 20 non-null     int64 \n",
      " 13  Undecided_Finances           20 non-null     object\n",
      " 14  Special_Occasions            20 non-null     object\n",
      " 15  Booking_Lead_Time            20 non-null     object\n",
      " 16  Needs_Match                  20 non-null     object\n",
      " 17  Add_Ons                      20 non-null     object\n",
      " 18  Dealership_Engagement        20 non-null     object\n",
      " 19  Experience_With_Sales_Rep    20 non-null     object\n",
      " 20  Companion_Feedback           20 non-null     object\n",
      " 21  Stock_Status                 20 non-null     object\n",
      " 22  Delivery_Date_Status         20 non-null     object\n",
      " 23  Competitive_Factors          20 non-null     object\n",
      " 24  External_Factors             20 non-null     object\n",
      " 25  Customer_Satisfaction_Score  20 non-null     int64 \n",
      " 26  Cancellation_Probability     20 non-null     object\n",
      " 27  Vehicle_Type                 20 non-null     object\n",
      " 28  Test_Drive_Status            20 non-null     object\n",
      " 29  Preferred_Delivery_Time      20 non-null     object\n",
      "dtypes: int64(5), object(25)\n",
      "memory usage: 4.8+ KB\n"
     ]
    }
   ],
   "source": [
    "df = df.fillna('None')\n",
    "df.info()"
   ]
  },
  {
   "cell_type": "code",
   "execution_count": 4,
   "metadata": {},
   "outputs": [
    {
     "data": {
      "text/html": [
       "<div>\n",
       "<style scoped>\n",
       "    .dataframe tbody tr th:only-of-type {\n",
       "        vertical-align: middle;\n",
       "    }\n",
       "\n",
       "    .dataframe tbody tr th {\n",
       "        vertical-align: top;\n",
       "    }\n",
       "\n",
       "    .dataframe thead th {\n",
       "        text-align: right;\n",
       "    }\n",
       "</style>\n",
       "<table border=\"1\" class=\"dataframe\">\n",
       "  <thead>\n",
       "    <tr style=\"text-align: right;\">\n",
       "      <th></th>\n",
       "      <th>Age</th>\n",
       "      <th>Income</th>\n",
       "      <th>CIBIL_Score</th>\n",
       "      <th>Down_Payment</th>\n",
       "      <th>Customer_Satisfaction_Score</th>\n",
       "    </tr>\n",
       "  </thead>\n",
       "  <tbody>\n",
       "    <tr>\n",
       "      <th>count</th>\n",
       "      <td>20.000000</td>\n",
       "      <td>2.000000e+01</td>\n",
       "      <td>20.000000</td>\n",
       "      <td>20.000000</td>\n",
       "      <td>20.000000</td>\n",
       "    </tr>\n",
       "    <tr>\n",
       "      <th>mean</th>\n",
       "      <td>35.100000</td>\n",
       "      <td>1.297500e+06</td>\n",
       "      <td>752.500000</td>\n",
       "      <td>273000.000000</td>\n",
       "      <td>7.700000</td>\n",
       "    </tr>\n",
       "    <tr>\n",
       "      <th>std</th>\n",
       "      <td>6.881707</td>\n",
       "      <td>4.021243e+05</td>\n",
       "      <td>60.686858</td>\n",
       "      <td>183420.712829</td>\n",
       "      <td>1.380313</td>\n",
       "    </tr>\n",
       "    <tr>\n",
       "      <th>min</th>\n",
       "      <td>25.000000</td>\n",
       "      <td>7.500000e+05</td>\n",
       "      <td>650.000000</td>\n",
       "      <td>50000.000000</td>\n",
       "      <td>5.000000</td>\n",
       "    </tr>\n",
       "    <tr>\n",
       "      <th>25%</th>\n",
       "      <td>29.000000</td>\n",
       "      <td>9.500000e+05</td>\n",
       "      <td>707.500000</td>\n",
       "      <td>150000.000000</td>\n",
       "      <td>7.000000</td>\n",
       "    </tr>\n",
       "    <tr>\n",
       "      <th>50%</th>\n",
       "      <td>34.500000</td>\n",
       "      <td>1.300000e+06</td>\n",
       "      <td>755.000000</td>\n",
       "      <td>200000.000000</td>\n",
       "      <td>8.000000</td>\n",
       "    </tr>\n",
       "    <tr>\n",
       "      <th>75%</th>\n",
       "      <td>39.250000</td>\n",
       "      <td>1.550000e+06</td>\n",
       "      <td>800.000000</td>\n",
       "      <td>325000.000000</td>\n",
       "      <td>9.000000</td>\n",
       "    </tr>\n",
       "    <tr>\n",
       "      <th>max</th>\n",
       "      <td>50.000000</td>\n",
       "      <td>2.000000e+06</td>\n",
       "      <td>850.000000</td>\n",
       "      <td>700000.000000</td>\n",
       "      <td>9.000000</td>\n",
       "    </tr>\n",
       "  </tbody>\n",
       "</table>\n",
       "</div>"
      ],
      "text/plain": [
       "             Age        Income  CIBIL_Score   Down_Payment  \\\n",
       "count  20.000000  2.000000e+01    20.000000      20.000000   \n",
       "mean   35.100000  1.297500e+06   752.500000  273000.000000   \n",
       "std     6.881707  4.021243e+05    60.686858  183420.712829   \n",
       "min    25.000000  7.500000e+05   650.000000   50000.000000   \n",
       "25%    29.000000  9.500000e+05   707.500000  150000.000000   \n",
       "50%    34.500000  1.300000e+06   755.000000  200000.000000   \n",
       "75%    39.250000  1.550000e+06   800.000000  325000.000000   \n",
       "max    50.000000  2.000000e+06   850.000000  700000.000000   \n",
       "\n",
       "       Customer_Satisfaction_Score  \n",
       "count                    20.000000  \n",
       "mean                      7.700000  \n",
       "std                       1.380313  \n",
       "min                       5.000000  \n",
       "25%                       7.000000  \n",
       "50%                       8.000000  \n",
       "75%                       9.000000  \n",
       "max                       9.000000  "
      ]
     },
     "execution_count": 4,
     "metadata": {},
     "output_type": "execute_result"
    }
   ],
   "source": [
    "df.describe()"
   ]
  },
  {
   "cell_type": "code",
   "execution_count": null,
   "metadata": {},
   "outputs": [
    {
     "name": "stdout",
     "output_type": "stream",
     "text": [
      "bciindex\n",
      "0    15\n",
      "1     5\n",
      "Name: count, dtype: int64\n",
      "0    1\n",
      "1    0\n",
      "2    0\n",
      "3    0\n",
      "4    0\n",
      "Name: bciindex, dtype: int64\n"
     ]
    }
   ],
   "source": [
    "from rules import bci_rules, evaluate_condition\n",
    "\n",
    "def addTargetValue(row):\n",
    "    counts = 0\n",
    "    for i in range(len(bci_rules)):\n",
    "        if evaluate_condition(row[bci_rules[i]['value']], bci_rules[i][\"condition\"]):\n",
    "            counts += 1\n",
    "    if counts >= 10:\n",
    "        return 1\n",
    "    return 0\n",
    "\n",
    "df['bciindex'] = df.apply(lambda row: addTargetValue(row), axis=1)\n",
    "print(df['bciindex'].value_counts())\n",
    "print(df['bciindex'].head())"
   ]
  },
  {
   "cell_type": "code",
   "execution_count": 6,
   "metadata": {},
   "outputs": [
    {
     "name": "stdout",
     "output_type": "stream",
     "text": [
      "0    [ExtendedWarranty, FloorMats]\n",
      "1            [UpgradedSoundSystem]\n",
      "2                           [None]\n",
      "3               [ExtendedWarranty]\n",
      "4                           [None]\n",
      "Name: Add_Ons, dtype: object\n",
      "       Lead_Source        Age        Income  OEM_Loyalty_Program  CIBIL_Score  \\\n",
      "count    20.000000  20.000000  2.000000e+01            20.000000    20.000000   \n",
      "mean      1.000000  35.100000  1.297500e+06             0.500000   752.500000   \n",
      "std       0.794719   6.881707  4.021243e+05             0.512989    60.686858   \n",
      "min       0.000000  25.000000  7.500000e+05             0.000000   650.000000   \n",
      "25%       0.000000  29.000000  9.500000e+05             0.000000   707.500000   \n",
      "50%       1.000000  34.500000  1.300000e+06             0.500000   755.000000   \n",
      "75%       2.000000  39.250000  1.550000e+06             1.000000   800.000000   \n",
      "max       2.000000  50.000000  2.000000e+06             1.000000   850.000000   \n",
      "\n",
      "        Down_Payment  Special_Occasions  Booking_Lead_Time  Needs_Match  \\\n",
      "count      20.000000          20.000000          20.000000    20.000000   \n",
      "mean   273000.000000           1.100000          20.550000     1.400000   \n",
      "std    183420.712829           0.718185          10.450258     0.680557   \n",
      "min     50000.000000           0.000000           5.000000     0.000000   \n",
      "25%    150000.000000           1.000000          13.500000     1.000000   \n",
      "50%    200000.000000           1.000000          19.000000     1.500000   \n",
      "75%    325000.000000           2.000000          26.250000     2.000000   \n",
      "max    700000.000000           2.000000          45.000000     2.000000   \n",
      "\n",
      "       Dealership_Engagement  ...  Customer_Satisfaction_Score  \\\n",
      "count              20.000000  ...                    20.000000   \n",
      "mean                1.200000  ...                     7.700000   \n",
      "std                 0.767772  ...                     1.380313   \n",
      "min                 0.000000  ...                     5.000000   \n",
      "25%                 1.000000  ...                     7.000000   \n",
      "50%                 1.000000  ...                     8.000000   \n",
      "75%                 2.000000  ...                     9.000000   \n",
      "max                 2.000000  ...                     9.000000   \n",
      "\n",
      "       Cancellation_Probability  Test_Drive_Status  Preferred_Delivery_Time  \\\n",
      "count                  20.00000          20.000000                20.000000   \n",
      "mean                    0.65000           0.750000                 0.900000   \n",
      "std                     0.67082           0.444262                 0.852242   \n",
      "min                     0.00000           0.000000                 0.000000   \n",
      "25%                     0.00000           0.750000                 0.000000   \n",
      "50%                     1.00000           1.000000                 1.000000   \n",
      "75%                     1.00000           1.000000                 2.000000   \n",
      "max                     2.00000           1.000000                 2.000000   \n",
      "\n",
      "        bciindex     isMale  isStockAvailable  isOnDeliveryDate  \\\n",
      "count  20.000000  20.000000         20.000000         20.000000   \n",
      "mean    0.250000   0.500000          0.600000          0.600000   \n",
      "std     0.444262   0.512989          0.502625          0.502625   \n",
      "min     0.000000   0.000000          0.000000          0.000000   \n",
      "25%     0.000000   0.000000          0.000000          0.000000   \n",
      "50%     0.000000   0.500000          1.000000          1.000000   \n",
      "75%     0.250000   1.000000          1.000000          1.000000   \n",
      "max     1.000000   1.000000          1.000000          1.000000   \n",
      "\n",
      "       isUndecidedFinances  isFirstTimeBuyer  \n",
      "count            20.000000         20.000000  \n",
      "mean              0.450000          0.600000  \n",
      "std               0.510418          0.502625  \n",
      "min               0.000000          0.000000  \n",
      "25%               0.000000          0.000000  \n",
      "50%               0.000000          1.000000  \n",
      "75%               1.000000          1.000000  \n",
      "max               1.000000          1.000000  \n",
      "\n",
      "[8 rows x 24 columns]\n"
     ]
    }
   ],
   "source": [
    "def checkRows(row):\n",
    "    row['Booking_Lead_Time'] = int(row['Booking_Lead_Time'].replace(' days', ''))\n",
    "    row['Add_Ons'] = row['Add_Ons'].replace(' ', '').split(';')\n",
    "    row['OEM_Loyalty_Program'] = 1 if row['OEM_Loyalty_Program'] == 'Yes' else 0\n",
    "    return row\n",
    "df['isMale'] = df['Gender'].map({'Male': 1, 'Female': 0})\n",
    "df['Lead_Source'] = df['Lead_Source'].map({ 'Referral': 2 , 'Online': 1, 'Walk-in': 0})\n",
    "df['Needs_Match'] = df['Needs_Match'].map({ 'High': 2 , 'Medium': 1, 'Low': 0})\n",
    "df['Dealership_Engagement'] = df['Dealership_Engagement'].map({ 'High': 2 , 'Medium': 1, 'Low': 0})\n",
    "df['Competitive_Factors'] = df['Competitive_Factors'].map({ 'High': 2 , 'Medium': 1, 'Low': 0})\n",
    "df['External_Factors'] = df['External_Factors'].map({ 'High': 2 , 'Medium': 1, 'Low': 0})\n",
    "df['Cancellation_Probability'] = df['Cancellation_Probability'].map({ 'High': 2 , 'Medium': 1, 'Low': 0})\n",
    "df['Preferred_Delivery_Time'] = df['Preferred_Delivery_Time'].map({ 'Evening': 2 , 'Afternoon': 1, 'Morning': 0})\n",
    "df['isStockAvailable'] = df['Stock_Status'].map({'Available': 1, 'Unavailable': 0})\n",
    "df['isOnDeliveryDate'] = df['Delivery_Date_Status'].map({'On-Time': 1, 'Delayed': 0})\n",
    "df['isUndecidedFinances'] = df['Undecided_Finances'].map({'Yes': 1, 'No': 0})\n",
    "df['isFirstTimeBuyer'] = df['First_Time_Buyer'].map({'Yes': 1, 'No': 0})\n",
    "df['Test_Drive_Status'] = df['Test_Drive_Status'].map({'Completed': 1, 'Not Taken': 0})\n",
    "df['Experience_With_Sales_Rep'] = df['Experience_With_Sales_Rep'].map({ 'Positive': 1 , 'Neutral': 0, 'Negative': -1})\n",
    "df['Companion_Feedback'] = df['Companion_Feedback'].map({ 'Positive': 1 , 'Neutral': 0, 'Negative': -1})\n",
    "df['Special_Occasions'] = df['Special_Occasions'].map({ 'Wedding': 2 , 'Festival': 1, 'None': 0})\n",
    "df = df.apply(checkRows, axis=1)\n",
    "print(df['Add_Ons'].head())\n",
    "print(df.describe())"
   ]
  },
  {
   "cell_type": "code",
   "execution_count": 7,
   "metadata": {},
   "outputs": [
    {
     "data": {
      "text/plain": [
       "array([[<Axes: title={'center': 'Lead_Source'}>,\n",
       "        <Axes: title={'center': 'Age'}>,\n",
       "        <Axes: title={'center': 'Income'}>,\n",
       "        <Axes: title={'center': 'OEM_Loyalty_Program'}>,\n",
       "        <Axes: title={'center': 'CIBIL_Score'}>],\n",
       "       [<Axes: title={'center': 'Down_Payment'}>,\n",
       "        <Axes: title={'center': 'Special_Occasions'}>,\n",
       "        <Axes: title={'center': 'Booking_Lead_Time'}>,\n",
       "        <Axes: title={'center': 'Needs_Match'}>,\n",
       "        <Axes: title={'center': 'Dealership_Engagement'}>],\n",
       "       [<Axes: title={'center': 'Experience_With_Sales_Rep'}>,\n",
       "        <Axes: title={'center': 'Companion_Feedback'}>,\n",
       "        <Axes: title={'center': 'Competitive_Factors'}>,\n",
       "        <Axes: title={'center': 'External_Factors'}>,\n",
       "        <Axes: title={'center': 'Customer_Satisfaction_Score'}>],\n",
       "       [<Axes: title={'center': 'Cancellation_Probability'}>,\n",
       "        <Axes: title={'center': 'Test_Drive_Status'}>,\n",
       "        <Axes: title={'center': 'Preferred_Delivery_Time'}>,\n",
       "        <Axes: title={'center': 'bciindex'}>,\n",
       "        <Axes: title={'center': 'isMale'}>],\n",
       "       [<Axes: title={'center': 'isStockAvailable'}>,\n",
       "        <Axes: title={'center': 'isOnDeliveryDate'}>,\n",
       "        <Axes: title={'center': 'isUndecidedFinances'}>,\n",
       "        <Axes: title={'center': 'isFirstTimeBuyer'}>, <Axes: >]],\n",
       "      dtype=object)"
      ]
     },
     "execution_count": 7,
     "metadata": {},
     "output_type": "execute_result"
    },
    {
     "data": {
      "image/png": "[encoded data removed]",
      "text/plain": [
       "<Figure size 1500x1000 with 25 Axes>"
      ]
     },
     "metadata": {},
     "output_type": "display_data"
    }
   ],
   "source": [
    "df.hist(bins=5, figsize=(15,10))"
   ]
  },
  {
   "cell_type": "code",
   "execution_count": 8,
   "metadata": {},
   "outputs": [],
   "source": [
    "# import seaborn as sns\n",
    "# df_filtered = df.select_dtypes(include=['int64', 'float64'])\n",
    "# sns.pairplot(df_filtered)"
   ]
  },
  {
   "cell_type": "code",
   "execution_count": 9,
   "metadata": {},
   "outputs": [
    {
     "name": "stdout",
     "output_type": "stream",
     "text": [
      "T-statistic: 0.51880524140054, P-value: 0.6102163399683445\n"
     ]
    }
   ],
   "source": [
    "\n",
    "\n",
    "first_time_buyers = df[df['First_Time_Buyer'] == 'Yes']['Customer_Satisfaction_Score']\n",
    "repeat_customers = df[df['First_Time_Buyer'] == 'No']['Customer_Satisfaction_Score']\n",
    "\n",
    "t_statistic, p_value = stats.ttest_ind(first_time_buyers, repeat_customers)\n",
    "\n",
    "print(f\"T-statistic: {t_statistic}, P-value: {p_value}\")"
   ]
  },
  {
   "cell_type": "code",
   "execution_count": 10,
   "metadata": {},
   "outputs": [
    {
     "data": {
      "text/html": [
       "<div>\n",
       "<style scoped>\n",
       "    .dataframe tbody tr th:only-of-type {\n",
       "        vertical-align: middle;\n",
       "    }\n",
       "\n",
       "    .dataframe tbody tr th {\n",
       "        vertical-align: top;\n",
       "    }\n",
       "\n",
       "    .dataframe thead th {\n",
       "        text-align: right;\n",
       "    }\n",
       "</style>\n",
       "<table border=\"1\" class=\"dataframe\">\n",
       "  <thead>\n",
       "    <tr style=\"text-align: right;\">\n",
       "      <th></th>\n",
       "      <th>Lead_Source</th>\n",
       "      <th>Age</th>\n",
       "      <th>Income</th>\n",
       "      <th>OEM_Loyalty_Program</th>\n",
       "      <th>Finances_Status</th>\n",
       "      <th>CIBIL_Score</th>\n",
       "      <th>Down_Payment</th>\n",
       "      <th>Special_Occasions</th>\n",
       "      <th>Booking_Lead_Time</th>\n",
       "      <th>Needs_Match</th>\n",
       "      <th>...</th>\n",
       "      <th>bciindex</th>\n",
       "      <th>isMale</th>\n",
       "      <th>isStockAvailable</th>\n",
       "      <th>isOnDeliveryDate</th>\n",
       "      <th>isUndecidedFinances</th>\n",
       "      <th>isFirstTimeBuyer</th>\n",
       "      <th>ExtendedWarranty</th>\n",
       "      <th>FloorMats</th>\n",
       "      <th>None</th>\n",
       "      <th>UpgradedSoundSystem</th>\n",
       "    </tr>\n",
       "  </thead>\n",
       "  <tbody>\n",
       "    <tr>\n",
       "      <th>0</th>\n",
       "      <td>1</td>\n",
       "      <td>28</td>\n",
       "      <td>1200000</td>\n",
       "      <td>1</td>\n",
       "      <td>Approved Loans</td>\n",
       "      <td>750</td>\n",
       "      <td>200000</td>\n",
       "      <td>1</td>\n",
       "      <td>15</td>\n",
       "      <td>2</td>\n",
       "      <td>...</td>\n",
       "      <td>1</td>\n",
       "      <td>1</td>\n",
       "      <td>1</td>\n",
       "      <td>1</td>\n",
       "      <td>0</td>\n",
       "      <td>1</td>\n",
       "      <td>1</td>\n",
       "      <td>1</td>\n",
       "      <td>0</td>\n",
       "      <td>0</td>\n",
       "    </tr>\n",
       "    <tr>\n",
       "      <th>1</th>\n",
       "      <td>0</td>\n",
       "      <td>35</td>\n",
       "      <td>1800000</td>\n",
       "      <td>0</td>\n",
       "      <td>Cash Purchase</td>\n",
       "      <td>800</td>\n",
       "      <td>500000</td>\n",
       "      <td>2</td>\n",
       "      <td>30</td>\n",
       "      <td>1</td>\n",
       "      <td>...</td>\n",
       "      <td>0</td>\n",
       "      <td>0</td>\n",
       "      <td>0</td>\n",
       "      <td>0</td>\n",
       "      <td>0</td>\n",
       "      <td>0</td>\n",
       "      <td>0</td>\n",
       "      <td>0</td>\n",
       "      <td>0</td>\n",
       "      <td>1</td>\n",
       "    </tr>\n",
       "    <tr>\n",
       "      <th>2</th>\n",
       "      <td>2</td>\n",
       "      <td>45</td>\n",
       "      <td>1500000</td>\n",
       "      <td>1</td>\n",
       "      <td>Pending Loans</td>\n",
       "      <td>700</td>\n",
       "      <td>150000</td>\n",
       "      <td>0</td>\n",
       "      <td>10</td>\n",
       "      <td>0</td>\n",
       "      <td>...</td>\n",
       "      <td>0</td>\n",
       "      <td>1</td>\n",
       "      <td>1</td>\n",
       "      <td>1</td>\n",
       "      <td>1</td>\n",
       "      <td>1</td>\n",
       "      <td>0</td>\n",
       "      <td>0</td>\n",
       "      <td>1</td>\n",
       "      <td>0</td>\n",
       "    </tr>\n",
       "    <tr>\n",
       "      <th>3</th>\n",
       "      <td>1</td>\n",
       "      <td>32</td>\n",
       "      <td>800000</td>\n",
       "      <td>0</td>\n",
       "      <td>Undecided</td>\n",
       "      <td>670</td>\n",
       "      <td>100000</td>\n",
       "      <td>1</td>\n",
       "      <td>7</td>\n",
       "      <td>1</td>\n",
       "      <td>...</td>\n",
       "      <td>0</td>\n",
       "      <td>0</td>\n",
       "      <td>0</td>\n",
       "      <td>0</td>\n",
       "      <td>1</td>\n",
       "      <td>1</td>\n",
       "      <td>1</td>\n",
       "      <td>0</td>\n",
       "      <td>0</td>\n",
       "      <td>0</td>\n",
       "    </tr>\n",
       "    <tr>\n",
       "      <th>4</th>\n",
       "      <td>0</td>\n",
       "      <td>50</td>\n",
       "      <td>2000000</td>\n",
       "      <td>1</td>\n",
       "      <td>Cash Purchase</td>\n",
       "      <td>850</td>\n",
       "      <td>700000</td>\n",
       "      <td>0</td>\n",
       "      <td>45</td>\n",
       "      <td>2</td>\n",
       "      <td>...</td>\n",
       "      <td>0</td>\n",
       "      <td>1</td>\n",
       "      <td>1</td>\n",
       "      <td>1</td>\n",
       "      <td>0</td>\n",
       "      <td>0</td>\n",
       "      <td>0</td>\n",
       "      <td>0</td>\n",
       "      <td>1</td>\n",
       "      <td>0</td>\n",
       "    </tr>\n",
       "  </tbody>\n",
       "</table>\n",
       "<p>5 rows × 30 columns</p>\n",
       "</div>"
      ],
      "text/plain": [
       "   Lead_Source  Age   Income  OEM_Loyalty_Program Finances_Status  \\\n",
       "0            1   28  1200000                    1  Approved Loans   \n",
       "1            0   35  1800000                    0   Cash Purchase   \n",
       "2            2   45  1500000                    1   Pending Loans   \n",
       "3            1   32   800000                    0       Undecided   \n",
       "4            0   50  2000000                    1   Cash Purchase   \n",
       "\n",
       "   CIBIL_Score  Down_Payment  Special_Occasions  Booking_Lead_Time  \\\n",
       "0          750        200000                  1                 15   \n",
       "1          800        500000                  2                 30   \n",
       "2          700        150000                  0                 10   \n",
       "3          670        100000                  1                  7   \n",
       "4          850        700000                  0                 45   \n",
       "\n",
       "   Needs_Match  ...  bciindex  isMale  isStockAvailable  isOnDeliveryDate  \\\n",
       "0            2  ...         1       1                 1                 1   \n",
       "1            1  ...         0       0                 0                 0   \n",
       "2            0  ...         0       1                 1                 1   \n",
       "3            1  ...         0       0                 0                 0   \n",
       "4            2  ...         0       1                 1                 1   \n",
       "\n",
       "   isUndecidedFinances  isFirstTimeBuyer  ExtendedWarranty FloorMats  None  \\\n",
       "0                    0                 1                 1         1     0   \n",
       "1                    0                 0                 0         0     0   \n",
       "2                    1                 1                 0         0     1   \n",
       "3                    1                 1                 1         0     0   \n",
       "4                    0                 0                 0         0     1   \n",
       "\n",
       "   UpgradedSoundSystem  \n",
       "0                    0  \n",
       "1                    1  \n",
       "2                    0  \n",
       "3                    0  \n",
       "4                    0  \n",
       "\n",
       "[5 rows x 30 columns]"
      ]
     },
     "execution_count": 10,
     "metadata": {},
     "output_type": "execute_result"
    }
   ],
   "source": [
    "from sklearn.preprocessing import MultiLabelBinarizer\n",
    "mlb = MultiLabelBinarizer()\n",
    "models_encoded = mlb.fit_transform(df['Add_Ons'])\n",
    "models_encoded_df = pd.DataFrame(models_encoded, columns=mlb.classes_)\n",
    "df = df.join(models_encoded_df)\n",
    "df = df.drop(['Lead_ID', 'Booking_ID', 'Customer name', 'Add_Ons', 'Gender', 'Stock_Status', 'Delivery_Date_Status', 'Undecided_Finances', 'First_Time_Buyer', 'Location'], axis=1)\n",
    "df.head()"
   ]
  },
  {
   "cell_type": "code",
   "execution_count": 11,
   "metadata": {},
   "outputs": [
    {
     "data": {
      "text/plain": [
       "Index(['Finances_Status', 'Vehicle_Type'], dtype='object')"
      ]
     },
     "execution_count": 11,
     "metadata": {},
     "output_type": "execute_result"
    }
   ],
   "source": [
    "df_filtered = df.select_dtypes(exclude=['int64', 'float64', 'datetime64[ns]'])\n",
    "df_filtered.columns"
   ]
  },
  {
   "cell_type": "code",
   "execution_count": 12,
   "metadata": {},
   "outputs": [
    {
     "name": "stdout",
     "output_type": "stream",
     "text": [
      "<class 'pandas.core.frame.DataFrame'>\n",
      "RangeIndex: 20 entries, 0 to 19\n",
      "Data columns (total 35 columns):\n",
      " #   Column                          Non-Null Count  Dtype  \n",
      "---  ------                          --------------  -----  \n",
      " 0   Lead_Source                     20 non-null     int64  \n",
      " 1   Age                             20 non-null     int64  \n",
      " 2   Income                          20 non-null     int64  \n",
      " 3   OEM_Loyalty_Program             20 non-null     int64  \n",
      " 4   CIBIL_Score                     20 non-null     int64  \n",
      " 5   Down_Payment                    20 non-null     int64  \n",
      " 6   Special_Occasions               20 non-null     int64  \n",
      " 7   Booking_Lead_Time               20 non-null     int64  \n",
      " 8   Needs_Match                     20 non-null     int64  \n",
      " 9   Dealership_Engagement           20 non-null     int64  \n",
      " 10  Experience_With_Sales_Rep       20 non-null     int64  \n",
      " 11  Companion_Feedback              20 non-null     int64  \n",
      " 12  Competitive_Factors             20 non-null     int64  \n",
      " 13  External_Factors                20 non-null     int64  \n",
      " 14  Customer_Satisfaction_Score     20 non-null     int64  \n",
      " 15  Cancellation_Probability        20 non-null     int64  \n",
      " 16  Test_Drive_Status               20 non-null     int64  \n",
      " 17  Preferred_Delivery_Time         20 non-null     int64  \n",
      " 18  bciindex                        20 non-null     int64  \n",
      " 19  isMale                          20 non-null     int64  \n",
      " 20  isStockAvailable                20 non-null     int64  \n",
      " 21  isOnDeliveryDate                20 non-null     int64  \n",
      " 22  isUndecidedFinances             20 non-null     int64  \n",
      " 23  isFirstTimeBuyer                20 non-null     int64  \n",
      " 24  ExtendedWarranty                20 non-null     int64  \n",
      " 25  FloorMats                       20 non-null     int64  \n",
      " 26  None                            20 non-null     int64  \n",
      " 27  UpgradedSoundSystem             20 non-null     int64  \n",
      " 28  Finances_Status_Approved Loans  20 non-null     float64\n",
      " 29  Finances_Status_Cash Purchase   20 non-null     float64\n",
      " 30  Finances_Status_Pending Loans   20 non-null     float64\n",
      " 31  Finances_Status_Undecided       20 non-null     float64\n",
      " 32  Vehicle_Type_Hatchback          20 non-null     float64\n",
      " 33  Vehicle_Type_SUV                20 non-null     float64\n",
      " 34  Vehicle_Type_Sedan              20 non-null     float64\n",
      "dtypes: float64(7), int64(28)\n",
      "memory usage: 5.6 KB\n"
     ]
    }
   ],
   "source": [
    "from sklearn.preprocessing import OneHotEncoder\n",
    "prusage_encoder = OneHotEncoder(sparse_output=False)\n",
    "hot_encoded_data = prusage_encoder.fit_transform(df[df_filtered.columns])\n",
    "one_hot_df = pd.DataFrame(hot_encoded_data, columns=prusage_encoder.get_feature_names_out(df_filtered.columns))\n",
    "df = df.drop(df_filtered.columns, axis=1)\n",
    "df = df.join(one_hot_df)\n",
    "df.info()"
   ]
  },
  {
   "cell_type": "code",
   "execution_count": 13,
   "metadata": {},
   "outputs": [
    {
     "data": {
      "text/html": [
       "<div>\n",
       "<style scoped>\n",
       "    .dataframe tbody tr th:only-of-type {\n",
       "        vertical-align: middle;\n",
       "    }\n",
       "\n",
       "    .dataframe tbody tr th {\n",
       "        vertical-align: top;\n",
       "    }\n",
       "\n",
       "    .dataframe thead th {\n",
       "        text-align: right;\n",
       "    }\n",
       "</style>\n",
       "<table border=\"1\" class=\"dataframe\">\n",
       "  <thead>\n",
       "    <tr style=\"text-align: right;\">\n",
       "      <th></th>\n",
       "      <th>Lead_Source</th>\n",
       "      <th>Age</th>\n",
       "      <th>Income</th>\n",
       "      <th>OEM_Loyalty_Program</th>\n",
       "      <th>CIBIL_Score</th>\n",
       "      <th>Down_Payment</th>\n",
       "      <th>Special_Occasions</th>\n",
       "      <th>Booking_Lead_Time</th>\n",
       "      <th>Needs_Match</th>\n",
       "      <th>Dealership_Engagement</th>\n",
       "      <th>Experience_With_Sales_Rep</th>\n",
       "      <th>Companion_Feedback</th>\n",
       "      <th>Competitive_Factors</th>\n",
       "      <th>External_Factors</th>\n",
       "      <th>Customer_Satisfaction_Score</th>\n",
       "      <th>Cancellation_Probability</th>\n",
       "      <th>Test_Drive_Status</th>\n",
       "      <th>Preferred_Delivery_Time</th>\n",
       "      <th>bciindex</th>\n",
       "      <th>isMale</th>\n",
       "      <th>isStockAvailable</th>\n",
       "      <th>isOnDeliveryDate</th>\n",
       "      <th>isUndecidedFinances</th>\n",
       "      <th>isFirstTimeBuyer</th>\n",
       "      <th>ExtendedWarranty</th>\n",
       "      <th>FloorMats</th>\n",
       "      <th>None</th>\n",
       "      <th>UpgradedSoundSystem</th>\n",
       "      <th>Finances_Status_Approved Loans</th>\n",
       "      <th>Finances_Status_Cash Purchase</th>\n",
       "      <th>Finances_Status_Pending Loans</th>\n",
       "      <th>Finances_Status_Undecided</th>\n",
       "      <th>Vehicle_Type_Hatchback</th>\n",
       "      <th>Vehicle_Type_SUV</th>\n",
       "      <th>Vehicle_Type_Sedan</th>\n",
       "    </tr>\n",
       "  </thead>\n",
       "  <tbody>\n",
       "    <tr>\n",
       "      <th>0</th>\n",
       "      <td>1</td>\n",
       "      <td>28</td>\n",
       "      <td>1200000</td>\n",
       "      <td>1</td>\n",
       "      <td>750</td>\n",
       "      <td>200000</td>\n",
       "      <td>1</td>\n",
       "      <td>15</td>\n",
       "      <td>2</td>\n",
       "      <td>2</td>\n",
       "      <td>1</td>\n",
       "      <td>1</td>\n",
       "      <td>0</td>\n",
       "      <td>0</td>\n",
       "      <td>9</td>\n",
       "      <td>0</td>\n",
       "      <td>1</td>\n",
       "      <td>0</td>\n",
       "      <td>1</td>\n",
       "      <td>1</td>\n",
       "      <td>1</td>\n",
       "      <td>1</td>\n",
       "      <td>0</td>\n",
       "      <td>1</td>\n",
       "      <td>1</td>\n",
       "      <td>1</td>\n",
       "      <td>0</td>\n",
       "      <td>0</td>\n",
       "      <td>1.0</td>\n",
       "      <td>0.0</td>\n",
       "      <td>0.0</td>\n",
       "      <td>0.0</td>\n",
       "      <td>0.0</td>\n",
       "      <td>1.0</td>\n",
       "      <td>0.0</td>\n",
       "    </tr>\n",
       "    <tr>\n",
       "      <th>1</th>\n",
       "      <td>0</td>\n",
       "      <td>35</td>\n",
       "      <td>1800000</td>\n",
       "      <td>0</td>\n",
       "      <td>800</td>\n",
       "      <td>500000</td>\n",
       "      <td>2</td>\n",
       "      <td>30</td>\n",
       "      <td>1</td>\n",
       "      <td>1</td>\n",
       "      <td>0</td>\n",
       "      <td>0</td>\n",
       "      <td>1</td>\n",
       "      <td>1</td>\n",
       "      <td>7</td>\n",
       "      <td>1</td>\n",
       "      <td>0</td>\n",
       "      <td>1</td>\n",
       "      <td>0</td>\n",
       "      <td>0</td>\n",
       "      <td>0</td>\n",
       "      <td>0</td>\n",
       "      <td>0</td>\n",
       "      <td>0</td>\n",
       "      <td>0</td>\n",
       "      <td>0</td>\n",
       "      <td>0</td>\n",
       "      <td>1</td>\n",
       "      <td>0.0</td>\n",
       "      <td>1.0</td>\n",
       "      <td>0.0</td>\n",
       "      <td>0.0</td>\n",
       "      <td>0.0</td>\n",
       "      <td>0.0</td>\n",
       "      <td>1.0</td>\n",
       "    </tr>\n",
       "    <tr>\n",
       "      <th>2</th>\n",
       "      <td>2</td>\n",
       "      <td>45</td>\n",
       "      <td>1500000</td>\n",
       "      <td>1</td>\n",
       "      <td>700</td>\n",
       "      <td>150000</td>\n",
       "      <td>0</td>\n",
       "      <td>10</td>\n",
       "      <td>0</td>\n",
       "      <td>0</td>\n",
       "      <td>-1</td>\n",
       "      <td>-1</td>\n",
       "      <td>2</td>\n",
       "      <td>2</td>\n",
       "      <td>5</td>\n",
       "      <td>2</td>\n",
       "      <td>1</td>\n",
       "      <td>2</td>\n",
       "      <td>0</td>\n",
       "      <td>1</td>\n",
       "      <td>1</td>\n",
       "      <td>1</td>\n",
       "      <td>1</td>\n",
       "      <td>1</td>\n",
       "      <td>0</td>\n",
       "      <td>0</td>\n",
       "      <td>1</td>\n",
       "      <td>0</td>\n",
       "      <td>0.0</td>\n",
       "      <td>0.0</td>\n",
       "      <td>1.0</td>\n",
       "      <td>0.0</td>\n",
       "      <td>1.0</td>\n",
       "      <td>0.0</td>\n",
       "      <td>0.0</td>\n",
       "    </tr>\n",
       "    <tr>\n",
       "      <th>3</th>\n",
       "      <td>1</td>\n",
       "      <td>32</td>\n",
       "      <td>800000</td>\n",
       "      <td>0</td>\n",
       "      <td>670</td>\n",
       "      <td>100000</td>\n",
       "      <td>1</td>\n",
       "      <td>7</td>\n",
       "      <td>1</td>\n",
       "      <td>2</td>\n",
       "      <td>1</td>\n",
       "      <td>0</td>\n",
       "      <td>1</td>\n",
       "      <td>0</td>\n",
       "      <td>8</td>\n",
       "      <td>1</td>\n",
       "      <td>1</td>\n",
       "      <td>0</td>\n",
       "      <td>0</td>\n",
       "      <td>0</td>\n",
       "      <td>0</td>\n",
       "      <td>0</td>\n",
       "      <td>1</td>\n",
       "      <td>1</td>\n",
       "      <td>1</td>\n",
       "      <td>0</td>\n",
       "      <td>0</td>\n",
       "      <td>0</td>\n",
       "      <td>0.0</td>\n",
       "      <td>0.0</td>\n",
       "      <td>0.0</td>\n",
       "      <td>1.0</td>\n",
       "      <td>0.0</td>\n",
       "      <td>1.0</td>\n",
       "      <td>0.0</td>\n",
       "    </tr>\n",
       "    <tr>\n",
       "      <th>4</th>\n",
       "      <td>0</td>\n",
       "      <td>50</td>\n",
       "      <td>2000000</td>\n",
       "      <td>1</td>\n",
       "      <td>850</td>\n",
       "      <td>700000</td>\n",
       "      <td>0</td>\n",
       "      <td>45</td>\n",
       "      <td>2</td>\n",
       "      <td>1</td>\n",
       "      <td>1</td>\n",
       "      <td>1</td>\n",
       "      <td>0</td>\n",
       "      <td>0</td>\n",
       "      <td>9</td>\n",
       "      <td>0</td>\n",
       "      <td>0</td>\n",
       "      <td>1</td>\n",
       "      <td>0</td>\n",
       "      <td>1</td>\n",
       "      <td>1</td>\n",
       "      <td>1</td>\n",
       "      <td>0</td>\n",
       "      <td>0</td>\n",
       "      <td>0</td>\n",
       "      <td>0</td>\n",
       "      <td>1</td>\n",
       "      <td>0</td>\n",
       "      <td>0.0</td>\n",
       "      <td>1.0</td>\n",
       "      <td>0.0</td>\n",
       "      <td>0.0</td>\n",
       "      <td>0.0</td>\n",
       "      <td>0.0</td>\n",
       "      <td>1.0</td>\n",
       "    </tr>\n",
       "  </tbody>\n",
       "</table>\n",
       "</div>"
      ],
      "text/plain": [
       "   Lead_Source  Age   Income  OEM_Loyalty_Program  CIBIL_Score  Down_Payment  \\\n",
       "0            1   28  1200000                    1          750        200000   \n",
       "1            0   35  1800000                    0          800        500000   \n",
       "2            2   45  1500000                    1          700        150000   \n",
       "3            1   32   800000                    0          670        100000   \n",
       "4            0   50  2000000                    1          850        700000   \n",
       "\n",
       "   Special_Occasions  Booking_Lead_Time  Needs_Match  Dealership_Engagement  \\\n",
       "0                  1                 15            2                      2   \n",
       "1                  2                 30            1                      1   \n",
       "2                  0                 10            0                      0   \n",
       "3                  1                  7            1                      2   \n",
       "4                  0                 45            2                      1   \n",
       "\n",
       "   Experience_With_Sales_Rep  Companion_Feedback  Competitive_Factors  \\\n",
       "0                          1                   1                    0   \n",
       "1                          0                   0                    1   \n",
       "2                         -1                  -1                    2   \n",
       "3                          1                   0                    1   \n",
       "4                          1                   1                    0   \n",
       "\n",
       "   External_Factors  Customer_Satisfaction_Score  Cancellation_Probability  \\\n",
       "0                 0                            9                         0   \n",
       "1                 1                            7                         1   \n",
       "2                 2                            5                         2   \n",
       "3                 0                            8                         1   \n",
       "4                 0                            9                         0   \n",
       "\n",
       "   Test_Drive_Status  Preferred_Delivery_Time  bciindex  isMale  \\\n",
       "0                  1                        0         1       1   \n",
       "1                  0                        1         0       0   \n",
       "2                  1                        2         0       1   \n",
       "3                  1                        0         0       0   \n",
       "4                  0                        1         0       1   \n",
       "\n",
       "   isStockAvailable  isOnDeliveryDate  isUndecidedFinances  isFirstTimeBuyer  \\\n",
       "0                 1                 1                    0                 1   \n",
       "1                 0                 0                    0                 0   \n",
       "2                 1                 1                    1                 1   \n",
       "3                 0                 0                    1                 1   \n",
       "4                 1                 1                    0                 0   \n",
       "\n",
       "   ExtendedWarranty  FloorMats  None  UpgradedSoundSystem  \\\n",
       "0                 1          1     0                    0   \n",
       "1                 0          0     0                    1   \n",
       "2                 0          0     1                    0   \n",
       "3                 1          0     0                    0   \n",
       "4                 0          0     1                    0   \n",
       "\n",
       "   Finances_Status_Approved Loans  Finances_Status_Cash Purchase  \\\n",
       "0                             1.0                            0.0   \n",
       "1                             0.0                            1.0   \n",
       "2                             0.0                            0.0   \n",
       "3                             0.0                            0.0   \n",
       "4                             0.0                            1.0   \n",
       "\n",
       "   Finances_Status_Pending Loans  Finances_Status_Undecided  \\\n",
       "0                            0.0                        0.0   \n",
       "1                            0.0                        0.0   \n",
       "2                            1.0                        0.0   \n",
       "3                            0.0                        1.0   \n",
       "4                            0.0                        0.0   \n",
       "\n",
       "   Vehicle_Type_Hatchback  Vehicle_Type_SUV  Vehicle_Type_Sedan  \n",
       "0                     0.0               1.0                 0.0  \n",
       "1                     0.0               0.0                 1.0  \n",
       "2                     1.0               0.0                 0.0  \n",
       "3                     0.0               1.0                 0.0  \n",
       "4                     0.0               0.0                 1.0  "
      ]
     },
     "execution_count": 13,
     "metadata": {},
     "output_type": "execute_result"
    }
   ],
   "source": [
    "pd.set_option('display.max_columns', None)\n",
    "df.head()"
   ]
  },
  {
   "cell_type": "code",
   "execution_count": 14,
   "metadata": {},
   "outputs": [
    {
     "name": "stdout",
     "output_type": "stream",
     "text": [
      "{'Down_Payment', 'Experience_With_Sales_Rep', 'isUndecidedFinances', 'Cancellation_Probability', 'Customer_Satisfaction_Score', 'Finances_Status_Cash Purchase'}\n"
     ]
    }
   ],
   "source": [
    "df.to_csv('BCIchanges.csv', index=False)\n",
    "def correlation(dataset, threshold):\n",
    "  col_corr = set()\n",
    "  corr_matrix = dataset.corr()\n",
    "  for i in range(len(corr_matrix.columns)):\n",
    "    for j in range(i):\n",
    "      if abs(corr_matrix.iloc[i, j]) > threshold:\n",
    "        colname = corr_matrix.columns[i]\n",
    "        col_corr.add(colname)\n",
    "  return col_corr\n",
    "\n",
    "corr_features = correlation(df, 0.8)\n",
    "print(corr_features)"
   ]
  },
  {
   "cell_type": "code",
   "execution_count": 15,
   "metadata": {},
   "outputs": [],
   "source": [
    "# After looking at correlation, dropping the columns\n",
    "# df = df.drop(['Experience_With_Sales_Rep', 'Cancellation_Probability'], axis=1)"
   ]
  },
  {
   "cell_type": "code",
   "execution_count": 16,
   "metadata": {},
   "outputs": [],
   "source": [
    "from sklearn.model_selection import train_test_split\n",
    "from imblearn.over_sampling import SMOTE\n",
    "\n",
    "X = df.drop('bciindex', axis=1)\n",
    "y = df['bciindex']\n",
    "X_resampled, y_resampled = SMOTE(k_neighbors=3).fit_resample(X, y)\n",
    "X_train, X_test, y_train, y_test = train_test_split(X_resampled, y_resampled, test_size=0.2, random_state=42)"
   ]
  },
  {
   "cell_type": "code",
   "execution_count": 17,
   "metadata": {},
   "outputs": [
    {
     "name": "stdout",
     "output_type": "stream",
     "text": [
      "Coefficients:\n",
      "                                 Coefficient\n",
      "Lead_Source                        0.008086\n",
      "Age                               -0.989811\n",
      "Income                            -0.000029\n",
      "OEM_Loyalty_Program                0.105466\n",
      "CIBIL_Score                        0.069940\n",
      "Down_Payment                       0.000113\n",
      "Special_Occasions                  0.042665\n",
      "Booking_Lead_Time                 -0.959714\n",
      "Needs_Match                        0.088169\n",
      "Dealership_Engagement              0.106726\n",
      "Experience_With_Sales_Rep          0.094361\n",
      "Companion_Feedback                 0.085030\n",
      "Competitive_Factors               -0.120268\n",
      "External_Factors                  -0.071401\n",
      "Customer_Satisfaction_Score        0.088402\n",
      "Cancellation_Probability          -0.086329\n",
      "Test_Drive_Status                  0.042960\n",
      "Preferred_Delivery_Time           -0.117087\n",
      "isMale                            -0.001194\n",
      "isStockAvailable                   0.007157\n",
      "isOnDeliveryDate                   0.046904\n",
      "isUndecidedFinances               -0.054736\n",
      "isFirstTimeBuyer                   0.054603\n",
      "ExtendedWarranty                  -0.028221\n",
      "FloorMats                         -0.023432\n",
      "None                              -0.041164\n",
      "UpgradedSoundSystem                0.021885\n",
      "Finances_Status_Approved Loans     0.097163\n",
      "Finances_Status_Cash Purchase     -0.037883\n",
      "Finances_Status_Pending Loans     -0.010938\n",
      "Finances_Status_Undecided         -0.053668\n",
      "Vehicle_Type_Hatchback            -0.003363\n",
      "Vehicle_Type_SUV                   0.048562\n",
      "Vehicle_Type_Sedan                -0.050526\n",
      "Intercept: [-0.00541159]\n"
     ]
    },
    {
     "name": "stderr",
     "output_type": "stream",
     "text": [
      "c:\\Users\\mukulkathuria\\Documents\\mlprac\\driveai\\bciindexanalysis\\bcienv\\Lib\\site-packages\\sklearn\\linear_model\\_logistic.py:465: ConvergenceWarning: lbfgs failed to converge (status=1):\n",
      "STOP: TOTAL NO. of ITERATIONS REACHED LIMIT.\n",
      "\n",
      "Increase the number of iterations (max_iter) or scale the data as shown in:\n",
      "    https://scikit-learn.org/stable/modules/preprocessing.html\n",
      "Please also refer to the documentation for alternative solver options:\n",
      "    https://scikit-learn.org/stable/modules/linear_model.html#logistic-regression\n",
      "  n_iter_i = _check_optimize_result(\n"
     ]
    }
   ],
   "source": [
    "from sklearn.linear_model import LogisticRegression\n",
    "\n",
    "model = LogisticRegression()\n",
    "model.fit(X_train, y_train)\n",
    "\n",
    "coefficients = pd.DataFrame(model.coef_.T, index=X.columns, columns=[\"Coefficient\"])\n",
    "intercept = model.intercept_\n",
    "print(\"Coefficients:\\n\", coefficients)\n",
    "print(\"Intercept:\", intercept)"
   ]
  },
  {
   "cell_type": "code",
   "execution_count": 18,
   "metadata": {},
   "outputs": [
    {
     "name": "stdout",
     "output_type": "stream",
     "text": [
      "Predicted Probabilities: [74.5527272775629, 35.319955637100584, 85.32535030620335, 99.99999999999993, 0.0025466380648943563, 0.09363986283300335]\n",
      "Accuracy: 1.0000\n",
      "Precision: 1.0000\n",
      "Recall: 1.0000\n",
      "F1 Score: 1.0000\n",
      "AUC: 1.0000\n",
      "Log Loss: 0.1482\n",
      "Brier Loss: 0.0352\n",
      "Classification Report:                precision    recall  f1-score   support\n",
      "\n",
      "           0       1.00      1.00      1.00         3\n",
      "           1       1.00      1.00      1.00         3\n",
      "\n",
      "    accuracy                           1.00         6\n",
      "   macro avg       1.00      1.00      1.00         6\n",
      "weighted avg       1.00      1.00      1.00         6\n",
      "\n"
     ]
    }
   ],
   "source": [
    "from sklearn.metrics import accuracy_score, classification_report, precision_score, recall_score, f1_score, roc_auc_score, log_loss, brier_score_loss\n",
    "\n",
    "y_pred = model.predict(X_test)\n",
    "y_prob = model.predict_proba(X_test)[:, 1]\n",
    "accuracy = accuracy_score(y_test, y_pred)\n",
    "precision = precision_score(y_test, y_pred)\n",
    "recall = recall_score(y_test, y_pred)\n",
    "f1 = f1_score(y_test, y_pred)\n",
    "auc = roc_auc_score(y_test, y_prob)\n",
    "logloss = log_loss(y_test, y_prob)\n",
    "brierloss = brier_score_loss(y_test, y_prob)\n",
    "classreport = classification_report(y_test, y_pred)\n",
    "\n",
    "probs = [float(value) * 100 for value in y_prob]\n",
    "print(f\"Predicted Probabilities: {probs}\")\n",
    "print(f\"Accuracy: {accuracy:.4f}\")\n",
    "print(f\"Precision: {precision:.4f}\")\n",
    "print(f\"Recall: {recall:.4f}\")\n",
    "print(f\"F1 Score: {f1:.4f}\")\n",
    "print(f\"AUC: {auc:.4f}\")\n",
    "print(f\"Log Loss: {logloss:.4f}\")\n",
    "print(f\"Brier Loss: {brierloss:.4f}\")\n",
    "print(\"Classification Report: \", classreport)"
   ]
  },
  {
   "cell_type": "code",
   "execution_count": 19,
   "metadata": {},
   "outputs": [],
   "source": [
    "# from sklearn.metrics import roc_curve\n",
    "\n",
    "# fpr, tpr, _ = roc_curve(y_test,  y_prob)\n",
    "# auc = roc_auc_score(y_test, y_prob)\n",
    "\n",
    "# #create ROC curve\n",
    "# plt.plot(fpr,tpr,label=\"AUC=\"+str(auc))\n",
    "# plt.legend(loc=4)\n",
    "# plt.show()"
   ]
  },
  {
   "cell_type": "code",
   "execution_count": 37,
   "metadata": {},
   "outputs": [
    {
     "data": {
      "image/png": "[encoded data removed]",
      "text/plain": [
       "<Figure size 1000x600 with 1 Axes>"
      ]
     },
     "metadata": {},
     "output_type": "display_data"
    }
   ],
   "source": [
    "# import shap\n",
    "\n",
    "# explainer = shap.LinearExplainer(model, X_train)\n",
    "# shap_values = explainer.shap_values(X_test)\n",
    "# shap.summary_plot(shap_values, X_test, plot_type=\"bar\")\n",
    "coefficients = model.coef_[0]\n",
    "\n",
    "feature_names = X.columns\n",
    "\n",
    "# Plot the coefficients\n",
    "plt.figure(figsize=(10, 6))\n",
    "plt.barh(feature_names, coefficients, color='lightblue')\n",
    "plt.xlabel('Coefficient Value')\n",
    "plt.title('Logistic Regression Coefficients')\n",
    "plt.yticks(fontsize=6)\n",
    "plt.show()"
   ]
  },
  {
   "cell_type": "code",
   "execution_count": 21,
   "metadata": {},
   "outputs": [
    {
     "name": "stdout",
     "output_type": "stream",
     "text": [
      "[1 0 1 0 0 0]\n"
     ]
    }
   ],
   "source": [
    "from sklearn.naive_bayes import BernoulliNB\n",
    "\n",
    "bernaulliNB_model = BernoulliNB()\n",
    "bernaulliNB_model.fit(X_train, y_train)\n",
    "print(bernaulliNB_model.predict(X_test))"
   ]
  },
  {
   "cell_type": "code",
   "execution_count": 22,
   "metadata": {},
   "outputs": [
    {
     "name": "stdout",
     "output_type": "stream",
     "text": [
      "Predicted Probabilities: [99.99999353055017, 0.005484743293812816, 99.99997315489463, 40.62860428266474, 14.376428406711886, 0.004595258530164527]\n",
      "Accuracy: 0.8333\n",
      "Precision: 1.0000\n",
      "Recall: 0.6667\n",
      "F1 Score: 0.8000\n",
      "AUC: 1.0000\n",
      "Log Loss: 0.1760\n",
      "Brier Loss: 0.0622\n",
      "Classification Report:                precision    recall  f1-score   support\n",
      "\n",
      "           0       0.75      1.00      0.86         3\n",
      "           1       1.00      0.67      0.80         3\n",
      "\n",
      "    accuracy                           0.83         6\n",
      "   macro avg       0.88      0.83      0.83         6\n",
      "weighted avg       0.88      0.83      0.83         6\n",
      "\n"
     ]
    }
   ],
   "source": [
    "y_pred = bernaulliNB_model.predict(X_test)\n",
    "y_prob = bernaulliNB_model.predict_proba(X_test)[:, 1]\n",
    "accuracy = accuracy_score(y_test, y_pred)\n",
    "precision = precision_score(y_test, y_pred)\n",
    "recall = recall_score(y_test, y_pred)\n",
    "f1 = f1_score(y_test, y_pred)\n",
    "auc = roc_auc_score(y_test, y_prob)\n",
    "logloss = log_loss(y_test, y_prob)\n",
    "brierloss = brier_score_loss(y_test, y_prob)\n",
    "classreport = classification_report(y_test, y_pred)\n",
    "\n",
    "probs = [float(value) * 100 for value in y_prob]\n",
    "print(f\"Predicted Probabilities: {probs}\")\n",
    "print(f\"Accuracy: {accuracy:.4f}\")\n",
    "print(f\"Precision: {precision:.4f}\")\n",
    "print(f\"Recall: {recall:.4f}\")\n",
    "print(f\"F1 Score: {f1:.4f}\")\n",
    "print(f\"AUC: {auc:.4f}\")\n",
    "print(f\"Log Loss: {logloss:.4f}\")\n",
    "print(f\"Brier Loss: {brierloss:.4f}\")\n",
    "print(\"Classification Report: \", classreport)"
   ]
  },
  {
   "cell_type": "code",
   "execution_count": 29,
   "metadata": {},
   "outputs": [
    {
     "name": "stdout",
     "output_type": "stream",
     "text": [
      "Top 10 Negative Class Features and their Log-Probabilities:\n",
      "Feature: Down_Payment, Log-Probability: -0.07410797215372167\n",
      "Feature: Age, Log-Probability: -0.07410797215372167\n",
      "Feature: CIBIL_Score, Log-Probability: -0.07410797215372167\n",
      "Feature: Customer_Satisfaction_Score, Log-Probability: -0.07410797215372167\n",
      "Feature: Booking_Lead_Time, Log-Probability: -0.07410797215372167\n",
      "Feature: Income, Log-Probability: -0.07410797215372167\n",
      "Feature: Competitive_Factors, Log-Probability: -0.24116205681688774\n",
      "Feature: Needs_Match, Log-Probability: -0.24116205681688774\n",
      "Feature: Preferred_Delivery_Time, Log-Probability: -0.3364722366212125\n",
      "Feature: Cancellation_Probability, Log-Probability: -0.3364722366212125\n",
      "\n",
      "Top 10 Positive Class Features and their Log-Probabilities:\n",
      "Feature: Test_Drive_Status, Log-Probability: -0.07410797215372167\n",
      "Feature: Finances_Status_Approved Loans, Log-Probability: -0.07410797215372167\n",
      "Feature: Booking_Lead_Time, Log-Probability: -0.07410797215372167\n",
      "Feature: Special_Occasions, Log-Probability: -0.07410797215372167\n",
      "Feature: isOnDeliveryDate, Log-Probability: -0.07410797215372167\n",
      "Feature: isFirstTimeBuyer, Log-Probability: -0.07410797215372167\n",
      "Feature: CIBIL_Score, Log-Probability: -0.07410797215372167\n",
      "Feature: Age, Log-Probability: -0.07410797215372167\n",
      "Feature: Income, Log-Probability: -0.07410797215372167\n",
      "Feature: OEM_Loyalty_Program, Log-Probability: -0.07410797215372167\n"
     ]
    }
   ],
   "source": [
    "neg_class_prob_sorted = bernaulliNB_model.feature_log_prob_[0, :].argsort()[::-1]\n",
    "pos_class_prob_sorted = bernaulliNB_model.feature_log_prob_[1, :].argsort()[::-1]\n",
    "\n",
    "top_10_neg_class_features = neg_class_prob_sorted[:10]\n",
    "top_10_pos_class_features = pos_class_prob_sorted[:10]\n",
    "\n",
    "neg_class_feature_names = X_train.columns[top_10_neg_class_features]\n",
    "pos_class_feature_names = X_train.columns[top_10_pos_class_features]\n",
    "\n",
    "print(\"Top 10 Negative Class Features and their Log-Probabilities:\")\n",
    "for feature, log_prob in zip(neg_class_feature_names, bernaulliNB_model.feature_log_prob_[0, top_10_neg_class_features]):\n",
    "    print(f\"Feature: {feature}, Log-Probability: {log_prob}\")\n",
    "\n",
    "print(\"\\nTop 10 Positive Class Features and their Log-Probabilities:\")\n",
    "for feature, log_prob in zip(pos_class_feature_names, bernaulliNB_model.feature_log_prob_[1, top_10_pos_class_features]):\n",
    "    print(f\"Feature: {feature}, Log-Probability: {log_prob}\")"
   ]
  },
  {
   "cell_type": "markdown",
   "metadata": {},
   "source": [
    "## Gausian Naive Bayes Model"
   ]
  },
  {
   "cell_type": "code",
   "execution_count": 30,
   "metadata": {},
   "outputs": [
    {
     "name": "stdout",
     "output_type": "stream",
     "text": [
      "[1 1 1 0 0 1]\n"
     ]
    }
   ],
   "source": [
    "from sklearn.naive_bayes import GaussianNB\n",
    "\n",
    "GaussianNB_model = GaussianNB()\n",
    "GaussianNB_model.fit(X_train, y_train)\n",
    "print(GaussianNB_model.predict(X_test))"
   ]
  },
  {
   "cell_type": "code",
   "execution_count": 31,
   "metadata": {},
   "outputs": [
    {
     "name": "stdout",
     "output_type": "stream",
     "text": [
      "Predicted Probabilities: [91.60447539786536, 56.11431348861402, 89.8061546315739, 0.024285986700808424, 18.585885952015268, 82.32398160732495]\n",
      "Accuracy: 0.5000\n",
      "Precision: 0.5000\n",
      "Recall: 0.6667\n",
      "F1 Score: 0.5714\n",
      "AUC: 0.6667\n",
      "Log Loss: 1.8801\n",
      "Brier Loss: 0.3407\n",
      "Classification Report:                precision    recall  f1-score   support\n",
      "\n",
      "           0       0.50      0.33      0.40         3\n",
      "           1       0.50      0.67      0.57         3\n",
      "\n",
      "    accuracy                           0.50         6\n",
      "   macro avg       0.50      0.50      0.49         6\n",
      "weighted avg       0.50      0.50      0.49         6\n",
      "\n"
     ]
    }
   ],
   "source": [
    "y_pred = GaussianNB_model.predict(X_test)\n",
    "y_prob = GaussianNB_model.predict_proba(X_test)[:, 1]\n",
    "accuracy = accuracy_score(y_test, y_pred)\n",
    "precision = precision_score(y_test, y_pred)\n",
    "recall = recall_score(y_test, y_pred)\n",
    "f1 = f1_score(y_test, y_pred)\n",
    "auc = roc_auc_score(y_test, y_prob)\n",
    "logloss = log_loss(y_test, y_prob)\n",
    "brierloss = brier_score_loss(y_test, y_prob)\n",
    "classreport = classification_report(y_test, y_pred)\n",
    "\n",
    "probs = [float(value) * 100 for value in y_prob]\n",
    "print(f\"Predicted Probabilities: {probs}\")\n",
    "print(f\"Accuracy: {accuracy:.4f}\")\n",
    "print(f\"Precision: {precision:.4f}\")\n",
    "print(f\"Recall: {recall:.4f}\")\n",
    "print(f\"F1 Score: {f1:.4f}\")\n",
    "print(f\"AUC: {auc:.4f}\")\n",
    "print(f\"Log Loss: {logloss:.4f}\")\n",
    "print(f\"Brier Loss: {brierloss:.4f}\")\n",
    "print(\"Classification Report: \", classreport)"
   ]
  },
  {
   "cell_type": "code",
   "execution_count": 39,
   "metadata": {},
   "outputs": [
    {
     "name": "stdout",
     "output_type": "stream",
     "text": [
      "Preparation of a new explainer is initiated\n",
      "\n",
      "  -> data              : 20 rows 34 cols\n",
      "  -> target variable   : Parameter 'y' was a pandas.Series. Converted to a numpy.ndarray.\n",
      "  -> target variable   : 20 values\n",
      "  -> model_class       : sklearn.linear_model._logistic.LogisticRegression (default)\n",
      "  -> label             : Not specified, model's class short name will be used. (default)\n",
      "  -> predict function  : <function yhat_proba_default at 0x00000219A0350680> will be used (default)\n",
      "  -> predict function  : Accepts pandas.DataFrame and numpy.ndarray.\n",
      "  -> predicted values  : min = 2e-16, mean = 0.274, max = 1.0\n",
      "  -> model type        : classification will be used (default)\n",
      "  -> residual function : difference between y and yhat (default)\n",
      "  -> residuals         : min = -0.353, mean = -0.0235, max = 0.372\n",
      "  -> model_info        : package sklearn\n",
      "\n",
      "A new explainer has been created!\n"
     ]
    },
    {
     "data": {
      "application/vnd.plotly.v1+json": {
       "config": {
        "displaylogo": false,
        "modeBarButtonsToRemove": [
         "sendDataToCloud",
         "lasso2d",
         "autoScale2d",
         "select2d",
         "zoom2d",
         "pan2d",
         "zoomIn2d",
         "zoomOut2d",
         "resetScale2d",
         "toggleSpikelines",
         "hoverCompareCartesian",
         "hoverClosestCartesian"
        ],
        "plotlyServerURL": "https://plot.ly",
        "staticPlot": false,
        "toImageButtonOptions": {
         "height": null,
         "width": null
        }
       },
       "data": [
        {
         "base": 0.2735227015522871,
         "connector": {
          "line": {
           "color": "#371ea3",
           "dash": "solid",
           "width": 1
          },
          "mode": "spanning"
         },
         "decreasing": {
          "marker": {
           "color": "#f05a71"
          }
         },
         "hoverinfo": "text+delta",
         "hoverlabel": {
          "bgcolor": "rgba(0,0,0,0.8)"
         },
         "hovertext": [
          "Average response: 0.274<br>Prediction: 0.64",
          "Booking_Lead_Time = 15.0<br>increases average response by",
          "Age = 28.0<br>increases average response by",
          "Income = 1200000.0<br>decreases average response by",
          "CIBIL_Score = 750.0<br>increases average response by",
          "Down_Payment = 200000.0<br>decreases average response by",
          "Customer_Satisfaction_Score = 9.0<br>increases average response by",
          "Competitive_Factors = 0.0<br>increases average response by",
          "Preferred_Delivery_Time = 0.0<br>increases average response by",
          "OEM_Loyalty_Program = 1.0<br>increases average response by",
          "Finances_Status_Approved Loans = 1.0<br>increases average response by",
          "+ all other factors<br>increases average response by",
          "Average response: 0.274<br>Prediction: 0.64"
         ],
         "increasing": {
          "marker": {
           "color": "#8bdcbe"
          }
         },
         "measure": [
          "relative",
          "relative",
          "relative",
          "relative",
          "relative",
          "relative",
          "relative",
          "relative",
          "relative",
          "relative",
          "relative",
          "relative",
          "total"
         ],
         "orientation": "h",
         "showlegend": false,
         "text": [
          "0.274",
          "+0.258",
          "+0.067",
          "-0.071",
          "+0.004",
          "-0.107",
          "+0.024",
          "+0.023",
          "+0.025",
          "+0.013",
          "+0.017",
          "+0.115",
          "0.64"
         ],
         "textposition": "outside",
         "totals": {
          "marker": {
           "color": "#371ea3"
          }
         },
         "type": "waterfall",
         "x": [
          0,
          0.258,
          0.067,
          -0.071,
          0.004,
          -0.107,
          0.024,
          0.023,
          0.025,
          0.013,
          0.017,
          0.115,
          0.367
         ],
         "xaxis": "x",
         "y": [
          "intercept",
          "Booking_Lead_Time = 15.0",
          "Age = 28.0",
          "Income = 1200000.0",
          "CIBIL_Score = 750.0",
          "Down_Payment = 200000.0",
          "Customer_Satisfaction_Score = 9.0",
          "Competitive_Factors = 0.0",
          "Preferred_Delivery_Time = 0.0",
          "OEM_Loyalty_Program = 1.0",
          "Finances_Status_Approved Loans = 1.0",
          "+ all other factors",
          "prediction"
         ],
         "yaxis": "y"
        }
       ],
       "layout": {
        "annotations": [
         {
          "font": {
           "size": 16
          },
          "showarrow": false,
          "text": "LogisticRegression",
          "x": 0.5,
          "xanchor": "center",
          "xref": "paper",
          "y": 1,
          "yanchor": "bottom",
          "yref": "paper"
         },
         {
          "font": {
           "size": 16
          },
          "showarrow": false,
          "text": "contribution",
          "x": 0.5,
          "xanchor": "center",
          "xref": "paper",
          "y": 0,
          "yanchor": "top",
          "yref": "paper",
          "yshift": -30
         }
        ],
        "font": {
         "color": "#371ea3"
        },
        "height": 413,
        "margin": {
         "b": 71,
         "r": 30,
         "t": 78
        },
        "shapes": [
         {
          "line": {
           "color": "#371ea3",
           "dash": "dot",
           "width": 1.5
          },
          "type": "line",
          "x0": 0.2735227015522871,
          "x1": 0.2735227015522871,
          "xref": "x",
          "y0": -1,
          "y1": 13,
          "yref": "y"
         }
        ],
        "template": {
         "data": {
          "scatter": [
           {
            "type": "scatter"
           }
          ]
         }
        },
        "title": {
         "text": "Aditi Joshi",
         "x": 0.15
        },
        "xaxis": {
         "anchor": "y",
         "automargin": true,
         "domain": [
          0,
          1
         ],
         "fixedrange": true,
         "gridwidth": 2,
         "range": [
          0.21910000000000002,
          0.6949
         ],
         "tickcolor": "white",
         "ticklen": 3,
         "ticks": "outside",
         "type": "linear",
         "zeroline": false
        },
        "yaxis": {
         "anchor": "x",
         "automargin": true,
         "autorange": "reversed",
         "domain": [
          0,
          1
         ],
         "fixedrange": true,
         "gridwidth": 2,
         "tickcolor": "white",
         "ticklen": 10,
         "ticks": "outside",
         "type": "category"
        }
       }
      }
     },
     "metadata": {},
     "output_type": "display_data"
    },
    {
     "data": {
      "application/vnd.plotly.v1+json": {
       "config": {
        "displaylogo": false,
        "modeBarButtonsToRemove": [
         "sendDataToCloud",
         "lasso2d",
         "autoScale2d",
         "select2d",
         "zoom2d",
         "pan2d",
         "zoomIn2d",
         "zoomOut2d",
         "resetScale2d",
         "toggleSpikelines",
         "hoverCompareCartesian",
         "hoverClosestCartesian"
        ],
        "plotlyServerURL": "https://plot.ly",
        "staticPlot": false,
        "toImageButtonOptions": {
         "height": null,
         "width": null
        }
       },
       "data": [
        {
         "base": 0.2735227015522871,
         "connector": {
          "line": {
           "color": "#371ea3",
           "dash": "solid",
           "width": 1
          },
          "mode": "spanning"
         },
         "decreasing": {
          "marker": {
           "color": "#f05a71"
          }
         },
         "hoverinfo": "text+delta",
         "hoverlabel": {
          "bgcolor": "rgba(0,0,0,0.8)"
         },
         "hovertext": [
          "Average response: 0.274<br>Prediction: 0.16",
          "Down_Payment = 500000.0<br>increases average response by",
          "CIBIL_Score = 800.0<br>decreases average response by",
          "isUndecidedFinances = 0.0<br>decreases average response by",
          "Special_Occasions = 2.0<br>decreases average response by",
          "ExtendedWarranty = 0.0<br>decreases average response by",
          "UpgradedSoundSystem = 1.0<br>decreases average response by",
          "Finances_Status_Undecided = 0.0<br>decreases average response by",
          "FloorMats = 0.0<br>decreases average response by",
          "Finances_Status_Pending Loans = 0.0<br>decreases average response by",
          "None = 0.0<br>decreases average response by",
          "+ all other factors<br>decreases average response by",
          "Average response: 0.274<br>Prediction: 0.16"
         ],
         "increasing": {
          "marker": {
           "color": "#8bdcbe"
          }
         },
         "measure": [
          "relative",
          "relative",
          "relative",
          "relative",
          "relative",
          "relative",
          "relative",
          "relative",
          "relative",
          "relative",
          "relative",
          "relative",
          "total"
         ],
         "orientation": "h",
         "showlegend": false,
         "text": [
          "0.274",
          "+0.554",
          "0.0",
          "0.0",
          "0.0",
          "0.0",
          "0.0",
          "0.0",
          "0.0",
          "0.0",
          "0.0",
          "-0.669",
          "0.16"
         ],
         "textposition": "outside",
         "totals": {
          "marker": {
           "color": "#371ea3"
          }
         },
         "type": "waterfall",
         "x": [
          0,
          0.554,
          0,
          0,
          0,
          0,
          0,
          0,
          0,
          0,
          0,
          -0.669,
          -0.114
         ],
         "xaxis": "x",
         "y": [
          "intercept",
          "Down_Payment = 500000.0",
          "CIBIL_Score = 800.0",
          "isUndecidedFinances = 0.0",
          "Special_Occasions = 2.0",
          "ExtendedWarranty = 0.0",
          "UpgradedSoundSystem = 1.0",
          "Finances_Status_Undecided = 0.0",
          "FloorMats = 0.0",
          "Finances_Status_Pending Loans = 0.0",
          "None = 0.0",
          "+ all other factors",
          "prediction"
         ],
         "yaxis": "y"
        }
       ],
       "layout": {
        "annotations": [
         {
          "font": {
           "size": 16
          },
          "showarrow": false,
          "text": "LogisticRegression",
          "x": 0.5,
          "xanchor": "center",
          "xref": "paper",
          "y": 1,
          "yanchor": "bottom",
          "yref": "paper"
         },
         {
          "font": {
           "size": 16
          },
          "showarrow": false,
          "text": "contribution",
          "x": 0.5,
          "xanchor": "center",
          "xref": "paper",
          "y": 0,
          "yanchor": "top",
          "yref": "paper",
          "yshift": -30
         }
        ],
        "font": {
         "color": "#371ea3"
        },
        "height": 413,
        "margin": {
         "b": 71,
         "r": 30,
         "t": 78
        },
        "shapes": [
         {
          "line": {
           "color": "#371ea3",
           "dash": "dot",
           "width": 1.5
          },
          "type": "line",
          "x0": 0.2735227015522871,
          "x1": 0.2735227015522871,
          "xref": "x",
          "y0": -1,
          "y1": 13,
          "yref": "y"
         }
        ],
        "template": {
         "data": {
          "scatter": [
           {
            "type": "scatter"
           }
          ]
         }
        },
        "title": {
         "text": "Rajesh Kumar",
         "x": 0.15
        },
        "xaxis": {
         "anchor": "y",
         "automargin": true,
         "domain": [
          0,
          1
         ],
         "fixedrange": true,
         "gridwidth": 2,
         "range": [
          0.05965000000000002,
          0.9293499999999999
         ],
         "tickcolor": "white",
         "ticklen": 3,
         "ticks": "outside",
         "type": "linear",
         "zeroline": false
        },
        "yaxis": {
         "anchor": "x",
         "automargin": true,
         "autorange": "reversed",
         "domain": [
          0,
          1
         ],
         "fixedrange": true,
         "gridwidth": 2,
         "tickcolor": "white",
         "ticklen": 10,
         "ticks": "outside",
         "type": "category"
        }
       }
      }
     },
     "metadata": {},
     "output_type": "display_data"
    },
    {
     "data": {
      "application/vnd.plotly.v1+json": {
       "config": {
        "displaylogo": false,
        "modeBarButtonsToRemove": [
         "sendDataToCloud",
         "lasso2d",
         "autoScale2d",
         "select2d",
         "zoom2d",
         "pan2d",
         "zoomIn2d",
         "zoomOut2d",
         "resetScale2d",
         "toggleSpikelines",
         "hoverCompareCartesian",
         "hoverClosestCartesian"
        ],
        "plotlyServerURL": "https://plot.ly",
        "staticPlot": false,
        "toImageButtonOptions": {
         "height": null,
         "width": null
        }
       },
       "data": [
        {
         "base": 0.2735227015522871,
         "connector": {
          "line": {
           "color": "#371ea3",
           "dash": "solid",
           "width": 1
          },
          "mode": "spanning"
         },
         "decreasing": {
          "marker": {
           "color": "#f05a71"
          }
         },
         "hoverinfo": "text+delta",
         "hoverlabel": {
          "bgcolor": "rgba(0,0,0,0.8)"
         },
         "hovertext": [
          "Average response: 0.274<br>Prediction: 0.0",
          "Booking_Lead_Time = 10.0<br>increases average response by",
          "OEM_Loyalty_Program = 1.0<br>increases average response by",
          "ExtendedWarranty = 0.0<br>decreases average response by",
          "isOnDeliveryDate = 1.0<br>increases average response by",
          "Vehicle_Type_Sedan = 0.0<br>increases average response by",
          "Finances_Status_Undecided = 0.0<br>decreases average response by",
          "Lead_Source = 2.0<br>decreases average response by",
          "FloorMats = 0.0<br>decreases average response by",
          "isFirstTimeBuyer = 1.0<br>decreases average response by",
          "Test_Drive_Status = 1.0<br>decreases average response by",
          "+ all other factors<br>decreases average response by",
          "Average response: 0.274<br>Prediction: 0.0"
         ],
         "increasing": {
          "marker": {
           "color": "#8bdcbe"
          }
         },
         "measure": [
          "relative",
          "relative",
          "relative",
          "relative",
          "relative",
          "relative",
          "relative",
          "relative",
          "relative",
          "relative",
          "relative",
          "relative",
          "total"
         ],
         "orientation": "h",
         "showlegend": false,
         "text": [
          "0.274",
          "+0.356",
          "+0.002",
          "0.0",
          "+0.001",
          "+0.001",
          "0.0",
          "0.0",
          "0.0",
          "0.0",
          "0.0",
          "-0.635",
          "0.0"
         ],
         "textposition": "outside",
         "totals": {
          "marker": {
           "color": "#371ea3"
          }
         },
         "type": "waterfall",
         "x": [
          0,
          0.356,
          0.002,
          0,
          0.001,
          0.001,
          0,
          0,
          0,
          0,
          0,
          -0.635,
          -0.274
         ],
         "xaxis": "x",
         "y": [
          "intercept",
          "Booking_Lead_Time = 10.0",
          "OEM_Loyalty_Program = 1.0",
          "ExtendedWarranty = 0.0",
          "isOnDeliveryDate = 1.0",
          "Vehicle_Type_Sedan = 0.0",
          "Finances_Status_Undecided = 0.0",
          "Lead_Source = 2.0",
          "FloorMats = 0.0",
          "isFirstTimeBuyer = 1.0",
          "Test_Drive_Status = 1.0",
          "+ all other factors",
          "prediction"
         ],
         "yaxis": "y"
        }
       ],
       "layout": {
        "annotations": [
         {
          "font": {
           "size": 16
          },
          "showarrow": false,
          "text": "LogisticRegression",
          "x": 0.5,
          "xanchor": "center",
          "xref": "paper",
          "y": 1,
          "yanchor": "bottom",
          "yref": "paper"
         },
         {
          "font": {
           "size": 16
          },
          "showarrow": false,
          "text": "contribution",
          "x": 0.5,
          "xanchor": "center",
          "xref": "paper",
          "y": 0,
          "yanchor": "top",
          "yref": "paper",
          "yshift": -30
         }
        ],
        "font": {
         "color": "#371ea3"
        },
        "height": 413,
        "margin": {
         "b": 71,
         "r": 30,
         "t": 78
        },
        "shapes": [
         {
          "line": {
           "color": "#371ea3",
           "dash": "dot",
           "width": 1.5
          },
          "type": "line",
          "x0": 0.2735227015522871,
          "x1": 0.2735227015522871,
          "xref": "x",
          "y0": -1,
          "y1": 13,
          "yref": "y"
         }
        ],
        "template": {
         "data": {
          "scatter": [
           {
            "type": "scatter"
           }
          ]
         }
        },
        "title": {
         "text": "Neha Patil",
         "x": 0.15
        },
        "xaxis": {
         "anchor": "y",
         "automargin": true,
         "domain": [
          0,
          1
         ],
         "fixedrange": true,
         "gridwidth": 2,
         "range": [
          -0.09525,
          0.7302500000000001
         ],
         "tickcolor": "white",
         "ticklen": 3,
         "ticks": "outside",
         "type": "linear",
         "zeroline": false
        },
        "yaxis": {
         "anchor": "x",
         "automargin": true,
         "autorange": "reversed",
         "domain": [
          0,
          1
         ],
         "fixedrange": true,
         "gridwidth": 2,
         "tickcolor": "white",
         "ticklen": 10,
         "ticks": "outside",
         "type": "category"
        }
       }
      }
     },
     "metadata": {},
     "output_type": "display_data"
    },
    {
     "data": {
      "application/vnd.plotly.v1+json": {
       "config": {
        "displaylogo": false,
        "modeBarButtonsToRemove": [
         "sendDataToCloud",
         "lasso2d",
         "autoScale2d",
         "select2d",
         "zoom2d",
         "pan2d",
         "zoomIn2d",
         "zoomOut2d",
         "resetScale2d",
         "toggleSpikelines",
         "hoverCompareCartesian",
         "hoverClosestCartesian"
        ],
        "plotlyServerURL": "https://plot.ly",
        "staticPlot": false,
        "toImageButtonOptions": {
         "height": null,
         "width": null
        }
       },
       "data": [
        {
         "base": 0.2735227015522871,
         "connector": {
          "line": {
           "color": "#371ea3",
           "dash": "solid",
           "width": 1
          },
          "mode": "spanning"
         },
         "decreasing": {
          "marker": {
           "color": "#f05a71"
          }
         },
         "hoverinfo": "text+delta",
         "hoverlabel": {
          "bgcolor": "rgba(0,0,0,0.8)"
         },
         "hovertext": [
          "Average response: 0.274<br>Prediction: 0.114",
          "Booking_Lead_Time = 7.0<br>increases average response by",
          "Income = 800000.0<br>increases average response by",
          "Age = 32.0<br>increases average response by",
          "Preferred_Delivery_Time = 0.0<br>increases average response by",
          "External_Factors = 0.0<br>decreases average response by",
          "Dealership_Engagement = 2.0<br>increases average response by",
          "Vehicle_Type_SUV = 1.0<br>decreases average response by",
          "Vehicle_Type_Sedan = 0.0<br>decreases average response by",
          "Experience_With_Sales_Rep = 1.0<br>increases average response by",
          "FloorMats = 0.0<br>decreases average response by",
          "+ all other factors<br>decreases average response by",
          "Average response: 0.274<br>Prediction: 0.114"
         ],
         "increasing": {
          "marker": {
           "color": "#8bdcbe"
          }
         },
         "measure": [
          "relative",
          "relative",
          "relative",
          "relative",
          "relative",
          "relative",
          "relative",
          "relative",
          "relative",
          "relative",
          "relative",
          "relative",
          "total"
         ],
         "orientation": "h",
         "showlegend": false,
         "text": [
          "0.274",
          "+0.42",
          "+0.036",
          "+0.128",
          "+0.001",
          "0.0",
          "+0.001",
          "0.0",
          "0.0",
          "+0.001",
          "0.0",
          "-0.746",
          "0.114"
         ],
         "textposition": "outside",
         "totals": {
          "marker": {
           "color": "#371ea3"
          }
         },
         "type": "waterfall",
         "x": [
          0,
          0.42,
          0.036,
          0.128,
          0.001,
          0,
          0.001,
          0,
          0,
          0.001,
          0,
          -0.746,
          -0.159
         ],
         "xaxis": "x",
         "y": [
          "intercept",
          "Booking_Lead_Time = 7.0",
          "Income = 800000.0",
          "Age = 32.0",
          "Preferred_Delivery_Time = 0.0",
          "External_Factors = 0.0",
          "Dealership_Engagement = 2.0",
          "Vehicle_Type_SUV = 1.0",
          "Vehicle_Type_Sedan = 0.0",
          "Experience_With_Sales_Rep = 1.0",
          "FloorMats = 0.0",
          "+ all other factors",
          "prediction"
         ],
         "yaxis": "y"
        }
       ],
       "layout": {
        "annotations": [
         {
          "font": {
           "size": 16
          },
          "showarrow": false,
          "text": "LogisticRegression",
          "x": 0.5,
          "xanchor": "center",
          "xref": "paper",
          "y": 1,
          "yanchor": "bottom",
          "yref": "paper"
         },
         {
          "font": {
           "size": 16
          },
          "showarrow": false,
          "text": "contribution",
          "x": 0.5,
          "xanchor": "center",
          "xref": "paper",
          "y": 0,
          "yanchor": "top",
          "yref": "paper",
          "yshift": -30
         }
        ],
        "font": {
         "color": "#371ea3"
        },
        "height": 413,
        "margin": {
         "b": 71,
         "r": 30,
         "t": 78
        },
        "shapes": [
         {
          "line": {
           "color": "#371ea3",
           "dash": "dot",
           "width": 1.5
          },
          "type": "line",
          "x0": 0.2735227015522871,
          "x1": 0.2735227015522871,
          "xref": "x",
          "y0": -1,
          "y1": 13,
          "yref": "y"
         }
        ],
        "template": {
         "data": {
          "scatter": [
           {
            "type": "scatter"
           }
          ]
         }
        },
        "title": {
         "text": "Vishal Reddy",
         "x": 0.15
        },
        "xaxis": {
         "anchor": "y",
         "automargin": true,
         "domain": [
          0,
          1
         ],
         "fixedrange": true,
         "gridwidth": 2,
         "range": [
          0.0019500000000000073,
          0.97305
         ],
         "tickcolor": "white",
         "ticklen": 3,
         "ticks": "outside",
         "type": "linear",
         "zeroline": false
        },
        "yaxis": {
         "anchor": "x",
         "automargin": true,
         "autorange": "reversed",
         "domain": [
          0,
          1
         ],
         "fixedrange": true,
         "gridwidth": 2,
         "tickcolor": "white",
         "ticklen": 10,
         "ticks": "outside",
         "type": "category"
        }
       }
      }
     },
     "metadata": {},
     "output_type": "display_data"
    },
    {
     "data": {
      "application/vnd.plotly.v1+json": {
       "config": {
        "displaylogo": false,
        "modeBarButtonsToRemove": [
         "sendDataToCloud",
         "lasso2d",
         "autoScale2d",
         "select2d",
         "zoom2d",
         "pan2d",
         "zoomIn2d",
         "zoomOut2d",
         "resetScale2d",
         "toggleSpikelines",
         "hoverCompareCartesian",
         "hoverClosestCartesian"
        ],
        "plotlyServerURL": "https://plot.ly",
        "staticPlot": false,
        "toImageButtonOptions": {
         "height": null,
         "width": null
        }
       },
       "data": [
        {
         "base": 0.2735227015522871,
         "connector": {
          "line": {
           "color": "#371ea3",
           "dash": "solid",
           "width": 1
          },
          "mode": "spanning"
         },
         "decreasing": {
          "marker": {
           "color": "#f05a71"
          }
         },
         "hoverinfo": "text+delta",
         "hoverlabel": {
          "bgcolor": "rgba(0,0,0,0.8)"
         },
         "hovertext": [
          "Average response: 0.274<br>Prediction: 0.0",
          "Down_Payment = 700000.0<br>increases average response by",
          "CIBIL_Score = 850.0<br>decreases average response by",
          "Customer_Satisfaction_Score = 9.0<br>decreases average response by",
          "Competitive_Factors = 0.0<br>decreases average response by",
          "OEM_Loyalty_Program = 1.0<br>decreases average response by",
          "Cancellation_Probability = 0.0<br>decreases average response by",
          "External_Factors = 0.0<br>decreases average response by",
          "isUndecidedFinances = 0.0<br>decreases average response by",
          "Companion_Feedback = 1.0<br>decreases average response by",
          "ExtendedWarranty = 0.0<br>decreases average response by",
          "+ all other factors<br>decreases average response by",
          "Average response: 0.274<br>Prediction: 0.0"
         ],
         "increasing": {
          "marker": {
           "color": "#8bdcbe"
          }
         },
         "measure": [
          "relative",
          "relative",
          "relative",
          "relative",
          "relative",
          "relative",
          "relative",
          "relative",
          "relative",
          "relative",
          "relative",
          "relative",
          "total"
         ],
         "orientation": "h",
         "showlegend": false,
         "text": [
          "0.274",
          "+0.676",
          "0.0",
          "0.0",
          "0.0",
          "0.0",
          "0.0",
          "0.0",
          "0.0",
          "0.0",
          "0.0",
          "-0.95",
          "0.0"
         ],
         "textposition": "outside",
         "totals": {
          "marker": {
           "color": "#371ea3"
          }
         },
         "type": "waterfall",
         "x": [
          0,
          0.676,
          0,
          0,
          0,
          0,
          0,
          0,
          0,
          0,
          0,
          -0.95,
          -0.273
         ],
         "xaxis": "x",
         "y": [
          "intercept",
          "Down_Payment = 700000.0",
          "CIBIL_Score = 850.0",
          "Customer_Satisfaction_Score = 9.0",
          "Competitive_Factors = 0.0",
          "OEM_Loyalty_Program = 1.0",
          "Cancellation_Probability = 0.0",
          "External_Factors = 0.0",
          "isUndecidedFinances = 0.0",
          "Companion_Feedback = 1.0",
          "ExtendedWarranty = 0.0",
          "+ all other factors",
          "prediction"
         ],
         "yaxis": "y"
        }
       ],
       "layout": {
        "annotations": [
         {
          "font": {
           "size": 16
          },
          "showarrow": false,
          "text": "LogisticRegression",
          "x": 0.5,
          "xanchor": "center",
          "xref": "paper",
          "y": 1,
          "yanchor": "bottom",
          "yref": "paper"
         },
         {
          "font": {
           "size": 16
          },
          "showarrow": false,
          "text": "contribution",
          "x": 0.5,
          "xanchor": "center",
          "xref": "paper",
          "y": 0,
          "yanchor": "top",
          "yref": "paper",
          "yshift": -30
         }
        ],
        "font": {
         "color": "#371ea3"
        },
        "height": 413,
        "margin": {
         "b": 71,
         "r": 30,
         "t": 78
        },
        "shapes": [
         {
          "line": {
           "color": "#371ea3",
           "dash": "dot",
           "width": 1.5
          },
          "type": "line",
          "x0": 0.2735227015522871,
          "x1": 0.2735227015522871,
          "xref": "x",
          "y0": -1,
          "y1": 13,
          "yref": "y"
         }
        ],
        "template": {
         "data": {
          "scatter": [
           {
            "type": "scatter"
           }
          ]
         }
        },
        "title": {
         "text": "Kavya Iyer",
         "x": 0.15
        },
        "xaxis": {
         "anchor": "y",
         "automargin": true,
         "domain": [
          0,
          1
         ],
         "fixedrange": true,
         "gridwidth": 2,
         "range": [
          -0.1425,
          1.0925
         ],
         "tickcolor": "white",
         "ticklen": 3,
         "ticks": "outside",
         "type": "linear",
         "zeroline": false
        },
        "yaxis": {
         "anchor": "x",
         "automargin": true,
         "autorange": "reversed",
         "domain": [
          0,
          1
         ],
         "fixedrange": true,
         "gridwidth": 2,
         "tickcolor": "white",
         "ticklen": 10,
         "ticks": "outside",
         "type": "category"
        }
       }
      }
     },
     "metadata": {},
     "output_type": "display_data"
    },
    {
     "data": {
      "application/vnd.plotly.v1+json": {
       "config": {
        "displaylogo": false,
        "modeBarButtonsToRemove": [
         "sendDataToCloud",
         "lasso2d",
         "autoScale2d",
         "select2d",
         "zoom2d",
         "pan2d",
         "zoomIn2d",
         "zoomOut2d",
         "resetScale2d",
         "toggleSpikelines",
         "hoverCompareCartesian",
         "hoverClosestCartesian"
        ],
        "plotlyServerURL": "https://plot.ly",
        "staticPlot": false,
        "toImageButtonOptions": {
         "height": null,
         "width": null
        }
       },
       "data": [
        {
         "base": 0.2735227015522871,
         "connector": {
          "line": {
           "color": "#371ea3",
           "dash": "solid",
           "width": 1
          },
          "mode": "spanning"
         },
         "decreasing": {
          "marker": {
           "color": "#f05a71"
          }
         },
         "hoverinfo": "text+delta",
         "hoverlabel": {
          "bgcolor": "rgba(0,0,0,0.8)"
         },
         "hovertext": [
          "Average response: 0.274<br>Prediction: 1.0",
          "Income = 950000.0<br>increases average response by",
          "Age = 29.0<br>increases average response by",
          "CIBIL_Score = 780.0<br>increases average response by",
          "Down_Payment = 250000.0<br>decreases average response by",
          "Booking_Lead_Time = 20.0<br>increases average response by",
          "Preferred_Delivery_Time = 0.0<br>decreases average response by",
          "OEM_Loyalty_Program = 1.0<br>decreases average response by",
          "Finances_Status_Approved Loans = 1.0<br>decreases average response by",
          "Cancellation_Probability = 0.0<br>decreases average response by",
          "Dealership_Engagement = 2.0<br>decreases average response by",
          "+ all other factors<br>decreases average response by",
          "Average response: 0.274<br>Prediction: 1.0"
         ],
         "increasing": {
          "marker": {
           "color": "#8bdcbe"
          }
         },
         "measure": [
          "relative",
          "relative",
          "relative",
          "relative",
          "relative",
          "relative",
          "relative",
          "relative",
          "relative",
          "relative",
          "relative",
          "relative",
          "total"
         ],
         "orientation": "h",
         "showlegend": false,
         "text": [
          "0.274",
          "+0.274",
          "+0.122",
          "+0.139",
          "-0.04",
          "+0.232",
          "0.0",
          "0.0",
          "0.0",
          "0.0",
          "0.0",
          "0.0",
          "1.0"
         ],
         "textposition": "outside",
         "totals": {
          "marker": {
           "color": "#371ea3"
          }
         },
         "type": "waterfall",
         "x": [
          0,
          0.274,
          0.122,
          0.139,
          -0.04,
          0.232,
          0,
          0,
          0,
          0,
          0,
          0,
          0.726
         ],
         "xaxis": "x",
         "y": [
          "intercept",
          "Income = 950000.0",
          "Age = 29.0",
          "CIBIL_Score = 780.0",
          "Down_Payment = 250000.0",
          "Booking_Lead_Time = 20.0",
          "Preferred_Delivery_Time = 0.0",
          "OEM_Loyalty_Program = 1.0",
          "Finances_Status_Approved Loans = 1.0",
          "Cancellation_Probability = 0.0",
          "Dealership_Engagement = 2.0",
          "+ all other factors",
          "prediction"
         ],
         "yaxis": "y"
        }
       ],
       "layout": {
        "annotations": [
         {
          "font": {
           "size": 16
          },
          "showarrow": false,
          "text": "LogisticRegression",
          "x": 0.5,
          "xanchor": "center",
          "xref": "paper",
          "y": 1,
          "yanchor": "bottom",
          "yref": "paper"
         },
         {
          "font": {
           "size": 16
          },
          "showarrow": false,
          "text": "contribution",
          "x": 0.5,
          "xanchor": "center",
          "xref": "paper",
          "y": 0,
          "yanchor": "top",
          "yref": "paper",
          "yshift": -30
         }
        ],
        "font": {
         "color": "#371ea3"
        },
        "height": 413,
        "margin": {
         "b": 71,
         "r": 30,
         "t": 78
        },
        "shapes": [
         {
          "line": {
           "color": "#371ea3",
           "dash": "dot",
           "width": 1.5
          },
          "type": "line",
          "x0": 0.2735227015522871,
          "x1": 0.2735227015522871,
          "xref": "x",
          "y0": -1,
          "y1": 13,
          "yref": "y"
         }
        ],
        "template": {
         "data": {
          "scatter": [
           {
            "type": "scatter"
           }
          ]
         }
        },
        "title": {
         "text": "Arjun Malhotra",
         "x": 0.15
        },
        "xaxis": {
         "anchor": "y",
         "automargin": true,
         "domain": [
          0,
          1
         ],
         "fixedrange": true,
         "gridwidth": 2,
         "range": [
          0.16510000000000002,
          1.1089
         ],
         "tickcolor": "white",
         "ticklen": 3,
         "ticks": "outside",
         "type": "linear",
         "zeroline": false
        },
        "yaxis": {
         "anchor": "x",
         "automargin": true,
         "autorange": "reversed",
         "domain": [
          0,
          1
         ],
         "fixedrange": true,
         "gridwidth": 2,
         "tickcolor": "white",
         "ticklen": 10,
         "ticks": "outside",
         "type": "category"
        }
       }
      }
     },
     "metadata": {},
     "output_type": "display_data"
    },
    {
     "data": {
      "application/vnd.plotly.v1+json": {
       "config": {
        "displaylogo": false,
        "modeBarButtonsToRemove": [
         "sendDataToCloud",
         "lasso2d",
         "autoScale2d",
         "select2d",
         "zoom2d",
         "pan2d",
         "zoomIn2d",
         "zoomOut2d",
         "resetScale2d",
         "toggleSpikelines",
         "hoverCompareCartesian",
         "hoverClosestCartesian"
        ],
        "plotlyServerURL": "https://plot.ly",
        "staticPlot": false,
        "toImageButtonOptions": {
         "height": null,
         "width": null
        }
       },
       "data": [
        {
         "base": 0.2735227015522871,
         "connector": {
          "line": {
           "color": "#371ea3",
           "dash": "solid",
           "width": 1
          },
          "mode": "spanning"
         },
         "decreasing": {
          "marker": {
           "color": "#f05a71"
          }
         },
         "hoverinfo": "text+delta",
         "hoverlabel": {
          "bgcolor": "rgba(0,0,0,0.8)"
         },
         "hovertext": [
          "Average response: 0.274<br>Prediction: 0.0",
          "Income = 1300000.0<br>increases average response by",
          "Vehicle_Type_SUV = 1.0<br>increases average response by",
          "ExtendedWarranty = 0.0<br>decreases average response by",
          "Vehicle_Type_Sedan = 0.0<br>decreases average response by",
          "Finances_Status_Undecided = 0.0<br>decreases average response by",
          "Lead_Source = 2.0<br>decreases average response by",
          "Test_Drive_Status = 1.0<br>decreases average response by",
          "Finances_Status_Cash Purchase = 0.0<br>decreases average response by",
          "None = 0.0<br>decreases average response by",
          "Vehicle_Type_Hatchback = 0.0<br>decreases average response by",
          "+ all other factors<br>decreases average response by",
          "Average response: 0.274<br>Prediction: 0.0"
         ],
         "increasing": {
          "marker": {
           "color": "#8bdcbe"
          }
         },
         "measure": [
          "relative",
          "relative",
          "relative",
          "relative",
          "relative",
          "relative",
          "relative",
          "relative",
          "relative",
          "relative",
          "relative",
          "relative",
          "total"
         ],
         "orientation": "h",
         "showlegend": false,
         "text": [
          "0.274",
          "+0.003",
          "+0.001",
          "0.0",
          "0.0",
          "0.0",
          "0.0",
          "0.0",
          "0.0",
          "0.0",
          "0.0",
          "-0.28",
          "0.0"
         ],
         "textposition": "outside",
         "totals": {
          "marker": {
           "color": "#371ea3"
          }
         },
         "type": "waterfall",
         "x": [
          0,
          0.003,
          0.001,
          0,
          0,
          0,
          0,
          0,
          0,
          0,
          0,
          -0.28,
          -0.274
         ],
         "xaxis": "x",
         "y": [
          "intercept",
          "Income = 1300000.0",
          "Vehicle_Type_SUV = 1.0",
          "ExtendedWarranty = 0.0",
          "Vehicle_Type_Sedan = 0.0",
          "Finances_Status_Undecided = 0.0",
          "Lead_Source = 2.0",
          "Test_Drive_Status = 1.0",
          "Finances_Status_Cash Purchase = 0.0",
          "None = 0.0",
          "Vehicle_Type_Hatchback = 0.0",
          "+ all other factors",
          "prediction"
         ],
         "yaxis": "y"
        }
       ],
       "layout": {
        "annotations": [
         {
          "font": {
           "size": 16
          },
          "showarrow": false,
          "text": "LogisticRegression",
          "x": 0.5,
          "xanchor": "center",
          "xref": "paper",
          "y": 1,
          "yanchor": "bottom",
          "yref": "paper"
         },
         {
          "font": {
           "size": 16
          },
          "showarrow": false,
          "text": "contribution",
          "x": 0.5,
          "xanchor": "center",
          "xref": "paper",
          "y": 0,
          "yanchor": "top",
          "yref": "paper",
          "yshift": -30
         }
        ],
        "font": {
         "color": "#371ea3"
        },
        "height": 413,
        "margin": {
         "b": 71,
         "r": 30,
         "t": 78
        },
        "shapes": [
         {
          "line": {
           "color": "#371ea3",
           "dash": "dot",
           "width": 1.5
          },
          "type": "line",
          "x0": 0.2735227015522871,
          "x1": 0.2735227015522871,
          "xref": "x",
          "y0": -1,
          "y1": 13,
          "yref": "y"
         }
        ],
        "template": {
         "data": {
          "scatter": [
           {
            "type": "scatter"
           }
          ]
         }
        },
        "title": {
         "text": "Pooja Bansal",
         "x": 0.15
        },
        "xaxis": {
         "anchor": "y",
         "automargin": true,
         "domain": [
          0,
          1
         ],
         "fixedrange": true,
         "gridwidth": 2,
         "range": [
          -0.042,
          0.322
         ],
         "tickcolor": "white",
         "ticklen": 3,
         "ticks": "outside",
         "type": "linear",
         "zeroline": false
        },
        "yaxis": {
         "anchor": "x",
         "automargin": true,
         "autorange": "reversed",
         "domain": [
          0,
          1
         ],
         "fixedrange": true,
         "gridwidth": 2,
         "tickcolor": "white",
         "ticklen": 10,
         "ticks": "outside",
         "type": "category"
        }
       }
      }
     },
     "metadata": {},
     "output_type": "display_data"
    },
    {
     "data": {
      "application/vnd.plotly.v1+json": {
       "config": {
        "displaylogo": false,
        "modeBarButtonsToRemove": [
         "sendDataToCloud",
         "lasso2d",
         "autoScale2d",
         "select2d",
         "zoom2d",
         "pan2d",
         "zoomIn2d",
         "zoomOut2d",
         "resetScale2d",
         "toggleSpikelines",
         "hoverCompareCartesian",
         "hoverClosestCartesian"
        ],
        "plotlyServerURL": "https://plot.ly",
        "staticPlot": false,
        "toImageButtonOptions": {
         "height": null,
         "width": null
        }
       },
       "data": [
        {
         "base": 0.2735227015522871,
         "connector": {
          "line": {
           "color": "#371ea3",
           "dash": "solid",
           "width": 1
          },
          "mode": "spanning"
         },
         "decreasing": {
          "marker": {
           "color": "#f05a71"
          }
         },
         "hoverinfo": "text+delta",
         "hoverlabel": {
          "bgcolor": "rgba(0,0,0,0.8)"
         },
         "hovertext": [
          "Average response: 0.274<br>Prediction: 0.32",
          "Booking_Lead_Time = 5.0<br>increases average response by",
          "Income = 750000.0<br>increases average response by",
          "Age = 27.0<br>increases average response by",
          "Customer_Satisfaction_Score = 9.0<br>decreases average response by",
          "Cancellation_Probability = 0.0<br>decreases average response by",
          "External_Factors = 0.0<br>decreases average response by",
          "Companion_Feedback = 1.0<br>decreases average response by",
          "Needs_Match = 2.0<br>decreases average response by",
          "isOnDeliveryDate = 1.0<br>decreases average response by",
          "Experience_With_Sales_Rep = 1.0<br>decreases average response by",
          "+ all other factors<br>decreases average response by",
          "Average response: 0.274<br>Prediction: 0.32"
         ],
         "increasing": {
          "marker": {
           "color": "#8bdcbe"
          }
         },
         "measure": [
          "relative",
          "relative",
          "relative",
          "relative",
          "relative",
          "relative",
          "relative",
          "relative",
          "relative",
          "relative",
          "relative",
          "relative",
          "total"
         ],
         "orientation": "h",
         "showlegend": false,
         "text": [
          "0.274",
          "+0.463",
          "+0.099",
          "+0.13",
          "0.0",
          "0.0",
          "0.0",
          "0.0",
          "0.0",
          "0.0",
          "0.0",
          "-0.645",
          "0.32"
         ],
         "textposition": "outside",
         "totals": {
          "marker": {
           "color": "#371ea3"
          }
         },
         "type": "waterfall",
         "x": [
          0,
          0.463,
          0.099,
          0.13,
          0,
          0,
          0,
          0,
          0,
          0,
          0,
          -0.645,
          0.047
         ],
         "xaxis": "x",
         "y": [
          "intercept",
          "Booking_Lead_Time = 5.0",
          "Income = 750000.0",
          "Age = 27.0",
          "Customer_Satisfaction_Score = 9.0",
          "Cancellation_Probability = 0.0",
          "External_Factors = 0.0",
          "Companion_Feedback = 1.0",
          "Needs_Match = 2.0",
          "isOnDeliveryDate = 1.0",
          "Experience_With_Sales_Rep = 1.0",
          "+ all other factors",
          "prediction"
         ],
         "yaxis": "y"
        }
       ],
       "layout": {
        "annotations": [
         {
          "font": {
           "size": 16
          },
          "showarrow": false,
          "text": "LogisticRegression",
          "x": 0.5,
          "xanchor": "center",
          "xref": "paper",
          "y": 1,
          "yanchor": "bottom",
          "yref": "paper"
         },
         {
          "font": {
           "size": 16
          },
          "showarrow": false,
          "text": "contribution",
          "x": 0.5,
          "xanchor": "center",
          "xref": "paper",
          "y": 0,
          "yanchor": "top",
          "yref": "paper",
          "yshift": -30
         }
        ],
        "font": {
         "color": "#371ea3"
        },
        "height": 413,
        "margin": {
         "b": 71,
         "r": 30,
         "t": 78
        },
        "shapes": [
         {
          "line": {
           "color": "#371ea3",
           "dash": "dot",
           "width": 1.5
          },
          "type": "line",
          "x0": 0.2735227015522871,
          "x1": 0.2735227015522871,
          "xref": "x",
          "y0": -1,
          "y1": 13,
          "yref": "y"
         }
        ],
        "template": {
         "data": {
          "scatter": [
           {
            "type": "scatter"
           }
          ]
         }
        },
        "title": {
         "text": "Ramesh Choudhary",
         "x": 0.15
        },
        "xaxis": {
         "anchor": "y",
         "automargin": true,
         "domain": [
          0,
          1
         ],
         "fixedrange": true,
         "gridwidth": 2,
         "range": [
          0.17020000000000002,
          1.0697999999999999
         ],
         "tickcolor": "white",
         "ticklen": 3,
         "ticks": "outside",
         "type": "linear",
         "zeroline": false
        },
        "yaxis": {
         "anchor": "x",
         "automargin": true,
         "autorange": "reversed",
         "domain": [
          0,
          1
         ],
         "fixedrange": true,
         "gridwidth": 2,
         "tickcolor": "white",
         "ticklen": 10,
         "ticks": "outside",
         "type": "category"
        }
       }
      }
     },
     "metadata": {},
     "output_type": "display_data"
    },
    {
     "data": {
      "application/vnd.plotly.v1+json": {
       "config": {
        "displaylogo": false,
        "modeBarButtonsToRemove": [
         "sendDataToCloud",
         "lasso2d",
         "autoScale2d",
         "select2d",
         "zoom2d",
         "pan2d",
         "zoomIn2d",
         "zoomOut2d",
         "resetScale2d",
         "toggleSpikelines",
         "hoverCompareCartesian",
         "hoverClosestCartesian"
        ],
        "plotlyServerURL": "https://plot.ly",
        "staticPlot": false,
        "toImageButtonOptions": {
         "height": null,
         "width": null
        }
       },
       "data": [
        {
         "base": 0.2735227015522871,
         "connector": {
          "line": {
           "color": "#371ea3",
           "dash": "solid",
           "width": 1
          },
          "mode": "spanning"
         },
         "decreasing": {
          "marker": {
           "color": "#f05a71"
          }
         },
         "hoverinfo": "text+delta",
         "hoverlabel": {
          "bgcolor": "rgba(0,0,0,0.8)"
         },
         "hovertext": [
          "Average response: 0.274<br>Prediction: 0.0",
          "Down_Payment = 400000.0<br>increases average response by",
          "CIBIL_Score = 820.0<br>increases average response by",
          "Customer_Satisfaction_Score = 9.0<br>increases average response by",
          "Competitive_Factors = 0.0<br>increases average response by",
          "Preferred_Delivery_Time = 0.0<br>increases average response by",
          "OEM_Loyalty_Program = 1.0<br>increases average response by",
          "Cancellation_Probability = 0.0<br>increases average response by",
          "Dealership_Engagement = 2.0<br>increases average response by",
          "isUndecidedFinances = 0.0<br>decreases average response by",
          "Special_Occasions = 2.0<br>increases average response by",
          "+ all other factors<br>decreases average response by",
          "Average response: 0.274<br>Prediction: 0.0"
         ],
         "increasing": {
          "marker": {
           "color": "#8bdcbe"
          }
         },
         "measure": [
          "relative",
          "relative",
          "relative",
          "relative",
          "relative",
          "relative",
          "relative",
          "relative",
          "relative",
          "relative",
          "relative",
          "relative",
          "total"
         ],
         "orientation": "h",
         "showlegend": false,
         "text": [
          "0.274",
          "+0.363",
          "+0.062",
          "+0.003",
          "+0.002",
          "+0.003",
          "+0.001",
          "+0.001",
          "+0.002",
          "0.0",
          "+0.001",
          "-0.71",
          "0.0"
         ],
         "textposition": "outside",
         "totals": {
          "marker": {
           "color": "#371ea3"
          }
         },
         "type": "waterfall",
         "x": [
          0,
          0.363,
          0.062,
          0.003,
          0.002,
          0.003,
          0.001,
          0.001,
          0.002,
          0,
          0.001,
          -0.71,
          -0.273
         ],
         "xaxis": "x",
         "y": [
          "intercept",
          "Down_Payment = 400000.0",
          "CIBIL_Score = 820.0",
          "Customer_Satisfaction_Score = 9.0",
          "Competitive_Factors = 0.0",
          "Preferred_Delivery_Time = 0.0",
          "OEM_Loyalty_Program = 1.0",
          "Cancellation_Probability = 0.0",
          "Dealership_Engagement = 2.0",
          "isUndecidedFinances = 0.0",
          "Special_Occasions = 2.0",
          "+ all other factors",
          "prediction"
         ],
         "yaxis": "y"
        }
       ],
       "layout": {
        "annotations": [
         {
          "font": {
           "size": 16
          },
          "showarrow": false,
          "text": "LogisticRegression",
          "x": 0.5,
          "xanchor": "center",
          "xref": "paper",
          "y": 1,
          "yanchor": "bottom",
          "yref": "paper"
         },
         {
          "font": {
           "size": 16
          },
          "showarrow": false,
          "text": "contribution",
          "x": 0.5,
          "xanchor": "center",
          "xref": "paper",
          "y": 0,
          "yanchor": "top",
          "yref": "paper",
          "yshift": -30
         }
        ],
        "font": {
         "color": "#371ea3"
        },
        "height": 413,
        "margin": {
         "b": 71,
         "r": 30,
         "t": 78
        },
        "shapes": [
         {
          "line": {
           "color": "#371ea3",
           "dash": "dot",
           "width": 1.5
          },
          "type": "line",
          "x0": 0.2735227015522871,
          "x1": 0.2735227015522871,
          "xref": "x",
          "y0": -1,
          "y1": 13,
          "yref": "y"
         }
        ],
        "template": {
         "data": {
          "scatter": [
           {
            "type": "scatter"
           }
          ]
         }
        },
        "title": {
         "text": "Snehal Deshpande",
         "x": 0.15
        },
        "xaxis": {
         "anchor": "y",
         "automargin": true,
         "domain": [
          0,
          1
         ],
         "fixedrange": true,
         "gridwidth": 2,
         "range": [
          -0.1065,
          0.8165
         ],
         "tickcolor": "white",
         "ticklen": 3,
         "ticks": "outside",
         "type": "linear",
         "zeroline": false
        },
        "yaxis": {
         "anchor": "x",
         "automargin": true,
         "autorange": "reversed",
         "domain": [
          0,
          1
         ],
         "fixedrange": true,
         "gridwidth": 2,
         "tickcolor": "white",
         "ticklen": 10,
         "ticks": "outside",
         "type": "category"
        }
       }
      }
     },
     "metadata": {},
     "output_type": "display_data"
    },
    {
     "data": {
      "application/vnd.plotly.v1+json": {
       "config": {
        "displaylogo": false,
        "modeBarButtonsToRemove": [
         "sendDataToCloud",
         "lasso2d",
         "autoScale2d",
         "select2d",
         "zoom2d",
         "pan2d",
         "zoomIn2d",
         "zoomOut2d",
         "resetScale2d",
         "toggleSpikelines",
         "hoverCompareCartesian",
         "hoverClosestCartesian"
        ],
        "plotlyServerURL": "https://plot.ly",
        "staticPlot": false,
        "toImageButtonOptions": {
         "height": null,
         "width": null
        }
       },
       "data": [
        {
         "base": 0.2735227015522871,
         "connector": {
          "line": {
           "color": "#371ea3",
           "dash": "solid",
           "width": 1
          },
          "mode": "spanning"
         },
         "decreasing": {
          "marker": {
           "color": "#f05a71"
          }
         },
         "hoverinfo": "text+delta",
         "hoverlabel": {
          "bgcolor": "rgba(0,0,0,0.8)"
         },
         "hovertext": [
          "Average response: 0.274<br>Prediction: 0.001",
          "Booking_Lead_Time = 18.0<br>increases average response by",
          "Down_Payment = 300000.0<br>increases average response by",
          "CIBIL_Score = 760.0<br>increases average response by",
          "Finances_Status_Approved Loans = 1.0<br>decreases average response by",
          "isUndecidedFinances = 0.0<br>decreases average response by",
          "Companion_Feedback = 1.0<br>decreases average response by",
          "ExtendedWarranty = 0.0<br>decreases average response by",
          "Finances_Status_Undecided = 0.0<br>decreases average response by",
          "Lead_Source = 2.0<br>decreases average response by",
          "isFirstTimeBuyer = 1.0<br>decreases average response by",
          "+ all other factors<br>decreases average response by",
          "Average response: 0.274<br>Prediction: 0.001"
         ],
         "increasing": {
          "marker": {
           "color": "#8bdcbe"
          }
         },
         "measure": [
          "relative",
          "relative",
          "relative",
          "relative",
          "relative",
          "relative",
          "relative",
          "relative",
          "relative",
          "relative",
          "relative",
          "relative",
          "total"
         ],
         "orientation": "h",
         "showlegend": false,
         "text": [
          "0.274",
          "+0.192",
          "+0.05",
          "+0.034",
          "0.0",
          "0.0",
          "0.0",
          "0.0",
          "0.0",
          "0.0",
          "0.0",
          "-0.549",
          "0.001"
         ],
         "textposition": "outside",
         "totals": {
          "marker": {
           "color": "#371ea3"
          }
         },
         "type": "waterfall",
         "x": [
          0,
          0.192,
          0.05,
          0.034,
          0,
          0,
          0,
          0,
          0,
          0,
          0,
          -0.549,
          -0.273
         ],
         "xaxis": "x",
         "y": [
          "intercept",
          "Booking_Lead_Time = 18.0",
          "Down_Payment = 300000.0",
          "CIBIL_Score = 760.0",
          "Finances_Status_Approved Loans = 1.0",
          "isUndecidedFinances = 0.0",
          "Companion_Feedback = 1.0",
          "ExtendedWarranty = 0.0",
          "Finances_Status_Undecided = 0.0",
          "Lead_Source = 2.0",
          "isFirstTimeBuyer = 1.0",
          "+ all other factors",
          "prediction"
         ],
         "yaxis": "y"
        }
       ],
       "layout": {
        "annotations": [
         {
          "font": {
           "size": 16
          },
          "showarrow": false,
          "text": "LogisticRegression",
          "x": 0.5,
          "xanchor": "center",
          "xref": "paper",
          "y": 1,
          "yanchor": "bottom",
          "yref": "paper"
         },
         {
          "font": {
           "size": 16
          },
          "showarrow": false,
          "text": "contribution",
          "x": 0.5,
          "xanchor": "center",
          "xref": "paper",
          "y": 0,
          "yanchor": "top",
          "yref": "paper",
          "yshift": -30
         }
        ],
        "font": {
         "color": "#371ea3"
        },
        "height": 413,
        "margin": {
         "b": 71,
         "r": 30,
         "t": 78
        },
        "shapes": [
         {
          "line": {
           "color": "#371ea3",
           "dash": "dot",
           "width": 1.5
          },
          "type": "line",
          "x0": 0.2735227015522871,
          "x1": 0.2735227015522871,
          "xref": "x",
          "y0": -1,
          "y1": 13,
          "yref": "y"
         }
        ],
        "template": {
         "data": {
          "scatter": [
           {
            "type": "scatter"
           }
          ]
         }
        },
        "title": {
         "text": "Ankit Kapoor",
         "x": 0.15
        },
        "xaxis": {
         "anchor": "y",
         "automargin": true,
         "domain": [
          0,
          1
         ],
         "fixedrange": true,
         "gridwidth": 2,
         "range": [
          -0.08135,
          0.6323500000000001
         ],
         "tickcolor": "white",
         "ticklen": 3,
         "ticks": "outside",
         "type": "linear",
         "zeroline": false
        },
        "yaxis": {
         "anchor": "x",
         "automargin": true,
         "autorange": "reversed",
         "domain": [
          0,
          1
         ],
         "fixedrange": true,
         "gridwidth": 2,
         "tickcolor": "white",
         "ticklen": 10,
         "ticks": "outside",
         "type": "category"
        }
       }
      }
     },
     "metadata": {},
     "output_type": "display_data"
    },
    {
     "data": {
      "application/vnd.plotly.v1+json": {
       "config": {
        "displaylogo": false,
        "modeBarButtonsToRemove": [
         "sendDataToCloud",
         "lasso2d",
         "autoScale2d",
         "select2d",
         "zoom2d",
         "pan2d",
         "zoomIn2d",
         "zoomOut2d",
         "resetScale2d",
         "toggleSpikelines",
         "hoverCompareCartesian",
         "hoverClosestCartesian"
        ],
        "plotlyServerURL": "https://plot.ly",
        "staticPlot": false,
        "toImageButtonOptions": {
         "height": null,
         "width": null
        }
       },
       "data": [
        {
         "base": 0.2735227015522871,
         "connector": {
          "line": {
           "color": "#371ea3",
           "dash": "solid",
           "width": 1
          },
          "mode": "spanning"
         },
         "decreasing": {
          "marker": {
           "color": "#f05a71"
          }
         },
         "hoverinfo": "text+delta",
         "hoverlabel": {
          "bgcolor": "rgba(0,0,0,0.8)"
         },
         "hovertext": [
          "Average response: 0.274<br>Prediction: 0.234",
          "Age = 29.0<br>increases average response by",
          "Income = 1100000.0<br>increases average response by",
          "CIBIL_Score = 770.0<br>increases average response by",
          "Booking_Lead_Time = 20.0<br>decreases average response by",
          "Down_Payment = 200000.0<br>decreases average response by",
          "Customer_Satisfaction_Score = 9.0<br>increases average response by",
          "Competitive_Factors = 0.0<br>increases average response by",
          "Preferred_Delivery_Time = 0.0<br>increases average response by",
          "Finances_Status_Approved Loans = 1.0<br>increases average response by",
          "Cancellation_Probability = 0.0<br>increases average response by",
          "+ all other factors<br>increases average response by",
          "Average response: 0.274<br>Prediction: 0.234"
         ],
         "increasing": {
          "marker": {
           "color": "#8bdcbe"
          }
         },
         "measure": [
          "relative",
          "relative",
          "relative",
          "relative",
          "relative",
          "relative",
          "relative",
          "relative",
          "relative",
          "relative",
          "relative",
          "relative",
          "total"
         ],
         "orientation": "h",
         "showlegend": false,
         "text": [
          "0.274",
          "+0.191",
          "+0.045",
          "+0.088",
          "-0.12",
          "-0.327",
          "+0.009",
          "+0.01",
          "+0.012",
          "+0.009",
          "+0.007",
          "+0.035",
          "0.234"
         ],
         "textposition": "outside",
         "totals": {
          "marker": {
           "color": "#371ea3"
          }
         },
         "type": "waterfall",
         "x": [
          0,
          0.191,
          0.045,
          0.088,
          -0.12,
          -0.327,
          0.009,
          0.01,
          0.012,
          0.009,
          0.007,
          0.035,
          -0.04
         ],
         "xaxis": "x",
         "y": [
          "intercept",
          "Age = 29.0",
          "Income = 1100000.0",
          "CIBIL_Score = 770.0",
          "Booking_Lead_Time = 20.0",
          "Down_Payment = 200000.0",
          "Customer_Satisfaction_Score = 9.0",
          "Competitive_Factors = 0.0",
          "Preferred_Delivery_Time = 0.0",
          "Finances_Status_Approved Loans = 1.0",
          "Cancellation_Probability = 0.0",
          "+ all other factors",
          "prediction"
         ],
         "yaxis": "y"
        }
       ],
       "layout": {
        "annotations": [
         {
          "font": {
           "size": 16
          },
          "showarrow": false,
          "text": "LogisticRegression",
          "x": 0.5,
          "xanchor": "center",
          "xref": "paper",
          "y": 1,
          "yanchor": "bottom",
          "yref": "paper"
         },
         {
          "font": {
           "size": 16
          },
          "showarrow": false,
          "text": "contribution",
          "x": 0.5,
          "xanchor": "center",
          "xref": "paper",
          "y": 0,
          "yanchor": "top",
          "yref": "paper",
          "yshift": -30
         }
        ],
        "font": {
         "color": "#371ea3"
        },
        "height": 413,
        "margin": {
         "b": 71,
         "r": 30,
         "t": 78
        },
        "shapes": [
         {
          "line": {
           "color": "#371ea3",
           "dash": "dot",
           "width": 1.5
          },
          "type": "line",
          "x0": 0.2735227015522871,
          "x1": 0.2735227015522871,
          "xref": "x",
          "y0": -1,
          "y1": 13,
          "yref": "y"
         }
        ],
        "template": {
         "data": {
          "scatter": [
           {
            "type": "scatter"
           }
          ]
         }
        },
        "title": {
         "text": "Priya Sharma",
         "x": 0.15
        },
        "xaxis": {
         "anchor": "y",
         "automargin": true,
         "domain": [
          0,
          1
         ],
         "fixedrange": true,
         "gridwidth": 2,
         "range": [
          0.08395000000000001,
          0.6650499999999999
         ],
         "tickcolor": "white",
         "ticklen": 3,
         "ticks": "outside",
         "type": "linear",
         "zeroline": false
        },
        "yaxis": {
         "anchor": "x",
         "automargin": true,
         "autorange": "reversed",
         "domain": [
          0,
          1
         ],
         "fixedrange": true,
         "gridwidth": 2,
         "tickcolor": "white",
         "ticklen": 10,
         "ticks": "outside",
         "type": "category"
        }
       }
      }
     },
     "metadata": {},
     "output_type": "display_data"
    },
    {
     "data": {
      "application/vnd.plotly.v1+json": {
       "config": {
        "displaylogo": false,
        "modeBarButtonsToRemove": [
         "sendDataToCloud",
         "lasso2d",
         "autoScale2d",
         "select2d",
         "zoom2d",
         "pan2d",
         "zoomIn2d",
         "zoomOut2d",
         "resetScale2d",
         "toggleSpikelines",
         "hoverCompareCartesian",
         "hoverClosestCartesian"
        ],
        "plotlyServerURL": "https://plot.ly",
        "staticPlot": false,
        "toImageButtonOptions": {
         "height": null,
         "width": null
        }
       },
       "data": [
        {
         "base": 0.2735227015522871,
         "connector": {
          "line": {
           "color": "#371ea3",
           "dash": "solid",
           "width": 1
          },
          "mode": "spanning"
         },
         "decreasing": {
          "marker": {
           "color": "#f05a71"
          }
         },
         "hoverinfo": "text+delta",
         "hoverlabel": {
          "bgcolor": "rgba(0,0,0,0.8)"
         },
         "hovertext": [
          "Average response: 0.274<br>Prediction: 0.0",
          "Booking_Lead_Time = 15.0<br>increases average response by",
          "CIBIL_Score = 720.0<br>decreases average response by",
          "OEM_Loyalty_Program = 1.0<br>increases average response by",
          "Companion_Feedback = 1.0<br>increases average response by",
          "ExtendedWarranty = 0.0<br>increases average response by",
          "Finances_Status_Undecided = 0.0<br>decreases average response by",
          "Test_Drive_Status = 1.0<br>increases average response by",
          "Finances_Status_Cash Purchase = 0.0<br>increases average response by",
          "Lead_Source = 1.0<br>decreases average response by",
          "None = 0.0<br>increases average response by",
          "+ all other factors<br>decreases average response by",
          "Average response: 0.274<br>Prediction: 0.0"
         ],
         "increasing": {
          "marker": {
           "color": "#8bdcbe"
          }
         },
         "measure": [
          "relative",
          "relative",
          "relative",
          "relative",
          "relative",
          "relative",
          "relative",
          "relative",
          "relative",
          "relative",
          "relative",
          "relative",
          "total"
         ],
         "orientation": "h",
         "showlegend": false,
         "text": [
          "0.274",
          "+0.258",
          "-0.103",
          "+0.003",
          "+0.003",
          "+0.001",
          "0.0",
          "+0.001",
          "+0.001",
          "0.0",
          "+0.001",
          "-0.438",
          "0.0"
         ],
         "textposition": "outside",
         "totals": {
          "marker": {
           "color": "#371ea3"
          }
         },
         "type": "waterfall",
         "x": [
          0,
          0.258,
          -0.103,
          0.003,
          0.003,
          0.001,
          0,
          0.001,
          0.001,
          0,
          0.001,
          -0.438,
          -0.274
         ],
         "xaxis": "x",
         "y": [
          "intercept",
          "Booking_Lead_Time = 15.0",
          "CIBIL_Score = 720.0",
          "OEM_Loyalty_Program = 1.0",
          "Companion_Feedback = 1.0",
          "ExtendedWarranty = 0.0",
          "Finances_Status_Undecided = 0.0",
          "Test_Drive_Status = 1.0",
          "Finances_Status_Cash Purchase = 0.0",
          "Lead_Source = 1.0",
          "None = 0.0",
          "+ all other factors",
          "prediction"
         ],
         "yaxis": "y"
        }
       ],
       "layout": {
        "annotations": [
         {
          "font": {
           "size": 16
          },
          "showarrow": false,
          "text": "LogisticRegression",
          "x": 0.5,
          "xanchor": "center",
          "xref": "paper",
          "y": 1,
          "yanchor": "bottom",
          "yref": "paper"
         },
         {
          "font": {
           "size": 16
          },
          "showarrow": false,
          "text": "contribution",
          "x": 0.5,
          "xanchor": "center",
          "xref": "paper",
          "y": 0,
          "yanchor": "top",
          "yref": "paper",
          "yshift": -30
         }
        ],
        "font": {
         "color": "#371ea3"
        },
        "height": 413,
        "margin": {
         "b": 71,
         "r": 30,
         "t": 78
        },
        "shapes": [
         {
          "line": {
           "color": "#371ea3",
           "dash": "dot",
           "width": 1.5
          },
          "type": "line",
          "x0": 0.2735227015522871,
          "x1": 0.2735227015522871,
          "xref": "x",
          "y0": -1,
          "y1": 13,
          "yref": "y"
         }
        ],
        "template": {
         "data": {
          "scatter": [
           {
            "type": "scatter"
           }
          ]
         }
        },
        "title": {
         "text": "Rohan Mehta",
         "x": 0.15
        },
        "xaxis": {
         "anchor": "y",
         "automargin": true,
         "domain": [
          0,
          1
         ],
         "fixedrange": true,
         "gridwidth": 2,
         "range": [
          -0.07965,
          0.61065
         ],
         "tickcolor": "white",
         "ticklen": 3,
         "ticks": "outside",
         "type": "linear",
         "zeroline": false
        },
        "yaxis": {
         "anchor": "x",
         "automargin": true,
         "autorange": "reversed",
         "domain": [
          0,
          1
         ],
         "fixedrange": true,
         "gridwidth": 2,
         "tickcolor": "white",
         "ticklen": 10,
         "ticks": "outside",
         "type": "category"
        }
       }
      }
     },
     "metadata": {},
     "output_type": "display_data"
    },
    {
     "data": {
      "application/vnd.plotly.v1+json": {
       "config": {
        "displaylogo": false,
        "modeBarButtonsToRemove": [
         "sendDataToCloud",
         "lasso2d",
         "autoScale2d",
         "select2d",
         "zoom2d",
         "pan2d",
         "zoomIn2d",
         "zoomOut2d",
         "resetScale2d",
         "toggleSpikelines",
         "hoverCompareCartesian",
         "hoverClosestCartesian"
        ],
        "plotlyServerURL": "https://plot.ly",
        "staticPlot": false,
        "toImageButtonOptions": {
         "height": null,
         "width": null
        }
       },
       "data": [
        {
         "base": 0.2735227015522871,
         "connector": {
          "line": {
           "color": "#371ea3",
           "dash": "solid",
           "width": 1
          },
          "mode": "spanning"
         },
         "decreasing": {
          "marker": {
           "color": "#f05a71"
          }
         },
         "hoverinfo": "text+delta",
         "hoverlabel": {
          "bgcolor": "rgba(0,0,0,0.8)"
         },
         "hovertext": [
          "Average response: 0.274<br>Prediction: 0.02",
          "Income = 950000.0<br>increases average response by",
          "CIBIL_Score = 780.0<br>increases average response by",
          "Down_Payment = 250000.0<br>decreases average response by",
          "isUndecidedFinances = 0.0<br>increases average response by",
          "ExtendedWarranty = 0.0<br>decreases average response by",
          "isOnDeliveryDate = 1.0<br>increases average response by",
          "Vehicle_Type_Sedan = 0.0<br>increases average response by",
          "Finances_Status_Undecided = 0.0<br>decreases average response by",
          "Lead_Source = 2.0<br>decreases average response by",
          "FloorMats = 0.0<br>decreases average response by",
          "+ all other factors<br>decreases average response by",
          "Average response: 0.274<br>Prediction: 0.02"
         ],
         "increasing": {
          "marker": {
           "color": "#8bdcbe"
          }
         },
         "measure": [
          "relative",
          "relative",
          "relative",
          "relative",
          "relative",
          "relative",
          "relative",
          "relative",
          "relative",
          "relative",
          "relative",
          "relative",
          "total"
         ],
         "orientation": "h",
         "showlegend": false,
         "text": [
          "0.274",
          "+0.274",
          "+0.073",
          "-0.081",
          "+0.001",
          "0.0",
          "+0.001",
          "+0.001",
          "0.0",
          "0.0",
          "0.0",
          "-0.521",
          "0.02"
         ],
         "textposition": "outside",
         "totals": {
          "marker": {
           "color": "#371ea3"
          }
         },
         "type": "waterfall",
         "x": [
          0,
          0.274,
          0.073,
          -0.081,
          0.001,
          0,
          0.001,
          0.001,
          0,
          0,
          0,
          -0.521,
          -0.253
         ],
         "xaxis": "x",
         "y": [
          "intercept",
          "Income = 950000.0",
          "CIBIL_Score = 780.0",
          "Down_Payment = 250000.0",
          "isUndecidedFinances = 0.0",
          "ExtendedWarranty = 0.0",
          "isOnDeliveryDate = 1.0",
          "Vehicle_Type_Sedan = 0.0",
          "Finances_Status_Undecided = 0.0",
          "Lead_Source = 2.0",
          "FloorMats = 0.0",
          "+ all other factors",
          "prediction"
         ],
         "yaxis": "y"
        }
       ],
       "layout": {
        "annotations": [
         {
          "font": {
           "size": 16
          },
          "showarrow": false,
          "text": "LogisticRegression",
          "x": 0.5,
          "xanchor": "center",
          "xref": "paper",
          "y": 1,
          "yanchor": "bottom",
          "yref": "paper"
         },
         {
          "font": {
           "size": 16
          },
          "showarrow": false,
          "text": "contribution",
          "x": 0.5,
          "xanchor": "center",
          "xref": "paper",
          "y": 0,
          "yanchor": "top",
          "yref": "paper",
          "yshift": -30
         }
        ],
        "font": {
         "color": "#371ea3"
        },
        "height": 413,
        "margin": {
         "b": 71,
         "r": 30,
         "t": 78
        },
        "shapes": [
         {
          "line": {
           "color": "#371ea3",
           "dash": "dot",
           "width": 1.5
          },
          "type": "line",
          "x0": 0.2735227015522871,
          "x1": 0.2735227015522871,
          "xref": "x",
          "y0": -1,
          "y1": 13,
          "yref": "y"
         }
        ],
        "template": {
         "data": {
          "scatter": [
           {
            "type": "scatter"
           }
          ]
         }
        },
        "title": {
         "text": "Anjali Verma",
         "x": 0.15
        },
        "xaxis": {
         "anchor": "y",
         "automargin": true,
         "domain": [
          0,
          1
         ],
         "fixedrange": true,
         "gridwidth": 2,
         "range": [
          -0.06999999999999999,
          0.71
         ],
         "tickcolor": "white",
         "ticklen": 3,
         "ticks": "outside",
         "type": "linear",
         "zeroline": false
        },
        "yaxis": {
         "anchor": "x",
         "automargin": true,
         "autorange": "reversed",
         "domain": [
          0,
          1
         ],
         "fixedrange": true,
         "gridwidth": 2,
         "tickcolor": "white",
         "ticklen": 10,
         "ticks": "outside",
         "type": "category"
        }
       }
      }
     },
     "metadata": {},
     "output_type": "display_data"
    },
    {
     "data": {
      "application/vnd.plotly.v1+json": {
       "config": {
        "displaylogo": false,
        "modeBarButtonsToRemove": [
         "sendDataToCloud",
         "lasso2d",
         "autoScale2d",
         "select2d",
         "zoom2d",
         "pan2d",
         "zoomIn2d",
         "zoomOut2d",
         "resetScale2d",
         "toggleSpikelines",
         "hoverCompareCartesian",
         "hoverClosestCartesian"
        ],
        "plotlyServerURL": "https://plot.ly",
        "staticPlot": false,
        "toImageButtonOptions": {
         "height": null,
         "width": null
        }
       },
       "data": [
        {
         "base": 0.2735227015522871,
         "connector": {
          "line": {
           "color": "#371ea3",
           "dash": "solid",
           "width": 1
          },
          "mode": "spanning"
         },
         "decreasing": {
          "marker": {
           "color": "#f05a71"
          }
         },
         "hoverinfo": "text+delta",
         "hoverlabel": {
          "bgcolor": "rgba(0,0,0,0.8)"
         },
         "hovertext": [
          "Average response: 0.274<br>Prediction: 0.628",
          "Income = 800000.0<br>increases average response by",
          "Booking_Lead_Time = 18.0<br>increases average response by",
          "CIBIL_Score = 750.0<br>increases average response by",
          "Age = 31.0<br>increases average response by",
          "Customer_Satisfaction_Score = 9.0<br>increases average response by",
          "Competitive_Factors = 0.0<br>increases average response by",
          "Preferred_Delivery_Time = 0.0<br>increases average response by",
          "OEM_Loyalty_Program = 1.0<br>increases average response by",
          "Finances_Status_Approved Loans = 1.0<br>increases average response by",
          "Cancellation_Probability = 0.0<br>increases average response by",
          "+ all other factors<br>decreases average response by",
          "Average response: 0.274<br>Prediction: 0.628"
         ],
         "increasing": {
          "marker": {
           "color": "#8bdcbe"
          }
         },
         "measure": [
          "relative",
          "relative",
          "relative",
          "relative",
          "relative",
          "relative",
          "relative",
          "relative",
          "relative",
          "relative",
          "relative",
          "relative",
          "total"
         ],
         "orientation": "h",
         "showlegend": false,
         "text": [
          "0.274",
          "+0.349",
          "+0.009",
          "+0.001",
          "+0.112",
          "+0.005",
          "+0.005",
          "+0.003",
          "+0.001",
          "+0.003",
          "+0.003",
          "-0.137",
          "0.628"
         ],
         "textposition": "outside",
         "totals": {
          "marker": {
           "color": "#371ea3"
          }
         },
         "type": "waterfall",
         "x": [
          0,
          0.349,
          0.009,
          0.001,
          0.112,
          0.005,
          0.005,
          0.003,
          0.001,
          0.003,
          0.003,
          -0.137,
          0.354
         ],
         "xaxis": "x",
         "y": [
          "intercept",
          "Income = 800000.0",
          "Booking_Lead_Time = 18.0",
          "CIBIL_Score = 750.0",
          "Age = 31.0",
          "Customer_Satisfaction_Score = 9.0",
          "Competitive_Factors = 0.0",
          "Preferred_Delivery_Time = 0.0",
          "OEM_Loyalty_Program = 1.0",
          "Finances_Status_Approved Loans = 1.0",
          "Cancellation_Probability = 0.0",
          "+ all other factors",
          "prediction"
         ],
         "yaxis": "y"
        }
       ],
       "layout": {
        "annotations": [
         {
          "font": {
           "size": 16
          },
          "showarrow": false,
          "text": "LogisticRegression",
          "x": 0.5,
          "xanchor": "center",
          "xref": "paper",
          "y": 1,
          "yanchor": "bottom",
          "yref": "paper"
         },
         {
          "font": {
           "size": 16
          },
          "showarrow": false,
          "text": "contribution",
          "x": 0.5,
          "xanchor": "center",
          "xref": "paper",
          "y": 0,
          "yanchor": "top",
          "yref": "paper",
          "yshift": -30
         }
        ],
        "font": {
         "color": "#371ea3"
        },
        "height": 413,
        "margin": {
         "b": 71,
         "r": 30,
         "t": 78
        },
        "shapes": [
         {
          "line": {
           "color": "#371ea3",
           "dash": "dot",
           "width": 1.5
          },
          "type": "line",
          "x0": 0.2735227015522871,
          "x1": 0.2735227015522871,
          "xref": "x",
          "y0": -1,
          "y1": 13,
          "yref": "y"
         }
        ],
        "template": {
         "data": {
          "scatter": [
           {
            "type": "scatter"
           }
          ]
         }
        },
        "title": {
         "text": "Sanjay Gupta",
         "x": 0.15
        },
        "xaxis": {
         "anchor": "y",
         "automargin": true,
         "domain": [
          0,
          1
         ],
         "fixedrange": true,
         "gridwidth": 2,
         "range": [
          0.20035000000000003,
          0.83865
         ],
         "tickcolor": "white",
         "ticklen": 3,
         "ticks": "outside",
         "type": "linear",
         "zeroline": false
        },
        "yaxis": {
         "anchor": "x",
         "automargin": true,
         "autorange": "reversed",
         "domain": [
          0,
          1
         ],
         "fixedrange": true,
         "gridwidth": 2,
         "tickcolor": "white",
         "ticklen": 10,
         "ticks": "outside",
         "type": "category"
        }
       }
      }
     },
     "metadata": {},
     "output_type": "display_data"
    },
    {
     "data": {
      "application/vnd.plotly.v1+json": {
       "config": {
        "displaylogo": false,
        "modeBarButtonsToRemove": [
         "sendDataToCloud",
         "lasso2d",
         "autoScale2d",
         "select2d",
         "zoom2d",
         "pan2d",
         "zoomIn2d",
         "zoomOut2d",
         "resetScale2d",
         "toggleSpikelines",
         "hoverCompareCartesian",
         "hoverClosestCartesian"
        ],
        "plotlyServerURL": "https://plot.ly",
        "staticPlot": false,
        "toImageButtonOptions": {
         "height": null,
         "width": null
        }
       },
       "data": [
        {
         "base": 0.2735227015522871,
         "connector": {
          "line": {
           "color": "#371ea3",
           "dash": "solid",
           "width": 1
          },
          "mode": "spanning"
         },
         "decreasing": {
          "marker": {
           "color": "#f05a71"
          }
         },
         "hoverinfo": "text+delta",
         "hoverlabel": {
          "bgcolor": "rgba(0,0,0,0.8)"
         },
         "hovertext": [
          "Average response: 0.274<br>Prediction: 0.0",
          "Down_Payment = 400000.0<br>increases average response by",
          "CIBIL_Score = 820.0<br>increases average response by",
          "isUndecidedFinances = 0.0<br>increases average response by",
          "ExtendedWarranty = 0.0<br>decreases average response by",
          "Finances_Status_Undecided = 0.0<br>decreases average response by",
          "Test_Drive_Status = 1.0<br>decreases average response by",
          "Finances_Status_Pending Loans = 0.0<br>decreases average response by",
          "None = 0.0<br>decreases average response by",
          "Vehicle_Type_Hatchback = 0.0<br>decreases average response by",
          "isMale = 0.0<br>decreases average response by",
          "+ all other factors<br>decreases average response by",
          "Average response: 0.274<br>Prediction: 0.0"
         ],
         "increasing": {
          "marker": {
           "color": "#8bdcbe"
          }
         },
         "measure": [
          "relative",
          "relative",
          "relative",
          "relative",
          "relative",
          "relative",
          "relative",
          "relative",
          "relative",
          "relative",
          "relative",
          "relative",
          "total"
         ],
         "orientation": "h",
         "showlegend": false,
         "text": [
          "0.274",
          "+0.363",
          "+0.062",
          "+0.001",
          "0.0",
          "0.0",
          "0.0",
          "0.0",
          "0.0",
          "0.0",
          "0.0",
          "-0.7",
          "0.0"
         ],
         "textposition": "outside",
         "totals": {
          "marker": {
           "color": "#371ea3"
          }
         },
         "type": "waterfall",
         "x": [
          0,
          0.363,
          0.062,
          0.001,
          0,
          0,
          0,
          0,
          0,
          0,
          0,
          -0.7,
          -0.274
         ],
         "xaxis": "x",
         "y": [
          "intercept",
          "Down_Payment = 400000.0",
          "CIBIL_Score = 820.0",
          "isUndecidedFinances = 0.0",
          "ExtendedWarranty = 0.0",
          "Finances_Status_Undecided = 0.0",
          "Test_Drive_Status = 1.0",
          "Finances_Status_Pending Loans = 0.0",
          "None = 0.0",
          "Vehicle_Type_Hatchback = 0.0",
          "isMale = 0.0",
          "+ all other factors",
          "prediction"
         ],
         "yaxis": "y"
        }
       ],
       "layout": {
        "annotations": [
         {
          "font": {
           "size": 16
          },
          "showarrow": false,
          "text": "LogisticRegression",
          "x": 0.5,
          "xanchor": "center",
          "xref": "paper",
          "y": 1,
          "yanchor": "bottom",
          "yref": "paper"
         },
         {
          "font": {
           "size": 16
          },
          "showarrow": false,
          "text": "contribution",
          "x": 0.5,
          "xanchor": "center",
          "xref": "paper",
          "y": 0,
          "yanchor": "top",
          "yref": "paper",
          "yshift": -30
         }
        ],
        "font": {
         "color": "#371ea3"
        },
        "height": 413,
        "margin": {
         "b": 71,
         "r": 30,
         "t": 78
        },
        "shapes": [
         {
          "line": {
           "color": "#371ea3",
           "dash": "dot",
           "width": 1.5
          },
          "type": "line",
          "x0": 0.2735227015522871,
          "x1": 0.2735227015522871,
          "xref": "x",
          "y0": -1,
          "y1": 13,
          "yref": "y"
         }
        ],
        "template": {
         "data": {
          "scatter": [
           {
            "type": "scatter"
           }
          ]
         }
        },
        "title": {
         "text": "Meera Kapoor",
         "x": 0.15
        },
        "xaxis": {
         "anchor": "y",
         "automargin": true,
         "domain": [
          0,
          1
         ],
         "fixedrange": true,
         "gridwidth": 2,
         "range": [
          -0.105,
          0.8049999999999999
         ],
         "tickcolor": "white",
         "ticklen": 3,
         "ticks": "outside",
         "type": "linear",
         "zeroline": false
        },
        "yaxis": {
         "anchor": "x",
         "automargin": true,
         "autorange": "reversed",
         "domain": [
          0,
          1
         ],
         "fixedrange": true,
         "gridwidth": 2,
         "tickcolor": "white",
         "ticklen": 10,
         "ticks": "outside",
         "type": "category"
        }
       }
      }
     },
     "metadata": {},
     "output_type": "display_data"
    },
    {
     "data": {
      "application/vnd.plotly.v1+json": {
       "config": {
        "displaylogo": false,
        "modeBarButtonsToRemove": [
         "sendDataToCloud",
         "lasso2d",
         "autoScale2d",
         "select2d",
         "zoom2d",
         "pan2d",
         "zoomIn2d",
         "zoomOut2d",
         "resetScale2d",
         "toggleSpikelines",
         "hoverCompareCartesian",
         "hoverClosestCartesian"
        ],
        "plotlyServerURL": "https://plot.ly",
        "staticPlot": false,
        "toImageButtonOptions": {
         "height": null,
         "width": null
        }
       },
       "data": [
        {
         "base": 0.2735227015522871,
         "connector": {
          "line": {
           "color": "#371ea3",
           "dash": "solid",
           "width": 1
          },
          "mode": "spanning"
         },
         "decreasing": {
          "marker": {
           "color": "#f05a71"
          }
         },
         "hoverinfo": "text+delta",
         "hoverlabel": {
          "bgcolor": "rgba(0,0,0,0.8)"
         },
         "hovertext": [
          "Average response: 0.274<br>Prediction: 0.353",
          "Age = 25.0<br>increases average response by",
          "Booking_Lead_Time = 12.0<br>increases average response by",
          "Down_Payment = 200000.0<br>decreases average response by",
          "OEM_Loyalty_Program = 1.0<br>increases average response by",
          "Income = 1300000.0<br>increases average response by",
          "Dealership_Engagement = 2.0<br>increases average response by",
          "Companion_Feedback = 1.0<br>increases average response by",
          "Needs_Match = 2.0<br>increases average response by",
          "Vehicle_Type_Sedan = 0.0<br>increases average response by",
          "Finances_Status_Undecided = 0.0<br>increases average response by",
          "+ all other factors<br>decreases average response by",
          "Average response: 0.274<br>Prediction: 0.353"
         ],
         "increasing": {
          "marker": {
           "color": "#8bdcbe"
          }
         },
         "measure": [
          "relative",
          "relative",
          "relative",
          "relative",
          "relative",
          "relative",
          "relative",
          "relative",
          "relative",
          "relative",
          "relative",
          "relative",
          "total"
         ],
         "orientation": "h",
         "showlegend": false,
         "text": [
          "0.274",
          "+0.375",
          "+0.047",
          "-0.095",
          "+0.003",
          "+0.067",
          "+0.007",
          "+0.003",
          "+0.005",
          "+0.001",
          "+0.001",
          "-0.334",
          "0.353"
         ],
         "textposition": "outside",
         "totals": {
          "marker": {
           "color": "#371ea3"
          }
         },
         "type": "waterfall",
         "x": [
          0,
          0.375,
          0.047,
          -0.095,
          0.003,
          0.067,
          0.007,
          0.003,
          0.005,
          0.001,
          0.001,
          -0.334,
          0.08
         ],
         "xaxis": "x",
         "y": [
          "intercept",
          "Age = 25.0",
          "Booking_Lead_Time = 12.0",
          "Down_Payment = 200000.0",
          "OEM_Loyalty_Program = 1.0",
          "Income = 1300000.0",
          "Dealership_Engagement = 2.0",
          "Companion_Feedback = 1.0",
          "Needs_Match = 2.0",
          "Vehicle_Type_Sedan = 0.0",
          "Finances_Status_Undecided = 0.0",
          "+ all other factors",
          "prediction"
         ],
         "yaxis": "y"
        }
       ],
       "layout": {
        "annotations": [
         {
          "font": {
           "size": 16
          },
          "showarrow": false,
          "text": "LogisticRegression",
          "x": 0.5,
          "xanchor": "center",
          "xref": "paper",
          "y": 1,
          "yanchor": "bottom",
          "yref": "paper"
         },
         {
          "font": {
           "size": 16
          },
          "showarrow": false,
          "text": "contribution",
          "x": 0.5,
          "xanchor": "center",
          "xref": "paper",
          "y": 0,
          "yanchor": "top",
          "yref": "paper",
          "yshift": -30
         }
        ],
        "font": {
         "color": "#371ea3"
        },
        "height": 413,
        "margin": {
         "b": 71,
         "r": 30,
         "t": 78
        },
        "shapes": [
         {
          "line": {
           "color": "#371ea3",
           "dash": "dot",
           "width": 1.5
          },
          "type": "line",
          "x0": 0.2735227015522871,
          "x1": 0.2735227015522871,
          "xref": "x",
          "y0": -1,
          "y1": 13,
          "yref": "y"
         }
        ],
        "template": {
         "data": {
          "scatter": [
           {
            "type": "scatter"
           }
          ]
         }
        },
        "title": {
         "text": "Arjun Nair",
         "x": 0.15
        },
        "xaxis": {
         "anchor": "y",
         "automargin": true,
         "domain": [
          0,
          1
         ],
         "fixedrange": true,
         "gridwidth": 2,
         "range": [
          0.21070000000000005,
          0.7593
         ],
         "tickcolor": "white",
         "ticklen": 3,
         "ticks": "outside",
         "type": "linear",
         "zeroline": false
        },
        "yaxis": {
         "anchor": "x",
         "automargin": true,
         "autorange": "reversed",
         "domain": [
          0,
          1
         ],
         "fixedrange": true,
         "gridwidth": 2,
         "tickcolor": "white",
         "ticklen": 10,
         "ticks": "outside",
         "type": "category"
        }
       }
      }
     },
     "metadata": {},
     "output_type": "display_data"
    },
    {
     "data": {
      "application/vnd.plotly.v1+json": {
       "config": {
        "displaylogo": false,
        "modeBarButtonsToRemove": [
         "sendDataToCloud",
         "lasso2d",
         "autoScale2d",
         "select2d",
         "zoom2d",
         "pan2d",
         "zoomIn2d",
         "zoomOut2d",
         "resetScale2d",
         "toggleSpikelines",
         "hoverCompareCartesian",
         "hoverClosestCartesian"
        ],
        "plotlyServerURL": "https://plot.ly",
        "staticPlot": false,
        "toImageButtonOptions": {
         "height": null,
         "width": null
        }
       },
       "data": [
        {
         "base": 0.2735227015522871,
         "connector": {
          "line": {
           "color": "#371ea3",
           "dash": "solid",
           "width": 1
          },
          "mode": "spanning"
         },
         "decreasing": {
          "marker": {
           "color": "#f05a71"
          }
         },
         "hoverinfo": "text+delta",
         "hoverlabel": {
          "bgcolor": "rgba(0,0,0,0.8)"
         },
         "hovertext": [
          "Average response: 0.274<br>Prediction: 0.0",
          "Income = 850000.0<br>increases average response by",
          "Preferred_Delivery_Time = 0.0<br>increases average response by",
          "External_Factors = 0.0<br>increases average response by",
          "Vehicle_Type_SUV = 1.0<br>increases average response by",
          "ExtendedWarranty = 0.0<br>decreases average response by",
          "isOnDeliveryDate = 1.0<br>decreases average response by",
          "Vehicle_Type_Sedan = 0.0<br>decreases average response by",
          "FloorMats = 0.0<br>decreases average response by",
          "Finances_Status_Cash Purchase = 0.0<br>decreases average response by",
          "isStockAvailable = 1.0<br>decreases average response by",
          "+ all other factors<br>decreases average response by",
          "Average response: 0.274<br>Prediction: 0.0"
         ],
         "increasing": {
          "marker": {
           "color": "#8bdcbe"
          }
         },
         "measure": [
          "relative",
          "relative",
          "relative",
          "relative",
          "relative",
          "relative",
          "relative",
          "relative",
          "relative",
          "relative",
          "relative",
          "relative",
          "total"
         ],
         "orientation": "h",
         "showlegend": false,
         "text": [
          "0.274",
          "+0.307",
          "+0.003",
          "+0.001",
          "+0.001",
          "0.0",
          "0.0",
          "0.0",
          "0.0",
          "0.0",
          "0.0",
          "-0.585",
          "0.0"
         ],
         "textposition": "outside",
         "totals": {
          "marker": {
           "color": "#371ea3"
          }
         },
         "type": "waterfall",
         "x": [
          0,
          0.307,
          0.003,
          0.001,
          0.001,
          0,
          0,
          0,
          0,
          0,
          0,
          -0.585,
          -0.274
         ],
         "xaxis": "x",
         "y": [
          "intercept",
          "Income = 850000.0",
          "Preferred_Delivery_Time = 0.0",
          "External_Factors = 0.0",
          "Vehicle_Type_SUV = 1.0",
          "ExtendedWarranty = 0.0",
          "isOnDeliveryDate = 1.0",
          "Vehicle_Type_Sedan = 0.0",
          "FloorMats = 0.0",
          "Finances_Status_Cash Purchase = 0.0",
          "isStockAvailable = 1.0",
          "+ all other factors",
          "prediction"
         ],
         "yaxis": "y"
        }
       ],
       "layout": {
        "annotations": [
         {
          "font": {
           "size": 16
          },
          "showarrow": false,
          "text": "LogisticRegression",
          "x": 0.5,
          "xanchor": "center",
          "xref": "paper",
          "y": 1,
          "yanchor": "bottom",
          "yref": "paper"
         },
         {
          "font": {
           "size": 16
          },
          "showarrow": false,
          "text": "contribution",
          "x": 0.5,
          "xanchor": "center",
          "xref": "paper",
          "y": 0,
          "yanchor": "top",
          "yref": "paper",
          "yshift": -30
         }
        ],
        "font": {
         "color": "#371ea3"
        },
        "height": 413,
        "margin": {
         "b": 71,
         "r": 30,
         "t": 78
        },
        "shapes": [
         {
          "line": {
           "color": "#371ea3",
           "dash": "dot",
           "width": 1.5
          },
          "type": "line",
          "x0": 0.2735227015522871,
          "x1": 0.2735227015522871,
          "xref": "x",
          "y0": -1,
          "y1": 13,
          "yref": "y"
         }
        ],
        "template": {
         "data": {
          "scatter": [
           {
            "type": "scatter"
           }
          ]
         }
        },
        "title": {
         "text": "Sneha Kulkarni",
         "x": 0.15
        },
        "xaxis": {
         "anchor": "y",
         "automargin": true,
         "domain": [
          0,
          1
         ],
         "fixedrange": true,
         "gridwidth": 2,
         "range": [
          -0.08775,
          0.67275
         ],
         "tickcolor": "white",
         "ticklen": 3,
         "ticks": "outside",
         "type": "linear",
         "zeroline": false
        },
        "yaxis": {
         "anchor": "x",
         "automargin": true,
         "autorange": "reversed",
         "domain": [
          0,
          1
         ],
         "fixedrange": true,
         "gridwidth": 2,
         "tickcolor": "white",
         "ticklen": 10,
         "ticks": "outside",
         "type": "category"
        }
       }
      }
     },
     "metadata": {},
     "output_type": "display_data"
    },
    {
     "data": {
      "application/vnd.plotly.v1+json": {
       "config": {
        "displaylogo": false,
        "modeBarButtonsToRemove": [
         "sendDataToCloud",
         "lasso2d",
         "autoScale2d",
         "select2d",
         "zoom2d",
         "pan2d",
         "zoomIn2d",
         "zoomOut2d",
         "resetScale2d",
         "toggleSpikelines",
         "hoverCompareCartesian",
         "hoverClosestCartesian"
        ],
        "plotlyServerURL": "https://plot.ly",
        "staticPlot": false,
        "toImageButtonOptions": {
         "height": null,
         "width": null
        }
       },
       "data": [
        {
         "base": 0.2735227015522871,
         "connector": {
          "line": {
           "color": "#371ea3",
           "dash": "solid",
           "width": 1
          },
          "mode": "spanning"
         },
         "decreasing": {
          "marker": {
           "color": "#f05a71"
          }
         },
         "hoverinfo": "text+delta",
         "hoverlabel": {
          "bgcolor": "rgba(0,0,0,0.8)"
         },
         "hovertext": [
          "Average response: 0.274<br>Prediction: 1.0",
          "Down_Payment = 700000.0<br>increases average response by",
          "Booking_Lead_Time = 10.0<br>increases average response by",
          "CIBIL_Score = 850.0<br>decreases average response by",
          "Customer_Satisfaction_Score = 9.0<br>decreases average response by",
          "Competitive_Factors = 0.0<br>decreases average response by",
          "OEM_Loyalty_Program = 1.0<br>decreases average response by",
          "Cancellation_Probability = 0.0<br>decreases average response by",
          "isUndecidedFinances = 0.0<br>decreases average response by",
          "Companion_Feedback = 1.0<br>decreases average response by",
          "Needs_Match = 2.0<br>decreases average response by",
          "+ all other factors<br>decreases average response by",
          "Average response: 0.274<br>Prediction: 1.0"
         ],
         "increasing": {
          "marker": {
           "color": "#8bdcbe"
          }
         },
         "measure": [
          "relative",
          "relative",
          "relative",
          "relative",
          "relative",
          "relative",
          "relative",
          "relative",
          "relative",
          "relative",
          "relative",
          "relative",
          "total"
         ],
         "orientation": "h",
         "showlegend": false,
         "text": [
          "0.274",
          "+0.676",
          "+0.05",
          "0.0",
          "0.0",
          "0.0",
          "0.0",
          "0.0",
          "0.0",
          "0.0",
          "0.0",
          "0.0",
          "1.0"
         ],
         "textposition": "outside",
         "totals": {
          "marker": {
           "color": "#371ea3"
          }
         },
         "type": "waterfall",
         "x": [
          0,
          0.676,
          0.05,
          0,
          0,
          0,
          0,
          0,
          0,
          0,
          0,
          0,
          0.726
         ],
         "xaxis": "x",
         "y": [
          "intercept",
          "Down_Payment = 700000.0",
          "Booking_Lead_Time = 10.0",
          "CIBIL_Score = 850.0",
          "Customer_Satisfaction_Score = 9.0",
          "Competitive_Factors = 0.0",
          "OEM_Loyalty_Program = 1.0",
          "Cancellation_Probability = 0.0",
          "isUndecidedFinances = 0.0",
          "Companion_Feedback = 1.0",
          "Needs_Match = 2.0",
          "+ all other factors",
          "prediction"
         ],
         "yaxis": "y"
        }
       ],
       "layout": {
        "annotations": [
         {
          "font": {
           "size": 16
          },
          "showarrow": false,
          "text": "LogisticRegression",
          "x": 0.5,
          "xanchor": "center",
          "xref": "paper",
          "y": 1,
          "yanchor": "bottom",
          "yref": "paper"
         },
         {
          "font": {
           "size": 16
          },
          "showarrow": false,
          "text": "contribution",
          "x": 0.5,
          "xanchor": "center",
          "xref": "paper",
          "y": 0,
          "yanchor": "top",
          "yref": "paper",
          "yshift": -30
         }
        ],
        "font": {
         "color": "#371ea3"
        },
        "height": 413,
        "margin": {
         "b": 71,
         "r": 30,
         "t": 78
        },
        "shapes": [
         {
          "line": {
           "color": "#371ea3",
           "dash": "dot",
           "width": 1.5
          },
          "type": "line",
          "x0": 0.2735227015522871,
          "x1": 0.2735227015522871,
          "xref": "x",
          "y0": -1,
          "y1": 13,
          "yref": "y"
         }
        ],
        "template": {
         "data": {
          "scatter": [
           {
            "type": "scatter"
           }
          ]
         }
        },
        "title": {
         "text": "Rahul Desai",
         "x": 0.15
        },
        "xaxis": {
         "anchor": "y",
         "automargin": true,
         "domain": [
          0,
          1
         ],
         "fixedrange": true,
         "gridwidth": 2,
         "range": [
          0.16510000000000002,
          1.1089
         ],
         "tickcolor": "white",
         "ticklen": 3,
         "ticks": "outside",
         "type": "linear",
         "zeroline": false
        },
        "yaxis": {
         "anchor": "x",
         "automargin": true,
         "autorange": "reversed",
         "domain": [
          0,
          1
         ],
         "fixedrange": true,
         "gridwidth": 2,
         "tickcolor": "white",
         "ticklen": 10,
         "ticks": "outside",
         "type": "category"
        }
       }
      }
     },
     "metadata": {},
     "output_type": "display_data"
    },
    {
     "data": {
      "application/vnd.plotly.v1+json": {
       "config": {
        "displaylogo": false,
        "modeBarButtonsToRemove": [
         "sendDataToCloud",
         "lasso2d",
         "autoScale2d",
         "select2d",
         "zoom2d",
         "pan2d",
         "zoomIn2d",
         "zoomOut2d",
         "resetScale2d",
         "toggleSpikelines",
         "hoverCompareCartesian",
         "hoverClosestCartesian"
        ],
        "plotlyServerURL": "https://plot.ly",
        "staticPlot": false,
        "toImageButtonOptions": {
         "height": null,
         "width": null
        }
       },
       "data": [
        {
         "base": 0.2735227015522871,
         "connector": {
          "line": {
           "color": "#371ea3",
           "dash": "solid",
           "width": 1
          },
          "mode": "spanning"
         },
         "decreasing": {
          "marker": {
           "color": "#f05a71"
          }
         },
         "hoverinfo": "text+delta",
         "hoverlabel": {
          "bgcolor": "rgba(0,0,0,0.8)"
         },
         "hovertext": [
          "Average response: 0.274<br>Prediction: 1.0",
          "Age = 27.0<br>increases average response by",
          "Booking_Lead_Time = 14.0<br>increases average response by",
          "CIBIL_Score = 800.0<br>increases average response by",
          "Down_Payment = 300000.0<br>increases average response by",
          "Customer_Satisfaction_Score = 9.0<br>increases average response by",
          "Competitive_Factors = 0.0<br>increases average response by",
          "Preferred_Delivery_Time = 0.0<br>increases average response by",
          "OEM_Loyalty_Program = 1.0<br>increases average response by",
          "Finances_Status_Approved Loans = 1.0<br>increases average response by",
          "Cancellation_Probability = 0.0<br>increases average response by",
          "+ all other factors<br>increases average response by",
          "Average response: 0.274<br>Prediction: 1.0"
         ],
         "increasing": {
          "marker": {
           "color": "#8bdcbe"
          }
         },
         "measure": [
          "relative",
          "relative",
          "relative",
          "relative",
          "relative",
          "relative",
          "relative",
          "relative",
          "relative",
          "relative",
          "relative",
          "relative",
          "total"
         ],
         "orientation": "h",
         "showlegend": false,
         "text": [
          "0.274",
          "+0.293",
          "+0.07",
          "+0.187",
          "+0.029",
          "+0.003",
          "+0.002",
          "+0.002",
          "+0.001",
          "+0.002",
          "+0.001",
          "+0.136",
          "1.0"
         ],
         "textposition": "outside",
         "totals": {
          "marker": {
           "color": "#371ea3"
          }
         },
         "type": "waterfall",
         "x": [
          0,
          0.293,
          0.07,
          0.187,
          0.029,
          0.003,
          0.002,
          0.002,
          0.001,
          0.002,
          0.001,
          0.136,
          0.726
         ],
         "xaxis": "x",
         "y": [
          "intercept",
          "Age = 27.0",
          "Booking_Lead_Time = 14.0",
          "CIBIL_Score = 800.0",
          "Down_Payment = 300000.0",
          "Customer_Satisfaction_Score = 9.0",
          "Competitive_Factors = 0.0",
          "Preferred_Delivery_Time = 0.0",
          "OEM_Loyalty_Program = 1.0",
          "Finances_Status_Approved Loans = 1.0",
          "Cancellation_Probability = 0.0",
          "+ all other factors",
          "prediction"
         ],
         "yaxis": "y"
        }
       ],
       "layout": {
        "annotations": [
         {
          "font": {
           "size": 16
          },
          "showarrow": false,
          "text": "LogisticRegression",
          "x": 0.5,
          "xanchor": "center",
          "xref": "paper",
          "y": 1,
          "yanchor": "bottom",
          "yref": "paper"
         },
         {
          "font": {
           "size": 16
          },
          "showarrow": false,
          "text": "contribution",
          "x": 0.5,
          "xanchor": "center",
          "xref": "paper",
          "y": 0,
          "yanchor": "top",
          "yref": "paper",
          "yshift": -30
         }
        ],
        "font": {
         "color": "#371ea3"
        },
        "height": 413,
        "margin": {
         "b": 71,
         "r": 30,
         "t": 78
        },
        "shapes": [
         {
          "line": {
           "color": "#371ea3",
           "dash": "dot",
           "width": 1.5
          },
          "type": "line",
          "x0": 0.2735227015522871,
          "x1": 0.2735227015522871,
          "xref": "x",
          "y0": -1,
          "y1": 13,
          "yref": "y"
         }
        ],
        "template": {
         "data": {
          "scatter": [
           {
            "type": "scatter"
           }
          ]
         }
        },
        "title": {
         "text": "Kavita Singh",
         "x": 0.15
        },
        "xaxis": {
         "anchor": "y",
         "automargin": true,
         "domain": [
          0,
          1
         ],
         "fixedrange": true,
         "gridwidth": 2,
         "range": [
          0.16510000000000002,
          1.1089
         ],
         "tickcolor": "white",
         "ticklen": 3,
         "ticks": "outside",
         "type": "linear",
         "zeroline": false
        },
        "yaxis": {
         "anchor": "x",
         "automargin": true,
         "autorange": "reversed",
         "domain": [
          0,
          1
         ],
         "fixedrange": true,
         "gridwidth": 2,
         "tickcolor": "white",
         "ticklen": 10,
         "ticks": "outside",
         "type": "category"
        }
       }
      }
     },
     "metadata": {},
     "output_type": "display_data"
    },
    {
     "data": {
      "application/vnd.plotly.v1+json": {
       "config": {
        "displaylogo": false,
        "modeBarButtonsToRemove": [
         "sendDataToCloud",
         "lasso2d",
         "autoScale2d",
         "select2d",
         "zoom2d",
         "pan2d",
         "zoomIn2d",
         "zoomOut2d",
         "resetScale2d",
         "toggleSpikelines",
         "hoverCompareCartesian",
         "hoverClosestCartesian"
        ],
        "plotlyServerURL": "https://plot.ly",
        "staticPlot": false,
        "toImageButtonOptions": {
         "height": null,
         "width": null
        }
       },
       "data": [
        {
         "base": 0.2735227015522871,
         "connector": {
          "line": {
           "color": "#371ea3",
           "dash": "solid",
           "width": 1
          },
          "mode": "spanning"
         },
         "decreasing": {
          "marker": {
           "color": "#f05a71"
          }
         },
         "hoverinfo": "text+delta",
         "hoverlabel": {
          "bgcolor": "rgba(0,0,0,0.8)"
         },
         "hovertext": [
          "Average response: 0.274<br>Prediction: 0.0",
          "Income = 950000.0<br>increases average response by",
          "Booking_Lead_Time = 22.0<br>decreases average response by",
          "Companion_Feedback = 1.0<br>increases average response by",
          "ExtendedWarranty = 0.0<br>increases average response by",
          "Lead_Source = 2.0<br>decreases average response by",
          "Test_Drive_Status = 1.0<br>decreases average response by",
          "Finances_Status_Cash Purchase = 0.0<br>decreases average response by",
          "isStockAvailable = 1.0<br>decreases average response by",
          "Finances_Status_Pending Loans = 0.0<br>decreases average response by",
          "None = 0.0<br>decreases average response by",
          "+ all other factors<br>decreases average response by",
          "Average response: 0.274<br>Prediction: 0.0"
         ],
         "increasing": {
          "marker": {
           "color": "#8bdcbe"
          }
         },
         "measure": [
          "relative",
          "relative",
          "relative",
          "relative",
          "relative",
          "relative",
          "relative",
          "relative",
          "relative",
          "relative",
          "relative",
          "relative",
          "total"
         ],
         "orientation": "h",
         "showlegend": false,
         "text": [
          "0.274",
          "+0.274",
          "-0.043",
          "+0.002",
          "+0.001",
          "0.0",
          "0.0",
          "0.0",
          "0.0",
          "0.0",
          "0.0",
          "-0.509",
          "0.0"
         ],
         "textposition": "outside",
         "totals": {
          "marker": {
           "color": "#371ea3"
          }
         },
         "type": "waterfall",
         "x": [
          0,
          0.274,
          -0.043,
          0.002,
          0.001,
          0,
          0,
          0,
          0,
          0,
          0,
          -0.509,
          -0.274
         ],
         "xaxis": "x",
         "y": [
          "intercept",
          "Income = 950000.0",
          "Booking_Lead_Time = 22.0",
          "Companion_Feedback = 1.0",
          "ExtendedWarranty = 0.0",
          "Lead_Source = 2.0",
          "Test_Drive_Status = 1.0",
          "Finances_Status_Cash Purchase = 0.0",
          "isStockAvailable = 1.0",
          "Finances_Status_Pending Loans = 0.0",
          "None = 0.0",
          "+ all other factors",
          "prediction"
         ],
         "yaxis": "y"
        }
       ],
       "layout": {
        "annotations": [
         {
          "font": {
           "size": 16
          },
          "showarrow": false,
          "text": "LogisticRegression",
          "x": 0.5,
          "xanchor": "center",
          "xref": "paper",
          "y": 1,
          "yanchor": "bottom",
          "yref": "paper"
         },
         {
          "font": {
           "size": 16
          },
          "showarrow": false,
          "text": "contribution",
          "x": 0.5,
          "xanchor": "center",
          "xref": "paper",
          "y": 0,
          "yanchor": "top",
          "yref": "paper",
          "yshift": -30
         }
        ],
        "font": {
         "color": "#371ea3"
        },
        "height": 413,
        "margin": {
         "b": 71,
         "r": 30,
         "t": 78
        },
        "shapes": [
         {
          "line": {
           "color": "#371ea3",
           "dash": "dot",
           "width": 1.5
          },
          "type": "line",
          "x0": 0.2735227015522871,
          "x1": 0.2735227015522871,
          "xref": "x",
          "y0": -1,
          "y1": 13,
          "yref": "y"
         }
        ],
        "template": {
         "data": {
          "scatter": [
           {
            "type": "scatter"
           }
          ]
         }
        },
        "title": {
         "text": "Deepak Sharma",
         "x": 0.15
        },
        "xaxis": {
         "anchor": "y",
         "automargin": true,
         "domain": [
          0,
          1
         ],
         "fixedrange": true,
         "gridwidth": 2,
         "range": [
          -0.08205,
          0.62905
         ],
         "tickcolor": "white",
         "ticklen": 3,
         "ticks": "outside",
         "type": "linear",
         "zeroline": false
        },
        "yaxis": {
         "anchor": "x",
         "automargin": true,
         "autorange": "reversed",
         "domain": [
          0,
          1
         ],
         "fixedrange": true,
         "gridwidth": 2,
         "tickcolor": "white",
         "ticklen": 10,
         "ticks": "outside",
         "type": "category"
        }
       }
      }
     },
     "metadata": {},
     "output_type": "display_data"
    }
   ],
   "source": [
    "import dalex as dx\n",
    "\n",
    "exp = dx.Explainer(model, X, y)\n",
    "df_index = pd.read_excel('BCI backup.xlsx', sheet_name='Dummy leads')\n",
    "\n",
    "for i in range(len(X)):\n",
    "    # Get feature importance\n",
    "    breakdown = exp.predict_parts(X.iloc[i], type='break_down', label=X.index[0])\n",
    "    breakdown.plot(title=df_index.iloc[i]['Customer name'])"
   ]
  }
 ],
 "metadata": {
  "kernelspec": {
   "display_name": "bcienv",
   "language": "python",
   "name": "python3"
  },
  "language_info": {
   "codemirror_mode": {
    "name": "ipython",
    "version": 3
   },
   "file_extension": ".py",
   "mimetype": "text/x-python",
   "name": "python",
   "nbconvert_exporter": "python",
   "pygments_lexer": "ipython3",
   "version": "3.12.8"
  }
 },
 "nbformat": 4,
 "nbformat_minor": 2
}
