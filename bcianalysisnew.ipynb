{
 "cells": [
  {
   "cell_type": "code",
   "execution_count": 1,
   "metadata": {},
   "outputs": [],
   "source": [
    "import pandas as pd"
   ]
  },
  {
   "cell_type": "code",
   "execution_count": 2,
   "metadata": {},
   "outputs": [
    {
     "name": "stdout",
     "output_type": "stream",
     "text": [
      "<class 'pandas.core.frame.DataFrame'>\n",
      "RangeIndex: 20 entries, 0 to 19\n",
      "Data columns (total 30 columns):\n",
      " #   Column                       Non-Null Count  Dtype \n",
      "---  ------                       --------------  ----- \n",
      " 0   Lead_ID                      20 non-null     object\n",
      " 1   Booking_ID                   20 non-null     object\n",
      " 2   Customer name                20 non-null     object\n",
      " 3   Lead_Source                  20 non-null     object\n",
      " 4   First_Time_Buyer             20 non-null     object\n",
      " 5   Age                          20 non-null     int64 \n",
      " 6   Gender                       20 non-null     object\n",
      " 7   Location                     20 non-null     object\n",
      " 8   Income                       20 non-null     int64 \n",
      " 9   OEM_Loyalty_Program          20 non-null     object\n",
      " 10  Finances_Status              20 non-null     object\n",
      " 11  CIBIL_Score                  20 non-null     int64 \n",
      " 12  Down_Payment                 20 non-null     int64 \n",
      " 13  Undecided_Finances           20 non-null     object\n",
      " 14  Special_Occasions            16 non-null     object\n",
      " 15  Booking_Lead_Time            20 non-null     object\n",
      " 16  Needs_Match                  20 non-null     object\n",
      " 17  Add_Ons                      15 non-null     object\n",
      " 18  Dealership_Engagement        20 non-null     object\n",
      " 19  Experience_With_Sales_Rep    20 non-null     object\n",
      " 20  Companion_Feedback           20 non-null     object\n",
      " 21  Stock_Status                 20 non-null     object\n",
      " 22  Delivery_Date_Status         20 non-null     object\n",
      " 23  Competitive_Factors          20 non-null     object\n",
      " 24  External_Factors             20 non-null     object\n",
      " 25  Customer_Satisfaction_Score  20 non-null     int64 \n",
      " 26  Cancellation_Probability     20 non-null     object\n",
      " 27  Vehicle_Type                 20 non-null     object\n",
      " 28  Test_Drive_Status            20 non-null     object\n",
      " 29  Preferred_Delivery_Time      20 non-null     object\n",
      "dtypes: int64(5), object(25)\n",
      "memory usage: 4.8+ KB\n"
     ]
    }
   ],
   "source": [
    "\n",
    "df = pd.read_excel('BCI backup.xlsx', sheet_name='Dummy leads')\n",
    "df.info()"
   ]
  },
  {
   "cell_type": "code",
   "execution_count": 3,
   "metadata": {},
   "outputs": [
    {
     "name": "stdout",
     "output_type": "stream",
     "text": [
      "<class 'pandas.core.frame.DataFrame'>\n",
      "RangeIndex: 20 entries, 0 to 19\n",
      "Data columns (total 30 columns):\n",
      " #   Column                       Non-Null Count  Dtype \n",
      "---  ------                       --------------  ----- \n",
      " 0   Lead_ID                      20 non-null     object\n",
      " 1   Booking_ID                   20 non-null     object\n",
      " 2   Customer name                20 non-null     object\n",
      " 3   Lead_Source                  20 non-null     object\n",
      " 4   First_Time_Buyer             20 non-null     object\n",
      " 5   Age                          20 non-null     int64 \n",
      " 6   Gender                       20 non-null     object\n",
      " 7   Location                     20 non-null     object\n",
      " 8   Income                       20 non-null     int64 \n",
      " 9   OEM_Loyalty_Program          20 non-null     object\n",
      " 10  Finances_Status              20 non-null     object\n",
      " 11  CIBIL_Score                  20 non-null     int64 \n",
      " 12  Down_Payment                 20 non-null     int64 \n",
      " 13  Undecided_Finances           20 non-null     object\n",
      " 14  Special_Occasions            20 non-null     object\n",
      " 15  Booking_Lead_Time            20 non-null     object\n",
      " 16  Needs_Match                  20 non-null     object\n",
      " 17  Add_Ons                      20 non-null     object\n",
      " 18  Dealership_Engagement        20 non-null     object\n",
      " 19  Experience_With_Sales_Rep    20 non-null     object\n",
      " 20  Companion_Feedback           20 non-null     object\n",
      " 21  Stock_Status                 20 non-null     object\n",
      " 22  Delivery_Date_Status         20 non-null     object\n",
      " 23  Competitive_Factors          20 non-null     object\n",
      " 24  External_Factors             20 non-null     object\n",
      " 25  Customer_Satisfaction_Score  20 non-null     int64 \n",
      " 26  Cancellation_Probability     20 non-null     object\n",
      " 27  Vehicle_Type                 20 non-null     object\n",
      " 28  Test_Drive_Status            20 non-null     object\n",
      " 29  Preferred_Delivery_Time      20 non-null     object\n",
      "dtypes: int64(5), object(25)\n",
      "memory usage: 4.8+ KB\n"
     ]
    }
   ],
   "source": [
    "df = df.fillna('None')\n",
    "df.info()"
   ]
  },
  {
   "cell_type": "code",
   "execution_count": 4,
   "metadata": {},
   "outputs": [
    {
     "name": "stdout",
     "output_type": "stream",
     "text": [
      "bciindex\n",
      "0    15\n",
      "1     5\n",
      "Name: count, dtype: int64\n",
      "0    1\n",
      "1    0\n",
      "2    0\n",
      "3    0\n",
      "4    0\n",
      "Name: bciindex, dtype: int64\n"
     ]
    }
   ],
   "source": [
    "from rules import bci_rules, evaluate_condition\n",
    "\n",
    "def addTargetValue(row):\n",
    "    counts = 0\n",
    "    for i in range(len(bci_rules)):\n",
    "        if evaluate_condition(row[bci_rules[i]['value']], bci_rules[i][\"condition\"]):\n",
    "            counts += 1\n",
    "    if counts >= 10:\n",
    "        return 1\n",
    "    return 0\n",
    "\n",
    "df['bciindex'] = df.apply(lambda row: addTargetValue(row), axis=1)\n",
    "print(df['bciindex'].value_counts())\n",
    "print(df['bciindex'].head())"
   ]
  },
  {
   "cell_type": "code",
   "execution_count": 5,
   "metadata": {},
   "outputs": [
    {
     "name": "stdout",
     "output_type": "stream",
     "text": [
      "0    2\n",
      "1    1\n",
      "2    1\n",
      "3    1\n",
      "4    1\n",
      "Name: Add_Ons, dtype: int64\n",
      "Index(['Age', 'Income', 'CIBIL_Score', 'Down_Payment', 'Booking_Lead_Time',\n",
      "       'Add_Ons', 'Customer_Satisfaction_Score', 'bciindex'],\n",
      "      dtype='object')\n"
     ]
    }
   ],
   "source": [
    "def checkRows(row):\n",
    "    row['Booking_Lead_Time'] = int(row['Booking_Lead_Time'].replace(' days', ''))\n",
    "    row['Add_Ons'] = len(row['Add_Ons'].replace(' ', '').split(';'))\n",
    "    return row\n",
    "\n",
    "df = df.apply(checkRows, axis=1)\n",
    "print(df['Add_Ons'].head())\n",
    "df_filtered = df.select_dtypes(include=['int64', 'float64', 'datetime64[ns]'])\n",
    "print(df_filtered.columns)"
   ]
  },
  {
   "cell_type": "code",
   "execution_count": 6,
   "metadata": {},
   "outputs": [
    {
     "data": {
      "text/plain": [
       "0      KID\n",
       "1    YOUNG\n",
       "2      OLD\n",
       "3      KID\n",
       "4      OLD\n",
       "Name: Age, dtype: category\n",
       "Categories (3, object): ['KID' < 'YOUNG' < 'OLD']"
      ]
     },
     "execution_count": 6,
     "metadata": {},
     "output_type": "execute_result"
    }
   ],
   "source": [
    "age_labels = ['KID', 'YOUNG', 'OLD']\n",
    "df['Age'] = pd.cut(df['Age'], bins=3, labels=age_labels)\n",
    "df['Age'].head()"
   ]
  },
  {
   "cell_type": "code",
   "execution_count": 7,
   "metadata": {},
   "outputs": [
    {
     "data": {
      "text/html": [
       "<div>\n",
       "<style scoped>\n",
       "    .dataframe tbody tr th:only-of-type {\n",
       "        vertical-align: middle;\n",
       "    }\n",
       "\n",
       "    .dataframe tbody tr th {\n",
       "        vertical-align: top;\n",
       "    }\n",
       "\n",
       "    .dataframe thead th {\n",
       "        text-align: right;\n",
       "    }\n",
       "</style>\n",
       "<table border=\"1\" class=\"dataframe\">\n",
       "  <thead>\n",
       "    <tr style=\"text-align: right;\">\n",
       "      <th></th>\n",
       "      <th>Income</th>\n",
       "      <th>CIBIL_Score</th>\n",
       "      <th>Down_Payment</th>\n",
       "      <th>Booking_Lead_Time</th>\n",
       "      <th>Add_Ons</th>\n",
       "      <th>Customer_Satisfaction_Score</th>\n",
       "    </tr>\n",
       "  </thead>\n",
       "  <tbody>\n",
       "    <tr>\n",
       "      <th>0</th>\n",
       "      <td>MEDIUM</td>\n",
       "      <td>MEDIUM</td>\n",
       "      <td>LOW</td>\n",
       "      <td>LOW</td>\n",
       "      <td>HIGH</td>\n",
       "      <td>HIGH</td>\n",
       "    </tr>\n",
       "    <tr>\n",
       "      <th>1</th>\n",
       "      <td>HIGH</td>\n",
       "      <td>HIGH</td>\n",
       "      <td>HIGH</td>\n",
       "      <td>MEDIUM</td>\n",
       "      <td>LOW</td>\n",
       "      <td>MEDIUM</td>\n",
       "    </tr>\n",
       "    <tr>\n",
       "      <th>2</th>\n",
       "      <td>MEDIUM</td>\n",
       "      <td>LOW</td>\n",
       "      <td>LOW</td>\n",
       "      <td>LOW</td>\n",
       "      <td>LOW</td>\n",
       "      <td>LOW</td>\n",
       "    </tr>\n",
       "    <tr>\n",
       "      <th>3</th>\n",
       "      <td>LOW</td>\n",
       "      <td>LOW</td>\n",
       "      <td>LOW</td>\n",
       "      <td>LOW</td>\n",
       "      <td>LOW</td>\n",
       "      <td>HIGH</td>\n",
       "    </tr>\n",
       "    <tr>\n",
       "      <th>4</th>\n",
       "      <td>HIGH</td>\n",
       "      <td>HIGH</td>\n",
       "      <td>HIGH</td>\n",
       "      <td>HIGH</td>\n",
       "      <td>LOW</td>\n",
       "      <td>HIGH</td>\n",
       "    </tr>\n",
       "  </tbody>\n",
       "</table>\n",
       "</div>"
      ],
      "text/plain": [
       "   Income CIBIL_Score Down_Payment Booking_Lead_Time Add_Ons  \\\n",
       "0  MEDIUM      MEDIUM          LOW               LOW    HIGH   \n",
       "1    HIGH        HIGH         HIGH            MEDIUM     LOW   \n",
       "2  MEDIUM         LOW          LOW               LOW     LOW   \n",
       "3     LOW         LOW          LOW               LOW     LOW   \n",
       "4    HIGH        HIGH         HIGH              HIGH     LOW   \n",
       "\n",
       "  Customer_Satisfaction_Score  \n",
       "0                        HIGH  \n",
       "1                      MEDIUM  \n",
       "2                         LOW  \n",
       "3                        HIGH  \n",
       "4                        HIGH  "
      ]
     },
     "execution_count": 7,
     "metadata": {},
     "output_type": "execute_result"
    }
   ],
   "source": [
    "other_labels = ['LOW', 'MEDIUM', 'HIGH']\n",
    "df_filtered = df_filtered.drop(['Age', 'bciindex'], axis=1)\n",
    "for i in df_filtered.columns:\n",
    "    df[i] = pd.cut(df[i], bins=3, labels=other_labels)\n",
    "# df[df_filtered.columns] = pd.cut(df[df_filtered.columns], bins=3, labels=other_labels)\n",
    "df[df_filtered.columns].head()"
   ]
  },
  {
   "cell_type": "code",
   "execution_count": 8,
   "metadata": {},
   "outputs": [
    {
     "data": {
      "text/html": [
       "<div>\n",
       "<style scoped>\n",
       "    .dataframe tbody tr th:only-of-type {\n",
       "        vertical-align: middle;\n",
       "    }\n",
       "\n",
       "    .dataframe tbody tr th {\n",
       "        vertical-align: top;\n",
       "    }\n",
       "\n",
       "    .dataframe thead th {\n",
       "        text-align: right;\n",
       "    }\n",
       "</style>\n",
       "<table border=\"1\" class=\"dataframe\">\n",
       "  <thead>\n",
       "    <tr style=\"text-align: right;\">\n",
       "      <th></th>\n",
       "      <th>bciindex</th>\n",
       "    </tr>\n",
       "  </thead>\n",
       "  <tbody>\n",
       "    <tr>\n",
       "      <th>count</th>\n",
       "      <td>20.000000</td>\n",
       "    </tr>\n",
       "    <tr>\n",
       "      <th>mean</th>\n",
       "      <td>0.250000</td>\n",
       "    </tr>\n",
       "    <tr>\n",
       "      <th>std</th>\n",
       "      <td>0.444262</td>\n",
       "    </tr>\n",
       "    <tr>\n",
       "      <th>min</th>\n",
       "      <td>0.000000</td>\n",
       "    </tr>\n",
       "    <tr>\n",
       "      <th>25%</th>\n",
       "      <td>0.000000</td>\n",
       "    </tr>\n",
       "    <tr>\n",
       "      <th>50%</th>\n",
       "      <td>0.000000</td>\n",
       "    </tr>\n",
       "    <tr>\n",
       "      <th>75%</th>\n",
       "      <td>0.250000</td>\n",
       "    </tr>\n",
       "    <tr>\n",
       "      <th>max</th>\n",
       "      <td>1.000000</td>\n",
       "    </tr>\n",
       "  </tbody>\n",
       "</table>\n",
       "</div>"
      ],
      "text/plain": [
       "        bciindex\n",
       "count  20.000000\n",
       "mean    0.250000\n",
       "std     0.444262\n",
       "min     0.000000\n",
       "25%     0.000000\n",
       "50%     0.000000\n",
       "75%     0.250000\n",
       "max     1.000000"
      ]
     },
     "execution_count": 8,
     "metadata": {},
     "output_type": "execute_result"
    }
   ],
   "source": [
    "df.describe()"
   ]
  },
  {
   "cell_type": "code",
   "execution_count": 9,
   "metadata": {},
   "outputs": [],
   "source": [
    "# from scipy import stats\n",
    "\n",
    "# first_time_buyers = df[df['First_Time_Buyer'] == 'Yes']['Customer_Satisfaction_Score']\n",
    "# repeat_customers = df[df['First_Time_Buyer'] == 'No']['Customer_Satisfaction_Score']\n",
    "\n",
    "# t_statistic, p_value = stats.ttest_ind(first_time_buyers, repeat_customers)\n",
    "\n",
    "# print(f\"T-statistic: {t_statistic}, P-value: {p_value}\")"
   ]
  },
  {
   "cell_type": "code",
   "execution_count": 10,
   "metadata": {},
   "outputs": [],
   "source": [
    "# Drop Unwanted \n",
    "unwanted_columns = ['Lead_ID', 'Booking_ID', 'Customer name', 'Location']\n",
    "df = df.drop(unwanted_columns, axis=1)\n"
   ]
  },
  {
   "cell_type": "code",
   "execution_count": 11,
   "metadata": {},
   "outputs": [
    {
     "name": "stdout",
     "output_type": "stream",
     "text": [
      "bciindex ~ C(Lead_Source) + C(First_Time_Buyer) + C(Age) + C(Gender) + C(Income) + C(OEM_Loyalty_Program) + C(Finances_Status) + C(CIBIL_Score) + C(Down_Payment) + C(Undecided_Finances) + C(Special_Occasions) + C(Booking_Lead_Time) + C(Needs_Match) + C(Add_Ons) + C(Dealership_Engagement) + C(Experience_With_Sales_Rep) + C(Companion_Feedback) + C(Stock_Status) + C(Delivery_Date_Status) + C(Competitive_Factors) + C(External_Factors) + C(Customer_Satisfaction_Score) + C(Cancellation_Probability) + C(Vehicle_Type) + C(Test_Drive_Status) + C(Preferred_Delivery_Time)\n"
     ]
    }
   ],
   "source": [
    "df_filtered = df.select_dtypes(exclude=['int64', 'float64', 'datetime64[ns]'])\n",
    "filtered_columns = [f'C({item})' for item in df_filtered.columns]\n",
    "logit_formula = 'bciindex ~ ' + ' + '.join(filtered_columns)\n",
    "print(logit_formula)"
   ]
  },
  {
   "cell_type": "code",
   "execution_count": 12,
   "metadata": {},
   "outputs": [
    {
     "name": "stdout",
     "output_type": "stream",
     "text": [
      "Chi-Square Statistic: 3.4814814814814814\n",
      "P-value: 0.17539043364728615\n",
      "Degrees of Freedom: 2\n",
      "Expected Frequencies: [[6.75 6.   2.25]\n",
      " [2.25 2.   0.75]]\n",
      "You can remove that features Index(['Age'], dtype='object')\n"
     ]
    }
   ],
   "source": [
    "import numpy as np\n",
    "from scipy.stats import chi2_contingency\n",
    "\n",
    "def cramers_v(confusion_matrix):\n",
    "    chi2_stat, p_value, dof, expected = chi2_contingency(confusion_matrix)\n",
    "    n = confusion_matrix.sum()\n",
    "    phi2 = chi2_stat / n\n",
    "    r, k = confusion_matrix.shape\n",
    "    return np.sqrt(phi2 / min(k-1, r-1))\n",
    "\n",
    "new_df = df.copy()\n",
    "new_df[df_filtered.columns] = new_df[df_filtered.columns].apply(lambda x: x.astype('category'))\n",
    "# sample_df = new_df.sample(frac=0.03, random_state=42)\n",
    "column_names = df_filtered.columns[2:3]\n",
    "data = pd.crosstab(new_df['bciindex'], [new_df[col] for col in column_names])\n",
    "v = cramers_v(data.values)\n",
    "# print(data.describe())\n",
    "chi2, p, dof, expected = chi2_contingency(data)\n",
    "\n",
    "print(\"Chi-Square Statistic:\", chi2)\n",
    "print(\"P-value:\", p)\n",
    "print(\"Degrees of Freedom:\", dof)\n",
    "print(\"Expected Frequencies:\", expected)\n",
    "\n",
    "if p < 0.05:\n",
    "    print(\"You don't have to remove that features\")\n",
    "else:\n",
    "    print(\"You can remove that features\" , column_names)\n",
    "\n",
    "if v > 0.5:\n",
    "    print('You need to remove features as per Cramer_v as well')"
   ]
  },
  {
   "cell_type": "code",
   "execution_count": 13,
   "metadata": {},
   "outputs": [],
   "source": [
    "# from imblearn.over_sampling import SMOTENC\n",
    "# categorical_columns = df.drop(['bciindex'], axis=1)\n",
    "# data_encoded = pd.get_dummies(df, columns=categorical_columns.columns, drop_first=True)\n",
    "# # corr_matrix = data_encoded.corr()\n",
    "\n",
    "# X = data_encoded.drop('bciindex', axis=1)\n",
    "# y = data_encoded['bciindex']\n",
    "\n",
    "# # List of indices of categorical columns in your dataset\n",
    "# categorical_features_indices = [i for i, col in enumerate(X.columns) if col in categorical_columns]\n",
    "\n",
    "# # Apply SMOTENC\n",
    "# smote = SMOTENC(categorical_features=categorical_features_indices, random_state=42)\n",
    "# X_resampled, y_resampled = smote.fit_resample(X, y)"
   ]
  },
  {
   "cell_type": "code",
   "execution_count": 14,
   "metadata": {},
   "outputs": [
    {
     "name": "stdout",
     "output_type": "stream",
     "text": [
      "Optimization terminated successfully.\n",
      "         Current function value: 0.000005\n",
      "         Iterations: 17\n",
      "         Function evaluations: 69\n",
      "         Gradient evaluations: 69\n",
      "                           Logit Regression Results                           \n",
      "==============================================================================\n",
      "Dep. Variable:               bciindex   No. Observations:                   20\n",
      "Model:                          Logit   Df Residuals:                        0\n",
      "Method:                           MLE   Df Model:                           19\n",
      "Date:                Tue, 21 Jan 2025   Pseudo R-squ.:                   1.000\n",
      "Time:                        10:32:25   Log-Likelihood:            -0.00010106\n",
      "converged:                       True   LL-Null:                       -11.247\n",
      "Covariance Type:            nonrobust   LLR p-value:                    0.2604\n",
      "============================================================================================================\n",
      "                                               coef    std err          z      P>|z|      [0.025      0.975]\n",
      "------------------------------------------------------------------------------------------------------------\n",
      "Intercept                                   -3.9466        nan        nan        nan         nan         nan\n",
      "C(Lead_Source)[T.Referral]                  -5.2103        nan        nan        nan         nan         nan\n",
      "C(Lead_Source)[T.Walk-in]                   -5.4653        nan        nan        nan         nan         nan\n",
      "C(First_Time_Buyer)[T.Yes]                   2.3891        nan        nan        nan         nan         nan\n",
      "C(Age)[T.YOUNG]                              3.3336        nan        nan        nan         nan         nan\n",
      "C(Age)[T.OLD]                               -3.1701        nan        nan        nan         nan         nan\n",
      "C(Gender)[T.Male]                            0.7227        nan        nan        nan         nan         nan\n",
      "C(Income)[T.MEDIUM]                         -1.1636        nan        nan        nan         nan         nan\n",
      "C(Income)[T.HIGH]                           -0.6364        nan        nan        nan         nan         nan\n",
      "C(OEM_Loyalty_Program)[T.Yes]                5.8895        nan        nan        nan         nan         nan\n",
      "C(Finances_Status)[T.Cash Purchase]         -0.6418        nan        nan        nan         nan         nan\n",
      "C(Finances_Status)[T.Pending Loans]         -4.1803        nan        nan        nan         nan         nan\n",
      "C(Finances_Status)[T.Undecided]             -3.5866        nan        nan        nan         nan         nan\n",
      "C(CIBIL_Score)[T.MEDIUM]                     2.3725        nan        nan        nan         nan         nan\n",
      "C(CIBIL_Score)[T.HIGH]                       1.1851        nan        nan        nan         nan         nan\n",
      "C(Down_Payment)[T.MEDIUM]                   -2.2614        nan        nan        nan         nan         nan\n",
      "C(Down_Payment)[T.HIGH]                      2.4224        nan        nan        nan         nan         nan\n",
      "C(Undecided_Finances)[T.Yes]                -4.7034        nan        nan        nan         nan         nan\n",
      "C(Special_Occasions)[T.None]                -3.2299        nan        nan        nan         nan         nan\n",
      "C(Special_Occasions)[T.Wedding]              0.3558        nan        nan        nan         nan         nan\n",
      "C(Booking_Lead_Time)[T.MEDIUM]              -2.1576        nan        nan        nan         nan         nan\n",
      "C(Booking_Lead_Time)[T.HIGH]                -5.5390        nan        nan        nan         nan         nan\n",
      "C(Needs_Match)[T.Low]                       -0.4596        nan        nan        nan         nan         nan\n",
      "C(Needs_Match)[T.Medium]                    -2.1566        nan        nan        nan         nan         nan\n",
      "C(Add_Ons)[T.MEDIUM]                              0        nan        nan        nan         nan         nan\n",
      "C(Add_Ons)[T.HIGH]                          -2.4995        nan        nan        nan         nan         nan\n",
      "C(Dealership_Engagement)[T.Low]             -0.7312        nan        nan        nan         nan         nan\n",
      "C(Dealership_Engagement)[T.Medium]          -2.1540        nan        nan        nan         nan         nan\n",
      "C(Experience_With_Sales_Rep)[T.Neutral]     -1.7664        nan        nan        nan         nan         nan\n",
      "C(Experience_With_Sales_Rep)[T.Positive]    -1.5729        nan        nan        nan         nan         nan\n",
      "C(Companion_Feedback)[T.Neutral]            -8.4387        nan        nan        nan         nan         nan\n",
      "C(Companion_Feedback)[T.Positive]            4.7771        nan        nan        nan         nan         nan\n",
      "C(Stock_Status)[T.Unavailable]              -2.1540        nan        nan        nan         nan         nan\n",
      "C(Delivery_Date_Status)[T.On-Time]           1.5711        nan        nan        nan         nan         nan\n",
      "C(Competitive_Factors)[T.Low]                1.9842        nan        nan        nan         nan         nan\n",
      "C(Competitive_Factors)[T.Medium]            -1.8655        nan        nan        nan         nan         nan\n",
      "C(External_Factors)[T.Low]                   0.8736        nan        nan        nan         nan         nan\n",
      "C(External_Factors)[T.Medium]               -0.6399        nan        nan        nan         nan         nan\n",
      "C(Customer_Satisfaction_Score)[T.MEDIUM]    -0.6185        nan        nan        nan         nan         nan\n",
      "C(Customer_Satisfaction_Score)[T.HIGH]       0.7372        nan        nan        nan         nan         nan\n",
      "C(Cancellation_Probability)[T.Low]           2.1785        nan        nan        nan         nan         nan\n",
      "C(Cancellation_Probability)[T.Medium]       -2.3312        nan        nan        nan         nan         nan\n",
      "C(Vehicle_Type)[T.SUV]                      -1.0940        nan        nan        nan         nan         nan\n",
      "C(Vehicle_Type)[T.Sedan]                    -2.1540        nan        nan        nan         nan         nan\n",
      "C(Test_Drive_Status)[T.Not Taken]           -5.8560        nan        nan        nan         nan         nan\n",
      "C(Preferred_Delivery_Time)[T.Evening]       -5.2103        nan        nan        nan         nan         nan\n",
      "C(Preferred_Delivery_Time)[T.Morning]        2.2728        nan        nan        nan         nan         nan\n",
      "============================================================================================================\n",
      "\n",
      "Complete Separation: The results show that there iscomplete separation or perfect prediction.\n",
      "In this case the Maximum Likelihood Estimator does not exist and the parameters\n",
      "are not identified.\n"
     ]
    },
    {
     "name": "stderr",
     "output_type": "stream",
     "text": [
      "c:\\Users\\mukulkathuria\\Documents\\mlprac\\driveai\\bciindexanalysis\\bcienv\\Lib\\site-packages\\statsmodels\\base\\model.py:595: HessianInversionWarning: Inverting hessian failed, no bse or cov_params available\n",
      "  warnings.warn('Inverting hessian failed, no bse or cov_params '\n"
     ]
    }
   ],
   "source": [
    "import statsmodels.api as sm\n",
    "sm.add_constant(df[df_filtered.columns])\n",
    "logit_model = sm.Logit.from_formula(logit_formula , df)\n",
    "# weights = y.apply(lambda x: 1 if x == 1 else 0.5)\n",
    "fitted_model = logit_model.fit(method='cg', skip_hessian=False)\n",
    "print(fitted_model.summary())"
   ]
  },
  {
   "cell_type": "code",
   "execution_count": 15,
   "metadata": {},
   "outputs": [
    {
     "data": {
      "image/png": "[encoded data removed]",
      "text/plain": [
       "<Figure size 640x480 with 1 Axes>"
      ]
     },
     "metadata": {},
     "output_type": "display_data"
    }
   ],
   "source": [
    "import matplotlib.pyplot as plt\n",
    "coefficients = fitted_model.params\n",
    "\n",
    "# Plot the coefficients (excluding intercept)\n",
    "coefficients.drop('Intercept').plot(kind='bar', color='skyblue')\n",
    "\n",
    "# Adding titles and labels\n",
    "plt.title('Logistic Regression Coefficients')\n",
    "plt.xlabel('Predictors')\n",
    "plt.ylabel('Coefficient Value')\n",
    "plt.xticks(fontsize=6)\n",
    "\n",
    "# Display the plot\n",
    "\n",
    "plt.tight_layout()  # Adjusts the plot layout to fit everything\n",
    "# Display the plot\n",
    "plt.show()"
   ]
  },
  {
   "cell_type": "code",
   "execution_count": 32,
   "metadata": {},
   "outputs": [
    {
     "name": "stdout",
     "output_type": "stream",
     "text": [
      "Preparation of a new explainer is initiated\n",
      "\n",
      "  -> data              : 20 rows 26 cols\n",
      "  -> target variable   : Parameter 'y' was a pandas.Series. Converted to a numpy.ndarray.\n",
      "  -> target variable   : 20 values\n",
      "  -> model_class       : statsmodels.discrete.discrete_model.BinaryResultsWrapper (default)\n",
      "  -> label             : Not specified, model's class short name will be used. (default)\n",
      "  -> predict function  : <function yhat_default at 0x0000014486D90E00> will be used (default)\n",
      "  -> predict function  : Accepts only pandas.DataFrame, numpy.ndarray causes problems.\n",
      "  -> predicted values  : min = 1.3e-18, mean = 0.25, max = 1.0\n",
      "  -> model type        : regression will be used (default)\n",
      "  -> residual function : difference between y and yhat (default)\n",
      "  -> residuals         : min = -6.44e-06, mean = 3.4e-06, max = 4.63e-05\n",
      "  -> model_info        : package statsmodels\n",
      "\n",
      "A new explainer has been created!\n"
     ]
    },
    {
     "name": "stderr",
     "output_type": "stream",
     "text": [
      "c:\\Users\\mukulkathuria\\Documents\\mlprac\\driveai\\bciindexanalysis\\bcienv\\Lib\\site-packages\\dalex\\_explainer\\object.py:138: UserWarning:\n",
      "\n",
      "\n",
      "  -> predicted values  : 'predict_function' must return numpy.ndarray (1d)\n",
      "\n"
     ]
    },
    {
     "data": {
      "application/vnd.plotly.v1+json": {
       "config": {
        "displaylogo": false,
        "modeBarButtonsToRemove": [
         "sendDataToCloud",
         "lasso2d",
         "autoScale2d",
         "select2d",
         "zoom2d",
         "pan2d",
         "zoomIn2d",
         "zoomOut2d",
         "resetScale2d",
         "toggleSpikelines",
         "hoverCompareCartesian",
         "hoverClosestCartesian"
        ],
        "plotlyServerURL": "https://plot.ly",
        "staticPlot": false,
        "toImageButtonOptions": {
         "height": null,
         "width": null
        }
       },
       "data": [
        {
         "base": 0.24999660329148962,
         "connector": {
          "line": {
           "color": "#371ea3",
           "dash": "solid",
           "width": 1
          },
          "mode": "spanning"
         },
         "decreasing": {
          "marker": {
           "color": "#f05a71"
          }
         },
         "hoverinfo": "text+delta",
         "hoverlabel": {
          "bgcolor": "rgba(0,0,0,0.8)"
         },
         "hovertext": [
          "Average response: 0.25<br>Prediction: 1.0",
          "Companion_Feedback = Positive<br>increases average response by",
          "Lead_Source = Online<br>increases average response by",
          "OEM_Loyalty_Program = Yes<br>increases average response by",
          "Test_Drive_Status = Completed<br>increases average response by",
          "Booking_Lead_Time = LOW<br>increases average response by",
          "Preferred_Delivery_Time = Morning<br>increases average response by",
          "Undecided_Finances = No<br>increases average response by",
          "Competitive_Factors = Low<br>increases average response by",
          "Finances_Status = Approved Loans<br>increases average response by",
          "Special_Occasions = Festival<br>decreases average response by",
          "+ all other factors<br>increases average response by",
          "Average response: 0.25<br>Prediction: 1.0"
         ],
         "increasing": {
          "marker": {
           "color": "#8bdcbe"
          }
         },
         "measure": [
          "relative",
          "relative",
          "relative",
          "relative",
          "relative",
          "relative",
          "relative",
          "relative",
          "relative",
          "relative",
          "relative",
          "relative",
          "total"
         ],
         "orientation": "h",
         "showlegend": false,
         "text": [
          "0.25",
          "+0.058",
          "+0.011",
          "+0.009",
          "+0.065",
          "+0.063",
          "+0.072",
          "+0.142",
          "+0.16",
          "+0.073",
          "-0.0",
          "+0.099",
          "1.0"
         ],
         "textposition": "outside",
         "totals": {
          "marker": {
           "color": "#371ea3"
          }
         },
         "type": "waterfall",
         "x": [
          0,
          0.058,
          0.011,
          0.009,
          0.065,
          0.063,
          0.072,
          0.142,
          0.16,
          0.073,
          0,
          0.099,
          0.75
         ],
         "xaxis": "x",
         "y": [
          "intercept",
          "Companion_Feedback = Positive",
          "Lead_Source = Online",
          "OEM_Loyalty_Program = Yes",
          "Test_Drive_Status = Completed",
          "Booking_Lead_Time = LOW",
          "Preferred_Delivery_Time = Morning",
          "Undecided_Finances = No",
          "Competitive_Factors = Low",
          "Finances_Status = Approved Loans",
          "Special_Occasions = Festival",
          "+ all other factors",
          "prediction"
         ],
         "yaxis": "y"
        }
       ],
       "layout": {
        "annotations": [
         {
          "font": {
           "size": 16
          },
          "showarrow": false,
          "text": "BinaryResultsWrapper",
          "x": 0.5,
          "xanchor": "center",
          "xref": "paper",
          "y": 1,
          "yanchor": "bottom",
          "yref": "paper"
         },
         {
          "font": {
           "size": 16
          },
          "showarrow": false,
          "text": "contribution",
          "x": 0.5,
          "xanchor": "center",
          "xref": "paper",
          "y": 0,
          "yanchor": "top",
          "yref": "paper",
          "yshift": -30
         }
        ],
        "font": {
         "color": "#371ea3"
        },
        "height": 413,
        "margin": {
         "b": 71,
         "r": 30,
         "t": 78
        },
        "shapes": [
         {
          "line": {
           "color": "#371ea3",
           "dash": "dot",
           "width": 1.5
          },
          "type": "line",
          "x0": 0.24999660329148962,
          "x1": 0.24999660329148962,
          "xref": "x",
          "y0": -1,
          "y1": 13,
          "yref": "y"
         }
        ],
        "template": {
         "data": {
          "scatter": [
           {
            "type": "scatter"
           }
          ]
         }
        },
        "title": {
         "text": "Aditi Joshi",
         "x": 0.15
        },
        "xaxis": {
         "anchor": "y",
         "automargin": true,
         "domain": [
          0,
          1
         ],
         "fixedrange": true,
         "gridwidth": 2,
         "range": [
          0.1375,
          1.1125
         ],
         "tickcolor": "white",
         "ticklen": 3,
         "ticks": "outside",
         "type": "linear",
         "zeroline": false
        },
        "yaxis": {
         "anchor": "x",
         "automargin": true,
         "autorange": "reversed",
         "domain": [
          0,
          1
         ],
         "fixedrange": true,
         "gridwidth": 2,
         "tickcolor": "white",
         "ticklen": 10,
         "ticks": "outside",
         "type": "category"
        }
       }
      }
     },
     "metadata": {},
     "output_type": "display_data"
    },
    {
     "data": {
      "application/vnd.plotly.v1+json": {
       "config": {
        "displaylogo": false,
        "modeBarButtonsToRemove": [
         "sendDataToCloud",
         "lasso2d",
         "autoScale2d",
         "select2d",
         "zoom2d",
         "pan2d",
         "zoomIn2d",
         "zoomOut2d",
         "resetScale2d",
         "toggleSpikelines",
         "hoverCompareCartesian",
         "hoverClosestCartesian"
        ],
        "plotlyServerURL": "https://plot.ly",
        "staticPlot": false,
        "toImageButtonOptions": {
         "height": null,
         "width": null
        }
       },
       "data": [
        {
         "base": 0.24999660329148962,
         "connector": {
          "line": {
           "color": "#371ea3",
           "dash": "solid",
           "width": 1
          },
          "mode": "spanning"
         },
         "decreasing": {
          "marker": {
           "color": "#f05a71"
          }
         },
         "hoverinfo": "text+delta",
         "hoverlabel": {
          "bgcolor": "rgba(0,0,0,0.8)"
         },
         "hovertext": [
          "Average response: 0.25<br>Prediction: 0.0",
          "Age = YOUNG<br>decreases average response by",
          "Undecided_Finances = No<br>increases average response by",
          "Down_Payment = HIGH<br>increases average response by",
          "Special_Occasions = Wedding<br>increases average response by",
          "Add_Ons = LOW<br>increases average response by",
          "Finances_Status = Cash Purchase<br>increases average response by",
          "External_Factors = Medium<br>decreases average response by",
          "Experience_With_Sales_Rep = Neutral<br>decreases average response by",
          "Income = HIGH<br>increases average response by",
          "Gender = Female<br>decreases average response by",
          "+ all other factors<br>decreases average response by",
          "Average response: 0.25<br>Prediction: 0.0"
         ],
         "increasing": {
          "marker": {
           "color": "#8bdcbe"
          }
         },
         "measure": [
          "relative",
          "relative",
          "relative",
          "relative",
          "relative",
          "relative",
          "relative",
          "relative",
          "relative",
          "relative",
          "relative",
          "relative",
          "total"
         ],
         "orientation": "h",
         "showlegend": false,
         "text": [
          "0.25",
          "0.0",
          "+0.001",
          "+0.005",
          "+0.009",
          "+0.001",
          "+0.086",
          "-0.043",
          "-0.013",
          "+0.002",
          "-0.016",
          "-0.281",
          "0.0"
         ],
         "textposition": "outside",
         "totals": {
          "marker": {
           "color": "#371ea3"
          }
         },
         "type": "waterfall",
         "x": [
          0,
          0,
          0.001,
          0.005,
          0.009,
          0.001,
          0.086,
          -0.043,
          -0.013,
          0.002,
          -0.016,
          -0.281,
          -0.25
         ],
         "xaxis": "x",
         "y": [
          "intercept",
          "Age = YOUNG",
          "Undecided_Finances = No",
          "Down_Payment = HIGH",
          "Special_Occasions = Wedding",
          "Add_Ons = LOW",
          "Finances_Status = Cash Purchase",
          "External_Factors = Medium",
          "Experience_With_Sales_Rep = Neutral",
          "Income = HIGH",
          "Gender = Female",
          "+ all other factors",
          "prediction"
         ],
         "yaxis": "y"
        }
       ],
       "layout": {
        "annotations": [
         {
          "font": {
           "size": 16
          },
          "showarrow": false,
          "text": "BinaryResultsWrapper",
          "x": 0.5,
          "xanchor": "center",
          "xref": "paper",
          "y": 1,
          "yanchor": "bottom",
          "yref": "paper"
         },
         {
          "font": {
           "size": 16
          },
          "showarrow": false,
          "text": "contribution",
          "x": 0.5,
          "xanchor": "center",
          "xref": "paper",
          "y": 0,
          "yanchor": "top",
          "yref": "paper",
          "yshift": -30
         }
        ],
        "font": {
         "color": "#371ea3"
        },
        "height": 413,
        "margin": {
         "b": 71,
         "r": 30,
         "t": 78
        },
        "shapes": [
         {
          "line": {
           "color": "#371ea3",
           "dash": "dot",
           "width": 1.5
          },
          "type": "line",
          "x0": 0.24999660329148962,
          "x1": 0.24999660329148962,
          "xref": "x",
          "y0": -1,
          "y1": 13,
          "yref": "y"
         }
        ],
        "template": {
         "data": {
          "scatter": [
           {
            "type": "scatter"
           }
          ]
         }
        },
        "title": {
         "text": "Rajesh Kumar",
         "x": 0.15
        },
        "xaxis": {
         "anchor": "y",
         "automargin": true,
         "domain": [
          0,
          1
         ],
         "fixedrange": true,
         "gridwidth": 2,
         "range": [
          -0.05279999999999999,
          0.4048
         ],
         "tickcolor": "white",
         "ticklen": 3,
         "ticks": "outside",
         "type": "linear",
         "zeroline": false
        },
        "yaxis": {
         "anchor": "x",
         "automargin": true,
         "autorange": "reversed",
         "domain": [
          0,
          1
         ],
         "fixedrange": true,
         "gridwidth": 2,
         "tickcolor": "white",
         "ticklen": 10,
         "ticks": "outside",
         "type": "category"
        }
       }
      }
     },
     "metadata": {},
     "output_type": "display_data"
    },
    {
     "data": {
      "application/vnd.plotly.v1+json": {
       "config": {
        "displaylogo": false,
        "modeBarButtonsToRemove": [
         "sendDataToCloud",
         "lasso2d",
         "autoScale2d",
         "select2d",
         "zoom2d",
         "pan2d",
         "zoomIn2d",
         "zoomOut2d",
         "resetScale2d",
         "toggleSpikelines",
         "hoverCompareCartesian",
         "hoverClosestCartesian"
        ],
        "plotlyServerURL": "https://plot.ly",
        "staticPlot": false,
        "toImageButtonOptions": {
         "height": null,
         "width": null
        }
       },
       "data": [
        {
         "base": 0.24999660329148962,
         "connector": {
          "line": {
           "color": "#371ea3",
           "dash": "solid",
           "width": 1
          },
          "mode": "spanning"
         },
         "decreasing": {
          "marker": {
           "color": "#f05a71"
          }
         },
         "hoverinfo": "text+delta",
         "hoverlabel": {
          "bgcolor": "rgba(0,0,0,0.8)"
         },
         "hovertext": [
          "Average response: 0.25<br>Prediction: 0.0",
          "Companion_Feedback = Negative<br>increases average response by",
          "OEM_Loyalty_Program = Yes<br>increases average response by",
          "Test_Drive_Status = Completed<br>increases average response by",
          "Booking_Lead_Time = LOW<br>increases average response by",
          "Experience_With_Sales_Rep = Negative<br>increases average response by",
          "Vehicle_Type = Hatchback<br>increases average response by",
          "Add_Ons = LOW<br>decreases average response by",
          "First_Time_Buyer = Yes<br>increases average response by",
          "External_Factors = High<br>decreases average response by",
          "Stock_Status = Available<br>increases average response by",
          "+ all other factors<br>decreases average response by",
          "Average response: 0.25<br>Prediction: 0.0"
         ],
         "increasing": {
          "marker": {
           "color": "#8bdcbe"
          }
         },
         "measure": [
          "relative",
          "relative",
          "relative",
          "relative",
          "relative",
          "relative",
          "relative",
          "relative",
          "relative",
          "relative",
          "relative",
          "relative",
          "total"
         ],
         "orientation": "h",
         "showlegend": false,
         "text": [
          "0.25",
          "+0.001",
          "+0.044",
          "+0.032",
          "+0.022",
          "+0.002",
          "+0.007",
          "0.0",
          "+0.027",
          "-0.011",
          "+0.001",
          "-0.374",
          "0.0"
         ],
         "textposition": "outside",
         "totals": {
          "marker": {
           "color": "#371ea3"
          }
         },
         "type": "waterfall",
         "x": [
          0,
          0.001,
          0.044,
          0.032,
          0.022,
          0.002,
          0.007,
          0,
          0.027,
          -0.011,
          0.001,
          -0.374,
          -0.25
         ],
         "xaxis": "x",
         "y": [
          "intercept",
          "Companion_Feedback = Negative",
          "OEM_Loyalty_Program = Yes",
          "Test_Drive_Status = Completed",
          "Booking_Lead_Time = LOW",
          "Experience_With_Sales_Rep = Negative",
          "Vehicle_Type = Hatchback",
          "Add_Ons = LOW",
          "First_Time_Buyer = Yes",
          "External_Factors = High",
          "Stock_Status = Available",
          "+ all other factors",
          "prediction"
         ],
         "yaxis": "y"
        }
       ],
       "layout": {
        "annotations": [
         {
          "font": {
           "size": 16
          },
          "showarrow": false,
          "text": "BinaryResultsWrapper",
          "x": 0.5,
          "xanchor": "center",
          "xref": "paper",
          "y": 1,
          "yanchor": "bottom",
          "yref": "paper"
         },
         {
          "font": {
           "size": 16
          },
          "showarrow": false,
          "text": "contribution",
          "x": 0.5,
          "xanchor": "center",
          "xref": "paper",
          "y": 0,
          "yanchor": "top",
          "yref": "paper",
          "yshift": -30
         }
        ],
        "font": {
         "color": "#371ea3"
        },
        "height": 413,
        "margin": {
         "b": 71,
         "r": 30,
         "t": 78
        },
        "shapes": [
         {
          "line": {
           "color": "#371ea3",
           "dash": "dot",
           "width": 1.5
          },
          "type": "line",
          "x0": 0.24999660329148962,
          "x1": 0.24999660329148962,
          "xref": "x",
          "y0": -1,
          "y1": 13,
          "yref": "y"
         }
        ],
        "template": {
         "data": {
          "scatter": [
           {
            "type": "scatter"
           }
          ]
         }
        },
        "title": {
         "text": "Neha Patil",
         "x": 0.15
        },
        "xaxis": {
         "anchor": "y",
         "automargin": true,
         "domain": [
          0,
          1
         ],
         "fixedrange": true,
         "gridwidth": 2,
         "range": [
          -0.057749999999999996,
          0.44275
         ],
         "tickcolor": "white",
         "ticklen": 3,
         "ticks": "outside",
         "type": "linear",
         "zeroline": false
        },
        "yaxis": {
         "anchor": "x",
         "automargin": true,
         "autorange": "reversed",
         "domain": [
          0,
          1
         ],
         "fixedrange": true,
         "gridwidth": 2,
         "tickcolor": "white",
         "ticklen": 10,
         "ticks": "outside",
         "type": "category"
        }
       }
      }
     },
     "metadata": {},
     "output_type": "display_data"
    },
    {
     "data": {
      "application/vnd.plotly.v1+json": {
       "config": {
        "displaylogo": false,
        "modeBarButtonsToRemove": [
         "sendDataToCloud",
         "lasso2d",
         "autoScale2d",
         "select2d",
         "zoom2d",
         "pan2d",
         "zoomIn2d",
         "zoomOut2d",
         "resetScale2d",
         "toggleSpikelines",
         "hoverCompareCartesian",
         "hoverClosestCartesian"
        ],
        "plotlyServerURL": "https://plot.ly",
        "staticPlot": false,
        "toImageButtonOptions": {
         "height": null,
         "width": null
        }
       },
       "data": [
        {
         "base": 0.24999660329148962,
         "connector": {
          "line": {
           "color": "#371ea3",
           "dash": "solid",
           "width": 1
          },
          "mode": "spanning"
         },
         "decreasing": {
          "marker": {
           "color": "#f05a71"
          }
         },
         "hoverinfo": "text+delta",
         "hoverlabel": {
          "bgcolor": "rgba(0,0,0,0.8)"
         },
         "hovertext": [
          "Average response: 0.25<br>Prediction: 0.0",
          "Lead_Source = Online<br>decreases average response by",
          "Test_Drive_Status = Completed<br>increases average response by",
          "Booking_Lead_Time = LOW<br>increases average response by",
          "Preferred_Delivery_Time = Morning<br>increases average response by",
          "Special_Occasions = Festival<br>decreases average response by",
          "Dealership_Engagement = High<br>increases average response by",
          "External_Factors = Low<br>increases average response by",
          "Add_Ons = LOW<br>increases average response by",
          "First_Time_Buyer = Yes<br>increases average response by",
          "Income = LOW<br>increases average response by",
          "+ all other factors<br>decreases average response by",
          "Average response: 0.25<br>Prediction: 0.0"
         ],
         "increasing": {
          "marker": {
           "color": "#8bdcbe"
          }
         },
         "measure": [
          "relative",
          "relative",
          "relative",
          "relative",
          "relative",
          "relative",
          "relative",
          "relative",
          "relative",
          "relative",
          "relative",
          "relative",
          "total"
         ],
         "orientation": "h",
         "showlegend": false,
         "text": [
          "0.25",
          "0.0",
          "+0.017",
          "+0.038",
          "+0.009",
          "-0.001",
          "+0.003",
          "+0.02",
          "+0.015",
          "+0.027",
          "+0.025",
          "-0.402",
          "0.0"
         ],
         "textposition": "outside",
         "totals": {
          "marker": {
           "color": "#371ea3"
          }
         },
         "type": "waterfall",
         "x": [
          0,
          0,
          0.017,
          0.038,
          0.009,
          -0.001,
          0.003,
          0.02,
          0.015,
          0.027,
          0.025,
          -0.402,
          -0.25
         ],
         "xaxis": "x",
         "y": [
          "intercept",
          "Lead_Source = Online",
          "Test_Drive_Status = Completed",
          "Booking_Lead_Time = LOW",
          "Preferred_Delivery_Time = Morning",
          "Special_Occasions = Festival",
          "Dealership_Engagement = High",
          "External_Factors = Low",
          "Add_Ons = LOW",
          "First_Time_Buyer = Yes",
          "Income = LOW",
          "+ all other factors",
          "prediction"
         ],
         "yaxis": "y"
        }
       ],
       "layout": {
        "annotations": [
         {
          "font": {
           "size": 16
          },
          "showarrow": false,
          "text": "BinaryResultsWrapper",
          "x": 0.5,
          "xanchor": "center",
          "xref": "paper",
          "y": 1,
          "yanchor": "bottom",
          "yref": "paper"
         },
         {
          "font": {
           "size": 16
          },
          "showarrow": false,
          "text": "contribution",
          "x": 0.5,
          "xanchor": "center",
          "xref": "paper",
          "y": 0,
          "yanchor": "top",
          "yref": "paper",
          "yshift": -30
         }
        ],
        "font": {
         "color": "#371ea3"
        },
        "height": 413,
        "margin": {
         "b": 71,
         "r": 30,
         "t": 78
        },
        "shapes": [
         {
          "line": {
           "color": "#371ea3",
           "dash": "dot",
           "width": 1.5
          },
          "type": "line",
          "x0": 0.24999660329148962,
          "x1": 0.24999660329148962,
          "xref": "x",
          "y0": -1,
          "y1": 13,
          "yref": "y"
         }
        ],
        "template": {
         "data": {
          "scatter": [
           {
            "type": "scatter"
           }
          ]
         }
        },
        "title": {
         "text": "Vishal Reddy",
         "x": 0.15
        },
        "xaxis": {
         "anchor": "y",
         "automargin": true,
         "domain": [
          0,
          1
         ],
         "fixedrange": true,
         "gridwidth": 2,
         "range": [
          -0.0603,
          0.46230000000000004
         ],
         "tickcolor": "white",
         "ticklen": 3,
         "ticks": "outside",
         "type": "linear",
         "zeroline": false
        },
        "yaxis": {
         "anchor": "x",
         "automargin": true,
         "autorange": "reversed",
         "domain": [
          0,
          1
         ],
         "fixedrange": true,
         "gridwidth": 2,
         "tickcolor": "white",
         "ticklen": 10,
         "ticks": "outside",
         "type": "category"
        }
       }
      }
     },
     "metadata": {},
     "output_type": "display_data"
    },
    {
     "data": {
      "application/vnd.plotly.v1+json": {
       "config": {
        "displaylogo": false,
        "modeBarButtonsToRemove": [
         "sendDataToCloud",
         "lasso2d",
         "autoScale2d",
         "select2d",
         "zoom2d",
         "pan2d",
         "zoomIn2d",
         "zoomOut2d",
         "resetScale2d",
         "toggleSpikelines",
         "hoverCompareCartesian",
         "hoverClosestCartesian"
        ],
        "plotlyServerURL": "https://plot.ly",
        "staticPlot": false,
        "toImageButtonOptions": {
         "height": null,
         "width": null
        }
       },
       "data": [
        {
         "base": 0.24999660329148962,
         "connector": {
          "line": {
           "color": "#371ea3",
           "dash": "solid",
           "width": 1
          },
          "mode": "spanning"
         },
         "decreasing": {
          "marker": {
           "color": "#f05a71"
          }
         },
         "hoverinfo": "text+delta",
         "hoverlabel": {
          "bgcolor": "rgba(0,0,0,0.8)"
         },
         "hovertext": [
          "Average response: 0.25<br>Prediction: 0.0",
          "Companion_Feedback = Positive<br>increases average response by",
          "OEM_Loyalty_Program = Yes<br>increases average response by",
          "Undecided_Finances = No<br>increases average response by",
          "Down_Payment = HIGH<br>increases average response by",
          "Competitive_Factors = Low<br>increases average response by",
          "External_Factors = Low<br>increases average response by",
          "Add_Ons = LOW<br>decreases average response by",
          "Stock_Status = Available<br>increases average response by",
          "Gender = Male<br>increases average response by",
          "Finances_Status = Cash Purchase<br>increases average response by",
          "+ all other factors<br>decreases average response by",
          "Average response: 0.25<br>Prediction: 0.0"
         ],
         "increasing": {
          "marker": {
           "color": "#8bdcbe"
          }
         },
         "measure": [
          "relative",
          "relative",
          "relative",
          "relative",
          "relative",
          "relative",
          "relative",
          "relative",
          "relative",
          "relative",
          "relative",
          "relative",
          "total"
         ],
         "orientation": "h",
         "showlegend": false,
         "text": [
          "0.25",
          "+0.058",
          "+0.011",
          "+0.012",
          "+0.079",
          "+0.069",
          "+0.002",
          "0.0",
          "+0.015",
          "+0.016",
          "+0.059",
          "-0.571",
          "0.0"
         ],
         "textposition": "outside",
         "totals": {
          "marker": {
           "color": "#371ea3"
          }
         },
         "type": "waterfall",
         "x": [
          0,
          0.058,
          0.011,
          0.012,
          0.079,
          0.069,
          0.002,
          0,
          0.015,
          0.016,
          0.059,
          -0.571,
          -0.25
         ],
         "xaxis": "x",
         "y": [
          "intercept",
          "Companion_Feedback = Positive",
          "OEM_Loyalty_Program = Yes",
          "Undecided_Finances = No",
          "Down_Payment = HIGH",
          "Competitive_Factors = Low",
          "External_Factors = Low",
          "Add_Ons = LOW",
          "Stock_Status = Available",
          "Gender = Male",
          "Finances_Status = Cash Purchase",
          "+ all other factors",
          "prediction"
         ],
         "yaxis": "y"
        }
       ],
       "layout": {
        "annotations": [
         {
          "font": {
           "size": 16
          },
          "showarrow": false,
          "text": "BinaryResultsWrapper",
          "x": 0.5,
          "xanchor": "center",
          "xref": "paper",
          "y": 1,
          "yanchor": "bottom",
          "yref": "paper"
         },
         {
          "font": {
           "size": 16
          },
          "showarrow": false,
          "text": "contribution",
          "x": 0.5,
          "xanchor": "center",
          "xref": "paper",
          "y": 0,
          "yanchor": "top",
          "yref": "paper",
          "yshift": -30
         }
        ],
        "font": {
         "color": "#371ea3"
        },
        "height": 413,
        "margin": {
         "b": 71,
         "r": 30,
         "t": 78
        },
        "shapes": [
         {
          "line": {
           "color": "#371ea3",
           "dash": "dot",
           "width": 1.5
          },
          "type": "line",
          "x0": 0.24999660329148962,
          "x1": 0.24999660329148962,
          "xref": "x",
          "y0": -1,
          "y1": 13,
          "yref": "y"
         }
        ],
        "template": {
         "data": {
          "scatter": [
           {
            "type": "scatter"
           }
          ]
         }
        },
        "title": {
         "text": "Kavya Iyer",
         "x": 0.15
        },
        "xaxis": {
         "anchor": "y",
         "automargin": true,
         "domain": [
          0,
          1
         ],
         "fixedrange": true,
         "gridwidth": 2,
         "range": [
          -0.08564999999999999,
          0.65665
         ],
         "tickcolor": "white",
         "ticklen": 3,
         "ticks": "outside",
         "type": "linear",
         "zeroline": false
        },
        "yaxis": {
         "anchor": "x",
         "automargin": true,
         "autorange": "reversed",
         "domain": [
          0,
          1
         ],
         "fixedrange": true,
         "gridwidth": 2,
         "tickcolor": "white",
         "ticklen": 10,
         "ticks": "outside",
         "type": "category"
        }
       }
      }
     },
     "metadata": {},
     "output_type": "display_data"
    },
    {
     "data": {
      "application/vnd.plotly.v1+json": {
       "config": {
        "displaylogo": false,
        "modeBarButtonsToRemove": [
         "sendDataToCloud",
         "lasso2d",
         "autoScale2d",
         "select2d",
         "zoom2d",
         "pan2d",
         "zoomIn2d",
         "zoomOut2d",
         "resetScale2d",
         "toggleSpikelines",
         "hoverCompareCartesian",
         "hoverClosestCartesian"
        ],
        "plotlyServerURL": "https://plot.ly",
        "staticPlot": false,
        "toImageButtonOptions": {
         "height": null,
         "width": null
        }
       },
       "data": [
        {
         "base": 0.24999660329148962,
         "connector": {
          "line": {
           "color": "#371ea3",
           "dash": "solid",
           "width": 1
          },
          "mode": "spanning"
         },
         "decreasing": {
          "marker": {
           "color": "#f05a71"
          }
         },
         "hoverinfo": "text+delta",
         "hoverlabel": {
          "bgcolor": "rgba(0,0,0,0.8)"
         },
         "hovertext": [
          "Average response: 0.25<br>Prediction: 1.0",
          "Companion_Feedback = Positive<br>increases average response by",
          "Lead_Source = Online<br>increases average response by",
          "OEM_Loyalty_Program = Yes<br>increases average response by",
          "Test_Drive_Status = Completed<br>increases average response by",
          "Preferred_Delivery_Time = Morning<br>increases average response by",
          "Undecided_Finances = No<br>increases average response by",
          "Special_Occasions = Wedding<br>increases average response by",
          "Finances_Status = Approved Loans<br>increases average response by",
          "Vehicle_Type = Hatchback<br>increases average response by",
          "Dealership_Engagement = High<br>increases average response by",
          "+ all other factors<br>increases average response by",
          "Average response: 0.25<br>Prediction: 1.0"
         ],
         "increasing": {
          "marker": {
           "color": "#8bdcbe"
          }
         },
         "measure": [
          "relative",
          "relative",
          "relative",
          "relative",
          "relative",
          "relative",
          "relative",
          "relative",
          "relative",
          "relative",
          "relative",
          "relative",
          "total"
         ],
         "orientation": "h",
         "showlegend": false,
         "text": [
          "0.25",
          "+0.058",
          "+0.011",
          "+0.009",
          "+0.065",
          "+0.109",
          "+0.122",
          "+0.054",
          "+0.067",
          "+0.076",
          "+0.06",
          "+0.119",
          "1.0"
         ],
         "textposition": "outside",
         "totals": {
          "marker": {
           "color": "#371ea3"
          }
         },
         "type": "waterfall",
         "x": [
          0,
          0.058,
          0.011,
          0.009,
          0.065,
          0.109,
          0.122,
          0.054,
          0.067,
          0.076,
          0.06,
          0.119,
          0.75
         ],
         "xaxis": "x",
         "y": [
          "intercept",
          "Companion_Feedback = Positive",
          "Lead_Source = Online",
          "OEM_Loyalty_Program = Yes",
          "Test_Drive_Status = Completed",
          "Preferred_Delivery_Time = Morning",
          "Undecided_Finances = No",
          "Special_Occasions = Wedding",
          "Finances_Status = Approved Loans",
          "Vehicle_Type = Hatchback",
          "Dealership_Engagement = High",
          "+ all other factors",
          "prediction"
         ],
         "yaxis": "y"
        }
       ],
       "layout": {
        "annotations": [
         {
          "font": {
           "size": 16
          },
          "showarrow": false,
          "text": "BinaryResultsWrapper",
          "x": 0.5,
          "xanchor": "center",
          "xref": "paper",
          "y": 1,
          "yanchor": "bottom",
          "yref": "paper"
         },
         {
          "font": {
           "size": 16
          },
          "showarrow": false,
          "text": "contribution",
          "x": 0.5,
          "xanchor": "center",
          "xref": "paper",
          "y": 0,
          "yanchor": "top",
          "yref": "paper",
          "yshift": -30
         }
        ],
        "font": {
         "color": "#371ea3"
        },
        "height": 413,
        "margin": {
         "b": 71,
         "r": 30,
         "t": 78
        },
        "shapes": [
         {
          "line": {
           "color": "#371ea3",
           "dash": "dot",
           "width": 1.5
          },
          "type": "line",
          "x0": 0.24999660329148962,
          "x1": 0.24999660329148962,
          "xref": "x",
          "y0": -1,
          "y1": 13,
          "yref": "y"
         }
        ],
        "template": {
         "data": {
          "scatter": [
           {
            "type": "scatter"
           }
          ]
         }
        },
        "title": {
         "text": "Arjun Malhotra",
         "x": 0.15
        },
        "xaxis": {
         "anchor": "y",
         "automargin": true,
         "domain": [
          0,
          1
         ],
         "fixedrange": true,
         "gridwidth": 2,
         "range": [
          0.1375,
          1.1125
         ],
         "tickcolor": "white",
         "ticklen": 3,
         "ticks": "outside",
         "type": "linear",
         "zeroline": false
        },
        "yaxis": {
         "anchor": "x",
         "automargin": true,
         "autorange": "reversed",
         "domain": [
          0,
          1
         ],
         "fixedrange": true,
         "gridwidth": 2,
         "tickcolor": "white",
         "ticklen": 10,
         "ticks": "outside",
         "type": "category"
        }
       }
      }
     },
     "metadata": {},
     "output_type": "display_data"
    },
    {
     "data": {
      "application/vnd.plotly.v1+json": {
       "config": {
        "displaylogo": false,
        "modeBarButtonsToRemove": [
         "sendDataToCloud",
         "lasso2d",
         "autoScale2d",
         "select2d",
         "zoom2d",
         "pan2d",
         "zoomIn2d",
         "zoomOut2d",
         "resetScale2d",
         "toggleSpikelines",
         "hoverCompareCartesian",
         "hoverClosestCartesian"
        ],
        "plotlyServerURL": "https://plot.ly",
        "staticPlot": false,
        "toImageButtonOptions": {
         "height": null,
         "width": null
        }
       },
       "data": [
        {
         "base": 0.24999660329148962,
         "connector": {
          "line": {
           "color": "#371ea3",
           "dash": "solid",
           "width": 1
          },
          "mode": "spanning"
         },
         "decreasing": {
          "marker": {
           "color": "#f05a71"
          }
         },
         "hoverinfo": "text+delta",
         "hoverlabel": {
          "bgcolor": "rgba(0,0,0,0.8)"
         },
         "hovertext": [
          "Average response: 0.25<br>Prediction: 0.0",
          "Age = YOUNG<br>decreases average response by",
          "Test_Drive_Status = Completed<br>increases average response by",
          "Special_Occasions = Festival<br>increases average response by",
          "Add_Ons = LOW<br>decreases average response by",
          "External_Factors = High<br>decreases average response by",
          "Gender = Male<br>decreases average response by",
          "Dealership_Engagement = Low<br>increases average response by",
          "Experience_With_Sales_Rep = Neutral<br>decreases average response by",
          "Vehicle_Type = SUV<br>increases average response by",
          "Customer_Satisfaction_Score = LOW<br>decreases average response by",
          "+ all other factors<br>decreases average response by",
          "Average response: 0.25<br>Prediction: 0.0"
         ],
         "increasing": {
          "marker": {
           "color": "#8bdcbe"
          }
         },
         "measure": [
          "relative",
          "relative",
          "relative",
          "relative",
          "relative",
          "relative",
          "relative",
          "relative",
          "relative",
          "relative",
          "relative",
          "relative",
          "total"
         ],
         "orientation": "h",
         "showlegend": false,
         "text": [
          "0.25",
          "0.0",
          "+0.029",
          "+0.019",
          "0.0",
          "-0.001",
          "0.0",
          "+0.002",
          "-0.0",
          "+0.001",
          "-0.001",
          "-0.3",
          "0.0"
         ],
         "textposition": "outside",
         "totals": {
          "marker": {
           "color": "#371ea3"
          }
         },
         "type": "waterfall",
         "x": [
          0,
          0,
          0.029,
          0.019,
          0,
          -0.001,
          0,
          0.002,
          0,
          0.001,
          -0.001,
          -0.3,
          -0.25
         ],
         "xaxis": "x",
         "y": [
          "intercept",
          "Age = YOUNG",
          "Test_Drive_Status = Completed",
          "Special_Occasions = Festival",
          "Add_Ons = LOW",
          "External_Factors = High",
          "Gender = Male",
          "Dealership_Engagement = Low",
          "Experience_With_Sales_Rep = Neutral",
          "Vehicle_Type = SUV",
          "Customer_Satisfaction_Score = LOW",
          "+ all other factors",
          "prediction"
         ],
         "yaxis": "y"
        }
       ],
       "layout": {
        "annotations": [
         {
          "font": {
           "size": 16
          },
          "showarrow": false,
          "text": "BinaryResultsWrapper",
          "x": 0.5,
          "xanchor": "center",
          "xref": "paper",
          "y": 1,
          "yanchor": "bottom",
          "yref": "paper"
         },
         {
          "font": {
           "size": 16
          },
          "showarrow": false,
          "text": "contribution",
          "x": 0.5,
          "xanchor": "center",
          "xref": "paper",
          "y": 0,
          "yanchor": "top",
          "yref": "paper",
          "yshift": -30
         }
        ],
        "font": {
         "color": "#371ea3"
        },
        "height": 413,
        "margin": {
         "b": 71,
         "r": 30,
         "t": 78
        },
        "shapes": [
         {
          "line": {
           "color": "#371ea3",
           "dash": "dot",
           "width": 1.5
          },
          "type": "line",
          "x0": 0.24999660329148962,
          "x1": 0.24999660329148962,
          "xref": "x",
          "y0": -1,
          "y1": 13,
          "yref": "y"
         }
        ],
        "template": {
         "data": {
          "scatter": [
           {
            "type": "scatter"
           }
          ]
         }
        },
        "title": {
         "text": "Pooja Bansal",
         "x": 0.15
        },
        "xaxis": {
         "anchor": "y",
         "automargin": true,
         "domain": [
          0,
          1
         ],
         "fixedrange": true,
         "gridwidth": 2,
         "range": [
          -0.045,
          0.345
         ],
         "tickcolor": "white",
         "ticklen": 3,
         "ticks": "outside",
         "type": "linear",
         "zeroline": false
        },
        "yaxis": {
         "anchor": "x",
         "automargin": true,
         "autorange": "reversed",
         "domain": [
          0,
          1
         ],
         "fixedrange": true,
         "gridwidth": 2,
         "tickcolor": "white",
         "ticklen": 10,
         "ticks": "outside",
         "type": "category"
        }
       }
      }
     },
     "metadata": {},
     "output_type": "display_data"
    },
    {
     "data": {
      "application/vnd.plotly.v1+json": {
       "config": {
        "displaylogo": false,
        "modeBarButtonsToRemove": [
         "sendDataToCloud",
         "lasso2d",
         "autoScale2d",
         "select2d",
         "zoom2d",
         "pan2d",
         "zoomIn2d",
         "zoomOut2d",
         "resetScale2d",
         "toggleSpikelines",
         "hoverCompareCartesian",
         "hoverClosestCartesian"
        ],
        "plotlyServerURL": "https://plot.ly",
        "staticPlot": false,
        "toImageButtonOptions": {
         "height": null,
         "width": null
        }
       },
       "data": [
        {
         "base": 0.24999660329148962,
         "connector": {
          "line": {
           "color": "#371ea3",
           "dash": "solid",
           "width": 1
          },
          "mode": "spanning"
         },
         "decreasing": {
          "marker": {
           "color": "#f05a71"
          }
         },
         "hoverinfo": "text+delta",
         "hoverlabel": {
          "bgcolor": "rgba(0,0,0,0.8)"
         },
         "hovertext": [
          "Average response: 0.25<br>Prediction: 0.0",
          "Companion_Feedback = Positive<br>increases average response by",
          "Test_Drive_Status = Completed<br>increases average response by",
          "Booking_Lead_Time = LOW<br>increases average response by",
          "Special_Occasions = Festival<br>increases average response by",
          "External_Factors = Low<br>increases average response by",
          "Add_Ons = LOW<br>decreases average response by",
          "First_Time_Buyer = Yes<br>increases average response by",
          "Stock_Status = Available<br>decreases average response by",
          "Income = LOW<br>decreases average response by",
          "Cancellation_Probability = Low<br>increases average response by",
          "+ all other factors<br>decreases average response by",
          "Average response: 0.25<br>Prediction: 0.0"
         ],
         "increasing": {
          "marker": {
           "color": "#8bdcbe"
          }
         },
         "measure": [
          "relative",
          "relative",
          "relative",
          "relative",
          "relative",
          "relative",
          "relative",
          "relative",
          "relative",
          "relative",
          "relative",
          "relative",
          "total"
         ],
         "orientation": "h",
         "showlegend": false,
         "text": [
          "0.25",
          "+0.058",
          "+0.031",
          "+0.027",
          "+0.029",
          "+0.002",
          "0.0",
          "+0.006",
          "0.0",
          "0.0",
          "+0.061",
          "-0.464",
          "0.0"
         ],
         "textposition": "outside",
         "totals": {
          "marker": {
           "color": "#371ea3"
          }
         },
         "type": "waterfall",
         "x": [
          0,
          0.058,
          0.031,
          0.027,
          0.029,
          0.002,
          0,
          0.006,
          0,
          0,
          0.061,
          -0.464,
          -0.25
         ],
         "xaxis": "x",
         "y": [
          "intercept",
          "Companion_Feedback = Positive",
          "Test_Drive_Status = Completed",
          "Booking_Lead_Time = LOW",
          "Special_Occasions = Festival",
          "External_Factors = Low",
          "Add_Ons = LOW",
          "First_Time_Buyer = Yes",
          "Stock_Status = Available",
          "Income = LOW",
          "Cancellation_Probability = Low",
          "+ all other factors",
          "prediction"
         ],
         "yaxis": "y"
        }
       ],
       "layout": {
        "annotations": [
         {
          "font": {
           "size": 16
          },
          "showarrow": false,
          "text": "BinaryResultsWrapper",
          "x": 0.5,
          "xanchor": "center",
          "xref": "paper",
          "y": 1,
          "yanchor": "bottom",
          "yref": "paper"
         },
         {
          "font": {
           "size": 16
          },
          "showarrow": false,
          "text": "contribution",
          "x": 0.5,
          "xanchor": "center",
          "xref": "paper",
          "y": 0,
          "yanchor": "top",
          "yref": "paper",
          "yshift": -30
         }
        ],
        "font": {
         "color": "#371ea3"
        },
        "height": 413,
        "margin": {
         "b": 71,
         "r": 30,
         "t": 78
        },
        "shapes": [
         {
          "line": {
           "color": "#371ea3",
           "dash": "dot",
           "width": 1.5
          },
          "type": "line",
          "x0": 0.24999660329148962,
          "x1": 0.24999660329148962,
          "xref": "x",
          "y0": -1,
          "y1": 13,
          "yref": "y"
         }
        ],
        "template": {
         "data": {
          "scatter": [
           {
            "type": "scatter"
           }
          ]
         }
        },
        "title": {
         "text": "Ramesh Choudhary",
         "x": 0.15
        },
        "xaxis": {
         "anchor": "y",
         "automargin": true,
         "domain": [
          0,
          1
         ],
         "fixedrange": true,
         "gridwidth": 2,
         "range": [
          -0.0696,
          0.5336000000000001
         ],
         "tickcolor": "white",
         "ticklen": 3,
         "ticks": "outside",
         "type": "linear",
         "zeroline": false
        },
        "yaxis": {
         "anchor": "x",
         "automargin": true,
         "autorange": "reversed",
         "domain": [
          0,
          1
         ],
         "fixedrange": true,
         "gridwidth": 2,
         "tickcolor": "white",
         "ticklen": 10,
         "ticks": "outside",
         "type": "category"
        }
       }
      }
     },
     "metadata": {},
     "output_type": "display_data"
    },
    {
     "data": {
      "application/vnd.plotly.v1+json": {
       "config": {
        "displaylogo": false,
        "modeBarButtonsToRemove": [
         "sendDataToCloud",
         "lasso2d",
         "autoScale2d",
         "select2d",
         "zoom2d",
         "pan2d",
         "zoomIn2d",
         "zoomOut2d",
         "resetScale2d",
         "toggleSpikelines",
         "hoverCompareCartesian",
         "hoverClosestCartesian"
        ],
        "plotlyServerURL": "https://plot.ly",
        "staticPlot": false,
        "toImageButtonOptions": {
         "height": null,
         "width": null
        }
       },
       "data": [
        {
         "base": 0.24999660329148962,
         "connector": {
          "line": {
           "color": "#371ea3",
           "dash": "solid",
           "width": 1
          },
          "mode": "spanning"
         },
         "decreasing": {
          "marker": {
           "color": "#f05a71"
          }
         },
         "hoverinfo": "text+delta",
         "hoverlabel": {
          "bgcolor": "rgba(0,0,0,0.8)"
         },
         "hovertext": [
          "Average response: 0.25<br>Prediction: 0.0",
          "Lead_Source = Online<br>decreases average response by",
          "OEM_Loyalty_Program = Yes<br>increases average response by",
          "Preferred_Delivery_Time = Morning<br>increases average response by",
          "Undecided_Finances = No<br>increases average response by",
          "Special_Occasions = Wedding<br>increases average response by",
          "Competitive_Factors = Low<br>increases average response by",
          "Dealership_Engagement = High<br>increases average response by",
          "Add_Ons = LOW<br>increases average response by",
          "Stock_Status = Available<br>increases average response by",
          "Gender = Male<br>increases average response by",
          "+ all other factors<br>decreases average response by",
          "Average response: 0.25<br>Prediction: 0.0"
         ],
         "increasing": {
          "marker": {
           "color": "#8bdcbe"
          }
         },
         "measure": [
          "relative",
          "relative",
          "relative",
          "relative",
          "relative",
          "relative",
          "relative",
          "relative",
          "relative",
          "relative",
          "relative",
          "relative",
          "total"
         ],
         "orientation": "h",
         "showlegend": false,
         "text": [
          "0.25",
          "0.0",
          "+0.026",
          "+0.049",
          "+0.057",
          "+0.039",
          "+0.057",
          "+0.05",
          "+0.026",
          "+0.003",
          "+0.003",
          "-0.561",
          "0.0"
         ],
         "textposition": "outside",
         "totals": {
          "marker": {
           "color": "#371ea3"
          }
         },
         "type": "waterfall",
         "x": [
          0,
          0,
          0.026,
          0.049,
          0.057,
          0.039,
          0.057,
          0.05,
          0.026,
          0.003,
          0.003,
          -0.561,
          -0.25
         ],
         "xaxis": "x",
         "y": [
          "intercept",
          "Lead_Source = Online",
          "OEM_Loyalty_Program = Yes",
          "Preferred_Delivery_Time = Morning",
          "Undecided_Finances = No",
          "Special_Occasions = Wedding",
          "Competitive_Factors = Low",
          "Dealership_Engagement = High",
          "Add_Ons = LOW",
          "Stock_Status = Available",
          "Gender = Male",
          "+ all other factors",
          "prediction"
         ],
         "yaxis": "y"
        }
       ],
       "layout": {
        "annotations": [
         {
          "font": {
           "size": 16
          },
          "showarrow": false,
          "text": "BinaryResultsWrapper",
          "x": 0.5,
          "xanchor": "center",
          "xref": "paper",
          "y": 1,
          "yanchor": "bottom",
          "yref": "paper"
         },
         {
          "font": {
           "size": 16
          },
          "showarrow": false,
          "text": "contribution",
          "x": 0.5,
          "xanchor": "center",
          "xref": "paper",
          "y": 0,
          "yanchor": "top",
          "yref": "paper",
          "yshift": -30
         }
        ],
        "font": {
         "color": "#371ea3"
        },
        "height": 413,
        "margin": {
         "b": 71,
         "r": 30,
         "t": 78
        },
        "shapes": [
         {
          "line": {
           "color": "#371ea3",
           "dash": "dot",
           "width": 1.5
          },
          "type": "line",
          "x0": 0.24999660329148962,
          "x1": 0.24999660329148962,
          "xref": "x",
          "y0": -1,
          "y1": 13,
          "yref": "y"
         }
        ],
        "template": {
         "data": {
          "scatter": [
           {
            "type": "scatter"
           }
          ]
         }
        },
        "title": {
         "text": "Snehal Deshpande",
         "x": 0.15
        },
        "xaxis": {
         "anchor": "y",
         "automargin": true,
         "domain": [
          0,
          1
         ],
         "fixedrange": true,
         "gridwidth": 2,
         "range": [
          -0.08415,
          0.6451500000000001
         ],
         "tickcolor": "white",
         "ticklen": 3,
         "ticks": "outside",
         "type": "linear",
         "zeroline": false
        },
        "yaxis": {
         "anchor": "x",
         "automargin": true,
         "autorange": "reversed",
         "domain": [
          0,
          1
         ],
         "fixedrange": true,
         "gridwidth": 2,
         "tickcolor": "white",
         "ticklen": 10,
         "ticks": "outside",
         "type": "category"
        }
       }
      }
     },
     "metadata": {},
     "output_type": "display_data"
    },
    {
     "data": {
      "application/vnd.plotly.v1+json": {
       "config": {
        "displaylogo": false,
        "modeBarButtonsToRemove": [
         "sendDataToCloud",
         "lasso2d",
         "autoScale2d",
         "select2d",
         "zoom2d",
         "pan2d",
         "zoomIn2d",
         "zoomOut2d",
         "resetScale2d",
         "toggleSpikelines",
         "hoverCompareCartesian",
         "hoverClosestCartesian"
        ],
        "plotlyServerURL": "https://plot.ly",
        "staticPlot": false,
        "toImageButtonOptions": {
         "height": null,
         "width": null
        }
       },
       "data": [
        {
         "base": 0.24999660329148962,
         "connector": {
          "line": {
           "color": "#371ea3",
           "dash": "solid",
           "width": 1
          },
          "mode": "spanning"
         },
         "decreasing": {
          "marker": {
           "color": "#f05a71"
          }
         },
         "hoverinfo": "text+delta",
         "hoverlabel": {
          "bgcolor": "rgba(0,0,0,0.8)"
         },
         "hovertext": [
          "Average response: 0.25<br>Prediction: 0.0",
          "Companion_Feedback = Positive<br>increases average response by",
          "Age = YOUNG<br>increases average response by",
          "Test_Drive_Status = Completed<br>increases average response by",
          "Booking_Lead_Time = LOW<br>increases average response by",
          "Undecided_Finances = No<br>increases average response by",
          "Finances_Status = Approved Loans<br>increases average response by",
          "Special_Occasions = Festival<br>increases average response by",
          "CIBIL_Score = MEDIUM<br>increases average response by",
          "Add_Ons = LOW<br>decreases average response by",
          "First_Time_Buyer = Yes<br>increases average response by",
          "+ all other factors<br>decreases average response by",
          "Average response: 0.25<br>Prediction: 0.0"
         ],
         "increasing": {
          "marker": {
           "color": "#8bdcbe"
          }
         },
         "measure": [
          "relative",
          "relative",
          "relative",
          "relative",
          "relative",
          "relative",
          "relative",
          "relative",
          "relative",
          "relative",
          "relative",
          "relative",
          "total"
         ],
         "orientation": "h",
         "showlegend": false,
         "text": [
          "0.25",
          "+0.058",
          "+0.039",
          "+0.032",
          "+0.021",
          "+0.003",
          "+0.068",
          "+0.057",
          "+0.082",
          "0.0",
          "+0.018",
          "-0.628",
          "0.0"
         ],
         "textposition": "outside",
         "totals": {
          "marker": {
           "color": "#371ea3"
          }
         },
         "type": "waterfall",
         "x": [
          0,
          0.058,
          0.039,
          0.032,
          0.021,
          0.003,
          0.068,
          0.057,
          0.082,
          0,
          0.018,
          -0.628,
          -0.25
         ],
         "xaxis": "x",
         "y": [
          "intercept",
          "Companion_Feedback = Positive",
          "Age = YOUNG",
          "Test_Drive_Status = Completed",
          "Booking_Lead_Time = LOW",
          "Undecided_Finances = No",
          "Finances_Status = Approved Loans",
          "Special_Occasions = Festival",
          "CIBIL_Score = MEDIUM",
          "Add_Ons = LOW",
          "First_Time_Buyer = Yes",
          "+ all other factors",
          "prediction"
         ],
         "yaxis": "y"
        }
       ],
       "layout": {
        "annotations": [
         {
          "font": {
           "size": 16
          },
          "showarrow": false,
          "text": "BinaryResultsWrapper",
          "x": 0.5,
          "xanchor": "center",
          "xref": "paper",
          "y": 1,
          "yanchor": "bottom",
          "yref": "paper"
         },
         {
          "font": {
           "size": 16
          },
          "showarrow": false,
          "text": "contribution",
          "x": 0.5,
          "xanchor": "center",
          "xref": "paper",
          "y": 0,
          "yanchor": "top",
          "yref": "paper",
          "yshift": -30
         }
        ],
        "font": {
         "color": "#371ea3"
        },
        "height": 413,
        "margin": {
         "b": 71,
         "r": 30,
         "t": 78
        },
        "shapes": [
         {
          "line": {
           "color": "#371ea3",
           "dash": "dot",
           "width": 1.5
          },
          "type": "line",
          "x0": 0.24999660329148962,
          "x1": 0.24999660329148962,
          "xref": "x",
          "y0": -1,
          "y1": 13,
          "yref": "y"
         }
        ],
        "template": {
         "data": {
          "scatter": [
           {
            "type": "scatter"
           }
          ]
         }
        },
        "title": {
         "text": "Ankit Kapoor",
         "x": 0.15
        },
        "xaxis": {
         "anchor": "y",
         "automargin": true,
         "domain": [
          0,
          1
         ],
         "fixedrange": true,
         "gridwidth": 2,
         "range": [
          -0.09419999999999999,
          0.7222
         ],
         "tickcolor": "white",
         "ticklen": 3,
         "ticks": "outside",
         "type": "linear",
         "zeroline": false
        },
        "yaxis": {
         "anchor": "x",
         "automargin": true,
         "autorange": "reversed",
         "domain": [
          0,
          1
         ],
         "fixedrange": true,
         "gridwidth": 2,
         "tickcolor": "white",
         "ticklen": 10,
         "ticks": "outside",
         "type": "category"
        }
       }
      }
     },
     "metadata": {},
     "output_type": "display_data"
    },
    {
     "data": {
      "application/vnd.plotly.v1+json": {
       "config": {
        "displaylogo": false,
        "modeBarButtonsToRemove": [
         "sendDataToCloud",
         "lasso2d",
         "autoScale2d",
         "select2d",
         "zoom2d",
         "pan2d",
         "zoomIn2d",
         "zoomOut2d",
         "resetScale2d",
         "toggleSpikelines",
         "hoverCompareCartesian",
         "hoverClosestCartesian"
        ],
        "plotlyServerURL": "https://plot.ly",
        "staticPlot": false,
        "toImageButtonOptions": {
         "height": null,
         "width": null
        }
       },
       "data": [
        {
         "base": 0.24999660329148962,
         "connector": {
          "line": {
           "color": "#371ea3",
           "dash": "solid",
           "width": 1
          },
          "mode": "spanning"
         },
         "decreasing": {
          "marker": {
           "color": "#f05a71"
          }
         },
         "hoverinfo": "text+delta",
         "hoverlabel": {
          "bgcolor": "rgba(0,0,0,0.8)"
         },
         "hovertext": [
          "Average response: 0.25<br>Prediction: 0.0",
          "Test_Drive_Status = Completed<br>decreases average response by",
          "Preferred_Delivery_Time = Morning<br>increases average response by",
          "Undecided_Finances = No<br>increases average response by",
          "Special_Occasions = Wedding<br>increases average response by",
          "Competitive_Factors = Low<br>increases average response by",
          "Finances_Status = Approved Loans<br>increases average response by",
          "Dealership_Engagement = High<br>increases average response by",
          "CIBIL_Score = MEDIUM<br>increases average response by",
          "First_Time_Buyer = Yes<br>increases average response by",
          "Stock_Status = Available<br>increases average response by",
          "+ all other factors<br>decreases average response by",
          "Average response: 0.25<br>Prediction: 0.0"
         ],
         "increasing": {
          "marker": {
           "color": "#8bdcbe"
          }
         },
         "measure": [
          "relative",
          "relative",
          "relative",
          "relative",
          "relative",
          "relative",
          "relative",
          "relative",
          "relative",
          "relative",
          "relative",
          "relative",
          "total"
         ],
         "orientation": "h",
         "showlegend": false,
         "text": [
          "0.25",
          "0.0",
          "+0.001",
          "+0.005",
          "+0.022",
          "+0.028",
          "+0.099",
          "+0.046",
          "+0.015",
          "+0.033",
          "+0.007",
          "-0.507",
          "0.0"
         ],
         "textposition": "outside",
         "totals": {
          "marker": {
           "color": "#371ea3"
          }
         },
         "type": "waterfall",
         "x": [
          0,
          0,
          0.001,
          0.005,
          0.022,
          0.028,
          0.099,
          0.046,
          0.015,
          0.033,
          0.007,
          -0.507,
          -0.25
         ],
         "xaxis": "x",
         "y": [
          "intercept",
          "Test_Drive_Status = Completed",
          "Preferred_Delivery_Time = Morning",
          "Undecided_Finances = No",
          "Special_Occasions = Wedding",
          "Competitive_Factors = Low",
          "Finances_Status = Approved Loans",
          "Dealership_Engagement = High",
          "CIBIL_Score = MEDIUM",
          "First_Time_Buyer = Yes",
          "Stock_Status = Available",
          "+ all other factors",
          "prediction"
         ],
         "yaxis": "y"
        }
       ],
       "layout": {
        "annotations": [
         {
          "font": {
           "size": 16
          },
          "showarrow": false,
          "text": "BinaryResultsWrapper",
          "x": 0.5,
          "xanchor": "center",
          "xref": "paper",
          "y": 1,
          "yanchor": "bottom",
          "yref": "paper"
         },
         {
          "font": {
           "size": 16
          },
          "showarrow": false,
          "text": "contribution",
          "x": 0.5,
          "xanchor": "center",
          "xref": "paper",
          "y": 0,
          "yanchor": "top",
          "yref": "paper",
          "yshift": -30
         }
        ],
        "font": {
         "color": "#371ea3"
        },
        "height": 413,
        "margin": {
         "b": 71,
         "r": 30,
         "t": 78
        },
        "shapes": [
         {
          "line": {
           "color": "#371ea3",
           "dash": "dot",
           "width": 1.5
          },
          "type": "line",
          "x0": 0.24999660329148962,
          "x1": 0.24999660329148962,
          "xref": "x",
          "y0": -1,
          "y1": 13,
          "yref": "y"
         }
        ],
        "template": {
         "data": {
          "scatter": [
           {
            "type": "scatter"
           }
          ]
         }
        },
        "title": {
         "text": "Priya Sharma",
         "x": 0.15
        },
        "xaxis": {
         "anchor": "y",
         "automargin": true,
         "domain": [
          0,
          1
         ],
         "fixedrange": true,
         "gridwidth": 2,
         "range": [
          -0.07604999999999999,
          0.58305
         ],
         "tickcolor": "white",
         "ticklen": 3,
         "ticks": "outside",
         "type": "linear",
         "zeroline": false
        },
        "yaxis": {
         "anchor": "x",
         "automargin": true,
         "autorange": "reversed",
         "domain": [
          0,
          1
         ],
         "fixedrange": true,
         "gridwidth": 2,
         "tickcolor": "white",
         "ticklen": 10,
         "ticks": "outside",
         "type": "category"
        }
       }
      }
     },
     "metadata": {},
     "output_type": "display_data"
    },
    {
     "data": {
      "application/vnd.plotly.v1+json": {
       "config": {
        "displaylogo": false,
        "modeBarButtonsToRemove": [
         "sendDataToCloud",
         "lasso2d",
         "autoScale2d",
         "select2d",
         "zoom2d",
         "pan2d",
         "zoomIn2d",
         "zoomOut2d",
         "resetScale2d",
         "toggleSpikelines",
         "hoverCompareCartesian",
         "hoverClosestCartesian"
        ],
        "plotlyServerURL": "https://plot.ly",
        "staticPlot": false,
        "toImageButtonOptions": {
         "height": null,
         "width": null
        }
       },
       "data": [
        {
         "base": 0.24999660329148962,
         "connector": {
          "line": {
           "color": "#371ea3",
           "dash": "solid",
           "width": 1
          },
          "mode": "spanning"
         },
         "decreasing": {
          "marker": {
           "color": "#f05a71"
          }
         },
         "hoverinfo": "text+delta",
         "hoverlabel": {
          "bgcolor": "rgba(0,0,0,0.8)"
         },
         "hovertext": [
          "Average response: 0.25<br>Prediction: 0.0",
          "Companion_Feedback = Positive<br>increases average response by",
          "Lead_Source = Online<br>increases average response by",
          "OEM_Loyalty_Program = Yes<br>increases average response by",
          "Test_Drive_Status = Completed<br>increases average response by",
          "Booking_Lead_Time = LOW<br>increases average response by",
          "Special_Occasions = Festival<br>increases average response by",
          "CIBIL_Score = MEDIUM<br>increases average response by",
          "Add_Ons = LOW<br>decreases average response by",
          "External_Factors = High<br>decreases average response by",
          "Gender = Male<br>increases average response by",
          "+ all other factors<br>decreases average response by",
          "Average response: 0.25<br>Prediction: 0.0"
         ],
         "increasing": {
          "marker": {
           "color": "#8bdcbe"
          }
         },
         "measure": [
          "relative",
          "relative",
          "relative",
          "relative",
          "relative",
          "relative",
          "relative",
          "relative",
          "relative",
          "relative",
          "relative",
          "relative",
          "total"
         ],
         "orientation": "h",
         "showlegend": false,
         "text": [
          "0.25",
          "+0.058",
          "+0.011",
          "+0.009",
          "+0.065",
          "+0.063",
          "+0.039",
          "+0.044",
          "0.0",
          "-0.01",
          "+0.018",
          "-0.546",
          "0.0"
         ],
         "textposition": "outside",
         "totals": {
          "marker": {
           "color": "#371ea3"
          }
         },
         "type": "waterfall",
         "x": [
          0,
          0.058,
          0.011,
          0.009,
          0.065,
          0.063,
          0.039,
          0.044,
          0,
          -0.01,
          0.018,
          -0.546,
          -0.25
         ],
         "xaxis": "x",
         "y": [
          "intercept",
          "Companion_Feedback = Positive",
          "Lead_Source = Online",
          "OEM_Loyalty_Program = Yes",
          "Test_Drive_Status = Completed",
          "Booking_Lead_Time = LOW",
          "Special_Occasions = Festival",
          "CIBIL_Score = MEDIUM",
          "Add_Ons = LOW",
          "External_Factors = High",
          "Gender = Male",
          "+ all other factors",
          "prediction"
         ],
         "yaxis": "y"
        }
       ],
       "layout": {
        "annotations": [
         {
          "font": {
           "size": 16
          },
          "showarrow": false,
          "text": "BinaryResultsWrapper",
          "x": 0.5,
          "xanchor": "center",
          "xref": "paper",
          "y": 1,
          "yanchor": "bottom",
          "yref": "paper"
         },
         {
          "font": {
           "size": 16
          },
          "showarrow": false,
          "text": "contribution",
          "x": 0.5,
          "xanchor": "center",
          "xref": "paper",
          "y": 0,
          "yanchor": "top",
          "yref": "paper",
          "yshift": -30
         }
        ],
        "font": {
         "color": "#371ea3"
        },
        "height": 413,
        "margin": {
         "b": 71,
         "r": 30,
         "t": 78
        },
        "shapes": [
         {
          "line": {
           "color": "#371ea3",
           "dash": "dot",
           "width": 1.5
          },
          "type": "line",
          "x0": 0.24999660329148962,
          "x1": 0.24999660329148962,
          "xref": "x",
          "y0": -1,
          "y1": 13,
          "yref": "y"
         }
        ],
        "template": {
         "data": {
          "scatter": [
           {
            "type": "scatter"
           }
          ]
         }
        },
        "title": {
         "text": "Rohan Mehta",
         "x": 0.15
        },
        "xaxis": {
         "anchor": "y",
         "automargin": true,
         "domain": [
          0,
          1
         ],
         "fixedrange": true,
         "gridwidth": 2,
         "range": [
          -0.0819,
          0.6279
         ],
         "tickcolor": "white",
         "ticklen": 3,
         "ticks": "outside",
         "type": "linear",
         "zeroline": false
        },
        "yaxis": {
         "anchor": "x",
         "automargin": true,
         "autorange": "reversed",
         "domain": [
          0,
          1
         ],
         "fixedrange": true,
         "gridwidth": 2,
         "tickcolor": "white",
         "ticklen": 10,
         "ticks": "outside",
         "type": "category"
        }
       }
      }
     },
     "metadata": {},
     "output_type": "display_data"
    },
    {
     "data": {
      "application/vnd.plotly.v1+json": {
       "config": {
        "displaylogo": false,
        "modeBarButtonsToRemove": [
         "sendDataToCloud",
         "lasso2d",
         "autoScale2d",
         "select2d",
         "zoom2d",
         "pan2d",
         "zoomIn2d",
         "zoomOut2d",
         "resetScale2d",
         "toggleSpikelines",
         "hoverCompareCartesian",
         "hoverClosestCartesian"
        ],
        "plotlyServerURL": "https://plot.ly",
        "staticPlot": false,
        "toImageButtonOptions": {
         "height": null,
         "width": null
        }
       },
       "data": [
        {
         "base": 0.24999660329148962,
         "connector": {
          "line": {
           "color": "#371ea3",
           "dash": "solid",
           "width": 1
          },
          "mode": "spanning"
         },
         "decreasing": {
          "marker": {
           "color": "#f05a71"
          }
         },
         "hoverinfo": "text+delta",
         "hoverlabel": {
          "bgcolor": "rgba(0,0,0,0.8)"
         },
         "hovertext": [
          "Average response: 0.25<br>Prediction: 0.0",
          "Age = YOUNG<br>decreases average response by",
          "Undecided_Finances = No<br>increases average response by",
          "Experience_With_Sales_Rep = Negative<br>increases average response by",
          "Vehicle_Type = Hatchback<br>increases average response by",
          "CIBIL_Score = MEDIUM<br>increases average response by",
          "Add_Ons = LOW<br>increases average response by",
          "First_Time_Buyer = Yes<br>increases average response by",
          "Stock_Status = Available<br>increases average response by",
          "Income = LOW<br>increases average response by",
          "Finances_Status = Cash Purchase<br>increases average response by",
          "+ all other factors<br>decreases average response by",
          "Average response: 0.25<br>Prediction: 0.0"
         ],
         "increasing": {
          "marker": {
           "color": "#8bdcbe"
          }
         },
         "measure": [
          "relative",
          "relative",
          "relative",
          "relative",
          "relative",
          "relative",
          "relative",
          "relative",
          "relative",
          "relative",
          "relative",
          "relative",
          "total"
         ],
         "orientation": "h",
         "showlegend": false,
         "text": [
          "0.25",
          "0.0",
          "+0.001",
          "+0.003",
          "+0.019",
          "+0.041",
          "+0.001",
          "+0.042",
          "+0.041",
          "+0.021",
          "+0.03",
          "-0.449",
          "0.0"
         ],
         "textposition": "outside",
         "totals": {
          "marker": {
           "color": "#371ea3"
          }
         },
         "type": "waterfall",
         "x": [
          0,
          0,
          0.001,
          0.003,
          0.019,
          0.041,
          0.001,
          0.042,
          0.041,
          0.021,
          0.03,
          -0.449,
          -0.25
         ],
         "xaxis": "x",
         "y": [
          "intercept",
          "Age = YOUNG",
          "Undecided_Finances = No",
          "Experience_With_Sales_Rep = Negative",
          "Vehicle_Type = Hatchback",
          "CIBIL_Score = MEDIUM",
          "Add_Ons = LOW",
          "First_Time_Buyer = Yes",
          "Stock_Status = Available",
          "Income = LOW",
          "Finances_Status = Cash Purchase",
          "+ all other factors",
          "prediction"
         ],
         "yaxis": "y"
        }
       ],
       "layout": {
        "annotations": [
         {
          "font": {
           "size": 16
          },
          "showarrow": false,
          "text": "BinaryResultsWrapper",
          "x": 0.5,
          "xanchor": "center",
          "xref": "paper",
          "y": 1,
          "yanchor": "bottom",
          "yref": "paper"
         },
         {
          "font": {
           "size": 16
          },
          "showarrow": false,
          "text": "contribution",
          "x": 0.5,
          "xanchor": "center",
          "xref": "paper",
          "y": 0,
          "yanchor": "top",
          "yref": "paper",
          "yshift": -30
         }
        ],
        "font": {
         "color": "#371ea3"
        },
        "height": 413,
        "margin": {
         "b": 71,
         "r": 30,
         "t": 78
        },
        "shapes": [
         {
          "line": {
           "color": "#371ea3",
           "dash": "dot",
           "width": 1.5
          },
          "type": "line",
          "x0": 0.24999660329148962,
          "x1": 0.24999660329148962,
          "xref": "x",
          "y0": -1,
          "y1": 13,
          "yref": "y"
         }
        ],
        "template": {
         "data": {
          "scatter": [
           {
            "type": "scatter"
           }
          ]
         }
        },
        "title": {
         "text": "Anjali Verma",
         "x": 0.15
        },
        "xaxis": {
         "anchor": "y",
         "automargin": true,
         "domain": [
          0,
          1
         ],
         "fixedrange": true,
         "gridwidth": 2,
         "range": [
          -0.06735,
          0.51635
         ],
         "tickcolor": "white",
         "ticklen": 3,
         "ticks": "outside",
         "type": "linear",
         "zeroline": false
        },
        "yaxis": {
         "anchor": "x",
         "automargin": true,
         "autorange": "reversed",
         "domain": [
          0,
          1
         ],
         "fixedrange": true,
         "gridwidth": 2,
         "tickcolor": "white",
         "ticklen": 10,
         "ticks": "outside",
         "type": "category"
        }
       }
      }
     },
     "metadata": {},
     "output_type": "display_data"
    },
    {
     "data": {
      "application/vnd.plotly.v1+json": {
       "config": {
        "displaylogo": false,
        "modeBarButtonsToRemove": [
         "sendDataToCloud",
         "lasso2d",
         "autoScale2d",
         "select2d",
         "zoom2d",
         "pan2d",
         "zoomIn2d",
         "zoomOut2d",
         "resetScale2d",
         "toggleSpikelines",
         "hoverCompareCartesian",
         "hoverClosestCartesian"
        ],
        "plotlyServerURL": "https://plot.ly",
        "staticPlot": false,
        "toImageButtonOptions": {
         "height": null,
         "width": null
        }
       },
       "data": [
        {
         "base": 0.24999660329148962,
         "connector": {
          "line": {
           "color": "#371ea3",
           "dash": "solid",
           "width": 1
          },
          "mode": "spanning"
         },
         "decreasing": {
          "marker": {
           "color": "#f05a71"
          }
         },
         "hoverinfo": "text+delta",
         "hoverlabel": {
          "bgcolor": "rgba(0,0,0,0.8)"
         },
         "hovertext": [
          "Average response: 0.25<br>Prediction: 1.0",
          "Companion_Feedback = Positive<br>increases average response by",
          "Lead_Source = Online<br>increases average response by",
          "OEM_Loyalty_Program = Yes<br>increases average response by",
          "Test_Drive_Status = Completed<br>increases average response by",
          "Booking_Lead_Time = LOW<br>increases average response by",
          "Preferred_Delivery_Time = Morning<br>increases average response by",
          "Special_Occasions = Wedding<br>increases average response by",
          "Competitive_Factors = Low<br>increases average response by",
          "Finances_Status = Approved Loans<br>increases average response by",
          "Dealership_Engagement = High<br>increases average response by",
          "+ all other factors<br>increases average response by",
          "Average response: 0.25<br>Prediction: 1.0"
         ],
         "increasing": {
          "marker": {
           "color": "#8bdcbe"
          }
         },
         "measure": [
          "relative",
          "relative",
          "relative",
          "relative",
          "relative",
          "relative",
          "relative",
          "relative",
          "relative",
          "relative",
          "relative",
          "relative",
          "total"
         ],
         "orientation": "h",
         "showlegend": false,
         "text": [
          "0.25",
          "+0.058",
          "+0.011",
          "+0.009",
          "+0.065",
          "+0.063",
          "+0.072",
          "+0.064",
          "+0.14",
          "+0.093",
          "+0.06",
          "+0.117",
          "1.0"
         ],
         "textposition": "outside",
         "totals": {
          "marker": {
           "color": "#371ea3"
          }
         },
         "type": "waterfall",
         "x": [
          0,
          0.058,
          0.011,
          0.009,
          0.065,
          0.063,
          0.072,
          0.064,
          0.14,
          0.093,
          0.06,
          0.117,
          0.75
         ],
         "xaxis": "x",
         "y": [
          "intercept",
          "Companion_Feedback = Positive",
          "Lead_Source = Online",
          "OEM_Loyalty_Program = Yes",
          "Test_Drive_Status = Completed",
          "Booking_Lead_Time = LOW",
          "Preferred_Delivery_Time = Morning",
          "Special_Occasions = Wedding",
          "Competitive_Factors = Low",
          "Finances_Status = Approved Loans",
          "Dealership_Engagement = High",
          "+ all other factors",
          "prediction"
         ],
         "yaxis": "y"
        }
       ],
       "layout": {
        "annotations": [
         {
          "font": {
           "size": 16
          },
          "showarrow": false,
          "text": "BinaryResultsWrapper",
          "x": 0.5,
          "xanchor": "center",
          "xref": "paper",
          "y": 1,
          "yanchor": "bottom",
          "yref": "paper"
         },
         {
          "font": {
           "size": 16
          },
          "showarrow": false,
          "text": "contribution",
          "x": 0.5,
          "xanchor": "center",
          "xref": "paper",
          "y": 0,
          "yanchor": "top",
          "yref": "paper",
          "yshift": -30
         }
        ],
        "font": {
         "color": "#371ea3"
        },
        "height": 413,
        "margin": {
         "b": 71,
         "r": 30,
         "t": 78
        },
        "shapes": [
         {
          "line": {
           "color": "#371ea3",
           "dash": "dot",
           "width": 1.5
          },
          "type": "line",
          "x0": 0.24999660329148962,
          "x1": 0.24999660329148962,
          "xref": "x",
          "y0": -1,
          "y1": 13,
          "yref": "y"
         }
        ],
        "template": {
         "data": {
          "scatter": [
           {
            "type": "scatter"
           }
          ]
         }
        },
        "title": {
         "text": "Sanjay Gupta",
         "x": 0.15
        },
        "xaxis": {
         "anchor": "y",
         "automargin": true,
         "domain": [
          0,
          1
         ],
         "fixedrange": true,
         "gridwidth": 2,
         "range": [
          0.1375,
          1.1125
         ],
         "tickcolor": "white",
         "ticklen": 3,
         "ticks": "outside",
         "type": "linear",
         "zeroline": false
        },
        "yaxis": {
         "anchor": "x",
         "automargin": true,
         "autorange": "reversed",
         "domain": [
          0,
          1
         ],
         "fixedrange": true,
         "gridwidth": 2,
         "tickcolor": "white",
         "ticklen": 10,
         "ticks": "outside",
         "type": "category"
        }
       }
      }
     },
     "metadata": {},
     "output_type": "display_data"
    },
    {
     "data": {
      "application/vnd.plotly.v1+json": {
       "config": {
        "displaylogo": false,
        "modeBarButtonsToRemove": [
         "sendDataToCloud",
         "lasso2d",
         "autoScale2d",
         "select2d",
         "zoom2d",
         "pan2d",
         "zoomIn2d",
         "zoomOut2d",
         "resetScale2d",
         "toggleSpikelines",
         "hoverCompareCartesian",
         "hoverClosestCartesian"
        ],
        "plotlyServerURL": "https://plot.ly",
        "staticPlot": false,
        "toImageButtonOptions": {
         "height": null,
         "width": null
        }
       },
       "data": [
        {
         "base": 0.24999660329148962,
         "connector": {
          "line": {
           "color": "#371ea3",
           "dash": "solid",
           "width": 1
          },
          "mode": "spanning"
         },
         "decreasing": {
          "marker": {
           "color": "#f05a71"
          }
         },
         "hoverinfo": "text+delta",
         "hoverlabel": {
          "bgcolor": "rgba(0,0,0,0.8)"
         },
         "hovertext": [
          "Average response: 0.25<br>Prediction: 0.0",
          "Age = YOUNG<br>decreases average response by",
          "Test_Drive_Status = Completed<br>increases average response by",
          "Undecided_Finances = No<br>increases average response by",
          "Special_Occasions = Festival<br>increases average response by",
          "Add_Ons = LOW<br>decreases average response by",
          "Finances_Status = Cash Purchase<br>increases average response by",
          "External_Factors = Medium<br>decreases average response by",
          "Experience_With_Sales_Rep = Neutral<br>decreases average response by",
          "Gender = Female<br>decreases average response by",
          "CIBIL_Score = HIGH<br>increases average response by",
          "+ all other factors<br>decreases average response by",
          "Average response: 0.25<br>Prediction: 0.0"
         ],
         "increasing": {
          "marker": {
           "color": "#8bdcbe"
          }
         },
         "measure": [
          "relative",
          "relative",
          "relative",
          "relative",
          "relative",
          "relative",
          "relative",
          "relative",
          "relative",
          "relative",
          "relative",
          "relative",
          "total"
         ],
         "orientation": "h",
         "showlegend": false,
         "text": [
          "0.25",
          "0.0",
          "+0.029",
          "+0.001",
          "+0.019",
          "0.0",
          "+0.012",
          "-0.012",
          "-0.002",
          "-0.007",
          "+0.004",
          "-0.294",
          "0.0"
         ],
         "textposition": "outside",
         "totals": {
          "marker": {
           "color": "#371ea3"
          }
         },
         "type": "waterfall",
         "x": [
          0,
          0,
          0.029,
          0.001,
          0.019,
          0,
          0.012,
          -0.012,
          -0.002,
          -0.007,
          0.004,
          -0.294,
          -0.25
         ],
         "xaxis": "x",
         "y": [
          "intercept",
          "Age = YOUNG",
          "Test_Drive_Status = Completed",
          "Undecided_Finances = No",
          "Special_Occasions = Festival",
          "Add_Ons = LOW",
          "Finances_Status = Cash Purchase",
          "External_Factors = Medium",
          "Experience_With_Sales_Rep = Neutral",
          "Gender = Female",
          "CIBIL_Score = HIGH",
          "+ all other factors",
          "prediction"
         ],
         "yaxis": "y"
        }
       ],
       "layout": {
        "annotations": [
         {
          "font": {
           "size": 16
          },
          "showarrow": false,
          "text": "BinaryResultsWrapper",
          "x": 0.5,
          "xanchor": "center",
          "xref": "paper",
          "y": 1,
          "yanchor": "bottom",
          "yref": "paper"
         },
         {
          "font": {
           "size": 16
          },
          "showarrow": false,
          "text": "contribution",
          "x": 0.5,
          "xanchor": "center",
          "xref": "paper",
          "y": 0,
          "yanchor": "top",
          "yref": "paper",
          "yshift": -30
         }
        ],
        "font": {
         "color": "#371ea3"
        },
        "height": 413,
        "margin": {
         "b": 71,
         "r": 30,
         "t": 78
        },
        "shapes": [
         {
          "line": {
           "color": "#371ea3",
           "dash": "dot",
           "width": 1.5
          },
          "type": "line",
          "x0": 0.24999660329148962,
          "x1": 0.24999660329148962,
          "xref": "x",
          "y0": -1,
          "y1": 13,
          "yref": "y"
         }
        ],
        "template": {
         "data": {
          "scatter": [
           {
            "type": "scatter"
           }
          ]
         }
        },
        "title": {
         "text": "Meera Kapoor",
         "x": 0.15
        },
        "xaxis": {
         "anchor": "y",
         "automargin": true,
         "domain": [
          0,
          1
         ],
         "fixedrange": true,
         "gridwidth": 2,
         "range": [
          -0.04665,
          0.35765
         ],
         "tickcolor": "white",
         "ticklen": 3,
         "ticks": "outside",
         "type": "linear",
         "zeroline": false
        },
        "yaxis": {
         "anchor": "x",
         "automargin": true,
         "autorange": "reversed",
         "domain": [
          0,
          1
         ],
         "fixedrange": true,
         "gridwidth": 2,
         "tickcolor": "white",
         "ticklen": 10,
         "ticks": "outside",
         "type": "category"
        }
       }
      }
     },
     "metadata": {},
     "output_type": "display_data"
    },
    {
     "data": {
      "application/vnd.plotly.v1+json": {
       "config": {
        "displaylogo": false,
        "modeBarButtonsToRemove": [
         "sendDataToCloud",
         "lasso2d",
         "autoScale2d",
         "select2d",
         "zoom2d",
         "pan2d",
         "zoomIn2d",
         "zoomOut2d",
         "resetScale2d",
         "toggleSpikelines",
         "hoverCompareCartesian",
         "hoverClosestCartesian"
        ],
        "plotlyServerURL": "https://plot.ly",
        "staticPlot": false,
        "toImageButtonOptions": {
         "height": null,
         "width": null
        }
       },
       "data": [
        {
         "base": 0.24999660329148962,
         "connector": {
          "line": {
           "color": "#371ea3",
           "dash": "solid",
           "width": 1
          },
          "mode": "spanning"
         },
         "decreasing": {
          "marker": {
           "color": "#f05a71"
          }
         },
         "hoverinfo": "text+delta",
         "hoverlabel": {
          "bgcolor": "rgba(0,0,0,0.8)"
         },
         "hovertext": [
          "Average response: 0.25<br>Prediction: 0.0",
          "Companion_Feedback = Positive<br>increases average response by",
          "OEM_Loyalty_Program = Yes<br>increases average response by",
          "Test_Drive_Status = Completed<br>increases average response by",
          "Booking_Lead_Time = LOW<br>increases average response by",
          "Special_Occasions = Festival<br>increases average response by",
          "Vehicle_Type = Hatchback<br>increases average response by",
          "Dealership_Engagement = High<br>increases average response by",
          "Add_Ons = LOW<br>decreases average response by",
          "First_Time_Buyer = Yes<br>increases average response by",
          "External_Factors = High<br>increases average response by",
          "+ all other factors<br>decreases average response by",
          "Average response: 0.25<br>Prediction: 0.0"
         ],
         "increasing": {
          "marker": {
           "color": "#8bdcbe"
          }
         },
         "measure": [
          "relative",
          "relative",
          "relative",
          "relative",
          "relative",
          "relative",
          "relative",
          "relative",
          "relative",
          "relative",
          "relative",
          "relative",
          "total"
         ],
         "orientation": "h",
         "showlegend": false,
         "text": [
          "0.25",
          "+0.058",
          "+0.011",
          "+0.032",
          "+0.022",
          "+0.076",
          "+0.013",
          "+0.016",
          "0.0",
          "+0.008",
          "+0.009",
          "-0.494",
          "0.0"
         ],
         "textposition": "outside",
         "totals": {
          "marker": {
           "color": "#371ea3"
          }
         },
         "type": "waterfall",
         "x": [
          0,
          0.058,
          0.011,
          0.032,
          0.022,
          0.076,
          0.013,
          0.016,
          0,
          0.008,
          0.009,
          -0.494,
          -0.25
         ],
         "xaxis": "x",
         "y": [
          "intercept",
          "Companion_Feedback = Positive",
          "OEM_Loyalty_Program = Yes",
          "Test_Drive_Status = Completed",
          "Booking_Lead_Time = LOW",
          "Special_Occasions = Festival",
          "Vehicle_Type = Hatchback",
          "Dealership_Engagement = High",
          "Add_Ons = LOW",
          "First_Time_Buyer = Yes",
          "External_Factors = High",
          "+ all other factors",
          "prediction"
         ],
         "yaxis": "y"
        }
       ],
       "layout": {
        "annotations": [
         {
          "font": {
           "size": 16
          },
          "showarrow": false,
          "text": "BinaryResultsWrapper",
          "x": 0.5,
          "xanchor": "center",
          "xref": "paper",
          "y": 1,
          "yanchor": "bottom",
          "yref": "paper"
         },
         {
          "font": {
           "size": 16
          },
          "showarrow": false,
          "text": "contribution",
          "x": 0.5,
          "xanchor": "center",
          "xref": "paper",
          "y": 0,
          "yanchor": "top",
          "yref": "paper",
          "yshift": -30
         }
        ],
        "font": {
         "color": "#371ea3"
        },
        "height": 413,
        "margin": {
         "b": 71,
         "r": 30,
         "t": 78
        },
        "shapes": [
         {
          "line": {
           "color": "#371ea3",
           "dash": "dot",
           "width": 1.5
          },
          "type": "line",
          "x0": 0.24999660329148962,
          "x1": 0.24999660329148962,
          "xref": "x",
          "y0": -1,
          "y1": 13,
          "yref": "y"
         }
        ],
        "template": {
         "data": {
          "scatter": [
           {
            "type": "scatter"
           }
          ]
         }
        },
        "title": {
         "text": "Arjun Nair",
         "x": 0.15
        },
        "xaxis": {
         "anchor": "y",
         "automargin": true,
         "domain": [
          0,
          1
         ],
         "fixedrange": true,
         "gridwidth": 2,
         "range": [
          -0.0741,
          0.5681
         ],
         "tickcolor": "white",
         "ticklen": 3,
         "ticks": "outside",
         "type": "linear",
         "zeroline": false
        },
        "yaxis": {
         "anchor": "x",
         "automargin": true,
         "autorange": "reversed",
         "domain": [
          0,
          1
         ],
         "fixedrange": true,
         "gridwidth": 2,
         "tickcolor": "white",
         "ticklen": 10,
         "ticks": "outside",
         "type": "category"
        }
       }
      }
     },
     "metadata": {},
     "output_type": "display_data"
    },
    {
     "data": {
      "application/vnd.plotly.v1+json": {
       "config": {
        "displaylogo": false,
        "modeBarButtonsToRemove": [
         "sendDataToCloud",
         "lasso2d",
         "autoScale2d",
         "select2d",
         "zoom2d",
         "pan2d",
         "zoomIn2d",
         "zoomOut2d",
         "resetScale2d",
         "toggleSpikelines",
         "hoverCompareCartesian",
         "hoverClosestCartesian"
        ],
        "plotlyServerURL": "https://plot.ly",
        "staticPlot": false,
        "toImageButtonOptions": {
         "height": null,
         "width": null
        }
       },
       "data": [
        {
         "base": 0.24999660329148962,
         "connector": {
          "line": {
           "color": "#371ea3",
           "dash": "solid",
           "width": 1
          },
          "mode": "spanning"
         },
         "decreasing": {
          "marker": {
           "color": "#f05a71"
          }
         },
         "hoverinfo": "text+delta",
         "hoverlabel": {
          "bgcolor": "rgba(0,0,0,0.8)"
         },
         "hovertext": [
          "Average response: 0.25<br>Prediction: 0.0",
          "Age = YOUNG<br>decreases average response by",
          "Lead_Source = Online<br>increases average response by",
          "Preferred_Delivery_Time = Morning<br>increases average response by",
          "Experience_With_Sales_Rep = Negative<br>increases average response by",
          "External_Factors = Low<br>increases average response by",
          "Add_Ons = LOW<br>increases average response by",
          "Stock_Status = Available<br>increases average response by",
          "Income = LOW<br>increases average response by",
          "Dealership_Engagement = Low<br>increases average response by",
          "Delivery_Date_Status = On-Time<br>increases average response by",
          "+ all other factors<br>decreases average response by",
          "Average response: 0.25<br>Prediction: 0.0"
         ],
         "increasing": {
          "marker": {
           "color": "#8bdcbe"
          }
         },
         "measure": [
          "relative",
          "relative",
          "relative",
          "relative",
          "relative",
          "relative",
          "relative",
          "relative",
          "relative",
          "relative",
          "relative",
          "relative",
          "total"
         ],
         "orientation": "h",
         "showlegend": false,
         "text": [
          "0.25",
          "0.0",
          "+0.027",
          "+0.074",
          "+0.031",
          "+0.023",
          "+0.022",
          "+0.011",
          "+0.026",
          "+0.032",
          "+0.019",
          "-0.515",
          "0.0"
         ],
         "textposition": "outside",
         "totals": {
          "marker": {
           "color": "#371ea3"
          }
         },
         "type": "waterfall",
         "x": [
          0,
          0,
          0.027,
          0.074,
          0.031,
          0.023,
          0.022,
          0.011,
          0.026,
          0.032,
          0.019,
          -0.515,
          -0.25
         ],
         "xaxis": "x",
         "y": [
          "intercept",
          "Age = YOUNG",
          "Lead_Source = Online",
          "Preferred_Delivery_Time = Morning",
          "Experience_With_Sales_Rep = Negative",
          "External_Factors = Low",
          "Add_Ons = LOW",
          "Stock_Status = Available",
          "Income = LOW",
          "Dealership_Engagement = Low",
          "Delivery_Date_Status = On-Time",
          "+ all other factors",
          "prediction"
         ],
         "yaxis": "y"
        }
       ],
       "layout": {
        "annotations": [
         {
          "font": {
           "size": 16
          },
          "showarrow": false,
          "text": "BinaryResultsWrapper",
          "x": 0.5,
          "xanchor": "center",
          "xref": "paper",
          "y": 1,
          "yanchor": "bottom",
          "yref": "paper"
         },
         {
          "font": {
           "size": 16
          },
          "showarrow": false,
          "text": "contribution",
          "x": 0.5,
          "xanchor": "center",
          "xref": "paper",
          "y": 0,
          "yanchor": "top",
          "yref": "paper",
          "yshift": -30
         }
        ],
        "font": {
         "color": "#371ea3"
        },
        "height": 413,
        "margin": {
         "b": 71,
         "r": 30,
         "t": 78
        },
        "shapes": [
         {
          "line": {
           "color": "#371ea3",
           "dash": "dot",
           "width": 1.5
          },
          "type": "line",
          "x0": 0.24999660329148962,
          "x1": 0.24999660329148962,
          "xref": "x",
          "y0": -1,
          "y1": 13,
          "yref": "y"
         }
        ],
        "template": {
         "data": {
          "scatter": [
           {
            "type": "scatter"
           }
          ]
         }
        },
        "title": {
         "text": "Sneha Kulkarni",
         "x": 0.15
        },
        "xaxis": {
         "anchor": "y",
         "automargin": true,
         "domain": [
          0,
          1
         ],
         "fixedrange": true,
         "gridwidth": 2,
         "range": [
          -0.07725,
          0.59225
         ],
         "tickcolor": "white",
         "ticklen": 3,
         "ticks": "outside",
         "type": "linear",
         "zeroline": false
        },
        "yaxis": {
         "anchor": "x",
         "automargin": true,
         "autorange": "reversed",
         "domain": [
          0,
          1
         ],
         "fixedrange": true,
         "gridwidth": 2,
         "tickcolor": "white",
         "ticklen": 10,
         "ticks": "outside",
         "type": "category"
        }
       }
      }
     },
     "metadata": {},
     "output_type": "display_data"
    },
    {
     "data": {
      "application/vnd.plotly.v1+json": {
       "config": {
        "displaylogo": false,
        "modeBarButtonsToRemove": [
         "sendDataToCloud",
         "lasso2d",
         "autoScale2d",
         "select2d",
         "zoom2d",
         "pan2d",
         "zoomIn2d",
         "zoomOut2d",
         "resetScale2d",
         "toggleSpikelines",
         "hoverCompareCartesian",
         "hoverClosestCartesian"
        ],
        "plotlyServerURL": "https://plot.ly",
        "staticPlot": false,
        "toImageButtonOptions": {
         "height": null,
         "width": null
        }
       },
       "data": [
        {
         "base": 0.24999660329148962,
         "connector": {
          "line": {
           "color": "#371ea3",
           "dash": "solid",
           "width": 1
          },
          "mode": "spanning"
         },
         "decreasing": {
          "marker": {
           "color": "#f05a71"
          }
         },
         "hoverinfo": "text+delta",
         "hoverlabel": {
          "bgcolor": "rgba(0,0,0,0.8)"
         },
         "hovertext": [
          "Average response: 0.25<br>Prediction: 1.0",
          "Companion_Feedback = Positive<br>increases average response by",
          "Age = YOUNG<br>increases average response by",
          "OEM_Loyalty_Program = Yes<br>increases average response by",
          "Test_Drive_Status = Completed<br>increases average response by",
          "Booking_Lead_Time = LOW<br>increases average response by",
          "Undecided_Finances = No<br>increases average response by",
          "Down_Payment = HIGH<br>increases average response by",
          "Competitive_Factors = Low<br>increases average response by",
          "Special_Occasions = Festival<br>increases average response by",
          "Add_Ons = LOW<br>decreases average response by",
          "+ all other factors<br>increases average response by",
          "Average response: 0.25<br>Prediction: 1.0"
         ],
         "increasing": {
          "marker": {
           "color": "#8bdcbe"
          }
         },
         "measure": [
          "relative",
          "relative",
          "relative",
          "relative",
          "relative",
          "relative",
          "relative",
          "relative",
          "relative",
          "relative",
          "relative",
          "relative",
          "total"
         ],
         "orientation": "h",
         "showlegend": false,
         "text": [
          "0.25",
          "+0.058",
          "+0.039",
          "+0.004",
          "+0.032",
          "+0.025",
          "+0.116",
          "+0.037",
          "+0.06",
          "+0.048",
          "0.0",
          "+0.331",
          "1.0"
         ],
         "textposition": "outside",
         "totals": {
          "marker": {
           "color": "#371ea3"
          }
         },
         "type": "waterfall",
         "x": [
          0,
          0.058,
          0.039,
          0.004,
          0.032,
          0.025,
          0.116,
          0.037,
          0.06,
          0.048,
          0,
          0.331,
          0.75
         ],
         "xaxis": "x",
         "y": [
          "intercept",
          "Companion_Feedback = Positive",
          "Age = YOUNG",
          "OEM_Loyalty_Program = Yes",
          "Test_Drive_Status = Completed",
          "Booking_Lead_Time = LOW",
          "Undecided_Finances = No",
          "Down_Payment = HIGH",
          "Competitive_Factors = Low",
          "Special_Occasions = Festival",
          "Add_Ons = LOW",
          "+ all other factors",
          "prediction"
         ],
         "yaxis": "y"
        }
       ],
       "layout": {
        "annotations": [
         {
          "font": {
           "size": 16
          },
          "showarrow": false,
          "text": "BinaryResultsWrapper",
          "x": 0.5,
          "xanchor": "center",
          "xref": "paper",
          "y": 1,
          "yanchor": "bottom",
          "yref": "paper"
         },
         {
          "font": {
           "size": 16
          },
          "showarrow": false,
          "text": "contribution",
          "x": 0.5,
          "xanchor": "center",
          "xref": "paper",
          "y": 0,
          "yanchor": "top",
          "yref": "paper",
          "yshift": -30
         }
        ],
        "font": {
         "color": "#371ea3"
        },
        "height": 413,
        "margin": {
         "b": 71,
         "r": 30,
         "t": 78
        },
        "shapes": [
         {
          "line": {
           "color": "#371ea3",
           "dash": "dot",
           "width": 1.5
          },
          "type": "line",
          "x0": 0.24999660329148962,
          "x1": 0.24999660329148962,
          "xref": "x",
          "y0": -1,
          "y1": 13,
          "yref": "y"
         }
        ],
        "template": {
         "data": {
          "scatter": [
           {
            "type": "scatter"
           }
          ]
         }
        },
        "title": {
         "text": "Rahul Desai",
         "x": 0.15
        },
        "xaxis": {
         "anchor": "y",
         "automargin": true,
         "domain": [
          0,
          1
         ],
         "fixedrange": true,
         "gridwidth": 2,
         "range": [
          0.1375,
          1.1125
         ],
         "tickcolor": "white",
         "ticklen": 3,
         "ticks": "outside",
         "type": "linear",
         "zeroline": false
        },
        "yaxis": {
         "anchor": "x",
         "automargin": true,
         "autorange": "reversed",
         "domain": [
          0,
          1
         ],
         "fixedrange": true,
         "gridwidth": 2,
         "tickcolor": "white",
         "ticklen": 10,
         "ticks": "outside",
         "type": "category"
        }
       }
      }
     },
     "metadata": {},
     "output_type": "display_data"
    },
    {
     "data": {
      "application/vnd.plotly.v1+json": {
       "config": {
        "displaylogo": false,
        "modeBarButtonsToRemove": [
         "sendDataToCloud",
         "lasso2d",
         "autoScale2d",
         "select2d",
         "zoom2d",
         "pan2d",
         "zoomIn2d",
         "zoomOut2d",
         "resetScale2d",
         "toggleSpikelines",
         "hoverCompareCartesian",
         "hoverClosestCartesian"
        ],
        "plotlyServerURL": "https://plot.ly",
        "staticPlot": false,
        "toImageButtonOptions": {
         "height": null,
         "width": null
        }
       },
       "data": [
        {
         "base": 0.24999660329148962,
         "connector": {
          "line": {
           "color": "#371ea3",
           "dash": "solid",
           "width": 1
          },
          "mode": "spanning"
         },
         "decreasing": {
          "marker": {
           "color": "#f05a71"
          }
         },
         "hoverinfo": "text+delta",
         "hoverlabel": {
          "bgcolor": "rgba(0,0,0,0.8)"
         },
         "hovertext": [
          "Average response: 0.25<br>Prediction: 1.0",
          "Companion_Feedback = Positive<br>increases average response by",
          "Lead_Source = Online<br>increases average response by",
          "OEM_Loyalty_Program = Yes<br>increases average response by",
          "Test_Drive_Status = Completed<br>increases average response by",
          "Booking_Lead_Time = LOW<br>increases average response by",
          "Preferred_Delivery_Time = Morning<br>increases average response by",
          "Undecided_Finances = No<br>increases average response by",
          "Special_Occasions = Wedding<br>increases average response by",
          "Competitive_Factors = Low<br>increases average response by",
          "Finances_Status = Approved Loans<br>increases average response by",
          "+ all other factors<br>increases average response by",
          "Average response: 0.25<br>Prediction: 1.0"
         ],
         "increasing": {
          "marker": {
           "color": "#8bdcbe"
          }
         },
         "measure": [
          "relative",
          "relative",
          "relative",
          "relative",
          "relative",
          "relative",
          "relative",
          "relative",
          "relative",
          "relative",
          "relative",
          "relative",
          "total"
         ],
         "orientation": "h",
         "showlegend": false,
         "text": [
          "0.25",
          "+0.058",
          "+0.011",
          "+0.009",
          "+0.065",
          "+0.063",
          "+0.072",
          "+0.142",
          "+0.029",
          "+0.146",
          "+0.062",
          "+0.093",
          "1.0"
         ],
         "textposition": "outside",
         "totals": {
          "marker": {
           "color": "#371ea3"
          }
         },
         "type": "waterfall",
         "x": [
          0,
          0.058,
          0.011,
          0.009,
          0.065,
          0.063,
          0.072,
          0.142,
          0.029,
          0.146,
          0.062,
          0.093,
          0.75
         ],
         "xaxis": "x",
         "y": [
          "intercept",
          "Companion_Feedback = Positive",
          "Lead_Source = Online",
          "OEM_Loyalty_Program = Yes",
          "Test_Drive_Status = Completed",
          "Booking_Lead_Time = LOW",
          "Preferred_Delivery_Time = Morning",
          "Undecided_Finances = No",
          "Special_Occasions = Wedding",
          "Competitive_Factors = Low",
          "Finances_Status = Approved Loans",
          "+ all other factors",
          "prediction"
         ],
         "yaxis": "y"
        }
       ],
       "layout": {
        "annotations": [
         {
          "font": {
           "size": 16
          },
          "showarrow": false,
          "text": "BinaryResultsWrapper",
          "x": 0.5,
          "xanchor": "center",
          "xref": "paper",
          "y": 1,
          "yanchor": "bottom",
          "yref": "paper"
         },
         {
          "font": {
           "size": 16
          },
          "showarrow": false,
          "text": "contribution",
          "x": 0.5,
          "xanchor": "center",
          "xref": "paper",
          "y": 0,
          "yanchor": "top",
          "yref": "paper",
          "yshift": -30
         }
        ],
        "font": {
         "color": "#371ea3"
        },
        "height": 413,
        "margin": {
         "b": 71,
         "r": 30,
         "t": 78
        },
        "shapes": [
         {
          "line": {
           "color": "#371ea3",
           "dash": "dot",
           "width": 1.5
          },
          "type": "line",
          "x0": 0.24999660329148962,
          "x1": 0.24999660329148962,
          "xref": "x",
          "y0": -1,
          "y1": 13,
          "yref": "y"
         }
        ],
        "template": {
         "data": {
          "scatter": [
           {
            "type": "scatter"
           }
          ]
         }
        },
        "title": {
         "text": "Kavita Singh",
         "x": 0.15
        },
        "xaxis": {
         "anchor": "y",
         "automargin": true,
         "domain": [
          0,
          1
         ],
         "fixedrange": true,
         "gridwidth": 2,
         "range": [
          0.1375,
          1.1125
         ],
         "tickcolor": "white",
         "ticklen": 3,
         "ticks": "outside",
         "type": "linear",
         "zeroline": false
        },
        "yaxis": {
         "anchor": "x",
         "automargin": true,
         "autorange": "reversed",
         "domain": [
          0,
          1
         ],
         "fixedrange": true,
         "gridwidth": 2,
         "tickcolor": "white",
         "ticklen": 10,
         "ticks": "outside",
         "type": "category"
        }
       }
      }
     },
     "metadata": {},
     "output_type": "display_data"
    },
    {
     "data": {
      "application/vnd.plotly.v1+json": {
       "config": {
        "displaylogo": false,
        "modeBarButtonsToRemove": [
         "sendDataToCloud",
         "lasso2d",
         "autoScale2d",
         "select2d",
         "zoom2d",
         "pan2d",
         "zoomIn2d",
         "zoomOut2d",
         "resetScale2d",
         "toggleSpikelines",
         "hoverCompareCartesian",
         "hoverClosestCartesian"
        ],
        "plotlyServerURL": "https://plot.ly",
        "staticPlot": false,
        "toImageButtonOptions": {
         "height": null,
         "width": null
        }
       },
       "data": [
        {
         "base": 0.24999660329148962,
         "connector": {
          "line": {
           "color": "#371ea3",
           "dash": "solid",
           "width": 1
          },
          "mode": "spanning"
         },
         "decreasing": {
          "marker": {
           "color": "#f05a71"
          }
         },
         "hoverinfo": "text+delta",
         "hoverlabel": {
          "bgcolor": "rgba(0,0,0,0.8)"
         },
         "hovertext": [
          "Average response: 0.25<br>Prediction: 0.0",
          "Companion_Feedback = Positive<br>increases average response by",
          "Age = YOUNG<br>increases average response by",
          "Test_Drive_Status = Completed<br>increases average response by",
          "Special_Occasions = Festival<br>increases average response by",
          "Add_Ons = LOW<br>increases average response by",
          "Stock_Status = Available<br>decreases average response by",
          "Income = LOW<br>increases average response by",
          "Gender = Male<br>decreases average response by",
          "External_Factors = Medium<br>decreases average response by",
          "Experience_With_Sales_Rep = Neutral<br>decreases average response by",
          "+ all other factors<br>decreases average response by",
          "Average response: 0.25<br>Prediction: 0.0"
         ],
         "increasing": {
          "marker": {
           "color": "#8bdcbe"
          }
         },
         "measure": [
          "relative",
          "relative",
          "relative",
          "relative",
          "relative",
          "relative",
          "relative",
          "relative",
          "relative",
          "relative",
          "relative",
          "relative",
          "total"
         ],
         "orientation": "h",
         "showlegend": false,
         "text": [
          "0.25",
          "+0.058",
          "+0.039",
          "+0.032",
          "+0.019",
          "+0.001",
          "0.0",
          "+0.001",
          "0.0",
          "-0.003",
          "-0.001",
          "-0.396",
          "0.0"
         ],
         "textposition": "outside",
         "totals": {
          "marker": {
           "color": "#371ea3"
          }
         },
         "type": "waterfall",
         "x": [
          0,
          0.058,
          0.039,
          0.032,
          0.019,
          0.001,
          0,
          0.001,
          0,
          -0.003,
          -0.001,
          -0.396,
          -0.25
         ],
         "xaxis": "x",
         "y": [
          "intercept",
          "Companion_Feedback = Positive",
          "Age = YOUNG",
          "Test_Drive_Status = Completed",
          "Special_Occasions = Festival",
          "Add_Ons = LOW",
          "Stock_Status = Available",
          "Income = LOW",
          "Gender = Male",
          "External_Factors = Medium",
          "Experience_With_Sales_Rep = Neutral",
          "+ all other factors",
          "prediction"
         ],
         "yaxis": "y"
        }
       ],
       "layout": {
        "annotations": [
         {
          "font": {
           "size": 16
          },
          "showarrow": false,
          "text": "BinaryResultsWrapper",
          "x": 0.5,
          "xanchor": "center",
          "xref": "paper",
          "y": 1,
          "yanchor": "bottom",
          "yref": "paper"
         },
         {
          "font": {
           "size": 16
          },
          "showarrow": false,
          "text": "contribution",
          "x": 0.5,
          "xanchor": "center",
          "xref": "paper",
          "y": 0,
          "yanchor": "top",
          "yref": "paper",
          "yshift": -30
         }
        ],
        "font": {
         "color": "#371ea3"
        },
        "height": 413,
        "margin": {
         "b": 71,
         "r": 30,
         "t": 78
        },
        "shapes": [
         {
          "line": {
           "color": "#371ea3",
           "dash": "dot",
           "width": 1.5
          },
          "type": "line",
          "x0": 0.24999660329148962,
          "x1": 0.24999660329148962,
          "xref": "x",
          "y0": -1,
          "y1": 13,
          "yref": "y"
         }
        ],
        "template": {
         "data": {
          "scatter": [
           {
            "type": "scatter"
           }
          ]
         }
        },
        "title": {
         "text": "Deepak Sharma",
         "x": 0.15
        },
        "xaxis": {
         "anchor": "y",
         "automargin": true,
         "domain": [
          0,
          1
         ],
         "fixedrange": true,
         "gridwidth": 2,
         "range": [
          -0.06,
          0.46
         ],
         "tickcolor": "white",
         "ticklen": 3,
         "ticks": "outside",
         "type": "linear",
         "zeroline": false
        },
        "yaxis": {
         "anchor": "x",
         "automargin": true,
         "autorange": "reversed",
         "domain": [
          0,
          1
         ],
         "fixedrange": true,
         "gridwidth": 2,
         "tickcolor": "white",
         "ticklen": 10,
         "ticks": "outside",
         "type": "category"
        }
       }
      }
     },
     "metadata": {},
     "output_type": "display_data"
    }
   ],
   "source": [
    "import dalex as dx\n",
    "\n",
    "X= new_df.drop('bciindex', axis=1)\n",
    "y = new_df['bciindex']\n",
    "df_index = pd.read_excel('BCI backup.xlsx', sheet_name='Dummy leads')\n",
    "exp = dx.Explainer(fitted_model, X, y)\n",
    "\n",
    "for i in range(len(X)):\n",
    "    # Get feature importance\n",
    "    breakdown = exp.predict_parts(X.iloc[i], type='break_down', label=X.index[0])\n",
    "    breakdown.plot(title=df_index.iloc[i]['Customer name'])\n",
    "# sh_mary = exp.predict_parts(X.iloc[1], type='shap', B=10, label=X.index[0])"
   ]
  }
 ],
 "metadata": {
  "kernelspec": {
   "display_name": "bcienv",
   "language": "python",
   "name": "python3"
  },
  "language_info": {
   "codemirror_mode": {
    "name": "ipython",
    "version": 3
   },
   "file_extension": ".py",
   "mimetype": "text/x-python",
   "name": "python",
   "nbconvert_exporter": "python",
   "pygments_lexer": "ipython3",
   "version": "3.12.8"
  }
 },
 "nbformat": 4,
 "nbformat_minor": 2
}
