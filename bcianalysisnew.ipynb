{
 "cells": [
  {
   "cell_type": "code",
   "execution_count": 1,
   "metadata": {},
   "outputs": [],
   "source": [
    "import pandas as pd"
   ]
  },
  {
   "cell_type": "code",
   "execution_count": 2,
   "metadata": {},
   "outputs": [
    {
     "name": "stdout",
     "output_type": "stream",
     "text": [
      "<class 'pandas.core.frame.DataFrame'>\n",
      "RangeIndex: 40 entries, 0 to 39\n",
      "Data columns (total 30 columns):\n",
      " #   Column                       Non-Null Count  Dtype \n",
      "---  ------                       --------------  ----- \n",
      " 0   Lead_ID                      40 non-null     object\n",
      " 1   Booking_ID                   40 non-null     object\n",
      " 2   Customer name                40 non-null     object\n",
      " 3   Lead_Source                  40 non-null     object\n",
      " 4   First_Time_Buyer             40 non-null     object\n",
      " 5   Age                          40 non-null     int64 \n",
      " 6   Gender                       40 non-null     object\n",
      " 7   Location                     40 non-null     object\n",
      " 8   Income                       40 non-null     int64 \n",
      " 9   OEM_Loyalty_Program          40 non-null     object\n",
      " 10  Finances_Status              40 non-null     object\n",
      " 11  CIBIL_Score                  40 non-null     int64 \n",
      " 12  Down_Payment                 40 non-null     int64 \n",
      " 13  Undecided_Finances           40 non-null     object\n",
      " 14  Special_Occasions            29 non-null     object\n",
      " 15  Booking_Lead_Time            40 non-null     object\n",
      " 16  Needs_Match                  40 non-null     object\n",
      " 17  Add_Ons                      35 non-null     object\n",
      " 18  Dealership_Engagement        40 non-null     object\n",
      " 19  Experience_With_Sales_Rep    40 non-null     object\n",
      " 20  Companion_Feedback           40 non-null     object\n",
      " 21  Stock_Status                 40 non-null     object\n",
      " 22  Delivery_Date_Status         40 non-null     object\n",
      " 23  Competitive_Factors          40 non-null     object\n",
      " 24  External_Factors             40 non-null     object\n",
      " 25  Customer_Satisfaction_Score  40 non-null     int64 \n",
      " 26  Cancellation_Probability     40 non-null     object\n",
      " 27  Vehicle_Type                 40 non-null     object\n",
      " 28  Test_Drive_Status            40 non-null     object\n",
      " 29  Preferred_Delivery_Time      40 non-null     object\n",
      "dtypes: int64(5), object(25)\n",
      "memory usage: 9.5+ KB\n"
     ]
    }
   ],
   "source": [
    "\n",
    "df = pd.read_excel('BCI backup.xlsx', sheet_name='Dummy leads')\n",
    "df.info()"
   ]
  },
  {
   "cell_type": "code",
   "execution_count": 3,
   "metadata": {},
   "outputs": [
    {
     "name": "stdout",
     "output_type": "stream",
     "text": [
      "<class 'pandas.core.frame.DataFrame'>\n",
      "RangeIndex: 40 entries, 0 to 39\n",
      "Data columns (total 30 columns):\n",
      " #   Column                       Non-Null Count  Dtype \n",
      "---  ------                       --------------  ----- \n",
      " 0   Lead_ID                      40 non-null     object\n",
      " 1   Booking_ID                   40 non-null     object\n",
      " 2   Customer name                40 non-null     object\n",
      " 3   Lead_Source                  40 non-null     object\n",
      " 4   First_Time_Buyer             40 non-null     object\n",
      " 5   Age                          40 non-null     int64 \n",
      " 6   Gender                       40 non-null     object\n",
      " 7   Location                     40 non-null     object\n",
      " 8   Income                       40 non-null     int64 \n",
      " 9   OEM_Loyalty_Program          40 non-null     object\n",
      " 10  Finances_Status              40 non-null     object\n",
      " 11  CIBIL_Score                  40 non-null     int64 \n",
      " 12  Down_Payment                 40 non-null     int64 \n",
      " 13  Undecided_Finances           40 non-null     object\n",
      " 14  Special_Occasions            40 non-null     object\n",
      " 15  Booking_Lead_Time            40 non-null     object\n",
      " 16  Needs_Match                  40 non-null     object\n",
      " 17  Add_Ons                      40 non-null     object\n",
      " 18  Dealership_Engagement        40 non-null     object\n",
      " 19  Experience_With_Sales_Rep    40 non-null     object\n",
      " 20  Companion_Feedback           40 non-null     object\n",
      " 21  Stock_Status                 40 non-null     object\n",
      " 22  Delivery_Date_Status         40 non-null     object\n",
      " 23  Competitive_Factors          40 non-null     object\n",
      " 24  External_Factors             40 non-null     object\n",
      " 25  Customer_Satisfaction_Score  40 non-null     int64 \n",
      " 26  Cancellation_Probability     40 non-null     object\n",
      " 27  Vehicle_Type                 40 non-null     object\n",
      " 28  Test_Drive_Status            40 non-null     object\n",
      " 29  Preferred_Delivery_Time      40 non-null     object\n",
      "dtypes: int64(5), object(25)\n",
      "memory usage: 9.5+ KB\n"
     ]
    }
   ],
   "source": [
    "df = df.fillna('None')\n",
    "df.info()"
   ]
  },
  {
   "cell_type": "code",
   "execution_count": 4,
   "metadata": {},
   "outputs": [
    {
     "name": "stdout",
     "output_type": "stream",
     "text": [
      "bciindex\n",
      "1    21\n",
      "0    19\n",
      "Name: count, dtype: int64\n",
      "0    0\n",
      "1    0\n",
      "2    0\n",
      "3    0\n",
      "4    0\n",
      "Name: bciindex, dtype: int64\n"
     ]
    }
   ],
   "source": [
    "from rules import bci_rules, evaluate_condition\n",
    "\n",
    "def addTargetValue(row):\n",
    "    counts = 0\n",
    "    for i in range(len(bci_rules)):\n",
    "        if evaluate_condition(row[bci_rules[i]['value']], bci_rules[i][\"condition\"]):\n",
    "            counts += 1\n",
    "    if counts >= 11:\n",
    "        return 1\n",
    "    return 0\n",
    "\n",
    "df['bciindex'] = df.apply(lambda row: addTargetValue(row), axis=1)\n",
    "print(df['bciindex'].value_counts())\n",
    "print(df['bciindex'].head())"
   ]
  },
  {
   "cell_type": "code",
   "execution_count": 5,
   "metadata": {},
   "outputs": [
    {
     "name": "stdout",
     "output_type": "stream",
     "text": [
      "0    2\n",
      "1    1\n",
      "2    1\n",
      "3    1\n",
      "4    1\n",
      "Name: Add_Ons, dtype: int64\n",
      "Index(['Age', 'Income', 'Booking_Lead_Time', 'Add_Ons',\n",
      "       'Customer_Satisfaction_Score', 'bciindex'],\n",
      "      dtype='object')\n"
     ]
    }
   ],
   "source": [
    "def checkRows(row):\n",
    "    row['Booking_Lead_Time'] = int(row['Booking_Lead_Time'].replace(' days', ''))\n",
    "    row['Down_Payment'] = 'LOW' if row['Down_Payment'] <= 100000 else 'HIGH'\n",
    "    row['CIBIL_Score'] = 'LOW' if row['CIBIL_Score'] < 650 else 'HIGH'\n",
    "    row['Add_Ons'] = len(row['Add_Ons'].replace(' ', '').split(';'))\n",
    "    return row\n",
    "\n",
    "df = df.apply(checkRows, axis=1)\n",
    "print(df['Add_Ons'].head())\n",
    "df_filtered = df.select_dtypes(include=['int64', 'float64', 'datetime64[ns]'])\n",
    "print(df_filtered.columns)"
   ]
  },
  {
   "cell_type": "code",
   "execution_count": 6,
   "metadata": {},
   "outputs": [
    {
     "data": {
      "text/plain": [
       "0      KID\n",
       "1      KID\n",
       "2    YOUNG\n",
       "3      KID\n",
       "4    YOUNG\n",
       "Name: Age, dtype: category\n",
       "Categories (3, object): ['KID' < 'YOUNG' < 'OLD']"
      ]
     },
     "execution_count": 6,
     "metadata": {},
     "output_type": "execute_result"
    }
   ],
   "source": [
    "age_labels = ['KID', 'YOUNG', 'OLD']\n",
    "df['Age'] = pd.cut(df['Age'], bins=3, labels=age_labels)\n",
    "df['Age'].head()"
   ]
  },
  {
   "cell_type": "code",
   "execution_count": 7,
   "metadata": {},
   "outputs": [
    {
     "data": {
      "text/html": [
       "<div>\n",
       "<style scoped>\n",
       "    .dataframe tbody tr th:only-of-type {\n",
       "        vertical-align: middle;\n",
       "    }\n",
       "\n",
       "    .dataframe tbody tr th {\n",
       "        vertical-align: top;\n",
       "    }\n",
       "\n",
       "    .dataframe thead th {\n",
       "        text-align: right;\n",
       "    }\n",
       "</style>\n",
       "<table border=\"1\" class=\"dataframe\">\n",
       "  <thead>\n",
       "    <tr style=\"text-align: right;\">\n",
       "      <th></th>\n",
       "      <th>Income</th>\n",
       "      <th>Booking_Lead_Time</th>\n",
       "      <th>Add_Ons</th>\n",
       "      <th>Customer_Satisfaction_Score</th>\n",
       "    </tr>\n",
       "  </thead>\n",
       "  <tbody>\n",
       "    <tr>\n",
       "      <th>0</th>\n",
       "      <td>MEDIUM</td>\n",
       "      <td>LOW</td>\n",
       "      <td>MEDIUM</td>\n",
       "      <td>HIGH</td>\n",
       "    </tr>\n",
       "    <tr>\n",
       "      <th>1</th>\n",
       "      <td>HIGH</td>\n",
       "      <td>MEDIUM</td>\n",
       "      <td>LOW</td>\n",
       "      <td>LOW</td>\n",
       "    </tr>\n",
       "    <tr>\n",
       "      <th>2</th>\n",
       "      <td>MEDIUM</td>\n",
       "      <td>LOW</td>\n",
       "      <td>LOW</td>\n",
       "      <td>MEDIUM</td>\n",
       "    </tr>\n",
       "    <tr>\n",
       "      <th>3</th>\n",
       "      <td>LOW</td>\n",
       "      <td>LOW</td>\n",
       "      <td>LOW</td>\n",
       "      <td>LOW</td>\n",
       "    </tr>\n",
       "    <tr>\n",
       "      <th>4</th>\n",
       "      <td>HIGH</td>\n",
       "      <td>HIGH</td>\n",
       "      <td>LOW</td>\n",
       "      <td>HIGH</td>\n",
       "    </tr>\n",
       "  </tbody>\n",
       "</table>\n",
       "</div>"
      ],
      "text/plain": [
       "   Income Booking_Lead_Time Add_Ons Customer_Satisfaction_Score\n",
       "0  MEDIUM               LOW  MEDIUM                        HIGH\n",
       "1    HIGH            MEDIUM     LOW                         LOW\n",
       "2  MEDIUM               LOW     LOW                      MEDIUM\n",
       "3     LOW               LOW     LOW                         LOW\n",
       "4    HIGH              HIGH     LOW                        HIGH"
      ]
     },
     "execution_count": 7,
     "metadata": {},
     "output_type": "execute_result"
    }
   ],
   "source": [
    "other_labels = ['LOW', 'MEDIUM', 'HIGH']\n",
    "df_filtered = df_filtered.drop(['Age', 'bciindex'], axis=1)\n",
    "for i in df_filtered.columns:\n",
    "    df[i] = pd.cut(df[i], bins=3, labels=other_labels)\n",
    "# df[df_filtered.columns] = pd.cut(df[df_filtered.columns], bins=3, labels=other_labels)\n",
    "df[df_filtered.columns].head()"
   ]
  },
  {
   "cell_type": "code",
   "execution_count": 8,
   "metadata": {},
   "outputs": [
    {
     "data": {
      "text/html": [
       "<div>\n",
       "<style scoped>\n",
       "    .dataframe tbody tr th:only-of-type {\n",
       "        vertical-align: middle;\n",
       "    }\n",
       "\n",
       "    .dataframe tbody tr th {\n",
       "        vertical-align: top;\n",
       "    }\n",
       "\n",
       "    .dataframe thead th {\n",
       "        text-align: right;\n",
       "    }\n",
       "</style>\n",
       "<table border=\"1\" class=\"dataframe\">\n",
       "  <thead>\n",
       "    <tr style=\"text-align: right;\">\n",
       "      <th></th>\n",
       "      <th>bciindex</th>\n",
       "    </tr>\n",
       "  </thead>\n",
       "  <tbody>\n",
       "    <tr>\n",
       "      <th>count</th>\n",
       "      <td>40.000000</td>\n",
       "    </tr>\n",
       "    <tr>\n",
       "      <th>mean</th>\n",
       "      <td>0.525000</td>\n",
       "    </tr>\n",
       "    <tr>\n",
       "      <th>std</th>\n",
       "      <td>0.505736</td>\n",
       "    </tr>\n",
       "    <tr>\n",
       "      <th>min</th>\n",
       "      <td>0.000000</td>\n",
       "    </tr>\n",
       "    <tr>\n",
       "      <th>25%</th>\n",
       "      <td>0.000000</td>\n",
       "    </tr>\n",
       "    <tr>\n",
       "      <th>50%</th>\n",
       "      <td>1.000000</td>\n",
       "    </tr>\n",
       "    <tr>\n",
       "      <th>75%</th>\n",
       "      <td>1.000000</td>\n",
       "    </tr>\n",
       "    <tr>\n",
       "      <th>max</th>\n",
       "      <td>1.000000</td>\n",
       "    </tr>\n",
       "  </tbody>\n",
       "</table>\n",
       "</div>"
      ],
      "text/plain": [
       "        bciindex\n",
       "count  40.000000\n",
       "mean    0.525000\n",
       "std     0.505736\n",
       "min     0.000000\n",
       "25%     0.000000\n",
       "50%     1.000000\n",
       "75%     1.000000\n",
       "max     1.000000"
      ]
     },
     "execution_count": 8,
     "metadata": {},
     "output_type": "execute_result"
    }
   ],
   "source": [
    "df.describe()"
   ]
  },
  {
   "cell_type": "code",
   "execution_count": 9,
   "metadata": {},
   "outputs": [],
   "source": [
    "# from scipy import stats\n",
    "\n",
    "# first_time_buyers = df[df['First_Time_Buyer'] == 'Yes']['Customer_Satisfaction_Score']\n",
    "# repeat_customers = df[df['First_Time_Buyer'] == 'No']['Customer_Satisfaction_Score']\n",
    "\n",
    "# t_statistic, p_value = stats.ttest_ind(first_time_buyers, repeat_customers)\n",
    "\n",
    "# print(f\"T-statistic: {t_statistic}, P-value: {p_value}\")"
   ]
  },
  {
   "cell_type": "code",
   "execution_count": 10,
   "metadata": {},
   "outputs": [],
   "source": [
    "# Drop Unwanted \n",
    "unwanted_columns = ['Lead_ID', 'Booking_ID', 'Customer name', 'Location', 'Cancellation_Probability', 'Vehicle_Type', 'Test_Drive_Status', 'Preferred_Delivery_Time']\n",
    "df = df.drop(unwanted_columns, axis=1)\n"
   ]
  },
  {
   "cell_type": "code",
   "execution_count": 11,
   "metadata": {},
   "outputs": [
    {
     "name": "stdout",
     "output_type": "stream",
     "text": [
      "bciindex ~ C(Lead_Source) + C(First_Time_Buyer) + C(Age) + C(Gender) + C(Income) + C(OEM_Loyalty_Program) + C(Finances_Status) + C(CIBIL_Score) + C(Down_Payment) + C(Undecided_Finances) + C(Special_Occasions) + C(Booking_Lead_Time) + C(Needs_Match) + C(Add_Ons) + C(Dealership_Engagement) + C(Experience_With_Sales_Rep) + C(Companion_Feedback) + C(Stock_Status) + C(Delivery_Date_Status) + C(Competitive_Factors) + C(External_Factors) + C(Customer_Satisfaction_Score)\n"
     ]
    }
   ],
   "source": [
    "df_filtered = df.select_dtypes(exclude=['int64', 'float64', 'datetime64[ns]'])\n",
    "filtered_columns = [f'C({item})' for item in df_filtered.columns]\n",
    "logit_formula = 'bciindex ~ ' + ' + '.join(filtered_columns)\n",
    "print(logit_formula)"
   ]
  },
  {
   "cell_type": "code",
   "execution_count": 12,
   "metadata": {},
   "outputs": [
    {
     "name": "stdout",
     "output_type": "stream",
     "text": [
      "Chi-Square Statistic: 26.215538847117788\n",
      "P-value: 2.029401931061337e-06\n",
      "Degrees of Freedom: 2\n",
      "Expected Frequencies: [[6.65 7.6  4.75]\n",
      " [7.35 8.4  5.25]]\n",
      "You don't have to remove that features\n",
      "You need to remove features as per Cramer_v as well\n"
     ]
    }
   ],
   "source": [
    "import numpy as np\n",
    "from scipy.stats import chi2_contingency\n",
    "\n",
    "def cramers_v(confusion_matrix):\n",
    "    chi2_stat, p_value, dof, expected = chi2_contingency(confusion_matrix)\n",
    "    n = confusion_matrix.sum()\n",
    "    phi2 = chi2_stat / n\n",
    "    r, k = confusion_matrix.shape\n",
    "    return np.sqrt(phi2 / min(k-1, r-1))\n",
    "\n",
    "new_df = df.copy()\n",
    "new_df[df_filtered.columns] = new_df[df_filtered.columns].apply(lambda x: x.astype('category'))\n",
    "# sample_df = new_df.sample(frac=0.03, random_state=42)\n",
    "column_names = df_filtered.columns[2:3]\n",
    "data = pd.crosstab(new_df['bciindex'], [new_df[col] for col in column_names])\n",
    "v = cramers_v(data.values)\n",
    "# print(data.describe())\n",
    "chi2, p, dof, expected = chi2_contingency(data)\n",
    "\n",
    "print(\"Chi-Square Statistic:\", chi2)\n",
    "print(\"P-value:\", p)\n",
    "print(\"Degrees of Freedom:\", dof)\n",
    "print(\"Expected Frequencies:\", expected)\n",
    "\n",
    "if p < 0.05:\n",
    "    print(\"You don't have to remove that features\")\n",
    "else:\n",
    "    print(\"You can remove that features\" , column_names)\n",
    "\n",
    "if v > 0.5:\n",
    "    print('You need to remove features as per Cramer_v as well')"
   ]
  },
  {
   "cell_type": "code",
   "execution_count": 13,
   "metadata": {},
   "outputs": [],
   "source": [
    "# from imblearn.over_sampling import SMOTENC\n",
    "# categorical_columns = df.drop(['bciindex'], axis=1)\n",
    "# data_encoded = pd.get_dummies(df, columns=categorical_columns.columns, drop_first=True)\n",
    "# # corr_matrix = data_encoded.corr()\n",
    "\n",
    "# X = data_encoded.drop('bciindex', axis=1)\n",
    "# y = data_encoded['bciindex']\n",
    "\n",
    "# # List of indices of categorical columns in your dataset\n",
    "# categorical_features_indices = [i for i, col in enumerate(X.columns) if col in categorical_columns]\n",
    "\n",
    "# # Apply SMOTENC\n",
    "# smote = SMOTENC(categorical_features=categorical_features_indices, random_state=42)\n",
    "# X_resampled, y_resampled = smote.fit_resample(X, y)"
   ]
  },
  {
   "cell_type": "code",
   "execution_count": 14,
   "metadata": {},
   "outputs": [
    {
     "name": "stdout",
     "output_type": "stream",
     "text": [
      "Optimization terminated successfully.\n",
      "         Current function value: 0.000012\n",
      "         Iterations: 15\n",
      "         Function evaluations: 62\n",
      "         Gradient evaluations: 62\n",
      "                           Logit Regression Results                           \n",
      "==============================================================================\n",
      "Dep. Variable:               bciindex   No. Observations:                   40\n",
      "Model:                          Logit   Df Residuals:                       11\n",
      "Method:                           MLE   Df Model:                           28\n",
      "Date:                Thu, 10 Jul 2025   Pseudo R-squ.:                   1.000\n",
      "Time:                        11:48:20   Log-Likelihood:            -0.00047836\n",
      "converged:                       True   LL-Null:                       -27.676\n",
      "Covariance Type:            nonrobust   LLR p-value:                  0.001542\n",
      "============================================================================================================\n",
      "                                               coef    std err          z      P>|z|      [0.025      0.975]\n",
      "------------------------------------------------------------------------------------------------------------\n",
      "Intercept                                   -2.9117        nan        nan        nan         nan         nan\n",
      "C(Lead_Source)[T.Online]                    -3.4202        nan        nan        nan         nan         nan\n",
      "C(Lead_Source)[T.Referral]                  -0.6718        nan        nan        nan         nan         nan\n",
      "C(Lead_Source)[T.Walk-in]                   -0.6885        nan        nan        nan         nan         nan\n",
      "C(First_Time_Buyer)[T.Yes]                   1.8391        nan        nan        nan         nan         nan\n",
      "C(Age)[T.YOUNG]                              4.4942        nan        nan        nan         nan         nan\n",
      "C(Age)[T.OLD]                                5.9935        nan        nan        nan         nan         nan\n",
      "C(Gender)[T.Male]                            2.1226        nan        nan        nan         nan         nan\n",
      "C(Income)[T.MEDIUM]                         -1.5475        nan        nan        nan         nan         nan\n",
      "C(Income)[T.HIGH]                            1.7712        nan        nan        nan         nan         nan\n",
      "C(OEM_Loyalty_Program)[T.Yes]               -1.4048        nan        nan        nan         nan         nan\n",
      "C(Finances_Status)[T.Cash Purchase]          1.9255        nan        nan        nan         nan         nan\n",
      "C(Finances_Status)[T.Pending Loans]         -0.5216        nan        nan        nan         nan         nan\n",
      "C(Finances_Status)[T.Undecided]             -0.4985        nan        nan        nan         nan         nan\n",
      "C(CIBIL_Score)[T.LOW]                       -0.6029        nan        nan        nan         nan         nan\n",
      "C(Down_Payment)[T.LOW]                      -4.2146        nan        nan        nan         nan         nan\n",
      "C(Undecided_Finances)[T.Yes]                -2.5359        nan        nan        nan         nan         nan\n",
      "C(Special_Occasions)[T.None]                -5.7349        nan        nan        nan         nan         nan\n",
      "C(Special_Occasions)[T.Wedding]             -3.4130        nan        nan        nan         nan         nan\n",
      "C(Booking_Lead_Time)[T.MEDIUM]              -1.6948        nan        nan        nan         nan         nan\n",
      "C(Booking_Lead_Time)[T.HIGH]                -4.0517        nan        nan        nan         nan         nan\n",
      "C(Needs_Match)[T.Low]                       -0.2638        nan        nan        nan         nan         nan\n",
      "C(Needs_Match)[T.Medium]                     1.3600        nan        nan        nan         nan         nan\n",
      "C(Add_Ons)[T.MEDIUM]                        -3.7022        nan        nan        nan         nan         nan\n",
      "C(Add_Ons)[T.HIGH]                          10.3818        nan        nan        nan         nan         nan\n",
      "C(Dealership_Engagement)[T.Low]             -0.5118        nan        nan        nan         nan         nan\n",
      "C(Dealership_Engagement)[T.Medium]           1.0315        nan        nan        nan         nan         nan\n",
      "C(Experience_With_Sales_Rep)[T.Neutral]     -2.8131        nan        nan        nan         nan         nan\n",
      "C(Experience_With_Sales_Rep)[T.Positive]     0.3042        nan        nan        nan         nan         nan\n",
      "C(Companion_Feedback)[T.Neutral]            -2.4782        nan        nan        nan         nan         nan\n",
      "C(Companion_Feedback)[T.Positive]           -0.2837        nan        nan        nan         nan         nan\n",
      "C(Stock_Status)[T.Unavailable]              -3.1869        nan        nan        nan         nan         nan\n",
      "C(Delivery_Date_Status)[T.On-Time]           0.1535        nan        nan        nan         nan         nan\n",
      "C(Competitive_Factors)[T.Low]                0.9477        nan        nan        nan         nan         nan\n",
      "C(Competitive_Factors)[T.Medium]            -3.3242        nan        nan        nan         nan         nan\n",
      "C(External_Factors)[T.Low]                  -1.4577        nan        nan        nan         nan         nan\n",
      "C(External_Factors)[T.Medium]               -0.9324        nan        nan        nan         nan         nan\n",
      "C(Customer_Satisfaction_Score)[T.MEDIUM]    -0.6313        nan        nan        nan         nan         nan\n",
      "C(Customer_Satisfaction_Score)[T.HIGH]       0.6647        nan        nan        nan         nan         nan\n",
      "============================================================================================================\n",
      "\n",
      "Possibly complete quasi-separation: A fraction 0.97 of observations can be\n",
      "perfectly predicted. This might indicate that there is complete\n",
      "quasi-separation. In this case some parameters will not be identified.\n"
     ]
    },
    {
     "name": "stderr",
     "output_type": "stream",
     "text": [
      "c:\\Users\\mukulkathuria\\Documents\\mlprac\\driveai\\bciindexanalysis\\bcienv\\Lib\\site-packages\\statsmodels\\base\\model.py:595: HessianInversionWarning: Inverting hessian failed, no bse or cov_params available\n",
      "  warnings.warn('Inverting hessian failed, no bse or cov_params '\n"
     ]
    }
   ],
   "source": [
    "import statsmodels.api as sm\n",
    "sm.add_constant(df[df_filtered.columns])\n",
    "logit_model = sm.Logit.from_formula(logit_formula , df)\n",
    "# weights = y.apply(lambda x: 1 if x == 1 else 0.5)\n",
    "fitted_model = logit_model.fit(method='cg', skip_hessian=False)\n",
    "print(fitted_model.summary())"
   ]
  },
  {
   "cell_type": "code",
   "execution_count": 15,
   "metadata": {},
   "outputs": [
    {
     "data": {
      "image/png": "[encoded data removed]",
      "text/plain": [
       "<Figure size 640x480 with 1 Axes>"
      ]
     },
     "metadata": {},
     "output_type": "display_data"
    }
   ],
   "source": [
    "import matplotlib.pyplot as plt\n",
    "coefficients = fitted_model.params\n",
    "\n",
    "coefficients.drop('Intercept').plot(kind='bar', color='skyblue')\n",
    "\n",
    "plt.title('Logistic Regression Coefficients')\n",
    "plt.xlabel('Predictors')\n",
    "plt.ylabel('Coefficient Value')\n",
    "plt.xticks(fontsize=6)\n",
    "\n",
    "plt.tight_layout()\n",
    "# Display the plot\n",
    "plt.show()"
   ]
  },
  {
   "cell_type": "code",
   "execution_count": 16,
   "metadata": {},
   "outputs": [
    {
     "name": "stdout",
     "output_type": "stream",
     "text": [
      "Preparation of a new explainer is initiated\n",
      "\n",
      "  -> data              : 40 rows 22 cols\n",
      "  -> target variable   : Parameter 'y' was a pandas.Series. Converted to a numpy.ndarray.\n",
      "  -> target variable   : 40 values\n",
      "  -> model_class       : statsmodels.discrete.discrete_model.BinaryResultsWrapper (default)\n",
      "  -> label             : Not specified, model's class short name will be used. (default)\n",
      "  -> predict function  : <function yhat_default at 0x00000125C005C2C0> will be used (default)\n",
      "  -> predict function  : Accepts only pandas.DataFrame, numpy.ndarray causes problems.\n",
      "  -> predicted values  : min = 7.39e-14, mean = 0.525, max = 1.0\n",
      "  -> model type        : regression will be used (default)\n",
      "  -> residual function : difference between y and yhat (default)\n",
      "  -> residuals         : min = -2.79e-05, mean = 6.17e-06, max = 0.000119\n",
      "  -> model_info        : package statsmodels\n",
      "\n",
      "A new explainer has been created!\n"
     ]
    },
    {
     "name": "stderr",
     "output_type": "stream",
     "text": [
      "c:\\Users\\mukulkathuria\\Documents\\mlprac\\driveai\\bciindexanalysis\\bcienv\\Lib\\site-packages\\dalex\\_explainer\\object.py:138: UserWarning: \n",
      "  -> predicted values  : 'predict_function' must return numpy.ndarray (1d)\n",
      "  checks.check_predict_function_and_model_type(predict_function, model_type,\n"
     ]
    },
    {
     "data": {
      "application/vnd.plotly.v1+json": {
       "config": {
        "displaylogo": false,
        "modeBarButtonsToRemove": [
         "sendDataToCloud",
         "lasso2d",
         "autoScale2d",
         "select2d",
         "zoom2d",
         "pan2d",
         "zoomIn2d",
         "zoomOut2d",
         "resetScale2d",
         "toggleSpikelines",
         "hoverCompareCartesian",
         "hoverClosestCartesian"
        ],
        "plotlyServerURL": "https://plot.ly",
        "staticPlot": false,
        "toImageButtonOptions": {
         "height": null,
         "width": null
        }
       },
       "data": [
        {
         "base": 0.5249938264652175,
         "connector": {
          "line": {
           "color": "#371ea3",
           "dash": "solid",
           "width": 1
          },
          "mode": "spanning"
         },
         "decreasing": {
          "marker": {
           "color": "#f05a71"
          }
         },
         "hoverinfo": "text+delta",
         "hoverlabel": {
          "bgcolor": "rgba(0,0,0,0.8)"
         },
         "hovertext": [
          "Average response: 0.525<br>Prediction: 0.0",
          "Special_Occasions = Festival<br>decreases average response by",
          "Down_Payment = HIGH<br>increases average response by",
          "Booking_Lead_Time = LOW<br>increases average response by",
          "Competitive_Factors = Low<br>increases average response by",
          "Stock_Status = Available<br>increases average response by",
          "Experience_With_Sales_Rep = Positive<br>increases average response by",
          "First_Time_Buyer = Yes<br>increases average response by",
          "Undecided_Finances = No<br>increases average response by",
          "Companion_Feedback = Positive<br>increases average response by",
          "Customer_Satisfaction_Score = HIGH<br>increases average response by",
          "+ all other factors<br>decreases average response by",
          "Average response: 0.525<br>Prediction: 0.0"
         ],
         "increasing": {
          "marker": {
           "color": "#8bdcbe"
          }
         },
         "measure": [
          "relative",
          "relative",
          "relative",
          "relative",
          "relative",
          "relative",
          "relative",
          "relative",
          "relative",
          "relative",
          "relative",
          "relative",
          "total"
         ],
         "orientation": "h",
         "showlegend": false,
         "text": [
          "0.525",
          "0.0",
          "+0.009",
          "+0.015",
          "+0.005",
          "+0.009",
          "+0.056",
          "+0.022",
          "+0.045",
          "+0.023",
          "+0.034",
          "-0.744",
          "0.0"
         ],
         "textposition": "outside",
         "totals": {
          "marker": {
           "color": "#371ea3"
          }
         },
         "type": "waterfall",
         "x": [
          0,
          0,
          0.009,
          0.015,
          0.005,
          0.009,
          0.056,
          0.022,
          0.045,
          0.023,
          0.034,
          -0.744,
          -0.525
         ],
         "xaxis": "x",
         "y": [
          "intercept",
          "Special_Occasions = Festival",
          "Down_Payment = HIGH",
          "Booking_Lead_Time = LOW",
          "Competitive_Factors = Low",
          "Stock_Status = Available",
          "Experience_With_Sales_Rep = Positive",
          "First_Time_Buyer = Yes",
          "Undecided_Finances = No",
          "Companion_Feedback = Positive",
          "Customer_Satisfaction_Score = HIGH",
          "+ all other factors",
          "prediction"
         ],
         "yaxis": "y"
        }
       ],
       "layout": {
        "annotations": [
         {
          "font": {
           "size": 16
          },
          "showarrow": false,
          "text": "BinaryResultsWrapper",
          "x": 0.5,
          "xanchor": "center",
          "xref": "paper",
          "y": 1,
          "yanchor": "bottom",
          "yref": "paper"
         },
         {
          "font": {
           "size": 16
          },
          "showarrow": false,
          "text": "contribution",
          "x": 0.5,
          "xanchor": "center",
          "xref": "paper",
          "y": 0,
          "yanchor": "top",
          "yref": "paper",
          "yshift": -30
         }
        ],
        "font": {
         "color": "#371ea3"
        },
        "height": 413,
        "margin": {
         "b": 71,
         "r": 30,
         "t": 78
        },
        "shapes": [
         {
          "line": {
           "color": "#371ea3",
           "dash": "dot",
           "width": 1.5
          },
          "type": "line",
          "x0": 0.5249938264652175,
          "x1": 0.5249938264652175,
          "xref": "x",
          "y0": -1,
          "y1": 13,
          "yref": "y"
         }
        ],
        "template": {
         "data": {
          "scatter": [
           {
            "type": "scatter"
           }
          ]
         }
        },
        "title": {
         "text": "Aditi Joshi",
         "x": 0.15
        },
        "xaxis": {
         "anchor": "y",
         "automargin": true,
         "domain": [
          0,
          1
         ],
         "fixedrange": true,
         "gridwidth": 2,
         "range": [
          -0.11159999999999999,
          0.8556
         ],
         "tickcolor": "white",
         "ticklen": 3,
         "ticks": "outside",
         "type": "linear",
         "zeroline": false
        },
        "yaxis": {
         "anchor": "x",
         "automargin": true,
         "autorange": "reversed",
         "domain": [
          0,
          1
         ],
         "fixedrange": true,
         "gridwidth": 2,
         "tickcolor": "white",
         "ticklen": 10,
         "ticks": "outside",
         "type": "category"
        }
       }
      }
     },
     "metadata": {},
     "output_type": "display_data"
    },
    {
     "data": {
      "application/vnd.plotly.v1+json": {
       "config": {
        "displaylogo": false,
        "modeBarButtonsToRemove": [
         "sendDataToCloud",
         "lasso2d",
         "autoScale2d",
         "select2d",
         "zoom2d",
         "pan2d",
         "zoomIn2d",
         "zoomOut2d",
         "resetScale2d",
         "toggleSpikelines",
         "hoverCompareCartesian",
         "hoverClosestCartesian"
        ],
        "plotlyServerURL": "https://plot.ly",
        "staticPlot": false,
        "toImageButtonOptions": {
         "height": null,
         "width": null
        }
       },
       "data": [
        {
         "base": 0.5249938264652175,
         "connector": {
          "line": {
           "color": "#371ea3",
           "dash": "solid",
           "width": 1
          },
          "mode": "spanning"
         },
         "decreasing": {
          "marker": {
           "color": "#f05a71"
          }
         },
         "hoverinfo": "text+delta",
         "hoverlabel": {
          "bgcolor": "rgba(0,0,0,0.8)"
         },
         "hovertext": [
          "Average response: 0.525<br>Prediction: 0.0",
          "Income = HIGH<br>decreases average response by",
          "Down_Payment = HIGH<br>decreases average response by",
          "Lead_Source = Walk-in<br>decreases average response by",
          "Gender = Male<br>increases average response by",
          "Finances_Status = Cash Purchase<br>increases average response by",
          "OEM_Loyalty_Program = No<br>increases average response by",
          "Needs_Match = Medium<br>increases average response by",
          "External_Factors = Medium<br>decreases average response by",
          "Undecided_Finances = No<br>increases average response by",
          "CIBIL_Score = HIGH<br>increases average response by",
          "+ all other factors<br>decreases average response by",
          "Average response: 0.525<br>Prediction: 0.0"
         ],
         "increasing": {
          "marker": {
           "color": "#8bdcbe"
          }
         },
         "measure": [
          "relative",
          "relative",
          "relative",
          "relative",
          "relative",
          "relative",
          "relative",
          "relative",
          "relative",
          "relative",
          "relative",
          "relative",
          "total"
         ],
         "orientation": "h",
         "showlegend": false,
         "text": [
          "0.525",
          "0.0",
          "0.0",
          "0.0",
          "+0.004",
          "+0.016",
          "+0.023",
          "+0.025",
          "-0.0",
          "+0.026",
          "+0.001",
          "-0.62",
          "0.0"
         ],
         "textposition": "outside",
         "totals": {
          "marker": {
           "color": "#371ea3"
          }
         },
         "type": "waterfall",
         "x": [
          0,
          0,
          0,
          0,
          0.004,
          0.016,
          0.023,
          0.025,
          0,
          0.026,
          0.001,
          -0.62,
          -0.525
         ],
         "xaxis": "x",
         "y": [
          "intercept",
          "Income = HIGH",
          "Down_Payment = HIGH",
          "Lead_Source = Walk-in",
          "Gender = Male",
          "Finances_Status = Cash Purchase",
          "OEM_Loyalty_Program = No",
          "Needs_Match = Medium",
          "External_Factors = Medium",
          "Undecided_Finances = No",
          "CIBIL_Score = HIGH",
          "+ all other factors",
          "prediction"
         ],
         "yaxis": "y"
        }
       ],
       "layout": {
        "annotations": [
         {
          "font": {
           "size": 16
          },
          "showarrow": false,
          "text": "BinaryResultsWrapper",
          "x": 0.5,
          "xanchor": "center",
          "xref": "paper",
          "y": 1,
          "yanchor": "bottom",
          "yref": "paper"
         },
         {
          "font": {
           "size": 16
          },
          "showarrow": false,
          "text": "contribution",
          "x": 0.5,
          "xanchor": "center",
          "xref": "paper",
          "y": 0,
          "yanchor": "top",
          "yref": "paper",
          "yshift": -30
         }
        ],
        "font": {
         "color": "#371ea3"
        },
        "height": 413,
        "margin": {
         "b": 71,
         "r": 30,
         "t": 78
        },
        "shapes": [
         {
          "line": {
           "color": "#371ea3",
           "dash": "dot",
           "width": 1.5
          },
          "type": "line",
          "x0": 0.5249938264652175,
          "x1": 0.5249938264652175,
          "xref": "x",
          "y0": -1,
          "y1": 13,
          "yref": "y"
         }
        ],
        "template": {
         "data": {
          "scatter": [
           {
            "type": "scatter"
           }
          ]
         }
        },
        "title": {
         "text": "Rajesh Kumar",
         "x": 0.15
        },
        "xaxis": {
         "anchor": "y",
         "automargin": true,
         "domain": [
          0,
          1
         ],
         "fixedrange": true,
         "gridwidth": 2,
         "range": [
          -0.093,
          0.713
         ],
         "tickcolor": "white",
         "ticklen": 3,
         "ticks": "outside",
         "type": "linear",
         "zeroline": false
        },
        "yaxis": {
         "anchor": "x",
         "automargin": true,
         "autorange": "reversed",
         "domain": [
          0,
          1
         ],
         "fixedrange": true,
         "gridwidth": 2,
         "tickcolor": "white",
         "ticklen": 10,
         "ticks": "outside",
         "type": "category"
        }
       }
      }
     },
     "metadata": {},
     "output_type": "display_data"
    },
    {
     "data": {
      "application/vnd.plotly.v1+json": {
       "config": {
        "displaylogo": false,
        "modeBarButtonsToRemove": [
         "sendDataToCloud",
         "lasso2d",
         "autoScale2d",
         "select2d",
         "zoom2d",
         "pan2d",
         "zoomIn2d",
         "zoomOut2d",
         "resetScale2d",
         "toggleSpikelines",
         "hoverCompareCartesian",
         "hoverClosestCartesian"
        ],
        "plotlyServerURL": "https://plot.ly",
        "staticPlot": false,
        "toImageButtonOptions": {
         "height": null,
         "width": null
        }
       },
       "data": [
        {
         "base": 0.5249938264652175,
         "connector": {
          "line": {
           "color": "#371ea3",
           "dash": "solid",
           "width": 1
          },
          "mode": "spanning"
         },
         "decreasing": {
          "marker": {
           "color": "#f05a71"
          }
         },
         "hoverinfo": "text+delta",
         "hoverlabel": {
          "bgcolor": "rgba(0,0,0,0.8)"
         },
         "hovertext": [
          "Average response: 0.525<br>Prediction: 0.0",
          "Age = YOUNG<br>decreases average response by",
          "Booking_Lead_Time = LOW<br>decreases average response by",
          "Lead_Source = Referral<br>increases average response by",
          "External_Factors = High<br>increases average response by",
          "Stock_Status = Available<br>increases average response by",
          "Companion_Feedback = Negative<br>increases average response by",
          "Experience_With_Sales_Rep = Negative<br>increases average response by",
          "First_Time_Buyer = Yes<br>increases average response by",
          "Delivery_Date_Status = On-Time<br>increases average response by",
          "CIBIL_Score = HIGH<br>increases average response by",
          "+ all other factors<br>decreases average response by",
          "Average response: 0.525<br>Prediction: 0.0"
         ],
         "increasing": {
          "marker": {
           "color": "#8bdcbe"
          }
         },
         "measure": [
          "relative",
          "relative",
          "relative",
          "relative",
          "relative",
          "relative",
          "relative",
          "relative",
          "relative",
          "relative",
          "relative",
          "relative",
          "total"
         ],
         "orientation": "h",
         "showlegend": false,
         "text": [
          "0.525",
          "0.0",
          "0.0",
          "+0.006",
          "+0.01",
          "+0.004",
          "+0.022",
          "+0.026",
          "+0.009",
          "+0.001",
          "+0.001",
          "-0.605",
          "0.0"
         ],
         "textposition": "outside",
         "totals": {
          "marker": {
           "color": "#371ea3"
          }
         },
         "type": "waterfall",
         "x": [
          0,
          0,
          0,
          0.006,
          0.01,
          0.004,
          0.022,
          0.026,
          0.009,
          0.001,
          0.001,
          -0.605,
          -0.525
         ],
         "xaxis": "x",
         "y": [
          "intercept",
          "Age = YOUNG",
          "Booking_Lead_Time = LOW",
          "Lead_Source = Referral",
          "External_Factors = High",
          "Stock_Status = Available",
          "Companion_Feedback = Negative",
          "Experience_With_Sales_Rep = Negative",
          "First_Time_Buyer = Yes",
          "Delivery_Date_Status = On-Time",
          "CIBIL_Score = HIGH",
          "+ all other factors",
          "prediction"
         ],
         "yaxis": "y"
        }
       ],
       "layout": {
        "annotations": [
         {
          "font": {
           "size": 16
          },
          "showarrow": false,
          "text": "BinaryResultsWrapper",
          "x": 0.5,
          "xanchor": "center",
          "xref": "paper",
          "y": 1,
          "yanchor": "bottom",
          "yref": "paper"
         },
         {
          "font": {
           "size": 16
          },
          "showarrow": false,
          "text": "contribution",
          "x": 0.5,
          "xanchor": "center",
          "xref": "paper",
          "y": 0,
          "yanchor": "top",
          "yref": "paper",
          "yshift": -30
         }
        ],
        "font": {
         "color": "#371ea3"
        },
        "height": 413,
        "margin": {
         "b": 71,
         "r": 30,
         "t": 78
        },
        "shapes": [
         {
          "line": {
           "color": "#371ea3",
           "dash": "dot",
           "width": 1.5
          },
          "type": "line",
          "x0": 0.5249938264652175,
          "x1": 0.5249938264652175,
          "xref": "x",
          "y0": -1,
          "y1": 13,
          "yref": "y"
         }
        ],
        "template": {
         "data": {
          "scatter": [
           {
            "type": "scatter"
           }
          ]
         }
        },
        "title": {
         "text": "Neha Patil",
         "x": 0.15
        },
        "xaxis": {
         "anchor": "y",
         "automargin": true,
         "domain": [
          0,
          1
         ],
         "fixedrange": true,
         "gridwidth": 2,
         "range": [
          -0.09075,
          0.69575
         ],
         "tickcolor": "white",
         "ticklen": 3,
         "ticks": "outside",
         "type": "linear",
         "zeroline": false
        },
        "yaxis": {
         "anchor": "x",
         "automargin": true,
         "autorange": "reversed",
         "domain": [
          0,
          1
         ],
         "fixedrange": true,
         "gridwidth": 2,
         "tickcolor": "white",
         "ticklen": 10,
         "ticks": "outside",
         "type": "category"
        }
       }
      }
     },
     "metadata": {},
     "output_type": "display_data"
    },
    {
     "data": {
      "application/vnd.plotly.v1+json": {
       "config": {
        "displaylogo": false,
        "modeBarButtonsToRemove": [
         "sendDataToCloud",
         "lasso2d",
         "autoScale2d",
         "select2d",
         "zoom2d",
         "pan2d",
         "zoomIn2d",
         "zoomOut2d",
         "resetScale2d",
         "toggleSpikelines",
         "hoverCompareCartesian",
         "hoverClosestCartesian"
        ],
        "plotlyServerURL": "https://plot.ly",
        "staticPlot": false,
        "toImageButtonOptions": {
         "height": null,
         "width": null
        }
       },
       "data": [
        {
         "base": 0.5249938264652175,
         "connector": {
          "line": {
           "color": "#371ea3",
           "dash": "solid",
           "width": 1
          },
          "mode": "spanning"
         },
         "decreasing": {
          "marker": {
           "color": "#f05a71"
          }
         },
         "hoverinfo": "text+delta",
         "hoverlabel": {
          "bgcolor": "rgba(0,0,0,0.8)"
         },
         "hovertext": [
          "Average response: 0.525<br>Prediction: 0.0",
          "Booking_Lead_Time = LOW<br>decreases average response by",
          "Gender = Male<br>decreases average response by",
          "OEM_Loyalty_Program = No<br>increases average response by",
          "Needs_Match = Medium<br>increases average response by",
          "Experience_With_Sales_Rep = Positive<br>decreases average response by",
          "First_Time_Buyer = Yes<br>increases average response by",
          "Delivery_Date_Status = Delayed<br>decreases average response by",
          "External_Factors = Low<br>decreases average response by",
          "Dealership_Engagement = High<br>decreases average response by",
          "Income = LOW<br>decreases average response by",
          "+ all other factors<br>decreases average response by",
          "Average response: 0.525<br>Prediction: 0.0"
         ],
         "increasing": {
          "marker": {
           "color": "#8bdcbe"
          }
         },
         "measure": [
          "relative",
          "relative",
          "relative",
          "relative",
          "relative",
          "relative",
          "relative",
          "relative",
          "relative",
          "relative",
          "relative",
          "relative",
          "total"
         ],
         "orientation": "h",
         "showlegend": false,
         "text": [
          "0.525",
          "0.0",
          "0.0",
          "+0.001",
          "+0.004",
          "0.0",
          "+0.012",
          "-0.001",
          "-0.001",
          "-0.0",
          "-0.01",
          "-0.53",
          "0.0"
         ],
         "textposition": "outside",
         "totals": {
          "marker": {
           "color": "#371ea3"
          }
         },
         "type": "waterfall",
         "x": [
          0,
          0,
          0,
          0.001,
          0.004,
          0,
          0.012,
          -0.001,
          -0.001,
          0,
          -0.01,
          -0.53,
          -0.525
         ],
         "xaxis": "x",
         "y": [
          "intercept",
          "Booking_Lead_Time = LOW",
          "Gender = Male",
          "OEM_Loyalty_Program = No",
          "Needs_Match = Medium",
          "Experience_With_Sales_Rep = Positive",
          "First_Time_Buyer = Yes",
          "Delivery_Date_Status = Delayed",
          "External_Factors = Low",
          "Dealership_Engagement = High",
          "Income = LOW",
          "+ all other factors",
          "prediction"
         ],
         "yaxis": "y"
        }
       ],
       "layout": {
        "annotations": [
         {
          "font": {
           "size": 16
          },
          "showarrow": false,
          "text": "BinaryResultsWrapper",
          "x": 0.5,
          "xanchor": "center",
          "xref": "paper",
          "y": 1,
          "yanchor": "bottom",
          "yref": "paper"
         },
         {
          "font": {
           "size": 16
          },
          "showarrow": false,
          "text": "contribution",
          "x": 0.5,
          "xanchor": "center",
          "xref": "paper",
          "y": 0,
          "yanchor": "top",
          "yref": "paper",
          "yshift": -30
         }
        ],
        "font": {
         "color": "#371ea3"
        },
        "height": 413,
        "margin": {
         "b": 71,
         "r": 30,
         "t": 78
        },
        "shapes": [
         {
          "line": {
           "color": "#371ea3",
           "dash": "dot",
           "width": 1.5
          },
          "type": "line",
          "x0": 0.5249938264652175,
          "x1": 0.5249938264652175,
          "xref": "x",
          "y0": -1,
          "y1": 13,
          "yref": "y"
         }
        ],
        "template": {
         "data": {
          "scatter": [
           {
            "type": "scatter"
           }
          ]
         }
        },
        "title": {
         "text": "Vishal Reddy",
         "x": 0.15
        },
        "xaxis": {
         "anchor": "y",
         "automargin": true,
         "domain": [
          0,
          1
         ],
         "fixedrange": true,
         "gridwidth": 2,
         "range": [
          -0.0813,
          0.6233000000000001
         ],
         "tickcolor": "white",
         "ticklen": 3,
         "ticks": "outside",
         "type": "linear",
         "zeroline": false
        },
        "yaxis": {
         "anchor": "x",
         "automargin": true,
         "autorange": "reversed",
         "domain": [
          0,
          1
         ],
         "fixedrange": true,
         "gridwidth": 2,
         "tickcolor": "white",
         "ticklen": 10,
         "ticks": "outside",
         "type": "category"
        }
       }
      }
     },
     "metadata": {},
     "output_type": "display_data"
    },
    {
     "data": {
      "application/vnd.plotly.v1+json": {
       "config": {
        "displaylogo": false,
        "modeBarButtonsToRemove": [
         "sendDataToCloud",
         "lasso2d",
         "autoScale2d",
         "select2d",
         "zoom2d",
         "pan2d",
         "zoomIn2d",
         "zoomOut2d",
         "resetScale2d",
         "toggleSpikelines",
         "hoverCompareCartesian",
         "hoverClosestCartesian"
        ],
        "plotlyServerURL": "https://plot.ly",
        "staticPlot": false,
        "toImageButtonOptions": {
         "height": null,
         "width": null
        }
       },
       "data": [
        {
         "base": 0.5249938264652175,
         "connector": {
          "line": {
           "color": "#371ea3",
           "dash": "solid",
           "width": 1
          },
          "mode": "spanning"
         },
         "decreasing": {
          "marker": {
           "color": "#f05a71"
          }
         },
         "hoverinfo": "text+delta",
         "hoverlabel": {
          "bgcolor": "rgba(0,0,0,0.8)"
         },
         "hovertext": [
          "Average response: 0.525<br>Prediction: 0.0",
          "Age = YOUNG<br>decreases average response by",
          "Income = HIGH<br>increases average response by",
          "Competitive_Factors = Low<br>increases average response by",
          "Lead_Source = Walk-in<br>increases average response by",
          "Finances_Status = Cash Purchase<br>increases average response by",
          "Stock_Status = Available<br>increases average response by",
          "Experience_With_Sales_Rep = Positive<br>increases average response by",
          "Undecided_Finances = No<br>increases average response by",
          "Companion_Feedback = Positive<br>increases average response by",
          "Customer_Satisfaction_Score = HIGH<br>increases average response by",
          "+ all other factors<br>decreases average response by",
          "Average response: 0.525<br>Prediction: 0.0"
         ],
         "increasing": {
          "marker": {
           "color": "#8bdcbe"
          }
         },
         "measure": [
          "relative",
          "relative",
          "relative",
          "relative",
          "relative",
          "relative",
          "relative",
          "relative",
          "relative",
          "relative",
          "relative",
          "relative",
          "total"
         ],
         "orientation": "h",
         "showlegend": false,
         "text": [
          "0.525",
          "0.0",
          "+0.004",
          "+0.019",
          "+0.023",
          "+0.037",
          "+0.019",
          "+0.016",
          "+0.03",
          "+0.024",
          "+0.021",
          "-0.718",
          "0.0"
         ],
         "textposition": "outside",
         "totals": {
          "marker": {
           "color": "#371ea3"
          }
         },
         "type": "waterfall",
         "x": [
          0,
          0,
          0.004,
          0.019,
          0.023,
          0.037,
          0.019,
          0.016,
          0.03,
          0.024,
          0.021,
          -0.718,
          -0.525
         ],
         "xaxis": "x",
         "y": [
          "intercept",
          "Age = YOUNG",
          "Income = HIGH",
          "Competitive_Factors = Low",
          "Lead_Source = Walk-in",
          "Finances_Status = Cash Purchase",
          "Stock_Status = Available",
          "Experience_With_Sales_Rep = Positive",
          "Undecided_Finances = No",
          "Companion_Feedback = Positive",
          "Customer_Satisfaction_Score = HIGH",
          "+ all other factors",
          "prediction"
         ],
         "yaxis": "y"
        }
       ],
       "layout": {
        "annotations": [
         {
          "font": {
           "size": 16
          },
          "showarrow": false,
          "text": "BinaryResultsWrapper",
          "x": 0.5,
          "xanchor": "center",
          "xref": "paper",
          "y": 1,
          "yanchor": "bottom",
          "yref": "paper"
         },
         {
          "font": {
           "size": 16
          },
          "showarrow": false,
          "text": "contribution",
          "x": 0.5,
          "xanchor": "center",
          "xref": "paper",
          "y": 0,
          "yanchor": "top",
          "yref": "paper",
          "yshift": -30
         }
        ],
        "font": {
         "color": "#371ea3"
        },
        "height": 413,
        "margin": {
         "b": 71,
         "r": 30,
         "t": 78
        },
        "shapes": [
         {
          "line": {
           "color": "#371ea3",
           "dash": "dot",
           "width": 1.5
          },
          "type": "line",
          "x0": 0.5249938264652175,
          "x1": 0.5249938264652175,
          "xref": "x",
          "y0": -1,
          "y1": 13,
          "yref": "y"
         }
        ],
        "template": {
         "data": {
          "scatter": [
           {
            "type": "scatter"
           }
          ]
         }
        },
        "title": {
         "text": "Kavya Iyer",
         "x": 0.15
        },
        "xaxis": {
         "anchor": "y",
         "automargin": true,
         "domain": [
          0,
          1
         ],
         "fixedrange": true,
         "gridwidth": 2,
         "range": [
          -0.10769999999999999,
          0.8257
         ],
         "tickcolor": "white",
         "ticklen": 3,
         "ticks": "outside",
         "type": "linear",
         "zeroline": false
        },
        "yaxis": {
         "anchor": "x",
         "automargin": true,
         "autorange": "reversed",
         "domain": [
          0,
          1
         ],
         "fixedrange": true,
         "gridwidth": 2,
         "tickcolor": "white",
         "ticklen": 10,
         "ticks": "outside",
         "type": "category"
        }
       }
      }
     },
     "metadata": {},
     "output_type": "display_data"
    },
    {
     "data": {
      "application/vnd.plotly.v1+json": {
       "config": {
        "displaylogo": false,
        "modeBarButtonsToRemove": [
         "sendDataToCloud",
         "lasso2d",
         "autoScale2d",
         "select2d",
         "zoom2d",
         "pan2d",
         "zoomIn2d",
         "zoomOut2d",
         "resetScale2d",
         "toggleSpikelines",
         "hoverCompareCartesian",
         "hoverClosestCartesian"
        ],
        "plotlyServerURL": "https://plot.ly",
        "staticPlot": false,
        "toImageButtonOptions": {
         "height": null,
         "width": null
        }
       },
       "data": [
        {
         "base": 0.5249938264652175,
         "connector": {
          "line": {
           "color": "#371ea3",
           "dash": "solid",
           "width": 1
          },
          "mode": "spanning"
         },
         "decreasing": {
          "marker": {
           "color": "#f05a71"
          }
         },
         "hoverinfo": "text+delta",
         "hoverlabel": {
          "bgcolor": "rgba(0,0,0,0.8)"
         },
         "hovertext": [
          "Average response: 0.525<br>Prediction: 0.0",
          "Down_Payment = HIGH<br>decreases average response by",
          "Gender = Male<br>decreases average response by",
          "Experience_With_Sales_Rep = Positive<br>decreases average response by",
          "First_Time_Buyer = Yes<br>increases average response by",
          "External_Factors = Medium<br>increases average response by",
          "Undecided_Finances = No<br>decreases average response by",
          "Companion_Feedback = Positive<br>decreases average response by",
          "Delivery_Date_Status = On-Time<br>decreases average response by",
          "CIBIL_Score = HIGH<br>decreases average response by",
          "OEM_Loyalty_Program = Yes<br>decreases average response by",
          "+ all other factors<br>decreases average response by",
          "Average response: 0.525<br>Prediction: 0.0"
         ],
         "increasing": {
          "marker": {
           "color": "#8bdcbe"
          }
         },
         "measure": [
          "relative",
          "relative",
          "relative",
          "relative",
          "relative",
          "relative",
          "relative",
          "relative",
          "relative",
          "relative",
          "relative",
          "relative",
          "total"
         ],
         "orientation": "h",
         "showlegend": false,
         "text": [
          "0.525",
          "0.0",
          "0.0",
          "0.0",
          "+0.002",
          "+0.001",
          "0.0",
          "0.0",
          "0.0",
          "0.0",
          "-0.0",
          "-0.529",
          "0.0"
         ],
         "textposition": "outside",
         "totals": {
          "marker": {
           "color": "#371ea3"
          }
         },
         "type": "waterfall",
         "x": [
          0,
          0,
          0,
          0,
          0.002,
          0.001,
          0,
          0,
          0,
          0,
          0,
          -0.529,
          -0.525
         ],
         "xaxis": "x",
         "y": [
          "intercept",
          "Down_Payment = HIGH",
          "Gender = Male",
          "Experience_With_Sales_Rep = Positive",
          "First_Time_Buyer = Yes",
          "External_Factors = Medium",
          "Undecided_Finances = No",
          "Companion_Feedback = Positive",
          "Delivery_Date_Status = On-Time",
          "CIBIL_Score = HIGH",
          "OEM_Loyalty_Program = Yes",
          "+ all other factors",
          "prediction"
         ],
         "yaxis": "y"
        }
       ],
       "layout": {
        "annotations": [
         {
          "font": {
           "size": 16
          },
          "showarrow": false,
          "text": "BinaryResultsWrapper",
          "x": 0.5,
          "xanchor": "center",
          "xref": "paper",
          "y": 1,
          "yanchor": "bottom",
          "yref": "paper"
         },
         {
          "font": {
           "size": 16
          },
          "showarrow": false,
          "text": "contribution",
          "x": 0.5,
          "xanchor": "center",
          "xref": "paper",
          "y": 0,
          "yanchor": "top",
          "yref": "paper",
          "yshift": -30
         }
        ],
        "font": {
         "color": "#371ea3"
        },
        "height": 413,
        "margin": {
         "b": 71,
         "r": 30,
         "t": 78
        },
        "shapes": [
         {
          "line": {
           "color": "#371ea3",
           "dash": "dot",
           "width": 1.5
          },
          "type": "line",
          "x0": 0.5249938264652175,
          "x1": 0.5249938264652175,
          "xref": "x",
          "y0": -1,
          "y1": 13,
          "yref": "y"
         }
        ],
        "template": {
         "data": {
          "scatter": [
           {
            "type": "scatter"
           }
          ]
         }
        },
        "title": {
         "text": "Arjun Malhotra",
         "x": 0.15
        },
        "xaxis": {
         "anchor": "y",
         "automargin": true,
         "domain": [
          0,
          1
         ],
         "fixedrange": true,
         "gridwidth": 2,
         "range": [
          -0.07935,
          0.6083500000000001
         ],
         "tickcolor": "white",
         "ticklen": 3,
         "ticks": "outside",
         "type": "linear",
         "zeroline": false
        },
        "yaxis": {
         "anchor": "x",
         "automargin": true,
         "autorange": "reversed",
         "domain": [
          0,
          1
         ],
         "fixedrange": true,
         "gridwidth": 2,
         "tickcolor": "white",
         "ticklen": 10,
         "ticks": "outside",
         "type": "category"
        }
       }
      }
     },
     "metadata": {},
     "output_type": "display_data"
    },
    {
     "data": {
      "application/vnd.plotly.v1+json": {
       "config": {
        "displaylogo": false,
        "modeBarButtonsToRemove": [
         "sendDataToCloud",
         "lasso2d",
         "autoScale2d",
         "select2d",
         "zoom2d",
         "pan2d",
         "zoomIn2d",
         "zoomOut2d",
         "resetScale2d",
         "toggleSpikelines",
         "hoverCompareCartesian",
         "hoverClosestCartesian"
        ],
        "plotlyServerURL": "https://plot.ly",
        "staticPlot": false,
        "toImageButtonOptions": {
         "height": null,
         "width": null
        }
       },
       "data": [
        {
         "base": 0.5249938264652175,
         "connector": {
          "line": {
           "color": "#371ea3",
           "dash": "solid",
           "width": 1
          },
          "mode": "spanning"
         },
         "decreasing": {
          "marker": {
           "color": "#f05a71"
          }
         },
         "hoverinfo": "text+delta",
         "hoverlabel": {
          "bgcolor": "rgba(0,0,0,0.8)"
         },
         "hovertext": [
          "Average response: 0.525<br>Prediction: 0.0",
          "Age = YOUNG<br>decreases average response by",
          "Down_Payment = HIGH<br>decreases average response by",
          "Lead_Source = Referral<br>increases average response by",
          "OEM_Loyalty_Program = No<br>increases average response by",
          "External_Factors = High<br>increases average response by",
          "Needs_Match = Medium<br>increases average response by",
          "CIBIL_Score = HIGH<br>decreases average response by",
          "Competitive_Factors = High<br>decreases average response by",
          "Delivery_Date_Status = Delayed<br>decreases average response by",
          "Customer_Satisfaction_Score = LOW<br>decreases average response by",
          "+ all other factors<br>decreases average response by",
          "Average response: 0.525<br>Prediction: 0.0"
         ],
         "increasing": {
          "marker": {
           "color": "#8bdcbe"
          }
         },
         "measure": [
          "relative",
          "relative",
          "relative",
          "relative",
          "relative",
          "relative",
          "relative",
          "relative",
          "relative",
          "relative",
          "relative",
          "relative",
          "total"
         ],
         "orientation": "h",
         "showlegend": false,
         "text": [
          "0.525",
          "0.0",
          "0.0",
          "+0.002",
          "+0.006",
          "+0.017",
          "+0.028",
          "0.0",
          "-0.0",
          "-0.004",
          "-0.014",
          "-0.56",
          "0.0"
         ],
         "textposition": "outside",
         "totals": {
          "marker": {
           "color": "#371ea3"
          }
         },
         "type": "waterfall",
         "x": [
          0,
          0,
          0,
          0.002,
          0.006,
          0.017,
          0.028,
          0,
          0,
          -0.004,
          -0.014,
          -0.56,
          -0.525
         ],
         "xaxis": "x",
         "y": [
          "intercept",
          "Age = YOUNG",
          "Down_Payment = HIGH",
          "Lead_Source = Referral",
          "OEM_Loyalty_Program = No",
          "External_Factors = High",
          "Needs_Match = Medium",
          "CIBIL_Score = HIGH",
          "Competitive_Factors = High",
          "Delivery_Date_Status = Delayed",
          "Customer_Satisfaction_Score = LOW",
          "+ all other factors",
          "prediction"
         ],
         "yaxis": "y"
        }
       ],
       "layout": {
        "annotations": [
         {
          "font": {
           "size": 16
          },
          "showarrow": false,
          "text": "BinaryResultsWrapper",
          "x": 0.5,
          "xanchor": "center",
          "xref": "paper",
          "y": 1,
          "yanchor": "bottom",
          "yref": "paper"
         },
         {
          "font": {
           "size": 16
          },
          "showarrow": false,
          "text": "contribution",
          "x": 0.5,
          "xanchor": "center",
          "xref": "paper",
          "y": 0,
          "yanchor": "top",
          "yref": "paper",
          "yshift": -30
         }
        ],
        "font": {
         "color": "#371ea3"
        },
        "height": 413,
        "margin": {
         "b": 71,
         "r": 30,
         "t": 78
        },
        "shapes": [
         {
          "line": {
           "color": "#371ea3",
           "dash": "dot",
           "width": 1.5
          },
          "type": "line",
          "x0": 0.5249938264652175,
          "x1": 0.5249938264652175,
          "xref": "x",
          "y0": -1,
          "y1": 13,
          "yref": "y"
         }
        ],
        "template": {
         "data": {
          "scatter": [
           {
            "type": "scatter"
           }
          ]
         }
        },
        "title": {
         "text": "Pooja Bansal",
         "x": 0.15
        },
        "xaxis": {
         "anchor": "y",
         "automargin": true,
         "domain": [
          0,
          1
         ],
         "fixedrange": true,
         "gridwidth": 2,
         "range": [
          -0.08669999999999999,
          0.6647
         ],
         "tickcolor": "white",
         "ticklen": 3,
         "ticks": "outside",
         "type": "linear",
         "zeroline": false
        },
        "yaxis": {
         "anchor": "x",
         "automargin": true,
         "autorange": "reversed",
         "domain": [
          0,
          1
         ],
         "fixedrange": true,
         "gridwidth": 2,
         "tickcolor": "white",
         "ticklen": 10,
         "ticks": "outside",
         "type": "category"
        }
       }
      }
     },
     "metadata": {},
     "output_type": "display_data"
    },
    {
     "data": {
      "application/vnd.plotly.v1+json": {
       "config": {
        "displaylogo": false,
        "modeBarButtonsToRemove": [
         "sendDataToCloud",
         "lasso2d",
         "autoScale2d",
         "select2d",
         "zoom2d",
         "pan2d",
         "zoomIn2d",
         "zoomOut2d",
         "resetScale2d",
         "toggleSpikelines",
         "hoverCompareCartesian",
         "hoverClosestCartesian"
        ],
        "plotlyServerURL": "https://plot.ly",
        "staticPlot": false,
        "toImageButtonOptions": {
         "height": null,
         "width": null
        }
       },
       "data": [
        {
         "base": 0.5249938264652175,
         "connector": {
          "line": {
           "color": "#371ea3",
           "dash": "solid",
           "width": 1
          },
          "mode": "spanning"
         },
         "decreasing": {
          "marker": {
           "color": "#f05a71"
          }
         },
         "hoverinfo": "text+delta",
         "hoverlabel": {
          "bgcolor": "rgba(0,0,0,0.8)"
         },
         "hovertext": [
          "Average response: 0.525<br>Prediction: 0.0",
          "Booking_Lead_Time = LOW<br>decreases average response by",
          "Lead_Source = Walk-in<br>decreases average response by",
          "Gender = Male<br>increases average response by",
          "OEM_Loyalty_Program = No<br>increases average response by",
          "Stock_Status = Available<br>decreases average response by",
          "Experience_With_Sales_Rep = Positive<br>increases average response by",
          "Dealership_Engagement = Medium<br>increases average response by",
          "First_Time_Buyer = Yes<br>increases average response by",
          "Companion_Feedback = Positive<br>increases average response by",
          "Customer_Satisfaction_Score = HIGH<br>increases average response by",
          "+ all other factors<br>decreases average response by",
          "Average response: 0.525<br>Prediction: 0.0"
         ],
         "increasing": {
          "marker": {
           "color": "#8bdcbe"
          }
         },
         "measure": [
          "relative",
          "relative",
          "relative",
          "relative",
          "relative",
          "relative",
          "relative",
          "relative",
          "relative",
          "relative",
          "relative",
          "relative",
          "total"
         ],
         "orientation": "h",
         "showlegend": false,
         "text": [
          "0.525",
          "0.0",
          "0.0",
          "+0.001",
          "+0.003",
          "0.0",
          "+0.001",
          "+0.006",
          "+0.02",
          "+0.017",
          "+0.011",
          "-0.584",
          "0.0"
         ],
         "textposition": "outside",
         "totals": {
          "marker": {
           "color": "#371ea3"
          }
         },
         "type": "waterfall",
         "x": [
          0,
          0,
          0,
          0.001,
          0.003,
          0,
          0.001,
          0.006,
          0.02,
          0.017,
          0.011,
          -0.584,
          -0.525
         ],
         "xaxis": "x",
         "y": [
          "intercept",
          "Booking_Lead_Time = LOW",
          "Lead_Source = Walk-in",
          "Gender = Male",
          "OEM_Loyalty_Program = No",
          "Stock_Status = Available",
          "Experience_With_Sales_Rep = Positive",
          "Dealership_Engagement = Medium",
          "First_Time_Buyer = Yes",
          "Companion_Feedback = Positive",
          "Customer_Satisfaction_Score = HIGH",
          "+ all other factors",
          "prediction"
         ],
         "yaxis": "y"
        }
       ],
       "layout": {
        "annotations": [
         {
          "font": {
           "size": 16
          },
          "showarrow": false,
          "text": "BinaryResultsWrapper",
          "x": 0.5,
          "xanchor": "center",
          "xref": "paper",
          "y": 1,
          "yanchor": "bottom",
          "yref": "paper"
         },
         {
          "font": {
           "size": 16
          },
          "showarrow": false,
          "text": "contribution",
          "x": 0.5,
          "xanchor": "center",
          "xref": "paper",
          "y": 0,
          "yanchor": "top",
          "yref": "paper",
          "yshift": -30
         }
        ],
        "font": {
         "color": "#371ea3"
        },
        "height": 413,
        "margin": {
         "b": 71,
         "r": 30,
         "t": 78
        },
        "shapes": [
         {
          "line": {
           "color": "#371ea3",
           "dash": "dot",
           "width": 1.5
          },
          "type": "line",
          "x0": 0.5249938264652175,
          "x1": 0.5249938264652175,
          "xref": "x",
          "y0": -1,
          "y1": 13,
          "yref": "y"
         }
        ],
        "template": {
         "data": {
          "scatter": [
           {
            "type": "scatter"
           }
          ]
         }
        },
        "title": {
         "text": "Ramesh Choudhary",
         "x": 0.15
        },
        "xaxis": {
         "anchor": "y",
         "automargin": true,
         "domain": [
          0,
          1
         ],
         "fixedrange": true,
         "gridwidth": 2,
         "range": [
          -0.0876,
          0.6716
         ],
         "tickcolor": "white",
         "ticklen": 3,
         "ticks": "outside",
         "type": "linear",
         "zeroline": false
        },
        "yaxis": {
         "anchor": "x",
         "automargin": true,
         "autorange": "reversed",
         "domain": [
          0,
          1
         ],
         "fixedrange": true,
         "gridwidth": 2,
         "tickcolor": "white",
         "ticklen": 10,
         "ticks": "outside",
         "type": "category"
        }
       }
      }
     },
     "metadata": {},
     "output_type": "display_data"
    },
    {
     "data": {
      "application/vnd.plotly.v1+json": {
       "config": {
        "displaylogo": false,
        "modeBarButtonsToRemove": [
         "sendDataToCloud",
         "lasso2d",
         "autoScale2d",
         "select2d",
         "zoom2d",
         "pan2d",
         "zoomIn2d",
         "zoomOut2d",
         "resetScale2d",
         "toggleSpikelines",
         "hoverCompareCartesian",
         "hoverClosestCartesian"
        ],
        "plotlyServerURL": "https://plot.ly",
        "staticPlot": false,
        "toImageButtonOptions": {
         "height": null,
         "width": null
        }
       },
       "data": [
        {
         "base": 0.5249938264652175,
         "connector": {
          "line": {
           "color": "#371ea3",
           "dash": "solid",
           "width": 1
          },
          "mode": "spanning"
         },
         "decreasing": {
          "marker": {
           "color": "#f05a71"
          }
         },
         "hoverinfo": "text+delta",
         "hoverlabel": {
          "bgcolor": "rgba(0,0,0,0.8)"
         },
         "hovertext": [
          "Average response: 0.525<br>Prediction: 0.0",
          "Income = HIGH<br>decreases average response by",
          "Down_Payment = HIGH<br>decreases average response by",
          "Competitive_Factors = Low<br>increases average response by",
          "Finances_Status = Cash Purchase<br>increases average response by",
          "Stock_Status = Available<br>increases average response by",
          "Experience_With_Sales_Rep = Positive<br>increases average response by",
          "External_Factors = Medium<br>decreases average response by",
          "Undecided_Finances = No<br>increases average response by",
          "Customer_Satisfaction_Score = HIGH<br>increases average response by",
          "Delivery_Date_Status = On-Time<br>increases average response by",
          "+ all other factors<br>decreases average response by",
          "Average response: 0.525<br>Prediction: 0.0"
         ],
         "increasing": {
          "marker": {
           "color": "#8bdcbe"
          }
         },
         "measure": [
          "relative",
          "relative",
          "relative",
          "relative",
          "relative",
          "relative",
          "relative",
          "relative",
          "relative",
          "relative",
          "relative",
          "relative",
          "total"
         ],
         "orientation": "h",
         "showlegend": false,
         "text": [
          "0.525",
          "0.0",
          "0.0",
          "+0.001",
          "+0.006",
          "+0.017",
          "+0.015",
          "-0.001",
          "+0.021",
          "+0.021",
          "+0.002",
          "-0.608",
          "0.0"
         ],
         "textposition": "outside",
         "totals": {
          "marker": {
           "color": "#371ea3"
          }
         },
         "type": "waterfall",
         "x": [
          0,
          0,
          0,
          0.001,
          0.006,
          0.017,
          0.015,
          -0.001,
          0.021,
          0.021,
          0.002,
          -0.608,
          -0.525
         ],
         "xaxis": "x",
         "y": [
          "intercept",
          "Income = HIGH",
          "Down_Payment = HIGH",
          "Competitive_Factors = Low",
          "Finances_Status = Cash Purchase",
          "Stock_Status = Available",
          "Experience_With_Sales_Rep = Positive",
          "External_Factors = Medium",
          "Undecided_Finances = No",
          "Customer_Satisfaction_Score = HIGH",
          "Delivery_Date_Status = On-Time",
          "+ all other factors",
          "prediction"
         ],
         "yaxis": "y"
        }
       ],
       "layout": {
        "annotations": [
         {
          "font": {
           "size": 16
          },
          "showarrow": false,
          "text": "BinaryResultsWrapper",
          "x": 0.5,
          "xanchor": "center",
          "xref": "paper",
          "y": 1,
          "yanchor": "bottom",
          "yref": "paper"
         },
         {
          "font": {
           "size": 16
          },
          "showarrow": false,
          "text": "contribution",
          "x": 0.5,
          "xanchor": "center",
          "xref": "paper",
          "y": 0,
          "yanchor": "top",
          "yref": "paper",
          "yshift": -30
         }
        ],
        "font": {
         "color": "#371ea3"
        },
        "height": 413,
        "margin": {
         "b": 71,
         "r": 30,
         "t": 78
        },
        "shapes": [
         {
          "line": {
           "color": "#371ea3",
           "dash": "dot",
           "width": 1.5
          },
          "type": "line",
          "x0": 0.5249938264652175,
          "x1": 0.5249938264652175,
          "xref": "x",
          "y0": -1,
          "y1": 13,
          "yref": "y"
         }
        ],
        "template": {
         "data": {
          "scatter": [
           {
            "type": "scatter"
           }
          ]
         }
        },
        "title": {
         "text": "Snehal Deshpande",
         "x": 0.15
        },
        "xaxis": {
         "anchor": "y",
         "automargin": true,
         "domain": [
          0,
          1
         ],
         "fixedrange": true,
         "gridwidth": 2,
         "range": [
          -0.09119999999999999,
          0.6991999999999999
         ],
         "tickcolor": "white",
         "ticklen": 3,
         "ticks": "outside",
         "type": "linear",
         "zeroline": false
        },
        "yaxis": {
         "anchor": "x",
         "automargin": true,
         "autorange": "reversed",
         "domain": [
          0,
          1
         ],
         "fixedrange": true,
         "gridwidth": 2,
         "tickcolor": "white",
         "ticklen": 10,
         "ticks": "outside",
         "type": "category"
        }
       }
      }
     },
     "metadata": {},
     "output_type": "display_data"
    },
    {
     "data": {
      "application/vnd.plotly.v1+json": {
       "config": {
        "displaylogo": false,
        "modeBarButtonsToRemove": [
         "sendDataToCloud",
         "lasso2d",
         "autoScale2d",
         "select2d",
         "zoom2d",
         "pan2d",
         "zoomIn2d",
         "zoomOut2d",
         "resetScale2d",
         "toggleSpikelines",
         "hoverCompareCartesian",
         "hoverClosestCartesian"
        ],
        "plotlyServerURL": "https://plot.ly",
        "staticPlot": false,
        "toImageButtonOptions": {
         "height": null,
         "width": null
        }
       },
       "data": [
        {
         "base": 0.5249938264652175,
         "connector": {
          "line": {
           "color": "#371ea3",
           "dash": "solid",
           "width": 1
          },
          "mode": "spanning"
         },
         "decreasing": {
          "marker": {
           "color": "#f05a71"
          }
         },
         "hoverinfo": "text+delta",
         "hoverlabel": {
          "bgcolor": "rgba(0,0,0,0.8)"
         },
         "hovertext": [
          "Average response: 0.525<br>Prediction: 0.0",
          "Special_Occasions = Festival<br>decreases average response by",
          "Down_Payment = HIGH<br>increases average response by",
          "Booking_Lead_Time = LOW<br>increases average response by",
          "Lead_Source = Referral<br>increases average response by",
          "Gender = Male<br>increases average response by",
          "Needs_Match = Medium<br>increases average response by",
          "Dealership_Engagement = Medium<br>increases average response by",
          "First_Time_Buyer = Yes<br>increases average response by",
          "External_Factors = Medium<br>increases average response by",
          "Undecided_Finances = No<br>increases average response by",
          "+ all other factors<br>decreases average response by",
          "Average response: 0.525<br>Prediction: 0.0"
         ],
         "increasing": {
          "marker": {
           "color": "#8bdcbe"
          }
         },
         "measure": [
          "relative",
          "relative",
          "relative",
          "relative",
          "relative",
          "relative",
          "relative",
          "relative",
          "relative",
          "relative",
          "relative",
          "relative",
          "total"
         ],
         "orientation": "h",
         "showlegend": false,
         "text": [
          "0.525",
          "0.0",
          "+0.009",
          "+0.015",
          "+0.003",
          "+0.015",
          "+0.022",
          "+0.032",
          "+0.003",
          "+0.001",
          "+0.028",
          "-0.654",
          "0.0"
         ],
         "textposition": "outside",
         "totals": {
          "marker": {
           "color": "#371ea3"
          }
         },
         "type": "waterfall",
         "x": [
          0,
          0,
          0.009,
          0.015,
          0.003,
          0.015,
          0.022,
          0.032,
          0.003,
          0.001,
          0.028,
          -0.654,
          -0.525
         ],
         "xaxis": "x",
         "y": [
          "intercept",
          "Special_Occasions = Festival",
          "Down_Payment = HIGH",
          "Booking_Lead_Time = LOW",
          "Lead_Source = Referral",
          "Gender = Male",
          "Needs_Match = Medium",
          "Dealership_Engagement = Medium",
          "First_Time_Buyer = Yes",
          "External_Factors = Medium",
          "Undecided_Finances = No",
          "+ all other factors",
          "prediction"
         ],
         "yaxis": "y"
        }
       ],
       "layout": {
        "annotations": [
         {
          "font": {
           "size": 16
          },
          "showarrow": false,
          "text": "BinaryResultsWrapper",
          "x": 0.5,
          "xanchor": "center",
          "xref": "paper",
          "y": 1,
          "yanchor": "bottom",
          "yref": "paper"
         },
         {
          "font": {
           "size": 16
          },
          "showarrow": false,
          "text": "contribution",
          "x": 0.5,
          "xanchor": "center",
          "xref": "paper",
          "y": 0,
          "yanchor": "top",
          "yref": "paper",
          "yshift": -30
         }
        ],
        "font": {
         "color": "#371ea3"
        },
        "height": 413,
        "margin": {
         "b": 71,
         "r": 30,
         "t": 78
        },
        "shapes": [
         {
          "line": {
           "color": "#371ea3",
           "dash": "dot",
           "width": 1.5
          },
          "type": "line",
          "x0": 0.5249938264652175,
          "x1": 0.5249938264652175,
          "xref": "x",
          "y0": -1,
          "y1": 13,
          "yref": "y"
         }
        ],
        "template": {
         "data": {
          "scatter": [
           {
            "type": "scatter"
           }
          ]
         }
        },
        "title": {
         "text": "Ankit Kapoor",
         "x": 0.15
        },
        "xaxis": {
         "anchor": "y",
         "automargin": true,
         "domain": [
          0,
          1
         ],
         "fixedrange": true,
         "gridwidth": 2,
         "range": [
          -0.0981,
          0.7521
         ],
         "tickcolor": "white",
         "ticklen": 3,
         "ticks": "outside",
         "type": "linear",
         "zeroline": false
        },
        "yaxis": {
         "anchor": "x",
         "automargin": true,
         "autorange": "reversed",
         "domain": [
          0,
          1
         ],
         "fixedrange": true,
         "gridwidth": 2,
         "tickcolor": "white",
         "ticklen": 10,
         "ticks": "outside",
         "type": "category"
        }
       }
      }
     },
     "metadata": {},
     "output_type": "display_data"
    },
    {
     "data": {
      "application/vnd.plotly.v1+json": {
       "config": {
        "displaylogo": false,
        "modeBarButtonsToRemove": [
         "sendDataToCloud",
         "lasso2d",
         "autoScale2d",
         "select2d",
         "zoom2d",
         "pan2d",
         "zoomIn2d",
         "zoomOut2d",
         "resetScale2d",
         "toggleSpikelines",
         "hoverCompareCartesian",
         "hoverClosestCartesian"
        ],
        "plotlyServerURL": "https://plot.ly",
        "staticPlot": false,
        "toImageButtonOptions": {
         "height": null,
         "width": null
        }
       },
       "data": [
        {
         "base": 0.5249938264652175,
         "connector": {
          "line": {
           "color": "#371ea3",
           "dash": "solid",
           "width": 1
          },
          "mode": "spanning"
         },
         "decreasing": {
          "marker": {
           "color": "#f05a71"
          }
         },
         "hoverinfo": "text+delta",
         "hoverlabel": {
          "bgcolor": "rgba(0,0,0,0.8)"
         },
         "hovertext": [
          "Average response: 0.525<br>Prediction: 0.0",
          "Down_Payment = HIGH<br>decreases average response by",
          "Competitive_Factors = Low<br>decreases average response by",
          "Lead_Source = Walk-in<br>decreases average response by",
          "OEM_Loyalty_Program = No<br>decreases average response by",
          "Stock_Status = Available<br>increases average response by",
          "Experience_With_Sales_Rep = Positive<br>increases average response by",
          "First_Time_Buyer = Yes<br>increases average response by",
          "External_Factors = Medium<br>decreases average response by",
          "Undecided_Finances = No<br>increases average response by",
          "Customer_Satisfaction_Score = HIGH<br>increases average response by",
          "+ all other factors<br>decreases average response by",
          "Average response: 0.525<br>Prediction: 0.0"
         ],
         "increasing": {
          "marker": {
           "color": "#8bdcbe"
          }
         },
         "measure": [
          "relative",
          "relative",
          "relative",
          "relative",
          "relative",
          "relative",
          "relative",
          "relative",
          "relative",
          "relative",
          "relative",
          "relative",
          "total"
         ],
         "orientation": "h",
         "showlegend": false,
         "text": [
          "0.525",
          "0.0",
          "0.0",
          "0.0",
          "0.0",
          "+0.004",
          "+0.025",
          "+0.017",
          "-0.004",
          "+0.01",
          "+0.012",
          "-0.589",
          "0.0"
         ],
         "textposition": "outside",
         "totals": {
          "marker": {
           "color": "#371ea3"
          }
         },
         "type": "waterfall",
         "x": [
          0,
          0,
          0,
          0,
          0,
          0.004,
          0.025,
          0.017,
          -0.004,
          0.01,
          0.012,
          -0.589,
          -0.525
         ],
         "xaxis": "x",
         "y": [
          "intercept",
          "Down_Payment = HIGH",
          "Competitive_Factors = Low",
          "Lead_Source = Walk-in",
          "OEM_Loyalty_Program = No",
          "Stock_Status = Available",
          "Experience_With_Sales_Rep = Positive",
          "First_Time_Buyer = Yes",
          "External_Factors = Medium",
          "Undecided_Finances = No",
          "Customer_Satisfaction_Score = HIGH",
          "+ all other factors",
          "prediction"
         ],
         "yaxis": "y"
        }
       ],
       "layout": {
        "annotations": [
         {
          "font": {
           "size": 16
          },
          "showarrow": false,
          "text": "BinaryResultsWrapper",
          "x": 0.5,
          "xanchor": "center",
          "xref": "paper",
          "y": 1,
          "yanchor": "bottom",
          "yref": "paper"
         },
         {
          "font": {
           "size": 16
          },
          "showarrow": false,
          "text": "contribution",
          "x": 0.5,
          "xanchor": "center",
          "xref": "paper",
          "y": 0,
          "yanchor": "top",
          "yref": "paper",
          "yshift": -30
         }
        ],
        "font": {
         "color": "#371ea3"
        },
        "height": 413,
        "margin": {
         "b": 71,
         "r": 30,
         "t": 78
        },
        "shapes": [
         {
          "line": {
           "color": "#371ea3",
           "dash": "dot",
           "width": 1.5
          },
          "type": "line",
          "x0": 0.5249938264652175,
          "x1": 0.5249938264652175,
          "xref": "x",
          "y0": -1,
          "y1": 13,
          "yref": "y"
         }
        ],
        "template": {
         "data": {
          "scatter": [
           {
            "type": "scatter"
           }
          ]
         }
        },
        "title": {
         "text": "Priya Sharma",
         "x": 0.15
        },
        "xaxis": {
         "anchor": "y",
         "automargin": true,
         "domain": [
          0,
          1
         ],
         "fixedrange": true,
         "gridwidth": 2,
         "range": [
          -0.08835,
          0.67735
         ],
         "tickcolor": "white",
         "ticklen": 3,
         "ticks": "outside",
         "type": "linear",
         "zeroline": false
        },
        "yaxis": {
         "anchor": "x",
         "automargin": true,
         "autorange": "reversed",
         "domain": [
          0,
          1
         ],
         "fixedrange": true,
         "gridwidth": 2,
         "tickcolor": "white",
         "ticklen": 10,
         "ticks": "outside",
         "type": "category"
        }
       }
      }
     },
     "metadata": {},
     "output_type": "display_data"
    },
    {
     "data": {
      "application/vnd.plotly.v1+json": {
       "config": {
        "displaylogo": false,
        "modeBarButtonsToRemove": [
         "sendDataToCloud",
         "lasso2d",
         "autoScale2d",
         "select2d",
         "zoom2d",
         "pan2d",
         "zoomIn2d",
         "zoomOut2d",
         "resetScale2d",
         "toggleSpikelines",
         "hoverCompareCartesian",
         "hoverClosestCartesian"
        ],
        "plotlyServerURL": "https://plot.ly",
        "staticPlot": false,
        "toImageButtonOptions": {
         "height": null,
         "width": null
        }
       },
       "data": [
        {
         "base": 0.5249938264652175,
         "connector": {
          "line": {
           "color": "#371ea3",
           "dash": "solid",
           "width": 1
          },
          "mode": "spanning"
         },
         "decreasing": {
          "marker": {
           "color": "#f05a71"
          }
         },
         "hoverinfo": "text+delta",
         "hoverlabel": {
          "bgcolor": "rgba(0,0,0,0.8)"
         },
         "hovertext": [
          "Average response: 0.525<br>Prediction: 0.0",
          "Age = YOUNG<br>decreases average response by",
          "Income = HIGH<br>increases average response by",
          "Booking_Lead_Time = LOW<br>increases average response by",
          "Gender = Male<br>increases average response by",
          "External_Factors = High<br>increases average response by",
          "Needs_Match = Medium<br>increases average response by",
          "Dealership_Engagement = Medium<br>increases average response by",
          "Companion_Feedback = Positive<br>increases average response by",
          "CIBIL_Score = HIGH<br>decreases average response by",
          "OEM_Loyalty_Program = Yes<br>decreases average response by",
          "+ all other factors<br>decreases average response by",
          "Average response: 0.525<br>Prediction: 0.0"
         ],
         "increasing": {
          "marker": {
           "color": "#8bdcbe"
          }
         },
         "measure": [
          "relative",
          "relative",
          "relative",
          "relative",
          "relative",
          "relative",
          "relative",
          "relative",
          "relative",
          "relative",
          "relative",
          "relative",
          "total"
         ],
         "orientation": "h",
         "showlegend": false,
         "text": [
          "0.525",
          "0.0",
          "+0.004",
          "+0.001",
          "+0.019",
          "+0.027",
          "+0.031",
          "+0.023",
          "+0.015",
          "0.0",
          "-0.002",
          "-0.643",
          "0.0"
         ],
         "textposition": "outside",
         "totals": {
          "marker": {
           "color": "#371ea3"
          }
         },
         "type": "waterfall",
         "x": [
          0,
          0,
          0.004,
          0.001,
          0.019,
          0.027,
          0.031,
          0.023,
          0.015,
          0,
          -0.002,
          -0.643,
          -0.525
         ],
         "xaxis": "x",
         "y": [
          "intercept",
          "Age = YOUNG",
          "Income = HIGH",
          "Booking_Lead_Time = LOW",
          "Gender = Male",
          "External_Factors = High",
          "Needs_Match = Medium",
          "Dealership_Engagement = Medium",
          "Companion_Feedback = Positive",
          "CIBIL_Score = HIGH",
          "OEM_Loyalty_Program = Yes",
          "+ all other factors",
          "prediction"
         ],
         "yaxis": "y"
        }
       ],
       "layout": {
        "annotations": [
         {
          "font": {
           "size": 16
          },
          "showarrow": false,
          "text": "BinaryResultsWrapper",
          "x": 0.5,
          "xanchor": "center",
          "xref": "paper",
          "y": 1,
          "yanchor": "bottom",
          "yref": "paper"
         },
         {
          "font": {
           "size": 16
          },
          "showarrow": false,
          "text": "contribution",
          "x": 0.5,
          "xanchor": "center",
          "xref": "paper",
          "y": 0,
          "yanchor": "top",
          "yref": "paper",
          "yshift": -30
         }
        ],
        "font": {
         "color": "#371ea3"
        },
        "height": 413,
        "margin": {
         "b": 71,
         "r": 30,
         "t": 78
        },
        "shapes": [
         {
          "line": {
           "color": "#371ea3",
           "dash": "dot",
           "width": 1.5
          },
          "type": "line",
          "x0": 0.5249938264652175,
          "x1": 0.5249938264652175,
          "xref": "x",
          "y0": -1,
          "y1": 13,
          "yref": "y"
         }
        ],
        "template": {
         "data": {
          "scatter": [
           {
            "type": "scatter"
           }
          ]
         }
        },
        "title": {
         "text": "Rohan Mehta",
         "x": 0.15
        },
        "xaxis": {
         "anchor": "y",
         "automargin": true,
         "domain": [
          0,
          1
         ],
         "fixedrange": true,
         "gridwidth": 2,
         "range": [
          -0.09675,
          0.74175
         ],
         "tickcolor": "white",
         "ticklen": 3,
         "ticks": "outside",
         "type": "linear",
         "zeroline": false
        },
        "yaxis": {
         "anchor": "x",
         "automargin": true,
         "autorange": "reversed",
         "domain": [
          0,
          1
         ],
         "fixedrange": true,
         "gridwidth": 2,
         "tickcolor": "white",
         "ticklen": 10,
         "ticks": "outside",
         "type": "category"
        }
       }
      }
     },
     "metadata": {},
     "output_type": "display_data"
    },
    {
     "data": {
      "application/vnd.plotly.v1+json": {
       "config": {
        "displaylogo": false,
        "modeBarButtonsToRemove": [
         "sendDataToCloud",
         "lasso2d",
         "autoScale2d",
         "select2d",
         "zoom2d",
         "pan2d",
         "zoomIn2d",
         "zoomOut2d",
         "resetScale2d",
         "toggleSpikelines",
         "hoverCompareCartesian",
         "hoverClosestCartesian"
        ],
        "plotlyServerURL": "https://plot.ly",
        "staticPlot": false,
        "toImageButtonOptions": {
         "height": null,
         "width": null
        }
       },
       "data": [
        {
         "base": 0.5249938264652175,
         "connector": {
          "line": {
           "color": "#371ea3",
           "dash": "solid",
           "width": 1
          },
          "mode": "spanning"
         },
         "decreasing": {
          "marker": {
           "color": "#f05a71"
          }
         },
         "hoverinfo": "text+delta",
         "hoverlabel": {
          "bgcolor": "rgba(0,0,0,0.8)"
         },
         "hovertext": [
          "Average response: 0.525<br>Prediction: 0.0",
          "Lead_Source = Referral<br>decreases average response by",
          "Finances_Status = Cash Purchase<br>decreases average response by",
          "Stock_Status = Available<br>decreases average response by",
          "Needs_Match = Medium<br>decreases average response by",
          "Experience_With_Sales_Rep = Negative<br>increases average response by",
          "First_Time_Buyer = Yes<br>decreases average response by",
          "External_Factors = Medium<br>decreases average response by",
          "Undecided_Finances = No<br>increases average response by",
          "Delivery_Date_Status = On-Time<br>decreases average response by",
          "CIBIL_Score = HIGH<br>decreases average response by",
          "+ all other factors<br>decreases average response by",
          "Average response: 0.525<br>Prediction: 0.0"
         ],
         "increasing": {
          "marker": {
           "color": "#8bdcbe"
          }
         },
         "measure": [
          "relative",
          "relative",
          "relative",
          "relative",
          "relative",
          "relative",
          "relative",
          "relative",
          "relative",
          "relative",
          "relative",
          "relative",
          "total"
         ],
         "orientation": "h",
         "showlegend": false,
         "text": [
          "0.525",
          "0.0",
          "0.0",
          "0.0",
          "0.0",
          "+0.001",
          "0.0",
          "0.0",
          "+0.001",
          "0.0",
          "0.0",
          "-0.529",
          "0.0"
         ],
         "textposition": "outside",
         "totals": {
          "marker": {
           "color": "#371ea3"
          }
         },
         "type": "waterfall",
         "x": [
          0,
          0,
          0,
          0,
          0,
          0.001,
          0,
          0,
          0.001,
          0,
          0,
          -0.529,
          -0.525
         ],
         "xaxis": "x",
         "y": [
          "intercept",
          "Lead_Source = Referral",
          "Finances_Status = Cash Purchase",
          "Stock_Status = Available",
          "Needs_Match = Medium",
          "Experience_With_Sales_Rep = Negative",
          "First_Time_Buyer = Yes",
          "External_Factors = Medium",
          "Undecided_Finances = No",
          "Delivery_Date_Status = On-Time",
          "CIBIL_Score = HIGH",
          "+ all other factors",
          "prediction"
         ],
         "yaxis": "y"
        }
       ],
       "layout": {
        "annotations": [
         {
          "font": {
           "size": 16
          },
          "showarrow": false,
          "text": "BinaryResultsWrapper",
          "x": 0.5,
          "xanchor": "center",
          "xref": "paper",
          "y": 1,
          "yanchor": "bottom",
          "yref": "paper"
         },
         {
          "font": {
           "size": 16
          },
          "showarrow": false,
          "text": "contribution",
          "x": 0.5,
          "xanchor": "center",
          "xref": "paper",
          "y": 0,
          "yanchor": "top",
          "yref": "paper",
          "yshift": -30
         }
        ],
        "font": {
         "color": "#371ea3"
        },
        "height": 413,
        "margin": {
         "b": 71,
         "r": 30,
         "t": 78
        },
        "shapes": [
         {
          "line": {
           "color": "#371ea3",
           "dash": "dot",
           "width": 1.5
          },
          "type": "line",
          "x0": 0.5249938264652175,
          "x1": 0.5249938264652175,
          "xref": "x",
          "y0": -1,
          "y1": 13,
          "yref": "y"
         }
        ],
        "template": {
         "data": {
          "scatter": [
           {
            "type": "scatter"
           }
          ]
         }
        },
        "title": {
         "text": "Anjali Verma",
         "x": 0.15
        },
        "xaxis": {
         "anchor": "y",
         "automargin": true,
         "domain": [
          0,
          1
         ],
         "fixedrange": true,
         "gridwidth": 2,
         "range": [
          -0.07935,
          0.6083500000000001
         ],
         "tickcolor": "white",
         "ticklen": 3,
         "ticks": "outside",
         "type": "linear",
         "zeroline": false
        },
        "yaxis": {
         "anchor": "x",
         "automargin": true,
         "autorange": "reversed",
         "domain": [
          0,
          1
         ],
         "fixedrange": true,
         "gridwidth": 2,
         "tickcolor": "white",
         "ticklen": 10,
         "ticks": "outside",
         "type": "category"
        }
       }
      }
     },
     "metadata": {},
     "output_type": "display_data"
    },
    {
     "data": {
      "application/vnd.plotly.v1+json": {
       "config": {
        "displaylogo": false,
        "modeBarButtonsToRemove": [
         "sendDataToCloud",
         "lasso2d",
         "autoScale2d",
         "select2d",
         "zoom2d",
         "pan2d",
         "zoomIn2d",
         "zoomOut2d",
         "resetScale2d",
         "toggleSpikelines",
         "hoverCompareCartesian",
         "hoverClosestCartesian"
        ],
        "plotlyServerURL": "https://plot.ly",
        "staticPlot": false,
        "toImageButtonOptions": {
         "height": null,
         "width": null
        }
       },
       "data": [
        {
         "base": 0.5249938264652175,
         "connector": {
          "line": {
           "color": "#371ea3",
           "dash": "solid",
           "width": 1
          },
          "mode": "spanning"
         },
         "decreasing": {
          "marker": {
           "color": "#f05a71"
          }
         },
         "hoverinfo": "text+delta",
         "hoverlabel": {
          "bgcolor": "rgba(0,0,0,0.8)"
         },
         "hovertext": [
          "Average response: 0.525<br>Prediction: 0.0",
          "Down_Payment = HIGH<br>decreases average response by",
          "Booking_Lead_Time = LOW<br>increases average response by",
          "Competitive_Factors = Low<br>decreases average response by",
          "Gender = Male<br>increases average response by",
          "Stock_Status = Available<br>increases average response by",
          "Experience_With_Sales_Rep = Positive<br>increases average response by",
          "First_Time_Buyer = Yes<br>increases average response by",
          "Companion_Feedback = Positive<br>increases average response by",
          "Customer_Satisfaction_Score = HIGH<br>increases average response by",
          "Delivery_Date_Status = On-Time<br>increases average response by",
          "+ all other factors<br>decreases average response by",
          "Average response: 0.525<br>Prediction: 0.0"
         ],
         "increasing": {
          "marker": {
           "color": "#8bdcbe"
          }
         },
         "measure": [
          "relative",
          "relative",
          "relative",
          "relative",
          "relative",
          "relative",
          "relative",
          "relative",
          "relative",
          "relative",
          "relative",
          "relative",
          "total"
         ],
         "orientation": "h",
         "showlegend": false,
         "text": [
          "0.525",
          "0.0",
          "+0.002",
          "0.0",
          "+0.01",
          "+0.009",
          "+0.028",
          "+0.021",
          "+0.013",
          "+0.008",
          "+0.002",
          "-0.618",
          "0.0"
         ],
         "textposition": "outside",
         "totals": {
          "marker": {
           "color": "#371ea3"
          }
         },
         "type": "waterfall",
         "x": [
          0,
          0,
          0.002,
          0,
          0.01,
          0.009,
          0.028,
          0.021,
          0.013,
          0.008,
          0.002,
          -0.618,
          -0.525
         ],
         "xaxis": "x",
         "y": [
          "intercept",
          "Down_Payment = HIGH",
          "Booking_Lead_Time = LOW",
          "Competitive_Factors = Low",
          "Gender = Male",
          "Stock_Status = Available",
          "Experience_With_Sales_Rep = Positive",
          "First_Time_Buyer = Yes",
          "Companion_Feedback = Positive",
          "Customer_Satisfaction_Score = HIGH",
          "Delivery_Date_Status = On-Time",
          "+ all other factors",
          "prediction"
         ],
         "yaxis": "y"
        }
       ],
       "layout": {
        "annotations": [
         {
          "font": {
           "size": 16
          },
          "showarrow": false,
          "text": "BinaryResultsWrapper",
          "x": 0.5,
          "xanchor": "center",
          "xref": "paper",
          "y": 1,
          "yanchor": "bottom",
          "yref": "paper"
         },
         {
          "font": {
           "size": 16
          },
          "showarrow": false,
          "text": "contribution",
          "x": 0.5,
          "xanchor": "center",
          "xref": "paper",
          "y": 0,
          "yanchor": "top",
          "yref": "paper",
          "yshift": -30
         }
        ],
        "font": {
         "color": "#371ea3"
        },
        "height": 413,
        "margin": {
         "b": 71,
         "r": 30,
         "t": 78
        },
        "shapes": [
         {
          "line": {
           "color": "#371ea3",
           "dash": "dot",
           "width": 1.5
          },
          "type": "line",
          "x0": 0.5249938264652175,
          "x1": 0.5249938264652175,
          "xref": "x",
          "y0": -1,
          "y1": 13,
          "yref": "y"
         }
        ],
        "template": {
         "data": {
          "scatter": [
           {
            "type": "scatter"
           }
          ]
         }
        },
        "title": {
         "text": "Sanjay Gupta",
         "x": 0.15
        },
        "xaxis": {
         "anchor": "y",
         "automargin": true,
         "domain": [
          0,
          1
         ],
         "fixedrange": true,
         "gridwidth": 2,
         "range": [
          -0.09269999999999999,
          0.7107
         ],
         "tickcolor": "white",
         "ticklen": 3,
         "ticks": "outside",
         "type": "linear",
         "zeroline": false
        },
        "yaxis": {
         "anchor": "x",
         "automargin": true,
         "autorange": "reversed",
         "domain": [
          0,
          1
         ],
         "fixedrange": true,
         "gridwidth": 2,
         "tickcolor": "white",
         "ticklen": 10,
         "ticks": "outside",
         "type": "category"
        }
       }
      }
     },
     "metadata": {},
     "output_type": "display_data"
    },
    {
     "data": {
      "application/vnd.plotly.v1+json": {
       "config": {
        "displaylogo": false,
        "modeBarButtonsToRemove": [
         "sendDataToCloud",
         "lasso2d",
         "autoScale2d",
         "select2d",
         "zoom2d",
         "pan2d",
         "zoomIn2d",
         "zoomOut2d",
         "resetScale2d",
         "toggleSpikelines",
         "hoverCompareCartesian",
         "hoverClosestCartesian"
        ],
        "plotlyServerURL": "https://plot.ly",
        "staticPlot": false,
        "toImageButtonOptions": {
         "height": null,
         "width": null
        }
       },
       "data": [
        {
         "base": 0.5249938264652175,
         "connector": {
          "line": {
           "color": "#371ea3",
           "dash": "solid",
           "width": 1
          },
          "mode": "spanning"
         },
         "decreasing": {
          "marker": {
           "color": "#f05a71"
          }
         },
         "hoverinfo": "text+delta",
         "hoverlabel": {
          "bgcolor": "rgba(0,0,0,0.8)"
         },
         "hovertext": [
          "Average response: 0.525<br>Prediction: 0.0",
          "Special_Occasions = Festival<br>decreases average response by",
          "Age = YOUNG<br>increases average response by",
          "Lead_Source = Walk-in<br>increases average response by",
          "Finances_Status = Cash Purchase<br>increases average response by",
          "OEM_Loyalty_Program = No<br>increases average response by",
          "Needs_Match = Medium<br>increases average response by",
          "Dealership_Engagement = Medium<br>increases average response by",
          "External_Factors = Medium<br>increases average response by",
          "Undecided_Finances = No<br>increases average response by",
          "Delivery_Date_Status = Delayed<br>decreases average response by",
          "+ all other factors<br>decreases average response by",
          "Average response: 0.525<br>Prediction: 0.0"
         ],
         "increasing": {
          "marker": {
           "color": "#8bdcbe"
          }
         },
         "measure": [
          "relative",
          "relative",
          "relative",
          "relative",
          "relative",
          "relative",
          "relative",
          "relative",
          "relative",
          "relative",
          "relative",
          "relative",
          "total"
         ],
         "orientation": "h",
         "showlegend": false,
         "text": [
          "0.525",
          "0.0",
          "+0.007",
          "+0.029",
          "+0.021",
          "+0.019",
          "+0.032",
          "+0.03",
          "+0.003",
          "+0.029",
          "-0.006",
          "-0.69",
          "0.0"
         ],
         "textposition": "outside",
         "totals": {
          "marker": {
           "color": "#371ea3"
          }
         },
         "type": "waterfall",
         "x": [
          0,
          0,
          0.007,
          0.029,
          0.021,
          0.019,
          0.032,
          0.03,
          0.003,
          0.029,
          -0.006,
          -0.69,
          -0.525
         ],
         "xaxis": "x",
         "y": [
          "intercept",
          "Special_Occasions = Festival",
          "Age = YOUNG",
          "Lead_Source = Walk-in",
          "Finances_Status = Cash Purchase",
          "OEM_Loyalty_Program = No",
          "Needs_Match = Medium",
          "Dealership_Engagement = Medium",
          "External_Factors = Medium",
          "Undecided_Finances = No",
          "Delivery_Date_Status = Delayed",
          "+ all other factors",
          "prediction"
         ],
         "yaxis": "y"
        }
       ],
       "layout": {
        "annotations": [
         {
          "font": {
           "size": 16
          },
          "showarrow": false,
          "text": "BinaryResultsWrapper",
          "x": 0.5,
          "xanchor": "center",
          "xref": "paper",
          "y": 1,
          "yanchor": "bottom",
          "yref": "paper"
         },
         {
          "font": {
           "size": 16
          },
          "showarrow": false,
          "text": "contribution",
          "x": 0.5,
          "xanchor": "center",
          "xref": "paper",
          "y": 0,
          "yanchor": "top",
          "yref": "paper",
          "yshift": -30
         }
        ],
        "font": {
         "color": "#371ea3"
        },
        "height": 413,
        "margin": {
         "b": 71,
         "r": 30,
         "t": 78
        },
        "shapes": [
         {
          "line": {
           "color": "#371ea3",
           "dash": "dot",
           "width": 1.5
          },
          "type": "line",
          "x0": 0.5249938264652175,
          "x1": 0.5249938264652175,
          "xref": "x",
          "y0": -1,
          "y1": 13,
          "yref": "y"
         }
        ],
        "template": {
         "data": {
          "scatter": [
           {
            "type": "scatter"
           }
          ]
         }
        },
        "title": {
         "text": "Meera Kapoor",
         "x": 0.15
        },
        "xaxis": {
         "anchor": "y",
         "automargin": true,
         "domain": [
          0,
          1
         ],
         "fixedrange": true,
         "gridwidth": 2,
         "range": [
          -0.10425,
          0.7992499999999999
         ],
         "tickcolor": "white",
         "ticklen": 3,
         "ticks": "outside",
         "type": "linear",
         "zeroline": false
        },
        "yaxis": {
         "anchor": "x",
         "automargin": true,
         "autorange": "reversed",
         "domain": [
          0,
          1
         ],
         "fixedrange": true,
         "gridwidth": 2,
         "tickcolor": "white",
         "ticklen": 10,
         "ticks": "outside",
         "type": "category"
        }
       }
      }
     },
     "metadata": {},
     "output_type": "display_data"
    },
    {
     "data": {
      "application/vnd.plotly.v1+json": {
       "config": {
        "displaylogo": false,
        "modeBarButtonsToRemove": [
         "sendDataToCloud",
         "lasso2d",
         "autoScale2d",
         "select2d",
         "zoom2d",
         "pan2d",
         "zoomIn2d",
         "zoomOut2d",
         "resetScale2d",
         "toggleSpikelines",
         "hoverCompareCartesian",
         "hoverClosestCartesian"
        ],
        "plotlyServerURL": "https://plot.ly",
        "staticPlot": false,
        "toImageButtonOptions": {
         "height": null,
         "width": null
        }
       },
       "data": [
        {
         "base": 0.5249938264652175,
         "connector": {
          "line": {
           "color": "#371ea3",
           "dash": "solid",
           "width": 1
          },
          "mode": "spanning"
         },
         "decreasing": {
          "marker": {
           "color": "#f05a71"
          }
         },
         "hoverinfo": "text+delta",
         "hoverlabel": {
          "bgcolor": "rgba(0,0,0,0.8)"
         },
         "hovertext": [
          "Average response: 0.525<br>Prediction: 0.0",
          "Booking_Lead_Time = LOW<br>decreases average response by",
          "Lead_Source = Referral<br>decreases average response by",
          "Gender = Male<br>increases average response by",
          "External_Factors = High<br>increases average response by",
          "Experience_With_Sales_Rep = Positive<br>decreases average response by",
          "First_Time_Buyer = Yes<br>increases average response by",
          "Companion_Feedback = Positive<br>increases average response by",
          "CIBIL_Score = HIGH<br>decreases average response by",
          "OEM_Loyalty_Program = Yes<br>decreases average response by",
          "Competitive_Factors = High<br>decreases average response by",
          "+ all other factors<br>decreases average response by",
          "Average response: 0.525<br>Prediction: 0.0"
         ],
         "increasing": {
          "marker": {
           "color": "#8bdcbe"
          }
         },
         "measure": [
          "relative",
          "relative",
          "relative",
          "relative",
          "relative",
          "relative",
          "relative",
          "relative",
          "relative",
          "relative",
          "relative",
          "relative",
          "total"
         ],
         "orientation": "h",
         "showlegend": false,
         "text": [
          "0.525",
          "0.0",
          "0.0",
          "+0.001",
          "+0.002",
          "0.0",
          "+0.01",
          "+0.013",
          "0.0",
          "-0.001",
          "-0.003",
          "-0.548",
          "0.0"
         ],
         "textposition": "outside",
         "totals": {
          "marker": {
           "color": "#371ea3"
          }
         },
         "type": "waterfall",
         "x": [
          0,
          0,
          0,
          0.001,
          0.002,
          0,
          0.01,
          0.013,
          0,
          -0.001,
          -0.003,
          -0.548,
          -0.525
         ],
         "xaxis": "x",
         "y": [
          "intercept",
          "Booking_Lead_Time = LOW",
          "Lead_Source = Referral",
          "Gender = Male",
          "External_Factors = High",
          "Experience_With_Sales_Rep = Positive",
          "First_Time_Buyer = Yes",
          "Companion_Feedback = Positive",
          "CIBIL_Score = HIGH",
          "OEM_Loyalty_Program = Yes",
          "Competitive_Factors = High",
          "+ all other factors",
          "prediction"
         ],
         "yaxis": "y"
        }
       ],
       "layout": {
        "annotations": [
         {
          "font": {
           "size": 16
          },
          "showarrow": false,
          "text": "BinaryResultsWrapper",
          "x": 0.5,
          "xanchor": "center",
          "xref": "paper",
          "y": 1,
          "yanchor": "bottom",
          "yref": "paper"
         },
         {
          "font": {
           "size": 16
          },
          "showarrow": false,
          "text": "contribution",
          "x": 0.5,
          "xanchor": "center",
          "xref": "paper",
          "y": 0,
          "yanchor": "top",
          "yref": "paper",
          "yshift": -30
         }
        ],
        "font": {
         "color": "#371ea3"
        },
        "height": 413,
        "margin": {
         "b": 71,
         "r": 30,
         "t": 78
        },
        "shapes": [
         {
          "line": {
           "color": "#371ea3",
           "dash": "dot",
           "width": 1.5
          },
          "type": "line",
          "x0": 0.5249938264652175,
          "x1": 0.5249938264652175,
          "xref": "x",
          "y0": -1,
          "y1": 13,
          "yref": "y"
         }
        ],
        "template": {
         "data": {
          "scatter": [
           {
            "type": "scatter"
           }
          ]
         }
        },
        "title": {
         "text": "Arjun Nair",
         "x": 0.15
        },
        "xaxis": {
         "anchor": "y",
         "automargin": true,
         "domain": [
          0,
          1
         ],
         "fixedrange": true,
         "gridwidth": 2,
         "range": [
          -0.0828,
          0.6348
         ],
         "tickcolor": "white",
         "ticklen": 3,
         "ticks": "outside",
         "type": "linear",
         "zeroline": false
        },
        "yaxis": {
         "anchor": "x",
         "automargin": true,
         "autorange": "reversed",
         "domain": [
          0,
          1
         ],
         "fixedrange": true,
         "gridwidth": 2,
         "tickcolor": "white",
         "ticklen": 10,
         "ticks": "outside",
         "type": "category"
        }
       }
      }
     },
     "metadata": {},
     "output_type": "display_data"
    },
    {
     "data": {
      "application/vnd.plotly.v1+json": {
       "config": {
        "displaylogo": false,
        "modeBarButtonsToRemove": [
         "sendDataToCloud",
         "lasso2d",
         "autoScale2d",
         "select2d",
         "zoom2d",
         "pan2d",
         "zoomIn2d",
         "zoomOut2d",
         "resetScale2d",
         "toggleSpikelines",
         "hoverCompareCartesian",
         "hoverClosestCartesian"
        ],
        "plotlyServerURL": "https://plot.ly",
        "staticPlot": false,
        "toImageButtonOptions": {
         "height": null,
         "width": null
        }
       },
       "data": [
        {
         "base": 0.5249938264652175,
         "connector": {
          "line": {
           "color": "#371ea3",
           "dash": "solid",
           "width": 1
          },
          "mode": "spanning"
         },
         "decreasing": {
          "marker": {
           "color": "#f05a71"
          }
         },
         "hoverinfo": "text+delta",
         "hoverlabel": {
          "bgcolor": "rgba(0,0,0,0.8)"
         },
         "hovertext": [
          "Average response: 0.525<br>Prediction: 0.0",
          "Stock_Status = Available<br>decreases average response by",
          "Experience_With_Sales_Rep = Negative<br>decreases average response by",
          "Customer_Satisfaction_Score = HIGH<br>decreases average response by",
          "Delivery_Date_Status = On-Time<br>decreases average response by",
          "OEM_Loyalty_Program = Yes<br>decreases average response by",
          "External_Factors = Low<br>decreases average response by",
          "Income = LOW<br>increases average response by",
          "CIBIL_Score = LOW<br>decreases average response by",
          "Needs_Match = Low<br>decreases average response by",
          "Dealership_Engagement = Low<br>decreases average response by",
          "+ all other factors<br>decreases average response by",
          "Average response: 0.525<br>Prediction: 0.0"
         ],
         "increasing": {
          "marker": {
           "color": "#8bdcbe"
          }
         },
         "measure": [
          "relative",
          "relative",
          "relative",
          "relative",
          "relative",
          "relative",
          "relative",
          "relative",
          "relative",
          "relative",
          "relative",
          "relative",
          "total"
         ],
         "orientation": "h",
         "showlegend": false,
         "text": [
          "0.525",
          "0.0",
          "0.0",
          "0.0",
          "0.0",
          "-0.0",
          "-0.0",
          "+0.001",
          "-0.001",
          "-0.001",
          "-0.0",
          "-0.525",
          "0.0"
         ],
         "textposition": "outside",
         "totals": {
          "marker": {
           "color": "#371ea3"
          }
         },
         "type": "waterfall",
         "x": [
          0,
          0,
          0,
          0,
          0,
          0,
          0,
          0.001,
          -0.001,
          -0.001,
          0,
          -0.525,
          -0.525
         ],
         "xaxis": "x",
         "y": [
          "intercept",
          "Stock_Status = Available",
          "Experience_With_Sales_Rep = Negative",
          "Customer_Satisfaction_Score = HIGH",
          "Delivery_Date_Status = On-Time",
          "OEM_Loyalty_Program = Yes",
          "External_Factors = Low",
          "Income = LOW",
          "CIBIL_Score = LOW",
          "Needs_Match = Low",
          "Dealership_Engagement = Low",
          "+ all other factors",
          "prediction"
         ],
         "yaxis": "y"
        }
       ],
       "layout": {
        "annotations": [
         {
          "font": {
           "size": 16
          },
          "showarrow": false,
          "text": "BinaryResultsWrapper",
          "x": 0.5,
          "xanchor": "center",
          "xref": "paper",
          "y": 1,
          "yanchor": "bottom",
          "yref": "paper"
         },
         {
          "font": {
           "size": 16
          },
          "showarrow": false,
          "text": "contribution",
          "x": 0.5,
          "xanchor": "center",
          "xref": "paper",
          "y": 0,
          "yanchor": "top",
          "yref": "paper",
          "yshift": -30
         }
        ],
        "font": {
         "color": "#371ea3"
        },
        "height": 413,
        "margin": {
         "b": 71,
         "r": 30,
         "t": 78
        },
        "shapes": [
         {
          "line": {
           "color": "#371ea3",
           "dash": "dot",
           "width": 1.5
          },
          "type": "line",
          "x0": 0.5249938264652175,
          "x1": 0.5249938264652175,
          "xref": "x",
          "y0": -1,
          "y1": 13,
          "yref": "y"
         }
        ],
        "template": {
         "data": {
          "scatter": [
           {
            "type": "scatter"
           }
          ]
         }
        },
        "title": {
         "text": "Sneha Kulkarni",
         "x": 0.15
        },
        "xaxis": {
         "anchor": "y",
         "automargin": true,
         "domain": [
          0,
          1
         ],
         "fixedrange": true,
         "gridwidth": 2,
         "range": [
          -0.0789,
          0.6049
         ],
         "tickcolor": "white",
         "ticklen": 3,
         "ticks": "outside",
         "type": "linear",
         "zeroline": false
        },
        "yaxis": {
         "anchor": "x",
         "automargin": true,
         "autorange": "reversed",
         "domain": [
          0,
          1
         ],
         "fixedrange": true,
         "gridwidth": 2,
         "tickcolor": "white",
         "ticklen": 10,
         "ticks": "outside",
         "type": "category"
        }
       }
      }
     },
     "metadata": {},
     "output_type": "display_data"
    },
    {
     "data": {
      "application/vnd.plotly.v1+json": {
       "config": {
        "displaylogo": false,
        "modeBarButtonsToRemove": [
         "sendDataToCloud",
         "lasso2d",
         "autoScale2d",
         "select2d",
         "zoom2d",
         "pan2d",
         "zoomIn2d",
         "zoomOut2d",
         "resetScale2d",
         "toggleSpikelines",
         "hoverCompareCartesian",
         "hoverClosestCartesian"
        ],
        "plotlyServerURL": "https://plot.ly",
        "staticPlot": false,
        "toImageButtonOptions": {
         "height": null,
         "width": null
        }
       },
       "data": [
        {
         "base": 0.5249938264652175,
         "connector": {
          "line": {
           "color": "#371ea3",
           "dash": "solid",
           "width": 1
          },
          "mode": "spanning"
         },
         "decreasing": {
          "marker": {
           "color": "#f05a71"
          }
         },
         "hoverinfo": "text+delta",
         "hoverlabel": {
          "bgcolor": "rgba(0,0,0,0.8)"
         },
         "hovertext": [
          "Average response: 0.525<br>Prediction: 1.0",
          "Special_Occasions = Festival<br>decreases average response by",
          "Age = YOUNG<br>increases average response by",
          "Income = HIGH<br>increases average response by",
          "Down_Payment = HIGH<br>increases average response by",
          "Booking_Lead_Time = LOW<br>increases average response by",
          "Competitive_Factors = Low<br>increases average response by",
          "Lead_Source = Walk-in<br>increases average response by",
          "Gender = Male<br>increases average response by",
          "Finances_Status = Cash Purchase<br>increases average response by",
          "Stock_Status = Available<br>increases average response by",
          "+ all other factors<br>increases average response by",
          "Average response: 0.525<br>Prediction: 1.0"
         ],
         "increasing": {
          "marker": {
           "color": "#8bdcbe"
          }
         },
         "measure": [
          "relative",
          "relative",
          "relative",
          "relative",
          "relative",
          "relative",
          "relative",
          "relative",
          "relative",
          "relative",
          "relative",
          "relative",
          "total"
         ],
         "orientation": "h",
         "showlegend": false,
         "text": [
          "0.525",
          "0.0",
          "+0.007",
          "+0.03",
          "+0.045",
          "+0.037",
          "+0.067",
          "+0.06",
          "+0.047",
          "+0.075",
          "+0.066",
          "+0.04",
          "1.0"
         ],
         "textposition": "outside",
         "totals": {
          "marker": {
           "color": "#371ea3"
          }
         },
         "type": "waterfall",
         "x": [
          0,
          0,
          0.007,
          0.03,
          0.045,
          0.037,
          0.067,
          0.06,
          0.047,
          0.075,
          0.066,
          0.04,
          0.475
         ],
         "xaxis": "x",
         "y": [
          "intercept",
          "Special_Occasions = Festival",
          "Age = YOUNG",
          "Income = HIGH",
          "Down_Payment = HIGH",
          "Booking_Lead_Time = LOW",
          "Competitive_Factors = Low",
          "Lead_Source = Walk-in",
          "Gender = Male",
          "Finances_Status = Cash Purchase",
          "Stock_Status = Available",
          "+ all other factors",
          "prediction"
         ],
         "yaxis": "y"
        }
       ],
       "layout": {
        "annotations": [
         {
          "font": {
           "size": 16
          },
          "showarrow": false,
          "text": "BinaryResultsWrapper",
          "x": 0.5,
          "xanchor": "center",
          "xref": "paper",
          "y": 1,
          "yanchor": "bottom",
          "yref": "paper"
         },
         {
          "font": {
           "size": 16
          },
          "showarrow": false,
          "text": "contribution",
          "x": 0.5,
          "xanchor": "center",
          "xref": "paper",
          "y": 0,
          "yanchor": "top",
          "yref": "paper",
          "yshift": -30
         }
        ],
        "font": {
         "color": "#371ea3"
        },
        "height": 413,
        "margin": {
         "b": 71,
         "r": 30,
         "t": 78
        },
        "shapes": [
         {
          "line": {
           "color": "#371ea3",
           "dash": "dot",
           "width": 1.5
          },
          "type": "line",
          "x0": 0.5249938264652175,
          "x1": 0.5249938264652175,
          "xref": "x",
          "y0": -1,
          "y1": 13,
          "yref": "y"
         }
        ],
        "template": {
         "data": {
          "scatter": [
           {
            "type": "scatter"
           }
          ]
         }
        },
        "title": {
         "text": "Rahul Desai",
         "x": 0.15
        },
        "xaxis": {
         "anchor": "y",
         "automargin": true,
         "domain": [
          0,
          1
         ],
         "fixedrange": true,
         "gridwidth": 2,
         "range": [
          0.45375000000000004,
          1.07125
         ],
         "tickcolor": "white",
         "ticklen": 3,
         "ticks": "outside",
         "type": "linear",
         "zeroline": false
        },
        "yaxis": {
         "anchor": "x",
         "automargin": true,
         "autorange": "reversed",
         "domain": [
          0,
          1
         ],
         "fixedrange": true,
         "gridwidth": 2,
         "tickcolor": "white",
         "ticklen": 10,
         "ticks": "outside",
         "type": "category"
        }
       }
      }
     },
     "metadata": {},
     "output_type": "display_data"
    },
    {
     "data": {
      "application/vnd.plotly.v1+json": {
       "config": {
        "displaylogo": false,
        "modeBarButtonsToRemove": [
         "sendDataToCloud",
         "lasso2d",
         "autoScale2d",
         "select2d",
         "zoom2d",
         "pan2d",
         "zoomIn2d",
         "zoomOut2d",
         "resetScale2d",
         "toggleSpikelines",
         "hoverCompareCartesian",
         "hoverClosestCartesian"
        ],
        "plotlyServerURL": "https://plot.ly",
        "staticPlot": false,
        "toImageButtonOptions": {
         "height": null,
         "width": null
        }
       },
       "data": [
        {
         "base": 0.5249938264652175,
         "connector": {
          "line": {
           "color": "#371ea3",
           "dash": "solid",
           "width": 1
          },
          "mode": "spanning"
         },
         "decreasing": {
          "marker": {
           "color": "#f05a71"
          }
         },
         "hoverinfo": "text+delta",
         "hoverlabel": {
          "bgcolor": "rgba(0,0,0,0.8)"
         },
         "hovertext": [
          "Average response: 0.525<br>Prediction: 0.0",
          "Down_Payment = HIGH<br>decreases average response by",
          "Booking_Lead_Time = LOW<br>increases average response by",
          "Competitive_Factors = Low<br>decreases average response by",
          "Stock_Status = Available<br>increases average response by",
          "Experience_With_Sales_Rep = Positive<br>increases average response by",
          "First_Time_Buyer = Yes<br>increases average response by",
          "Undecided_Finances = No<br>increases average response by",
          "Companion_Feedback = Positive<br>increases average response by",
          "Customer_Satisfaction_Score = HIGH<br>increases average response by",
          "Delivery_Date_Status = On-Time<br>increases average response by",
          "+ all other factors<br>decreases average response by",
          "Average response: 0.525<br>Prediction: 0.0"
         ],
         "increasing": {
          "marker": {
           "color": "#8bdcbe"
          }
         },
         "measure": [
          "relative",
          "relative",
          "relative",
          "relative",
          "relative",
          "relative",
          "relative",
          "relative",
          "relative",
          "relative",
          "relative",
          "relative",
          "total"
         ],
         "orientation": "h",
         "showlegend": false,
         "text": [
          "0.525",
          "0.0",
          "+0.002",
          "0.0",
          "+0.002",
          "+0.027",
          "+0.025",
          "+0.009",
          "+0.014",
          "+0.011",
          "+0.002",
          "-0.618",
          "0.0"
         ],
         "textposition": "outside",
         "totals": {
          "marker": {
           "color": "#371ea3"
          }
         },
         "type": "waterfall",
         "x": [
          0,
          0,
          0.002,
          0,
          0.002,
          0.027,
          0.025,
          0.009,
          0.014,
          0.011,
          0.002,
          -0.618,
          -0.525
         ],
         "xaxis": "x",
         "y": [
          "intercept",
          "Down_Payment = HIGH",
          "Booking_Lead_Time = LOW",
          "Competitive_Factors = Low",
          "Stock_Status = Available",
          "Experience_With_Sales_Rep = Positive",
          "First_Time_Buyer = Yes",
          "Undecided_Finances = No",
          "Companion_Feedback = Positive",
          "Customer_Satisfaction_Score = HIGH",
          "Delivery_Date_Status = On-Time",
          "+ all other factors",
          "prediction"
         ],
         "yaxis": "y"
        }
       ],
       "layout": {
        "annotations": [
         {
          "font": {
           "size": 16
          },
          "showarrow": false,
          "text": "BinaryResultsWrapper",
          "x": 0.5,
          "xanchor": "center",
          "xref": "paper",
          "y": 1,
          "yanchor": "bottom",
          "yref": "paper"
         },
         {
          "font": {
           "size": 16
          },
          "showarrow": false,
          "text": "contribution",
          "x": 0.5,
          "xanchor": "center",
          "xref": "paper",
          "y": 0,
          "yanchor": "top",
          "yref": "paper",
          "yshift": -30
         }
        ],
        "font": {
         "color": "#371ea3"
        },
        "height": 413,
        "margin": {
         "b": 71,
         "r": 30,
         "t": 78
        },
        "shapes": [
         {
          "line": {
           "color": "#371ea3",
           "dash": "dot",
           "width": 1.5
          },
          "type": "line",
          "x0": 0.5249938264652175,
          "x1": 0.5249938264652175,
          "xref": "x",
          "y0": -1,
          "y1": 13,
          "yref": "y"
         }
        ],
        "template": {
         "data": {
          "scatter": [
           {
            "type": "scatter"
           }
          ]
         }
        },
        "title": {
         "text": "Kavita Singh",
         "x": 0.15
        },
        "xaxis": {
         "anchor": "y",
         "automargin": true,
         "domain": [
          0,
          1
         ],
         "fixedrange": true,
         "gridwidth": 2,
         "range": [
          -0.09269999999999999,
          0.7107
         ],
         "tickcolor": "white",
         "ticklen": 3,
         "ticks": "outside",
         "type": "linear",
         "zeroline": false
        },
        "yaxis": {
         "anchor": "x",
         "automargin": true,
         "autorange": "reversed",
         "domain": [
          0,
          1
         ],
         "fixedrange": true,
         "gridwidth": 2,
         "tickcolor": "white",
         "ticklen": 10,
         "ticks": "outside",
         "type": "category"
        }
       }
      }
     },
     "metadata": {},
     "output_type": "display_data"
    },
    {
     "data": {
      "application/vnd.plotly.v1+json": {
       "config": {
        "displaylogo": false,
        "modeBarButtonsToRemove": [
         "sendDataToCloud",
         "lasso2d",
         "autoScale2d",
         "select2d",
         "zoom2d",
         "pan2d",
         "zoomIn2d",
         "zoomOut2d",
         "resetScale2d",
         "toggleSpikelines",
         "hoverCompareCartesian",
         "hoverClosestCartesian"
        ],
        "plotlyServerURL": "https://plot.ly",
        "staticPlot": false,
        "toImageButtonOptions": {
         "height": null,
         "width": null
        }
       },
       "data": [
        {
         "base": 0.5249938264652175,
         "connector": {
          "line": {
           "color": "#371ea3",
           "dash": "solid",
           "width": 1
          },
          "mode": "spanning"
         },
         "decreasing": {
          "marker": {
           "color": "#f05a71"
          }
         },
         "hoverinfo": "text+delta",
         "hoverlabel": {
          "bgcolor": "rgba(0,0,0,0.8)"
         },
         "hovertext": [
          "Average response: 0.525<br>Prediction: 0.0",
          "Lead_Source = Referral<br>decreases average response by",
          "Gender = Male<br>decreases average response by",
          "Stock_Status = Available<br>decreases average response by",
          "Needs_Match = Medium<br>decreases average response by",
          "Dealership_Engagement = Medium<br>increases average response by",
          "External_Factors = Medium<br>increases average response by",
          "Companion_Feedback = Positive<br>increases average response by",
          "OEM_Loyalty_Program = Yes<br>decreases average response by",
          "Delivery_Date_Status = Delayed<br>decreases average response by",
          "Income = LOW<br>increases average response by",
          "+ all other factors<br>decreases average response by",
          "Average response: 0.525<br>Prediction: 0.0"
         ],
         "increasing": {
          "marker": {
           "color": "#8bdcbe"
          }
         },
         "measure": [
          "relative",
          "relative",
          "relative",
          "relative",
          "relative",
          "relative",
          "relative",
          "relative",
          "relative",
          "relative",
          "relative",
          "relative",
          "total"
         ],
         "orientation": "h",
         "showlegend": false,
         "text": [
          "0.525",
          "0.0",
          "0.0",
          "0.0",
          "0.0",
          "+0.001",
          "+0.001",
          "+0.001",
          "-0.0",
          "-0.001",
          "+0.006",
          "-0.535",
          "0.0"
         ],
         "textposition": "outside",
         "totals": {
          "marker": {
           "color": "#371ea3"
          }
         },
         "type": "waterfall",
         "x": [
          0,
          0,
          0,
          0,
          0,
          0.001,
          0.001,
          0.001,
          0,
          -0.001,
          0.006,
          -0.535,
          -0.525
         ],
         "xaxis": "x",
         "y": [
          "intercept",
          "Lead_Source = Referral",
          "Gender = Male",
          "Stock_Status = Available",
          "Needs_Match = Medium",
          "Dealership_Engagement = Medium",
          "External_Factors = Medium",
          "Companion_Feedback = Positive",
          "OEM_Loyalty_Program = Yes",
          "Delivery_Date_Status = Delayed",
          "Income = LOW",
          "+ all other factors",
          "prediction"
         ],
         "yaxis": "y"
        }
       ],
       "layout": {
        "annotations": [
         {
          "font": {
           "size": 16
          },
          "showarrow": false,
          "text": "BinaryResultsWrapper",
          "x": 0.5,
          "xanchor": "center",
          "xref": "paper",
          "y": 1,
          "yanchor": "bottom",
          "yref": "paper"
         },
         {
          "font": {
           "size": 16
          },
          "showarrow": false,
          "text": "contribution",
          "x": 0.5,
          "xanchor": "center",
          "xref": "paper",
          "y": 0,
          "yanchor": "top",
          "yref": "paper",
          "yshift": -30
         }
        ],
        "font": {
         "color": "#371ea3"
        },
        "height": 413,
        "margin": {
         "b": 71,
         "r": 30,
         "t": 78
        },
        "shapes": [
         {
          "line": {
           "color": "#371ea3",
           "dash": "dot",
           "width": 1.5
          },
          "type": "line",
          "x0": 0.5249938264652175,
          "x1": 0.5249938264652175,
          "xref": "x",
          "y0": -1,
          "y1": 13,
          "yref": "y"
         }
        ],
        "template": {
         "data": {
          "scatter": [
           {
            "type": "scatter"
           }
          ]
         }
        },
        "title": {
         "text": "Deepak Sharma",
         "x": 0.15
        },
        "xaxis": {
         "anchor": "y",
         "automargin": true,
         "domain": [
          0,
          1
         ],
         "fixedrange": true,
         "gridwidth": 2,
         "range": [
          -0.08025,
          0.6152500000000001
         ],
         "tickcolor": "white",
         "ticklen": 3,
         "ticks": "outside",
         "type": "linear",
         "zeroline": false
        },
        "yaxis": {
         "anchor": "x",
         "automargin": true,
         "autorange": "reversed",
         "domain": [
          0,
          1
         ],
         "fixedrange": true,
         "gridwidth": 2,
         "tickcolor": "white",
         "ticklen": 10,
         "ticks": "outside",
         "type": "category"
        }
       }
      }
     },
     "metadata": {},
     "output_type": "display_data"
    },
    {
     "data": {
      "application/vnd.plotly.v1+json": {
       "config": {
        "displaylogo": false,
        "modeBarButtonsToRemove": [
         "sendDataToCloud",
         "lasso2d",
         "autoScale2d",
         "select2d",
         "zoom2d",
         "pan2d",
         "zoomIn2d",
         "zoomOut2d",
         "resetScale2d",
         "toggleSpikelines",
         "hoverCompareCartesian",
         "hoverClosestCartesian"
        ],
        "plotlyServerURL": "https://plot.ly",
        "staticPlot": false,
        "toImageButtonOptions": {
         "height": null,
         "width": null
        }
       },
       "data": [
        {
         "base": 0.5249938264652175,
         "connector": {
          "line": {
           "color": "#371ea3",
           "dash": "solid",
           "width": 1
          },
          "mode": "spanning"
         },
         "decreasing": {
          "marker": {
           "color": "#f05a71"
          }
         },
         "hoverinfo": "text+delta",
         "hoverlabel": {
          "bgcolor": "rgba(0,0,0,0.8)"
         },
         "hovertext": [
          "Average response: 0.525<br>Prediction: 1.0",
          "Add_Ons = HIGH<br>increases average response by",
          "Special_Occasions = Festival<br>increases average response by",
          "Age = YOUNG<br>increases average response by",
          "Income = HIGH<br>increases average response by",
          "Lead_Source = Dealer Walk-in<br>increases average response by",
          "Down_Payment = HIGH<br>increases average response by",
          "Booking_Lead_Time = LOW<br>increases average response by",
          "Competitive_Factors = Low<br>increases average response by",
          "Gender = Male<br>decreases average response by",
          "Stock_Status = Available<br>decreases average response by",
          "+ all other factors<br>decreases average response by",
          "Average response: 0.525<br>Prediction: 1.0"
         ],
         "increasing": {
          "marker": {
           "color": "#8bdcbe"
          }
         },
         "measure": [
          "relative",
          "relative",
          "relative",
          "relative",
          "relative",
          "relative",
          "relative",
          "relative",
          "relative",
          "relative",
          "relative",
          "relative",
          "total"
         ],
         "orientation": "h",
         "showlegend": false,
         "text": [
          "0.525",
          "+0.089",
          "+0.125",
          "+0.102",
          "+0.033",
          "+0.036",
          "+0.058",
          "+0.026",
          "+0.006",
          "0.0",
          "0.0",
          "0.0",
          "1.0"
         ],
         "textposition": "outside",
         "totals": {
          "marker": {
           "color": "#371ea3"
          }
         },
         "type": "waterfall",
         "x": [
          0,
          0.089,
          0.125,
          0.102,
          0.033,
          0.036,
          0.058,
          0.026,
          0.006,
          0,
          0,
          0,
          0.475
         ],
         "xaxis": "x",
         "y": [
          "intercept",
          "Add_Ons = HIGH",
          "Special_Occasions = Festival",
          "Age = YOUNG",
          "Income = HIGH",
          "Lead_Source = Dealer Walk-in",
          "Down_Payment = HIGH",
          "Booking_Lead_Time = LOW",
          "Competitive_Factors = Low",
          "Gender = Male",
          "Stock_Status = Available",
          "+ all other factors",
          "prediction"
         ],
         "yaxis": "y"
        }
       ],
       "layout": {
        "annotations": [
         {
          "font": {
           "size": 16
          },
          "showarrow": false,
          "text": "BinaryResultsWrapper",
          "x": 0.5,
          "xanchor": "center",
          "xref": "paper",
          "y": 1,
          "yanchor": "bottom",
          "yref": "paper"
         },
         {
          "font": {
           "size": 16
          },
          "showarrow": false,
          "text": "contribution",
          "x": 0.5,
          "xanchor": "center",
          "xref": "paper",
          "y": 0,
          "yanchor": "top",
          "yref": "paper",
          "yshift": -30
         }
        ],
        "font": {
         "color": "#371ea3"
        },
        "height": 413,
        "margin": {
         "b": 71,
         "r": 30,
         "t": 78
        },
        "shapes": [
         {
          "line": {
           "color": "#371ea3",
           "dash": "dot",
           "width": 1.5
          },
          "type": "line",
          "x0": 0.5249938264652175,
          "x1": 0.5249938264652175,
          "xref": "x",
          "y0": -1,
          "y1": 13,
          "yref": "y"
         }
        ],
        "template": {
         "data": {
          "scatter": [
           {
            "type": "scatter"
           }
          ]
         }
        },
        "title": {
         "text": "Rajiv Mehra",
         "x": 0.15
        },
        "xaxis": {
         "anchor": "y",
         "automargin": true,
         "domain": [
          0,
          1
         ],
         "fixedrange": true,
         "gridwidth": 2,
         "range": [
          0.45375000000000004,
          1.07125
         ],
         "tickcolor": "white",
         "ticklen": 3,
         "ticks": "outside",
         "type": "linear",
         "zeroline": false
        },
        "yaxis": {
         "anchor": "x",
         "automargin": true,
         "autorange": "reversed",
         "domain": [
          0,
          1
         ],
         "fixedrange": true,
         "gridwidth": 2,
         "tickcolor": "white",
         "ticklen": 10,
         "ticks": "outside",
         "type": "category"
        }
       }
      }
     },
     "metadata": {},
     "output_type": "display_data"
    },
    {
     "data": {
      "application/vnd.plotly.v1+json": {
       "config": {
        "displaylogo": false,
        "modeBarButtonsToRemove": [
         "sendDataToCloud",
         "lasso2d",
         "autoScale2d",
         "select2d",
         "zoom2d",
         "pan2d",
         "zoomIn2d",
         "zoomOut2d",
         "resetScale2d",
         "toggleSpikelines",
         "hoverCompareCartesian",
         "hoverClosestCartesian"
        ],
        "plotlyServerURL": "https://plot.ly",
        "staticPlot": false,
        "toImageButtonOptions": {
         "height": null,
         "width": null
        }
       },
       "data": [
        {
         "base": 0.5249938264652175,
         "connector": {
          "line": {
           "color": "#371ea3",
           "dash": "solid",
           "width": 1
          },
          "mode": "spanning"
         },
         "decreasing": {
          "marker": {
           "color": "#f05a71"
          }
         },
         "hoverinfo": "text+delta",
         "hoverlabel": {
          "bgcolor": "rgba(0,0,0,0.8)"
         },
         "hovertext": [
          "Average response: 0.525<br>Prediction: 1.0",
          "Add_Ons = HIGH<br>increases average response by",
          "Age = OLD<br>increases average response by",
          "Special_Occasions = Festival<br>increases average response by",
          "Down_Payment = HIGH<br>increases average response by",
          "Booking_Lead_Time = LOW<br>increases average response by",
          "Competitive_Factors = Low<br>increases average response by",
          "Stock_Status = Available<br>increases average response by",
          "Experience_With_Sales_Rep = Positive<br>increases average response by",
          "First_Time_Buyer = Yes<br>increases average response by",
          "Undecided_Finances = No<br>decreases average response by",
          "+ all other factors<br>decreases average response by",
          "Average response: 0.525<br>Prediction: 1.0"
         ],
         "increasing": {
          "marker": {
           "color": "#8bdcbe"
          }
         },
         "measure": [
          "relative",
          "relative",
          "relative",
          "relative",
          "relative",
          "relative",
          "relative",
          "relative",
          "relative",
          "relative",
          "relative",
          "relative",
          "total"
         ],
         "orientation": "h",
         "showlegend": false,
         "text": [
          "0.525",
          "+0.089",
          "+0.149",
          "+0.099",
          "+0.063",
          "+0.033",
          "+0.036",
          "+0.005",
          "+0.001",
          "+0.002",
          "0.0",
          "-0.0",
          "1.0"
         ],
         "textposition": "outside",
         "totals": {
          "marker": {
           "color": "#371ea3"
          }
         },
         "type": "waterfall",
         "x": [
          0,
          0.089,
          0.149,
          0.099,
          0.063,
          0.033,
          0.036,
          0.005,
          0.001,
          0.002,
          0,
          0,
          0.475
         ],
         "xaxis": "x",
         "y": [
          "intercept",
          "Add_Ons = HIGH",
          "Age = OLD",
          "Special_Occasions = Festival",
          "Down_Payment = HIGH",
          "Booking_Lead_Time = LOW",
          "Competitive_Factors = Low",
          "Stock_Status = Available",
          "Experience_With_Sales_Rep = Positive",
          "First_Time_Buyer = Yes",
          "Undecided_Finances = No",
          "+ all other factors",
          "prediction"
         ],
         "yaxis": "y"
        }
       ],
       "layout": {
        "annotations": [
         {
          "font": {
           "size": 16
          },
          "showarrow": false,
          "text": "BinaryResultsWrapper",
          "x": 0.5,
          "xanchor": "center",
          "xref": "paper",
          "y": 1,
          "yanchor": "bottom",
          "yref": "paper"
         },
         {
          "font": {
           "size": 16
          },
          "showarrow": false,
          "text": "contribution",
          "x": 0.5,
          "xanchor": "center",
          "xref": "paper",
          "y": 0,
          "yanchor": "top",
          "yref": "paper",
          "yshift": -30
         }
        ],
        "font": {
         "color": "#371ea3"
        },
        "height": 413,
        "margin": {
         "b": 71,
         "r": 30,
         "t": 78
        },
        "shapes": [
         {
          "line": {
           "color": "#371ea3",
           "dash": "dot",
           "width": 1.5
          },
          "type": "line",
          "x0": 0.5249938264652175,
          "x1": 0.5249938264652175,
          "xref": "x",
          "y0": -1,
          "y1": 13,
          "yref": "y"
         }
        ],
        "template": {
         "data": {
          "scatter": [
           {
            "type": "scatter"
           }
          ]
         }
        },
        "title": {
         "text": "Sunita Rao",
         "x": 0.15
        },
        "xaxis": {
         "anchor": "y",
         "automargin": true,
         "domain": [
          0,
          1
         ],
         "fixedrange": true,
         "gridwidth": 2,
         "range": [
          0.45375000000000004,
          1.07125
         ],
         "tickcolor": "white",
         "ticklen": 3,
         "ticks": "outside",
         "type": "linear",
         "zeroline": false
        },
        "yaxis": {
         "anchor": "x",
         "automargin": true,
         "autorange": "reversed",
         "domain": [
          0,
          1
         ],
         "fixedrange": true,
         "gridwidth": 2,
         "tickcolor": "white",
         "ticklen": 10,
         "ticks": "outside",
         "type": "category"
        }
       }
      }
     },
     "metadata": {},
     "output_type": "display_data"
    },
    {
     "data": {
      "application/vnd.plotly.v1+json": {
       "config": {
        "displaylogo": false,
        "modeBarButtonsToRemove": [
         "sendDataToCloud",
         "lasso2d",
         "autoScale2d",
         "select2d",
         "zoom2d",
         "pan2d",
         "zoomIn2d",
         "zoomOut2d",
         "resetScale2d",
         "toggleSpikelines",
         "hoverCompareCartesian",
         "hoverClosestCartesian"
        ],
        "plotlyServerURL": "https://plot.ly",
        "staticPlot": false,
        "toImageButtonOptions": {
         "height": null,
         "width": null
        }
       },
       "data": [
        {
         "base": 0.5249938264652175,
         "connector": {
          "line": {
           "color": "#371ea3",
           "dash": "solid",
           "width": 1
          },
          "mode": "spanning"
         },
         "decreasing": {
          "marker": {
           "color": "#f05a71"
          }
         },
         "hoverinfo": "text+delta",
         "hoverlabel": {
          "bgcolor": "rgba(0,0,0,0.8)"
         },
         "hovertext": [
          "Average response: 0.525<br>Prediction: 1.0",
          "Add_Ons = HIGH<br>increases average response by",
          "Age = OLD<br>increases average response by",
          "Down_Payment = HIGH<br>increases average response by",
          "Booking_Lead_Time = LOW<br>increases average response by",
          "Competitive_Factors = Low<br>increases average response by",
          "Lead_Source = Referral<br>increases average response by",
          "Gender = Male<br>increases average response by",
          "Stock_Status = Available<br>increases average response by",
          "Needs_Match = Medium<br>increases average response by",
          "Experience_With_Sales_Rep = Positive<br>increases average response by",
          "+ all other factors<br>increases average response by",
          "Average response: 0.525<br>Prediction: 1.0"
         ],
         "increasing": {
          "marker": {
           "color": "#8bdcbe"
          }
         },
         "measure": [
          "relative",
          "relative",
          "relative",
          "relative",
          "relative",
          "relative",
          "relative",
          "relative",
          "relative",
          "relative",
          "relative",
          "relative",
          "total"
         ],
         "orientation": "h",
         "showlegend": false,
         "text": [
          "0.525",
          "+0.089",
          "+0.149",
          "+0.066",
          "+0.034",
          "+0.063",
          "+0.024",
          "+0.016",
          "+0.02",
          "+0.005",
          "+0.008",
          "+0.002",
          "1.0"
         ],
         "textposition": "outside",
         "totals": {
          "marker": {
           "color": "#371ea3"
          }
         },
         "type": "waterfall",
         "x": [
          0,
          0.089,
          0.149,
          0.066,
          0.034,
          0.063,
          0.024,
          0.016,
          0.02,
          0.005,
          0.008,
          0.002,
          0.475
         ],
         "xaxis": "x",
         "y": [
          "intercept",
          "Add_Ons = HIGH",
          "Age = OLD",
          "Down_Payment = HIGH",
          "Booking_Lead_Time = LOW",
          "Competitive_Factors = Low",
          "Lead_Source = Referral",
          "Gender = Male",
          "Stock_Status = Available",
          "Needs_Match = Medium",
          "Experience_With_Sales_Rep = Positive",
          "+ all other factors",
          "prediction"
         ],
         "yaxis": "y"
        }
       ],
       "layout": {
        "annotations": [
         {
          "font": {
           "size": 16
          },
          "showarrow": false,
          "text": "BinaryResultsWrapper",
          "x": 0.5,
          "xanchor": "center",
          "xref": "paper",
          "y": 1,
          "yanchor": "bottom",
          "yref": "paper"
         },
         {
          "font": {
           "size": 16
          },
          "showarrow": false,
          "text": "contribution",
          "x": 0.5,
          "xanchor": "center",
          "xref": "paper",
          "y": 0,
          "yanchor": "top",
          "yref": "paper",
          "yshift": -30
         }
        ],
        "font": {
         "color": "#371ea3"
        },
        "height": 413,
        "margin": {
         "b": 71,
         "r": 30,
         "t": 78
        },
        "shapes": [
         {
          "line": {
           "color": "#371ea3",
           "dash": "dot",
           "width": 1.5
          },
          "type": "line",
          "x0": 0.5249938264652175,
          "x1": 0.5249938264652175,
          "xref": "x",
          "y0": -1,
          "y1": 13,
          "yref": "y"
         }
        ],
        "template": {
         "data": {
          "scatter": [
           {
            "type": "scatter"
           }
          ]
         }
        },
        "title": {
         "text": "Deepak Shah",
         "x": 0.15
        },
        "xaxis": {
         "anchor": "y",
         "automargin": true,
         "domain": [
          0,
          1
         ],
         "fixedrange": true,
         "gridwidth": 2,
         "range": [
          0.45375000000000004,
          1.07125
         ],
         "tickcolor": "white",
         "ticklen": 3,
         "ticks": "outside",
         "type": "linear",
         "zeroline": false
        },
        "yaxis": {
         "anchor": "x",
         "automargin": true,
         "autorange": "reversed",
         "domain": [
          0,
          1
         ],
         "fixedrange": true,
         "gridwidth": 2,
         "tickcolor": "white",
         "ticklen": 10,
         "ticks": "outside",
         "type": "category"
        }
       }
      }
     },
     "metadata": {},
     "output_type": "display_data"
    },
    {
     "data": {
      "application/vnd.plotly.v1+json": {
       "config": {
        "displaylogo": false,
        "modeBarButtonsToRemove": [
         "sendDataToCloud",
         "lasso2d",
         "autoScale2d",
         "select2d",
         "zoom2d",
         "pan2d",
         "zoomIn2d",
         "zoomOut2d",
         "resetScale2d",
         "toggleSpikelines",
         "hoverCompareCartesian",
         "hoverClosestCartesian"
        ],
        "plotlyServerURL": "https://plot.ly",
        "staticPlot": false,
        "toImageButtonOptions": {
         "height": null,
         "width": null
        }
       },
       "data": [
        {
         "base": 0.5249938264652175,
         "connector": {
          "line": {
           "color": "#371ea3",
           "dash": "solid",
           "width": 1
          },
          "mode": "spanning"
         },
         "decreasing": {
          "marker": {
           "color": "#f05a71"
          }
         },
         "hoverinfo": "text+delta",
         "hoverlabel": {
          "bgcolor": "rgba(0,0,0,0.8)"
         },
         "hovertext": [
          "Average response: 0.525<br>Prediction: 1.0",
          "Add_Ons = HIGH<br>increases average response by",
          "Special_Occasions = Festival<br>increases average response by",
          "Age = YOUNG<br>increases average response by",
          "Income = HIGH<br>increases average response by",
          "Lead_Source = Dealer Walk-in<br>increases average response by",
          "Down_Payment = HIGH<br>increases average response by",
          "Booking_Lead_Time = LOW<br>increases average response by",
          "Competitive_Factors = Low<br>increases average response by",
          "Stock_Status = Available<br>decreases average response by",
          "Experience_With_Sales_Rep = Positive<br>decreases average response by",
          "+ all other factors<br>decreases average response by",
          "Average response: 0.525<br>Prediction: 1.0"
         ],
         "increasing": {
          "marker": {
           "color": "#8bdcbe"
          }
         },
         "measure": [
          "relative",
          "relative",
          "relative",
          "relative",
          "relative",
          "relative",
          "relative",
          "relative",
          "relative",
          "relative",
          "relative",
          "relative",
          "total"
         ],
         "orientation": "h",
         "showlegend": false,
         "text": [
          "0.525",
          "+0.089",
          "+0.125",
          "+0.102",
          "+0.033",
          "+0.036",
          "+0.058",
          "+0.026",
          "+0.006",
          "0.0",
          "0.0",
          "0.0",
          "1.0"
         ],
         "textposition": "outside",
         "totals": {
          "marker": {
           "color": "#371ea3"
          }
         },
         "type": "waterfall",
         "x": [
          0,
          0.089,
          0.125,
          0.102,
          0.033,
          0.036,
          0.058,
          0.026,
          0.006,
          0,
          0,
          0,
          0.475
         ],
         "xaxis": "x",
         "y": [
          "intercept",
          "Add_Ons = HIGH",
          "Special_Occasions = Festival",
          "Age = YOUNG",
          "Income = HIGH",
          "Lead_Source = Dealer Walk-in",
          "Down_Payment = HIGH",
          "Booking_Lead_Time = LOW",
          "Competitive_Factors = Low",
          "Stock_Status = Available",
          "Experience_With_Sales_Rep = Positive",
          "+ all other factors",
          "prediction"
         ],
         "yaxis": "y"
        }
       ],
       "layout": {
        "annotations": [
         {
          "font": {
           "size": 16
          },
          "showarrow": false,
          "text": "BinaryResultsWrapper",
          "x": 0.5,
          "xanchor": "center",
          "xref": "paper",
          "y": 1,
          "yanchor": "bottom",
          "yref": "paper"
         },
         {
          "font": {
           "size": 16
          },
          "showarrow": false,
          "text": "contribution",
          "x": 0.5,
          "xanchor": "center",
          "xref": "paper",
          "y": 0,
          "yanchor": "top",
          "yref": "paper",
          "yshift": -30
         }
        ],
        "font": {
         "color": "#371ea3"
        },
        "height": 413,
        "margin": {
         "b": 71,
         "r": 30,
         "t": 78
        },
        "shapes": [
         {
          "line": {
           "color": "#371ea3",
           "dash": "dot",
           "width": 1.5
          },
          "type": "line",
          "x0": 0.5249938264652175,
          "x1": 0.5249938264652175,
          "xref": "x",
          "y0": -1,
          "y1": 13,
          "yref": "y"
         }
        ],
        "template": {
         "data": {
          "scatter": [
           {
            "type": "scatter"
           }
          ]
         }
        },
        "title": {
         "text": "Meena Iyer",
         "x": 0.15
        },
        "xaxis": {
         "anchor": "y",
         "automargin": true,
         "domain": [
          0,
          1
         ],
         "fixedrange": true,
         "gridwidth": 2,
         "range": [
          0.45375000000000004,
          1.07125
         ],
         "tickcolor": "white",
         "ticklen": 3,
         "ticks": "outside",
         "type": "linear",
         "zeroline": false
        },
        "yaxis": {
         "anchor": "x",
         "automargin": true,
         "autorange": "reversed",
         "domain": [
          0,
          1
         ],
         "fixedrange": true,
         "gridwidth": 2,
         "tickcolor": "white",
         "ticklen": 10,
         "ticks": "outside",
         "type": "category"
        }
       }
      }
     },
     "metadata": {},
     "output_type": "display_data"
    },
    {
     "data": {
      "application/vnd.plotly.v1+json": {
       "config": {
        "displaylogo": false,
        "modeBarButtonsToRemove": [
         "sendDataToCloud",
         "lasso2d",
         "autoScale2d",
         "select2d",
         "zoom2d",
         "pan2d",
         "zoomIn2d",
         "zoomOut2d",
         "resetScale2d",
         "toggleSpikelines",
         "hoverCompareCartesian",
         "hoverClosestCartesian"
        ],
        "plotlyServerURL": "https://plot.ly",
        "staticPlot": false,
        "toImageButtonOptions": {
         "height": null,
         "width": null
        }
       },
       "data": [
        {
         "base": 0.5249938264652175,
         "connector": {
          "line": {
           "color": "#371ea3",
           "dash": "solid",
           "width": 1
          },
          "mode": "spanning"
         },
         "decreasing": {
          "marker": {
           "color": "#f05a71"
          }
         },
         "hoverinfo": "text+delta",
         "hoverlabel": {
          "bgcolor": "rgba(0,0,0,0.8)"
         },
         "hovertext": [
          "Average response: 0.525<br>Prediction: 1.0",
          "Add_Ons = HIGH<br>increases average response by",
          "Age = OLD<br>increases average response by",
          "Special_Occasions = Festival<br>increases average response by",
          "Income = HIGH<br>increases average response by",
          "Down_Payment = HIGH<br>increases average response by",
          "Booking_Lead_Time = LOW<br>increases average response by",
          "Competitive_Factors = Low<br>increases average response by",
          "Gender = Male<br>increases average response by",
          "Stock_Status = Available<br>decreases average response by",
          "Needs_Match = Medium<br>decreases average response by",
          "+ all other factors<br>decreases average response by",
          "Average response: 0.525<br>Prediction: 1.0"
         ],
         "increasing": {
          "marker": {
           "color": "#8bdcbe"
          }
         },
         "measure": [
          "relative",
          "relative",
          "relative",
          "relative",
          "relative",
          "relative",
          "relative",
          "relative",
          "relative",
          "relative",
          "relative",
          "relative",
          "total"
         ],
         "orientation": "h",
         "showlegend": false,
         "text": [
          "0.525",
          "+0.089",
          "+0.149",
          "+0.099",
          "+0.035",
          "+0.067",
          "+0.017",
          "+0.018",
          "+0.001",
          "0.0",
          "0.0",
          "0.0",
          "1.0"
         ],
         "textposition": "outside",
         "totals": {
          "marker": {
           "color": "#371ea3"
          }
         },
         "type": "waterfall",
         "x": [
          0,
          0.089,
          0.149,
          0.099,
          0.035,
          0.067,
          0.017,
          0.018,
          0.001,
          0,
          0,
          0,
          0.475
         ],
         "xaxis": "x",
         "y": [
          "intercept",
          "Add_Ons = HIGH",
          "Age = OLD",
          "Special_Occasions = Festival",
          "Income = HIGH",
          "Down_Payment = HIGH",
          "Booking_Lead_Time = LOW",
          "Competitive_Factors = Low",
          "Gender = Male",
          "Stock_Status = Available",
          "Needs_Match = Medium",
          "+ all other factors",
          "prediction"
         ],
         "yaxis": "y"
        }
       ],
       "layout": {
        "annotations": [
         {
          "font": {
           "size": 16
          },
          "showarrow": false,
          "text": "BinaryResultsWrapper",
          "x": 0.5,
          "xanchor": "center",
          "xref": "paper",
          "y": 1,
          "yanchor": "bottom",
          "yref": "paper"
         },
         {
          "font": {
           "size": 16
          },
          "showarrow": false,
          "text": "contribution",
          "x": 0.5,
          "xanchor": "center",
          "xref": "paper",
          "y": 0,
          "yanchor": "top",
          "yref": "paper",
          "yshift": -30
         }
        ],
        "font": {
         "color": "#371ea3"
        },
        "height": 413,
        "margin": {
         "b": 71,
         "r": 30,
         "t": 78
        },
        "shapes": [
         {
          "line": {
           "color": "#371ea3",
           "dash": "dot",
           "width": 1.5
          },
          "type": "line",
          "x0": 0.5249938264652175,
          "x1": 0.5249938264652175,
          "xref": "x",
          "y0": -1,
          "y1": 13,
          "yref": "y"
         }
        ],
        "template": {
         "data": {
          "scatter": [
           {
            "type": "scatter"
           }
          ]
         }
        },
        "title": {
         "text": "Ramesh Kulkarni",
         "x": 0.15
        },
        "xaxis": {
         "anchor": "y",
         "automargin": true,
         "domain": [
          0,
          1
         ],
         "fixedrange": true,
         "gridwidth": 2,
         "range": [
          0.45375000000000004,
          1.07125
         ],
         "tickcolor": "white",
         "ticklen": 3,
         "ticks": "outside",
         "type": "linear",
         "zeroline": false
        },
        "yaxis": {
         "anchor": "x",
         "automargin": true,
         "autorange": "reversed",
         "domain": [
          0,
          1
         ],
         "fixedrange": true,
         "gridwidth": 2,
         "tickcolor": "white",
         "ticklen": 10,
         "ticks": "outside",
         "type": "category"
        }
       }
      }
     },
     "metadata": {},
     "output_type": "display_data"
    },
    {
     "data": {
      "application/vnd.plotly.v1+json": {
       "config": {
        "displaylogo": false,
        "modeBarButtonsToRemove": [
         "sendDataToCloud",
         "lasso2d",
         "autoScale2d",
         "select2d",
         "zoom2d",
         "pan2d",
         "zoomIn2d",
         "zoomOut2d",
         "resetScale2d",
         "toggleSpikelines",
         "hoverCompareCartesian",
         "hoverClosestCartesian"
        ],
        "plotlyServerURL": "https://plot.ly",
        "staticPlot": false,
        "toImageButtonOptions": {
         "height": null,
         "width": null
        }
       },
       "data": [
        {
         "base": 0.5249938264652175,
         "connector": {
          "line": {
           "color": "#371ea3",
           "dash": "solid",
           "width": 1
          },
          "mode": "spanning"
         },
         "decreasing": {
          "marker": {
           "color": "#f05a71"
          }
         },
         "hoverinfo": "text+delta",
         "hoverlabel": {
          "bgcolor": "rgba(0,0,0,0.8)"
         },
         "hovertext": [
          "Average response: 0.525<br>Prediction: 1.0",
          "Add_Ons = HIGH<br>increases average response by",
          "Special_Occasions = Festival<br>increases average response by",
          "Age = YOUNG<br>increases average response by",
          "Down_Payment = HIGH<br>increases average response by",
          "Booking_Lead_Time = LOW<br>increases average response by",
          "Competitive_Factors = Low<br>increases average response by",
          "Lead_Source = Referral<br>increases average response by",
          "Stock_Status = Available<br>increases average response by",
          "Experience_With_Sales_Rep = Positive<br>increases average response by",
          "First_Time_Buyer = Yes<br>increases average response by",
          "+ all other factors<br>decreases average response by",
          "Average response: 0.525<br>Prediction: 1.0"
         ],
         "increasing": {
          "marker": {
           "color": "#8bdcbe"
          }
         },
         "measure": [
          "relative",
          "relative",
          "relative",
          "relative",
          "relative",
          "relative",
          "relative",
          "relative",
          "relative",
          "relative",
          "relative",
          "relative",
          "total"
         ],
         "orientation": "h",
         "showlegend": false,
         "text": [
          "0.525",
          "+0.089",
          "+0.125",
          "+0.102",
          "+0.057",
          "+0.026",
          "+0.055",
          "+0.009",
          "+0.012",
          "+0.001",
          "+0.001",
          "0.0",
          "1.0"
         ],
         "textposition": "outside",
         "totals": {
          "marker": {
           "color": "#371ea3"
          }
         },
         "type": "waterfall",
         "x": [
          0,
          0.089,
          0.125,
          0.102,
          0.057,
          0.026,
          0.055,
          0.009,
          0.012,
          0.001,
          0.001,
          0,
          0.475
         ],
         "xaxis": "x",
         "y": [
          "intercept",
          "Add_Ons = HIGH",
          "Special_Occasions = Festival",
          "Age = YOUNG",
          "Down_Payment = HIGH",
          "Booking_Lead_Time = LOW",
          "Competitive_Factors = Low",
          "Lead_Source = Referral",
          "Stock_Status = Available",
          "Experience_With_Sales_Rep = Positive",
          "First_Time_Buyer = Yes",
          "+ all other factors",
          "prediction"
         ],
         "yaxis": "y"
        }
       ],
       "layout": {
        "annotations": [
         {
          "font": {
           "size": 16
          },
          "showarrow": false,
          "text": "BinaryResultsWrapper",
          "x": 0.5,
          "xanchor": "center",
          "xref": "paper",
          "y": 1,
          "yanchor": "bottom",
          "yref": "paper"
         },
         {
          "font": {
           "size": 16
          },
          "showarrow": false,
          "text": "contribution",
          "x": 0.5,
          "xanchor": "center",
          "xref": "paper",
          "y": 0,
          "yanchor": "top",
          "yref": "paper",
          "yshift": -30
         }
        ],
        "font": {
         "color": "#371ea3"
        },
        "height": 413,
        "margin": {
         "b": 71,
         "r": 30,
         "t": 78
        },
        "shapes": [
         {
          "line": {
           "color": "#371ea3",
           "dash": "dot",
           "width": 1.5
          },
          "type": "line",
          "x0": 0.5249938264652175,
          "x1": 0.5249938264652175,
          "xref": "x",
          "y0": -1,
          "y1": 13,
          "yref": "y"
         }
        ],
        "template": {
         "data": {
          "scatter": [
           {
            "type": "scatter"
           }
          ]
         }
        },
        "title": {
         "text": "Anjali Nair",
         "x": 0.15
        },
        "xaxis": {
         "anchor": "y",
         "automargin": true,
         "domain": [
          0,
          1
         ],
         "fixedrange": true,
         "gridwidth": 2,
         "range": [
          0.45375000000000004,
          1.07125
         ],
         "tickcolor": "white",
         "ticklen": 3,
         "ticks": "outside",
         "type": "linear",
         "zeroline": false
        },
        "yaxis": {
         "anchor": "x",
         "automargin": true,
         "autorange": "reversed",
         "domain": [
          0,
          1
         ],
         "fixedrange": true,
         "gridwidth": 2,
         "tickcolor": "white",
         "ticklen": 10,
         "ticks": "outside",
         "type": "category"
        }
       }
      }
     },
     "metadata": {},
     "output_type": "display_data"
    },
    {
     "data": {
      "application/vnd.plotly.v1+json": {
       "config": {
        "displaylogo": false,
        "modeBarButtonsToRemove": [
         "sendDataToCloud",
         "lasso2d",
         "autoScale2d",
         "select2d",
         "zoom2d",
         "pan2d",
         "zoomIn2d",
         "zoomOut2d",
         "resetScale2d",
         "toggleSpikelines",
         "hoverCompareCartesian",
         "hoverClosestCartesian"
        ],
        "plotlyServerURL": "https://plot.ly",
        "staticPlot": false,
        "toImageButtonOptions": {
         "height": null,
         "width": null
        }
       },
       "data": [
        {
         "base": 0.5249938264652175,
         "connector": {
          "line": {
           "color": "#371ea3",
           "dash": "solid",
           "width": 1
          },
          "mode": "spanning"
         },
         "decreasing": {
          "marker": {
           "color": "#f05a71"
          }
         },
         "hoverinfo": "text+delta",
         "hoverlabel": {
          "bgcolor": "rgba(0,0,0,0.8)"
         },
         "hovertext": [
          "Average response: 0.525<br>Prediction: 1.0",
          "Add_Ons = HIGH<br>increases average response by",
          "Age = YOUNG<br>increases average response by",
          "Income = HIGH<br>increases average response by",
          "Down_Payment = HIGH<br>increases average response by",
          "Booking_Lead_Time = LOW<br>increases average response by",
          "Competitive_Factors = Low<br>increases average response by",
          "Gender = Male<br>increases average response by",
          "Stock_Status = Available<br>increases average response by",
          "Needs_Match = Medium<br>increases average response by",
          "Experience_With_Sales_Rep = Positive<br>increases average response by",
          "+ all other factors<br>increases average response by",
          "Average response: 0.525<br>Prediction: 1.0"
         ],
         "increasing": {
          "marker": {
           "color": "#8bdcbe"
          }
         },
         "measure": [
          "relative",
          "relative",
          "relative",
          "relative",
          "relative",
          "relative",
          "relative",
          "relative",
          "relative",
          "relative",
          "relative",
          "relative",
          "total"
         ],
         "orientation": "h",
         "showlegend": false,
         "text": [
          "0.525",
          "+0.089",
          "+0.103",
          "+0.046",
          "+0.074",
          "+0.038",
          "+0.05",
          "+0.014",
          "+0.038",
          "+0.009",
          "+0.006",
          "+0.01",
          "1.0"
         ],
         "textposition": "outside",
         "totals": {
          "marker": {
           "color": "#371ea3"
          }
         },
         "type": "waterfall",
         "x": [
          0,
          0.089,
          0.103,
          0.046,
          0.074,
          0.038,
          0.05,
          0.014,
          0.038,
          0.009,
          0.006,
          0.01,
          0.475
         ],
         "xaxis": "x",
         "y": [
          "intercept",
          "Add_Ons = HIGH",
          "Age = YOUNG",
          "Income = HIGH",
          "Down_Payment = HIGH",
          "Booking_Lead_Time = LOW",
          "Competitive_Factors = Low",
          "Gender = Male",
          "Stock_Status = Available",
          "Needs_Match = Medium",
          "Experience_With_Sales_Rep = Positive",
          "+ all other factors",
          "prediction"
         ],
         "yaxis": "y"
        }
       ],
       "layout": {
        "annotations": [
         {
          "font": {
           "size": 16
          },
          "showarrow": false,
          "text": "BinaryResultsWrapper",
          "x": 0.5,
          "xanchor": "center",
          "xref": "paper",
          "y": 1,
          "yanchor": "bottom",
          "yref": "paper"
         },
         {
          "font": {
           "size": 16
          },
          "showarrow": false,
          "text": "contribution",
          "x": 0.5,
          "xanchor": "center",
          "xref": "paper",
          "y": 0,
          "yanchor": "top",
          "yref": "paper",
          "yshift": -30
         }
        ],
        "font": {
         "color": "#371ea3"
        },
        "height": 413,
        "margin": {
         "b": 71,
         "r": 30,
         "t": 78
        },
        "shapes": [
         {
          "line": {
           "color": "#371ea3",
           "dash": "dot",
           "width": 1.5
          },
          "type": "line",
          "x0": 0.5249938264652175,
          "x1": 0.5249938264652175,
          "xref": "x",
          "y0": -1,
          "y1": 13,
          "yref": "y"
         }
        ],
        "template": {
         "data": {
          "scatter": [
           {
            "type": "scatter"
           }
          ]
         }
        },
        "title": {
         "text": "Vikram Desai",
         "x": 0.15
        },
        "xaxis": {
         "anchor": "y",
         "automargin": true,
         "domain": [
          0,
          1
         ],
         "fixedrange": true,
         "gridwidth": 2,
         "range": [
          0.45375000000000004,
          1.07125
         ],
         "tickcolor": "white",
         "ticklen": 3,
         "ticks": "outside",
         "type": "linear",
         "zeroline": false
        },
        "yaxis": {
         "anchor": "x",
         "automargin": true,
         "autorange": "reversed",
         "domain": [
          0,
          1
         ],
         "fixedrange": true,
         "gridwidth": 2,
         "tickcolor": "white",
         "ticklen": 10,
         "ticks": "outside",
         "type": "category"
        }
       }
      }
     },
     "metadata": {},
     "output_type": "display_data"
    },
    {
     "data": {
      "application/vnd.plotly.v1+json": {
       "config": {
        "displaylogo": false,
        "modeBarButtonsToRemove": [
         "sendDataToCloud",
         "lasso2d",
         "autoScale2d",
         "select2d",
         "zoom2d",
         "pan2d",
         "zoomIn2d",
         "zoomOut2d",
         "resetScale2d",
         "toggleSpikelines",
         "hoverCompareCartesian",
         "hoverClosestCartesian"
        ],
        "plotlyServerURL": "https://plot.ly",
        "staticPlot": false,
        "toImageButtonOptions": {
         "height": null,
         "width": null
        }
       },
       "data": [
        {
         "base": 0.5249938264652175,
         "connector": {
          "line": {
           "color": "#371ea3",
           "dash": "solid",
           "width": 1
          },
          "mode": "spanning"
         },
         "decreasing": {
          "marker": {
           "color": "#f05a71"
          }
         },
         "hoverinfo": "text+delta",
         "hoverlabel": {
          "bgcolor": "rgba(0,0,0,0.8)"
         },
         "hovertext": [
          "Average response: 0.525<br>Prediction: 1.0",
          "Add_Ons = HIGH<br>increases average response by",
          "Age = OLD<br>increases average response by",
          "Special_Occasions = Festival<br>increases average response by",
          "Lead_Source = Dealer Walk-in<br>increases average response by",
          "Down_Payment = HIGH<br>increases average response by",
          "Booking_Lead_Time = LOW<br>increases average response by",
          "Competitive_Factors = Low<br>increases average response by",
          "Finances_Status = Cash Purchase<br>increases average response by",
          "Stock_Status = Available<br>decreases average response by",
          "Needs_Match = Medium<br>decreases average response by",
          "+ all other factors<br>decreases average response by",
          "Average response: 0.525<br>Prediction: 1.0"
         ],
         "increasing": {
          "marker": {
           "color": "#8bdcbe"
          }
         },
         "measure": [
          "relative",
          "relative",
          "relative",
          "relative",
          "relative",
          "relative",
          "relative",
          "relative",
          "relative",
          "relative",
          "relative",
          "relative",
          "total"
         ],
         "orientation": "h",
         "showlegend": false,
         "text": [
          "0.525",
          "+0.089",
          "+0.149",
          "+0.099",
          "+0.041",
          "+0.044",
          "+0.039",
          "+0.012",
          "+0.002",
          "0.0",
          "0.0",
          "0.0",
          "1.0"
         ],
         "textposition": "outside",
         "totals": {
          "marker": {
           "color": "#371ea3"
          }
         },
         "type": "waterfall",
         "x": [
          0,
          0.089,
          0.149,
          0.099,
          0.041,
          0.044,
          0.039,
          0.012,
          0.002,
          0,
          0,
          0,
          0.475
         ],
         "xaxis": "x",
         "y": [
          "intercept",
          "Add_Ons = HIGH",
          "Age = OLD",
          "Special_Occasions = Festival",
          "Lead_Source = Dealer Walk-in",
          "Down_Payment = HIGH",
          "Booking_Lead_Time = LOW",
          "Competitive_Factors = Low",
          "Finances_Status = Cash Purchase",
          "Stock_Status = Available",
          "Needs_Match = Medium",
          "+ all other factors",
          "prediction"
         ],
         "yaxis": "y"
        }
       ],
       "layout": {
        "annotations": [
         {
          "font": {
           "size": 16
          },
          "showarrow": false,
          "text": "BinaryResultsWrapper",
          "x": 0.5,
          "xanchor": "center",
          "xref": "paper",
          "y": 1,
          "yanchor": "bottom",
          "yref": "paper"
         },
         {
          "font": {
           "size": 16
          },
          "showarrow": false,
          "text": "contribution",
          "x": 0.5,
          "xanchor": "center",
          "xref": "paper",
          "y": 0,
          "yanchor": "top",
          "yref": "paper",
          "yshift": -30
         }
        ],
        "font": {
         "color": "#371ea3"
        },
        "height": 413,
        "margin": {
         "b": 71,
         "r": 30,
         "t": 78
        },
        "shapes": [
         {
          "line": {
           "color": "#371ea3",
           "dash": "dot",
           "width": 1.5
          },
          "type": "line",
          "x0": 0.5249938264652175,
          "x1": 0.5249938264652175,
          "xref": "x",
          "y0": -1,
          "y1": 13,
          "yref": "y"
         }
        ],
        "template": {
         "data": {
          "scatter": [
           {
            "type": "scatter"
           }
          ]
         }
        },
        "title": {
         "text": "Kavita Bansal",
         "x": 0.15
        },
        "xaxis": {
         "anchor": "y",
         "automargin": true,
         "domain": [
          0,
          1
         ],
         "fixedrange": true,
         "gridwidth": 2,
         "range": [
          0.45375000000000004,
          1.07125
         ],
         "tickcolor": "white",
         "ticklen": 3,
         "ticks": "outside",
         "type": "linear",
         "zeroline": false
        },
        "yaxis": {
         "anchor": "x",
         "automargin": true,
         "autorange": "reversed",
         "domain": [
          0,
          1
         ],
         "fixedrange": true,
         "gridwidth": 2,
         "tickcolor": "white",
         "ticklen": 10,
         "ticks": "outside",
         "type": "category"
        }
       }
      }
     },
     "metadata": {},
     "output_type": "display_data"
    },
    {
     "data": {
      "application/vnd.plotly.v1+json": {
       "config": {
        "displaylogo": false,
        "modeBarButtonsToRemove": [
         "sendDataToCloud",
         "lasso2d",
         "autoScale2d",
         "select2d",
         "zoom2d",
         "pan2d",
         "zoomIn2d",
         "zoomOut2d",
         "resetScale2d",
         "toggleSpikelines",
         "hoverCompareCartesian",
         "hoverClosestCartesian"
        ],
        "plotlyServerURL": "https://plot.ly",
        "staticPlot": false,
        "toImageButtonOptions": {
         "height": null,
         "width": null
        }
       },
       "data": [
        {
         "base": 0.5249938264652175,
         "connector": {
          "line": {
           "color": "#371ea3",
           "dash": "solid",
           "width": 1
          },
          "mode": "spanning"
         },
         "decreasing": {
          "marker": {
           "color": "#f05a71"
          }
         },
         "hoverinfo": "text+delta",
         "hoverlabel": {
          "bgcolor": "rgba(0,0,0,0.8)"
         },
         "hovertext": [
          "Average response: 0.525<br>Prediction: 1.0",
          "Add_Ons = HIGH<br>increases average response by",
          "Age = OLD<br>increases average response by",
          "Special_Occasions = Festival<br>increases average response by",
          "Down_Payment = HIGH<br>increases average response by",
          "Booking_Lead_Time = LOW<br>increases average response by",
          "Competitive_Factors = Low<br>increases average response by",
          "Lead_Source = Referral<br>increases average response by",
          "Gender = Male<br>increases average response by",
          "Finances_Status = Cash Purchase<br>increases average response by",
          "Stock_Status = Available<br>decreases average response by",
          "+ all other factors<br>decreases average response by",
          "Average response: 0.525<br>Prediction: 1.0"
         ],
         "increasing": {
          "marker": {
           "color": "#8bdcbe"
          }
         },
         "measure": [
          "relative",
          "relative",
          "relative",
          "relative",
          "relative",
          "relative",
          "relative",
          "relative",
          "relative",
          "relative",
          "relative",
          "relative",
          "total"
         ],
         "orientation": "h",
         "showlegend": false,
         "text": [
          "0.525",
          "+0.089",
          "+0.149",
          "+0.099",
          "+0.063",
          "+0.033",
          "+0.036",
          "+0.003",
          "+0.004",
          "+0.001",
          "0.0",
          "0.0",
          "1.0"
         ],
         "textposition": "outside",
         "totals": {
          "marker": {
           "color": "#371ea3"
          }
         },
         "type": "waterfall",
         "x": [
          0,
          0.089,
          0.149,
          0.099,
          0.063,
          0.033,
          0.036,
          0.003,
          0.004,
          0.001,
          0,
          0,
          0.475
         ],
         "xaxis": "x",
         "y": [
          "intercept",
          "Add_Ons = HIGH",
          "Age = OLD",
          "Special_Occasions = Festival",
          "Down_Payment = HIGH",
          "Booking_Lead_Time = LOW",
          "Competitive_Factors = Low",
          "Lead_Source = Referral",
          "Gender = Male",
          "Finances_Status = Cash Purchase",
          "Stock_Status = Available",
          "+ all other factors",
          "prediction"
         ],
         "yaxis": "y"
        }
       ],
       "layout": {
        "annotations": [
         {
          "font": {
           "size": 16
          },
          "showarrow": false,
          "text": "BinaryResultsWrapper",
          "x": 0.5,
          "xanchor": "center",
          "xref": "paper",
          "y": 1,
          "yanchor": "bottom",
          "yref": "paper"
         },
         {
          "font": {
           "size": 16
          },
          "showarrow": false,
          "text": "contribution",
          "x": 0.5,
          "xanchor": "center",
          "xref": "paper",
          "y": 0,
          "yanchor": "top",
          "yref": "paper",
          "yshift": -30
         }
        ],
        "font": {
         "color": "#371ea3"
        },
        "height": 413,
        "margin": {
         "b": 71,
         "r": 30,
         "t": 78
        },
        "shapes": [
         {
          "line": {
           "color": "#371ea3",
           "dash": "dot",
           "width": 1.5
          },
          "type": "line",
          "x0": 0.5249938264652175,
          "x1": 0.5249938264652175,
          "xref": "x",
          "y0": -1,
          "y1": 13,
          "yref": "y"
         }
        ],
        "template": {
         "data": {
          "scatter": [
           {
            "type": "scatter"
           }
          ]
         }
        },
        "title": {
         "text": "Suresh Menon",
         "x": 0.15
        },
        "xaxis": {
         "anchor": "y",
         "automargin": true,
         "domain": [
          0,
          1
         ],
         "fixedrange": true,
         "gridwidth": 2,
         "range": [
          0.45375000000000004,
          1.07125
         ],
         "tickcolor": "white",
         "ticklen": 3,
         "ticks": "outside",
         "type": "linear",
         "zeroline": false
        },
        "yaxis": {
         "anchor": "x",
         "automargin": true,
         "autorange": "reversed",
         "domain": [
          0,
          1
         ],
         "fixedrange": true,
         "gridwidth": 2,
         "tickcolor": "white",
         "ticklen": 10,
         "ticks": "outside",
         "type": "category"
        }
       }
      }
     },
     "metadata": {},
     "output_type": "display_data"
    },
    {
     "data": {
      "application/vnd.plotly.v1+json": {
       "config": {
        "displaylogo": false,
        "modeBarButtonsToRemove": [
         "sendDataToCloud",
         "lasso2d",
         "autoScale2d",
         "select2d",
         "zoom2d",
         "pan2d",
         "zoomIn2d",
         "zoomOut2d",
         "resetScale2d",
         "toggleSpikelines",
         "hoverCompareCartesian",
         "hoverClosestCartesian"
        ],
        "plotlyServerURL": "https://plot.ly",
        "staticPlot": false,
        "toImageButtonOptions": {
         "height": null,
         "width": null
        }
       },
       "data": [
        {
         "base": 0.5249938264652175,
         "connector": {
          "line": {
           "color": "#371ea3",
           "dash": "solid",
           "width": 1
          },
          "mode": "spanning"
         },
         "decreasing": {
          "marker": {
           "color": "#f05a71"
          }
         },
         "hoverinfo": "text+delta",
         "hoverlabel": {
          "bgcolor": "rgba(0,0,0,0.8)"
         },
         "hovertext": [
          "Average response: 0.525<br>Prediction: 1.0",
          "Add_Ons = HIGH<br>increases average response by",
          "Special_Occasions = Festival<br>increases average response by",
          "Age = YOUNG<br>increases average response by",
          "Down_Payment = HIGH<br>increases average response by",
          "Booking_Lead_Time = LOW<br>increases average response by",
          "Competitive_Factors = Low<br>increases average response by",
          "Finances_Status = Cash Purchase<br>increases average response by",
          "Stock_Status = Available<br>increases average response by",
          "Needs_Match = Medium<br>increases average response by",
          "Experience_With_Sales_Rep = Positive<br>decreases average response by",
          "+ all other factors<br>decreases average response by",
          "Average response: 0.525<br>Prediction: 1.0"
         ],
         "increasing": {
          "marker": {
           "color": "#8bdcbe"
          }
         },
         "measure": [
          "relative",
          "relative",
          "relative",
          "relative",
          "relative",
          "relative",
          "relative",
          "relative",
          "relative",
          "relative",
          "relative",
          "relative",
          "total"
         ],
         "orientation": "h",
         "showlegend": false,
         "text": [
          "0.525",
          "+0.089",
          "+0.125",
          "+0.102",
          "+0.057",
          "+0.026",
          "+0.055",
          "+0.019",
          "+0.002",
          "+0.001",
          "0.0",
          "0.0",
          "1.0"
         ],
         "textposition": "outside",
         "totals": {
          "marker": {
           "color": "#371ea3"
          }
         },
         "type": "waterfall",
         "x": [
          0,
          0.089,
          0.125,
          0.102,
          0.057,
          0.026,
          0.055,
          0.019,
          0.002,
          0.001,
          0,
          0,
          0.475
         ],
         "xaxis": "x",
         "y": [
          "intercept",
          "Add_Ons = HIGH",
          "Special_Occasions = Festival",
          "Age = YOUNG",
          "Down_Payment = HIGH",
          "Booking_Lead_Time = LOW",
          "Competitive_Factors = Low",
          "Finances_Status = Cash Purchase",
          "Stock_Status = Available",
          "Needs_Match = Medium",
          "Experience_With_Sales_Rep = Positive",
          "+ all other factors",
          "prediction"
         ],
         "yaxis": "y"
        }
       ],
       "layout": {
        "annotations": [
         {
          "font": {
           "size": 16
          },
          "showarrow": false,
          "text": "BinaryResultsWrapper",
          "x": 0.5,
          "xanchor": "center",
          "xref": "paper",
          "y": 1,
          "yanchor": "bottom",
          "yref": "paper"
         },
         {
          "font": {
           "size": 16
          },
          "showarrow": false,
          "text": "contribution",
          "x": 0.5,
          "xanchor": "center",
          "xref": "paper",
          "y": 0,
          "yanchor": "top",
          "yref": "paper",
          "yshift": -30
         }
        ],
        "font": {
         "color": "#371ea3"
        },
        "height": 413,
        "margin": {
         "b": 71,
         "r": 30,
         "t": 78
        },
        "shapes": [
         {
          "line": {
           "color": "#371ea3",
           "dash": "dot",
           "width": 1.5
          },
          "type": "line",
          "x0": 0.5249938264652175,
          "x1": 0.5249938264652175,
          "xref": "x",
          "y0": -1,
          "y1": 13,
          "yref": "y"
         }
        ],
        "template": {
         "data": {
          "scatter": [
           {
            "type": "scatter"
           }
          ]
         }
        },
        "title": {
         "text": "Geeta Patil",
         "x": 0.15
        },
        "xaxis": {
         "anchor": "y",
         "automargin": true,
         "domain": [
          0,
          1
         ],
         "fixedrange": true,
         "gridwidth": 2,
         "range": [
          0.45375000000000004,
          1.07125
         ],
         "tickcolor": "white",
         "ticklen": 3,
         "ticks": "outside",
         "type": "linear",
         "zeroline": false
        },
        "yaxis": {
         "anchor": "x",
         "automargin": true,
         "autorange": "reversed",
         "domain": [
          0,
          1
         ],
         "fixedrange": true,
         "gridwidth": 2,
         "tickcolor": "white",
         "ticklen": 10,
         "ticks": "outside",
         "type": "category"
        }
       }
      }
     },
     "metadata": {},
     "output_type": "display_data"
    },
    {
     "data": {
      "application/vnd.plotly.v1+json": {
       "config": {
        "displaylogo": false,
        "modeBarButtonsToRemove": [
         "sendDataToCloud",
         "lasso2d",
         "autoScale2d",
         "select2d",
         "zoom2d",
         "pan2d",
         "zoomIn2d",
         "zoomOut2d",
         "resetScale2d",
         "toggleSpikelines",
         "hoverCompareCartesian",
         "hoverClosestCartesian"
        ],
        "plotlyServerURL": "https://plot.ly",
        "staticPlot": false,
        "toImageButtonOptions": {
         "height": null,
         "width": null
        }
       },
       "data": [
        {
         "base": 0.5249938264652175,
         "connector": {
          "line": {
           "color": "#371ea3",
           "dash": "solid",
           "width": 1
          },
          "mode": "spanning"
         },
         "decreasing": {
          "marker": {
           "color": "#f05a71"
          }
         },
         "hoverinfo": "text+delta",
         "hoverlabel": {
          "bgcolor": "rgba(0,0,0,0.8)"
         },
         "hovertext": [
          "Average response: 0.525<br>Prediction: 1.0",
          "Add_Ons = HIGH<br>increases average response by",
          "Age = OLD<br>increases average response by",
          "Income = HIGH<br>increases average response by",
          "Down_Payment = HIGH<br>increases average response by",
          "Booking_Lead_Time = LOW<br>increases average response by",
          "Competitive_Factors = Low<br>increases average response by",
          "Gender = Male<br>increases average response by",
          "Finances_Status = Cash Purchase<br>increases average response by",
          "Stock_Status = Available<br>increases average response by",
          "Experience_With_Sales_Rep = Positive<br>increases average response by",
          "+ all other factors<br>increases average response by",
          "Average response: 0.525<br>Prediction: 1.0"
         ],
         "increasing": {
          "marker": {
           "color": "#8bdcbe"
          }
         },
         "measure": [
          "relative",
          "relative",
          "relative",
          "relative",
          "relative",
          "relative",
          "relative",
          "relative",
          "relative",
          "relative",
          "relative",
          "relative",
          "total"
         ],
         "orientation": "h",
         "showlegend": false,
         "text": [
          "0.525",
          "+0.089",
          "+0.149",
          "+0.054",
          "+0.053",
          "+0.025",
          "+0.055",
          "+0.023",
          "+0.025",
          "+0.002",
          "+0.001",
          "+0.001",
          "1.0"
         ],
         "textposition": "outside",
         "totals": {
          "marker": {
           "color": "#371ea3"
          }
         },
         "type": "waterfall",
         "x": [
          0,
          0.089,
          0.149,
          0.054,
          0.053,
          0.025,
          0.055,
          0.023,
          0.025,
          0.002,
          0.001,
          0.001,
          0.475
         ],
         "xaxis": "x",
         "y": [
          "intercept",
          "Add_Ons = HIGH",
          "Age = OLD",
          "Income = HIGH",
          "Down_Payment = HIGH",
          "Booking_Lead_Time = LOW",
          "Competitive_Factors = Low",
          "Gender = Male",
          "Finances_Status = Cash Purchase",
          "Stock_Status = Available",
          "Experience_With_Sales_Rep = Positive",
          "+ all other factors",
          "prediction"
         ],
         "yaxis": "y"
        }
       ],
       "layout": {
        "annotations": [
         {
          "font": {
           "size": 16
          },
          "showarrow": false,
          "text": "BinaryResultsWrapper",
          "x": 0.5,
          "xanchor": "center",
          "xref": "paper",
          "y": 1,
          "yanchor": "bottom",
          "yref": "paper"
         },
         {
          "font": {
           "size": 16
          },
          "showarrow": false,
          "text": "contribution",
          "x": 0.5,
          "xanchor": "center",
          "xref": "paper",
          "y": 0,
          "yanchor": "top",
          "yref": "paper",
          "yshift": -30
         }
        ],
        "font": {
         "color": "#371ea3"
        },
        "height": 413,
        "margin": {
         "b": 71,
         "r": 30,
         "t": 78
        },
        "shapes": [
         {
          "line": {
           "color": "#371ea3",
           "dash": "dot",
           "width": 1.5
          },
          "type": "line",
          "x0": 0.5249938264652175,
          "x1": 0.5249938264652175,
          "xref": "x",
          "y0": -1,
          "y1": 13,
          "yref": "y"
         }
        ],
        "template": {
         "data": {
          "scatter": [
           {
            "type": "scatter"
           }
          ]
         }
        },
        "title": {
         "text": "Neeraj Saxena",
         "x": 0.15
        },
        "xaxis": {
         "anchor": "y",
         "automargin": true,
         "domain": [
          0,
          1
         ],
         "fixedrange": true,
         "gridwidth": 2,
         "range": [
          0.45375000000000004,
          1.07125
         ],
         "tickcolor": "white",
         "ticklen": 3,
         "ticks": "outside",
         "type": "linear",
         "zeroline": false
        },
        "yaxis": {
         "anchor": "x",
         "automargin": true,
         "autorange": "reversed",
         "domain": [
          0,
          1
         ],
         "fixedrange": true,
         "gridwidth": 2,
         "tickcolor": "white",
         "ticklen": 10,
         "ticks": "outside",
         "type": "category"
        }
       }
      }
     },
     "metadata": {},
     "output_type": "display_data"
    },
    {
     "data": {
      "application/vnd.plotly.v1+json": {
       "config": {
        "displaylogo": false,
        "modeBarButtonsToRemove": [
         "sendDataToCloud",
         "lasso2d",
         "autoScale2d",
         "select2d",
         "zoom2d",
         "pan2d",
         "zoomIn2d",
         "zoomOut2d",
         "resetScale2d",
         "toggleSpikelines",
         "hoverCompareCartesian",
         "hoverClosestCartesian"
        ],
        "plotlyServerURL": "https://plot.ly",
        "staticPlot": false,
        "toImageButtonOptions": {
         "height": null,
         "width": null
        }
       },
       "data": [
        {
         "base": 0.5249938264652175,
         "connector": {
          "line": {
           "color": "#371ea3",
           "dash": "solid",
           "width": 1
          },
          "mode": "spanning"
         },
         "decreasing": {
          "marker": {
           "color": "#f05a71"
          }
         },
         "hoverinfo": "text+delta",
         "hoverlabel": {
          "bgcolor": "rgba(0,0,0,0.8)"
         },
         "hovertext": [
          "Average response: 0.525<br>Prediction: 1.0",
          "Add_Ons = HIGH<br>increases average response by",
          "Special_Occasions = Festival<br>increases average response by",
          "Age = YOUNG<br>increases average response by",
          "Income = HIGH<br>increases average response by",
          "Lead_Source = Dealer Walk-in<br>increases average response by",
          "Down_Payment = HIGH<br>increases average response by",
          "Booking_Lead_Time = LOW<br>increases average response by",
          "Competitive_Factors = Low<br>increases average response by",
          "Stock_Status = Available<br>decreases average response by",
          "Needs_Match = Medium<br>decreases average response by",
          "+ all other factors<br>decreases average response by",
          "Average response: 0.525<br>Prediction: 1.0"
         ],
         "increasing": {
          "marker": {
           "color": "#8bdcbe"
          }
         },
         "measure": [
          "relative",
          "relative",
          "relative",
          "relative",
          "relative",
          "relative",
          "relative",
          "relative",
          "relative",
          "relative",
          "relative",
          "relative",
          "total"
         ],
         "orientation": "h",
         "showlegend": false,
         "text": [
          "0.525",
          "+0.089",
          "+0.125",
          "+0.102",
          "+0.033",
          "+0.036",
          "+0.058",
          "+0.026",
          "+0.006",
          "0.0",
          "0.0",
          "0.0",
          "1.0"
         ],
         "textposition": "outside",
         "totals": {
          "marker": {
           "color": "#371ea3"
          }
         },
         "type": "waterfall",
         "x": [
          0,
          0.089,
          0.125,
          0.102,
          0.033,
          0.036,
          0.058,
          0.026,
          0.006,
          0,
          0,
          0,
          0.475
         ],
         "xaxis": "x",
         "y": [
          "intercept",
          "Add_Ons = HIGH",
          "Special_Occasions = Festival",
          "Age = YOUNG",
          "Income = HIGH",
          "Lead_Source = Dealer Walk-in",
          "Down_Payment = HIGH",
          "Booking_Lead_Time = LOW",
          "Competitive_Factors = Low",
          "Stock_Status = Available",
          "Needs_Match = Medium",
          "+ all other factors",
          "prediction"
         ],
         "yaxis": "y"
        }
       ],
       "layout": {
        "annotations": [
         {
          "font": {
           "size": 16
          },
          "showarrow": false,
          "text": "BinaryResultsWrapper",
          "x": 0.5,
          "xanchor": "center",
          "xref": "paper",
          "y": 1,
          "yanchor": "bottom",
          "yref": "paper"
         },
         {
          "font": {
           "size": 16
          },
          "showarrow": false,
          "text": "contribution",
          "x": 0.5,
          "xanchor": "center",
          "xref": "paper",
          "y": 0,
          "yanchor": "top",
          "yref": "paper",
          "yshift": -30
         }
        ],
        "font": {
         "color": "#371ea3"
        },
        "height": 413,
        "margin": {
         "b": 71,
         "r": 30,
         "t": 78
        },
        "shapes": [
         {
          "line": {
           "color": "#371ea3",
           "dash": "dot",
           "width": 1.5
          },
          "type": "line",
          "x0": 0.5249938264652175,
          "x1": 0.5249938264652175,
          "xref": "x",
          "y0": -1,
          "y1": 13,
          "yref": "y"
         }
        ],
        "template": {
         "data": {
          "scatter": [
           {
            "type": "scatter"
           }
          ]
         }
        },
        "title": {
         "text": "Lata Verma",
         "x": 0.15
        },
        "xaxis": {
         "anchor": "y",
         "automargin": true,
         "domain": [
          0,
          1
         ],
         "fixedrange": true,
         "gridwidth": 2,
         "range": [
          0.45375000000000004,
          1.07125
         ],
         "tickcolor": "white",
         "ticklen": 3,
         "ticks": "outside",
         "type": "linear",
         "zeroline": false
        },
        "yaxis": {
         "anchor": "x",
         "automargin": true,
         "autorange": "reversed",
         "domain": [
          0,
          1
         ],
         "fixedrange": true,
         "gridwidth": 2,
         "tickcolor": "white",
         "ticklen": 10,
         "ticks": "outside",
         "type": "category"
        }
       }
      }
     },
     "metadata": {},
     "output_type": "display_data"
    },
    {
     "data": {
      "application/vnd.plotly.v1+json": {
       "config": {
        "displaylogo": false,
        "modeBarButtonsToRemove": [
         "sendDataToCloud",
         "lasso2d",
         "autoScale2d",
         "select2d",
         "zoom2d",
         "pan2d",
         "zoomIn2d",
         "zoomOut2d",
         "resetScale2d",
         "toggleSpikelines",
         "hoverCompareCartesian",
         "hoverClosestCartesian"
        ],
        "plotlyServerURL": "https://plot.ly",
        "staticPlot": false,
        "toImageButtonOptions": {
         "height": null,
         "width": null
        }
       },
       "data": [
        {
         "base": 0.5249938264652175,
         "connector": {
          "line": {
           "color": "#371ea3",
           "dash": "solid",
           "width": 1
          },
          "mode": "spanning"
         },
         "decreasing": {
          "marker": {
           "color": "#f05a71"
          }
         },
         "hoverinfo": "text+delta",
         "hoverlabel": {
          "bgcolor": "rgba(0,0,0,0.8)"
         },
         "hovertext": [
          "Average response: 0.525<br>Prediction: 1.0",
          "Add_Ons = HIGH<br>increases average response by",
          "Age = YOUNG<br>increases average response by",
          "Income = HIGH<br>increases average response by",
          "Down_Payment = HIGH<br>increases average response by",
          "Booking_Lead_Time = LOW<br>increases average response by",
          "Competitive_Factors = Low<br>increases average response by",
          "Lead_Source = Referral<br>increases average response by",
          "Gender = Male<br>increases average response by",
          "Stock_Status = Available<br>increases average response by",
          "Experience_With_Sales_Rep = Positive<br>increases average response by",
          "+ all other factors<br>increases average response by",
          "Average response: 0.525<br>Prediction: 1.0"
         ],
         "increasing": {
          "marker": {
           "color": "#8bdcbe"
          }
         },
         "measure": [
          "relative",
          "relative",
          "relative",
          "relative",
          "relative",
          "relative",
          "relative",
          "relative",
          "relative",
          "relative",
          "relative",
          "relative",
          "total"
         ],
         "orientation": "h",
         "showlegend": false,
         "text": [
          "0.525",
          "+0.089",
          "+0.103",
          "+0.046",
          "+0.074",
          "+0.038",
          "+0.05",
          "+0.031",
          "+0.021",
          "+0.017",
          "+0.003",
          "+0.004",
          "1.0"
         ],
         "textposition": "outside",
         "totals": {
          "marker": {
           "color": "#371ea3"
          }
         },
         "type": "waterfall",
         "x": [
          0,
          0.089,
          0.103,
          0.046,
          0.074,
          0.038,
          0.05,
          0.031,
          0.021,
          0.017,
          0.003,
          0.004,
          0.475
         ],
         "xaxis": "x",
         "y": [
          "intercept",
          "Add_Ons = HIGH",
          "Age = YOUNG",
          "Income = HIGH",
          "Down_Payment = HIGH",
          "Booking_Lead_Time = LOW",
          "Competitive_Factors = Low",
          "Lead_Source = Referral",
          "Gender = Male",
          "Stock_Status = Available",
          "Experience_With_Sales_Rep = Positive",
          "+ all other factors",
          "prediction"
         ],
         "yaxis": "y"
        }
       ],
       "layout": {
        "annotations": [
         {
          "font": {
           "size": 16
          },
          "showarrow": false,
          "text": "BinaryResultsWrapper",
          "x": 0.5,
          "xanchor": "center",
          "xref": "paper",
          "y": 1,
          "yanchor": "bottom",
          "yref": "paper"
         },
         {
          "font": {
           "size": 16
          },
          "showarrow": false,
          "text": "contribution",
          "x": 0.5,
          "xanchor": "center",
          "xref": "paper",
          "y": 0,
          "yanchor": "top",
          "yref": "paper",
          "yshift": -30
         }
        ],
        "font": {
         "color": "#371ea3"
        },
        "height": 413,
        "margin": {
         "b": 71,
         "r": 30,
         "t": 78
        },
        "shapes": [
         {
          "line": {
           "color": "#371ea3",
           "dash": "dot",
           "width": 1.5
          },
          "type": "line",
          "x0": 0.5249938264652175,
          "x1": 0.5249938264652175,
          "xref": "x",
          "y0": -1,
          "y1": 13,
          "yref": "y"
         }
        ],
        "template": {
         "data": {
          "scatter": [
           {
            "type": "scatter"
           }
          ]
         }
        },
        "title": {
         "text": "Ajay Khanna",
         "x": 0.15
        },
        "xaxis": {
         "anchor": "y",
         "automargin": true,
         "domain": [
          0,
          1
         ],
         "fixedrange": true,
         "gridwidth": 2,
         "range": [
          0.45375000000000004,
          1.07125
         ],
         "tickcolor": "white",
         "ticklen": 3,
         "ticks": "outside",
         "type": "linear",
         "zeroline": false
        },
        "yaxis": {
         "anchor": "x",
         "automargin": true,
         "autorange": "reversed",
         "domain": [
          0,
          1
         ],
         "fixedrange": true,
         "gridwidth": 2,
         "tickcolor": "white",
         "ticklen": 10,
         "ticks": "outside",
         "type": "category"
        }
       }
      }
     },
     "metadata": {},
     "output_type": "display_data"
    },
    {
     "data": {
      "application/vnd.plotly.v1+json": {
       "config": {
        "displaylogo": false,
        "modeBarButtonsToRemove": [
         "sendDataToCloud",
         "lasso2d",
         "autoScale2d",
         "select2d",
         "zoom2d",
         "pan2d",
         "zoomIn2d",
         "zoomOut2d",
         "resetScale2d",
         "toggleSpikelines",
         "hoverCompareCartesian",
         "hoverClosestCartesian"
        ],
        "plotlyServerURL": "https://plot.ly",
        "staticPlot": false,
        "toImageButtonOptions": {
         "height": null,
         "width": null
        }
       },
       "data": [
        {
         "base": 0.5249938264652175,
         "connector": {
          "line": {
           "color": "#371ea3",
           "dash": "solid",
           "width": 1
          },
          "mode": "spanning"
         },
         "decreasing": {
          "marker": {
           "color": "#f05a71"
          }
         },
         "hoverinfo": "text+delta",
         "hoverlabel": {
          "bgcolor": "rgba(0,0,0,0.8)"
         },
         "hovertext": [
          "Average response: 0.525<br>Prediction: 1.0",
          "Add_Ons = HIGH<br>increases average response by",
          "Age = OLD<br>increases average response by",
          "Special_Occasions = Festival<br>increases average response by",
          "Down_Payment = HIGH<br>increases average response by",
          "Booking_Lead_Time = LOW<br>increases average response by",
          "Competitive_Factors = Low<br>increases average response by",
          "Stock_Status = Available<br>increases average response by",
          "Needs_Match = Medium<br>increases average response by",
          "Experience_With_Sales_Rep = Positive<br>decreases average response by",
          "First_Time_Buyer = Yes<br>decreases average response by",
          "+ all other factors<br>decreases average response by",
          "Average response: 0.525<br>Prediction: 1.0"
         ],
         "increasing": {
          "marker": {
           "color": "#8bdcbe"
          }
         },
         "measure": [
          "relative",
          "relative",
          "relative",
          "relative",
          "relative",
          "relative",
          "relative",
          "relative",
          "relative",
          "relative",
          "relative",
          "relative",
          "total"
         ],
         "orientation": "h",
         "showlegend": false,
         "text": [
          "0.525",
          "+0.089",
          "+0.149",
          "+0.099",
          "+0.063",
          "+0.033",
          "+0.036",
          "+0.005",
          "+0.002",
          "0.0",
          "0.0",
          "0.0",
          "1.0"
         ],
         "textposition": "outside",
         "totals": {
          "marker": {
           "color": "#371ea3"
          }
         },
         "type": "waterfall",
         "x": [
          0,
          0.089,
          0.149,
          0.099,
          0.063,
          0.033,
          0.036,
          0.005,
          0.002,
          0,
          0,
          0,
          0.475
         ],
         "xaxis": "x",
         "y": [
          "intercept",
          "Add_Ons = HIGH",
          "Age = OLD",
          "Special_Occasions = Festival",
          "Down_Payment = HIGH",
          "Booking_Lead_Time = LOW",
          "Competitive_Factors = Low",
          "Stock_Status = Available",
          "Needs_Match = Medium",
          "Experience_With_Sales_Rep = Positive",
          "First_Time_Buyer = Yes",
          "+ all other factors",
          "prediction"
         ],
         "yaxis": "y"
        }
       ],
       "layout": {
        "annotations": [
         {
          "font": {
           "size": 16
          },
          "showarrow": false,
          "text": "BinaryResultsWrapper",
          "x": 0.5,
          "xanchor": "center",
          "xref": "paper",
          "y": 1,
          "yanchor": "bottom",
          "yref": "paper"
         },
         {
          "font": {
           "size": 16
          },
          "showarrow": false,
          "text": "contribution",
          "x": 0.5,
          "xanchor": "center",
          "xref": "paper",
          "y": 0,
          "yanchor": "top",
          "yref": "paper",
          "yshift": -30
         }
        ],
        "font": {
         "color": "#371ea3"
        },
        "height": 413,
        "margin": {
         "b": 71,
         "r": 30,
         "t": 78
        },
        "shapes": [
         {
          "line": {
           "color": "#371ea3",
           "dash": "dot",
           "width": 1.5
          },
          "type": "line",
          "x0": 0.5249938264652175,
          "x1": 0.5249938264652175,
          "xref": "x",
          "y0": -1,
          "y1": 13,
          "yref": "y"
         }
        ],
        "template": {
         "data": {
          "scatter": [
           {
            "type": "scatter"
           }
          ]
         }
        },
        "title": {
         "text": "Poonam Yadav",
         "x": 0.15
        },
        "xaxis": {
         "anchor": "y",
         "automargin": true,
         "domain": [
          0,
          1
         ],
         "fixedrange": true,
         "gridwidth": 2,
         "range": [
          0.45375000000000004,
          1.07125
         ],
         "tickcolor": "white",
         "ticklen": 3,
         "ticks": "outside",
         "type": "linear",
         "zeroline": false
        },
        "yaxis": {
         "anchor": "x",
         "automargin": true,
         "autorange": "reversed",
         "domain": [
          0,
          1
         ],
         "fixedrange": true,
         "gridwidth": 2,
         "tickcolor": "white",
         "ticklen": 10,
         "ticks": "outside",
         "type": "category"
        }
       }
      }
     },
     "metadata": {},
     "output_type": "display_data"
    },
    {
     "data": {
      "application/vnd.plotly.v1+json": {
       "config": {
        "displaylogo": false,
        "modeBarButtonsToRemove": [
         "sendDataToCloud",
         "lasso2d",
         "autoScale2d",
         "select2d",
         "zoom2d",
         "pan2d",
         "zoomIn2d",
         "zoomOut2d",
         "resetScale2d",
         "toggleSpikelines",
         "hoverCompareCartesian",
         "hoverClosestCartesian"
        ],
        "plotlyServerURL": "https://plot.ly",
        "staticPlot": false,
        "toImageButtonOptions": {
         "height": null,
         "width": null
        }
       },
       "data": [
        {
         "base": 0.5249938264652175,
         "connector": {
          "line": {
           "color": "#371ea3",
           "dash": "solid",
           "width": 1
          },
          "mode": "spanning"
         },
         "decreasing": {
          "marker": {
           "color": "#f05a71"
          }
         },
         "hoverinfo": "text+delta",
         "hoverlabel": {
          "bgcolor": "rgba(0,0,0,0.8)"
         },
         "hovertext": [
          "Average response: 0.525<br>Prediction: 1.0",
          "Add_Ons = HIGH<br>increases average response by",
          "Age = YOUNG<br>increases average response by",
          "Lead_Source = Dealer Walk-in<br>increases average response by",
          "Down_Payment = HIGH<br>increases average response by",
          "Booking_Lead_Time = LOW<br>increases average response by",
          "Competitive_Factors = Low<br>increases average response by",
          "Gender = Male<br>increases average response by",
          "Stock_Status = Available<br>increases average response by",
          "Experience_With_Sales_Rep = Positive<br>increases average response by",
          "First_Time_Buyer = Yes<br>increases average response by",
          "+ all other factors<br>increases average response by",
          "Average response: 0.525<br>Prediction: 1.0"
         ],
         "increasing": {
          "marker": {
           "color": "#8bdcbe"
          }
         },
         "measure": [
          "relative",
          "relative",
          "relative",
          "relative",
          "relative",
          "relative",
          "relative",
          "relative",
          "relative",
          "relative",
          "relative",
          "relative",
          "total"
         ],
         "orientation": "h",
         "showlegend": false,
         "text": [
          "0.525",
          "+0.089",
          "+0.103",
          "+0.037",
          "+0.077",
          "+0.025",
          "+0.081",
          "+0.016",
          "+0.022",
          "+0.015",
          "+0.007",
          "+0.003",
          "1.0"
         ],
         "textposition": "outside",
         "totals": {
          "marker": {
           "color": "#371ea3"
          }
         },
         "type": "waterfall",
         "x": [
          0,
          0.089,
          0.103,
          0.037,
          0.077,
          0.025,
          0.081,
          0.016,
          0.022,
          0.015,
          0.007,
          0.003,
          0.475
         ],
         "xaxis": "x",
         "y": [
          "intercept",
          "Add_Ons = HIGH",
          "Age = YOUNG",
          "Lead_Source = Dealer Walk-in",
          "Down_Payment = HIGH",
          "Booking_Lead_Time = LOW",
          "Competitive_Factors = Low",
          "Gender = Male",
          "Stock_Status = Available",
          "Experience_With_Sales_Rep = Positive",
          "First_Time_Buyer = Yes",
          "+ all other factors",
          "prediction"
         ],
         "yaxis": "y"
        }
       ],
       "layout": {
        "annotations": [
         {
          "font": {
           "size": 16
          },
          "showarrow": false,
          "text": "BinaryResultsWrapper",
          "x": 0.5,
          "xanchor": "center",
          "xref": "paper",
          "y": 1,
          "yanchor": "bottom",
          "yref": "paper"
         },
         {
          "font": {
           "size": 16
          },
          "showarrow": false,
          "text": "contribution",
          "x": 0.5,
          "xanchor": "center",
          "xref": "paper",
          "y": 0,
          "yanchor": "top",
          "yref": "paper",
          "yshift": -30
         }
        ],
        "font": {
         "color": "#371ea3"
        },
        "height": 413,
        "margin": {
         "b": 71,
         "r": 30,
         "t": 78
        },
        "shapes": [
         {
          "line": {
           "color": "#371ea3",
           "dash": "dot",
           "width": 1.5
          },
          "type": "line",
          "x0": 0.5249938264652175,
          "x1": 0.5249938264652175,
          "xref": "x",
          "y0": -1,
          "y1": 13,
          "yref": "y"
         }
        ],
        "template": {
         "data": {
          "scatter": [
           {
            "type": "scatter"
           }
          ]
         }
        },
        "title": {
         "text": "Kiran Deshpande",
         "x": 0.15
        },
        "xaxis": {
         "anchor": "y",
         "automargin": true,
         "domain": [
          0,
          1
         ],
         "fixedrange": true,
         "gridwidth": 2,
         "range": [
          0.45375000000000004,
          1.07125
         ],
         "tickcolor": "white",
         "ticklen": 3,
         "ticks": "outside",
         "type": "linear",
         "zeroline": false
        },
        "yaxis": {
         "anchor": "x",
         "automargin": true,
         "autorange": "reversed",
         "domain": [
          0,
          1
         ],
         "fixedrange": true,
         "gridwidth": 2,
         "tickcolor": "white",
         "ticklen": 10,
         "ticks": "outside",
         "type": "category"
        }
       }
      }
     },
     "metadata": {},
     "output_type": "display_data"
    },
    {
     "data": {
      "application/vnd.plotly.v1+json": {
       "config": {
        "displaylogo": false,
        "modeBarButtonsToRemove": [
         "sendDataToCloud",
         "lasso2d",
         "autoScale2d",
         "select2d",
         "zoom2d",
         "pan2d",
         "zoomIn2d",
         "zoomOut2d",
         "resetScale2d",
         "toggleSpikelines",
         "hoverCompareCartesian",
         "hoverClosestCartesian"
        ],
        "plotlyServerURL": "https://plot.ly",
        "staticPlot": false,
        "toImageButtonOptions": {
         "height": null,
         "width": null
        }
       },
       "data": [
        {
         "base": 0.5249938264652175,
         "connector": {
          "line": {
           "color": "#371ea3",
           "dash": "solid",
           "width": 1
          },
          "mode": "spanning"
         },
         "decreasing": {
          "marker": {
           "color": "#f05a71"
          }
         },
         "hoverinfo": "text+delta",
         "hoverlabel": {
          "bgcolor": "rgba(0,0,0,0.8)"
         },
         "hovertext": [
          "Average response: 0.525<br>Prediction: 1.0",
          "Add_Ons = HIGH<br>increases average response by",
          "Age = OLD<br>increases average response by",
          "Special_Occasions = Festival<br>increases average response by",
          "Income = HIGH<br>increases average response by",
          "Down_Payment = HIGH<br>increases average response by",
          "Booking_Lead_Time = LOW<br>increases average response by",
          "Competitive_Factors = Low<br>increases average response by",
          "Lead_Source = Referral<br>increases average response by",
          "Finances_Status = Cash Purchase<br>decreases average response by",
          "Stock_Status = Available<br>decreases average response by",
          "+ all other factors<br>decreases average response by",
          "Average response: 0.525<br>Prediction: 1.0"
         ],
         "increasing": {
          "marker": {
           "color": "#8bdcbe"
          }
         },
         "measure": [
          "relative",
          "relative",
          "relative",
          "relative",
          "relative",
          "relative",
          "relative",
          "relative",
          "relative",
          "relative",
          "relative",
          "relative",
          "total"
         ],
         "orientation": "h",
         "showlegend": false,
         "text": [
          "0.525",
          "+0.089",
          "+0.149",
          "+0.099",
          "+0.035",
          "+0.067",
          "+0.017",
          "+0.018",
          "+0.001",
          "0.0",
          "0.0",
          "0.0",
          "1.0"
         ],
         "textposition": "outside",
         "totals": {
          "marker": {
           "color": "#371ea3"
          }
         },
         "type": "waterfall",
         "x": [
          0,
          0.089,
          0.149,
          0.099,
          0.035,
          0.067,
          0.017,
          0.018,
          0.001,
          0,
          0,
          0,
          0.475
         ],
         "xaxis": "x",
         "y": [
          "intercept",
          "Add_Ons = HIGH",
          "Age = OLD",
          "Special_Occasions = Festival",
          "Income = HIGH",
          "Down_Payment = HIGH",
          "Booking_Lead_Time = LOW",
          "Competitive_Factors = Low",
          "Lead_Source = Referral",
          "Finances_Status = Cash Purchase",
          "Stock_Status = Available",
          "+ all other factors",
          "prediction"
         ],
         "yaxis": "y"
        }
       ],
       "layout": {
        "annotations": [
         {
          "font": {
           "size": 16
          },
          "showarrow": false,
          "text": "BinaryResultsWrapper",
          "x": 0.5,
          "xanchor": "center",
          "xref": "paper",
          "y": 1,
          "yanchor": "bottom",
          "yref": "paper"
         },
         {
          "font": {
           "size": 16
          },
          "showarrow": false,
          "text": "contribution",
          "x": 0.5,
          "xanchor": "center",
          "xref": "paper",
          "y": 0,
          "yanchor": "top",
          "yref": "paper",
          "yshift": -30
         }
        ],
        "font": {
         "color": "#371ea3"
        },
        "height": 413,
        "margin": {
         "b": 71,
         "r": 30,
         "t": 78
        },
        "shapes": [
         {
          "line": {
           "color": "#371ea3",
           "dash": "dot",
           "width": 1.5
          },
          "type": "line",
          "x0": 0.5249938264652175,
          "x1": 0.5249938264652175,
          "xref": "x",
          "y0": -1,
          "y1": 13,
          "yref": "y"
         }
        ],
        "template": {
         "data": {
          "scatter": [
           {
            "type": "scatter"
           }
          ]
         }
        },
        "title": {
         "text": "Sneha Rathi",
         "x": 0.15
        },
        "xaxis": {
         "anchor": "y",
         "automargin": true,
         "domain": [
          0,
          1
         ],
         "fixedrange": true,
         "gridwidth": 2,
         "range": [
          0.45375000000000004,
          1.07125
         ],
         "tickcolor": "white",
         "ticklen": 3,
         "ticks": "outside",
         "type": "linear",
         "zeroline": false
        },
        "yaxis": {
         "anchor": "x",
         "automargin": true,
         "autorange": "reversed",
         "domain": [
          0,
          1
         ],
         "fixedrange": true,
         "gridwidth": 2,
         "tickcolor": "white",
         "ticklen": 10,
         "ticks": "outside",
         "type": "category"
        }
       }
      }
     },
     "metadata": {},
     "output_type": "display_data"
    },
    {
     "data": {
      "application/vnd.plotly.v1+json": {
       "config": {
        "displaylogo": false,
        "modeBarButtonsToRemove": [
         "sendDataToCloud",
         "lasso2d",
         "autoScale2d",
         "select2d",
         "zoom2d",
         "pan2d",
         "zoomIn2d",
         "zoomOut2d",
         "resetScale2d",
         "toggleSpikelines",
         "hoverCompareCartesian",
         "hoverClosestCartesian"
        ],
        "plotlyServerURL": "https://plot.ly",
        "staticPlot": false,
        "toImageButtonOptions": {
         "height": null,
         "width": null
        }
       },
       "data": [
        {
         "base": 0.5249938264652175,
         "connector": {
          "line": {
           "color": "#371ea3",
           "dash": "solid",
           "width": 1
          },
          "mode": "spanning"
         },
         "decreasing": {
          "marker": {
           "color": "#f05a71"
          }
         },
         "hoverinfo": "text+delta",
         "hoverlabel": {
          "bgcolor": "rgba(0,0,0,0.8)"
         },
         "hovertext": [
          "Average response: 0.525<br>Prediction: 1.0",
          "Add_Ons = HIGH<br>increases average response by",
          "Age = OLD<br>increases average response by",
          "Income = HIGH<br>increases average response by",
          "Down_Payment = HIGH<br>increases average response by",
          "Booking_Lead_Time = LOW<br>increases average response by",
          "Competitive_Factors = Low<br>increases average response by",
          "Gender = Male<br>increases average response by",
          "Finances_Status = Cash Purchase<br>increases average response by",
          "Stock_Status = Available<br>increases average response by",
          "Experience_With_Sales_Rep = Positive<br>increases average response by",
          "+ all other factors<br>increases average response by",
          "Average response: 0.525<br>Prediction: 1.0"
         ],
         "increasing": {
          "marker": {
           "color": "#8bdcbe"
          }
         },
         "measure": [
          "relative",
          "relative",
          "relative",
          "relative",
          "relative",
          "relative",
          "relative",
          "relative",
          "relative",
          "relative",
          "relative",
          "relative",
          "total"
         ],
         "orientation": "h",
         "showlegend": false,
         "text": [
          "0.525",
          "+0.089",
          "+0.149",
          "+0.054",
          "+0.053",
          "+0.025",
          "+0.055",
          "+0.023",
          "+0.025",
          "+0.002",
          "+0.001",
          "+0.001",
          "1.0"
         ],
         "textposition": "outside",
         "totals": {
          "marker": {
           "color": "#371ea3"
          }
         },
         "type": "waterfall",
         "x": [
          0,
          0.089,
          0.149,
          0.054,
          0.053,
          0.025,
          0.055,
          0.023,
          0.025,
          0.002,
          0.001,
          0.001,
          0.475
         ],
         "xaxis": "x",
         "y": [
          "intercept",
          "Add_Ons = HIGH",
          "Age = OLD",
          "Income = HIGH",
          "Down_Payment = HIGH",
          "Booking_Lead_Time = LOW",
          "Competitive_Factors = Low",
          "Gender = Male",
          "Finances_Status = Cash Purchase",
          "Stock_Status = Available",
          "Experience_With_Sales_Rep = Positive",
          "+ all other factors",
          "prediction"
         ],
         "yaxis": "y"
        }
       ],
       "layout": {
        "annotations": [
         {
          "font": {
           "size": 16
          },
          "showarrow": false,
          "text": "BinaryResultsWrapper",
          "x": 0.5,
          "xanchor": "center",
          "xref": "paper",
          "y": 1,
          "yanchor": "bottom",
          "yref": "paper"
         },
         {
          "font": {
           "size": 16
          },
          "showarrow": false,
          "text": "contribution",
          "x": 0.5,
          "xanchor": "center",
          "xref": "paper",
          "y": 0,
          "yanchor": "top",
          "yref": "paper",
          "yshift": -30
         }
        ],
        "font": {
         "color": "#371ea3"
        },
        "height": 413,
        "margin": {
         "b": 71,
         "r": 30,
         "t": 78
        },
        "shapes": [
         {
          "line": {
           "color": "#371ea3",
           "dash": "dot",
           "width": 1.5
          },
          "type": "line",
          "x0": 0.5249938264652175,
          "x1": 0.5249938264652175,
          "xref": "x",
          "y0": -1,
          "y1": 13,
          "yref": "y"
         }
        ],
        "template": {
         "data": {
          "scatter": [
           {
            "type": "scatter"
           }
          ]
         }
        },
        "title": {
         "text": "Girish Kulkarni",
         "x": 0.15
        },
        "xaxis": {
         "anchor": "y",
         "automargin": true,
         "domain": [
          0,
          1
         ],
         "fixedrange": true,
         "gridwidth": 2,
         "range": [
          0.45375000000000004,
          1.07125
         ],
         "tickcolor": "white",
         "ticklen": 3,
         "ticks": "outside",
         "type": "linear",
         "zeroline": false
        },
        "yaxis": {
         "anchor": "x",
         "automargin": true,
         "autorange": "reversed",
         "domain": [
          0,
          1
         ],
         "fixedrange": true,
         "gridwidth": 2,
         "tickcolor": "white",
         "ticklen": 10,
         "ticks": "outside",
         "type": "category"
        }
       }
      }
     },
     "metadata": {},
     "output_type": "display_data"
    },
    {
     "data": {
      "application/vnd.plotly.v1+json": {
       "config": {
        "displaylogo": false,
        "modeBarButtonsToRemove": [
         "sendDataToCloud",
         "lasso2d",
         "autoScale2d",
         "select2d",
         "zoom2d",
         "pan2d",
         "zoomIn2d",
         "zoomOut2d",
         "resetScale2d",
         "toggleSpikelines",
         "hoverCompareCartesian",
         "hoverClosestCartesian"
        ],
        "plotlyServerURL": "https://plot.ly",
        "staticPlot": false,
        "toImageButtonOptions": {
         "height": null,
         "width": null
        }
       },
       "data": [
        {
         "base": 0.5249938264652175,
         "connector": {
          "line": {
           "color": "#371ea3",
           "dash": "solid",
           "width": 1
          },
          "mode": "spanning"
         },
         "decreasing": {
          "marker": {
           "color": "#f05a71"
          }
         },
         "hoverinfo": "text+delta",
         "hoverlabel": {
          "bgcolor": "rgba(0,0,0,0.8)"
         },
         "hovertext": [
          "Average response: 0.525<br>Prediction: 1.0",
          "Add_Ons = HIGH<br>increases average response by",
          "Special_Occasions = Festival<br>increases average response by",
          "Age = YOUNG<br>increases average response by",
          "Lead_Source = Dealer Walk-in<br>increases average response by",
          "Down_Payment = HIGH<br>increases average response by",
          "Booking_Lead_Time = LOW<br>increases average response by",
          "Competitive_Factors = Low<br>increases average response by",
          "Finances_Status = Cash Purchase<br>increases average response by",
          "Stock_Status = Available<br>increases average response by",
          "Needs_Match = Medium<br>decreases average response by",
          "+ all other factors<br>decreases average response by",
          "Average response: 0.525<br>Prediction: 1.0"
         ],
         "increasing": {
          "marker": {
           "color": "#8bdcbe"
          }
         },
         "measure": [
          "relative",
          "relative",
          "relative",
          "relative",
          "relative",
          "relative",
          "relative",
          "relative",
          "relative",
          "relative",
          "relative",
          "relative",
          "total"
         ],
         "orientation": "h",
         "showlegend": false,
         "text": [
          "0.525",
          "+0.089",
          "+0.125",
          "+0.102",
          "+0.029",
          "+0.057",
          "+0.035",
          "+0.03",
          "+0.008",
          "+0.001",
          "0.0",
          "0.0",
          "1.0"
         ],
         "textposition": "outside",
         "totals": {
          "marker": {
           "color": "#371ea3"
          }
         },
         "type": "waterfall",
         "x": [
          0,
          0.089,
          0.125,
          0.102,
          0.029,
          0.057,
          0.035,
          0.03,
          0.008,
          0.001,
          0,
          0,
          0.475
         ],
         "xaxis": "x",
         "y": [
          "intercept",
          "Add_Ons = HIGH",
          "Special_Occasions = Festival",
          "Age = YOUNG",
          "Lead_Source = Dealer Walk-in",
          "Down_Payment = HIGH",
          "Booking_Lead_Time = LOW",
          "Competitive_Factors = Low",
          "Finances_Status = Cash Purchase",
          "Stock_Status = Available",
          "Needs_Match = Medium",
          "+ all other factors",
          "prediction"
         ],
         "yaxis": "y"
        }
       ],
       "layout": {
        "annotations": [
         {
          "font": {
           "size": 16
          },
          "showarrow": false,
          "text": "BinaryResultsWrapper",
          "x": 0.5,
          "xanchor": "center",
          "xref": "paper",
          "y": 1,
          "yanchor": "bottom",
          "yref": "paper"
         },
         {
          "font": {
           "size": 16
          },
          "showarrow": false,
          "text": "contribution",
          "x": 0.5,
          "xanchor": "center",
          "xref": "paper",
          "y": 0,
          "yanchor": "top",
          "yref": "paper",
          "yshift": -30
         }
        ],
        "font": {
         "color": "#371ea3"
        },
        "height": 413,
        "margin": {
         "b": 71,
         "r": 30,
         "t": 78
        },
        "shapes": [
         {
          "line": {
           "color": "#371ea3",
           "dash": "dot",
           "width": 1.5
          },
          "type": "line",
          "x0": 0.5249938264652175,
          "x1": 0.5249938264652175,
          "xref": "x",
          "y0": -1,
          "y1": 13,
          "yref": "y"
         }
        ],
        "template": {
         "data": {
          "scatter": [
           {
            "type": "scatter"
           }
          ]
         }
        },
        "title": {
         "text": "Asha Mehta",
         "x": 0.15
        },
        "xaxis": {
         "anchor": "y",
         "automargin": true,
         "domain": [
          0,
          1
         ],
         "fixedrange": true,
         "gridwidth": 2,
         "range": [
          0.45375000000000004,
          1.07125
         ],
         "tickcolor": "white",
         "ticklen": 3,
         "ticks": "outside",
         "type": "linear",
         "zeroline": false
        },
        "yaxis": {
         "anchor": "x",
         "automargin": true,
         "autorange": "reversed",
         "domain": [
          0,
          1
         ],
         "fixedrange": true,
         "gridwidth": 2,
         "tickcolor": "white",
         "ticklen": 10,
         "ticks": "outside",
         "type": "category"
        }
       }
      }
     },
     "metadata": {},
     "output_type": "display_data"
    },
    {
     "data": {
      "application/vnd.plotly.v1+json": {
       "config": {
        "displaylogo": false,
        "modeBarButtonsToRemove": [
         "sendDataToCloud",
         "lasso2d",
         "autoScale2d",
         "select2d",
         "zoom2d",
         "pan2d",
         "zoomIn2d",
         "zoomOut2d",
         "resetScale2d",
         "toggleSpikelines",
         "hoverCompareCartesian",
         "hoverClosestCartesian"
        ],
        "plotlyServerURL": "https://plot.ly",
        "staticPlot": false,
        "toImageButtonOptions": {
         "height": null,
         "width": null
        }
       },
       "data": [
        {
         "base": 0.5249938264652175,
         "connector": {
          "line": {
           "color": "#371ea3",
           "dash": "solid",
           "width": 1
          },
          "mode": "spanning"
         },
         "decreasing": {
          "marker": {
           "color": "#f05a71"
          }
         },
         "hoverinfo": "text+delta",
         "hoverlabel": {
          "bgcolor": "rgba(0,0,0,0.8)"
         },
         "hovertext": [
          "Average response: 0.525<br>Prediction: 1.0",
          "Add_Ons = HIGH<br>increases average response by",
          "Age = OLD<br>increases average response by",
          "Income = HIGH<br>increases average response by",
          "Down_Payment = HIGH<br>increases average response by",
          "Booking_Lead_Time = LOW<br>increases average response by",
          "Competitive_Factors = Low<br>increases average response by",
          "Lead_Source = Referral<br>increases average response by",
          "Gender = Male<br>increases average response by",
          "Finances_Status = Cash Purchase<br>increases average response by",
          "Stock_Status = Available<br>increases average response by",
          "+ all other factors<br>decreases average response by",
          "Average response: 0.525<br>Prediction: 1.0"
         ],
         "increasing": {
          "marker": {
           "color": "#8bdcbe"
          }
         },
         "measure": [
          "relative",
          "relative",
          "relative",
          "relative",
          "relative",
          "relative",
          "relative",
          "relative",
          "relative",
          "relative",
          "relative",
          "relative",
          "total"
         ],
         "orientation": "h",
         "showlegend": false,
         "text": [
          "0.525",
          "+0.089",
          "+0.149",
          "+0.054",
          "+0.053",
          "+0.025",
          "+0.055",
          "+0.024",
          "+0.018",
          "+0.007",
          "+0.001",
          "0.0",
          "1.0"
         ],
         "textposition": "outside",
         "totals": {
          "marker": {
           "color": "#371ea3"
          }
         },
         "type": "waterfall",
         "x": [
          0,
          0.089,
          0.149,
          0.054,
          0.053,
          0.025,
          0.055,
          0.024,
          0.018,
          0.007,
          0.001,
          0,
          0.475
         ],
         "xaxis": "x",
         "y": [
          "intercept",
          "Add_Ons = HIGH",
          "Age = OLD",
          "Income = HIGH",
          "Down_Payment = HIGH",
          "Booking_Lead_Time = LOW",
          "Competitive_Factors = Low",
          "Lead_Source = Referral",
          "Gender = Male",
          "Finances_Status = Cash Purchase",
          "Stock_Status = Available",
          "+ all other factors",
          "prediction"
         ],
         "yaxis": "y"
        }
       ],
       "layout": {
        "annotations": [
         {
          "font": {
           "size": 16
          },
          "showarrow": false,
          "text": "BinaryResultsWrapper",
          "x": 0.5,
          "xanchor": "center",
          "xref": "paper",
          "y": 1,
          "yanchor": "bottom",
          "yref": "paper"
         },
         {
          "font": {
           "size": 16
          },
          "showarrow": false,
          "text": "contribution",
          "x": 0.5,
          "xanchor": "center",
          "xref": "paper",
          "y": 0,
          "yanchor": "top",
          "yref": "paper",
          "yshift": -30
         }
        ],
        "font": {
         "color": "#371ea3"
        },
        "height": 413,
        "margin": {
         "b": 71,
         "r": 30,
         "t": 78
        },
        "shapes": [
         {
          "line": {
           "color": "#371ea3",
           "dash": "dot",
           "width": 1.5
          },
          "type": "line",
          "x0": 0.5249938264652175,
          "x1": 0.5249938264652175,
          "xref": "x",
          "y0": -1,
          "y1": 13,
          "yref": "y"
         }
        ],
        "template": {
         "data": {
          "scatter": [
           {
            "type": "scatter"
           }
          ]
         }
        },
        "title": {
         "text": "Nikhil Reddy",
         "x": 0.15
        },
        "xaxis": {
         "anchor": "y",
         "automargin": true,
         "domain": [
          0,
          1
         ],
         "fixedrange": true,
         "gridwidth": 2,
         "range": [
          0.45375000000000004,
          1.07125
         ],
         "tickcolor": "white",
         "ticklen": 3,
         "ticks": "outside",
         "type": "linear",
         "zeroline": false
        },
        "yaxis": {
         "anchor": "x",
         "automargin": true,
         "autorange": "reversed",
         "domain": [
          0,
          1
         ],
         "fixedrange": true,
         "gridwidth": 2,
         "tickcolor": "white",
         "ticklen": 10,
         "ticks": "outside",
         "type": "category"
        }
       }
      }
     },
     "metadata": {},
     "output_type": "display_data"
    },
    {
     "data": {
      "application/vnd.plotly.v1+json": {
       "config": {
        "displaylogo": false,
        "modeBarButtonsToRemove": [
         "sendDataToCloud",
         "lasso2d",
         "autoScale2d",
         "select2d",
         "zoom2d",
         "pan2d",
         "zoomIn2d",
         "zoomOut2d",
         "resetScale2d",
         "toggleSpikelines",
         "hoverCompareCartesian",
         "hoverClosestCartesian"
        ],
        "plotlyServerURL": "https://plot.ly",
        "staticPlot": false,
        "toImageButtonOptions": {
         "height": null,
         "width": null
        }
       },
       "data": [
        {
         "base": 0.5249938264652175,
         "connector": {
          "line": {
           "color": "#371ea3",
           "dash": "solid",
           "width": 1
          },
          "mode": "spanning"
         },
         "decreasing": {
          "marker": {
           "color": "#f05a71"
          }
         },
         "hoverinfo": "text+delta",
         "hoverlabel": {
          "bgcolor": "rgba(0,0,0,0.8)"
         },
         "hovertext": [
          "Average response: 0.525<br>Prediction: 1.0",
          "Add_Ons = HIGH<br>increases average response by",
          "Special_Occasions = Festival<br>increases average response by",
          "Age = YOUNG<br>increases average response by",
          "Income = HIGH<br>increases average response by",
          "Down_Payment = HIGH<br>increases average response by",
          "Booking_Lead_Time = LOW<br>increases average response by",
          "Competitive_Factors = Low<br>increases average response by",
          "Finances_Status = Cash Purchase<br>increases average response by",
          "Stock_Status = Available<br>decreases average response by",
          "Needs_Match = Medium<br>decreases average response by",
          "+ all other factors<br>decreases average response by",
          "Average response: 0.525<br>Prediction: 1.0"
         ],
         "increasing": {
          "marker": {
           "color": "#8bdcbe"
          }
         },
         "measure": [
          "relative",
          "relative",
          "relative",
          "relative",
          "relative",
          "relative",
          "relative",
          "relative",
          "relative",
          "relative",
          "relative",
          "relative",
          "total"
         ],
         "orientation": "h",
         "showlegend": false,
         "text": [
          "0.525",
          "+0.089",
          "+0.125",
          "+0.102",
          "+0.033",
          "+0.064",
          "+0.026",
          "+0.033",
          "+0.003",
          "0.0",
          "0.0",
          "0.0",
          "1.0"
         ],
         "textposition": "outside",
         "totals": {
          "marker": {
           "color": "#371ea3"
          }
         },
         "type": "waterfall",
         "x": [
          0,
          0.089,
          0.125,
          0.102,
          0.033,
          0.064,
          0.026,
          0.033,
          0.003,
          0,
          0,
          0,
          0.475
         ],
         "xaxis": "x",
         "y": [
          "intercept",
          "Add_Ons = HIGH",
          "Special_Occasions = Festival",
          "Age = YOUNG",
          "Income = HIGH",
          "Down_Payment = HIGH",
          "Booking_Lead_Time = LOW",
          "Competitive_Factors = Low",
          "Finances_Status = Cash Purchase",
          "Stock_Status = Available",
          "Needs_Match = Medium",
          "+ all other factors",
          "prediction"
         ],
         "yaxis": "y"
        }
       ],
       "layout": {
        "annotations": [
         {
          "font": {
           "size": 16
          },
          "showarrow": false,
          "text": "BinaryResultsWrapper",
          "x": 0.5,
          "xanchor": "center",
          "xref": "paper",
          "y": 1,
          "yanchor": "bottom",
          "yref": "paper"
         },
         {
          "font": {
           "size": 16
          },
          "showarrow": false,
          "text": "contribution",
          "x": 0.5,
          "xanchor": "center",
          "xref": "paper",
          "y": 0,
          "yanchor": "top",
          "yref": "paper",
          "yshift": -30
         }
        ],
        "font": {
         "color": "#371ea3"
        },
        "height": 413,
        "margin": {
         "b": 71,
         "r": 30,
         "t": 78
        },
        "shapes": [
         {
          "line": {
           "color": "#371ea3",
           "dash": "dot",
           "width": 1.5
          },
          "type": "line",
          "x0": 0.5249938264652175,
          "x1": 0.5249938264652175,
          "xref": "x",
          "y0": -1,
          "y1": 13,
          "yref": "y"
         }
        ],
        "template": {
         "data": {
          "scatter": [
           {
            "type": "scatter"
           }
          ]
         }
        },
        "title": {
         "text": "Ritu Jain",
         "x": 0.15
        },
        "xaxis": {
         "anchor": "y",
         "automargin": true,
         "domain": [
          0,
          1
         ],
         "fixedrange": true,
         "gridwidth": 2,
         "range": [
          0.45375000000000004,
          1.07125
         ],
         "tickcolor": "white",
         "ticklen": 3,
         "ticks": "outside",
         "type": "linear",
         "zeroline": false
        },
        "yaxis": {
         "anchor": "x",
         "automargin": true,
         "autorange": "reversed",
         "domain": [
          0,
          1
         ],
         "fixedrange": true,
         "gridwidth": 2,
         "tickcolor": "white",
         "ticklen": 10,
         "ticks": "outside",
         "type": "category"
        }
       }
      }
     },
     "metadata": {},
     "output_type": "display_data"
    }
   ],
   "source": [
    "import dalex as dx\n",
    "\n",
    "X= new_df.drop('bciindex', axis=1)\n",
    "y = new_df['bciindex']\n",
    "df_index = pd.read_excel('BCI backup.xlsx', sheet_name='Dummy leads')\n",
    "exp = dx.Explainer(fitted_model, X, y)\n",
    "\n",
    "for i in range(len(X)):\n",
    "    # Get feature importance\n",
    "    breakdown = exp.predict_parts(X.iloc[i], type='break_down', label=X.index[0])\n",
    "    breakdown.plot(title=df_index.iloc[i]['Customer name'])\n",
    "# sh_mary = exp.predict_parts(X.iloc[1], type='shap', B=10, label=X.index[0])"
   ]
  },
  {
   "cell_type": "code",
   "execution_count": 17,
   "metadata": {},
   "outputs": [],
   "source": [
    "df_customer_formula = \"bciindex ~ C(Lead_Source) + C(First_Time_Buyer) + C(Age) + C(Gender) + C(Income) + C(OEM_Loyalty_Program)\"\n",
    "df_finances_formula = \"bciindex ~ C(Finances_Status) + C(CIBIL_Score) + C(Down_Payment) + C(Undecided_Finances)\"\n",
    "df_bookingdetails_formula = \"bciindex ~ C(Special_Occasions) + C(Booking_Lead_Time) + C(Needs_Match) + C(Add_Ons)\"\n",
    "df_deliverydetails_formula = \"bciindex ~ C(Stock_Status) + C(Delivery_Date_Status)\"\n",
    "df_customerexperience_formula = \"bciindex ~ C(Competitive_Factors) + C(External_Factors) + C(Customer_Satisfaction_Score) + C(Dealership_Engagement) + C(Companion_Feedback)\""
   ]
  },
  {
   "cell_type": "code",
   "execution_count": 18,
   "metadata": {},
   "outputs": [
    {
     "name": "stdout",
     "output_type": "stream",
     "text": [
      "         Current function value: 0.035097\n",
      "         Iterations: 35\n",
      "         Function evaluations: 137\n",
      "         Gradient evaluations: 137\n",
      "Optimization terminated successfully.\n",
      "         Current function value: 0.383618\n",
      "         Iterations: 21\n",
      "         Function evaluations: 69\n",
      "         Gradient evaluations: 69\n",
      "Optimization terminated successfully.\n",
      "         Current function value: 0.000007\n",
      "         Iterations: 19\n",
      "         Function evaluations: 124\n",
      "         Gradient evaluations: 124\n",
      "Optimization terminated successfully.\n",
      "         Current function value: 0.487320\n",
      "         Iterations: 20\n",
      "         Function evaluations: 60\n",
      "         Gradient evaluations: 60\n",
      "         Current function value: 0.270360\n",
      "         Iterations: 35\n",
      "         Function evaluations: 110\n",
      "         Gradient evaluations: 110\n"
     ]
    },
    {
     "name": "stderr",
     "output_type": "stream",
     "text": [
      "c:\\Users\\mukulkathuria\\Documents\\mlprac\\driveai\\bciindexanalysis\\bcienv\\Lib\\site-packages\\scipy\\optimize\\_optimize.py:1658: OptimizeWarning:\n",
      "\n",
      "Maximum number of iterations has been exceeded.\n",
      "\n",
      "c:\\Users\\mukulkathuria\\Documents\\mlprac\\driveai\\bciindexanalysis\\bcienv\\Lib\\site-packages\\statsmodels\\base\\model.py:607: ConvergenceWarning:\n",
      "\n",
      "Maximum Likelihood optimization failed to converge. Check mle_retvals\n",
      "\n",
      "c:\\Users\\mukulkathuria\\Documents\\mlprac\\driveai\\bciindexanalysis\\bcienv\\Lib\\site-packages\\scipy\\optimize\\_optimize.py:1658: OptimizeWarning:\n",
      "\n",
      "Maximum number of iterations has been exceeded.\n",
      "\n",
      "c:\\Users\\mukulkathuria\\Documents\\mlprac\\driveai\\bciindexanalysis\\bcienv\\Lib\\site-packages\\statsmodels\\base\\model.py:607: ConvergenceWarning:\n",
      "\n",
      "Maximum Likelihood optimization failed to converge. Check mle_retvals\n",
      "\n"
     ]
    }
   ],
   "source": [
    "df_customermodel = sm.Logit.from_formula(df_customer_formula , df).fit(method='cg', skip_hessian=False)\n",
    "df_financesmodel = sm.Logit.from_formula(df_finances_formula , df).fit(method='cg', skip_hessian=False)\n",
    "df_bookingdetailsmodel = sm.Logit.from_formula(df_bookingdetails_formula , df).fit(method='cg', skip_hessian=False)\n",
    "df_deliverydetailsmodel = sm.Logit.from_formula(df_deliverydetails_formula , df).fit(method='cg', skip_hessian=False)\n",
    "df_customerexperiencemodel = sm.Logit.from_formula(df_customerexperience_formula , df).fit(method='cg', skip_hessian=False)\n"
   ]
  },
  {
   "cell_type": "code",
   "execution_count": 19,
   "metadata": {},
   "outputs": [
    {
     "name": "stdout",
     "output_type": "stream",
     "text": [
      "                           Logit Regression Results                           \n",
      "==============================================================================\n",
      "Dep. Variable:               bciindex   No. Observations:                   40\n",
      "Model:                          Logit   Df Residuals:                       29\n",
      "Method:                           MLE   Df Model:                           10\n",
      "Date:                Thu, 10 Jul 2025   Pseudo R-squ.:                  0.9493\n",
      "Time:                        11:48:42   Log-Likelihood:                -1.4039\n",
      "converged:                      False   LL-Null:                       -27.676\n",
      "Covariance Type:            nonrobust   LLR p-value:                 9.048e-08\n",
      "=================================================================================================\n",
      "                                    coef    std err          z      P>|z|      [0.025      0.975]\n",
      "-------------------------------------------------------------------------------------------------\n",
      "Intercept                       -20.3718    420.896     -0.048      0.961    -845.313     804.570\n",
      "C(Lead_Source)[T.Online]         -6.1337    386.945     -0.016      0.987    -764.532     752.264\n",
      "C(Lead_Source)[T.Referral]      -12.3979    386.157     -0.032      0.974    -769.252     744.457\n",
      "C(Lead_Source)[T.Walk-in]        -9.5821    388.468     -0.025      0.980    -770.966     751.802\n",
      "C(First_Time_Buyer)[T.Yes]       17.9397     43.332      0.414      0.679     -66.989     102.868\n",
      "C(Age)[T.YOUNG]                  13.2809     32.516      0.408      0.683     -50.450      77.012\n",
      "C(Age)[T.OLD]                    21.6425    125.694      0.172      0.863    -224.714     267.999\n",
      "C(Gender)[T.Male]                 0.4021    112.660      0.004      0.997    -220.407     221.211\n",
      "C(Income)[T.MEDIUM]               2.7123    135.961      0.020      0.984    -263.767     269.191\n",
      "C(Income)[T.HIGH]                 6.7582     77.342      0.087      0.930    -144.830     158.347\n",
      "C(OEM_Loyalty_Program)[T.Yes]    -1.1205     93.048     -0.012      0.990    -183.491     181.250\n",
      "=================================================================================================\n",
      "\n",
      "Possibly complete quasi-separation: A fraction 0.72 of observations can be\n",
      "perfectly predicted. This might indicate that there is complete\n",
      "quasi-separation. In this case some parameters will not be identified.\n"
     ]
    }
   ],
   "source": [
    "print(df_customermodel.summary())"
   ]
  },
  {
   "cell_type": "code",
   "execution_count": 20,
   "metadata": {},
   "outputs": [
    {
     "name": "stdout",
     "output_type": "stream",
     "text": [
      "                           Logit Regression Results                           \n",
      "==============================================================================\n",
      "Dep. Variable:               bciindex   No. Observations:                   40\n",
      "Model:                          Logit   Df Residuals:                       33\n",
      "Method:                           MLE   Df Model:                            6\n",
      "Date:                Thu, 10 Jul 2025   Pseudo R-squ.:                  0.4456\n",
      "Time:                        11:48:42   Log-Likelihood:                -15.345\n",
      "converged:                       True   LL-Null:                       -27.676\n",
      "Covariance Type:            nonrobust   LLR p-value:                 0.0003943\n",
      "=======================================================================================================\n",
      "                                          coef    std err          z      P>|z|      [0.025      0.975]\n",
      "-------------------------------------------------------------------------------------------------------\n",
      "Intercept                               0.7884      0.539      1.462      0.144      -0.269       1.846\n",
      "C(Finances_Status)[T.Cash Purchase]     0.8206      0.944      0.869      0.385      -1.029       2.670\n",
      "C(Finances_Status)[T.Pending Loans]    -2.5076    251.187     -0.010      0.992    -494.825     489.810\n",
      "C(Finances_Status)[T.Undecided]        -1.0723   2.81e+04  -3.82e-05      1.000    -5.5e+04     5.5e+04\n",
      "C(CIBIL_Score)[T.LOW]                  -2.0993    219.547     -0.010      0.992    -432.404     428.205\n",
      "C(Down_Payment)[T.LOW]                -10.2333     52.767     -0.194      0.846    -113.654      93.187\n",
      "C(Undecided_Finances)[T.Yes]           -9.2549     68.957     -0.134      0.893    -144.409     125.899\n",
      "=======================================================================================================\n",
      "\n",
      "Possibly complete quasi-separation: A fraction 0.23 of observations can be\n",
      "perfectly predicted. This might indicate that there is complete\n",
      "quasi-separation. In this case some parameters will not be identified.\n"
     ]
    }
   ],
   "source": [
    "print(df_financesmodel.summary())\n"
   ]
  },
  {
   "cell_type": "code",
   "execution_count": 21,
   "metadata": {},
   "outputs": [
    {
     "name": "stdout",
     "output_type": "stream",
     "text": [
      "                           Logit Regression Results                           \n",
      "==============================================================================\n",
      "Dep. Variable:               bciindex   No. Observations:                   40\n",
      "Model:                          Logit   Df Residuals:                       31\n",
      "Method:                           MLE   Df Model:                            8\n",
      "Date:                Thu, 10 Jul 2025   Pseudo R-squ.:                   1.000\n",
      "Time:                        11:48:42   Log-Likelihood:            -0.00028359\n",
      "converged:                       True   LL-Null:                       -27.676\n",
      "Covariance Type:            nonrobust   LLR p-value:                 3.773e-09\n",
      "===================================================================================================\n",
      "                                      coef    std err          z      P>|z|      [0.025      0.975]\n",
      "---------------------------------------------------------------------------------------------------\n",
      "Intercept                           8.6121     74.160      0.116      0.908    -136.739     153.963\n",
      "C(Special_Occasions)[T.None]      -26.8494   5264.116     -0.005      0.996   -1.03e+04    1.03e+04\n",
      "C(Special_Occasions)[T.Wedding]   -17.8276    124.714     -0.143      0.886    -262.263     226.608\n",
      "C(Booking_Lead_Time)[T.MEDIUM]     -5.8447   1865.975     -0.003      0.998   -3663.088    3651.399\n",
      "C(Booking_Lead_Time)[T.HIGH]       -5.3536   1459.117     -0.004      0.997   -2865.171    2854.464\n",
      "C(Needs_Match)[T.Low]              -2.4199    3.1e+04  -7.81e-05      1.000   -6.08e+04    6.08e+04\n",
      "C(Needs_Match)[T.Medium]          -23.8101   1992.853     -0.012      0.990   -3929.731    3882.111\n",
      "C(Add_Ons)[T.MEDIUM]              -25.6724   5065.727     -0.005      0.996   -9954.315    9902.970\n",
      "C(Add_Ons)[T.HIGH]                 47.3957   2202.788      0.022      0.983   -4269.990    4364.781\n",
      "===================================================================================================\n",
      "\n",
      "Possibly complete quasi-separation: A fraction 0.97 of observations can be\n",
      "perfectly predicted. This might indicate that there is complete\n",
      "quasi-separation. In this case some parameters will not be identified.\n"
     ]
    }
   ],
   "source": [
    "print(df_bookingdetailsmodel.summary())"
   ]
  },
  {
   "cell_type": "code",
   "execution_count": 22,
   "metadata": {},
   "outputs": [
    {
     "name": "stdout",
     "output_type": "stream",
     "text": [
      "                 Generalized Linear Model Regression Results                  \n",
      "==============================================================================\n",
      "Dep. Variable:               bciindex   No. Observations:                   40\n",
      "Model:                            GLM   Df Residuals:                       31\n",
      "Model Family:                Binomial   Df Model:                            8\n",
      "Link Function:                  Logit   Scale:                          1.0000\n",
      "Method:                          IRLS   Log-Likelihood:            -2.5286e-11\n",
      "Date:                Thu, 10 Jul 2025   Deviance:                   5.0568e-11\n",
      "Time:                        11:48:43   Pearson chi2:                 2.53e-11\n",
      "No. Iterations:                    28   Pseudo R-squ. (CS):             0.7494\n",
      "Covariance Type:            nonrobust                                         \n",
      "===================================================================================================\n",
      "                                      coef    std err          z      P>|z|      [0.025      0.975]\n",
      "---------------------------------------------------------------------------------------------------\n",
      "Intercept                          25.6100   2.21e+05      0.000      1.000   -4.33e+05    4.33e+05\n",
      "C(Special_Occasions)[T.None]      -53.7415   4.98e+05     -0.000      1.000   -9.75e+05    9.75e+05\n",
      "C(Special_Occasions)[T.Wedding]   -52.1803   4.11e+05     -0.000      1.000   -8.06e+05    8.06e+05\n",
      "C(Booking_Lead_Time)[T.MEDIUM]     -0.5917   5.76e+05  -1.03e-06      1.000   -1.13e+06    1.13e+06\n",
      "C(Booking_Lead_Time)[T.HIGH]       -2.8455   9.11e+05  -3.12e-06      1.000   -1.79e+06    1.79e+06\n",
      "C(Needs_Match)[T.Low]              -1.1733   1.23e+06  -9.57e-07      1.000    -2.4e+06     2.4e+06\n",
      "C(Needs_Match)[T.Medium]          -51.7273   3.58e+05     -0.000      1.000   -7.01e+05    7.01e+05\n",
      "C(Add_Ons)[T.MEDIUM]              -54.1980      1e+06   -5.4e-05      1.000   -1.97e+06    1.97e+06\n",
      "C(Add_Ons)[T.HIGH]                104.8732   5.63e+05      0.000      1.000    -1.1e+06     1.1e+06\n",
      "===================================================================================================\n"
     ]
    },
    {
     "name": "stderr",
     "output_type": "stream",
     "text": [
      "c:\\Users\\mukulkathuria\\Documents\\mlprac\\driveai\\bciindexanalysis\\bcienv\\Lib\\site-packages\\statsmodels\\genmod\\generalized_linear_model.py:1342: PerfectSeparationWarning:\n",
      "\n",
      "Perfect separation or prediction detected, parameter may not be identified\n",
      "\n",
      "c:\\Users\\mukulkathuria\\Documents\\mlprac\\driveai\\bciindexanalysis\\bcienv\\Lib\\site-packages\\statsmodels\\genmod\\generalized_linear_model.py:1342: PerfectSeparationWarning:\n",
      "\n",
      "Perfect separation or prediction detected, parameter may not be identified\n",
      "\n",
      "c:\\Users\\mukulkathuria\\Documents\\mlprac\\driveai\\bciindexanalysis\\bcienv\\Lib\\site-packages\\statsmodels\\genmod\\generalized_linear_model.py:1342: PerfectSeparationWarning:\n",
      "\n",
      "Perfect separation or prediction detected, parameter may not be identified\n",
      "\n",
      "c:\\Users\\mukulkathuria\\Documents\\mlprac\\driveai\\bciindexanalysis\\bcienv\\Lib\\site-packages\\statsmodels\\genmod\\generalized_linear_model.py:1342: PerfectSeparationWarning:\n",
      "\n",
      "Perfect separation or prediction detected, parameter may not be identified\n",
      "\n",
      "c:\\Users\\mukulkathuria\\Documents\\mlprac\\driveai\\bciindexanalysis\\bcienv\\Lib\\site-packages\\statsmodels\\genmod\\generalized_linear_model.py:1342: PerfectSeparationWarning:\n",
      "\n",
      "Perfect separation or prediction detected, parameter may not be identified\n",
      "\n",
      "c:\\Users\\mukulkathuria\\Documents\\mlprac\\driveai\\bciindexanalysis\\bcienv\\Lib\\site-packages\\statsmodels\\genmod\\generalized_linear_model.py:1342: PerfectSeparationWarning:\n",
      "\n",
      "Perfect separation or prediction detected, parameter may not be identified\n",
      "\n",
      "c:\\Users\\mukulkathuria\\Documents\\mlprac\\driveai\\bciindexanalysis\\bcienv\\Lib\\site-packages\\statsmodels\\genmod\\generalized_linear_model.py:1342: PerfectSeparationWarning:\n",
      "\n",
      "Perfect separation or prediction detected, parameter may not be identified\n",
      "\n",
      "c:\\Users\\mukulkathuria\\Documents\\mlprac\\driveai\\bciindexanalysis\\bcienv\\Lib\\site-packages\\statsmodels\\genmod\\generalized_linear_model.py:1342: PerfectSeparationWarning:\n",
      "\n",
      "Perfect separation or prediction detected, parameter may not be identified\n",
      "\n"
     ]
    }
   ],
   "source": [
    "df_bookingdetailsmodelGLM = sm.GLM.from_formula(\n",
    "    df_bookingdetails_formula, df, family=sm.families.Binomial()\n",
    ").fit(attach_wls=True, atol=1e-10)\n",
    "print(df_bookingdetailsmodelGLM.summary())"
   ]
  },
  {
   "cell_type": "code",
   "execution_count": 23,
   "metadata": {},
   "outputs": [
    {
     "name": "stdout",
     "output_type": "stream",
     "text": [
      "[LightGBM] [Warning] No further splits with positive gain, best gain: -inf\n",
      "[LightGBM] [Warning] Stopped training because there are no more leaves that meet the split requirements\n",
      "[52.5, 52.5, 52.5, 52.5, 52.5, 52.5, 52.5, 52.5, 52.5, 52.5, 52.5, 52.5, 52.5, 52.5, 52.5, 52.5, 52.5, 52.5, 52.5, 52.5, 52.5, 52.5, 52.5, 52.5, 52.5, 52.5, 52.5, 52.5, 52.5, 52.5, 52.5, 52.5, 52.5, 52.5, 52.5, 52.5, 52.5, 52.5, 52.5, 52.5]\n"
     ]
    }
   ],
   "source": [
    "import re\n",
    "from lightgbm import Dataset, train\n",
    "df_bookinglightbm = X[re.findall(r'C\\((.*?)\\)', df_bookingdetails_formula)]\n",
    "convert_dict = {\n",
    "    \"Special_Occasions\": \"category\",\n",
    "    \"Booking_Lead_Time\": \"category\",\n",
    "    \"Needs_Match\": \"category\",\n",
    "    \"Add_Ons\": \"category\",\n",
    "}\n",
    "df_bookinglightbm = df_bookinglightbm.astype(convert_dict)\n",
    "scale_pos_weight = len(y[y == 0]) / len(y[y == 1])\n",
    "params_lgbm = {\n",
    "    \"objective\": \"binary\",\n",
    "    \"metric\": \"auc\",\n",
    "    \"scale_pos_weight\": scale_pos_weight,\n",
    "    \"learning_rate\": 0.01,\n",
    "    \"subsample\": 0.9,\n",
    "    \"feature_fraction\": 0.9,\n",
    "    \"num_boost_round\": 1,\n",
    "    \"random_state\": 42,\n",
    "    \"verbosity\":0,\n",
    "    \"max_cat_threshold\": 3\n",
    "}\n",
    "lgbmtraindataset = Dataset(df_bookinglightbm, label=y)\n",
    "lgbmtestdataset = Dataset(df_bookinglightbm, label=y)\n",
    "# lgbmevals = [lgbmtraindataset, lgbmtestdataset]\n",
    "lgbmmodel = train(\n",
    "    params=params_lgbm,\n",
    "    train_set=lgbmtraindataset,\n",
    "    # num_boost_round=500,\n",
    "    # valid_sets=lgbmevals,\n",
    "    # valid_names=[\"train\", \"valid\"]\n",
    ")\n",
    "y_probs = lgbmmodel.predict(df_bookinglightbm)\n",
    "probs = [float(value) * 100 for value in y_probs]\n",
    "print(probs)\n"
   ]
  },
  {
   "cell_type": "code",
   "execution_count": 24,
   "metadata": {},
   "outputs": [
    {
     "name": "stdout",
     "output_type": "stream",
     "text": [
      "                           Logit Regression Results                           \n",
      "==============================================================================\n",
      "Dep. Variable:               bciindex   No. Observations:                   40\n",
      "Model:                          Logit   Df Residuals:                       37\n",
      "Method:                           MLE   Df Model:                            2\n",
      "Date:                Thu, 10 Jul 2025   Pseudo R-squ.:                  0.2957\n",
      "Time:                        11:48:43   Log-Likelihood:                -19.493\n",
      "converged:                       True   LL-Null:                       -27.676\n",
      "Covariance Type:            nonrobust   LLR p-value:                 0.0002793\n",
      "======================================================================================================\n",
      "                                         coef    std err          z      P>|z|      [0.025      0.975]\n",
      "------------------------------------------------------------------------------------------------------\n",
      "Intercept                            -16.9671   4834.546     -0.004      0.997   -9492.504    9458.570\n",
      "C(Stock_Status)[T.Unavailable]       -12.5436    365.343     -0.034      0.973    -728.603     703.516\n",
      "C(Delivery_Date_Status)[T.On-Time]    17.7091   4834.546      0.004      0.997   -9457.828    9493.246\n",
      "======================================================================================================\n",
      "\n",
      "Possibly complete quasi-separation: A fraction 0.23 of observations can be\n",
      "perfectly predicted. This might indicate that there is complete\n",
      "quasi-separation. In this case some parameters will not be identified.\n"
     ]
    }
   ],
   "source": [
    "print(df_deliverydetailsmodel.summary())"
   ]
  },
  {
   "cell_type": "code",
   "execution_count": 25,
   "metadata": {},
   "outputs": [
    {
     "name": "stdout",
     "output_type": "stream",
     "text": [
      "                           Logit Regression Results                           \n",
      "==============================================================================\n",
      "Dep. Variable:               bciindex   No. Observations:                   40\n",
      "Model:                          Logit   Df Residuals:                       29\n",
      "Method:                           MLE   Df Model:                           10\n",
      "Date:                Thu, 10 Jul 2025   Pseudo R-squ.:                  0.6092\n",
      "Time:                        11:48:43   Log-Likelihood:                -10.814\n",
      "converged:                      False   LL-Null:                       -27.676\n",
      "Covariance Type:            nonrobust   LLR p-value:                 0.0002057\n",
      "============================================================================================================\n",
      "                                               coef    std err          z      P>|z|      [0.025      0.975]\n",
      "------------------------------------------------------------------------------------------------------------\n",
      "Intercept                                   -7.6205   1.32e+04     -0.001      1.000   -2.59e+04    2.59e+04\n",
      "C(Competitive_Factors)[T.Low]                5.9923    907.689      0.007      0.995   -1773.046    1785.031\n",
      "C(Competitive_Factors)[T.Medium]            -9.1548   1213.973     -0.008      0.994   -2388.498    2370.189\n",
      "C(External_Factors)[T.Low]                  -1.7404    826.995     -0.002      0.998   -1622.620    1619.139\n",
      "C(External_Factors)[T.Medium]                0.4409    144.595      0.003      0.998    -282.960     283.842\n",
      "C(Customer_Satisfaction_Score)[T.MEDIUM]    -4.5613    889.638     -0.005      0.996   -1748.221    1739.098\n",
      "C(Customer_Satisfaction_Score)[T.HIGH]       2.0080    825.187      0.002      0.998   -1615.329    1619.345\n",
      "C(Dealership_Engagement)[T.Low]             -1.2997   1.31e+04  -9.93e-05      1.000   -2.57e+04    2.57e+04\n",
      "C(Dealership_Engagement)[T.Medium]           4.3514    801.991      0.005      0.996   -1567.523    1576.226\n",
      "C(Companion_Feedback)[T.Neutral]           -10.0474   1.31e+04     -0.001      0.999   -2.57e+04    2.57e+04\n",
      "C(Companion_Feedback)[T.Positive]            2.9731   1.31e+04      0.000      1.000   -2.57e+04    2.57e+04\n",
      "============================================================================================================\n",
      "\n",
      "Possibly complete quasi-separation: A fraction 0.30 of observations can be\n",
      "perfectly predicted. This might indicate that there is complete\n",
      "quasi-separation. In this case some parameters will not be identified.\n"
     ]
    }
   ],
   "source": [
    "print(df_customerexperiencemodel.summary())"
   ]
  },
  {
   "cell_type": "code",
   "execution_count": 26,
   "metadata": {},
   "outputs": [],
   "source": [
    "import re\n",
    "df_Customerprofile = X[re.findall(r'C\\((.*?)\\)', df_customer_formula)]\n",
    "df_Finance = X[re.findall(r'C\\((.*?)\\)', df_finances_formula)]\n",
    "df_Bookingdetails = X[re.findall(r'C\\((.*?)\\)', df_bookingdetails_formula)]\n",
    "df_deliveryDetails = X[re.findall(r'C\\((.*?)\\)', df_deliverydetails_formula)]\n",
    "df_customerexperience = X[re.findall(r'C\\((.*?)\\)', df_customerexperience_formula)]"
   ]
  },
  {
   "cell_type": "code",
   "execution_count": 27,
   "metadata": {},
   "outputs": [
    {
     "name": "stdout",
     "output_type": "stream",
     "text": [
      "Preparation of a new explainer is initiated\n",
      "\n",
      "  -> data              : 40 rows 6 cols\n",
      "  -> target variable   : Parameter 'y' was a pandas.Series. Converted to a numpy.ndarray.\n",
      "  -> target variable   : 40 values\n",
      "  -> model_class       : statsmodels.discrete.discrete_model.BinaryResultsWrapper (default)\n",
      "  -> label             : Not specified, model's class short name will be used. (default)\n",
      "  -> predict function  : <function yhat_default at 0x00000125C005C2C0> will be used (default)\n",
      "  -> predict function  : Accepts only pandas.DataFrame, numpy.ndarray causes problems.\n",
      "  -> predicted values  : min = 2.86e-15, mean = 0.525, max = 1.0\n",
      "  -> model type        : regression will be used (default)\n",
      "  -> residual function : difference between y and yhat (default)\n",
      "  -> residuals         : min = -0.511, mean = -0.000265, max = 0.489\n",
      "  -> model_info        : package statsmodels\n",
      "\n",
      "A new explainer has been created!\n",
      "Preparation of a new explainer is initiated\n",
      "\n",
      "  -> data              : 40 rows 4 cols\n",
      "  -> target variable   : Parameter 'y' was a pandas.Series. Converted to a numpy.ndarray.\n",
      "  -> target variable   : 40 values\n",
      "  -> model_class       : statsmodels.discrete.discrete_model.BinaryResultsWrapper (default)\n",
      "  -> label             : Not specified, model's class short name will be used. (default)\n",
      "  -> predict function  : <function yhat_default at 0x00000125C005C2C0> will be used (default)\n",
      "  -> predict function  : Accepts only pandas.DataFrame, numpy.ndarray causes problems.\n",
      "  -> predicted values  : min = 3.17e-10, mean = 0.525, max = 0.833\n",
      "  -> model type        : regression will be used (default)\n",
      "  -> residual function : difference between y and yhat (default)\n",
      "  -> residuals         : min = -0.833, mean = 4.92e-06, max = 0.313\n",
      "  -> model_info        : package statsmodels\n",
      "\n",
      "A new explainer has been created!\n",
      "Preparation of a new explainer is initiated\n",
      "\n",
      "  -> data              : 40 rows 4 cols\n",
      "  -> target variable   : Parameter 'y' was a pandas.Series. Converted to a numpy.ndarray.\n",
      "  -> target variable   : 40 values\n",
      "  -> model_class       : statsmodels.discrete.discrete_model.BinaryResultsWrapper (default)\n",
      "  -> label             : Not specified, model's class short name will be used. (default)\n",
      "  -> predict function  : <function yhat_default at 0x00000125C005C2C0> will be used (default)\n",
      "  -> predict function  : Accepts only pandas.DataFrame, numpy.ndarray causes problems.\n",
      "  -> predicted values  : min = 1.59e-21, mean = 0.525, max = 1.0\n",
      "  -> model type        : regression will be used (default)\n",
      "  -> residual function : difference between y and yhat (default)\n",
      "  -> residuals         : min = -9.95e-05, mean = 2.06e-06, max = 0.000182\n",
      "  -> model_info        : package statsmodels\n",
      "\n",
      "A new explainer has been created!\n",
      "Preparation of a new explainer is initiated\n",
      "\n",
      "  -> data              : 40 rows 2 cols\n",
      "  -> target variable   : Parameter 'y' was a pandas.Series. Converted to a numpy.ndarray.\n",
      "  -> target variable   : 40 values\n",
      "  -> model_class       : statsmodels.discrete.discrete_model.BinaryResultsWrapper (default)\n",
      "  -> label             : Not specified, model's class short name will be used. (default)\n",
      "  -> predict function  : <function yhat_default at 0x00000125C005C2C0> will be used (default)\n",
      "  -> predict function  : Accepts only pandas.DataFrame, numpy.ndarray causes problems.\n",
      "  -> predicted values  : min = 1.53e-13, mean = 0.525, max = 0.677\n",
      "  -> model type        : regression will be used (default)\n",
      "  -> residual function : difference between y and yhat (default)\n",
      "  -> residuals         : min = -0.677, mean = -7.49e-06, max = 0.323\n",
      "  -> model_info        : package statsmodels\n",
      "\n",
      "A new explainer has been created!\n",
      "Preparation of a new explainer is initiated\n",
      "\n",
      "  -> data              : 40 rows 5 cols\n",
      "  -> target variable   : Parameter 'y' was a pandas.Series. Converted to a numpy.ndarray.\n",
      "  -> target variable   : 40 values\n",
      "  -> model_class       : statsmodels.discrete.discrete_model.BinaryResultsWrapper (default)\n",
      "  -> label             : Not specified, model's class short name will be used. (default)\n",
      "  -> predict function  : <function yhat_default at 0x00000125C005C2C0> will be used (default)\n",
      "  -> predict function  : Accepts only pandas.DataFrame, numpy.ndarray causes problems.\n",
      "  -> predicted values  : min = 3.94e-13, mean = 0.525, max = 1.0\n",
      "  -> model type        : regression will be used (default)\n",
      "  -> residual function : difference between y and yhat (default)\n",
      "  -> residuals         : min = -0.834, mean = -0.000268, max = 0.166\n",
      "  -> model_info        : package statsmodels\n",
      "\n",
      "A new explainer has been created!\n"
     ]
    },
    {
     "name": "stderr",
     "output_type": "stream",
     "text": [
      "c:\\Users\\mukulkathuria\\Documents\\mlprac\\driveai\\bciindexanalysis\\bcienv\\Lib\\site-packages\\dalex\\_explainer\\object.py:138: UserWarning:\n",
      "\n",
      "\n",
      "  -> predicted values  : 'predict_function' must return numpy.ndarray (1d)\n",
      "\n",
      "c:\\Users\\mukulkathuria\\Documents\\mlprac\\driveai\\bciindexanalysis\\bcienv\\Lib\\site-packages\\dalex\\_explainer\\object.py:138: UserWarning:\n",
      "\n",
      "\n",
      "  -> predicted values  : 'predict_function' must return numpy.ndarray (1d)\n",
      "\n",
      "c:\\Users\\mukulkathuria\\Documents\\mlprac\\driveai\\bciindexanalysis\\bcienv\\Lib\\site-packages\\dalex\\_explainer\\object.py:138: UserWarning:\n",
      "\n",
      "\n",
      "  -> predicted values  : 'predict_function' must return numpy.ndarray (1d)\n",
      "\n",
      "c:\\Users\\mukulkathuria\\Documents\\mlprac\\driveai\\bciindexanalysis\\bcienv\\Lib\\site-packages\\dalex\\_explainer\\object.py:138: UserWarning:\n",
      "\n",
      "\n",
      "  -> predicted values  : 'predict_function' must return numpy.ndarray (1d)\n",
      "\n",
      "c:\\Users\\mukulkathuria\\Documents\\mlprac\\driveai\\bciindexanalysis\\bcienv\\Lib\\site-packages\\dalex\\_explainer\\object.py:138: UserWarning:\n",
      "\n",
      "\n",
      "  -> predicted values  : 'predict_function' must return numpy.ndarray (1d)\n",
      "\n"
     ]
    }
   ],
   "source": [
    "exp1 = dx.Explainer(df_customermodel, df_Customerprofile, y)\n",
    "exp2 = dx.Explainer(df_financesmodel, df_Finance, y)\n",
    "exp3 = dx.Explainer(df_bookingdetailsmodel, df_Bookingdetails, y)\n",
    "exp4 = dx.Explainer(df_deliverydetailsmodel, df_deliveryDetails, y)\n",
    "exp5 = dx.Explainer(df_customerexperiencemodel, df_customerexperience, y)"
   ]
  },
  {
   "cell_type": "code",
   "execution_count": 28,
   "metadata": {},
   "outputs": [
    {
     "data": {
      "application/vnd.plotly.v1+json": {
       "config": {
        "displaylogo": false,
        "modeBarButtonsToRemove": [
         "sendDataToCloud",
         "lasso2d",
         "autoScale2d",
         "select2d",
         "zoom2d",
         "pan2d",
         "zoomIn2d",
         "zoomOut2d",
         "resetScale2d",
         "toggleSpikelines",
         "hoverCompareCartesian",
         "hoverClosestCartesian"
        ],
        "plotlyServerURL": "https://plot.ly",
        "staticPlot": false,
        "toImageButtonOptions": {
         "height": null,
         "width": null
        }
       },
       "data": [
        {
         "base": 0.5252650071399532,
         "connector": {
          "line": {
           "color": "#371ea3",
           "dash": "solid",
           "width": 1
          },
          "mode": "spanning"
         },
         "decreasing": {
          "marker": {
           "color": "#f05a71"
          }
         },
         "hoverinfo": "text+delta",
         "hoverlabel": {
          "bgcolor": "rgba(0,0,0,0.8)"
         },
         "hovertext": [
          "Average response: 0.525<br>Prediction: 0.0",
          "First_Time_Buyer = Yes<br>increases average response by",
          "Lead_Source = Walk-in<br>increases average response by",
          "OEM_Loyalty_Program = No<br>increases average response by",
          "Gender = Male<br>increases average response by",
          "Income = LOW<br>decreases average response by",
          "Age = KID<br>decreases average response by",
          "Average response: 0.525<br>Prediction: 0.0"
         ],
         "increasing": {
          "marker": {
           "color": "#8bdcbe"
          }
         },
         "measure": [
          "relative",
          "relative",
          "relative",
          "relative",
          "relative",
          "relative",
          "relative",
          "total"
         ],
         "orientation": "h",
         "showlegend": false,
         "text": [
          "0.525",
          "+0.095",
          "+0.023",
          "+0.004",
          "+0.001",
          "-0.062",
          "-0.587",
          "0.0"
         ],
         "textposition": "outside",
         "totals": {
          "marker": {
           "color": "#371ea3"
          }
         },
         "type": "waterfall",
         "x": [
          0,
          0.095,
          0.023,
          0.004,
          0.001,
          -0.062,
          -0.587,
          -0.525
         ],
         "xaxis": "x",
         "y": [
          "intercept",
          "First_Time_Buyer = Yes",
          "Lead_Source = Walk-in",
          "OEM_Loyalty_Program = No",
          "Gender = Male",
          "Income = LOW",
          "Age = KID",
          "prediction"
         ],
         "yaxis": "y"
        }
       ],
       "layout": {
        "annotations": [
         {
          "font": {
           "size": 16
          },
          "showarrow": false,
          "text": "Customer Profile",
          "x": 0.5,
          "xanchor": "center",
          "xref": "paper",
          "y": 1,
          "yanchor": "bottom",
          "yref": "paper"
         },
         {
          "font": {
           "size": 16
          },
          "showarrow": false,
          "text": "contribution",
          "x": 0.5,
          "xanchor": "center",
          "xref": "paper",
          "y": 0,
          "yanchor": "top",
          "yref": "paper",
          "yshift": -30
         }
        ],
        "font": {
         "color": "#371ea3"
        },
        "height": 313,
        "margin": {
         "b": 71,
         "r": 30,
         "t": 78
        },
        "shapes": [
         {
          "line": {
           "color": "#371ea3",
           "dash": "dot",
           "width": 1.5
          },
          "type": "line",
          "x0": 0.5252650071399532,
          "x1": 0.5252650071399532,
          "xref": "x",
          "y0": -1,
          "y1": 8,
          "yref": "y"
         }
        ],
        "template": {
         "data": {
          "scatter": [
           {
            "type": "scatter"
           }
          ]
         }
        },
        "title": {
         "text": "Ramesh Choudhary",
         "x": 0.15
        },
        "xaxis": {
         "anchor": "y",
         "automargin": true,
         "domain": [
          0,
          1
         ],
         "fixedrange": true,
         "gridwidth": 2,
         "range": [
          -0.0972,
          0.7452
         ],
         "tickcolor": "white",
         "ticklen": 3,
         "ticks": "outside",
         "type": "linear",
         "zeroline": false
        },
        "yaxis": {
         "anchor": "x",
         "automargin": true,
         "autorange": "reversed",
         "domain": [
          0,
          1
         ],
         "fixedrange": true,
         "gridwidth": 2,
         "tickcolor": "white",
         "ticklen": 10,
         "ticks": "outside",
         "type": "category"
        }
       }
      }
     },
     "metadata": {},
     "output_type": "display_data"
    },
    {
     "data": {
      "application/vnd.plotly.v1+json": {
       "config": {
        "displaylogo": false,
        "modeBarButtonsToRemove": [
         "sendDataToCloud",
         "lasso2d",
         "autoScale2d",
         "select2d",
         "zoom2d",
         "pan2d",
         "zoomIn2d",
         "zoomOut2d",
         "resetScale2d",
         "toggleSpikelines",
         "hoverCompareCartesian",
         "hoverClosestCartesian"
        ],
        "plotlyServerURL": "https://plot.ly",
        "staticPlot": false,
        "toImageButtonOptions": {
         "height": null,
         "width": null
        }
       },
       "data": [
        {
         "base": 0.5249950815333578,
         "connector": {
          "line": {
           "color": "#371ea3",
           "dash": "solid",
           "width": 1
          },
          "mode": "spanning"
         },
         "decreasing": {
          "marker": {
           "color": "#f05a71"
          }
         },
         "hoverinfo": "text+delta",
         "hoverlabel": {
          "bgcolor": "rgba(0,0,0,0.8)"
         },
         "hovertext": [
          "Average response: 0.525<br>Prediction: 0.0",
          "Finances_Status = Undecided<br>decreases average response by",
          "CIBIL_Score = LOW<br>decreases average response by",
          "Undecided_Finances = Yes<br>decreases average response by",
          "Down_Payment = LOW<br>decreases average response by",
          "Average response: 0.525<br>Prediction: 0.0"
         ],
         "increasing": {
          "marker": {
           "color": "#8bdcbe"
          }
         },
         "measure": [
          "relative",
          "relative",
          "relative",
          "relative",
          "relative",
          "total"
         ],
         "orientation": "h",
         "showlegend": false,
         "text": [
          "0.525",
          "-0.224",
          "-0.242",
          "-0.059",
          "-0.0",
          "0.0"
         ],
         "textposition": "outside",
         "totals": {
          "marker": {
           "color": "#371ea3"
          }
         },
         "type": "waterfall",
         "x": [
          0,
          -0.224,
          -0.242,
          -0.059,
          0,
          -0.525
         ],
         "xaxis": "x",
         "y": [
          "intercept",
          "Finances_Status = Undecided",
          "CIBIL_Score = LOW",
          "Undecided_Finances = Yes",
          "Down_Payment = LOW",
          "prediction"
         ],
         "yaxis": "y"
        }
       ],
       "layout": {
        "annotations": [
         {
          "font": {
           "size": 16
          },
          "showarrow": false,
          "text": "Finances",
          "x": 0.5,
          "xanchor": "center",
          "xref": "paper",
          "y": 1,
          "yanchor": "bottom",
          "yref": "paper"
         },
         {
          "font": {
           "size": 16
          },
          "showarrow": false,
          "text": "contribution",
          "x": 0.5,
          "xanchor": "center",
          "xref": "paper",
          "y": 0,
          "yanchor": "top",
          "yref": "paper",
          "yshift": -30
         }
        ],
        "font": {
         "color": "#371ea3"
        },
        "height": 273,
        "margin": {
         "b": 71,
         "r": 30,
         "t": 78
        },
        "shapes": [
         {
          "line": {
           "color": "#371ea3",
           "dash": "dot",
           "width": 1.5
          },
          "type": "line",
          "x0": 0.5249950815333578,
          "x1": 0.5249950815333578,
          "xref": "x",
          "y0": -1,
          "y1": 6,
          "yref": "y"
         }
        ],
        "template": {
         "data": {
          "scatter": [
           {
            "type": "scatter"
           }
          ]
         }
        },
        "title": {
         "text": "Ramesh Choudhary",
         "x": 0.15
        },
        "xaxis": {
         "anchor": "y",
         "automargin": true,
         "domain": [
          0,
          1
         ],
         "fixedrange": true,
         "gridwidth": 2,
         "range": [
          -0.07875,
          0.60375
         ],
         "tickcolor": "white",
         "ticklen": 3,
         "ticks": "outside",
         "type": "linear",
         "zeroline": false
        },
        "yaxis": {
         "anchor": "x",
         "automargin": true,
         "autorange": "reversed",
         "domain": [
          0,
          1
         ],
         "fixedrange": true,
         "gridwidth": 2,
         "tickcolor": "white",
         "ticklen": 10,
         "ticks": "outside",
         "type": "category"
        }
       }
      }
     },
     "metadata": {},
     "output_type": "display_data"
    },
    {
     "data": {
      "application/vnd.plotly.v1+json": {
       "config": {
        "displaylogo": false,
        "modeBarButtonsToRemove": [
         "sendDataToCloud",
         "lasso2d",
         "autoScale2d",
         "select2d",
         "zoom2d",
         "pan2d",
         "zoomIn2d",
         "zoomOut2d",
         "resetScale2d",
         "toggleSpikelines",
         "hoverCompareCartesian",
         "hoverClosestCartesian"
        ],
        "plotlyServerURL": "https://plot.ly",
        "staticPlot": false,
        "toImageButtonOptions": {
         "height": null,
         "width": null
        }
       },
       "data": [
        {
         "base": 0.5249979387353534,
         "connector": {
          "line": {
           "color": "#371ea3",
           "dash": "solid",
           "width": 1
          },
          "mode": "spanning"
         },
         "decreasing": {
          "marker": {
           "color": "#f05a71"
          }
         },
         "hoverinfo": "text+delta",
         "hoverlabel": {
          "bgcolor": "rgba(0,0,0,0.8)"
         },
         "hovertext": [
          "Average response: 0.525<br>Prediction: 0.0",
          "Needs_Match = High<br>increases average response by",
          "Booking_Lead_Time = LOW<br>increases average response by",
          "Special_Occasions = None<br>decreases average response by",
          "Add_Ons = LOW<br>decreases average response by",
          "Average response: 0.525<br>Prediction: 0.0"
         ],
         "increasing": {
          "marker": {
           "color": "#8bdcbe"
          }
         },
         "measure": [
          "relative",
          "relative",
          "relative",
          "relative",
          "relative",
          "total"
         ],
         "orientation": "h",
         "showlegend": false,
         "text": [
          "0.525",
          "+0.049",
          "+0.001",
          "-0.075",
          "-0.5",
          "0.0"
         ],
         "textposition": "outside",
         "totals": {
          "marker": {
           "color": "#371ea3"
          }
         },
         "type": "waterfall",
         "x": [
          0,
          0.049,
          0.001,
          -0.075,
          -0.5,
          -0.525
         ],
         "xaxis": "x",
         "y": [
          "intercept",
          "Needs_Match = High",
          "Booking_Lead_Time = LOW",
          "Special_Occasions = None",
          "Add_Ons = LOW",
          "prediction"
         ],
         "yaxis": "y"
        }
       ],
       "layout": {
        "annotations": [
         {
          "font": {
           "size": 16
          },
          "showarrow": false,
          "text": "Booking Details",
          "x": 0.5,
          "xanchor": "center",
          "xref": "paper",
          "y": 1,
          "yanchor": "bottom",
          "yref": "paper"
         },
         {
          "font": {
           "size": 16
          },
          "showarrow": false,
          "text": "contribution",
          "x": 0.5,
          "xanchor": "center",
          "xref": "paper",
          "y": 0,
          "yanchor": "top",
          "yref": "paper",
          "yshift": -30
         }
        ],
        "font": {
         "color": "#371ea3"
        },
        "height": 273,
        "margin": {
         "b": 71,
         "r": 30,
         "t": 78
        },
        "shapes": [
         {
          "line": {
           "color": "#371ea3",
           "dash": "dot",
           "width": 1.5
          },
          "type": "line",
          "x0": 0.5249979387353534,
          "x1": 0.5249979387353534,
          "xref": "x",
          "y0": -1,
          "y1": 6,
          "yref": "y"
         }
        ],
        "template": {
         "data": {
          "scatter": [
           {
            "type": "scatter"
           }
          ]
         }
        },
        "title": {
         "text": "Ramesh Choudhary",
         "x": 0.15
        },
        "xaxis": {
         "anchor": "y",
         "automargin": true,
         "domain": [
          0,
          1
         ],
         "fixedrange": true,
         "gridwidth": 2,
         "range": [
          -0.08625,
          0.6612499999999999
         ],
         "tickcolor": "white",
         "ticklen": 3,
         "ticks": "outside",
         "type": "linear",
         "zeroline": false
        },
        "yaxis": {
         "anchor": "x",
         "automargin": true,
         "autorange": "reversed",
         "domain": [
          0,
          1
         ],
         "fixedrange": true,
         "gridwidth": 2,
         "tickcolor": "white",
         "ticklen": 10,
         "ticks": "outside",
         "type": "category"
        }
       }
      }
     },
     "metadata": {},
     "output_type": "display_data"
    },
    {
     "data": {
      "application/vnd.plotly.v1+json": {
       "config": {
        "displaylogo": false,
        "modeBarButtonsToRemove": [
         "sendDataToCloud",
         "lasso2d",
         "autoScale2d",
         "select2d",
         "zoom2d",
         "pan2d",
         "zoomIn2d",
         "zoomOut2d",
         "resetScale2d",
         "toggleSpikelines",
         "hoverCompareCartesian",
         "hoverClosestCartesian"
        ],
        "plotlyServerURL": "https://plot.ly",
        "staticPlot": false,
        "toImageButtonOptions": {
         "height": null,
         "width": null
        }
       },
       "data": [
        {
         "base": 0.5250074939243858,
         "connector": {
          "line": {
           "color": "#371ea3",
           "dash": "solid",
           "width": 1
          },
          "mode": "spanning"
         },
         "decreasing": {
          "marker": {
           "color": "#f05a71"
          }
         },
         "hoverinfo": "text+delta",
         "hoverlabel": {
          "bgcolor": "rgba(0,0,0,0.8)"
         },
         "hovertext": [
          "Average response: 0.525<br>Prediction: 0.677",
          "Delivery_Date_Status = On-Time<br>increases average response by",
          "Stock_Status = Available<br>increases average response by",
          "Average response: 0.525<br>Prediction: 0.677"
         ],
         "increasing": {
          "marker": {
           "color": "#8bdcbe"
          }
         },
         "measure": [
          "relative",
          "relative",
          "relative",
          "total"
         ],
         "orientation": "h",
         "showlegend": false,
         "text": [
          "0.525",
          "+0.017",
          "+0.135",
          "0.677"
         ],
         "textposition": "outside",
         "totals": {
          "marker": {
           "color": "#371ea3"
          }
         },
         "type": "waterfall",
         "x": [
          0,
          0.017,
          0.135,
          0.152
         ],
         "xaxis": "x",
         "y": [
          "intercept",
          "Delivery_Date_Status = On-Time",
          "Stock_Status = Available",
          "prediction"
         ],
         "yaxis": "y"
        }
       ],
       "layout": {
        "annotations": [
         {
          "font": {
           "size": 16
          },
          "showarrow": false,
          "text": "Delivery Details",
          "x": 0.5,
          "xanchor": "center",
          "xref": "paper",
          "y": 1,
          "yanchor": "bottom",
          "yref": "paper"
         },
         {
          "font": {
           "size": 16
          },
          "showarrow": false,
          "text": "contribution",
          "x": 0.5,
          "xanchor": "center",
          "xref": "paper",
          "y": 0,
          "yanchor": "top",
          "yref": "paper",
          "yshift": -30
         }
        ],
        "font": {
         "color": "#371ea3"
        },
        "height": 233,
        "margin": {
         "b": 71,
         "r": 30,
         "t": 78
        },
        "shapes": [
         {
          "line": {
           "color": "#371ea3",
           "dash": "dot",
           "width": 1.5
          },
          "type": "line",
          "x0": 0.5250074939243858,
          "x1": 0.5250074939243858,
          "xref": "x",
          "y0": -1,
          "y1": 4,
          "yref": "y"
         }
        ],
        "template": {
         "data": {
          "scatter": [
           {
            "type": "scatter"
           }
          ]
         }
        },
        "title": {
         "text": "Ramesh Choudhary",
         "x": 0.15
        },
        "xaxis": {
         "anchor": "y",
         "automargin": true,
         "domain": [
          0,
          1
         ],
         "fixedrange": true,
         "gridwidth": 2,
         "range": [
          0.5022,
          0.6998000000000001
         ],
         "tickcolor": "white",
         "ticklen": 3,
         "ticks": "outside",
         "type": "linear",
         "zeroline": false
        },
        "yaxis": {
         "anchor": "x",
         "automargin": true,
         "autorange": "reversed",
         "domain": [
          0,
          1
         ],
         "fixedrange": true,
         "gridwidth": 2,
         "tickcolor": "white",
         "ticklen": 10,
         "ticks": "outside",
         "type": "category"
        }
       }
      }
     },
     "metadata": {},
     "output_type": "display_data"
    },
    {
     "data": {
      "application/vnd.plotly.v1+json": {
       "config": {
        "displaylogo": false,
        "modeBarButtonsToRemove": [
         "sendDataToCloud",
         "lasso2d",
         "autoScale2d",
         "select2d",
         "zoom2d",
         "pan2d",
         "zoomIn2d",
         "zoomOut2d",
         "resetScale2d",
         "toggleSpikelines",
         "hoverCompareCartesian",
         "hoverClosestCartesian"
        ],
        "plotlyServerURL": "https://plot.ly",
        "staticPlot": false,
        "toImageButtonOptions": {
         "height": null,
         "width": null
        }
       },
       "data": [
        {
         "base": 0.5252677019758729,
         "connector": {
          "line": {
           "color": "#371ea3",
           "dash": "solid",
           "width": 1
          },
          "mode": "spanning"
         },
         "decreasing": {
          "marker": {
           "color": "#f05a71"
          }
         },
         "hoverinfo": "text+delta",
         "hoverlabel": {
          "bgcolor": "rgba(0,0,0,0.8)"
         },
         "hovertext": [
          "Average response: 0.525<br>Prediction: 0.0",
          "Dealership_Engagement = Medium<br>increases average response by",
          "Companion_Feedback = Positive<br>increases average response by",
          "Customer_Satisfaction_Score = HIGH<br>increases average response by",
          "External_Factors = Low<br>decreases average response by",
          "Competitive_Factors = Medium<br>decreases average response by",
          "Average response: 0.525<br>Prediction: 0.0"
         ],
         "increasing": {
          "marker": {
           "color": "#8bdcbe"
          }
         },
         "measure": [
          "relative",
          "relative",
          "relative",
          "relative",
          "relative",
          "relative",
          "total"
         ],
         "orientation": "h",
         "showlegend": false,
         "text": [
          "0.525",
          "+0.099",
          "+0.061",
          "+0.075",
          "-0.037",
          "-0.722",
          "0.0"
         ],
         "textposition": "outside",
         "totals": {
          "marker": {
           "color": "#371ea3"
          }
         },
         "type": "waterfall",
         "x": [
          0,
          0.099,
          0.061,
          0.075,
          -0.037,
          -0.722,
          -0.525
         ],
         "xaxis": "x",
         "y": [
          "intercept",
          "Dealership_Engagement = Medium",
          "Companion_Feedback = Positive",
          "Customer_Satisfaction_Score = HIGH",
          "External_Factors = Low",
          "Competitive_Factors = Medium",
          "prediction"
         ],
         "yaxis": "y"
        }
       ],
       "layout": {
        "annotations": [
         {
          "font": {
           "size": 16
          },
          "showarrow": false,
          "text": "Additional Customer Details",
          "x": 0.5,
          "xanchor": "center",
          "xref": "paper",
          "y": 1,
          "yanchor": "bottom",
          "yref": "paper"
         },
         {
          "font": {
           "size": 16
          },
          "showarrow": false,
          "text": "contribution",
          "x": 0.5,
          "xanchor": "center",
          "xref": "paper",
          "y": 0,
          "yanchor": "top",
          "yref": "paper",
          "yshift": -30
         }
        ],
        "font": {
         "color": "#371ea3"
        },
        "height": 293,
        "margin": {
         "b": 71,
         "r": 30,
         "t": 78
        },
        "shapes": [
         {
          "line": {
           "color": "#371ea3",
           "dash": "dot",
           "width": 1.5
          },
          "type": "line",
          "x0": 0.5252677019758729,
          "x1": 0.5252677019758729,
          "xref": "x",
          "y0": -1,
          "y1": 7,
          "yref": "y"
         }
        ],
        "template": {
         "data": {
          "scatter": [
           {
            "type": "scatter"
           }
          ]
         }
        },
        "title": {
         "text": "Ramesh Choudhary",
         "x": 0.15
        },
        "xaxis": {
         "anchor": "y",
         "automargin": true,
         "domain": [
          0,
          1
         ],
         "fixedrange": true,
         "gridwidth": 2,
         "range": [
          -0.11399999999999999,
          0.874
         ],
         "tickcolor": "white",
         "ticklen": 3,
         "ticks": "outside",
         "type": "linear",
         "zeroline": false
        },
        "yaxis": {
         "anchor": "x",
         "automargin": true,
         "autorange": "reversed",
         "domain": [
          0,
          1
         ],
         "fixedrange": true,
         "gridwidth": 2,
         "tickcolor": "white",
         "ticklen": 10,
         "ticks": "outside",
         "type": "category"
        }
       }
      }
     },
     "metadata": {},
     "output_type": "display_data"
    },
    {
     "data": {
      "image/png": "[encoded data removed]",
      "text/plain": [
       "<Figure size 640x480 with 1 Axes>"
      ]
     },
     "metadata": {},
     "output_type": "display_data"
    },
    {
     "name": "stdout",
     "output_type": "stream",
     "text": [
      "Final Prbability:  13.55\n"
     ]
    }
   ],
   "source": [
    "\n",
    "\n",
    "def getValuesofCustomer(person):\n",
    "    index = np.where(df_index['Customer name'] == person)[0][0]\n",
    "    to_predicted = new_df.iloc[int(index)]\n",
    "\n",
    "    model1values = to_predicted[df_Customerprofile.columns]\n",
    "    breakdown = exp1.predict_parts(to_predicted[df_Customerprofile.columns], type='break_down', label='Customer Profile')\n",
    "    breakdown.plot(title=person)\n",
    "\n",
    "    model2values = to_predicted[df_Finance.columns]\n",
    "    breakdown = exp2.predict_parts(to_predicted[df_Finance.columns], type='break_down', label='Finances')\n",
    "    breakdown.plot(title=person)\n",
    "\n",
    "    model3values = to_predicted[df_Bookingdetails.columns]\n",
    "   \n",
    "    breakdown = exp3.predict_parts(to_predicted[df_Bookingdetails.columns], type='break_down', label='Booking Details')\n",
    "    breakdown.plot(title=person)\n",
    "\n",
    "    model4values = to_predicted[df_deliveryDetails.columns]\n",
    "   \n",
    "    breakdown = exp4.predict_parts(to_predicted[df_deliveryDetails.columns], type='break_down', label='Delivery Details')\n",
    "    breakdown.plot(title=person)\n",
    "\n",
    "    model5values = to_predicted[df_customerexperience.columns]\n",
    "   \n",
    "    breakdown = exp5.predict_parts(to_predicted[df_customerexperience.columns], type='break_down', label='Additional Customer Details')\n",
    "    breakdown.plot(title=person)\n",
    "\n",
    "    model1_predicted = df_customermodel.predict(model1values).to_numpy()[0]\n",
    "    model2_predicted = df_financesmodel.predict(model2values).to_numpy()[0]\n",
    "    model3_predicted = df_bookingdetailsmodel.predict(model3values).to_numpy()[0]\n",
    "    model4_predicted = df_deliverydetailsmodel.predict(model4values).to_numpy()[0]\n",
    "    model5_predicted = df_customerexperiencemodel.predict(model5values).to_numpy()[0]\n",
    "    finalresult  = model1_predicted + model2_predicted + model3_predicted + model4_predicted + model5_predicted\n",
    "    bar_labels = ['Customer Profile', 'Finances', 'Booking Details', 'Delivery Details','Additional Customer Inputs']\n",
    "    bar_values = [model1_predicted,model2_predicted,model3_predicted,model4_predicted,model5_predicted]\n",
    "    plt.bar(bar_labels, bar_values)\n",
    "    plt.title('How its impacted to final output ?')\n",
    "    plt.xlabel('Profiles')\n",
    "    plt.ylabel('Weights')\n",
    "    plt.xticks(fontsize=6)\n",
    "    plt.show()\n",
    "    return round((finalresult * 100) / 5,2)\n",
    "\n",
    "print(\"Final Prbability: \", getValuesofCustomer('Ramesh Choudhary'))"
   ]
  },
  {
   "cell_type": "code",
   "execution_count": 29,
   "metadata": {},
   "outputs": [
    {
     "data": {
      "application/vnd.plotly.v1+json": {
       "config": {
        "displaylogo": false,
        "modeBarButtonsToRemove": [
         "sendDataToCloud",
         "lasso2d",
         "autoScale2d",
         "select2d",
         "zoom2d",
         "pan2d",
         "zoomIn2d",
         "zoomOut2d",
         "resetScale2d",
         "toggleSpikelines",
         "hoverCompareCartesian",
         "hoverClosestCartesian"
        ],
        "plotlyServerURL": "https://plot.ly",
        "staticPlot": false,
        "toImageButtonOptions": {
         "height": null,
         "width": null
        }
       },
       "data": [
        {
         "base": 0.5252650071399532,
         "connector": {
          "line": {
           "color": "#371ea3",
           "dash": "solid",
           "width": 1
          },
          "mode": "spanning"
         },
         "decreasing": {
          "marker": {
           "color": "#f05a71"
          }
         },
         "hoverinfo": "text+delta",
         "hoverlabel": {
          "bgcolor": "rgba(0,0,0,0.8)"
         },
         "hovertext": [
          "Average response: 0.525<br>Prediction: 0.999",
          "Age = YOUNG<br>increases average response by",
          "First_Time_Buyer = Yes<br>increases average response by",
          "Income = HIGH<br>increases average response by",
          "Lead_Source = Walk-in<br>increases average response by",
          "Gender = Male<br>decreases average response by",
          "OEM_Loyalty_Program = Yes<br>decreases average response by",
          "Average response: 0.525<br>Prediction: 0.999"
         ],
         "increasing": {
          "marker": {
           "color": "#8bdcbe"
          }
         },
         "measure": [
          "relative",
          "relative",
          "relative",
          "relative",
          "relative",
          "relative",
          "relative",
          "total"
         ],
         "orientation": "h",
         "showlegend": false,
         "text": [
          "0.525",
          "+0.176",
          "+0.17",
          "+0.125",
          "+0.003",
          "0.0",
          "-0.0",
          "0.999"
         ],
         "textposition": "outside",
         "totals": {
          "marker": {
           "color": "#371ea3"
          }
         },
         "type": "waterfall",
         "x": [
          0,
          0.176,
          0.17,
          0.125,
          0.003,
          0,
          0,
          0.474
         ],
         "xaxis": "x",
         "y": [
          "intercept",
          "Age = YOUNG",
          "First_Time_Buyer = Yes",
          "Income = HIGH",
          "Lead_Source = Walk-in",
          "Gender = Male",
          "OEM_Loyalty_Program = Yes",
          "prediction"
         ],
         "yaxis": "y"
        }
       ],
       "layout": {
        "annotations": [
         {
          "font": {
           "size": 16
          },
          "showarrow": false,
          "text": "Customer Profile",
          "x": 0.5,
          "xanchor": "center",
          "xref": "paper",
          "y": 1,
          "yanchor": "bottom",
          "yref": "paper"
         },
         {
          "font": {
           "size": 16
          },
          "showarrow": false,
          "text": "contribution",
          "x": 0.5,
          "xanchor": "center",
          "xref": "paper",
          "y": 0,
          "yanchor": "top",
          "yref": "paper",
          "yshift": -30
         }
        ],
        "font": {
         "color": "#371ea3"
        },
        "height": 313,
        "margin": {
         "b": 71,
         "r": 30,
         "t": 78
        },
        "shapes": [
         {
          "line": {
           "color": "#371ea3",
           "dash": "dot",
           "width": 1.5
          },
          "type": "line",
          "x0": 0.5252650071399532,
          "x1": 0.5252650071399532,
          "xref": "x",
          "y0": -1,
          "y1": 8,
          "yref": "y"
         }
        ],
        "template": {
         "data": {
          "scatter": [
           {
            "type": "scatter"
           }
          ]
         }
        },
        "title": {
         "text": "Rahul Desai",
         "x": 0.15
        },
        "xaxis": {
         "anchor": "y",
         "automargin": true,
         "domain": [
          0,
          1
         ],
         "fixedrange": true,
         "gridwidth": 2,
         "range": [
          0.4539,
          1.0701
         ],
         "tickcolor": "white",
         "ticklen": 3,
         "ticks": "outside",
         "type": "linear",
         "zeroline": false
        },
        "yaxis": {
         "anchor": "x",
         "automargin": true,
         "autorange": "reversed",
         "domain": [
          0,
          1
         ],
         "fixedrange": true,
         "gridwidth": 2,
         "tickcolor": "white",
         "ticklen": 10,
         "ticks": "outside",
         "type": "category"
        }
       }
      }
     },
     "metadata": {},
     "output_type": "display_data"
    },
    {
     "data": {
      "application/vnd.plotly.v1+json": {
       "config": {
        "displaylogo": false,
        "modeBarButtonsToRemove": [
         "sendDataToCloud",
         "lasso2d",
         "autoScale2d",
         "select2d",
         "zoom2d",
         "pan2d",
         "zoomIn2d",
         "zoomOut2d",
         "resetScale2d",
         "toggleSpikelines",
         "hoverCompareCartesian",
         "hoverClosestCartesian"
        ],
        "plotlyServerURL": "https://plot.ly",
        "staticPlot": false,
        "toImageButtonOptions": {
         "height": null,
         "width": null
        }
       },
       "data": [
        {
         "base": 0.5249950815333578,
         "connector": {
          "line": {
           "color": "#371ea3",
           "dash": "solid",
           "width": 1
          },
          "mode": "spanning"
         },
         "decreasing": {
          "marker": {
           "color": "#f05a71"
          }
         },
         "hoverinfo": "text+delta",
         "hoverlabel": {
          "bgcolor": "rgba(0,0,0,0.8)"
         },
         "hovertext": [
          "Average response: 0.525<br>Prediction: 0.833",
          "Finances_Status = Cash Purchase<br>increases average response by",
          "Down_Payment = HIGH<br>increases average response by",
          "Undecided_Finances = No<br>increases average response by",
          "CIBIL_Score = HIGH<br>increases average response by",
          "Average response: 0.525<br>Prediction: 0.833"
         ],
         "increasing": {
          "marker": {
           "color": "#8bdcbe"
          }
         },
         "measure": [
          "relative",
          "relative",
          "relative",
          "relative",
          "relative",
          "total"
         ],
         "orientation": "h",
         "showlegend": false,
         "text": [
          "0.525",
          "+0.058",
          "+0.051",
          "+0.142",
          "+0.057",
          "0.833"
         ],
         "textposition": "outside",
         "totals": {
          "marker": {
           "color": "#371ea3"
          }
         },
         "type": "waterfall",
         "x": [
          0,
          0.058,
          0.051,
          0.142,
          0.057,
          0.308
         ],
         "xaxis": "x",
         "y": [
          "intercept",
          "Finances_Status = Cash Purchase",
          "Down_Payment = HIGH",
          "Undecided_Finances = No",
          "CIBIL_Score = HIGH",
          "prediction"
         ],
         "yaxis": "y"
        }
       ],
       "layout": {
        "annotations": [
         {
          "font": {
           "size": 16
          },
          "showarrow": false,
          "text": "Finances",
          "x": 0.5,
          "xanchor": "center",
          "xref": "paper",
          "y": 1,
          "yanchor": "bottom",
          "yref": "paper"
         },
         {
          "font": {
           "size": 16
          },
          "showarrow": false,
          "text": "contribution",
          "x": 0.5,
          "xanchor": "center",
          "xref": "paper",
          "y": 0,
          "yanchor": "top",
          "yref": "paper",
          "yshift": -30
         }
        ],
        "font": {
         "color": "#371ea3"
        },
        "height": 273,
        "margin": {
         "b": 71,
         "r": 30,
         "t": 78
        },
        "shapes": [
         {
          "line": {
           "color": "#371ea3",
           "dash": "dot",
           "width": 1.5
          },
          "type": "line",
          "x0": 0.5249950815333578,
          "x1": 0.5249950815333578,
          "xref": "x",
          "y0": -1,
          "y1": 6,
          "yref": "y"
         }
        ],
        "template": {
         "data": {
          "scatter": [
           {
            "type": "scatter"
           }
          ]
         }
        },
        "title": {
         "text": "Rahul Desai",
         "x": 0.15
        },
        "xaxis": {
         "anchor": "y",
         "automargin": true,
         "domain": [
          0,
          1
         ],
         "fixedrange": true,
         "gridwidth": 2,
         "range": [
          0.4788,
          0.8792
         ],
         "tickcolor": "white",
         "ticklen": 3,
         "ticks": "outside",
         "type": "linear",
         "zeroline": false
        },
        "yaxis": {
         "anchor": "x",
         "automargin": true,
         "autorange": "reversed",
         "domain": [
          0,
          1
         ],
         "fixedrange": true,
         "gridwidth": 2,
         "tickcolor": "white",
         "ticklen": 10,
         "ticks": "outside",
         "type": "category"
        }
       }
      }
     },
     "metadata": {},
     "output_type": "display_data"
    },
    {
     "data": {
      "application/vnd.plotly.v1+json": {
       "config": {
        "displaylogo": false,
        "modeBarButtonsToRemove": [
         "sendDataToCloud",
         "lasso2d",
         "autoScale2d",
         "select2d",
         "zoom2d",
         "pan2d",
         "zoomIn2d",
         "zoomOut2d",
         "resetScale2d",
         "toggleSpikelines",
         "hoverCompareCartesian",
         "hoverClosestCartesian"
        ],
        "plotlyServerURL": "https://plot.ly",
        "staticPlot": false,
        "toImageButtonOptions": {
         "height": null,
         "width": null
        }
       },
       "data": [
        {
         "base": 0.5249979387353534,
         "connector": {
          "line": {
           "color": "#371ea3",
           "dash": "solid",
           "width": 1
          },
          "mode": "spanning"
         },
         "decreasing": {
          "marker": {
           "color": "#f05a71"
          }
         },
         "hoverinfo": "text+delta",
         "hoverlabel": {
          "bgcolor": "rgba(0,0,0,0.8)"
         },
         "hovertext": [
          "Average response: 0.525<br>Prediction: 1.0",
          "Special_Occasions = Festival<br>increases average response by",
          "Needs_Match = High<br>increases average response by",
          "Booking_Lead_Time = LOW<br>increases average response by",
          "Add_Ons = LOW<br>increases average response by",
          "Average response: 0.525<br>Prediction: 1.0"
         ],
         "increasing": {
          "marker": {
           "color": "#8bdcbe"
          }
         },
         "measure": [
          "relative",
          "relative",
          "relative",
          "relative",
          "relative",
          "total"
         ],
         "orientation": "h",
         "showlegend": false,
         "text": [
          "0.525",
          "+0.211",
          "+0.202",
          "+0.012",
          "+0.05",
          "1.0"
         ],
         "textposition": "outside",
         "totals": {
          "marker": {
           "color": "#371ea3"
          }
         },
         "type": "waterfall",
         "x": [
          0,
          0.211,
          0.202,
          0.012,
          0.05,
          0.475
         ],
         "xaxis": "x",
         "y": [
          "intercept",
          "Special_Occasions = Festival",
          "Needs_Match = High",
          "Booking_Lead_Time = LOW",
          "Add_Ons = LOW",
          "prediction"
         ],
         "yaxis": "y"
        }
       ],
       "layout": {
        "annotations": [
         {
          "font": {
           "size": 16
          },
          "showarrow": false,
          "text": "Booking Details",
          "x": 0.5,
          "xanchor": "center",
          "xref": "paper",
          "y": 1,
          "yanchor": "bottom",
          "yref": "paper"
         },
         {
          "font": {
           "size": 16
          },
          "showarrow": false,
          "text": "contribution",
          "x": 0.5,
          "xanchor": "center",
          "xref": "paper",
          "y": 0,
          "yanchor": "top",
          "yref": "paper",
          "yshift": -30
         }
        ],
        "font": {
         "color": "#371ea3"
        },
        "height": 273,
        "margin": {
         "b": 71,
         "r": 30,
         "t": 78
        },
        "shapes": [
         {
          "line": {
           "color": "#371ea3",
           "dash": "dot",
           "width": 1.5
          },
          "type": "line",
          "x0": 0.5249979387353534,
          "x1": 0.5249979387353534,
          "xref": "x",
          "y0": -1,
          "y1": 6,
          "yref": "y"
         }
        ],
        "template": {
         "data": {
          "scatter": [
           {
            "type": "scatter"
           }
          ]
         }
        },
        "title": {
         "text": "Rahul Desai",
         "x": 0.15
        },
        "xaxis": {
         "anchor": "y",
         "automargin": true,
         "domain": [
          0,
          1
         ],
         "fixedrange": true,
         "gridwidth": 2,
         "range": [
          0.45375000000000004,
          1.07125
         ],
         "tickcolor": "white",
         "ticklen": 3,
         "ticks": "outside",
         "type": "linear",
         "zeroline": false
        },
        "yaxis": {
         "anchor": "x",
         "automargin": true,
         "autorange": "reversed",
         "domain": [
          0,
          1
         ],
         "fixedrange": true,
         "gridwidth": 2,
         "tickcolor": "white",
         "ticklen": 10,
         "ticks": "outside",
         "type": "category"
        }
       }
      }
     },
     "metadata": {},
     "output_type": "display_data"
    },
    {
     "data": {
      "application/vnd.plotly.v1+json": {
       "config": {
        "displaylogo": false,
        "modeBarButtonsToRemove": [
         "sendDataToCloud",
         "lasso2d",
         "autoScale2d",
         "select2d",
         "zoom2d",
         "pan2d",
         "zoomIn2d",
         "zoomOut2d",
         "resetScale2d",
         "toggleSpikelines",
         "hoverCompareCartesian",
         "hoverClosestCartesian"
        ],
        "plotlyServerURL": "https://plot.ly",
        "staticPlot": false,
        "toImageButtonOptions": {
         "height": null,
         "width": null
        }
       },
       "data": [
        {
         "base": 0.5250074939243858,
         "connector": {
          "line": {
           "color": "#371ea3",
           "dash": "solid",
           "width": 1
          },
          "mode": "spanning"
         },
         "decreasing": {
          "marker": {
           "color": "#f05a71"
          }
         },
         "hoverinfo": "text+delta",
         "hoverlabel": {
          "bgcolor": "rgba(0,0,0,0.8)"
         },
         "hovertext": [
          "Average response: 0.525<br>Prediction: 0.677",
          "Delivery_Date_Status = On-Time<br>increases average response by",
          "Stock_Status = Available<br>increases average response by",
          "Average response: 0.525<br>Prediction: 0.677"
         ],
         "increasing": {
          "marker": {
           "color": "#8bdcbe"
          }
         },
         "measure": [
          "relative",
          "relative",
          "relative",
          "total"
         ],
         "orientation": "h",
         "showlegend": false,
         "text": [
          "0.525",
          "+0.017",
          "+0.135",
          "0.677"
         ],
         "textposition": "outside",
         "totals": {
          "marker": {
           "color": "#371ea3"
          }
         },
         "type": "waterfall",
         "x": [
          0,
          0.017,
          0.135,
          0.152
         ],
         "xaxis": "x",
         "y": [
          "intercept",
          "Delivery_Date_Status = On-Time",
          "Stock_Status = Available",
          "prediction"
         ],
         "yaxis": "y"
        }
       ],
       "layout": {
        "annotations": [
         {
          "font": {
           "size": 16
          },
          "showarrow": false,
          "text": "Delivery Details",
          "x": 0.5,
          "xanchor": "center",
          "xref": "paper",
          "y": 1,
          "yanchor": "bottom",
          "yref": "paper"
         },
         {
          "font": {
           "size": 16
          },
          "showarrow": false,
          "text": "contribution",
          "x": 0.5,
          "xanchor": "center",
          "xref": "paper",
          "y": 0,
          "yanchor": "top",
          "yref": "paper",
          "yshift": -30
         }
        ],
        "font": {
         "color": "#371ea3"
        },
        "height": 233,
        "margin": {
         "b": 71,
         "r": 30,
         "t": 78
        },
        "shapes": [
         {
          "line": {
           "color": "#371ea3",
           "dash": "dot",
           "width": 1.5
          },
          "type": "line",
          "x0": 0.5250074939243858,
          "x1": 0.5250074939243858,
          "xref": "x",
          "y0": -1,
          "y1": 4,
          "yref": "y"
         }
        ],
        "template": {
         "data": {
          "scatter": [
           {
            "type": "scatter"
           }
          ]
         }
        },
        "title": {
         "text": "Rahul Desai",
         "x": 0.15
        },
        "xaxis": {
         "anchor": "y",
         "automargin": true,
         "domain": [
          0,
          1
         ],
         "fixedrange": true,
         "gridwidth": 2,
         "range": [
          0.5022,
          0.6998000000000001
         ],
         "tickcolor": "white",
         "ticklen": 3,
         "ticks": "outside",
         "type": "linear",
         "zeroline": false
        },
        "yaxis": {
         "anchor": "x",
         "automargin": true,
         "autorange": "reversed",
         "domain": [
          0,
          1
         ],
         "fixedrange": true,
         "gridwidth": 2,
         "tickcolor": "white",
         "ticklen": 10,
         "ticks": "outside",
         "type": "category"
        }
       }
      }
     },
     "metadata": {},
     "output_type": "display_data"
    },
    {
     "data": {
      "application/vnd.plotly.v1+json": {
       "config": {
        "displaylogo": false,
        "modeBarButtonsToRemove": [
         "sendDataToCloud",
         "lasso2d",
         "autoScale2d",
         "select2d",
         "zoom2d",
         "pan2d",
         "zoomIn2d",
         "zoomOut2d",
         "resetScale2d",
         "toggleSpikelines",
         "hoverCompareCartesian",
         "hoverClosestCartesian"
        ],
        "plotlyServerURL": "https://plot.ly",
        "staticPlot": false,
        "toImageButtonOptions": {
         "height": null,
         "width": null
        }
       },
       "data": [
        {
         "base": 0.5252677019758729,
         "connector": {
          "line": {
           "color": "#371ea3",
           "dash": "solid",
           "width": 1
          },
          "mode": "spanning"
         },
         "decreasing": {
          "marker": {
           "color": "#f05a71"
          }
         },
         "hoverinfo": "text+delta",
         "hoverlabel": {
          "bgcolor": "rgba(0,0,0,0.8)"
         },
         "hovertext": [
          "Average response: 0.525<br>Prediction: 1.0",
          "Competitive_Factors = Low<br>increases average response by",
          "Dealership_Engagement = Medium<br>increases average response by",
          "External_Factors = Medium<br>increases average response by",
          "Companion_Feedback = Positive<br>increases average response by",
          "Customer_Satisfaction_Score = HIGH<br>increases average response by",
          "Average response: 0.525<br>Prediction: 1.0"
         ],
         "increasing": {
          "marker": {
           "color": "#8bdcbe"
          }
         },
         "measure": [
          "relative",
          "relative",
          "relative",
          "relative",
          "relative",
          "relative",
          "total"
         ],
         "orientation": "h",
         "showlegend": false,
         "text": [
          "0.525",
          "+0.118",
          "+0.124",
          "+0.005",
          "+0.206",
          "+0.022",
          "1.0"
         ],
         "textposition": "outside",
         "totals": {
          "marker": {
           "color": "#371ea3"
          }
         },
         "type": "waterfall",
         "x": [
          0,
          0.118,
          0.124,
          0.005,
          0.206,
          0.022,
          0.474
         ],
         "xaxis": "x",
         "y": [
          "intercept",
          "Competitive_Factors = Low",
          "Dealership_Engagement = Medium",
          "External_Factors = Medium",
          "Companion_Feedback = Positive",
          "Customer_Satisfaction_Score = HIGH",
          "prediction"
         ],
         "yaxis": "y"
        }
       ],
       "layout": {
        "annotations": [
         {
          "font": {
           "size": 16
          },
          "showarrow": false,
          "text": "Additional Customer Details",
          "x": 0.5,
          "xanchor": "center",
          "xref": "paper",
          "y": 1,
          "yanchor": "bottom",
          "yref": "paper"
         },
         {
          "font": {
           "size": 16
          },
          "showarrow": false,
          "text": "contribution",
          "x": 0.5,
          "xanchor": "center",
          "xref": "paper",
          "y": 0,
          "yanchor": "top",
          "yref": "paper",
          "yshift": -30
         }
        ],
        "font": {
         "color": "#371ea3"
        },
        "height": 293,
        "margin": {
         "b": 71,
         "r": 30,
         "t": 78
        },
        "shapes": [
         {
          "line": {
           "color": "#371ea3",
           "dash": "dot",
           "width": 1.5
          },
          "type": "line",
          "x0": 0.5252677019758729,
          "x1": 0.5252677019758729,
          "xref": "x",
          "y0": -1,
          "y1": 7,
          "yref": "y"
         }
        ],
        "template": {
         "data": {
          "scatter": [
           {
            "type": "scatter"
           }
          ]
         }
        },
        "title": {
         "text": "Rahul Desai",
         "x": 0.15
        },
        "xaxis": {
         "anchor": "y",
         "automargin": true,
         "domain": [
          0,
          1
         ],
         "fixedrange": true,
         "gridwidth": 2,
         "range": [
          0.45375000000000004,
          1.07125
         ],
         "tickcolor": "white",
         "ticklen": 3,
         "ticks": "outside",
         "type": "linear",
         "zeroline": false
        },
        "yaxis": {
         "anchor": "x",
         "automargin": true,
         "autorange": "reversed",
         "domain": [
          0,
          1
         ],
         "fixedrange": true,
         "gridwidth": 2,
         "tickcolor": "white",
         "ticklen": 10,
         "ticks": "outside",
         "type": "category"
        }
       }
      }
     },
     "metadata": {},
     "output_type": "display_data"
    },
    {
     "data": {
      "image/png": "[encoded data removed]",
      "text/plain": [
       "<Figure size 640x480 with 1 Axes>"
      ]
     },
     "metadata": {},
     "output_type": "display_data"
    },
    {
     "name": "stdout",
     "output_type": "stream",
     "text": [
      "Final Prbability:  90.19\n"
     ]
    }
   ],
   "source": [
    "print(\"Final Prbability: \", getValuesofCustomer('Rahul Desai'))"
   ]
  },
  {
   "cell_type": "code",
   "execution_count": 30,
   "metadata": {},
   "outputs": [
    {
     "name": "stdout",
     "output_type": "stream",
     "text": [
      "bciindex ~ C(Lead_Source) + C(First_Time_Buyer) + C(Age) + C(Gender) + C(Income) + C(OEM_Loyalty_Program) + C(Finances_Status) + C(CIBIL_Score) + C(Down_Payment) + C(Undecided_Finances) + C(Special_Occasions) + C(Booking_Lead_Time) + C(Needs_Match) + C(Add_Ons) + C(Dealership_Engagement) + C(Experience_With_Sales_Rep) + C(Companion_Feedback) + C(Stock_Status) + C(Delivery_Date_Status) + C(Competitive_Factors) + C(External_Factors) + C(Customer_Satisfaction_Score)\n"
     ]
    }
   ],
   "source": [
    "df_filtered = df.select_dtypes(exclude=['int64', 'float64', 'datetime64[ns]'])\n",
    "filtered_columns = [f'C({item})' for item in df_filtered.columns]\n",
    "logit_formula = 'bciindex ~ ' + ' + '.join(filtered_columns)\n",
    "print(logit_formula)"
   ]
  },
  {
   "cell_type": "code",
   "execution_count": 31,
   "metadata": {},
   "outputs": [],
   "source": [
    "df_customermodel.save('customermodel.pkl')\n",
    "df_financesmodel.save('financesmodel.pkl')\n",
    "df_bookingdetailsmodel.save('bookingdetailsmodel.pkl')\n",
    "df_deliverydetailsmodel.save('deliverydetailsmodel.pkl')\n",
    "df_customerexperiencemodel.save('customerexperiencemodel.pkl')\n"
   ]
  },
  {
   "cell_type": "code",
   "execution_count": 32,
   "metadata": {},
   "outputs": [],
   "source": [
    "from dill import dump\n",
    "#Assests -> type -> model & explainer , \n",
    "picklelabel = ['customer', 'finance', 'bookingdetails', 'deliverydetails', 'customerexperience']\n",
    "models = [df_customermodel, df_financesmodel ,df_bookingdetailsmodelGLM, df_deliverydetailsmodel, df_customerexperiencemodel]\n",
    "explainers = [exp1,exp2, exp3, exp4, exp5]\n",
    "\n",
    "model_dict = {}\n",
    "\n",
    "for i, (model, explainer) in enumerate(zip(models, explainers)):\n",
    "    model_name = picklelabel[i] \n",
    "    model_dict[model_name] = {\n",
    "        'model': model,\n",
    "        'explainer': explainer\n",
    "    }\n",
    "\n",
    "with open('bcimodels.pkl', 'wb') as f:\n",
    "    dump(model_dict, f)\n"
   ]
  },
  {
   "cell_type": "code",
   "execution_count": 33,
   "metadata": {},
   "outputs": [],
   "source": [
    "from dill import dump\n",
    "# with open('financesexplainer.pkl', 'wb') as f:\n",
    "#     dump(exp2, f)\n",
    "# with open('bookingdetailsexplainer.pkl', 'wb') as f:\n",
    "#     dump(exp3, f)\n",
    "# with open('deliverydetailsexplainer.pkl', 'wb') as f:\n",
    "#     dump(exp4, f)\n",
    "# with open('customerexperienceexplainer.pkl', 'wb') as f:\n",
    "#     dump(exp5, f)"
   ]
  },
  {
   "cell_type": "code",
   "execution_count": 34,
   "metadata": {},
   "outputs": [
    {
     "data": {
      "application/vnd.plotly.v1+json": {
       "config": {
        "displaylogo": false,
        "modeBarButtonsToRemove": [
         "sendDataToCloud",
         "lasso2d",
         "autoScale2d",
         "select2d",
         "zoom2d",
         "pan2d",
         "zoomIn2d",
         "zoomOut2d",
         "resetScale2d",
         "toggleSpikelines",
         "hoverCompareCartesian",
         "hoverClosestCartesian"
        ],
        "plotlyServerURL": "https://plot.ly",
        "staticPlot": false,
        "toImageButtonOptions": {
         "height": null,
         "width": null
        }
       },
       "data": [
        {
         "base": 0.5252650071399532,
         "connector": {
          "line": {
           "color": "#371ea3",
           "dash": "solid",
           "width": 1
          },
          "mode": "spanning"
         },
         "decreasing": {
          "marker": {
           "color": "#f05a71"
          }
         },
         "hoverinfo": "text+delta",
         "hoverlabel": {
          "bgcolor": "rgba(0,0,0,0.8)"
         },
         "hovertext": [
          "Average response: 0.525<br>Prediction: 0.001",
          "First_Time_Buyer = Yes<br>increases average response by",
          "Lead_Source = Online<br>increases average response by",
          "OEM_Loyalty_Program = Yes<br>decreases average response by",
          "Gender = Female<br>decreases average response by",
          "Income = MEDIUM<br>decreases average response by",
          "Age = KID<br>decreases average response by",
          "Average response: 0.525<br>Prediction: 0.001"
         ],
         "increasing": {
          "marker": {
           "color": "#8bdcbe"
          }
         },
         "measure": [
          "relative",
          "relative",
          "relative",
          "relative",
          "relative",
          "relative",
          "relative",
          "total"
         ],
         "orientation": "h",
         "showlegend": false,
         "text": [
          "0.525",
          "+0.095",
          "+0.036",
          "-0.003",
          "-0.001",
          "-0.003",
          "-0.649",
          "0.001"
         ],
         "textposition": "outside",
         "totals": {
          "marker": {
           "color": "#371ea3"
          }
         },
         "type": "waterfall",
         "x": [
          0,
          0.095,
          0.036,
          -0.003,
          -0.001,
          -0.003,
          -0.649,
          -0.524
         ],
         "xaxis": "x",
         "y": [
          "intercept",
          "First_Time_Buyer = Yes",
          "Lead_Source = Online",
          "OEM_Loyalty_Program = Yes",
          "Gender = Female",
          "Income = MEDIUM",
          "Age = KID",
          "prediction"
         ],
         "yaxis": "y"
        }
       ],
       "layout": {
        "annotations": [
         {
          "font": {
           "size": 16
          },
          "showarrow": false,
          "text": "Customer Profile",
          "x": 0.5,
          "xanchor": "center",
          "xref": "paper",
          "y": 1,
          "yanchor": "bottom",
          "yref": "paper"
         },
         {
          "font": {
           "size": 16
          },
          "showarrow": false,
          "text": "contribution",
          "x": 0.5,
          "xanchor": "center",
          "xref": "paper",
          "y": 0,
          "yanchor": "top",
          "yref": "paper",
          "yshift": -30
         }
        ],
        "font": {
         "color": "#371ea3"
        },
        "height": 313,
        "margin": {
         "b": 71,
         "r": 30,
         "t": 78
        },
        "shapes": [
         {
          "line": {
           "color": "#371ea3",
           "dash": "dot",
           "width": 1.5
          },
          "type": "line",
          "x0": 0.5252650071399532,
          "x1": 0.5252650071399532,
          "xref": "x",
          "y0": -1,
          "y1": 8,
          "yref": "y"
         }
        ],
        "template": {
         "data": {
          "scatter": [
           {
            "type": "scatter"
           }
          ]
         }
        },
        "title": {
         "text": "Aditi Joshi",
         "x": 0.15
        },
        "xaxis": {
         "anchor": "y",
         "automargin": true,
         "domain": [
          0,
          1
         ],
         "fixedrange": true,
         "gridwidth": 2,
         "range": [
          -0.09725,
          0.7542500000000001
         ],
         "tickcolor": "white",
         "ticklen": 3,
         "ticks": "outside",
         "type": "linear",
         "zeroline": false
        },
        "yaxis": {
         "anchor": "x",
         "automargin": true,
         "autorange": "reversed",
         "domain": [
          0,
          1
         ],
         "fixedrange": true,
         "gridwidth": 2,
         "tickcolor": "white",
         "ticklen": 10,
         "ticks": "outside",
         "type": "category"
        }
       }
      }
     },
     "metadata": {},
     "output_type": "display_data"
    },
    {
     "data": {
      "application/vnd.plotly.v1+json": {
       "config": {
        "displaylogo": false,
        "modeBarButtonsToRemove": [
         "sendDataToCloud",
         "lasso2d",
         "autoScale2d",
         "select2d",
         "zoom2d",
         "pan2d",
         "zoomIn2d",
         "zoomOut2d",
         "resetScale2d",
         "toggleSpikelines",
         "hoverCompareCartesian",
         "hoverClosestCartesian"
        ],
        "plotlyServerURL": "https://plot.ly",
        "staticPlot": false,
        "toImageButtonOptions": {
         "height": null,
         "width": null
        }
       },
       "data": [
        {
         "base": 0.5249950815333578,
         "connector": {
          "line": {
           "color": "#371ea3",
           "dash": "solid",
           "width": 1
          },
          "mode": "spanning"
         },
         "decreasing": {
          "marker": {
           "color": "#f05a71"
          }
         },
         "hoverinfo": "text+delta",
         "hoverlabel": {
          "bgcolor": "rgba(0,0,0,0.8)"
         },
         "hovertext": [
          "Average response: 0.525<br>Prediction: 0.687",
          "Down_Payment = HIGH<br>increases average response by",
          "Undecided_Finances = No<br>increases average response by",
          "CIBIL_Score = HIGH<br>increases average response by",
          "Finances_Status = Approved Loans<br>increases average response by",
          "Average response: 0.525<br>Prediction: 0.687"
         ],
         "increasing": {
          "marker": {
           "color": "#8bdcbe"
          }
         },
         "measure": [
          "relative",
          "relative",
          "relative",
          "relative",
          "relative",
          "total"
         ],
         "orientation": "h",
         "showlegend": false,
         "text": [
          "0.525",
          "+0.051",
          "+0.041",
          "+0.046",
          "+0.025",
          "0.687"
         ],
         "textposition": "outside",
         "totals": {
          "marker": {
           "color": "#371ea3"
          }
         },
         "type": "waterfall",
         "x": [
          0,
          0.051,
          0.041,
          0.046,
          0.025,
          0.163
         ],
         "xaxis": "x",
         "y": [
          "intercept",
          "Down_Payment = HIGH",
          "Undecided_Finances = No",
          "CIBIL_Score = HIGH",
          "Finances_Status = Approved Loans",
          "prediction"
         ],
         "yaxis": "y"
        }
       ],
       "layout": {
        "annotations": [
         {
          "font": {
           "size": 16
          },
          "showarrow": false,
          "text": "Finances",
          "x": 0.5,
          "xanchor": "center",
          "xref": "paper",
          "y": 1,
          "yanchor": "bottom",
          "yref": "paper"
         },
         {
          "font": {
           "size": 16
          },
          "showarrow": false,
          "text": "contribution",
          "x": 0.5,
          "xanchor": "center",
          "xref": "paper",
          "y": 0,
          "yanchor": "top",
          "yref": "paper",
          "yshift": -30
         }
        ],
        "font": {
         "color": "#371ea3"
        },
        "height": 273,
        "margin": {
         "b": 71,
         "r": 30,
         "t": 78
        },
        "shapes": [
         {
          "line": {
           "color": "#371ea3",
           "dash": "dot",
           "width": 1.5
          },
          "type": "line",
          "x0": 0.5249950815333578,
          "x1": 0.5249950815333578,
          "xref": "x",
          "y0": -1,
          "y1": 6,
          "yref": "y"
         }
        ],
        "template": {
         "data": {
          "scatter": [
           {
            "type": "scatter"
           }
          ]
         }
        },
        "title": {
         "text": "Aditi Joshi",
         "x": 0.15
        },
        "xaxis": {
         "anchor": "y",
         "automargin": true,
         "domain": [
          0,
          1
         ],
         "fixedrange": true,
         "gridwidth": 2,
         "range": [
          0.5007,
          0.7113
         ],
         "tickcolor": "white",
         "ticklen": 3,
         "ticks": "outside",
         "type": "linear",
         "zeroline": false
        },
        "yaxis": {
         "anchor": "x",
         "automargin": true,
         "autorange": "reversed",
         "domain": [
          0,
          1
         ],
         "fixedrange": true,
         "gridwidth": 2,
         "tickcolor": "white",
         "ticklen": 10,
         "ticks": "outside",
         "type": "category"
        }
       }
      }
     },
     "metadata": {},
     "output_type": "display_data"
    },
    {
     "data": {
      "application/vnd.plotly.v1+json": {
       "config": {
        "displaylogo": false,
        "modeBarButtonsToRemove": [
         "sendDataToCloud",
         "lasso2d",
         "autoScale2d",
         "select2d",
         "zoom2d",
         "pan2d",
         "zoomIn2d",
         "zoomOut2d",
         "resetScale2d",
         "toggleSpikelines",
         "hoverCompareCartesian",
         "hoverClosestCartesian"
        ],
        "plotlyServerURL": "https://plot.ly",
        "staticPlot": false,
        "toImageButtonOptions": {
         "height": null,
         "width": null
        }
       },
       "data": [
        {
         "base": 0.5249979387353534,
         "connector": {
          "line": {
           "color": "#371ea3",
           "dash": "solid",
           "width": 1
          },
          "mode": "spanning"
         },
         "decreasing": {
          "marker": {
           "color": "#f05a71"
          }
         },
         "hoverinfo": "text+delta",
         "hoverlabel": {
          "bgcolor": "rgba(0,0,0,0.8)"
         },
         "hovertext": [
          "Average response: 0.525<br>Prediction: 0.0",
          "Special_Occasions = Festival<br>increases average response by",
          "Needs_Match = High<br>increases average response by",
          "Booking_Lead_Time = LOW<br>increases average response by",
          "Add_Ons = MEDIUM<br>decreases average response by",
          "Average response: 0.525<br>Prediction: 0.0"
         ],
         "increasing": {
          "marker": {
           "color": "#8bdcbe"
          }
         },
         "measure": [
          "relative",
          "relative",
          "relative",
          "relative",
          "relative",
          "total"
         ],
         "orientation": "h",
         "showlegend": false,
         "text": [
          "0.525",
          "+0.211",
          "+0.202",
          "+0.012",
          "-0.95",
          "0.0"
         ],
         "textposition": "outside",
         "totals": {
          "marker": {
           "color": "#371ea3"
          }
         },
         "type": "waterfall",
         "x": [
          0,
          0.211,
          0.202,
          0.012,
          -0.95,
          -0.525
         ],
         "xaxis": "x",
         "y": [
          "intercept",
          "Special_Occasions = Festival",
          "Needs_Match = High",
          "Booking_Lead_Time = LOW",
          "Add_Ons = MEDIUM",
          "prediction"
         ],
         "yaxis": "y"
        }
       ],
       "layout": {
        "annotations": [
         {
          "font": {
           "size": 16
          },
          "showarrow": false,
          "text": "Booking Details",
          "x": 0.5,
          "xanchor": "center",
          "xref": "paper",
          "y": 1,
          "yanchor": "bottom",
          "yref": "paper"
         },
         {
          "font": {
           "size": 16
          },
          "showarrow": false,
          "text": "contribution",
          "x": 0.5,
          "xanchor": "center",
          "xref": "paper",
          "y": 0,
          "yanchor": "top",
          "yref": "paper",
          "yshift": -30
         }
        ],
        "font": {
         "color": "#371ea3"
        },
        "height": 273,
        "margin": {
         "b": 71,
         "r": 30,
         "t": 78
        },
        "shapes": [
         {
          "line": {
           "color": "#371ea3",
           "dash": "dot",
           "width": 1.5
          },
          "type": "line",
          "x0": 0.5249979387353534,
          "x1": 0.5249979387353534,
          "xref": "x",
          "y0": -1,
          "y1": 6,
          "yref": "y"
         }
        ],
        "template": {
         "data": {
          "scatter": [
           {
            "type": "scatter"
           }
          ]
         }
        },
        "title": {
         "text": "Aditi Joshi",
         "x": 0.15
        },
        "xaxis": {
         "anchor": "y",
         "automargin": true,
         "domain": [
          0,
          1
         ],
         "fixedrange": true,
         "gridwidth": 2,
         "range": [
          -0.1425,
          1.0925
         ],
         "tickcolor": "white",
         "ticklen": 3,
         "ticks": "outside",
         "type": "linear",
         "zeroline": false
        },
        "yaxis": {
         "anchor": "x",
         "automargin": true,
         "autorange": "reversed",
         "domain": [
          0,
          1
         ],
         "fixedrange": true,
         "gridwidth": 2,
         "tickcolor": "white",
         "ticklen": 10,
         "ticks": "outside",
         "type": "category"
        }
       }
      }
     },
     "metadata": {},
     "output_type": "display_data"
    },
    {
     "data": {
      "application/vnd.plotly.v1+json": {
       "config": {
        "displaylogo": false,
        "modeBarButtonsToRemove": [
         "sendDataToCloud",
         "lasso2d",
         "autoScale2d",
         "select2d",
         "zoom2d",
         "pan2d",
         "zoomIn2d",
         "zoomOut2d",
         "resetScale2d",
         "toggleSpikelines",
         "hoverCompareCartesian",
         "hoverClosestCartesian"
        ],
        "plotlyServerURL": "https://plot.ly",
        "staticPlot": false,
        "toImageButtonOptions": {
         "height": null,
         "width": null
        }
       },
       "data": [
        {
         "base": 0.5250074939243858,
         "connector": {
          "line": {
           "color": "#371ea3",
           "dash": "solid",
           "width": 1
          },
          "mode": "spanning"
         },
         "decreasing": {
          "marker": {
           "color": "#f05a71"
          }
         },
         "hoverinfo": "text+delta",
         "hoverlabel": {
          "bgcolor": "rgba(0,0,0,0.8)"
         },
         "hovertext": [
          "Average response: 0.525<br>Prediction: 0.677",
          "Delivery_Date_Status = On-Time<br>increases average response by",
          "Stock_Status = Available<br>increases average response by",
          "Average response: 0.525<br>Prediction: 0.677"
         ],
         "increasing": {
          "marker": {
           "color": "#8bdcbe"
          }
         },
         "measure": [
          "relative",
          "relative",
          "relative",
          "total"
         ],
         "orientation": "h",
         "showlegend": false,
         "text": [
          "0.525",
          "+0.017",
          "+0.135",
          "0.677"
         ],
         "textposition": "outside",
         "totals": {
          "marker": {
           "color": "#371ea3"
          }
         },
         "type": "waterfall",
         "x": [
          0,
          0.017,
          0.135,
          0.152
         ],
         "xaxis": "x",
         "y": [
          "intercept",
          "Delivery_Date_Status = On-Time",
          "Stock_Status = Available",
          "prediction"
         ],
         "yaxis": "y"
        }
       ],
       "layout": {
        "annotations": [
         {
          "font": {
           "size": 16
          },
          "showarrow": false,
          "text": "Delivery Details",
          "x": 0.5,
          "xanchor": "center",
          "xref": "paper",
          "y": 1,
          "yanchor": "bottom",
          "yref": "paper"
         },
         {
          "font": {
           "size": 16
          },
          "showarrow": false,
          "text": "contribution",
          "x": 0.5,
          "xanchor": "center",
          "xref": "paper",
          "y": 0,
          "yanchor": "top",
          "yref": "paper",
          "yshift": -30
         }
        ],
        "font": {
         "color": "#371ea3"
        },
        "height": 233,
        "margin": {
         "b": 71,
         "r": 30,
         "t": 78
        },
        "shapes": [
         {
          "line": {
           "color": "#371ea3",
           "dash": "dot",
           "width": 1.5
          },
          "type": "line",
          "x0": 0.5250074939243858,
          "x1": 0.5250074939243858,
          "xref": "x",
          "y0": -1,
          "y1": 4,
          "yref": "y"
         }
        ],
        "template": {
         "data": {
          "scatter": [
           {
            "type": "scatter"
           }
          ]
         }
        },
        "title": {
         "text": "Aditi Joshi",
         "x": 0.15
        },
        "xaxis": {
         "anchor": "y",
         "automargin": true,
         "domain": [
          0,
          1
         ],
         "fixedrange": true,
         "gridwidth": 2,
         "range": [
          0.5022,
          0.6998000000000001
         ],
         "tickcolor": "white",
         "ticklen": 3,
         "ticks": "outside",
         "type": "linear",
         "zeroline": false
        },
        "yaxis": {
         "anchor": "x",
         "automargin": true,
         "autorange": "reversed",
         "domain": [
          0,
          1
         ],
         "fixedrange": true,
         "gridwidth": 2,
         "tickcolor": "white",
         "ticklen": 10,
         "ticks": "outside",
         "type": "category"
        }
       }
      }
     },
     "metadata": {},
     "output_type": "display_data"
    },
    {
     "data": {
      "application/vnd.plotly.v1+json": {
       "config": {
        "displaylogo": false,
        "modeBarButtonsToRemove": [
         "sendDataToCloud",
         "lasso2d",
         "autoScale2d",
         "select2d",
         "zoom2d",
         "pan2d",
         "zoomIn2d",
         "zoomOut2d",
         "resetScale2d",
         "toggleSpikelines",
         "hoverCompareCartesian",
         "hoverClosestCartesian"
        ],
        "plotlyServerURL": "https://plot.ly",
        "staticPlot": false,
        "toImageButtonOptions": {
         "height": null,
         "width": null
        }
       },
       "data": [
        {
         "base": 0.5252677019758729,
         "connector": {
          "line": {
           "color": "#371ea3",
           "dash": "solid",
           "width": 1
          },
          "mode": "spanning"
         },
         "decreasing": {
          "marker": {
           "color": "#f05a71"
          }
         },
         "hoverinfo": "text+delta",
         "hoverlabel": {
          "bgcolor": "rgba(0,0,0,0.8)"
         },
         "hovertext": [
          "Average response: 0.525<br>Prediction: 0.834",
          "Competitive_Factors = Low<br>increases average response by",
          "Companion_Feedback = Positive<br>increases average response by",
          "Customer_Satisfaction_Score = HIGH<br>increases average response by",
          "External_Factors = Low<br>decreases average response by",
          "Dealership_Engagement = High<br>increases average response by",
          "Average response: 0.525<br>Prediction: 0.834"
         ],
         "increasing": {
          "marker": {
           "color": "#8bdcbe"
          }
         },
         "measure": [
          "relative",
          "relative",
          "relative",
          "relative",
          "relative",
          "relative",
          "total"
         ],
         "orientation": "h",
         "showlegend": false,
         "text": [
          "0.525",
          "+0.118",
          "+0.129",
          "+0.103",
          "-0.042",
          "+0.001",
          "0.834"
         ],
         "textposition": "outside",
         "totals": {
          "marker": {
           "color": "#371ea3"
          }
         },
         "type": "waterfall",
         "x": [
          0,
          0.118,
          0.129,
          0.103,
          -0.042,
          0.001,
          0.308
         ],
         "xaxis": "x",
         "y": [
          "intercept",
          "Competitive_Factors = Low",
          "Companion_Feedback = Positive",
          "Customer_Satisfaction_Score = HIGH",
          "External_Factors = Low",
          "Dealership_Engagement = High",
          "prediction"
         ],
         "yaxis": "y"
        }
       ],
       "layout": {
        "annotations": [
         {
          "font": {
           "size": 16
          },
          "showarrow": false,
          "text": "Additional Customer Details",
          "x": 0.5,
          "xanchor": "center",
          "xref": "paper",
          "y": 1,
          "yanchor": "bottom",
          "yref": "paper"
         },
         {
          "font": {
           "size": 16
          },
          "showarrow": false,
          "text": "contribution",
          "x": 0.5,
          "xanchor": "center",
          "xref": "paper",
          "y": 0,
          "yanchor": "top",
          "yref": "paper",
          "yshift": -30
         }
        ],
        "font": {
         "color": "#371ea3"
        },
        "height": 293,
        "margin": {
         "b": 71,
         "r": 30,
         "t": 78
        },
        "shapes": [
         {
          "line": {
           "color": "#371ea3",
           "dash": "dot",
           "width": 1.5
          },
          "type": "line",
          "x0": 0.5252677019758729,
          "x1": 0.5252677019758729,
          "xref": "x",
          "y0": -1,
          "y1": 7,
          "yref": "y"
         }
        ],
        "template": {
         "data": {
          "scatter": [
           {
            "type": "scatter"
           }
          ]
         }
        },
        "title": {
         "text": "Aditi Joshi",
         "x": 0.15
        },
        "xaxis": {
         "anchor": "y",
         "automargin": true,
         "domain": [
          0,
          1
         ],
         "fixedrange": true,
         "gridwidth": 2,
         "range": [
          0.47250000000000003,
          0.9275
         ],
         "tickcolor": "white",
         "ticklen": 3,
         "ticks": "outside",
         "type": "linear",
         "zeroline": false
        },
        "yaxis": {
         "anchor": "x",
         "automargin": true,
         "autorange": "reversed",
         "domain": [
          0,
          1
         ],
         "fixedrange": true,
         "gridwidth": 2,
         "tickcolor": "white",
         "ticklen": 10,
         "ticks": "outside",
         "type": "category"
        }
       }
      }
     },
     "metadata": {},
     "output_type": "display_data"
    },
    {
     "data": {
      "image/png": "[encoded data removed]",
      "text/plain": [
       "<Figure size 640x480 with 1 Axes>"
      ]
     },
     "metadata": {},
     "output_type": "display_data"
    },
    {
     "name": "stdout",
     "output_type": "stream",
     "text": [
      "Evaluating Aditi Joshi 43.99\n"
     ]
    }
   ],
   "source": [
    "print(\"Evaluating Aditi Joshi\", getValuesofCustomer('Aditi Joshi'))"
   ]
  },
  {
   "cell_type": "code",
   "execution_count": 35,
   "metadata": {},
   "outputs": [
    {
     "data": {
      "application/vnd.plotly.v1+json": {
       "config": {
        "displaylogo": false,
        "modeBarButtonsToRemove": [
         "sendDataToCloud",
         "lasso2d",
         "autoScale2d",
         "select2d",
         "zoom2d",
         "pan2d",
         "zoomIn2d",
         "zoomOut2d",
         "resetScale2d",
         "toggleSpikelines",
         "hoverCompareCartesian",
         "hoverClosestCartesian"
        ],
        "plotlyServerURL": "https://plot.ly",
        "staticPlot": false,
        "toImageButtonOptions": {
         "height": null,
         "width": null
        }
       },
       "data": [
        {
         "base": 0.5252650071399532,
         "connector": {
          "line": {
           "color": "#371ea3",
           "dash": "solid",
           "width": 1
          },
          "mode": "spanning"
         },
         "decreasing": {
          "marker": {
           "color": "#f05a71"
          }
         },
         "hoverinfo": "text+delta",
         "hoverlabel": {
          "bgcolor": "rgba(0,0,0,0.8)"
         },
         "hovertext": [
          "Average response: 0.525<br>Prediction: 0.001",
          "First_Time_Buyer = Yes<br>increases average response by",
          "Lead_Source = Online<br>increases average response by",
          "OEM_Loyalty_Program = Yes<br>decreases average response by",
          "Gender = Female<br>decreases average response by",
          "Income = MEDIUM<br>decreases average response by",
          "Age = KID<br>decreases average response by",
          "Average response: 0.525<br>Prediction: 0.001"
         ],
         "increasing": {
          "marker": {
           "color": "#8bdcbe"
          }
         },
         "measure": [
          "relative",
          "relative",
          "relative",
          "relative",
          "relative",
          "relative",
          "relative",
          "total"
         ],
         "orientation": "h",
         "showlegend": false,
         "text": [
          "0.525",
          "+0.095",
          "+0.036",
          "-0.003",
          "-0.001",
          "-0.003",
          "-0.649",
          "0.001"
         ],
         "textposition": "outside",
         "totals": {
          "marker": {
           "color": "#371ea3"
          }
         },
         "type": "waterfall",
         "x": [
          0,
          0.095,
          0.036,
          -0.003,
          -0.001,
          -0.003,
          -0.649,
          -0.524
         ],
         "xaxis": "x",
         "y": [
          "intercept",
          "First_Time_Buyer = Yes",
          "Lead_Source = Online",
          "OEM_Loyalty_Program = Yes",
          "Gender = Female",
          "Income = MEDIUM",
          "Age = KID",
          "prediction"
         ],
         "yaxis": "y"
        }
       ],
       "layout": {
        "annotations": [
         {
          "font": {
           "size": 16
          },
          "showarrow": false,
          "text": "Customer Profile",
          "x": 0.5,
          "xanchor": "center",
          "xref": "paper",
          "y": 1,
          "yanchor": "bottom",
          "yref": "paper"
         },
         {
          "font": {
           "size": 16
          },
          "showarrow": false,
          "text": "contribution",
          "x": 0.5,
          "xanchor": "center",
          "xref": "paper",
          "y": 0,
          "yanchor": "top",
          "yref": "paper",
          "yshift": -30
         }
        ],
        "font": {
         "color": "#371ea3"
        },
        "height": 313,
        "margin": {
         "b": 71,
         "r": 30,
         "t": 78
        },
        "shapes": [
         {
          "line": {
           "color": "#371ea3",
           "dash": "dot",
           "width": 1.5
          },
          "type": "line",
          "x0": 0.5252650071399532,
          "x1": 0.5252650071399532,
          "xref": "x",
          "y0": -1,
          "y1": 8,
          "yref": "y"
         }
        ],
        "template": {
         "data": {
          "scatter": [
           {
            "type": "scatter"
           }
          ]
         }
        },
        "title": {
         "text": "Aditi Joshi",
         "x": 0.15
        },
        "xaxis": {
         "anchor": "y",
         "automargin": true,
         "domain": [
          0,
          1
         ],
         "fixedrange": true,
         "gridwidth": 2,
         "range": [
          -0.09725,
          0.7542500000000001
         ],
         "tickcolor": "white",
         "ticklen": 3,
         "ticks": "outside",
         "type": "linear",
         "zeroline": false
        },
        "yaxis": {
         "anchor": "x",
         "automargin": true,
         "autorange": "reversed",
         "domain": [
          0,
          1
         ],
         "fixedrange": true,
         "gridwidth": 2,
         "tickcolor": "white",
         "ticklen": 10,
         "ticks": "outside",
         "type": "category"
        }
       }
      }
     },
     "metadata": {},
     "output_type": "display_data"
    }
   ],
   "source": [
    "from joblib import load\n",
    "to_predicted = new_df.iloc[0]\n",
    "model1values = to_predicted[df_Customerprofile.columns]\n",
    "df_customermodel2 = load('customermodel.pkl')\n",
    "predictedcustomer = df_customermodel2.predict(model1values).to_numpy()[0]\n",
    "breakdown = exp1.predict_parts(to_predicted[df_Customerprofile.columns], type='break_down', label='Customer Profile')\n",
    "breakdown.plot(title='Aditi Joshi')"
   ]
  }
 ],
 "metadata": {
  "kernelspec": {
   "display_name": "bcienv",
   "language": "python",
   "name": "python3"
  },
  "language_info": {
   "codemirror_mode": {
    "name": "ipython",
    "version": 3
   },
   "file_extension": ".py",
   "mimetype": "text/x-python",
   "name": "python",
   "nbconvert_exporter": "python",
   "pygments_lexer": "ipython3",
   "version": "3.12.8"
  }
 },
 "nbformat": 4,
 "nbformat_minor": 2
}
