{
 "cells": [
  {
   "cell_type": "code",
   "execution_count": 1,
   "metadata": {},
   "outputs": [],
   "source": [
    "import pandas as pd"
   ]
  },
  {
   "cell_type": "code",
   "execution_count": 2,
   "metadata": {},
   "outputs": [
    {
     "name": "stdout",
     "output_type": "stream",
     "text": [
      "<class 'pandas.core.frame.DataFrame'>\n",
      "RangeIndex: 20 entries, 0 to 19\n",
      "Data columns (total 30 columns):\n",
      " #   Column                       Non-Null Count  Dtype \n",
      "---  ------                       --------------  ----- \n",
      " 0   Lead_ID                      20 non-null     object\n",
      " 1   Booking_ID                   20 non-null     object\n",
      " 2   Customer name                20 non-null     object\n",
      " 3   Lead_Source                  20 non-null     object\n",
      " 4   First_Time_Buyer             20 non-null     object\n",
      " 5   Age                          20 non-null     int64 \n",
      " 6   Gender                       20 non-null     object\n",
      " 7   Location                     20 non-null     object\n",
      " 8   Income                       20 non-null     int64 \n",
      " 9   OEM_Loyalty_Program          20 non-null     object\n",
      " 10  Finances_Status              20 non-null     object\n",
      " 11  CIBIL_Score                  20 non-null     int64 \n",
      " 12  Down_Payment                 20 non-null     int64 \n",
      " 13  Undecided_Finances           20 non-null     object\n",
      " 14  Special_Occasions            16 non-null     object\n",
      " 15  Booking_Lead_Time            20 non-null     object\n",
      " 16  Needs_Match                  20 non-null     object\n",
      " 17  Add_Ons                      15 non-null     object\n",
      " 18  Dealership_Engagement        20 non-null     object\n",
      " 19  Experience_With_Sales_Rep    20 non-null     object\n",
      " 20  Companion_Feedback           20 non-null     object\n",
      " 21  Stock_Status                 20 non-null     object\n",
      " 22  Delivery_Date_Status         20 non-null     object\n",
      " 23  Competitive_Factors          20 non-null     object\n",
      " 24  External_Factors             20 non-null     object\n",
      " 25  Customer_Satisfaction_Score  20 non-null     int64 \n",
      " 26  Cancellation_Probability     20 non-null     object\n",
      " 27  Vehicle_Type                 20 non-null     object\n",
      " 28  Test_Drive_Status            20 non-null     object\n",
      " 29  Preferred_Delivery_Time      20 non-null     object\n",
      "dtypes: int64(5), object(25)\n",
      "memory usage: 4.8+ KB\n"
     ]
    }
   ],
   "source": [
    "\n",
    "df = pd.read_excel('BCI backup.xlsx', sheet_name='Dummy leads')\n",
    "df.info()"
   ]
  },
  {
   "cell_type": "code",
   "execution_count": 3,
   "metadata": {},
   "outputs": [
    {
     "name": "stdout",
     "output_type": "stream",
     "text": [
      "<class 'pandas.core.frame.DataFrame'>\n",
      "RangeIndex: 20 entries, 0 to 19\n",
      "Data columns (total 30 columns):\n",
      " #   Column                       Non-Null Count  Dtype \n",
      "---  ------                       --------------  ----- \n",
      " 0   Lead_ID                      20 non-null     object\n",
      " 1   Booking_ID                   20 non-null     object\n",
      " 2   Customer name                20 non-null     object\n",
      " 3   Lead_Source                  20 non-null     object\n",
      " 4   First_Time_Buyer             20 non-null     object\n",
      " 5   Age                          20 non-null     int64 \n",
      " 6   Gender                       20 non-null     object\n",
      " 7   Location                     20 non-null     object\n",
      " 8   Income                       20 non-null     int64 \n",
      " 9   OEM_Loyalty_Program          20 non-null     object\n",
      " 10  Finances_Status              20 non-null     object\n",
      " 11  CIBIL_Score                  20 non-null     int64 \n",
      " 12  Down_Payment                 20 non-null     int64 \n",
      " 13  Undecided_Finances           20 non-null     object\n",
      " 14  Special_Occasions            20 non-null     object\n",
      " 15  Booking_Lead_Time            20 non-null     object\n",
      " 16  Needs_Match                  20 non-null     object\n",
      " 17  Add_Ons                      20 non-null     object\n",
      " 18  Dealership_Engagement        20 non-null     object\n",
      " 19  Experience_With_Sales_Rep    20 non-null     object\n",
      " 20  Companion_Feedback           20 non-null     object\n",
      " 21  Stock_Status                 20 non-null     object\n",
      " 22  Delivery_Date_Status         20 non-null     object\n",
      " 23  Competitive_Factors          20 non-null     object\n",
      " 24  External_Factors             20 non-null     object\n",
      " 25  Customer_Satisfaction_Score  20 non-null     int64 \n",
      " 26  Cancellation_Probability     20 non-null     object\n",
      " 27  Vehicle_Type                 20 non-null     object\n",
      " 28  Test_Drive_Status            20 non-null     object\n",
      " 29  Preferred_Delivery_Time      20 non-null     object\n",
      "dtypes: int64(5), object(25)\n",
      "memory usage: 4.8+ KB\n"
     ]
    }
   ],
   "source": [
    "df = df.fillna('None')\n",
    "df.info()"
   ]
  },
  {
   "cell_type": "code",
   "execution_count": 4,
   "metadata": {},
   "outputs": [
    {
     "name": "stdout",
     "output_type": "stream",
     "text": [
      "bciindex\n",
      "0    15\n",
      "1     5\n",
      "Name: count, dtype: int64\n",
      "0    1\n",
      "1    0\n",
      "2    0\n",
      "3    0\n",
      "4    0\n",
      "Name: bciindex, dtype: int64\n"
     ]
    }
   ],
   "source": [
    "from rules import bci_rules, evaluate_condition\n",
    "\n",
    "def addTargetValue(row):\n",
    "    counts = 0\n",
    "    for i in range(len(bci_rules)):\n",
    "        if evaluate_condition(row[bci_rules[i]['value']], bci_rules[i][\"condition\"]):\n",
    "            counts += 1\n",
    "    if counts >= 10:\n",
    "        return 1\n",
    "    return 0\n",
    "\n",
    "df['bciindex'] = df.apply(lambda row: addTargetValue(row), axis=1)\n",
    "print(df['bciindex'].value_counts())\n",
    "print(df['bciindex'].head())"
   ]
  },
  {
   "cell_type": "code",
   "execution_count": 5,
   "metadata": {},
   "outputs": [
    {
     "name": "stdout",
     "output_type": "stream",
     "text": [
      "0    2\n",
      "1    1\n",
      "2    1\n",
      "3    1\n",
      "4    1\n",
      "Name: Add_Ons, dtype: int64\n",
      "Index(['Age', 'Income', 'CIBIL_Score', 'Down_Payment', 'Booking_Lead_Time',\n",
      "       'Add_Ons', 'Customer_Satisfaction_Score', 'bciindex'],\n",
      "      dtype='object')\n"
     ]
    }
   ],
   "source": [
    "def checkRows(row):\n",
    "    row['Booking_Lead_Time'] = int(row['Booking_Lead_Time'].replace(' days', ''))\n",
    "    row['Add_Ons'] = len(row['Add_Ons'].replace(' ', '').split(';'))\n",
    "    return row\n",
    "\n",
    "df = df.apply(checkRows, axis=1)\n",
    "print(df['Add_Ons'].head())\n",
    "df_filtered = df.select_dtypes(include=['int64', 'float64', 'datetime64[ns]'])\n",
    "print(df_filtered.columns)"
   ]
  },
  {
   "cell_type": "code",
   "execution_count": 6,
   "metadata": {},
   "outputs": [
    {
     "data": {
      "text/plain": [
       "0      KID\n",
       "1    YOUNG\n",
       "2      OLD\n",
       "3      KID\n",
       "4      OLD\n",
       "Name: Age, dtype: category\n",
       "Categories (3, object): ['KID' < 'YOUNG' < 'OLD']"
      ]
     },
     "execution_count": 6,
     "metadata": {},
     "output_type": "execute_result"
    }
   ],
   "source": [
    "age_labels = ['KID', 'YOUNG', 'OLD']\n",
    "df['Age'] = pd.cut(df['Age'], bins=3, labels=age_labels)\n",
    "df['Age'].head()"
   ]
  },
  {
   "cell_type": "code",
   "execution_count": 7,
   "metadata": {},
   "outputs": [
    {
     "data": {
      "text/html": [
       "<div>\n",
       "<style scoped>\n",
       "    .dataframe tbody tr th:only-of-type {\n",
       "        vertical-align: middle;\n",
       "    }\n",
       "\n",
       "    .dataframe tbody tr th {\n",
       "        vertical-align: top;\n",
       "    }\n",
       "\n",
       "    .dataframe thead th {\n",
       "        text-align: right;\n",
       "    }\n",
       "</style>\n",
       "<table border=\"1\" class=\"dataframe\">\n",
       "  <thead>\n",
       "    <tr style=\"text-align: right;\">\n",
       "      <th></th>\n",
       "      <th>Income</th>\n",
       "      <th>CIBIL_Score</th>\n",
       "      <th>Down_Payment</th>\n",
       "      <th>Booking_Lead_Time</th>\n",
       "      <th>Add_Ons</th>\n",
       "      <th>Customer_Satisfaction_Score</th>\n",
       "    </tr>\n",
       "  </thead>\n",
       "  <tbody>\n",
       "    <tr>\n",
       "      <th>0</th>\n",
       "      <td>MEDIUM</td>\n",
       "      <td>MEDIUM</td>\n",
       "      <td>LOW</td>\n",
       "      <td>LOW</td>\n",
       "      <td>HIGH</td>\n",
       "      <td>HIGH</td>\n",
       "    </tr>\n",
       "    <tr>\n",
       "      <th>1</th>\n",
       "      <td>HIGH</td>\n",
       "      <td>HIGH</td>\n",
       "      <td>HIGH</td>\n",
       "      <td>MEDIUM</td>\n",
       "      <td>LOW</td>\n",
       "      <td>MEDIUM</td>\n",
       "    </tr>\n",
       "    <tr>\n",
       "      <th>2</th>\n",
       "      <td>MEDIUM</td>\n",
       "      <td>LOW</td>\n",
       "      <td>LOW</td>\n",
       "      <td>LOW</td>\n",
       "      <td>LOW</td>\n",
       "      <td>LOW</td>\n",
       "    </tr>\n",
       "    <tr>\n",
       "      <th>3</th>\n",
       "      <td>LOW</td>\n",
       "      <td>LOW</td>\n",
       "      <td>LOW</td>\n",
       "      <td>LOW</td>\n",
       "      <td>LOW</td>\n",
       "      <td>HIGH</td>\n",
       "    </tr>\n",
       "    <tr>\n",
       "      <th>4</th>\n",
       "      <td>HIGH</td>\n",
       "      <td>HIGH</td>\n",
       "      <td>HIGH</td>\n",
       "      <td>HIGH</td>\n",
       "      <td>LOW</td>\n",
       "      <td>HIGH</td>\n",
       "    </tr>\n",
       "  </tbody>\n",
       "</table>\n",
       "</div>"
      ],
      "text/plain": [
       "   Income CIBIL_Score Down_Payment Booking_Lead_Time Add_Ons  \\\n",
       "0  MEDIUM      MEDIUM          LOW               LOW    HIGH   \n",
       "1    HIGH        HIGH         HIGH            MEDIUM     LOW   \n",
       "2  MEDIUM         LOW          LOW               LOW     LOW   \n",
       "3     LOW         LOW          LOW               LOW     LOW   \n",
       "4    HIGH        HIGH         HIGH              HIGH     LOW   \n",
       "\n",
       "  Customer_Satisfaction_Score  \n",
       "0                        HIGH  \n",
       "1                      MEDIUM  \n",
       "2                         LOW  \n",
       "3                        HIGH  \n",
       "4                        HIGH  "
      ]
     },
     "execution_count": 7,
     "metadata": {},
     "output_type": "execute_result"
    }
   ],
   "source": [
    "other_labels = ['LOW', 'MEDIUM', 'HIGH']\n",
    "df_filtered = df_filtered.drop(['Age', 'bciindex'], axis=1)\n",
    "for i in df_filtered.columns:\n",
    "    df[i] = pd.cut(df[i], bins=3, labels=other_labels)\n",
    "# df[df_filtered.columns] = pd.cut(df[df_filtered.columns], bins=3, labels=other_labels)\n",
    "df[df_filtered.columns].head()"
   ]
  },
  {
   "cell_type": "code",
   "execution_count": 8,
   "metadata": {},
   "outputs": [
    {
     "data": {
      "text/html": [
       "<div>\n",
       "<style scoped>\n",
       "    .dataframe tbody tr th:only-of-type {\n",
       "        vertical-align: middle;\n",
       "    }\n",
       "\n",
       "    .dataframe tbody tr th {\n",
       "        vertical-align: top;\n",
       "    }\n",
       "\n",
       "    .dataframe thead th {\n",
       "        text-align: right;\n",
       "    }\n",
       "</style>\n",
       "<table border=\"1\" class=\"dataframe\">\n",
       "  <thead>\n",
       "    <tr style=\"text-align: right;\">\n",
       "      <th></th>\n",
       "      <th>bciindex</th>\n",
       "    </tr>\n",
       "  </thead>\n",
       "  <tbody>\n",
       "    <tr>\n",
       "      <th>count</th>\n",
       "      <td>20.000000</td>\n",
       "    </tr>\n",
       "    <tr>\n",
       "      <th>mean</th>\n",
       "      <td>0.250000</td>\n",
       "    </tr>\n",
       "    <tr>\n",
       "      <th>std</th>\n",
       "      <td>0.444262</td>\n",
       "    </tr>\n",
       "    <tr>\n",
       "      <th>min</th>\n",
       "      <td>0.000000</td>\n",
       "    </tr>\n",
       "    <tr>\n",
       "      <th>25%</th>\n",
       "      <td>0.000000</td>\n",
       "    </tr>\n",
       "    <tr>\n",
       "      <th>50%</th>\n",
       "      <td>0.000000</td>\n",
       "    </tr>\n",
       "    <tr>\n",
       "      <th>75%</th>\n",
       "      <td>0.250000</td>\n",
       "    </tr>\n",
       "    <tr>\n",
       "      <th>max</th>\n",
       "      <td>1.000000</td>\n",
       "    </tr>\n",
       "  </tbody>\n",
       "</table>\n",
       "</div>"
      ],
      "text/plain": [
       "        bciindex\n",
       "count  20.000000\n",
       "mean    0.250000\n",
       "std     0.444262\n",
       "min     0.000000\n",
       "25%     0.000000\n",
       "50%     0.000000\n",
       "75%     0.250000\n",
       "max     1.000000"
      ]
     },
     "execution_count": 8,
     "metadata": {},
     "output_type": "execute_result"
    }
   ],
   "source": [
    "df.describe()"
   ]
  },
  {
   "cell_type": "code",
   "execution_count": 9,
   "metadata": {},
   "outputs": [],
   "source": [
    "# from scipy import stats\n",
    "\n",
    "# first_time_buyers = df[df['First_Time_Buyer'] == 'Yes']['Customer_Satisfaction_Score']\n",
    "# repeat_customers = df[df['First_Time_Buyer'] == 'No']['Customer_Satisfaction_Score']\n",
    "\n",
    "# t_statistic, p_value = stats.ttest_ind(first_time_buyers, repeat_customers)\n",
    "\n",
    "# print(f\"T-statistic: {t_statistic}, P-value: {p_value}\")"
   ]
  },
  {
   "cell_type": "code",
   "execution_count": 10,
   "metadata": {},
   "outputs": [],
   "source": [
    "# Drop Unwanted \n",
    "unwanted_columns = ['Lead_ID', 'Booking_ID', 'Customer name', 'Location']\n",
    "df = df.drop(unwanted_columns, axis=1)\n"
   ]
  },
  {
   "cell_type": "code",
   "execution_count": 11,
   "metadata": {},
   "outputs": [
    {
     "name": "stdout",
     "output_type": "stream",
     "text": [
      "bciindex ~ C(Lead_Source) + C(First_Time_Buyer) + C(Age) + C(Gender) + C(Income) + C(OEM_Loyalty_Program) + C(Finances_Status) + C(CIBIL_Score) + C(Down_Payment) + C(Undecided_Finances) + C(Special_Occasions) + C(Booking_Lead_Time) + C(Needs_Match) + C(Add_Ons) + C(Dealership_Engagement) + C(Experience_With_Sales_Rep) + C(Companion_Feedback) + C(Stock_Status) + C(Delivery_Date_Status) + C(Competitive_Factors) + C(External_Factors) + C(Customer_Satisfaction_Score) + C(Cancellation_Probability) + C(Vehicle_Type) + C(Test_Drive_Status) + C(Preferred_Delivery_Time)\n"
     ]
    }
   ],
   "source": [
    "df_filtered = df.select_dtypes(exclude=['int64', 'float64', 'datetime64[ns]'])\n",
    "filtered_columns = [f'C({item})' for item in df_filtered.columns]\n",
    "logit_formula = 'bciindex ~ ' + ' + '.join(filtered_columns)\n",
    "print(logit_formula)"
   ]
  },
  {
   "cell_type": "code",
   "execution_count": 12,
   "metadata": {},
   "outputs": [
    {
     "name": "stdout",
     "output_type": "stream",
     "text": [
      "Chi-Square Statistic: 3.4814814814814814\n",
      "P-value: 0.17539043364728615\n",
      "Degrees of Freedom: 2\n",
      "Expected Frequencies: [[6.75 6.   2.25]\n",
      " [2.25 2.   0.75]]\n",
      "You can remove that features Index(['Age'], dtype='object')\n"
     ]
    }
   ],
   "source": [
    "import numpy as np\n",
    "from scipy.stats import chi2_contingency\n",
    "\n",
    "def cramers_v(confusion_matrix):\n",
    "    chi2_stat, p_value, dof, expected = chi2_contingency(confusion_matrix)\n",
    "    n = confusion_matrix.sum()\n",
    "    phi2 = chi2_stat / n\n",
    "    r, k = confusion_matrix.shape\n",
    "    return np.sqrt(phi2 / min(k-1, r-1))\n",
    "\n",
    "new_df = df.copy()\n",
    "new_df[df_filtered.columns] = new_df[df_filtered.columns].apply(lambda x: x.astype('category'))\n",
    "# sample_df = new_df.sample(frac=0.03, random_state=42)\n",
    "column_names = df_filtered.columns[2:3]\n",
    "data = pd.crosstab(new_df['bciindex'], [new_df[col] for col in column_names])\n",
    "v = cramers_v(data.values)\n",
    "# print(data.describe())\n",
    "chi2, p, dof, expected = chi2_contingency(data)\n",
    "\n",
    "print(\"Chi-Square Statistic:\", chi2)\n",
    "print(\"P-value:\", p)\n",
    "print(\"Degrees of Freedom:\", dof)\n",
    "print(\"Expected Frequencies:\", expected)\n",
    "\n",
    "if p < 0.05:\n",
    "    print(\"You don't have to remove that features\")\n",
    "else:\n",
    "    print(\"You can remove that features\" , column_names)\n",
    "\n",
    "if v > 0.5:\n",
    "    print('You need to remove features as per Cramer_v as well')"
   ]
  },
  {
   "cell_type": "code",
   "execution_count": 13,
   "metadata": {},
   "outputs": [],
   "source": [
    "# from imblearn.over_sampling import SMOTENC\n",
    "# categorical_columns = df.drop(['bciindex'], axis=1)\n",
    "# data_encoded = pd.get_dummies(df, columns=categorical_columns.columns, drop_first=True)\n",
    "# # corr_matrix = data_encoded.corr()\n",
    "\n",
    "# X = data_encoded.drop('bciindex', axis=1)\n",
    "# y = data_encoded['bciindex']\n",
    "\n",
    "# # List of indices of categorical columns in your dataset\n",
    "# categorical_features_indices = [i for i, col in enumerate(X.columns) if col in categorical_columns]\n",
    "\n",
    "# # Apply SMOTENC\n",
    "# smote = SMOTENC(categorical_features=categorical_features_indices, random_state=42)\n",
    "# X_resampled, y_resampled = smote.fit_resample(X, y)"
   ]
  },
  {
   "cell_type": "code",
   "execution_count": 14,
   "metadata": {},
   "outputs": [
    {
     "name": "stdout",
     "output_type": "stream",
     "text": [
      "Optimization terminated successfully.\n",
      "         Current function value: 0.000012\n",
      "         Iterations: 20\n",
      "         Function evaluations: 90\n",
      "         Gradient evaluations: 90\n",
      "                           Logit Regression Results                           \n",
      "==============================================================================\n",
      "Dep. Variable:               bciindex   No. Observations:                   20\n",
      "Model:                          Logit   Df Residuals:                        1\n",
      "Method:                           MLE   Df Model:                           18\n",
      "Date:                Mon, 24 Feb 2025   Pseudo R-squ.:                   1.000\n",
      "Time:                        17:06:09   Log-Likelihood:            -0.00024012\n",
      "converged:                       True   LL-Null:                       -11.247\n",
      "Covariance Type:            nonrobust   LLR p-value:                    0.2108\n",
      "============================================================================================================\n",
      "                                               coef    std err          z      P>|z|      [0.025      0.975]\n",
      "------------------------------------------------------------------------------------------------------------\n",
      "Intercept                                   -3.5823        nan        nan        nan         nan         nan\n",
      "C(Lead_Source)[T.Referral]                  -4.5608        nan        nan        nan         nan         nan\n",
      "C(Lead_Source)[T.Walk-in]                   -4.5760        nan        nan        nan         nan         nan\n",
      "C(First_Time_Buyer)[T.Yes]                   1.8418        nan        nan        nan         nan         nan\n",
      "C(Age)[T.YOUNG]                              3.3375        nan        nan        nan         nan         nan\n",
      "C(Age)[T.OLD]                               -2.7672        nan        nan        nan         nan         nan\n",
      "C(Gender)[T.Male]                            2.3565        nan        nan        nan         nan         nan\n",
      "C(Income)[T.MEDIUM]                         -0.8730        nan        nan        nan         nan         nan\n",
      "C(Income)[T.HIGH]                           -0.1086        nan        nan        nan         nan         nan\n",
      "C(OEM_Loyalty_Program)[T.Yes]                5.0006        nan        nan        nan         nan         nan\n",
      "C(Finances_Status)[T.Cash Purchase]         -0.1288        nan        nan        nan         nan         nan\n",
      "C(Finances_Status)[T.Pending Loans]         -3.8348        nan        nan        nan         nan         nan\n",
      "C(Finances_Status)[T.Undecided]             -3.2909        nan        nan        nan         nan         nan\n",
      "C(CIBIL_Score)[T.MEDIUM]                     1.7006        nan        nan        nan         nan         nan\n",
      "C(CIBIL_Score)[T.HIGH]                       1.6100        nan        nan        nan         nan         nan\n",
      "C(Down_Payment)[T.MEDIUM]                   -1.5268        nan        nan        nan         nan         nan\n",
      "C(Down_Payment)[T.HIGH]                      2.4322        nan        nan        nan         nan         nan\n",
      "C(Undecided_Finances)[T.Yes]                -5.1419        nan        nan        nan         nan         nan\n",
      "C(Special_Occasions)[T.None]                -2.8370        nan        nan        nan         nan         nan\n",
      "C(Special_Occasions)[T.Wedding]              0.0141        nan        nan        nan         nan         nan\n",
      "C(Booking_Lead_Time)[T.MEDIUM]              -1.8003        nan        nan        nan         nan         nan\n",
      "C(Booking_Lead_Time)[T.HIGH]                -4.6848        nan        nan        nan         nan         nan\n",
      "C(Needs_Match)[T.Low]                       -0.4353        nan        nan        nan         nan         nan\n",
      "C(Needs_Match)[T.Medium]                    -1.7579        nan        nan        nan         nan         nan\n",
      "C(Add_Ons)[T.MEDIUM]                              0        nan        nan        nan         nan         nan\n",
      "C(Add_Ons)[T.HIGH]                          -2.1588        nan        nan        nan         nan         nan\n",
      "C(Dealership_Engagement)[T.Low]             -0.6951        nan        nan        nan         nan         nan\n",
      "C(Dealership_Engagement)[T.Medium]          -1.5220        nan        nan        nan         nan         nan\n",
      "C(Experience_With_Sales_Rep)[T.Neutral]     -1.3944        nan        nan        nan         nan         nan\n",
      "C(Experience_With_Sales_Rep)[T.Positive]    -1.6137        nan        nan        nan         nan         nan\n",
      "C(Companion_Feedback)[T.Neutral]            -7.2836        nan        nan        nan         nan         nan\n",
      "C(Companion_Feedback)[T.Positive]            3.9729        nan        nan        nan         nan         nan\n",
      "C(Stock_Status)[T.Unavailable]              -1.7613        nan        nan        nan         nan         nan\n",
      "C(Delivery_Date_Status)[T.On-Time]           1.2461        nan        nan        nan         nan         nan\n",
      "C(Competitive_Factors)[T.Low]                1.6560        nan        nan        nan         nan         nan\n",
      "C(Competitive_Factors)[T.Medium]            -1.4974        nan        nan        nan         nan         nan\n",
      "C(External_Factors)[T.Low]                   0.0931        nan        nan        nan         nan         nan\n",
      "C(External_Factors)[T.Medium]                0.1593        nan        nan        nan         nan         nan\n",
      "C(Customer_Satisfaction_Score)[T.MEDIUM]    -0.5689        nan        nan        nan         nan         nan\n",
      "C(Customer_Satisfaction_Score)[T.HIGH]       0.7275        nan        nan        nan         nan         nan\n",
      "C(Cancellation_Probability)[T.Low]           1.8204        nan        nan        nan         nan         nan\n",
      "C(Cancellation_Probability)[T.Medium]       -1.9216        nan        nan        nan         nan         nan\n",
      "C(Vehicle_Type)[T.SUV]                      -1.3922        nan        nan        nan         nan         nan\n",
      "C(Vehicle_Type)[T.Sedan]                    -1.5220        nan        nan        nan         nan         nan\n",
      "C(Test_Drive_Status)[T.Not Taken]           -4.9802        nan        nan        nan         nan         nan\n",
      "C(Preferred_Delivery_Time)[T.Evening]       -4.5608        nan        nan        nan         nan         nan\n",
      "C(Preferred_Delivery_Time)[T.Morning]        1.6806        nan        nan        nan         nan         nan\n",
      "============================================================================================================\n",
      "\n",
      "Complete Separation: The results show that there iscomplete separation or perfect prediction.\n",
      "In this case the Maximum Likelihood Estimator does not exist and the parameters\n",
      "are not identified.\n"
     ]
    },
    {
     "name": "stderr",
     "output_type": "stream",
     "text": [
      "c:\\Users\\mukulkathuria\\Documents\\mlprac\\driveai\\bciindexanalysis\\bcienv\\Lib\\site-packages\\statsmodels\\base\\model.py:595: HessianInversionWarning: Inverting hessian failed, no bse or cov_params available\n",
      "  warnings.warn('Inverting hessian failed, no bse or cov_params '\n"
     ]
    }
   ],
   "source": [
    "import statsmodels.api as sm\n",
    "sm.add_constant(df[df_filtered.columns])\n",
    "logit_model = sm.Logit.from_formula(logit_formula , df)\n",
    "# weights = y.apply(lambda x: 1 if x == 1 else 0.5)\n",
    "fitted_model = logit_model.fit(method='cg', skip_hessian=False)\n",
    "print(fitted_model.summary())"
   ]
  },
  {
   "cell_type": "code",
   "execution_count": 15,
   "metadata": {},
   "outputs": [
    {
     "data": {
      "image/png": "[encoded data removed]",
      "text/plain": [
       "<Figure size 640x480 with 1 Axes>"
      ]
     },
     "metadata": {},
     "output_type": "display_data"
    }
   ],
   "source": [
    "import matplotlib.pyplot as plt\n",
    "coefficients = fitted_model.params\n",
    "\n",
    "coefficients.drop('Intercept').plot(kind='bar', color='skyblue')\n",
    "\n",
    "plt.title('Logistic Regression Coefficients')\n",
    "plt.xlabel('Predictors')\n",
    "plt.ylabel('Coefficient Value')\n",
    "plt.xticks(fontsize=6)\n",
    "\n",
    "plt.tight_layout()\n",
    "# Display the plot\n",
    "plt.show()"
   ]
  },
  {
   "cell_type": "code",
   "execution_count": 16,
   "metadata": {},
   "outputs": [
    {
     "name": "stdout",
     "output_type": "stream",
     "text": [
      "Preparation of a new explainer is initiated\n",
      "\n",
      "  -> data              : 20 rows 26 cols\n",
      "  -> target variable   : Parameter 'y' was a pandas.Series. Converted to a numpy.ndarray.\n",
      "  -> target variable   : 20 values\n",
      "  -> model_class       : statsmodels.discrete.discrete_model.BinaryResultsWrapper (default)\n",
      "  -> label             : Not specified, model's class short name will be used. (default)\n",
      "  -> predict function  : <function yhat_default at 0x0000028CBF598C20> will be used (default)\n",
      "  -> predict function  : Accepts only pandas.DataFrame, numpy.ndarray causes problems.\n",
      "  -> predicted values  : min = 6.83e-17, mean = 0.25, max = 1.0\n",
      "  -> model type        : regression will be used (default)\n",
      "  -> residual function : difference between y and yhat (default)\n",
      "  -> residuals         : min = -5.75e-05, mean = 1.12e-06, max = 4.03e-05\n",
      "  -> model_info        : package statsmodels\n",
      "\n",
      "A new explainer has been created!\n"
     ]
    },
    {
     "name": "stderr",
     "output_type": "stream",
     "text": [
      "c:\\Users\\mukulkathuria\\Documents\\mlprac\\driveai\\bciindexanalysis\\bcienv\\Lib\\site-packages\\dalex\\_explainer\\object.py:138: UserWarning: \n",
      "  -> predicted values  : 'predict_function' must return numpy.ndarray (1d)\n",
      "  checks.check_predict_function_and_model_type(predict_function, model_type,\n"
     ]
    },
    {
     "data": {
      "application/vnd.plotly.v1+json": {
       "config": {
        "displaylogo": false,
        "modeBarButtonsToRemove": [
         "sendDataToCloud",
         "lasso2d",
         "autoScale2d",
         "select2d",
         "zoom2d",
         "pan2d",
         "zoomIn2d",
         "zoomOut2d",
         "resetScale2d",
         "toggleSpikelines",
         "hoverCompareCartesian",
         "hoverClosestCartesian"
        ],
        "plotlyServerURL": "https://plot.ly",
        "staticPlot": false,
        "toImageButtonOptions": {
         "height": null,
         "width": null
        }
       },
       "data": [
        {
         "base": 0.24999888016276167,
         "connector": {
          "line": {
           "color": "#371ea3",
           "dash": "solid",
           "width": 1
          },
          "mode": "spanning"
         },
         "decreasing": {
          "marker": {
           "color": "#f05a71"
          }
         },
         "hoverinfo": "text+delta",
         "hoverlabel": {
          "bgcolor": "rgba(0,0,0,0.8)"
         },
         "hovertext": [
          "Average response: 0.25<br>Prediction: 1.0",
          "Companion_Feedback = Positive<br>increases average response by",
          "Test_Drive_Status = Completed<br>increases average response by",
          "Lead_Source = Online<br>increases average response by",
          "Booking_Lead_Time = LOW<br>increases average response by",
          "OEM_Loyalty_Program = Yes<br>increases average response by",
          "Undecided_Finances = No<br>increases average response by",
          "Preferred_Delivery_Time = Morning<br>increases average response by",
          "Special_Occasions = Festival<br>increases average response by",
          "Age = KID<br>decreases average response by",
          "Finances_Status = Approved Loans<br>increases average response by",
          "+ all other factors<br>increases average response by",
          "Average response: 0.25<br>Prediction: 1.0"
         ],
         "increasing": {
          "marker": {
           "color": "#8bdcbe"
          }
         },
         "measure": [
          "relative",
          "relative",
          "relative",
          "relative",
          "relative",
          "relative",
          "relative",
          "relative",
          "relative",
          "relative",
          "relative",
          "relative",
          "total"
         ],
         "orientation": "h",
         "showlegend": false,
         "text": [
          "0.25",
          "+0.045",
          "+0.027",
          "+0.052",
          "+0.035",
          "+0.099",
          "+0.081",
          "+0.136",
          "+0.049",
          "-0.071",
          "+0.094",
          "+0.205",
          "1.0"
         ],
         "textposition": "outside",
         "totals": {
          "marker": {
           "color": "#371ea3"
          }
         },
         "type": "waterfall",
         "x": [
          0,
          0.045,
          0.027,
          0.052,
          0.035,
          0.099,
          0.081,
          0.136,
          0.049,
          -0.071,
          0.094,
          0.205,
          0.75
         ],
         "xaxis": "x",
         "y": [
          "intercept",
          "Companion_Feedback = Positive",
          "Test_Drive_Status = Completed",
          "Lead_Source = Online",
          "Booking_Lead_Time = LOW",
          "OEM_Loyalty_Program = Yes",
          "Undecided_Finances = No",
          "Preferred_Delivery_Time = Morning",
          "Special_Occasions = Festival",
          "Age = KID",
          "Finances_Status = Approved Loans",
          "+ all other factors",
          "prediction"
         ],
         "yaxis": "y"
        }
       ],
       "layout": {
        "annotations": [
         {
          "font": {
           "size": 16
          },
          "showarrow": false,
          "text": "BinaryResultsWrapper",
          "x": 0.5,
          "xanchor": "center",
          "xref": "paper",
          "y": 1,
          "yanchor": "bottom",
          "yref": "paper"
         },
         {
          "font": {
           "size": 16
          },
          "showarrow": false,
          "text": "contribution",
          "x": 0.5,
          "xanchor": "center",
          "xref": "paper",
          "y": 0,
          "yanchor": "top",
          "yref": "paper",
          "yshift": -30
         }
        ],
        "font": {
         "color": "#371ea3"
        },
        "height": 413,
        "margin": {
         "b": 71,
         "r": 30,
         "t": 78
        },
        "shapes": [
         {
          "line": {
           "color": "#371ea3",
           "dash": "dot",
           "width": 1.5
          },
          "type": "line",
          "x0": 0.24999888016276167,
          "x1": 0.24999888016276167,
          "xref": "x",
          "y0": -1,
          "y1": 13,
          "yref": "y"
         }
        ],
        "template": {
         "data": {
          "scatter": [
           {
            "type": "scatter"
           }
          ]
         }
        },
        "title": {
         "text": "Aditi Joshi",
         "x": 0.15
        },
        "xaxis": {
         "anchor": "y",
         "automargin": true,
         "domain": [
          0,
          1
         ],
         "fixedrange": true,
         "gridwidth": 2,
         "range": [
          0.1375,
          1.1125
         ],
         "tickcolor": "white",
         "ticklen": 3,
         "ticks": "outside",
         "type": "linear",
         "zeroline": false
        },
        "yaxis": {
         "anchor": "x",
         "automargin": true,
         "autorange": "reversed",
         "domain": [
          0,
          1
         ],
         "fixedrange": true,
         "gridwidth": 2,
         "tickcolor": "white",
         "ticklen": 10,
         "ticks": "outside",
         "type": "category"
        }
       }
      }
     },
     "metadata": {},
     "output_type": "display_data"
    },
    {
     "data": {
      "application/vnd.plotly.v1+json": {
       "config": {
        "displaylogo": false,
        "modeBarButtonsToRemove": [
         "sendDataToCloud",
         "lasso2d",
         "autoScale2d",
         "select2d",
         "zoom2d",
         "pan2d",
         "zoomIn2d",
         "zoomOut2d",
         "resetScale2d",
         "toggleSpikelines",
         "hoverCompareCartesian",
         "hoverClosestCartesian"
        ],
        "plotlyServerURL": "https://plot.ly",
        "staticPlot": false,
        "toImageButtonOptions": {
         "height": null,
         "width": null
        }
       },
       "data": [
        {
         "base": 0.24999888016276167,
         "connector": {
          "line": {
           "color": "#371ea3",
           "dash": "solid",
           "width": 1
          },
          "mode": "spanning"
         },
         "decreasing": {
          "marker": {
           "color": "#f05a71"
          }
         },
         "hoverinfo": "text+delta",
         "hoverlabel": {
          "bgcolor": "rgba(0,0,0,0.8)"
         },
         "hovertext": [
          "Average response: 0.25<br>Prediction: 0.0",
          "Age = YOUNG<br>increases average response by",
          "Undecided_Finances = No<br>increases average response by",
          "Down_Payment = HIGH<br>increases average response by",
          "Special_Occasions = Wedding<br>increases average response by",
          "Gender = Male<br>increases average response by",
          "Booking_Lead_Time = MEDIUM<br>decreases average response by",
          "Finances_Status = Cash Purchase<br>increases average response by",
          "Add_Ons = LOW<br>increases average response by",
          "CIBIL_Score = HIGH<br>increases average response by",
          "Preferred_Delivery_Time = Afternoon<br>decreases average response by",
          "+ all other factors<br>decreases average response by",
          "Average response: 0.25<br>Prediction: 0.0"
         ],
         "increasing": {
          "marker": {
           "color": "#8bdcbe"
          }
         },
         "measure": [
          "relative",
          "relative",
          "relative",
          "relative",
          "relative",
          "relative",
          "relative",
          "relative",
          "relative",
          "relative",
          "relative",
          "relative",
          "total"
         ],
         "orientation": "h",
         "showlegend": false,
         "text": [
          "0.25",
          "+0.001",
          "+0.008",
          "+0.045",
          "+0.015",
          "+0.038",
          "-0.003",
          "+0.111",
          "+0.008",
          "+0.04",
          "-0.007",
          "-0.506",
          "0.0"
         ],
         "textposition": "outside",
         "totals": {
          "marker": {
           "color": "#371ea3"
          }
         },
         "type": "waterfall",
         "x": [
          0,
          0.001,
          0.008,
          0.045,
          0.015,
          0.038,
          -0.003,
          0.111,
          0.008,
          0.04,
          -0.007,
          -0.506,
          -0.25
         ],
         "xaxis": "x",
         "y": [
          "intercept",
          "Age = YOUNG",
          "Undecided_Finances = No",
          "Down_Payment = HIGH",
          "Special_Occasions = Wedding",
          "Gender = Male",
          "Booking_Lead_Time = MEDIUM",
          "Finances_Status = Cash Purchase",
          "Add_Ons = LOW",
          "CIBIL_Score = HIGH",
          "Preferred_Delivery_Time = Afternoon",
          "+ all other factors",
          "prediction"
         ],
         "yaxis": "y"
        }
       ],
       "layout": {
        "annotations": [
         {
          "font": {
           "size": 16
          },
          "showarrow": false,
          "text": "BinaryResultsWrapper",
          "x": 0.5,
          "xanchor": "center",
          "xref": "paper",
          "y": 1,
          "yanchor": "bottom",
          "yref": "paper"
         },
         {
          "font": {
           "size": 16
          },
          "showarrow": false,
          "text": "contribution",
          "x": 0.5,
          "xanchor": "center",
          "xref": "paper",
          "y": 0,
          "yanchor": "top",
          "yref": "paper",
          "yshift": -30
         }
        ],
        "font": {
         "color": "#371ea3"
        },
        "height": 413,
        "margin": {
         "b": 71,
         "r": 30,
         "t": 78
        },
        "shapes": [
         {
          "line": {
           "color": "#371ea3",
           "dash": "dot",
           "width": 1.5
          },
          "type": "line",
          "x0": 0.24999888016276167,
          "x1": 0.24999888016276167,
          "xref": "x",
          "y0": -1,
          "y1": 13,
          "yref": "y"
         }
        ],
        "template": {
         "data": {
          "scatter": [
           {
            "type": "scatter"
           }
          ]
         }
        },
        "title": {
         "text": "Rajesh Kumar",
         "x": 0.15
        },
        "xaxis": {
         "anchor": "y",
         "automargin": true,
         "domain": [
          0,
          1
         ],
         "fixedrange": true,
         "gridwidth": 2,
         "range": [
          -0.07695,
          0.58995
         ],
         "tickcolor": "white",
         "ticklen": 3,
         "ticks": "outside",
         "type": "linear",
         "zeroline": false
        },
        "yaxis": {
         "anchor": "x",
         "automargin": true,
         "autorange": "reversed",
         "domain": [
          0,
          1
         ],
         "fixedrange": true,
         "gridwidth": 2,
         "tickcolor": "white",
         "ticklen": 10,
         "ticks": "outside",
         "type": "category"
        }
       }
      }
     },
     "metadata": {},
     "output_type": "display_data"
    },
    {
     "data": {
      "application/vnd.plotly.v1+json": {
       "config": {
        "displaylogo": false,
        "modeBarButtonsToRemove": [
         "sendDataToCloud",
         "lasso2d",
         "autoScale2d",
         "select2d",
         "zoom2d",
         "pan2d",
         "zoomIn2d",
         "zoomOut2d",
         "resetScale2d",
         "toggleSpikelines",
         "hoverCompareCartesian",
         "hoverClosestCartesian"
        ],
        "plotlyServerURL": "https://plot.ly",
        "staticPlot": false,
        "toImageButtonOptions": {
         "height": null,
         "width": null
        }
       },
       "data": [
        {
         "base": 0.24999888016276167,
         "connector": {
          "line": {
           "color": "#371ea3",
           "dash": "solid",
           "width": 1
          },
          "mode": "spanning"
         },
         "decreasing": {
          "marker": {
           "color": "#f05a71"
          }
         },
         "hoverinfo": "text+delta",
         "hoverlabel": {
          "bgcolor": "rgba(0,0,0,0.8)"
         },
         "hovertext": [
          "Average response: 0.25<br>Prediction: 0.0",
          "Companion_Feedback = Negative<br>increases average response by",
          "Test_Drive_Status = Completed<br>increases average response by",
          "Booking_Lead_Time = LOW<br>increases average response by",
          "OEM_Loyalty_Program = Yes<br>increases average response by",
          "Experience_With_Sales_Rep = Negative<br>increases average response by",
          "Vehicle_Type = Hatchback<br>increases average response by",
          "First_Time_Buyer = Yes<br>increases average response by",
          "Add_Ons = LOW<br>decreases average response by",
          "Stock_Status = Available<br>increases average response by",
          "Delivery_Date_Status = On-Time<br>increases average response by",
          "+ all other factors<br>decreases average response by",
          "Average response: 0.25<br>Prediction: 0.0"
         ],
         "increasing": {
          "marker": {
           "color": "#8bdcbe"
          }
         },
         "measure": [
          "relative",
          "relative",
          "relative",
          "relative",
          "relative",
          "relative",
          "relative",
          "relative",
          "relative",
          "relative",
          "relative",
          "relative",
          "total"
         ],
         "orientation": "h",
         "showlegend": false,
         "text": [
          "0.25",
          "+0.001",
          "+0.035",
          "+0.019",
          "+0.043",
          "+0.007",
          "+0.014",
          "+0.035",
          "0.0",
          "+0.021",
          "+0.009",
          "-0.433",
          "0.0"
         ],
         "textposition": "outside",
         "totals": {
          "marker": {
           "color": "#371ea3"
          }
         },
         "type": "waterfall",
         "x": [
          0,
          0.001,
          0.035,
          0.019,
          0.043,
          0.007,
          0.014,
          0.035,
          0,
          0.021,
          0.009,
          -0.433,
          -0.25
         ],
         "xaxis": "x",
         "y": [
          "intercept",
          "Companion_Feedback = Negative",
          "Test_Drive_Status = Completed",
          "Booking_Lead_Time = LOW",
          "OEM_Loyalty_Program = Yes",
          "Experience_With_Sales_Rep = Negative",
          "Vehicle_Type = Hatchback",
          "First_Time_Buyer = Yes",
          "Add_Ons = LOW",
          "Stock_Status = Available",
          "Delivery_Date_Status = On-Time",
          "+ all other factors",
          "prediction"
         ],
         "yaxis": "y"
        }
       ],
       "layout": {
        "annotations": [
         {
          "font": {
           "size": 16
          },
          "showarrow": false,
          "text": "BinaryResultsWrapper",
          "x": 0.5,
          "xanchor": "center",
          "xref": "paper",
          "y": 1,
          "yanchor": "bottom",
          "yref": "paper"
         },
         {
          "font": {
           "size": 16
          },
          "showarrow": false,
          "text": "contribution",
          "x": 0.5,
          "xanchor": "center",
          "xref": "paper",
          "y": 0,
          "yanchor": "top",
          "yref": "paper",
          "yshift": -30
         }
        ],
        "font": {
         "color": "#371ea3"
        },
        "height": 413,
        "margin": {
         "b": 71,
         "r": 30,
         "t": 78
        },
        "shapes": [
         {
          "line": {
           "color": "#371ea3",
           "dash": "dot",
           "width": 1.5
          },
          "type": "line",
          "x0": 0.24999888016276167,
          "x1": 0.24999888016276167,
          "xref": "x",
          "y0": -1,
          "y1": 13,
          "yref": "y"
         }
        ],
        "template": {
         "data": {
          "scatter": [
           {
            "type": "scatter"
           }
          ]
         }
        },
        "title": {
         "text": "Neha Patil",
         "x": 0.15
        },
        "xaxis": {
         "anchor": "y",
         "automargin": true,
         "domain": [
          0,
          1
         ],
         "fixedrange": true,
         "gridwidth": 2,
         "range": [
          -0.06495,
          0.49795
         ],
         "tickcolor": "white",
         "ticklen": 3,
         "ticks": "outside",
         "type": "linear",
         "zeroline": false
        },
        "yaxis": {
         "anchor": "x",
         "automargin": true,
         "autorange": "reversed",
         "domain": [
          0,
          1
         ],
         "fixedrange": true,
         "gridwidth": 2,
         "tickcolor": "white",
         "ticklen": 10,
         "ticks": "outside",
         "type": "category"
        }
       }
      }
     },
     "metadata": {},
     "output_type": "display_data"
    },
    {
     "data": {
      "application/vnd.plotly.v1+json": {
       "config": {
        "displaylogo": false,
        "modeBarButtonsToRemove": [
         "sendDataToCloud",
         "lasso2d",
         "autoScale2d",
         "select2d",
         "zoom2d",
         "pan2d",
         "zoomIn2d",
         "zoomOut2d",
         "resetScale2d",
         "toggleSpikelines",
         "hoverCompareCartesian",
         "hoverClosestCartesian"
        ],
        "plotlyServerURL": "https://plot.ly",
        "staticPlot": false,
        "toImageButtonOptions": {
         "height": null,
         "width": null
        }
       },
       "data": [
        {
         "base": 0.24999888016276167,
         "connector": {
          "line": {
           "color": "#371ea3",
           "dash": "solid",
           "width": 1
          },
          "mode": "spanning"
         },
         "decreasing": {
          "marker": {
           "color": "#f05a71"
          }
         },
         "hoverinfo": "text+delta",
         "hoverlabel": {
          "bgcolor": "rgba(0,0,0,0.8)"
         },
         "hovertext": [
          "Average response: 0.25<br>Prediction: 0.0",
          "Test_Drive_Status = Completed<br>decreases average response by",
          "Lead_Source = Online<br>increases average response by",
          "Booking_Lead_Time = LOW<br>increases average response by",
          "Preferred_Delivery_Time = Morning<br>increases average response by",
          "Special_Occasions = Festival<br>decreases average response by",
          "Age = KID<br>decreases average response by",
          "Gender = Male<br>increases average response by",
          "First_Time_Buyer = Yes<br>increases average response by",
          "Dealership_Engagement = High<br>increases average response by",
          "Add_Ons = LOW<br>increases average response by",
          "+ all other factors<br>decreases average response by",
          "Average response: 0.25<br>Prediction: 0.0"
         ],
         "increasing": {
          "marker": {
           "color": "#8bdcbe"
          }
         },
         "measure": [
          "relative",
          "relative",
          "relative",
          "relative",
          "relative",
          "relative",
          "relative",
          "relative",
          "relative",
          "relative",
          "relative",
          "relative",
          "total"
         ],
         "orientation": "h",
         "showlegend": false,
         "text": [
          "0.25",
          "0.0",
          "+0.022",
          "+0.035",
          "+0.016",
          "0.0",
          "-0.008",
          "+0.031",
          "+0.014",
          "+0.007",
          "+0.014",
          "-0.381",
          "0.0"
         ],
         "textposition": "outside",
         "totals": {
          "marker": {
           "color": "#371ea3"
          }
         },
         "type": "waterfall",
         "x": [
          0,
          0,
          0.022,
          0.035,
          0.016,
          0,
          -0.008,
          0.031,
          0.014,
          0.007,
          0.014,
          -0.381,
          -0.25
         ],
         "xaxis": "x",
         "y": [
          "intercept",
          "Test_Drive_Status = Completed",
          "Lead_Source = Online",
          "Booking_Lead_Time = LOW",
          "Preferred_Delivery_Time = Morning",
          "Special_Occasions = Festival",
          "Age = KID",
          "Gender = Male",
          "First_Time_Buyer = Yes",
          "Dealership_Engagement = High",
          "Add_Ons = LOW",
          "+ all other factors",
          "prediction"
         ],
         "yaxis": "y"
        }
       ],
       "layout": {
        "annotations": [
         {
          "font": {
           "size": 16
          },
          "showarrow": false,
          "text": "BinaryResultsWrapper",
          "x": 0.5,
          "xanchor": "center",
          "xref": "paper",
          "y": 1,
          "yanchor": "bottom",
          "yref": "paper"
         },
         {
          "font": {
           "size": 16
          },
          "showarrow": false,
          "text": "contribution",
          "x": 0.5,
          "xanchor": "center",
          "xref": "paper",
          "y": 0,
          "yanchor": "top",
          "yref": "paper",
          "yshift": -30
         }
        ],
        "font": {
         "color": "#371ea3"
        },
        "height": 413,
        "margin": {
         "b": 71,
         "r": 30,
         "t": 78
        },
        "shapes": [
         {
          "line": {
           "color": "#371ea3",
           "dash": "dot",
           "width": 1.5
          },
          "type": "line",
          "x0": 0.24999888016276167,
          "x1": 0.24999888016276167,
          "xref": "x",
          "y0": -1,
          "y1": 13,
          "yref": "y"
         }
        ],
        "template": {
         "data": {
          "scatter": [
           {
            "type": "scatter"
           }
          ]
         }
        },
        "title": {
         "text": "Vishal Reddy",
         "x": 0.15
        },
        "xaxis": {
         "anchor": "y",
         "automargin": true,
         "domain": [
          0,
          1
         ],
         "fixedrange": true,
         "gridwidth": 2,
         "range": [
          -0.05715,
          0.43815
         ],
         "tickcolor": "white",
         "ticklen": 3,
         "ticks": "outside",
         "type": "linear",
         "zeroline": false
        },
        "yaxis": {
         "anchor": "x",
         "automargin": true,
         "autorange": "reversed",
         "domain": [
          0,
          1
         ],
         "fixedrange": true,
         "gridwidth": 2,
         "tickcolor": "white",
         "ticklen": 10,
         "ticks": "outside",
         "type": "category"
        }
       }
      }
     },
     "metadata": {},
     "output_type": "display_data"
    },
    {
     "data": {
      "application/vnd.plotly.v1+json": {
       "config": {
        "displaylogo": false,
        "modeBarButtonsToRemove": [
         "sendDataToCloud",
         "lasso2d",
         "autoScale2d",
         "select2d",
         "zoom2d",
         "pan2d",
         "zoomIn2d",
         "zoomOut2d",
         "resetScale2d",
         "toggleSpikelines",
         "hoverCompareCartesian",
         "hoverClosestCartesian"
        ],
        "plotlyServerURL": "https://plot.ly",
        "staticPlot": false,
        "toImageButtonOptions": {
         "height": null,
         "width": null
        }
       },
       "data": [
        {
         "base": 0.24999888016276167,
         "connector": {
          "line": {
           "color": "#371ea3",
           "dash": "solid",
           "width": 1
          },
          "mode": "spanning"
         },
         "decreasing": {
          "marker": {
           "color": "#f05a71"
          }
         },
         "hoverinfo": "text+delta",
         "hoverlabel": {
          "bgcolor": "rgba(0,0,0,0.8)"
         },
         "hovertext": [
          "Average response: 0.25<br>Prediction: 0.0",
          "Companion_Feedback = Positive<br>increases average response by",
          "OEM_Loyalty_Program = Yes<br>increases average response by",
          "Undecided_Finances = No<br>increases average response by",
          "Down_Payment = HIGH<br>increases average response by",
          "Competitive_Factors = Low<br>increases average response by",
          "Finances_Status = Cash Purchase<br>increases average response by",
          "Cancellation_Probability = Low<br>increases average response by",
          "Add_Ons = LOW<br>decreases average response by",
          "CIBIL_Score = HIGH<br>increases average response by",
          "Preferred_Delivery_Time = Afternoon<br>increases average response by",
          "+ all other factors<br>decreases average response by",
          "Average response: 0.25<br>Prediction: 0.0"
         ],
         "increasing": {
          "marker": {
           "color": "#8bdcbe"
          }
         },
         "measure": [
          "relative",
          "relative",
          "relative",
          "relative",
          "relative",
          "relative",
          "relative",
          "relative",
          "relative",
          "relative",
          "relative",
          "relative",
          "total"
         ],
         "orientation": "h",
         "showlegend": false,
         "text": [
          "0.25",
          "+0.045",
          "+0.029",
          "+0.03",
          "+0.081",
          "+0.054",
          "+0.081",
          "+0.114",
          "0.0",
          "+0.036",
          "+0.127",
          "-0.847",
          "0.0"
         ],
         "textposition": "outside",
         "totals": {
          "marker": {
           "color": "#371ea3"
          }
         },
         "type": "waterfall",
         "x": [
          0,
          0.045,
          0.029,
          0.03,
          0.081,
          0.054,
          0.081,
          0.114,
          0,
          0.036,
          0.127,
          -0.847,
          -0.25
         ],
         "xaxis": "x",
         "y": [
          "intercept",
          "Companion_Feedback = Positive",
          "OEM_Loyalty_Program = Yes",
          "Undecided_Finances = No",
          "Down_Payment = HIGH",
          "Competitive_Factors = Low",
          "Finances_Status = Cash Purchase",
          "Cancellation_Probability = Low",
          "Add_Ons = LOW",
          "CIBIL_Score = HIGH",
          "Preferred_Delivery_Time = Afternoon",
          "+ all other factors",
          "prediction"
         ],
         "yaxis": "y"
        }
       ],
       "layout": {
        "annotations": [
         {
          "font": {
           "size": 16
          },
          "showarrow": false,
          "text": "BinaryResultsWrapper",
          "x": 0.5,
          "xanchor": "center",
          "xref": "paper",
          "y": 1,
          "yanchor": "bottom",
          "yref": "paper"
         },
         {
          "font": {
           "size": 16
          },
          "showarrow": false,
          "text": "contribution",
          "x": 0.5,
          "xanchor": "center",
          "xref": "paper",
          "y": 0,
          "yanchor": "top",
          "yref": "paper",
          "yshift": -30
         }
        ],
        "font": {
         "color": "#371ea3"
        },
        "height": 413,
        "margin": {
         "b": 71,
         "r": 30,
         "t": 78
        },
        "shapes": [
         {
          "line": {
           "color": "#371ea3",
           "dash": "dot",
           "width": 1.5
          },
          "type": "line",
          "x0": 0.24999888016276167,
          "x1": 0.24999888016276167,
          "xref": "x",
          "y0": -1,
          "y1": 13,
          "yref": "y"
         }
        ],
        "template": {
         "data": {
          "scatter": [
           {
            "type": "scatter"
           }
          ]
         }
        },
        "title": {
         "text": "Kavya Iyer",
         "x": 0.15
        },
        "xaxis": {
         "anchor": "y",
         "automargin": true,
         "domain": [
          0,
          1
         ],
         "fixedrange": true,
         "gridwidth": 2,
         "range": [
          -0.12705,
          0.97405
         ],
         "tickcolor": "white",
         "ticklen": 3,
         "ticks": "outside",
         "type": "linear",
         "zeroline": false
        },
        "yaxis": {
         "anchor": "x",
         "automargin": true,
         "autorange": "reversed",
         "domain": [
          0,
          1
         ],
         "fixedrange": true,
         "gridwidth": 2,
         "tickcolor": "white",
         "ticklen": 10,
         "ticks": "outside",
         "type": "category"
        }
       }
      }
     },
     "metadata": {},
     "output_type": "display_data"
    },
    {
     "data": {
      "application/vnd.plotly.v1+json": {
       "config": {
        "displaylogo": false,
        "modeBarButtonsToRemove": [
         "sendDataToCloud",
         "lasso2d",
         "autoScale2d",
         "select2d",
         "zoom2d",
         "pan2d",
         "zoomIn2d",
         "zoomOut2d",
         "resetScale2d",
         "toggleSpikelines",
         "hoverCompareCartesian",
         "hoverClosestCartesian"
        ],
        "plotlyServerURL": "https://plot.ly",
        "staticPlot": false,
        "toImageButtonOptions": {
         "height": null,
         "width": null
        }
       },
       "data": [
        {
         "base": 0.24999888016276167,
         "connector": {
          "line": {
           "color": "#371ea3",
           "dash": "solid",
           "width": 1
          },
          "mode": "spanning"
         },
         "decreasing": {
          "marker": {
           "color": "#f05a71"
          }
         },
         "hoverinfo": "text+delta",
         "hoverlabel": {
          "bgcolor": "rgba(0,0,0,0.8)"
         },
         "hovertext": [
          "Average response: 0.25<br>Prediction: 1.0",
          "Companion_Feedback = Positive<br>increases average response by",
          "Test_Drive_Status = Completed<br>increases average response by",
          "Lead_Source = Online<br>increases average response by",
          "OEM_Loyalty_Program = Yes<br>increases average response by",
          "Undecided_Finances = No<br>increases average response by",
          "Preferred_Delivery_Time = Morning<br>increases average response by",
          "Special_Occasions = Wedding<br>increases average response by",
          "Age = KID<br>decreases average response by",
          "Gender = Male<br>increases average response by",
          "Finances_Status = Approved Loans<br>increases average response by",
          "+ all other factors<br>increases average response by",
          "Average response: 0.25<br>Prediction: 1.0"
         ],
         "increasing": {
          "marker": {
           "color": "#8bdcbe"
          }
         },
         "measure": [
          "relative",
          "relative",
          "relative",
          "relative",
          "relative",
          "relative",
          "relative",
          "relative",
          "relative",
          "relative",
          "relative",
          "relative",
          "total"
         ],
         "orientation": "h",
         "showlegend": false,
         "text": [
          "0.25",
          "+0.045",
          "+0.027",
          "+0.052",
          "+0.078",
          "+0.061",
          "+0.159",
          "+0.07",
          "-0.079",
          "+0.025",
          "+0.077",
          "+0.234",
          "1.0"
         ],
         "textposition": "outside",
         "totals": {
          "marker": {
           "color": "#371ea3"
          }
         },
         "type": "waterfall",
         "x": [
          0,
          0.045,
          0.027,
          0.052,
          0.078,
          0.061,
          0.159,
          0.07,
          -0.079,
          0.025,
          0.077,
          0.234,
          0.75
         ],
         "xaxis": "x",
         "y": [
          "intercept",
          "Companion_Feedback = Positive",
          "Test_Drive_Status = Completed",
          "Lead_Source = Online",
          "OEM_Loyalty_Program = Yes",
          "Undecided_Finances = No",
          "Preferred_Delivery_Time = Morning",
          "Special_Occasions = Wedding",
          "Age = KID",
          "Gender = Male",
          "Finances_Status = Approved Loans",
          "+ all other factors",
          "prediction"
         ],
         "yaxis": "y"
        }
       ],
       "layout": {
        "annotations": [
         {
          "font": {
           "size": 16
          },
          "showarrow": false,
          "text": "BinaryResultsWrapper",
          "x": 0.5,
          "xanchor": "center",
          "xref": "paper",
          "y": 1,
          "yanchor": "bottom",
          "yref": "paper"
         },
         {
          "font": {
           "size": 16
          },
          "showarrow": false,
          "text": "contribution",
          "x": 0.5,
          "xanchor": "center",
          "xref": "paper",
          "y": 0,
          "yanchor": "top",
          "yref": "paper",
          "yshift": -30
         }
        ],
        "font": {
         "color": "#371ea3"
        },
        "height": 413,
        "margin": {
         "b": 71,
         "r": 30,
         "t": 78
        },
        "shapes": [
         {
          "line": {
           "color": "#371ea3",
           "dash": "dot",
           "width": 1.5
          },
          "type": "line",
          "x0": 0.24999888016276167,
          "x1": 0.24999888016276167,
          "xref": "x",
          "y0": -1,
          "y1": 13,
          "yref": "y"
         }
        ],
        "template": {
         "data": {
          "scatter": [
           {
            "type": "scatter"
           }
          ]
         }
        },
        "title": {
         "text": "Arjun Malhotra",
         "x": 0.15
        },
        "xaxis": {
         "anchor": "y",
         "automargin": true,
         "domain": [
          0,
          1
         ],
         "fixedrange": true,
         "gridwidth": 2,
         "range": [
          0.1375,
          1.1125
         ],
         "tickcolor": "white",
         "ticklen": 3,
         "ticks": "outside",
         "type": "linear",
         "zeroline": false
        },
        "yaxis": {
         "anchor": "x",
         "automargin": true,
         "autorange": "reversed",
         "domain": [
          0,
          1
         ],
         "fixedrange": true,
         "gridwidth": 2,
         "tickcolor": "white",
         "ticklen": 10,
         "ticks": "outside",
         "type": "category"
        }
       }
      }
     },
     "metadata": {},
     "output_type": "display_data"
    },
    {
     "data": {
      "application/vnd.plotly.v1+json": {
       "config": {
        "displaylogo": false,
        "modeBarButtonsToRemove": [
         "sendDataToCloud",
         "lasso2d",
         "autoScale2d",
         "select2d",
         "zoom2d",
         "pan2d",
         "zoomIn2d",
         "zoomOut2d",
         "resetScale2d",
         "toggleSpikelines",
         "hoverCompareCartesian",
         "hoverClosestCartesian"
        ],
        "plotlyServerURL": "https://plot.ly",
        "staticPlot": false,
        "toImageButtonOptions": {
         "height": null,
         "width": null
        }
       },
       "data": [
        {
         "base": 0.24999888016276167,
         "connector": {
          "line": {
           "color": "#371ea3",
           "dash": "solid",
           "width": 1
          },
          "mode": "spanning"
         },
         "decreasing": {
          "marker": {
           "color": "#f05a71"
          }
         },
         "hoverinfo": "text+delta",
         "hoverlabel": {
          "bgcolor": "rgba(0,0,0,0.8)"
         },
         "hovertext": [
          "Average response: 0.25<br>Prediction: 0.0",
          "Age = YOUNG<br>increases average response by",
          "Test_Drive_Status = Completed<br>increases average response by",
          "Special_Occasions = Festival<br>increases average response by",
          "Booking_Lead_Time = MEDIUM<br>increases average response by",
          "Add_Ons = LOW<br>decreases average response by",
          "Experience_With_Sales_Rep = Neutral<br>increases average response by",
          "Down_Payment = LOW<br>increases average response by",
          "External_Factors = High<br>decreases average response by",
          "Dealership_Engagement = Low<br>decreases average response by",
          "Vehicle_Type = SUV<br>decreases average response by",
          "+ all other factors<br>decreases average response by",
          "Average response: 0.25<br>Prediction: 0.0"
         ],
         "increasing": {
          "marker": {
           "color": "#8bdcbe"
          }
         },
         "measure": [
          "relative",
          "relative",
          "relative",
          "relative",
          "relative",
          "relative",
          "relative",
          "relative",
          "relative",
          "relative",
          "relative",
          "relative",
          "total"
         ],
         "orientation": "h",
         "showlegend": false,
         "text": [
          "0.25",
          "+0.001",
          "+0.04",
          "+0.01",
          "+0.021",
          "0.0",
          "+0.003",
          "+0.016",
          "-0.001",
          "-0.006",
          "0.0",
          "-0.333",
          "0.0"
         ],
         "textposition": "outside",
         "totals": {
          "marker": {
           "color": "#371ea3"
          }
         },
         "type": "waterfall",
         "x": [
          0,
          0.001,
          0.04,
          0.01,
          0.021,
          0,
          0.003,
          0.016,
          -0.001,
          -0.006,
          0,
          -0.333,
          -0.25
         ],
         "xaxis": "x",
         "y": [
          "intercept",
          "Age = YOUNG",
          "Test_Drive_Status = Completed",
          "Special_Occasions = Festival",
          "Booking_Lead_Time = MEDIUM",
          "Add_Ons = LOW",
          "Experience_With_Sales_Rep = Neutral",
          "Down_Payment = LOW",
          "External_Factors = High",
          "Dealership_Engagement = Low",
          "Vehicle_Type = SUV",
          "+ all other factors",
          "prediction"
         ],
         "yaxis": "y"
        }
       ],
       "layout": {
        "annotations": [
         {
          "font": {
           "size": 16
          },
          "showarrow": false,
          "text": "BinaryResultsWrapper",
          "x": 0.5,
          "xanchor": "center",
          "xref": "paper",
          "y": 1,
          "yanchor": "bottom",
          "yref": "paper"
         },
         {
          "font": {
           "size": 16
          },
          "showarrow": false,
          "text": "contribution",
          "x": 0.5,
          "xanchor": "center",
          "xref": "paper",
          "y": 0,
          "yanchor": "top",
          "yref": "paper",
          "yshift": -30
         }
        ],
        "font": {
         "color": "#371ea3"
        },
        "height": 413,
        "margin": {
         "b": 71,
         "r": 30,
         "t": 78
        },
        "shapes": [
         {
          "line": {
           "color": "#371ea3",
           "dash": "dot",
           "width": 1.5
          },
          "type": "line",
          "x0": 0.24999888016276167,
          "x1": 0.24999888016276167,
          "xref": "x",
          "y0": -1,
          "y1": 13,
          "yref": "y"
         }
        ],
        "template": {
         "data": {
          "scatter": [
           {
            "type": "scatter"
           }
          ]
         }
        },
        "title": {
         "text": "Pooja Bansal",
         "x": 0.15
        },
        "xaxis": {
         "anchor": "y",
         "automargin": true,
         "domain": [
          0,
          1
         ],
         "fixedrange": true,
         "gridwidth": 2,
         "range": [
          -0.05115,
          0.39215
         ],
         "tickcolor": "white",
         "ticklen": 3,
         "ticks": "outside",
         "type": "linear",
         "zeroline": false
        },
        "yaxis": {
         "anchor": "x",
         "automargin": true,
         "autorange": "reversed",
         "domain": [
          0,
          1
         ],
         "fixedrange": true,
         "gridwidth": 2,
         "tickcolor": "white",
         "ticklen": 10,
         "ticks": "outside",
         "type": "category"
        }
       }
      }
     },
     "metadata": {},
     "output_type": "display_data"
    },
    {
     "data": {
      "application/vnd.plotly.v1+json": {
       "config": {
        "displaylogo": false,
        "modeBarButtonsToRemove": [
         "sendDataToCloud",
         "lasso2d",
         "autoScale2d",
         "select2d",
         "zoom2d",
         "pan2d",
         "zoomIn2d",
         "zoomOut2d",
         "resetScale2d",
         "toggleSpikelines",
         "hoverCompareCartesian",
         "hoverClosestCartesian"
        ],
        "plotlyServerURL": "https://plot.ly",
        "staticPlot": false,
        "toImageButtonOptions": {
         "height": null,
         "width": null
        }
       },
       "data": [
        {
         "base": 0.24999888016276167,
         "connector": {
          "line": {
           "color": "#371ea3",
           "dash": "solid",
           "width": 1
          },
          "mode": "spanning"
         },
         "decreasing": {
          "marker": {
           "color": "#f05a71"
          }
         },
         "hoverinfo": "text+delta",
         "hoverlabel": {
          "bgcolor": "rgba(0,0,0,0.8)"
         },
         "hovertext": [
          "Average response: 0.25<br>Prediction: 0.0",
          "Companion_Feedback = Positive<br>increases average response by",
          "Test_Drive_Status = Completed<br>increases average response by",
          "Booking_Lead_Time = LOW<br>increases average response by",
          "Special_Occasions = Festival<br>increases average response by",
          "Age = KID<br>increases average response by",
          "Gender = Male<br>increases average response by",
          "First_Time_Buyer = Yes<br>decreases average response by",
          "Cancellation_Probability = Low<br>increases average response by",
          "Add_Ons = LOW<br>increases average response by",
          "Preferred_Delivery_Time = Afternoon<br>increases average response by",
          "+ all other factors<br>decreases average response by",
          "Average response: 0.25<br>Prediction: 0.0"
         ],
         "increasing": {
          "marker": {
           "color": "#8bdcbe"
          }
         },
         "measure": [
          "relative",
          "relative",
          "relative",
          "relative",
          "relative",
          "relative",
          "relative",
          "relative",
          "relative",
          "relative",
          "relative",
          "relative",
          "total"
         ],
         "orientation": "h",
         "showlegend": false,
         "text": [
          "0.25",
          "+0.045",
          "+0.027",
          "+0.043",
          "+0.023",
          "+0.002",
          "+0.009",
          "0.0",
          "+0.01",
          "+0.001",
          "+0.039",
          "-0.45",
          "0.0"
         ],
         "textposition": "outside",
         "totals": {
          "marker": {
           "color": "#371ea3"
          }
         },
         "type": "waterfall",
         "x": [
          0,
          0.045,
          0.027,
          0.043,
          0.023,
          0.002,
          0.009,
          0,
          0.01,
          0.001,
          0.039,
          -0.45,
          -0.25
         ],
         "xaxis": "x",
         "y": [
          "intercept",
          "Companion_Feedback = Positive",
          "Test_Drive_Status = Completed",
          "Booking_Lead_Time = LOW",
          "Special_Occasions = Festival",
          "Age = KID",
          "Gender = Male",
          "First_Time_Buyer = Yes",
          "Cancellation_Probability = Low",
          "Add_Ons = LOW",
          "Preferred_Delivery_Time = Afternoon",
          "+ all other factors",
          "prediction"
         ],
         "yaxis": "y"
        }
       ],
       "layout": {
        "annotations": [
         {
          "font": {
           "size": 16
          },
          "showarrow": false,
          "text": "BinaryResultsWrapper",
          "x": 0.5,
          "xanchor": "center",
          "xref": "paper",
          "y": 1,
          "yanchor": "bottom",
          "yref": "paper"
         },
         {
          "font": {
           "size": 16
          },
          "showarrow": false,
          "text": "contribution",
          "x": 0.5,
          "xanchor": "center",
          "xref": "paper",
          "y": 0,
          "yanchor": "top",
          "yref": "paper",
          "yshift": -30
         }
        ],
        "font": {
         "color": "#371ea3"
        },
        "height": 413,
        "margin": {
         "b": 71,
         "r": 30,
         "t": 78
        },
        "shapes": [
         {
          "line": {
           "color": "#371ea3",
           "dash": "dot",
           "width": 1.5
          },
          "type": "line",
          "x0": 0.24999888016276167,
          "x1": 0.24999888016276167,
          "xref": "x",
          "y0": -1,
          "y1": 13,
          "yref": "y"
         }
        ],
        "template": {
         "data": {
          "scatter": [
           {
            "type": "scatter"
           }
          ]
         }
        },
        "title": {
         "text": "Ramesh Choudhary",
         "x": 0.15
        },
        "xaxis": {
         "anchor": "y",
         "automargin": true,
         "domain": [
          0,
          1
         ],
         "fixedrange": true,
         "gridwidth": 2,
         "range": [
          -0.0675,
          0.5175000000000001
         ],
         "tickcolor": "white",
         "ticklen": 3,
         "ticks": "outside",
         "type": "linear",
         "zeroline": false
        },
        "yaxis": {
         "anchor": "x",
         "automargin": true,
         "autorange": "reversed",
         "domain": [
          0,
          1
         ],
         "fixedrange": true,
         "gridwidth": 2,
         "tickcolor": "white",
         "ticklen": 10,
         "ticks": "outside",
         "type": "category"
        }
       }
      }
     },
     "metadata": {},
     "output_type": "display_data"
    },
    {
     "data": {
      "application/vnd.plotly.v1+json": {
       "config": {
        "displaylogo": false,
        "modeBarButtonsToRemove": [
         "sendDataToCloud",
         "lasso2d",
         "autoScale2d",
         "select2d",
         "zoom2d",
         "pan2d",
         "zoomIn2d",
         "zoomOut2d",
         "resetScale2d",
         "toggleSpikelines",
         "hoverCompareCartesian",
         "hoverClosestCartesian"
        ],
        "plotlyServerURL": "https://plot.ly",
        "staticPlot": false,
        "toImageButtonOptions": {
         "height": null,
         "width": null
        }
       },
       "data": [
        {
         "base": 0.24999888016276167,
         "connector": {
          "line": {
           "color": "#371ea3",
           "dash": "solid",
           "width": 1
          },
          "mode": "spanning"
         },
         "decreasing": {
          "marker": {
           "color": "#f05a71"
          }
         },
         "hoverinfo": "text+delta",
         "hoverlabel": {
          "bgcolor": "rgba(0,0,0,0.8)"
         },
         "hovertext": [
          "Average response: 0.25<br>Prediction: 0.0",
          "Lead_Source = Online<br>decreases average response by",
          "OEM_Loyalty_Program = Yes<br>increases average response by",
          "Undecided_Finances = No<br>increases average response by",
          "Preferred_Delivery_Time = Morning<br>increases average response by",
          "Special_Occasions = Wedding<br>increases average response by",
          "Age = KID<br>increases average response by",
          "Competitive_Factors = Low<br>increases average response by",
          "Finances_Status = Cash Purchase<br>increases average response by",
          "Dealership_Engagement = High<br>increases average response by",
          "Cancellation_Probability = Low<br>increases average response by",
          "+ all other factors<br>decreases average response by",
          "Average response: 0.25<br>Prediction: 0.0"
         ],
         "increasing": {
          "marker": {
           "color": "#8bdcbe"
          }
         },
         "measure": [
          "relative",
          "relative",
          "relative",
          "relative",
          "relative",
          "relative",
          "relative",
          "relative",
          "relative",
          "relative",
          "relative",
          "relative",
          "total"
         ],
         "orientation": "h",
         "showlegend": false,
         "text": [
          "0.25",
          "0.0",
          "+0.021",
          "+0.039",
          "+0.098",
          "+0.02",
          "+0.027",
          "+0.05",
          "+0.07",
          "+0.022",
          "+0.012",
          "-0.609",
          "0.0"
         ],
         "textposition": "outside",
         "totals": {
          "marker": {
           "color": "#371ea3"
          }
         },
         "type": "waterfall",
         "x": [
          0,
          0,
          0.021,
          0.039,
          0.098,
          0.02,
          0.027,
          0.05,
          0.07,
          0.022,
          0.012,
          -0.609,
          -0.25
         ],
         "xaxis": "x",
         "y": [
          "intercept",
          "Lead_Source = Online",
          "OEM_Loyalty_Program = Yes",
          "Undecided_Finances = No",
          "Preferred_Delivery_Time = Morning",
          "Special_Occasions = Wedding",
          "Age = KID",
          "Competitive_Factors = Low",
          "Finances_Status = Cash Purchase",
          "Dealership_Engagement = High",
          "Cancellation_Probability = Low",
          "+ all other factors",
          "prediction"
         ],
         "yaxis": "y"
        }
       ],
       "layout": {
        "annotations": [
         {
          "font": {
           "size": 16
          },
          "showarrow": false,
          "text": "BinaryResultsWrapper",
          "x": 0.5,
          "xanchor": "center",
          "xref": "paper",
          "y": 1,
          "yanchor": "bottom",
          "yref": "paper"
         },
         {
          "font": {
           "size": 16
          },
          "showarrow": false,
          "text": "contribution",
          "x": 0.5,
          "xanchor": "center",
          "xref": "paper",
          "y": 0,
          "yanchor": "top",
          "yref": "paper",
          "yshift": -30
         }
        ],
        "font": {
         "color": "#371ea3"
        },
        "height": 413,
        "margin": {
         "b": 71,
         "r": 30,
         "t": 78
        },
        "shapes": [
         {
          "line": {
           "color": "#371ea3",
           "dash": "dot",
           "width": 1.5
          },
          "type": "line",
          "x0": 0.24999888016276167,
          "x1": 0.24999888016276167,
          "xref": "x",
          "y0": -1,
          "y1": 13,
          "yref": "y"
         }
        ],
        "template": {
         "data": {
          "scatter": [
           {
            "type": "scatter"
           }
          ]
         }
        },
        "title": {
         "text": "Snehal Deshpande",
         "x": 0.15
        },
        "xaxis": {
         "anchor": "y",
         "automargin": true,
         "domain": [
          0,
          1
         ],
         "fixedrange": true,
         "gridwidth": 2,
         "range": [
          -0.09135,
          0.70035
         ],
         "tickcolor": "white",
         "ticklen": 3,
         "ticks": "outside",
         "type": "linear",
         "zeroline": false
        },
        "yaxis": {
         "anchor": "x",
         "automargin": true,
         "autorange": "reversed",
         "domain": [
          0,
          1
         ],
         "fixedrange": true,
         "gridwidth": 2,
         "tickcolor": "white",
         "ticklen": 10,
         "ticks": "outside",
         "type": "category"
        }
       }
      }
     },
     "metadata": {},
     "output_type": "display_data"
    },
    {
     "data": {
      "application/vnd.plotly.v1+json": {
       "config": {
        "displaylogo": false,
        "modeBarButtonsToRemove": [
         "sendDataToCloud",
         "lasso2d",
         "autoScale2d",
         "select2d",
         "zoom2d",
         "pan2d",
         "zoomIn2d",
         "zoomOut2d",
         "resetScale2d",
         "toggleSpikelines",
         "hoverCompareCartesian",
         "hoverClosestCartesian"
        ],
        "plotlyServerURL": "https://plot.ly",
        "staticPlot": false,
        "toImageButtonOptions": {
         "height": null,
         "width": null
        }
       },
       "data": [
        {
         "base": 0.24999888016276167,
         "connector": {
          "line": {
           "color": "#371ea3",
           "dash": "solid",
           "width": 1
          },
          "mode": "spanning"
         },
         "decreasing": {
          "marker": {
           "color": "#f05a71"
          }
         },
         "hoverinfo": "text+delta",
         "hoverlabel": {
          "bgcolor": "rgba(0,0,0,0.8)"
         },
         "hovertext": [
          "Average response: 0.25<br>Prediction: 0.0",
          "Companion_Feedback = Positive<br>increases average response by",
          "Age = YOUNG<br>increases average response by",
          "Test_Drive_Status = Completed<br>increases average response by",
          "Booking_Lead_Time = LOW<br>increases average response by",
          "Undecided_Finances = No<br>increases average response by",
          "Special_Occasions = Festival<br>increases average response by",
          "Gender = Male<br>increases average response by",
          "Finances_Status = Approved Loans<br>increases average response by",
          "First_Time_Buyer = Yes<br>increases average response by",
          "CIBIL_Score = MEDIUM<br>increases average response by",
          "+ all other factors<br>decreases average response by",
          "Average response: 0.25<br>Prediction: 0.0"
         ],
         "increasing": {
          "marker": {
           "color": "#8bdcbe"
          }
         },
         "measure": [
          "relative",
          "relative",
          "relative",
          "relative",
          "relative",
          "relative",
          "relative",
          "relative",
          "relative",
          "relative",
          "relative",
          "relative",
          "total"
         ],
         "orientation": "h",
         "showlegend": false,
         "text": [
          "0.25",
          "+0.045",
          "+0.052",
          "+0.04",
          "+0.012",
          "+0.011",
          "+0.009",
          "+0.042",
          "+0.16",
          "+0.014",
          "+0.045",
          "-0.681",
          "0.0"
         ],
         "textposition": "outside",
         "totals": {
          "marker": {
           "color": "#371ea3"
          }
         },
         "type": "waterfall",
         "x": [
          0,
          0.045,
          0.052,
          0.04,
          0.012,
          0.011,
          0.009,
          0.042,
          0.16,
          0.014,
          0.045,
          -0.681,
          -0.25
         ],
         "xaxis": "x",
         "y": [
          "intercept",
          "Companion_Feedback = Positive",
          "Age = YOUNG",
          "Test_Drive_Status = Completed",
          "Booking_Lead_Time = LOW",
          "Undecided_Finances = No",
          "Special_Occasions = Festival",
          "Gender = Male",
          "Finances_Status = Approved Loans",
          "First_Time_Buyer = Yes",
          "CIBIL_Score = MEDIUM",
          "+ all other factors",
          "prediction"
         ],
         "yaxis": "y"
        }
       ],
       "layout": {
        "annotations": [
         {
          "font": {
           "size": 16
          },
          "showarrow": false,
          "text": "BinaryResultsWrapper",
          "x": 0.5,
          "xanchor": "center",
          "xref": "paper",
          "y": 1,
          "yanchor": "bottom",
          "yref": "paper"
         },
         {
          "font": {
           "size": 16
          },
          "showarrow": false,
          "text": "contribution",
          "x": 0.5,
          "xanchor": "center",
          "xref": "paper",
          "y": 0,
          "yanchor": "top",
          "yref": "paper",
          "yshift": -30
         }
        ],
        "font": {
         "color": "#371ea3"
        },
        "height": 413,
        "margin": {
         "b": 71,
         "r": 30,
         "t": 78
        },
        "shapes": [
         {
          "line": {
           "color": "#371ea3",
           "dash": "dot",
           "width": 1.5
          },
          "type": "line",
          "x0": 0.24999888016276167,
          "x1": 0.24999888016276167,
          "xref": "x",
          "y0": -1,
          "y1": 13,
          "yref": "y"
         }
        ],
        "template": {
         "data": {
          "scatter": [
           {
            "type": "scatter"
           }
          ]
         }
        },
        "title": {
         "text": "Ankit Kapoor",
         "x": 0.15
        },
        "xaxis": {
         "anchor": "y",
         "automargin": true,
         "domain": [
          0,
          1
         ],
         "fixedrange": true,
         "gridwidth": 2,
         "range": [
          -0.10215,
          0.78315
         ],
         "tickcolor": "white",
         "ticklen": 3,
         "ticks": "outside",
         "type": "linear",
         "zeroline": false
        },
        "yaxis": {
         "anchor": "x",
         "automargin": true,
         "autorange": "reversed",
         "domain": [
          0,
          1
         ],
         "fixedrange": true,
         "gridwidth": 2,
         "tickcolor": "white",
         "ticklen": 10,
         "ticks": "outside",
         "type": "category"
        }
       }
      }
     },
     "metadata": {},
     "output_type": "display_data"
    },
    {
     "data": {
      "application/vnd.plotly.v1+json": {
       "config": {
        "displaylogo": false,
        "modeBarButtonsToRemove": [
         "sendDataToCloud",
         "lasso2d",
         "autoScale2d",
         "select2d",
         "zoom2d",
         "pan2d",
         "zoomIn2d",
         "zoomOut2d",
         "resetScale2d",
         "toggleSpikelines",
         "hoverCompareCartesian",
         "hoverClosestCartesian"
        ],
        "plotlyServerURL": "https://plot.ly",
        "staticPlot": false,
        "toImageButtonOptions": {
         "height": null,
         "width": null
        }
       },
       "data": [
        {
         "base": 0.24999888016276167,
         "connector": {
          "line": {
           "color": "#371ea3",
           "dash": "solid",
           "width": 1
          },
          "mode": "spanning"
         },
         "decreasing": {
          "marker": {
           "color": "#f05a71"
          }
         },
         "hoverinfo": "text+delta",
         "hoverlabel": {
          "bgcolor": "rgba(0,0,0,0.8)"
         },
         "hovertext": [
          "Average response: 0.25<br>Prediction: 0.0",
          "Test_Drive_Status = Completed<br>decreases average response by",
          "Undecided_Finances = No<br>decreases average response by",
          "Preferred_Delivery_Time = Morning<br>increases average response by",
          "Special_Occasions = Wedding<br>increases average response by",
          "Age = KID<br>increases average response by",
          "Finances_Status = Approved Loans<br>increases average response by",
          "Competitive_Factors = Low<br>increases average response by",
          "Booking_Lead_Time = MEDIUM<br>decreases average response by",
          "First_Time_Buyer = Yes<br>increases average response by",
          "Dealership_Engagement = High<br>increases average response by",
          "+ all other factors<br>decreases average response by",
          "Average response: 0.25<br>Prediction: 0.0"
         ],
         "increasing": {
          "marker": {
           "color": "#8bdcbe"
          }
         },
         "measure": [
          "relative",
          "relative",
          "relative",
          "relative",
          "relative",
          "relative",
          "relative",
          "relative",
          "relative",
          "relative",
          "relative",
          "relative",
          "total"
         ],
         "orientation": "h",
         "showlegend": false,
         "text": [
          "0.25",
          "0.0",
          "0.0",
          "+0.013",
          "+0.02",
          "+0.025",
          "+0.087",
          "+0.081",
          "-0.046",
          "+0.022",
          "+0.023",
          "-0.476",
          "0.0"
         ],
         "textposition": "outside",
         "totals": {
          "marker": {
           "color": "#371ea3"
          }
         },
         "type": "waterfall",
         "x": [
          0,
          0,
          0,
          0.013,
          0.02,
          0.025,
          0.087,
          0.081,
          -0.046,
          0.022,
          0.023,
          -0.476,
          -0.25
         ],
         "xaxis": "x",
         "y": [
          "intercept",
          "Test_Drive_Status = Completed",
          "Undecided_Finances = No",
          "Preferred_Delivery_Time = Morning",
          "Special_Occasions = Wedding",
          "Age = KID",
          "Finances_Status = Approved Loans",
          "Competitive_Factors = Low",
          "Booking_Lead_Time = MEDIUM",
          "First_Time_Buyer = Yes",
          "Dealership_Engagement = High",
          "+ all other factors",
          "prediction"
         ],
         "yaxis": "y"
        }
       ],
       "layout": {
        "annotations": [
         {
          "font": {
           "size": 16
          },
          "showarrow": false,
          "text": "BinaryResultsWrapper",
          "x": 0.5,
          "xanchor": "center",
          "xref": "paper",
          "y": 1,
          "yanchor": "bottom",
          "yref": "paper"
         },
         {
          "font": {
           "size": 16
          },
          "showarrow": false,
          "text": "contribution",
          "x": 0.5,
          "xanchor": "center",
          "xref": "paper",
          "y": 0,
          "yanchor": "top",
          "yref": "paper",
          "yshift": -30
         }
        ],
        "font": {
         "color": "#371ea3"
        },
        "height": 413,
        "margin": {
         "b": 71,
         "r": 30,
         "t": 78
        },
        "shapes": [
         {
          "line": {
           "color": "#371ea3",
           "dash": "dot",
           "width": 1.5
          },
          "type": "line",
          "x0": 0.24999888016276167,
          "x1": 0.24999888016276167,
          "xref": "x",
          "y0": -1,
          "y1": 13,
          "yref": "y"
         }
        ],
        "template": {
         "data": {
          "scatter": [
           {
            "type": "scatter"
           }
          ]
         }
        },
        "title": {
         "text": "Priya Sharma",
         "x": 0.15
        },
        "xaxis": {
         "anchor": "y",
         "automargin": true,
         "domain": [
          0,
          1
         ],
         "fixedrange": true,
         "gridwidth": 2,
         "range": [
          -0.07154999999999999,
          0.54855
         ],
         "tickcolor": "white",
         "ticklen": 3,
         "ticks": "outside",
         "type": "linear",
         "zeroline": false
        },
        "yaxis": {
         "anchor": "x",
         "automargin": true,
         "autorange": "reversed",
         "domain": [
          0,
          1
         ],
         "fixedrange": true,
         "gridwidth": 2,
         "tickcolor": "white",
         "ticklen": 10,
         "ticks": "outside",
         "type": "category"
        }
       }
      }
     },
     "metadata": {},
     "output_type": "display_data"
    },
    {
     "data": {
      "application/vnd.plotly.v1+json": {
       "config": {
        "displaylogo": false,
        "modeBarButtonsToRemove": [
         "sendDataToCloud",
         "lasso2d",
         "autoScale2d",
         "select2d",
         "zoom2d",
         "pan2d",
         "zoomIn2d",
         "zoomOut2d",
         "resetScale2d",
         "toggleSpikelines",
         "hoverCompareCartesian",
         "hoverClosestCartesian"
        ],
        "plotlyServerURL": "https://plot.ly",
        "staticPlot": false,
        "toImageButtonOptions": {
         "height": null,
         "width": null
        }
       },
       "data": [
        {
         "base": 0.24999888016276167,
         "connector": {
          "line": {
           "color": "#371ea3",
           "dash": "solid",
           "width": 1
          },
          "mode": "spanning"
         },
         "decreasing": {
          "marker": {
           "color": "#f05a71"
          }
         },
         "hoverinfo": "text+delta",
         "hoverlabel": {
          "bgcolor": "rgba(0,0,0,0.8)"
         },
         "hovertext": [
          "Average response: 0.25<br>Prediction: 0.0",
          "Companion_Feedback = Positive<br>increases average response by",
          "Test_Drive_Status = Completed<br>increases average response by",
          "Lead_Source = Online<br>increases average response by",
          "Booking_Lead_Time = LOW<br>increases average response by",
          "OEM_Loyalty_Program = Yes<br>increases average response by",
          "Special_Occasions = Festival<br>increases average response by",
          "Gender = Male<br>increases average response by",
          "CIBIL_Score = MEDIUM<br>increases average response by",
          "Add_Ons = LOW<br>decreases average response by",
          "Preferred_Delivery_Time = Afternoon<br>increases average response by",
          "+ all other factors<br>decreases average response by",
          "Average response: 0.25<br>Prediction: 0.0"
         ],
         "increasing": {
          "marker": {
           "color": "#8bdcbe"
          }
         },
         "measure": [
          "relative",
          "relative",
          "relative",
          "relative",
          "relative",
          "relative",
          "relative",
          "relative",
          "relative",
          "relative",
          "relative",
          "relative",
          "total"
         ],
         "orientation": "h",
         "showlegend": false,
         "text": [
          "0.25",
          "+0.045",
          "+0.027",
          "+0.052",
          "+0.035",
          "+0.099",
          "+0.013",
          "+0.032",
          "+0.035",
          "0.0",
          "+0.043",
          "-0.631",
          "0.0"
         ],
         "textposition": "outside",
         "totals": {
          "marker": {
           "color": "#371ea3"
          }
         },
         "type": "waterfall",
         "x": [
          0,
          0.045,
          0.027,
          0.052,
          0.035,
          0.099,
          0.013,
          0.032,
          0.035,
          0,
          0.043,
          -0.631,
          -0.25
         ],
         "xaxis": "x",
         "y": [
          "intercept",
          "Companion_Feedback = Positive",
          "Test_Drive_Status = Completed",
          "Lead_Source = Online",
          "Booking_Lead_Time = LOW",
          "OEM_Loyalty_Program = Yes",
          "Special_Occasions = Festival",
          "Gender = Male",
          "CIBIL_Score = MEDIUM",
          "Add_Ons = LOW",
          "Preferred_Delivery_Time = Afternoon",
          "+ all other factors",
          "prediction"
         ],
         "yaxis": "y"
        }
       ],
       "layout": {
        "annotations": [
         {
          "font": {
           "size": 16
          },
          "showarrow": false,
          "text": "BinaryResultsWrapper",
          "x": 0.5,
          "xanchor": "center",
          "xref": "paper",
          "y": 1,
          "yanchor": "bottom",
          "yref": "paper"
         },
         {
          "font": {
           "size": 16
          },
          "showarrow": false,
          "text": "contribution",
          "x": 0.5,
          "xanchor": "center",
          "xref": "paper",
          "y": 0,
          "yanchor": "top",
          "yref": "paper",
          "yshift": -30
         }
        ],
        "font": {
         "color": "#371ea3"
        },
        "height": 413,
        "margin": {
         "b": 71,
         "r": 30,
         "t": 78
        },
        "shapes": [
         {
          "line": {
           "color": "#371ea3",
           "dash": "dot",
           "width": 1.5
          },
          "type": "line",
          "x0": 0.24999888016276167,
          "x1": 0.24999888016276167,
          "xref": "x",
          "y0": -1,
          "y1": 13,
          "yref": "y"
         }
        ],
        "template": {
         "data": {
          "scatter": [
           {
            "type": "scatter"
           }
          ]
         }
        },
        "title": {
         "text": "Rohan Mehta",
         "x": 0.15
        },
        "xaxis": {
         "anchor": "y",
         "automargin": true,
         "domain": [
          0,
          1
         ],
         "fixedrange": true,
         "gridwidth": 2,
         "range": [
          -0.09465,
          0.72565
         ],
         "tickcolor": "white",
         "ticklen": 3,
         "ticks": "outside",
         "type": "linear",
         "zeroline": false
        },
        "yaxis": {
         "anchor": "x",
         "automargin": true,
         "autorange": "reversed",
         "domain": [
          0,
          1
         ],
         "fixedrange": true,
         "gridwidth": 2,
         "tickcolor": "white",
         "ticklen": 10,
         "ticks": "outside",
         "type": "category"
        }
       }
      }
     },
     "metadata": {},
     "output_type": "display_data"
    },
    {
     "data": {
      "application/vnd.plotly.v1+json": {
       "config": {
        "displaylogo": false,
        "modeBarButtonsToRemove": [
         "sendDataToCloud",
         "lasso2d",
         "autoScale2d",
         "select2d",
         "zoom2d",
         "pan2d",
         "zoomIn2d",
         "zoomOut2d",
         "resetScale2d",
         "toggleSpikelines",
         "hoverCompareCartesian",
         "hoverClosestCartesian"
        ],
        "plotlyServerURL": "https://plot.ly",
        "staticPlot": false,
        "toImageButtonOptions": {
         "height": null,
         "width": null
        }
       },
       "data": [
        {
         "base": 0.24999888016276167,
         "connector": {
          "line": {
           "color": "#371ea3",
           "dash": "solid",
           "width": 1
          },
          "mode": "spanning"
         },
         "decreasing": {
          "marker": {
           "color": "#f05a71"
          }
         },
         "hoverinfo": "text+delta",
         "hoverlabel": {
          "bgcolor": "rgba(0,0,0,0.8)"
         },
         "hovertext": [
          "Average response: 0.25<br>Prediction: 0.0",
          "Age = YOUNG<br>increases average response by",
          "Undecided_Finances = No<br>increases average response by",
          "Booking_Lead_Time = MEDIUM<br>increases average response by",
          "Finances_Status = Cash Purchase<br>increases average response by",
          "Experience_With_Sales_Rep = Negative<br>increases average response by",
          "Vehicle_Type = Hatchback<br>increases average response by",
          "First_Time_Buyer = Yes<br>increases average response by",
          "CIBIL_Score = MEDIUM<br>increases average response by",
          "Add_Ons = LOW<br>increases average response by",
          "Stock_Status = Available<br>increases average response by",
          "+ all other factors<br>decreases average response by",
          "Average response: 0.25<br>Prediction: 0.0"
         ],
         "increasing": {
          "marker": {
           "color": "#8bdcbe"
          }
         },
         "measure": [
          "relative",
          "relative",
          "relative",
          "relative",
          "relative",
          "relative",
          "relative",
          "relative",
          "relative",
          "relative",
          "relative",
          "relative",
          "total"
         ],
         "orientation": "h",
         "showlegend": false,
         "text": [
          "0.25",
          "+0.001",
          "+0.008",
          "+0.008",
          "+0.03",
          "+0.067",
          "+0.041",
          "+0.026",
          "+0.025",
          "+0.002",
          "+0.012",
          "-0.469",
          "0.0"
         ],
         "textposition": "outside",
         "totals": {
          "marker": {
           "color": "#371ea3"
          }
         },
         "type": "waterfall",
         "x": [
          0,
          0.001,
          0.008,
          0.008,
          0.03,
          0.067,
          0.041,
          0.026,
          0.025,
          0.002,
          0.012,
          -0.469,
          -0.25
         ],
         "xaxis": "x",
         "y": [
          "intercept",
          "Age = YOUNG",
          "Undecided_Finances = No",
          "Booking_Lead_Time = MEDIUM",
          "Finances_Status = Cash Purchase",
          "Experience_With_Sales_Rep = Negative",
          "Vehicle_Type = Hatchback",
          "First_Time_Buyer = Yes",
          "CIBIL_Score = MEDIUM",
          "Add_Ons = LOW",
          "Stock_Status = Available",
          "+ all other factors",
          "prediction"
         ],
         "yaxis": "y"
        }
       ],
       "layout": {
        "annotations": [
         {
          "font": {
           "size": 16
          },
          "showarrow": false,
          "text": "BinaryResultsWrapper",
          "x": 0.5,
          "xanchor": "center",
          "xref": "paper",
          "y": 1,
          "yanchor": "bottom",
          "yref": "paper"
         },
         {
          "font": {
           "size": 16
          },
          "showarrow": false,
          "text": "contribution",
          "x": 0.5,
          "xanchor": "center",
          "xref": "paper",
          "y": 0,
          "yanchor": "top",
          "yref": "paper",
          "yshift": -30
         }
        ],
        "font": {
         "color": "#371ea3"
        },
        "height": 413,
        "margin": {
         "b": 71,
         "r": 30,
         "t": 78
        },
        "shapes": [
         {
          "line": {
           "color": "#371ea3",
           "dash": "dot",
           "width": 1.5
          },
          "type": "line",
          "x0": 0.24999888016276167,
          "x1": 0.24999888016276167,
          "xref": "x",
          "y0": -1,
          "y1": 13,
          "yref": "y"
         }
        ],
        "template": {
         "data": {
          "scatter": [
           {
            "type": "scatter"
           }
          ]
         }
        },
        "title": {
         "text": "Anjali Verma",
         "x": 0.15
        },
        "xaxis": {
         "anchor": "y",
         "automargin": true,
         "domain": [
          0,
          1
         ],
         "fixedrange": true,
         "gridwidth": 2,
         "range": [
          -0.07035,
          0.53935
         ],
         "tickcolor": "white",
         "ticklen": 3,
         "ticks": "outside",
         "type": "linear",
         "zeroline": false
        },
        "yaxis": {
         "anchor": "x",
         "automargin": true,
         "autorange": "reversed",
         "domain": [
          0,
          1
         ],
         "fixedrange": true,
         "gridwidth": 2,
         "tickcolor": "white",
         "ticklen": 10,
         "ticks": "outside",
         "type": "category"
        }
       }
      }
     },
     "metadata": {},
     "output_type": "display_data"
    },
    {
     "data": {
      "application/vnd.plotly.v1+json": {
       "config": {
        "displaylogo": false,
        "modeBarButtonsToRemove": [
         "sendDataToCloud",
         "lasso2d",
         "autoScale2d",
         "select2d",
         "zoom2d",
         "pan2d",
         "zoomIn2d",
         "zoomOut2d",
         "resetScale2d",
         "toggleSpikelines",
         "hoverCompareCartesian",
         "hoverClosestCartesian"
        ],
        "plotlyServerURL": "https://plot.ly",
        "staticPlot": false,
        "toImageButtonOptions": {
         "height": null,
         "width": null
        }
       },
       "data": [
        {
         "base": 0.24999888016276167,
         "connector": {
          "line": {
           "color": "#371ea3",
           "dash": "solid",
           "width": 1
          },
          "mode": "spanning"
         },
         "decreasing": {
          "marker": {
           "color": "#f05a71"
          }
         },
         "hoverinfo": "text+delta",
         "hoverlabel": {
          "bgcolor": "rgba(0,0,0,0.8)"
         },
         "hovertext": [
          "Average response: 0.25<br>Prediction: 1.0",
          "Companion_Feedback = Positive<br>increases average response by",
          "Test_Drive_Status = Completed<br>increases average response by",
          "Lead_Source = Online<br>increases average response by",
          "Booking_Lead_Time = LOW<br>increases average response by",
          "OEM_Loyalty_Program = Yes<br>increases average response by",
          "Preferred_Delivery_Time = Morning<br>increases average response by",
          "Special_Occasions = Wedding<br>increases average response by",
          "Age = KID<br>decreases average response by",
          "Gender = Male<br>increases average response by",
          "Finances_Status = Approved Loans<br>increases average response by",
          "+ all other factors<br>increases average response by",
          "Average response: 0.25<br>Prediction: 1.0"
         ],
         "increasing": {
          "marker": {
           "color": "#8bdcbe"
          }
         },
         "measure": [
          "relative",
          "relative",
          "relative",
          "relative",
          "relative",
          "relative",
          "relative",
          "relative",
          "relative",
          "relative",
          "relative",
          "relative",
          "total"
         ],
         "orientation": "h",
         "showlegend": false,
         "text": [
          "0.25",
          "+0.045",
          "+0.027",
          "+0.052",
          "+0.035",
          "+0.099",
          "+0.085",
          "+0.008",
          "-0.028",
          "+0.03",
          "+0.094",
          "+0.305",
          "1.0"
         ],
         "textposition": "outside",
         "totals": {
          "marker": {
           "color": "#371ea3"
          }
         },
         "type": "waterfall",
         "x": [
          0,
          0.045,
          0.027,
          0.052,
          0.035,
          0.099,
          0.085,
          0.008,
          -0.028,
          0.03,
          0.094,
          0.305,
          0.75
         ],
         "xaxis": "x",
         "y": [
          "intercept",
          "Companion_Feedback = Positive",
          "Test_Drive_Status = Completed",
          "Lead_Source = Online",
          "Booking_Lead_Time = LOW",
          "OEM_Loyalty_Program = Yes",
          "Preferred_Delivery_Time = Morning",
          "Special_Occasions = Wedding",
          "Age = KID",
          "Gender = Male",
          "Finances_Status = Approved Loans",
          "+ all other factors",
          "prediction"
         ],
         "yaxis": "y"
        }
       ],
       "layout": {
        "annotations": [
         {
          "font": {
           "size": 16
          },
          "showarrow": false,
          "text": "BinaryResultsWrapper",
          "x": 0.5,
          "xanchor": "center",
          "xref": "paper",
          "y": 1,
          "yanchor": "bottom",
          "yref": "paper"
         },
         {
          "font": {
           "size": 16
          },
          "showarrow": false,
          "text": "contribution",
          "x": 0.5,
          "xanchor": "center",
          "xref": "paper",
          "y": 0,
          "yanchor": "top",
          "yref": "paper",
          "yshift": -30
         }
        ],
        "font": {
         "color": "#371ea3"
        },
        "height": 413,
        "margin": {
         "b": 71,
         "r": 30,
         "t": 78
        },
        "shapes": [
         {
          "line": {
           "color": "#371ea3",
           "dash": "dot",
           "width": 1.5
          },
          "type": "line",
          "x0": 0.24999888016276167,
          "x1": 0.24999888016276167,
          "xref": "x",
          "y0": -1,
          "y1": 13,
          "yref": "y"
         }
        ],
        "template": {
         "data": {
          "scatter": [
           {
            "type": "scatter"
           }
          ]
         }
        },
        "title": {
         "text": "Sanjay Gupta",
         "x": 0.15
        },
        "xaxis": {
         "anchor": "y",
         "automargin": true,
         "domain": [
          0,
          1
         ],
         "fixedrange": true,
         "gridwidth": 2,
         "range": [
          0.1375,
          1.1125
         ],
         "tickcolor": "white",
         "ticklen": 3,
         "ticks": "outside",
         "type": "linear",
         "zeroline": false
        },
        "yaxis": {
         "anchor": "x",
         "automargin": true,
         "autorange": "reversed",
         "domain": [
          0,
          1
         ],
         "fixedrange": true,
         "gridwidth": 2,
         "tickcolor": "white",
         "ticklen": 10,
         "ticks": "outside",
         "type": "category"
        }
       }
      }
     },
     "metadata": {},
     "output_type": "display_data"
    },
    {
     "data": {
      "application/vnd.plotly.v1+json": {
       "config": {
        "displaylogo": false,
        "modeBarButtonsToRemove": [
         "sendDataToCloud",
         "lasso2d",
         "autoScale2d",
         "select2d",
         "zoom2d",
         "pan2d",
         "zoomIn2d",
         "zoomOut2d",
         "resetScale2d",
         "toggleSpikelines",
         "hoverCompareCartesian",
         "hoverClosestCartesian"
        ],
        "plotlyServerURL": "https://plot.ly",
        "staticPlot": false,
        "toImageButtonOptions": {
         "height": null,
         "width": null
        }
       },
       "data": [
        {
         "base": 0.24999888016276167,
         "connector": {
          "line": {
           "color": "#371ea3",
           "dash": "solid",
           "width": 1
          },
          "mode": "spanning"
         },
         "decreasing": {
          "marker": {
           "color": "#f05a71"
          }
         },
         "hoverinfo": "text+delta",
         "hoverlabel": {
          "bgcolor": "rgba(0,0,0,0.8)"
         },
         "hovertext": [
          "Average response: 0.25<br>Prediction: 0.0",
          "Age = YOUNG<br>increases average response by",
          "Test_Drive_Status = Completed<br>increases average response by",
          "Undecided_Finances = No<br>increases average response by",
          "Special_Occasions = Festival<br>increases average response by",
          "Finances_Status = Cash Purchase<br>increases average response by",
          "Add_Ons = LOW<br>decreases average response by",
          "CIBIL_Score = HIGH<br>increases average response by",
          "Preferred_Delivery_Time = Afternoon<br>increases average response by",
          "Experience_With_Sales_Rep = Neutral<br>decreases average response by",
          "External_Factors = Medium<br>increases average response by",
          "+ all other factors<br>decreases average response by",
          "Average response: 0.25<br>Prediction: 0.0"
         ],
         "increasing": {
          "marker": {
           "color": "#8bdcbe"
          }
         },
         "measure": [
          "relative",
          "relative",
          "relative",
          "relative",
          "relative",
          "relative",
          "relative",
          "relative",
          "relative",
          "relative",
          "relative",
          "relative",
          "total"
         ],
         "orientation": "h",
         "showlegend": false,
         "text": [
          "0.25",
          "+0.001",
          "+0.04",
          "+0.008",
          "+0.01",
          "+0.08",
          "0.0",
          "+0.034",
          "+0.051",
          "-0.006",
          "+0.003",
          "-0.471",
          "0.0"
         ],
         "textposition": "outside",
         "totals": {
          "marker": {
           "color": "#371ea3"
          }
         },
         "type": "waterfall",
         "x": [
          0,
          0.001,
          0.04,
          0.008,
          0.01,
          0.08,
          0,
          0.034,
          0.051,
          -0.006,
          0.003,
          -0.471,
          -0.25
         ],
         "xaxis": "x",
         "y": [
          "intercept",
          "Age = YOUNG",
          "Test_Drive_Status = Completed",
          "Undecided_Finances = No",
          "Special_Occasions = Festival",
          "Finances_Status = Cash Purchase",
          "Add_Ons = LOW",
          "CIBIL_Score = HIGH",
          "Preferred_Delivery_Time = Afternoon",
          "Experience_With_Sales_Rep = Neutral",
          "External_Factors = Medium",
          "+ all other factors",
          "prediction"
         ],
         "yaxis": "y"
        }
       ],
       "layout": {
        "annotations": [
         {
          "font": {
           "size": 16
          },
          "showarrow": false,
          "text": "BinaryResultsWrapper",
          "x": 0.5,
          "xanchor": "center",
          "xref": "paper",
          "y": 1,
          "yanchor": "bottom",
          "yref": "paper"
         },
         {
          "font": {
           "size": 16
          },
          "showarrow": false,
          "text": "contribution",
          "x": 0.5,
          "xanchor": "center",
          "xref": "paper",
          "y": 0,
          "yanchor": "top",
          "yref": "paper",
          "yshift": -30
         }
        ],
        "font": {
         "color": "#371ea3"
        },
        "height": 413,
        "margin": {
         "b": 71,
         "r": 30,
         "t": 78
        },
        "shapes": [
         {
          "line": {
           "color": "#371ea3",
           "dash": "dot",
           "width": 1.5
          },
          "type": "line",
          "x0": 0.24999888016276167,
          "x1": 0.24999888016276167,
          "xref": "x",
          "y0": -1,
          "y1": 13,
          "yref": "y"
         }
        ],
        "template": {
         "data": {
          "scatter": [
           {
            "type": "scatter"
           }
          ]
         }
        },
        "title": {
         "text": "Meera Kapoor",
         "x": 0.15
        },
        "xaxis": {
         "anchor": "y",
         "automargin": true,
         "domain": [
          0,
          1
         ],
         "fixedrange": true,
         "gridwidth": 2,
         "range": [
          -0.0711,
          0.5450999999999999
         ],
         "tickcolor": "white",
         "ticklen": 3,
         "ticks": "outside",
         "type": "linear",
         "zeroline": false
        },
        "yaxis": {
         "anchor": "x",
         "automargin": true,
         "autorange": "reversed",
         "domain": [
          0,
          1
         ],
         "fixedrange": true,
         "gridwidth": 2,
         "tickcolor": "white",
         "ticklen": 10,
         "ticks": "outside",
         "type": "category"
        }
       }
      }
     },
     "metadata": {},
     "output_type": "display_data"
    },
    {
     "data": {
      "application/vnd.plotly.v1+json": {
       "config": {
        "displaylogo": false,
        "modeBarButtonsToRemove": [
         "sendDataToCloud",
         "lasso2d",
         "autoScale2d",
         "select2d",
         "zoom2d",
         "pan2d",
         "zoomIn2d",
         "zoomOut2d",
         "resetScale2d",
         "toggleSpikelines",
         "hoverCompareCartesian",
         "hoverClosestCartesian"
        ],
        "plotlyServerURL": "https://plot.ly",
        "staticPlot": false,
        "toImageButtonOptions": {
         "height": null,
         "width": null
        }
       },
       "data": [
        {
         "base": 0.24999888016276167,
         "connector": {
          "line": {
           "color": "#371ea3",
           "dash": "solid",
           "width": 1
          },
          "mode": "spanning"
         },
         "decreasing": {
          "marker": {
           "color": "#f05a71"
          }
         },
         "hoverinfo": "text+delta",
         "hoverlabel": {
          "bgcolor": "rgba(0,0,0,0.8)"
         },
         "hovertext": [
          "Average response: 0.25<br>Prediction: 0.0",
          "Companion_Feedback = Positive<br>increases average response by",
          "Test_Drive_Status = Completed<br>increases average response by",
          "Booking_Lead_Time = LOW<br>increases average response by",
          "OEM_Loyalty_Program = Yes<br>increases average response by",
          "Special_Occasions = Festival<br>increases average response by",
          "Age = KID<br>decreases average response by",
          "Gender = Male<br>increases average response by",
          "Vehicle_Type = Hatchback<br>increases average response by",
          "First_Time_Buyer = Yes<br>increases average response by",
          "Dealership_Engagement = High<br>increases average response by",
          "+ all other factors<br>decreases average response by",
          "Average response: 0.25<br>Prediction: 0.0"
         ],
         "increasing": {
          "marker": {
           "color": "#8bdcbe"
          }
         },
         "measure": [
          "relative",
          "relative",
          "relative",
          "relative",
          "relative",
          "relative",
          "relative",
          "relative",
          "relative",
          "relative",
          "relative",
          "relative",
          "total"
         ],
         "orientation": "h",
         "showlegend": false,
         "text": [
          "0.25",
          "+0.045",
          "+0.027",
          "+0.043",
          "+0.022",
          "+0.052",
          "-0.036",
          "+0.015",
          "+0.009",
          "+0.028",
          "+0.035",
          "-0.489",
          "0.0"
         ],
         "textposition": "outside",
         "totals": {
          "marker": {
           "color": "#371ea3"
          }
         },
         "type": "waterfall",
         "x": [
          0,
          0.045,
          0.027,
          0.043,
          0.022,
          0.052,
          -0.036,
          0.015,
          0.009,
          0.028,
          0.035,
          -0.489,
          -0.25
         ],
         "xaxis": "x",
         "y": [
          "intercept",
          "Companion_Feedback = Positive",
          "Test_Drive_Status = Completed",
          "Booking_Lead_Time = LOW",
          "OEM_Loyalty_Program = Yes",
          "Special_Occasions = Festival",
          "Age = KID",
          "Gender = Male",
          "Vehicle_Type = Hatchback",
          "First_Time_Buyer = Yes",
          "Dealership_Engagement = High",
          "+ all other factors",
          "prediction"
         ],
         "yaxis": "y"
        }
       ],
       "layout": {
        "annotations": [
         {
          "font": {
           "size": 16
          },
          "showarrow": false,
          "text": "BinaryResultsWrapper",
          "x": 0.5,
          "xanchor": "center",
          "xref": "paper",
          "y": 1,
          "yanchor": "bottom",
          "yref": "paper"
         },
         {
          "font": {
           "size": 16
          },
          "showarrow": false,
          "text": "contribution",
          "x": 0.5,
          "xanchor": "center",
          "xref": "paper",
          "y": 0,
          "yanchor": "top",
          "yref": "paper",
          "yshift": -30
         }
        ],
        "font": {
         "color": "#371ea3"
        },
        "height": 413,
        "margin": {
         "b": 71,
         "r": 30,
         "t": 78
        },
        "shapes": [
         {
          "line": {
           "color": "#371ea3",
           "dash": "dot",
           "width": 1.5
          },
          "type": "line",
          "x0": 0.24999888016276167,
          "x1": 0.24999888016276167,
          "xref": "x",
          "y0": -1,
          "y1": 13,
          "yref": "y"
         }
        ],
        "template": {
         "data": {
          "scatter": [
           {
            "type": "scatter"
           }
          ]
         }
        },
        "title": {
         "text": "Arjun Nair",
         "x": 0.15
        },
        "xaxis": {
         "anchor": "y",
         "automargin": true,
         "domain": [
          0,
          1
         ],
         "fixedrange": true,
         "gridwidth": 2,
         "range": [
          -0.07335,
          0.56235
         ],
         "tickcolor": "white",
         "ticklen": 3,
         "ticks": "outside",
         "type": "linear",
         "zeroline": false
        },
        "yaxis": {
         "anchor": "x",
         "automargin": true,
         "autorange": "reversed",
         "domain": [
          0,
          1
         ],
         "fixedrange": true,
         "gridwidth": 2,
         "tickcolor": "white",
         "ticklen": 10,
         "ticks": "outside",
         "type": "category"
        }
       }
      }
     },
     "metadata": {},
     "output_type": "display_data"
    },
    {
     "data": {
      "application/vnd.plotly.v1+json": {
       "config": {
        "displaylogo": false,
        "modeBarButtonsToRemove": [
         "sendDataToCloud",
         "lasso2d",
         "autoScale2d",
         "select2d",
         "zoom2d",
         "pan2d",
         "zoomIn2d",
         "zoomOut2d",
         "resetScale2d",
         "toggleSpikelines",
         "hoverCompareCartesian",
         "hoverClosestCartesian"
        ],
        "plotlyServerURL": "https://plot.ly",
        "staticPlot": false,
        "toImageButtonOptions": {
         "height": null,
         "width": null
        }
       },
       "data": [
        {
         "base": 0.24999888016276167,
         "connector": {
          "line": {
           "color": "#371ea3",
           "dash": "solid",
           "width": 1
          },
          "mode": "spanning"
         },
         "decreasing": {
          "marker": {
           "color": "#f05a71"
          }
         },
         "hoverinfo": "text+delta",
         "hoverlabel": {
          "bgcolor": "rgba(0,0,0,0.8)"
         },
         "hovertext": [
          "Average response: 0.25<br>Prediction: 0.0",
          "Age = YOUNG<br>increases average response by",
          "Lead_Source = Online<br>increases average response by",
          "Preferred_Delivery_Time = Morning<br>increases average response by",
          "Booking_Lead_Time = MEDIUM<br>decreases average response by",
          "Experience_With_Sales_Rep = Negative<br>increases average response by",
          "Add_Ons = LOW<br>increases average response by",
          "Stock_Status = Available<br>increases average response by",
          "Income = LOW<br>increases average response by",
          "Delivery_Date_Status = On-Time<br>increases average response by",
          "Customer_Satisfaction_Score = HIGH<br>increases average response by",
          "+ all other factors<br>decreases average response by",
          "Average response: 0.25<br>Prediction: 0.0"
         ],
         "increasing": {
          "marker": {
           "color": "#8bdcbe"
          }
         },
         "measure": [
          "relative",
          "relative",
          "relative",
          "relative",
          "relative",
          "relative",
          "relative",
          "relative",
          "relative",
          "relative",
          "relative",
          "relative",
          "total"
         ],
         "orientation": "h",
         "showlegend": false,
         "text": [
          "0.25",
          "+0.001",
          "+0.039",
          "+0.069",
          "-0.034",
          "+0.037",
          "+0.021",
          "+0.026",
          "+0.012",
          "+0.012",
          "+0.003",
          "-0.436",
          "0.0"
         ],
         "textposition": "outside",
         "totals": {
          "marker": {
           "color": "#371ea3"
          }
         },
         "type": "waterfall",
         "x": [
          0,
          0.001,
          0.039,
          0.069,
          -0.034,
          0.037,
          0.021,
          0.026,
          0.012,
          0.012,
          0.003,
          -0.436,
          -0.25
         ],
         "xaxis": "x",
         "y": [
          "intercept",
          "Age = YOUNG",
          "Lead_Source = Online",
          "Preferred_Delivery_Time = Morning",
          "Booking_Lead_Time = MEDIUM",
          "Experience_With_Sales_Rep = Negative",
          "Add_Ons = LOW",
          "Stock_Status = Available",
          "Income = LOW",
          "Delivery_Date_Status = On-Time",
          "Customer_Satisfaction_Score = HIGH",
          "+ all other factors",
          "prediction"
         ],
         "yaxis": "y"
        }
       ],
       "layout": {
        "annotations": [
         {
          "font": {
           "size": 16
          },
          "showarrow": false,
          "text": "BinaryResultsWrapper",
          "x": 0.5,
          "xanchor": "center",
          "xref": "paper",
          "y": 1,
          "yanchor": "bottom",
          "yref": "paper"
         },
         {
          "font": {
           "size": 16
          },
          "showarrow": false,
          "text": "contribution",
          "x": 0.5,
          "xanchor": "center",
          "xref": "paper",
          "y": 0,
          "yanchor": "top",
          "yref": "paper",
          "yshift": -30
         }
        ],
        "font": {
         "color": "#371ea3"
        },
        "height": 413,
        "margin": {
         "b": 71,
         "r": 30,
         "t": 78
        },
        "shapes": [
         {
          "line": {
           "color": "#371ea3",
           "dash": "dot",
           "width": 1.5
          },
          "type": "line",
          "x0": 0.24999888016276167,
          "x1": 0.24999888016276167,
          "xref": "x",
          "y0": -1,
          "y1": 13,
          "yref": "y"
         }
        ],
        "template": {
         "data": {
          "scatter": [
           {
            "type": "scatter"
           }
          ]
         }
        },
        "title": {
         "text": "Sneha Kulkarni",
         "x": 0.15
        },
        "xaxis": {
         "anchor": "y",
         "automargin": true,
         "domain": [
          0,
          1
         ],
         "fixedrange": true,
         "gridwidth": 2,
         "range": [
          -0.0654,
          0.5014
         ],
         "tickcolor": "white",
         "ticklen": 3,
         "ticks": "outside",
         "type": "linear",
         "zeroline": false
        },
        "yaxis": {
         "anchor": "x",
         "automargin": true,
         "autorange": "reversed",
         "domain": [
          0,
          1
         ],
         "fixedrange": true,
         "gridwidth": 2,
         "tickcolor": "white",
         "ticklen": 10,
         "ticks": "outside",
         "type": "category"
        }
       }
      }
     },
     "metadata": {},
     "output_type": "display_data"
    },
    {
     "data": {
      "application/vnd.plotly.v1+json": {
       "config": {
        "displaylogo": false,
        "modeBarButtonsToRemove": [
         "sendDataToCloud",
         "lasso2d",
         "autoScale2d",
         "select2d",
         "zoom2d",
         "pan2d",
         "zoomIn2d",
         "zoomOut2d",
         "resetScale2d",
         "toggleSpikelines",
         "hoverCompareCartesian",
         "hoverClosestCartesian"
        ],
        "plotlyServerURL": "https://plot.ly",
        "staticPlot": false,
        "toImageButtonOptions": {
         "height": null,
         "width": null
        }
       },
       "data": [
        {
         "base": 0.24999888016276167,
         "connector": {
          "line": {
           "color": "#371ea3",
           "dash": "solid",
           "width": 1
          },
          "mode": "spanning"
         },
         "decreasing": {
          "marker": {
           "color": "#f05a71"
          }
         },
         "hoverinfo": "text+delta",
         "hoverlabel": {
          "bgcolor": "rgba(0,0,0,0.8)"
         },
         "hovertext": [
          "Average response: 0.25<br>Prediction: 1.0",
          "Companion_Feedback = Positive<br>increases average response by",
          "Age = YOUNG<br>increases average response by",
          "Test_Drive_Status = Completed<br>increases average response by",
          "Booking_Lead_Time = LOW<br>increases average response by",
          "OEM_Loyalty_Program = Yes<br>increases average response by",
          "Undecided_Finances = No<br>increases average response by",
          "Down_Payment = HIGH<br>increases average response by",
          "Special_Occasions = Festival<br>increases average response by",
          "Gender = Male<br>increases average response by",
          "Competitive_Factors = Low<br>increases average response by",
          "+ all other factors<br>increases average response by",
          "Average response: 0.25<br>Prediction: 1.0"
         ],
         "increasing": {
          "marker": {
           "color": "#8bdcbe"
          }
         },
         "measure": [
          "relative",
          "relative",
          "relative",
          "relative",
          "relative",
          "relative",
          "relative",
          "relative",
          "relative",
          "relative",
          "relative",
          "relative",
          "total"
         ],
         "orientation": "h",
         "showlegend": false,
         "text": [
          "0.25",
          "+0.045",
          "+0.052",
          "+0.04",
          "+0.012",
          "+0.02",
          "+0.118",
          "+0.066",
          "+0.043",
          "+0.033",
          "+0.136",
          "+0.183",
          "1.0"
         ],
         "textposition": "outside",
         "totals": {
          "marker": {
           "color": "#371ea3"
          }
         },
         "type": "waterfall",
         "x": [
          0,
          0.045,
          0.052,
          0.04,
          0.012,
          0.02,
          0.118,
          0.066,
          0.043,
          0.033,
          0.136,
          0.183,
          0.75
         ],
         "xaxis": "x",
         "y": [
          "intercept",
          "Companion_Feedback = Positive",
          "Age = YOUNG",
          "Test_Drive_Status = Completed",
          "Booking_Lead_Time = LOW",
          "OEM_Loyalty_Program = Yes",
          "Undecided_Finances = No",
          "Down_Payment = HIGH",
          "Special_Occasions = Festival",
          "Gender = Male",
          "Competitive_Factors = Low",
          "+ all other factors",
          "prediction"
         ],
         "yaxis": "y"
        }
       ],
       "layout": {
        "annotations": [
         {
          "font": {
           "size": 16
          },
          "showarrow": false,
          "text": "BinaryResultsWrapper",
          "x": 0.5,
          "xanchor": "center",
          "xref": "paper",
          "y": 1,
          "yanchor": "bottom",
          "yref": "paper"
         },
         {
          "font": {
           "size": 16
          },
          "showarrow": false,
          "text": "contribution",
          "x": 0.5,
          "xanchor": "center",
          "xref": "paper",
          "y": 0,
          "yanchor": "top",
          "yref": "paper",
          "yshift": -30
         }
        ],
        "font": {
         "color": "#371ea3"
        },
        "height": 413,
        "margin": {
         "b": 71,
         "r": 30,
         "t": 78
        },
        "shapes": [
         {
          "line": {
           "color": "#371ea3",
           "dash": "dot",
           "width": 1.5
          },
          "type": "line",
          "x0": 0.24999888016276167,
          "x1": 0.24999888016276167,
          "xref": "x",
          "y0": -1,
          "y1": 13,
          "yref": "y"
         }
        ],
        "template": {
         "data": {
          "scatter": [
           {
            "type": "scatter"
           }
          ]
         }
        },
        "title": {
         "text": "Rahul Desai",
         "x": 0.15
        },
        "xaxis": {
         "anchor": "y",
         "automargin": true,
         "domain": [
          0,
          1
         ],
         "fixedrange": true,
         "gridwidth": 2,
         "range": [
          0.1375,
          1.1125
         ],
         "tickcolor": "white",
         "ticklen": 3,
         "ticks": "outside",
         "type": "linear",
         "zeroline": false
        },
        "yaxis": {
         "anchor": "x",
         "automargin": true,
         "autorange": "reversed",
         "domain": [
          0,
          1
         ],
         "fixedrange": true,
         "gridwidth": 2,
         "tickcolor": "white",
         "ticklen": 10,
         "ticks": "outside",
         "type": "category"
        }
       }
      }
     },
     "metadata": {},
     "output_type": "display_data"
    },
    {
     "data": {
      "application/vnd.plotly.v1+json": {
       "config": {
        "displaylogo": false,
        "modeBarButtonsToRemove": [
         "sendDataToCloud",
         "lasso2d",
         "autoScale2d",
         "select2d",
         "zoom2d",
         "pan2d",
         "zoomIn2d",
         "zoomOut2d",
         "resetScale2d",
         "toggleSpikelines",
         "hoverCompareCartesian",
         "hoverClosestCartesian"
        ],
        "plotlyServerURL": "https://plot.ly",
        "staticPlot": false,
        "toImageButtonOptions": {
         "height": null,
         "width": null
        }
       },
       "data": [
        {
         "base": 0.24999888016276167,
         "connector": {
          "line": {
           "color": "#371ea3",
           "dash": "solid",
           "width": 1
          },
          "mode": "spanning"
         },
         "decreasing": {
          "marker": {
           "color": "#f05a71"
          }
         },
         "hoverinfo": "text+delta",
         "hoverlabel": {
          "bgcolor": "rgba(0,0,0,0.8)"
         },
         "hovertext": [
          "Average response: 0.25<br>Prediction: 1.0",
          "Companion_Feedback = Positive<br>increases average response by",
          "Test_Drive_Status = Completed<br>increases average response by",
          "Lead_Source = Online<br>increases average response by",
          "Booking_Lead_Time = LOW<br>increases average response by",
          "OEM_Loyalty_Program = Yes<br>increases average response by",
          "Undecided_Finances = No<br>increases average response by",
          "Preferred_Delivery_Time = Morning<br>increases average response by",
          "Special_Occasions = Wedding<br>increases average response by",
          "Age = KID<br>decreases average response by",
          "Finances_Status = Approved Loans<br>increases average response by",
          "+ all other factors<br>increases average response by",
          "Average response: 0.25<br>Prediction: 1.0"
         ],
         "increasing": {
          "marker": {
           "color": "#8bdcbe"
          }
         },
         "measure": [
          "relative",
          "relative",
          "relative",
          "relative",
          "relative",
          "relative",
          "relative",
          "relative",
          "relative",
          "relative",
          "relative",
          "relative",
          "total"
         ],
         "orientation": "h",
         "showlegend": false,
         "text": [
          "0.25",
          "+0.045",
          "+0.027",
          "+0.052",
          "+0.035",
          "+0.099",
          "+0.081",
          "+0.136",
          "+0.049",
          "-0.071",
          "+0.094",
          "+0.204",
          "1.0"
         ],
         "textposition": "outside",
         "totals": {
          "marker": {
           "color": "#371ea3"
          }
         },
         "type": "waterfall",
         "x": [
          0,
          0.045,
          0.027,
          0.052,
          0.035,
          0.099,
          0.081,
          0.136,
          0.049,
          -0.071,
          0.094,
          0.204,
          0.75
         ],
         "xaxis": "x",
         "y": [
          "intercept",
          "Companion_Feedback = Positive",
          "Test_Drive_Status = Completed",
          "Lead_Source = Online",
          "Booking_Lead_Time = LOW",
          "OEM_Loyalty_Program = Yes",
          "Undecided_Finances = No",
          "Preferred_Delivery_Time = Morning",
          "Special_Occasions = Wedding",
          "Age = KID",
          "Finances_Status = Approved Loans",
          "+ all other factors",
          "prediction"
         ],
         "yaxis": "y"
        }
       ],
       "layout": {
        "annotations": [
         {
          "font": {
           "size": 16
          },
          "showarrow": false,
          "text": "BinaryResultsWrapper",
          "x": 0.5,
          "xanchor": "center",
          "xref": "paper",
          "y": 1,
          "yanchor": "bottom",
          "yref": "paper"
         },
         {
          "font": {
           "size": 16
          },
          "showarrow": false,
          "text": "contribution",
          "x": 0.5,
          "xanchor": "center",
          "xref": "paper",
          "y": 0,
          "yanchor": "top",
          "yref": "paper",
          "yshift": -30
         }
        ],
        "font": {
         "color": "#371ea3"
        },
        "height": 413,
        "margin": {
         "b": 71,
         "r": 30,
         "t": 78
        },
        "shapes": [
         {
          "line": {
           "color": "#371ea3",
           "dash": "dot",
           "width": 1.5
          },
          "type": "line",
          "x0": 0.24999888016276167,
          "x1": 0.24999888016276167,
          "xref": "x",
          "y0": -1,
          "y1": 13,
          "yref": "y"
         }
        ],
        "template": {
         "data": {
          "scatter": [
           {
            "type": "scatter"
           }
          ]
         }
        },
        "title": {
         "text": "Kavita Singh",
         "x": 0.15
        },
        "xaxis": {
         "anchor": "y",
         "automargin": true,
         "domain": [
          0,
          1
         ],
         "fixedrange": true,
         "gridwidth": 2,
         "range": [
          0.1375,
          1.1125
         ],
         "tickcolor": "white",
         "ticklen": 3,
         "ticks": "outside",
         "type": "linear",
         "zeroline": false
        },
        "yaxis": {
         "anchor": "x",
         "automargin": true,
         "autorange": "reversed",
         "domain": [
          0,
          1
         ],
         "fixedrange": true,
         "gridwidth": 2,
         "tickcolor": "white",
         "ticklen": 10,
         "ticks": "outside",
         "type": "category"
        }
       }
      }
     },
     "metadata": {},
     "output_type": "display_data"
    },
    {
     "data": {
      "application/vnd.plotly.v1+json": {
       "config": {
        "displaylogo": false,
        "modeBarButtonsToRemove": [
         "sendDataToCloud",
         "lasso2d",
         "autoScale2d",
         "select2d",
         "zoom2d",
         "pan2d",
         "zoomIn2d",
         "zoomOut2d",
         "resetScale2d",
         "toggleSpikelines",
         "hoverCompareCartesian",
         "hoverClosestCartesian"
        ],
        "plotlyServerURL": "https://plot.ly",
        "staticPlot": false,
        "toImageButtonOptions": {
         "height": null,
         "width": null
        }
       },
       "data": [
        {
         "base": 0.24999888016276167,
         "connector": {
          "line": {
           "color": "#371ea3",
           "dash": "solid",
           "width": 1
          },
          "mode": "spanning"
         },
         "decreasing": {
          "marker": {
           "color": "#f05a71"
          }
         },
         "hoverinfo": "text+delta",
         "hoverlabel": {
          "bgcolor": "rgba(0,0,0,0.8)"
         },
         "hovertext": [
          "Average response: 0.25<br>Prediction: 0.0",
          "Companion_Feedback = Positive<br>increases average response by",
          "Age = YOUNG<br>increases average response by",
          "Test_Drive_Status = Completed<br>increases average response by",
          "Special_Occasions = Festival<br>increases average response by",
          "Gender = Male<br>increases average response by",
          "Booking_Lead_Time = MEDIUM<br>decreases average response by",
          "Add_Ons = LOW<br>decreases average response by",
          "Stock_Status = Available<br>decreases average response by",
          "Income = LOW<br>decreases average response by",
          "Experience_With_Sales_Rep = Neutral<br>decreases average response by",
          "+ all other factors<br>decreases average response by",
          "Average response: 0.25<br>Prediction: 0.0"
         ],
         "increasing": {
          "marker": {
           "color": "#8bdcbe"
          }
         },
         "measure": [
          "relative",
          "relative",
          "relative",
          "relative",
          "relative",
          "relative",
          "relative",
          "relative",
          "relative",
          "relative",
          "relative",
          "relative",
          "total"
         ],
         "orientation": "h",
         "showlegend": false,
         "text": [
          "0.25",
          "+0.045",
          "+0.052",
          "+0.04",
          "+0.01",
          "+0.004",
          "-0.0",
          "0.0",
          "0.0",
          "0.0",
          "-0.001",
          "-0.4",
          "0.0"
         ],
         "textposition": "outside",
         "totals": {
          "marker": {
           "color": "#371ea3"
          }
         },
         "type": "waterfall",
         "x": [
          0,
          0.045,
          0.052,
          0.04,
          0.01,
          0.004,
          0,
          0,
          0,
          0,
          -0.001,
          -0.4,
          -0.25
         ],
         "xaxis": "x",
         "y": [
          "intercept",
          "Companion_Feedback = Positive",
          "Age = YOUNG",
          "Test_Drive_Status = Completed",
          "Special_Occasions = Festival",
          "Gender = Male",
          "Booking_Lead_Time = MEDIUM",
          "Add_Ons = LOW",
          "Stock_Status = Available",
          "Income = LOW",
          "Experience_With_Sales_Rep = Neutral",
          "+ all other factors",
          "prediction"
         ],
         "yaxis": "y"
        }
       ],
       "layout": {
        "annotations": [
         {
          "font": {
           "size": 16
          },
          "showarrow": false,
          "text": "BinaryResultsWrapper",
          "x": 0.5,
          "xanchor": "center",
          "xref": "paper",
          "y": 1,
          "yanchor": "bottom",
          "yref": "paper"
         },
         {
          "font": {
           "size": 16
          },
          "showarrow": false,
          "text": "contribution",
          "x": 0.5,
          "xanchor": "center",
          "xref": "paper",
          "y": 0,
          "yanchor": "top",
          "yref": "paper",
          "yshift": -30
         }
        ],
        "font": {
         "color": "#371ea3"
        },
        "height": 413,
        "margin": {
         "b": 71,
         "r": 30,
         "t": 78
        },
        "shapes": [
         {
          "line": {
           "color": "#371ea3",
           "dash": "dot",
           "width": 1.5
          },
          "type": "line",
          "x0": 0.24999888016276167,
          "x1": 0.24999888016276167,
          "xref": "x",
          "y0": -1,
          "y1": 13,
          "yref": "y"
         }
        ],
        "template": {
         "data": {
          "scatter": [
           {
            "type": "scatter"
           }
          ]
         }
        },
        "title": {
         "text": "Deepak Sharma",
         "x": 0.15
        },
        "xaxis": {
         "anchor": "y",
         "automargin": true,
         "domain": [
          0,
          1
         ],
         "fixedrange": true,
         "gridwidth": 2,
         "range": [
          -0.06015,
          0.46115
         ],
         "tickcolor": "white",
         "ticklen": 3,
         "ticks": "outside",
         "type": "linear",
         "zeroline": false
        },
        "yaxis": {
         "anchor": "x",
         "automargin": true,
         "autorange": "reversed",
         "domain": [
          0,
          1
         ],
         "fixedrange": true,
         "gridwidth": 2,
         "tickcolor": "white",
         "ticklen": 10,
         "ticks": "outside",
         "type": "category"
        }
       }
      }
     },
     "metadata": {},
     "output_type": "display_data"
    }
   ],
   "source": [
    "import dalex as dx\n",
    "\n",
    "X= new_df.drop('bciindex', axis=1)\n",
    "y = new_df['bciindex']\n",
    "df_index = pd.read_excel('BCI backup.xlsx', sheet_name='Dummy leads')\n",
    "exp = dx.Explainer(fitted_model, X, y)\n",
    "\n",
    "for i in range(len(X)):\n",
    "    # Get feature importance\n",
    "    breakdown = exp.predict_parts(X.iloc[i], type='break_down', label=X.index[0])\n",
    "    breakdown.plot(title=df_index.iloc[i]['Customer name'])\n",
    "# sh_mary = exp.predict_parts(X.iloc[1], type='shap', B=10, label=X.index[0])"
   ]
  },
  {
   "cell_type": "code",
   "execution_count": 17,
   "metadata": {},
   "outputs": [],
   "source": [
    "df_customer_formula = \"bciindex ~ C(Lead_Source) + C(First_Time_Buyer) + C(Age) + C(Gender) + C(Income) + C(OEM_Loyalty_Program)\"\n",
    "df_finances_formula = \"bciindex ~ C(Finances_Status) + C(CIBIL_Score) + C(Down_Payment) + C(Undecided_Finances)\"\n",
    "df_bookingdetails_formula = \"bciindex ~ C(Special_Occasions) + C(Booking_Lead_Time) + C(Needs_Match) + C(Add_Ons)\"\n",
    "df_deliverydetails_formula = \"bciindex ~ C(Dealership_Engagement) + C(Experience_With_Sales_Rep) + C(Companion_Feedback) + C(Stock_Status) + C(Delivery_Date_Status)\"\n",
    "df_customerexperience_formula = \"bciindex ~ C(Competitive_Factors) + C(External_Factors) + C(Customer_Satisfaction_Score) + C(Cancellation_Probability) + C(Vehicle_Type) + C(Test_Drive_Status) + C(Preferred_Delivery_Time)\""
   ]
  },
  {
   "cell_type": "code",
   "execution_count": 18,
   "metadata": {},
   "outputs": [
    {
     "name": "stdout",
     "output_type": "stream",
     "text": [
      "Optimization terminated successfully.\n",
      "         Current function value: 0.000046\n",
      "         Iterations: 17\n",
      "         Function evaluations: 79\n",
      "         Gradient evaluations: 79\n",
      "         Current function value: 0.192593\n",
      "         Iterations: 35\n",
      "         Function evaluations: 114\n",
      "         Gradient evaluations: 114\n",
      "         Current function value: 0.208234\n",
      "         Iterations: 35\n",
      "         Function evaluations: 123\n",
      "         Gradient evaluations: 123\n",
      "         Current function value: 0.095745\n",
      "         Iterations: 35\n",
      "         Function evaluations: 114\n",
      "         Gradient evaluations: 114\n",
      "         Current function value: 0.000469\n",
      "         Iterations: 35\n",
      "         Function evaluations: 137\n",
      "         Gradient evaluations: 137\n"
     ]
    },
    {
     "name": "stderr",
     "output_type": "stream",
     "text": [
      "c:\\Users\\mukulkathuria\\Documents\\mlprac\\driveai\\bciindexanalysis\\bcienv\\Lib\\site-packages\\scipy\\optimize\\_optimize.py:1658: OptimizeWarning:\n",
      "\n",
      "Maximum number of iterations has been exceeded.\n",
      "\n",
      "c:\\Users\\mukulkathuria\\Documents\\mlprac\\driveai\\bciindexanalysis\\bcienv\\Lib\\site-packages\\statsmodels\\base\\model.py:607: ConvergenceWarning:\n",
      "\n",
      "Maximum Likelihood optimization failed to converge. Check mle_retvals\n",
      "\n",
      "c:\\Users\\mukulkathuria\\Documents\\mlprac\\driveai\\bciindexanalysis\\bcienv\\Lib\\site-packages\\scipy\\optimize\\_optimize.py:1658: OptimizeWarning:\n",
      "\n",
      "Maximum number of iterations has been exceeded.\n",
      "\n",
      "c:\\Users\\mukulkathuria\\Documents\\mlprac\\driveai\\bciindexanalysis\\bcienv\\Lib\\site-packages\\statsmodels\\base\\model.py:595: HessianInversionWarning:\n",
      "\n",
      "Inverting hessian failed, no bse or cov_params available\n",
      "\n",
      "c:\\Users\\mukulkathuria\\Documents\\mlprac\\driveai\\bciindexanalysis\\bcienv\\Lib\\site-packages\\statsmodels\\base\\model.py:607: ConvergenceWarning:\n",
      "\n",
      "Maximum Likelihood optimization failed to converge. Check mle_retvals\n",
      "\n",
      "c:\\Users\\mukulkathuria\\Documents\\mlprac\\driveai\\bciindexanalysis\\bcienv\\Lib\\site-packages\\scipy\\optimize\\_optimize.py:1658: OptimizeWarning:\n",
      "\n",
      "Maximum number of iterations has been exceeded.\n",
      "\n",
      "c:\\Users\\mukulkathuria\\Documents\\mlprac\\driveai\\bciindexanalysis\\bcienv\\Lib\\site-packages\\statsmodels\\base\\model.py:607: ConvergenceWarning:\n",
      "\n",
      "Maximum Likelihood optimization failed to converge. Check mle_retvals\n",
      "\n",
      "c:\\Users\\mukulkathuria\\Documents\\mlprac\\driveai\\bciindexanalysis\\bcienv\\Lib\\site-packages\\scipy\\optimize\\_optimize.py:1658: OptimizeWarning:\n",
      "\n",
      "Maximum number of iterations has been exceeded.\n",
      "\n",
      "c:\\Users\\mukulkathuria\\Documents\\mlprac\\driveai\\bciindexanalysis\\bcienv\\Lib\\site-packages\\statsmodels\\base\\model.py:595: HessianInversionWarning:\n",
      "\n",
      "Inverting hessian failed, no bse or cov_params available\n",
      "\n",
      "c:\\Users\\mukulkathuria\\Documents\\mlprac\\driveai\\bciindexanalysis\\bcienv\\Lib\\site-packages\\statsmodels\\base\\model.py:607: ConvergenceWarning:\n",
      "\n",
      "Maximum Likelihood optimization failed to converge. Check mle_retvals\n",
      "\n"
     ]
    }
   ],
   "source": [
    "df_customermodel = sm.Logit.from_formula(df_customer_formula , df).fit(method='cg', skip_hessian=False)\n",
    "df_financesmodel = sm.Logit.from_formula(df_finances_formula , df).fit(method='cg', skip_hessian=False)\n",
    "df_bookingdetailsmodel = sm.Logit.from_formula(df_bookingdetails_formula , df).fit(method='cg', skip_hessian=False)\n",
    "df_deliverydetailsmodel = sm.Logit.from_formula(df_deliverydetails_formula , df).fit(method='cg', skip_hessian=False)\n",
    "df_customerexperiencemodel = sm.Logit.from_formula(df_customerexperience_formula , df).fit(method='cg', skip_hessian=False)\n"
   ]
  },
  {
   "cell_type": "code",
   "execution_count": 19,
   "metadata": {},
   "outputs": [
    {
     "name": "stdout",
     "output_type": "stream",
     "text": [
      "                           Logit Regression Results                           \n",
      "==============================================================================\n",
      "Dep. Variable:               bciindex   No. Observations:                   20\n",
      "Model:                          Logit   Df Residuals:                       10\n",
      "Method:                           MLE   Df Model:                            9\n",
      "Date:                Mon, 24 Feb 2025   Pseudo R-squ.:                  0.9999\n",
      "Time:                        17:06:23   Log-Likelihood:            -0.00091087\n",
      "converged:                       True   LL-Null:                       -11.247\n",
      "Covariance Type:            nonrobust   LLR p-value:                  0.007445\n",
      "=================================================================================================\n",
      "                                    coef    std err          z      P>|z|      [0.025      0.975]\n",
      "-------------------------------------------------------------------------------------------------\n",
      "Intercept                       -19.6401    121.488     -0.162      0.872    -257.752     218.471\n",
      "C(Lead_Source)[T.Referral]      -18.5623    242.318     -0.077      0.939    -493.497     456.373\n",
      "C(Lead_Source)[T.Walk-in]        -1.7617    208.415     -0.008      0.993    -410.248     406.724\n",
      "C(First_Time_Buyer)[T.Yes]       10.8043    264.372      0.041      0.967    -507.354     528.963\n",
      "C(Age)[T.YOUNG]                   9.3001    157.470      0.059      0.953    -299.336     317.936\n",
      "C(Age)[T.OLD]                    -6.0561    907.494     -0.007      0.995   -1784.711    1772.599\n",
      "C(Gender)[T.Male]                -1.0620    216.462     -0.005      0.996    -425.320     423.196\n",
      "C(Income)[T.MEDIUM]               0.5051    228.636      0.002      0.998    -447.614     448.624\n",
      "C(Income)[T.HIGH]                -7.5819    182.032     -0.042      0.967    -364.358     349.194\n",
      "C(OEM_Loyalty_Program)[T.Yes]    19.0319    155.380      0.122      0.903    -285.508     323.572\n",
      "=================================================================================================\n",
      "\n",
      "Possibly complete quasi-separation: A fraction 0.75 of observations can be\n",
      "perfectly predicted. This might indicate that there is complete\n",
      "quasi-separation. In this case some parameters will not be identified.\n"
     ]
    }
   ],
   "source": [
    "print(df_customermodel.summary())"
   ]
  },
  {
   "cell_type": "code",
   "execution_count": 20,
   "metadata": {},
   "outputs": [
    {
     "name": "stdout",
     "output_type": "stream",
     "text": [
      "                           Logit Regression Results                           \n",
      "==============================================================================\n",
      "Dep. Variable:               bciindex   No. Observations:                   20\n",
      "Model:                          Logit   Df Residuals:                       11\n",
      "Method:                           MLE   Df Model:                            8\n",
      "Date:                Mon, 24 Feb 2025   Pseudo R-squ.:                  0.6575\n",
      "Time:                        17:06:23   Log-Likelihood:                -3.8519\n",
      "converged:                      False   LL-Null:                       -11.247\n",
      "Covariance Type:            nonrobust   LLR p-value:                   0.06337\n",
      "=======================================================================================================\n",
      "                                          coef    std err          z      P>|z|      [0.025      0.975]\n",
      "-------------------------------------------------------------------------------------------------------\n",
      "Intercept                              -1.4062     58.154     -0.024      0.981    -115.386     112.574\n",
      "C(Finances_Status)[T.Cash Purchase]   -11.4184     21.501     -0.531      0.595     -53.559      30.722\n",
      "C(Finances_Status)[T.Pending Loans]   -11.1484     31.971     -0.349      0.727     -73.810      51.513\n",
      "C(Finances_Status)[T.Undecided]       -10.2747     64.947     -0.158      0.874    -137.569     117.020\n",
      "C(CIBIL_Score)[T.MEDIUM]                2.0448     58.141      0.035      0.972    -111.910     116.000\n",
      "C(CIBIL_Score)[T.HIGH]                 12.2418     60.953      0.201      0.841    -107.224     131.707\n",
      "C(Down_Payment)[T.MEDIUM]              -5.8877     13.923     -0.423      0.672     -33.177      21.402\n",
      "C(Down_Payment)[T.HIGH]                -0.0973     22.739     -0.004      0.997     -44.665      44.470\n",
      "C(Undecided_Finances)[T.Yes]            3.6590      8.776      0.417      0.677     -13.541      20.859\n",
      "=======================================================================================================\n"
     ]
    }
   ],
   "source": [
    "print(df_financesmodel.summary())\n"
   ]
  },
  {
   "cell_type": "code",
   "execution_count": 21,
   "metadata": {},
   "outputs": [
    {
     "name": "stdout",
     "output_type": "stream",
     "text": [
      "                           Logit Regression Results                           \n",
      "==============================================================================\n",
      "Dep. Variable:               bciindex   No. Observations:                   20\n",
      "Model:                          Logit   Df Residuals:                       12\n",
      "Method:                           MLE   Df Model:                            7\n",
      "Date:                Mon, 24 Feb 2025   Pseudo R-squ.:                  0.6297\n",
      "Time:                        17:06:23   Log-Likelihood:                -4.1647\n",
      "converged:                      False   LL-Null:                       -11.247\n",
      "Covariance Type:            nonrobust   LLR p-value:                   0.04834\n",
      "===================================================================================================\n",
      "                                      coef    std err          z      P>|z|      [0.025      0.975]\n",
      "---------------------------------------------------------------------------------------------------\n",
      "Intercept                          -0.0282        nan        nan        nan         nan         nan\n",
      "C(Special_Occasions)[T.None]       -4.9103        nan        nan        nan         nan         nan\n",
      "C(Special_Occasions)[T.Wedding]     7.7095        nan        nan        nan         nan         nan\n",
      "C(Booking_Lead_Time)[T.MEDIUM]     -7.7343        nan        nan        nan         nan         nan\n",
      "C(Booking_Lead_Time)[T.HIGH]      -13.4194        nan        nan        nan         nan         nan\n",
      "C(Needs_Match)[T.Low]              -3.2070        nan        nan        nan         nan         nan\n",
      "C(Needs_Match)[T.Medium]           -8.7792        nan        nan        nan         nan         nan\n",
      "C(Add_Ons)[T.MEDIUM]                     0        nan        nan        nan         nan         nan\n",
      "C(Add_Ons)[T.HIGH]                  0.0600        nan        nan        nan         nan         nan\n",
      "===================================================================================================\n",
      "\n",
      "Possibly complete quasi-separation: A fraction 0.30 of observations can be\n",
      "perfectly predicted. This might indicate that there is complete\n",
      "quasi-separation. In this case some parameters will not be identified.\n"
     ]
    }
   ],
   "source": [
    "print(df_bookingdetailsmodel.summary())"
   ]
  },
  {
   "cell_type": "code",
   "execution_count": 22,
   "metadata": {},
   "outputs": [
    {
     "name": "stdout",
     "output_type": "stream",
     "text": [
      "                 Generalized Linear Model Regression Results                  \n",
      "==============================================================================\n",
      "Dep. Variable:               bciindex   No. Observations:                   20\n",
      "Model:                            GLM   Df Residuals:                       12\n",
      "Model Family:                Binomial   Df Model:                            7\n",
      "Link Function:                  Logit   Scale:                          1.0000\n",
      "Method:                          IRLS   Log-Likelihood:                -4.1589\n",
      "Date:                Mon, 24 Feb 2025   Deviance:                       8.3178\n",
      "Time:                        17:06:23   Pearson chi2:                     6.00\n",
      "No. Iterations:                    26   Pseudo R-squ. (CS):             0.5078\n",
      "Covariance Type:            nonrobust                                         \n",
      "===================================================================================================\n",
      "                                      coef    std err          z      P>|z|      [0.025      0.975]\n",
      "---------------------------------------------------------------------------------------------------\n",
      "Intercept                        5.773e-15      1.095   5.27e-15      1.000      -2.147       2.147\n",
      "C(Special_Occasions)[T.None]       24.9736   4.91e+05   5.08e-05      1.000   -9.63e+05    9.63e+05\n",
      "C(Special_Occasions)[T.Wedding]    25.9991    1.9e+05      0.000      1.000   -3.72e+05    3.72e+05\n",
      "C(Booking_Lead_Time)[T.MEDIUM]    -25.9991    1.9e+05     -0.000      1.000   -3.72e+05    3.72e+05\n",
      "C(Booking_Lead_Time)[T.HIGH]      -52.3563   3.55e+05     -0.000      1.000   -6.96e+05    6.96e+05\n",
      "C(Needs_Match)[T.Low]             -51.6076   6.14e+05   -8.4e-05      1.000    -1.2e+06     1.2e+06\n",
      "C(Needs_Match)[T.Medium]          -26.6842   1.85e+05     -0.000      1.000   -3.62e+05    3.62e+05\n",
      "C(Add_Ons)[T.MEDIUM]                     0          0        nan        nan           0           0\n",
      "C(Add_Ons)[T.HIGH]                1.11e-15      1.789   6.21e-16      1.000      -3.506       3.506\n",
      "===================================================================================================\n"
     ]
    }
   ],
   "source": [
    "df_bookingdetailsmodelGLM = sm.GLM.from_formula(\n",
    "    df_bookingdetails_formula, df, family=sm.families.Binomial()\n",
    ").fit(attach_wls=True, atol=1e-10)\n",
    "print(df_bookingdetailsmodelGLM.summary())"
   ]
  },
  {
   "cell_type": "code",
   "execution_count": 23,
   "metadata": {},
   "outputs": [
    {
     "name": "stdout",
     "output_type": "stream",
     "text": [
      "[LightGBM] [Warning] No further splits with positive gain, best gain: -inf\n",
      "[LightGBM] [Warning] Stopped training because there are no more leaves that meet the split requirements\n",
      "[25.0, 25.0, 25.0, 25.0, 25.0, 25.0, 25.0, 25.0, 25.0, 25.0, 25.0, 25.0, 25.0, 25.0, 25.0, 25.0, 25.0, 25.0, 25.0, 25.0]\n"
     ]
    }
   ],
   "source": [
    "import re\n",
    "from lightgbm import Dataset, train\n",
    "df_bookinglightbm = X[re.findall(r'C\\((.*?)\\)', df_bookingdetails_formula)]\n",
    "convert_dict = {\n",
    "    \"Special_Occasions\": \"category\",\n",
    "    \"Booking_Lead_Time\": \"category\",\n",
    "    \"Needs_Match\": \"category\",\n",
    "    \"Add_Ons\": \"category\",\n",
    "}\n",
    "df_bookinglightbm = df_bookinglightbm.astype(convert_dict)\n",
    "scale_pos_weight = len(y[y == 0]) / len(y[y == 1])\n",
    "params_lgbm = {\n",
    "    \"objective\": \"binary\",\n",
    "    \"metric\": \"auc\",\n",
    "    \"scale_pos_weight\": scale_pos_weight,\n",
    "    \"learning_rate\": 0.01,\n",
    "    \"subsample\": 0.9,\n",
    "    \"feature_fraction\": 0.9,\n",
    "    \"num_boost_round\": 1,\n",
    "    \"random_state\": 42,\n",
    "    \"verbosity\":0,\n",
    "    \"max_cat_threshold\": 3\n",
    "}\n",
    "lgbmtraindataset = Dataset(df_bookinglightbm, label=y)\n",
    "lgbmtestdataset = Dataset(df_bookinglightbm, label=y)\n",
    "# lgbmevals = [lgbmtraindataset, lgbmtestdataset]\n",
    "lgbmmodel = train(\n",
    "    params=params_lgbm,\n",
    "    train_set=lgbmtraindataset,\n",
    "    # num_boost_round=500,\n",
    "    # valid_sets=lgbmevals,\n",
    "    # valid_names=[\"train\", \"valid\"]\n",
    ")\n",
    "y_probs = lgbmmodel.predict(df_bookinglightbm)\n",
    "probs = [float(value) * 100 for value in y_probs]\n",
    "print(probs)\n"
   ]
  },
  {
   "cell_type": "code",
   "execution_count": 24,
   "metadata": {},
   "outputs": [
    {
     "name": "stdout",
     "output_type": "stream",
     "text": [
      "                           Logit Regression Results                           \n",
      "==============================================================================\n",
      "Dep. Variable:               bciindex   No. Observations:                   20\n",
      "Model:                          Logit   Df Residuals:                       11\n",
      "Method:                           MLE   Df Model:                            8\n",
      "Date:                Mon, 24 Feb 2025   Pseudo R-squ.:                  0.8297\n",
      "Time:                        17:06:24   Log-Likelihood:                -1.9149\n",
      "converged:                      False   LL-Null:                       -11.247\n",
      "Covariance Type:            nonrobust   LLR p-value:                   0.01677\n",
      "============================================================================================================\n",
      "                                               coef    std err          z      P>|z|      [0.025      0.975]\n",
      "------------------------------------------------------------------------------------------------------------\n",
      "Intercept                                  -11.1659   1.74e+07  -6.41e-07      1.000   -3.41e+07    3.41e+07\n",
      "C(Dealership_Engagement)[T.Low]             -8.9823   1.74e+07  -5.16e-07      1.000   -3.41e+07    3.41e+07\n",
      "C(Dealership_Engagement)[T.Medium]          -9.1379     39.554     -0.231      0.817     -86.662      68.386\n",
      "C(Experience_With_Sales_Rep)[T.Neutral]     -2.7986   1.74e+07  -1.61e-07      1.000   -3.41e+07    3.41e+07\n",
      "C(Experience_With_Sales_Rep)[T.Positive]     0.3142   1.74e+07   1.81e-08      1.000   -3.41e+07    3.41e+07\n",
      "C(Companion_Feedback)[T.Neutral]           -10.0886   3891.597     -0.003      0.998   -7637.479    7617.302\n",
      "C(Companion_Feedback)[T.Positive]            6.2937   3891.977      0.002      0.999   -7621.841    7634.428\n",
      "C(Stock_Status)[T.Unavailable]              -1.5823     50.281     -0.031      0.975    -100.130      96.966\n",
      "C(Delivery_Date_Status)[T.On-Time]          13.0105     37.833      0.344      0.731     -61.141      87.163\n",
      "============================================================================================================\n",
      "\n",
      "Possibly complete quasi-separation: A fraction 0.45 of observations can be\n",
      "perfectly predicted. This might indicate that there is complete\n",
      "quasi-separation. In this case some parameters will not be identified.\n"
     ]
    }
   ],
   "source": [
    "print(df_deliverydetailsmodel.summary())"
   ]
  },
  {
   "cell_type": "code",
   "execution_count": 25,
   "metadata": {},
   "outputs": [
    {
     "name": "stdout",
     "output_type": "stream",
     "text": [
      "                           Logit Regression Results                           \n",
      "==============================================================================\n",
      "Dep. Variable:               bciindex   No. Observations:                   20\n",
      "Model:                          Logit   Df Residuals:                        8\n",
      "Method:                           MLE   Df Model:                           11\n",
      "Date:                Mon, 24 Feb 2025   Pseudo R-squ.:                  0.9992\n",
      "Time:                        17:06:24   Log-Likelihood:             -0.0093740\n",
      "converged:                      False   LL-Null:                       -11.247\n",
      "Covariance Type:            nonrobust   LLR p-value:                   0.02094\n",
      "============================================================================================================\n",
      "                                               coef    std err          z      P>|z|      [0.025      0.975]\n",
      "------------------------------------------------------------------------------------------------------------\n",
      "Intercept                                   -2.8789        nan        nan        nan         nan         nan\n",
      "C(Competitive_Factors)[T.Low]               15.1254        nan        nan        nan         nan         nan\n",
      "C(Competitive_Factors)[T.Medium]           -11.3069        nan        nan        nan         nan         nan\n",
      "C(External_Factors)[T.Low]                   8.4209        nan        nan        nan         nan         nan\n",
      "C(External_Factors)[T.Medium]               -4.5370        nan        nan        nan         nan         nan\n",
      "C(Customer_Satisfaction_Score)[T.MEDIUM]    -0.7058        nan        nan        nan         nan         nan\n",
      "C(Customer_Satisfaction_Score)[T.HIGH]       4.5243        nan        nan        nan         nan         nan\n",
      "C(Cancellation_Probability)[T.Low]           5.9857        nan        nan        nan         nan         nan\n",
      "C(Cancellation_Probability)[T.Medium]       -2.6340        nan        nan        nan         nan         nan\n",
      "C(Vehicle_Type)[T.SUV]                     -39.2966        nan        nan        nan         nan         nan\n",
      "C(Vehicle_Type)[T.Sedan]                   -11.4333        nan        nan        nan         nan         nan\n",
      "C(Test_Drive_Status)[T.Not Taken]          -27.0385        nan        nan        nan         nan         nan\n",
      "C(Preferred_Delivery_Time)[T.Evening]       -7.0004        nan        nan        nan         nan         nan\n",
      "C(Preferred_Delivery_Time)[T.Morning]       15.2519        nan        nan        nan         nan         nan\n",
      "============================================================================================================\n",
      "\n",
      "Possibly complete quasi-separation: A fraction 0.60 of observations can be\n",
      "perfectly predicted. This might indicate that there is complete\n",
      "quasi-separation. In this case some parameters will not be identified.\n"
     ]
    }
   ],
   "source": [
    "print(df_customerexperiencemodel.summary())"
   ]
  },
  {
   "cell_type": "code",
   "execution_count": 26,
   "metadata": {},
   "outputs": [],
   "source": [
    "import re\n",
    "df_Customerprofile = X[re.findall(r'C\\((.*?)\\)', df_customer_formula)]\n",
    "df_Finance = X[re.findall(r'C\\((.*?)\\)', df_finances_formula)]\n",
    "df_Bookingdetails = X[re.findall(r'C\\((.*?)\\)', df_bookingdetails_formula)]\n",
    "df_deliveryDetails = X[re.findall(r'C\\((.*?)\\)', df_deliverydetails_formula)]\n",
    "df_customerexperience = X[re.findall(r'C\\((.*?)\\)', df_customerexperience_formula)]"
   ]
  },
  {
   "cell_type": "code",
   "execution_count": 27,
   "metadata": {},
   "outputs": [
    {
     "name": "stdout",
     "output_type": "stream",
     "text": [
      "Preparation of a new explainer is initiated\n",
      "\n",
      "  -> data              : 20 rows 6 cols\n",
      "  -> target variable   : Parameter 'y' was a pandas.Series. Converted to a numpy.ndarray.\n",
      "  -> target variable   : 20 values\n",
      "  -> model_class       : statsmodels.discrete.discrete_model.BinaryResultsWrapper (default)\n",
      "  -> label             : Not specified, model's class short name will be used. (default)\n",
      "  -> predict function  : <function yhat_default at 0x0000028CBF598C20> will be used (default)\n",
      "  -> predict function  : Accepts only pandas.DataFrame, numpy.ndarray causes problems.\n",
      "  -> predicted values  : min = 9.7e-14, mean = 0.25, max = 1.0\n",
      "  -> model type        : regression will be used (default)\n",
      "  -> residual function : difference between y and yhat (default)\n",
      "  -> residuals         : min = -0.000277, mean = -8.19e-06, max = 0.000113\n",
      "  -> model_info        : package statsmodels\n",
      "\n",
      "A new explainer has been created!\n",
      "Preparation of a new explainer is initiated\n",
      "\n",
      "  -> data              : 20 rows 4 cols\n",
      "  -> target variable   : Parameter 'y' was a pandas.Series. Converted to a numpy.ndarray.\n",
      "  -> target variable   : 20 values\n",
      "  -> model_class       : statsmodels.discrete.discrete_model.BinaryResultsWrapper (default)\n",
      "  -> label             : Not specified, model's class short name will be used. (default)\n",
      "  -> predict function  : <function yhat_default at 0x0000028CBF598C20> will be used (default)\n",
      "  -> predict function  : Accepts only pandas.DataFrame, numpy.ndarray causes problems.\n",
      "  -> predicted values  : min = 2.08e-05, mean = 0.248, max = 0.993\n",
      "  -> model type        : regression will be used (default)\n",
      "  -> residual function : difference between y and yhat (default)\n",
      "  -> residuals         : min = -0.654, mean = 0.00186, max = 0.664\n",
      "  -> model_info        : package statsmodels\n",
      "\n",
      "A new explainer has been created!\n",
      "Preparation of a new explainer is initiated\n",
      "\n",
      "  -> data              : 20 rows 4 cols\n",
      "  -> target variable   : Parameter 'y' was a pandas.Series. Converted to a numpy.ndarray.\n",
      "  -> target variable   : 20 values\n",
      "  -> model_class       : statsmodels.discrete.discrete_model.BinaryResultsWrapper (default)\n",
      "  -> label             : Not specified, model's class short name will be used. (default)\n",
      "  -> predict function  : <function yhat_default at 0x0000028CBF598C20> will be used (default)\n",
      "  -> predict function  : Accepts only pandas.DataFrame, numpy.ndarray causes problems.\n",
      "  -> predicted values  : min = 2.22e-10, mean = 0.249, max = 1.0\n",
      "  -> model type        : regression will be used (default)\n",
      "  -> residual function : difference between y and yhat (default)\n",
      "  -> residuals         : min = -0.502, mean = 0.00107, max = 0.513\n",
      "  -> model_info        : package statsmodels\n",
      "\n",
      "A new explainer has been created!\n",
      "Preparation of a new explainer is initiated\n",
      "\n",
      "  -> data              : 20 rows 5 cols\n",
      "  -> target variable   : Parameter 'y' was a pandas.Series. Converted to a numpy.ndarray.\n",
      "  -> target variable   : 20 values\n",
      "  -> model_class       : statsmodels.discrete.discrete_model.BinaryResultsWrapper (default)\n",
      "  -> label             : Not specified, model's class short name will be used. (default)\n",
      "  -> predict function  : <function yhat_default at 0x0000028CBF598C20> will be used (default)\n",
      "  -> predict function  : Accepts only pandas.DataFrame, numpy.ndarray causes problems.\n",
      "  -> predicted values  : min = 7.91e-16, mean = 0.25, max = 1.0\n",
      "  -> model type        : regression will be used (default)\n",
      "  -> residual function : difference between y and yhat (default)\n",
      "  -> residuals         : min = -0.335, mean = -0.00036, max = 0.665\n",
      "  -> model_info        : package statsmodels\n",
      "\n",
      "A new explainer has been created!\n",
      "Preparation of a new explainer is initiated\n",
      "\n",
      "  -> data              : 20 rows 7 cols\n",
      "  -> target variable   : Parameter 'y' was a pandas.Series. Converted to a numpy.ndarray.\n",
      "  -> target variable   : 20 values\n",
      "  -> model_class       : statsmodels.discrete.discrete_model.BinaryResultsWrapper (default)\n",
      "  -> label             : Not specified, model's class short name will be used. (default)\n",
      "  -> predict function  : <function yhat_default at 0x0000028CBF598C20> will be used (default)\n",
      "  -> predict function  : Accepts only pandas.DataFrame, numpy.ndarray causes problems.\n",
      "  -> predicted values  : min = 5.13e-27, mean = 0.25, max = 0.999\n",
      "  -> model type        : regression will be used (default)\n",
      "  -> residual function : difference between y and yhat (default)\n",
      "  -> residuals         : min = -0.00294, mean = -2.85e-05, max = 0.00113\n",
      "  -> model_info        : package statsmodels\n",
      "\n",
      "A new explainer has been created!\n"
     ]
    },
    {
     "name": "stderr",
     "output_type": "stream",
     "text": [
      "c:\\Users\\mukulkathuria\\Documents\\mlprac\\driveai\\bciindexanalysis\\bcienv\\Lib\\site-packages\\dalex\\_explainer\\object.py:138: UserWarning:\n",
      "\n",
      "\n",
      "  -> predicted values  : 'predict_function' must return numpy.ndarray (1d)\n",
      "\n",
      "c:\\Users\\mukulkathuria\\Documents\\mlprac\\driveai\\bciindexanalysis\\bcienv\\Lib\\site-packages\\dalex\\_explainer\\object.py:138: UserWarning:\n",
      "\n",
      "\n",
      "  -> predicted values  : 'predict_function' must return numpy.ndarray (1d)\n",
      "\n",
      "c:\\Users\\mukulkathuria\\Documents\\mlprac\\driveai\\bciindexanalysis\\bcienv\\Lib\\site-packages\\dalex\\_explainer\\object.py:138: UserWarning:\n",
      "\n",
      "\n",
      "  -> predicted values  : 'predict_function' must return numpy.ndarray (1d)\n",
      "\n",
      "c:\\Users\\mukulkathuria\\Documents\\mlprac\\driveai\\bciindexanalysis\\bcienv\\Lib\\site-packages\\dalex\\_explainer\\object.py:138: UserWarning:\n",
      "\n",
      "\n",
      "  -> predicted values  : 'predict_function' must return numpy.ndarray (1d)\n",
      "\n",
      "c:\\Users\\mukulkathuria\\Documents\\mlprac\\driveai\\bciindexanalysis\\bcienv\\Lib\\site-packages\\dalex\\_explainer\\object.py:138: UserWarning:\n",
      "\n",
      "\n",
      "  -> predicted values  : 'predict_function' must return numpy.ndarray (1d)\n",
      "\n"
     ]
    }
   ],
   "source": [
    "exp1 = dx.Explainer(df_customermodel, df_Customerprofile, y)\n",
    "exp2 = dx.Explainer(df_financesmodel, df_Finance, y)\n",
    "exp3 = dx.Explainer(df_bookingdetailsmodel, df_Bookingdetails, y)\n",
    "exp4 = dx.Explainer(df_deliverydetailsmodel, df_deliveryDetails, y)\n",
    "exp5 = dx.Explainer(df_customerexperiencemodel, df_customerexperience, y)"
   ]
  },
  {
   "cell_type": "code",
   "execution_count": 28,
   "metadata": {},
   "outputs": [
    {
     "data": {
      "application/vnd.plotly.v1+json": {
       "config": {
        "displaylogo": false,
        "modeBarButtonsToRemove": [
         "sendDataToCloud",
         "lasso2d",
         "autoScale2d",
         "select2d",
         "zoom2d",
         "pan2d",
         "zoomIn2d",
         "zoomOut2d",
         "resetScale2d",
         "toggleSpikelines",
         "hoverCompareCartesian",
         "hoverClosestCartesian"
        ],
        "plotlyServerURL": "https://plot.ly",
        "staticPlot": false,
        "toImageButtonOptions": {
         "height": null,
         "width": null
        }
       },
       "data": [
        {
         "base": 0.2500081855269921,
         "connector": {
          "line": {
           "color": "#371ea3",
           "dash": "solid",
           "width": 1
          },
          "mode": "spanning"
         },
         "decreasing": {
          "marker": {
           "color": "#f05a71"
          }
         },
         "hoverinfo": "text+delta",
         "hoverlabel": {
          "bgcolor": "rgba(0,0,0,0.8)"
         },
         "hovertext": [
          "Average response: 0.25<br>Prediction: 0.0",
          "Lead_Source = Walk-in<br>increases average response by",
          "First_Time_Buyer = Yes<br>increases average response by",
          "Income = LOW<br>increases average response by",
          "Gender = Male<br>decreases average response by",
          "Age = KID<br>increases average response by",
          "OEM_Loyalty_Program = No<br>decreases average response by",
          "Average response: 0.25<br>Prediction: 0.0"
         ],
         "increasing": {
          "marker": {
           "color": "#8bdcbe"
          }
         },
         "measure": [
          "relative",
          "relative",
          "relative",
          "relative",
          "relative",
          "relative",
          "relative",
          "total"
         ],
         "orientation": "h",
         "showlegend": false,
         "text": [
          "0.25",
          "+0.115",
          "+0.082",
          "+0.09",
          "-0.038",
          "+0.001",
          "-0.5",
          "0.0"
         ],
         "textposition": "outside",
         "totals": {
          "marker": {
           "color": "#371ea3"
          }
         },
         "type": "waterfall",
         "x": [
          0,
          0.115,
          0.082,
          0.09,
          -0.038,
          0.001,
          -0.5,
          -0.25
         ],
         "xaxis": "x",
         "y": [
          "intercept",
          "Lead_Source = Walk-in",
          "First_Time_Buyer = Yes",
          "Income = LOW",
          "Gender = Male",
          "Age = KID",
          "OEM_Loyalty_Program = No",
          "prediction"
         ],
         "yaxis": "y"
        }
       ],
       "layout": {
        "annotations": [
         {
          "font": {
           "size": 16
          },
          "showarrow": false,
          "text": "Customer Profile",
          "x": 0.5,
          "xanchor": "center",
          "xref": "paper",
          "y": 1,
          "yanchor": "bottom",
          "yref": "paper"
         },
         {
          "font": {
           "size": 16
          },
          "showarrow": false,
          "text": "contribution",
          "x": 0.5,
          "xanchor": "center",
          "xref": "paper",
          "y": 0,
          "yanchor": "top",
          "yref": "paper",
          "yshift": -30
         }
        ],
        "font": {
         "color": "#371ea3"
        },
        "height": 313,
        "margin": {
         "b": 71,
         "r": 30,
         "t": 78
        },
        "shapes": [
         {
          "line": {
           "color": "#371ea3",
           "dash": "dot",
           "width": 1.5
          },
          "type": "line",
          "x0": 0.2500081855269921,
          "x1": 0.2500081855269921,
          "xref": "x",
          "y0": -1,
          "y1": 8,
          "yref": "y"
         }
        ],
        "template": {
         "data": {
          "scatter": [
           {
            "type": "scatter"
           }
          ]
         }
        },
        "title": {
         "text": "Ramesh Choudhary",
         "x": 0.15
        },
        "xaxis": {
         "anchor": "y",
         "automargin": true,
         "domain": [
          0,
          1
         ],
         "fixedrange": true,
         "gridwidth": 2,
         "range": [
          -0.08055,
          0.61755
         ],
         "tickcolor": "white",
         "ticklen": 3,
         "ticks": "outside",
         "type": "linear",
         "zeroline": false
        },
        "yaxis": {
         "anchor": "x",
         "automargin": true,
         "autorange": "reversed",
         "domain": [
          0,
          1
         ],
         "fixedrange": true,
         "gridwidth": 2,
         "tickcolor": "white",
         "ticklen": 10,
         "ticks": "outside",
         "type": "category"
        }
       }
      }
     },
     "metadata": {},
     "output_type": "display_data"
    },
    {
     "data": {
      "application/vnd.plotly.v1+json": {
       "config": {
        "displaylogo": false,
        "modeBarButtonsToRemove": [
         "sendDataToCloud",
         "lasso2d",
         "autoScale2d",
         "select2d",
         "zoom2d",
         "pan2d",
         "zoomIn2d",
         "zoomOut2d",
         "resetScale2d",
         "toggleSpikelines",
         "hoverCompareCartesian",
         "hoverClosestCartesian"
        ],
        "plotlyServerURL": "https://plot.ly",
        "staticPlot": false,
        "toImageButtonOptions": {
         "height": null,
         "width": null
        }
       },
       "data": [
        {
         "base": 0.24813679039262504,
         "connector": {
          "line": {
           "color": "#371ea3",
           "dash": "solid",
           "width": 1
          },
          "mode": "spanning"
         },
         "decreasing": {
          "marker": {
           "color": "#f05a71"
          }
         },
         "hoverinfo": "text+delta",
         "hoverlabel": {
          "bgcolor": "rgba(0,0,0,0.8)"
         },
         "hovertext": [
          "Average response: 0.248<br>Prediction: 0.0",
          "Undecided_Finances = Yes<br>increases average response by",
          "Down_Payment = LOW<br>increases average response by",
          "Finances_Status = Undecided<br>decreases average response by",
          "CIBIL_Score = LOW<br>decreases average response by",
          "Average response: 0.248<br>Prediction: 0.0"
         ],
         "increasing": {
          "marker": {
           "color": "#8bdcbe"
          }
         },
         "measure": [
          "relative",
          "relative",
          "relative",
          "relative",
          "relative",
          "total"
         ],
         "orientation": "h",
         "showlegend": false,
         "text": [
          "0.248",
          "+0.156",
          "+0.131",
          "-0.239",
          "-0.296",
          "0.0"
         ],
         "textposition": "outside",
         "totals": {
          "marker": {
           "color": "#371ea3"
          }
         },
         "type": "waterfall",
         "x": [
          0,
          0.156,
          0.131,
          -0.239,
          -0.296,
          -0.248
         ],
         "xaxis": "x",
         "y": [
          "intercept",
          "Undecided_Finances = Yes",
          "Down_Payment = LOW",
          "Finances_Status = Undecided",
          "CIBIL_Score = LOW",
          "prediction"
         ],
         "yaxis": "y"
        }
       ],
       "layout": {
        "annotations": [
         {
          "font": {
           "size": 16
          },
          "showarrow": false,
          "text": "Finances",
          "x": 0.5,
          "xanchor": "center",
          "xref": "paper",
          "y": 1,
          "yanchor": "bottom",
          "yref": "paper"
         },
         {
          "font": {
           "size": 16
          },
          "showarrow": false,
          "text": "contribution",
          "x": 0.5,
          "xanchor": "center",
          "xref": "paper",
          "y": 0,
          "yanchor": "top",
          "yref": "paper",
          "yshift": -30
         }
        ],
        "font": {
         "color": "#371ea3"
        },
        "height": 273,
        "margin": {
         "b": 71,
         "r": 30,
         "t": 78
        },
        "shapes": [
         {
          "line": {
           "color": "#371ea3",
           "dash": "dot",
           "width": 1.5
          },
          "type": "line",
          "x0": 0.24813679039262504,
          "x1": 0.24813679039262504,
          "xref": "x",
          "y0": -1,
          "y1": 6,
          "yref": "y"
         }
        ],
        "template": {
         "data": {
          "scatter": [
           {
            "type": "scatter"
           }
          ]
         }
        },
        "title": {
         "text": "Ramesh Choudhary",
         "x": 0.15
        },
        "xaxis": {
         "anchor": "y",
         "automargin": true,
         "domain": [
          0,
          1
         ],
         "fixedrange": true,
         "gridwidth": 2,
         "range": [
          -0.0804,
          0.6164000000000001
         ],
         "tickcolor": "white",
         "ticklen": 3,
         "ticks": "outside",
         "type": "linear",
         "zeroline": false
        },
        "yaxis": {
         "anchor": "x",
         "automargin": true,
         "autorange": "reversed",
         "domain": [
          0,
          1
         ],
         "fixedrange": true,
         "gridwidth": 2,
         "tickcolor": "white",
         "ticklen": 10,
         "ticks": "outside",
         "type": "category"
        }
       }
      }
     },
     "metadata": {},
     "output_type": "display_data"
    },
    {
     "data": {
      "application/vnd.plotly.v1+json": {
       "config": {
        "displaylogo": false,
        "modeBarButtonsToRemove": [
         "sendDataToCloud",
         "lasso2d",
         "autoScale2d",
         "select2d",
         "zoom2d",
         "pan2d",
         "zoomIn2d",
         "zoomOut2d",
         "resetScale2d",
         "toggleSpikelines",
         "hoverCompareCartesian",
         "hoverClosestCartesian"
        ],
        "plotlyServerURL": "https://plot.ly",
        "staticPlot": false,
        "toImageButtonOptions": {
         "height": null,
         "width": null
        }
       },
       "data": [
        {
         "base": 0.24892522124140437,
         "connector": {
          "line": {
           "color": "#371ea3",
           "dash": "solid",
           "width": 1
          },
          "mode": "spanning"
         },
         "decreasing": {
          "marker": {
           "color": "#f05a71"
          }
         },
         "hoverinfo": "text+delta",
         "hoverlabel": {
          "bgcolor": "rgba(0,0,0,0.8)"
         },
         "hovertext": [
          "Average response: 0.249<br>Prediction: 0.493",
          "Booking_Lead_Time = LOW<br>increases average response by",
          "Needs_Match = High<br>increases average response by",
          "Add_Ons = LOW<br>decreases average response by",
          "Special_Occasions = Festival<br>decreases average response by",
          "Average response: 0.249<br>Prediction: 0.493"
         ],
         "increasing": {
          "marker": {
           "color": "#8bdcbe"
          }
         },
         "measure": [
          "relative",
          "relative",
          "relative",
          "relative",
          "relative",
          "total"
         ],
         "orientation": "h",
         "showlegend": false,
         "text": [
          "0.249",
          "+0.113",
          "+0.186",
          "-0.001",
          "-0.055",
          "0.493"
         ],
         "textposition": "outside",
         "totals": {
          "marker": {
           "color": "#371ea3"
          }
         },
         "type": "waterfall",
         "x": [
          0,
          0.113,
          0.186,
          -0.001,
          -0.055,
          0.244
         ],
         "xaxis": "x",
         "y": [
          "intercept",
          "Booking_Lead_Time = LOW",
          "Needs_Match = High",
          "Add_Ons = LOW",
          "Special_Occasions = Festival",
          "prediction"
         ],
         "yaxis": "y"
        }
       ],
       "layout": {
        "annotations": [
         {
          "font": {
           "size": 16
          },
          "showarrow": false,
          "text": "Booking Details",
          "x": 0.5,
          "xanchor": "center",
          "xref": "paper",
          "y": 1,
          "yanchor": "bottom",
          "yref": "paper"
         },
         {
          "font": {
           "size": 16
          },
          "showarrow": false,
          "text": "contribution",
          "x": 0.5,
          "xanchor": "center",
          "xref": "paper",
          "y": 0,
          "yanchor": "top",
          "yref": "paper",
          "yshift": -30
         }
        ],
        "font": {
         "color": "#371ea3"
        },
        "height": 273,
        "margin": {
         "b": 71,
         "r": 30,
         "t": 78
        },
        "shapes": [
         {
          "line": {
           "color": "#371ea3",
           "dash": "dot",
           "width": 1.5
          },
          "type": "line",
          "x0": 0.24892522124140437,
          "x1": 0.24892522124140437,
          "xref": "x",
          "y0": -1,
          "y1": 6,
          "yref": "y"
         }
        ],
        "template": {
         "data": {
          "scatter": [
           {
            "type": "scatter"
           }
          ]
         }
        },
        "title": {
         "text": "Ramesh Choudhary",
         "x": 0.15
        },
        "xaxis": {
         "anchor": "y",
         "automargin": true,
         "domain": [
          0,
          1
         ],
         "fixedrange": true,
         "gridwidth": 2,
         "range": [
          0.204,
          0.5940000000000001
         ],
         "tickcolor": "white",
         "ticklen": 3,
         "ticks": "outside",
         "type": "linear",
         "zeroline": false
        },
        "yaxis": {
         "anchor": "x",
         "automargin": true,
         "autorange": "reversed",
         "domain": [
          0,
          1
         ],
         "fixedrange": true,
         "gridwidth": 2,
         "tickcolor": "white",
         "ticklen": 10,
         "ticks": "outside",
         "type": "category"
        }
       }
      }
     },
     "metadata": {},
     "output_type": "display_data"
    },
    {
     "data": {
      "application/vnd.plotly.v1+json": {
       "config": {
        "displaylogo": false,
        "modeBarButtonsToRemove": [
         "sendDataToCloud",
         "lasso2d",
         "autoScale2d",
         "select2d",
         "zoom2d",
         "pan2d",
         "zoomIn2d",
         "zoomOut2d",
         "resetScale2d",
         "toggleSpikelines",
         "hoverCompareCartesian",
         "hoverClosestCartesian"
        ],
        "plotlyServerURL": "https://plot.ly",
        "staticPlot": false,
        "toImageButtonOptions": {
         "height": null,
         "width": null
        }
       },
       "data": [
        {
         "base": 0.2503596925045235,
         "connector": {
          "line": {
           "color": "#371ea3",
           "dash": "solid",
           "width": 1
          },
          "mode": "spanning"
         },
         "decreasing": {
          "marker": {
           "color": "#f05a71"
          }
         },
         "hoverinfo": "text+delta",
         "hoverlabel": {
          "bgcolor": "rgba(0,0,0,0.8)"
         },
         "hovertext": [
          "Average response: 0.25<br>Prediction: 0.335",
          "Companion_Feedback = Positive<br>increases average response by",
          "Delivery_Date_Status = On-Time<br>increases average response by",
          "Stock_Status = Available<br>increases average response by",
          "Experience_With_Sales_Rep = Positive<br>increases average response by",
          "Dealership_Engagement = Medium<br>decreases average response by",
          "Average response: 0.25<br>Prediction: 0.335"
         ],
         "increasing": {
          "marker": {
           "color": "#8bdcbe"
          }
         },
         "measure": [
          "relative",
          "relative",
          "relative",
          "relative",
          "relative",
          "relative",
          "total"
         ],
         "orientation": "h",
         "showlegend": false,
         "text": [
          "0.25",
          "+0.145",
          "+0.102",
          "+0.005",
          "+0.106",
          "-0.273",
          "0.335"
         ],
         "textposition": "outside",
         "totals": {
          "marker": {
           "color": "#371ea3"
          }
         },
         "type": "waterfall",
         "x": [
          0,
          0.145,
          0.102,
          0.005,
          0.106,
          -0.273,
          0.085
         ],
         "xaxis": "x",
         "y": [
          "intercept",
          "Companion_Feedback = Positive",
          "Delivery_Date_Status = On-Time",
          "Stock_Status = Available",
          "Experience_With_Sales_Rep = Positive",
          "Dealership_Engagement = Medium",
          "prediction"
         ],
         "yaxis": "y"
        }
       ],
       "layout": {
        "annotations": [
         {
          "font": {
           "size": 16
          },
          "showarrow": false,
          "text": "Delivery Details",
          "x": 0.5,
          "xanchor": "center",
          "xref": "paper",
          "y": 1,
          "yanchor": "bottom",
          "yref": "paper"
         },
         {
          "font": {
           "size": 16
          },
          "showarrow": false,
          "text": "contribution",
          "x": 0.5,
          "xanchor": "center",
          "xref": "paper",
          "y": 0,
          "yanchor": "top",
          "yref": "paper",
          "yshift": -30
         }
        ],
        "font": {
         "color": "#371ea3"
        },
        "height": 293,
        "margin": {
         "b": 71,
         "r": 30,
         "t": 78
        },
        "shapes": [
         {
          "line": {
           "color": "#371ea3",
           "dash": "dot",
           "width": 1.5
          },
          "type": "line",
          "x0": 0.2503596925045235,
          "x1": 0.2503596925045235,
          "xref": "x",
          "y0": -1,
          "y1": 7,
          "yref": "y"
         }
        ],
        "template": {
         "data": {
          "scatter": [
           {
            "type": "scatter"
           }
          ]
         }
        },
        "title": {
         "text": "Ramesh Choudhary",
         "x": 0.15
        },
        "xaxis": {
         "anchor": "y",
         "automargin": true,
         "domain": [
          0,
          1
         ],
         "fixedrange": true,
         "gridwidth": 2,
         "range": [
          0.1963,
          0.6617
         ],
         "tickcolor": "white",
         "ticklen": 3,
         "ticks": "outside",
         "type": "linear",
         "zeroline": false
        },
        "yaxis": {
         "anchor": "x",
         "automargin": true,
         "autorange": "reversed",
         "domain": [
          0,
          1
         ],
         "fixedrange": true,
         "gridwidth": 2,
         "tickcolor": "white",
         "ticklen": 10,
         "ticks": "outside",
         "type": "category"
        }
       }
      }
     },
     "metadata": {},
     "output_type": "display_data"
    },
    {
     "data": {
      "application/vnd.plotly.v1+json": {
       "config": {
        "displaylogo": false,
        "modeBarButtonsToRemove": [
         "sendDataToCloud",
         "lasso2d",
         "autoScale2d",
         "select2d",
         "zoom2d",
         "pan2d",
         "zoomIn2d",
         "zoomOut2d",
         "resetScale2d",
         "toggleSpikelines",
         "hoverCompareCartesian",
         "hoverClosestCartesian"
        ],
        "plotlyServerURL": "https://plot.ly",
        "staticPlot": false,
        "toImageButtonOptions": {
         "height": null,
         "width": null
        }
       },
       "data": [
        {
         "base": 0.2500285199014719,
         "connector": {
          "line": {
           "color": "#371ea3",
           "dash": "solid",
           "width": 1
          },
          "mode": "spanning"
         },
         "decreasing": {
          "marker": {
           "color": "#f05a71"
          }
         },
         "hoverinfo": "text+delta",
         "hoverlabel": {
          "bgcolor": "rgba(0,0,0,0.8)"
         },
         "hovertext": [
          "Average response: 0.25<br>Prediction: 0.001",
          "External_Factors = Low<br>increases average response by",
          "Test_Drive_Status = Completed<br>increases average response by",
          "Vehicle_Type = Sedan<br>increases average response by",
          "Cancellation_Probability = Low<br>increases average response by",
          "Customer_Satisfaction_Score = HIGH<br>increases average response by",
          "Preferred_Delivery_Time = Afternoon<br>increases average response by",
          "Competitive_Factors = Medium<br>decreases average response by",
          "Average response: 0.25<br>Prediction: 0.001"
         ],
         "increasing": {
          "marker": {
           "color": "#8bdcbe"
          }
         },
         "measure": [
          "relative",
          "relative",
          "relative",
          "relative",
          "relative",
          "relative",
          "relative",
          "relative",
          "total"
         ],
         "orientation": "h",
         "showlegend": false,
         "text": [
          "0.25",
          "+0.069",
          "+0.101",
          "+0.029",
          "+0.052",
          "+0.017",
          "+0.031",
          "-0.547",
          "0.001"
         ],
         "textposition": "outside",
         "totals": {
          "marker": {
           "color": "#371ea3"
          }
         },
         "type": "waterfall",
         "x": [
          0,
          0.069,
          0.101,
          0.029,
          0.052,
          0.017,
          0.031,
          -0.547,
          -0.249
         ],
         "xaxis": "x",
         "y": [
          "intercept",
          "External_Factors = Low",
          "Test_Drive_Status = Completed",
          "Vehicle_Type = Sedan",
          "Cancellation_Probability = Low",
          "Customer_Satisfaction_Score = HIGH",
          "Preferred_Delivery_Time = Afternoon",
          "Competitive_Factors = Medium",
          "prediction"
         ],
         "yaxis": "y"
        }
       ],
       "layout": {
        "annotations": [
         {
          "font": {
           "size": 16
          },
          "showarrow": false,
          "text": "Customer Details",
          "x": 0.5,
          "xanchor": "center",
          "xref": "paper",
          "y": 1,
          "yanchor": "bottom",
          "yref": "paper"
         },
         {
          "font": {
           "size": 16
          },
          "showarrow": false,
          "text": "contribution",
          "x": 0.5,
          "xanchor": "center",
          "xref": "paper",
          "y": 0,
          "yanchor": "top",
          "yref": "paper",
          "yshift": -30
         }
        ],
        "font": {
         "color": "#371ea3"
        },
        "height": 333,
        "margin": {
         "b": 71,
         "r": 30,
         "t": 78
        },
        "shapes": [
         {
          "line": {
           "color": "#371ea3",
           "dash": "dot",
           "width": 1.5
          },
          "type": "line",
          "x0": 0.2500285199014719,
          "x1": 0.2500285199014719,
          "xref": "x",
          "y0": -1,
          "y1": 9,
          "yref": "y"
         }
        ],
        "template": {
         "data": {
          "scatter": [
           {
            "type": "scatter"
           }
          ]
         }
        },
        "title": {
         "text": "Ramesh Choudhary",
         "x": 0.15
        },
        "xaxis": {
         "anchor": "y",
         "automargin": true,
         "domain": [
          0,
          1
         ],
         "fixedrange": true,
         "gridwidth": 2,
         "range": [
          -0.08120000000000001,
          0.6312000000000001
         ],
         "tickcolor": "white",
         "ticklen": 3,
         "ticks": "outside",
         "type": "linear",
         "zeroline": false
        },
        "yaxis": {
         "anchor": "x",
         "automargin": true,
         "autorange": "reversed",
         "domain": [
          0,
          1
         ],
         "fixedrange": true,
         "gridwidth": 2,
         "tickcolor": "white",
         "ticklen": 10,
         "ticks": "outside",
         "type": "category"
        }
       }
      }
     },
     "metadata": {},
     "output_type": "display_data"
    },
    {
     "data": {
      "image/png": "[encoded data removed]",
      "text/plain": [
       "<Figure size 640x480 with 1 Axes>"
      ]
     },
     "metadata": {},
     "output_type": "display_data"
    },
    {
     "name": "stdout",
     "output_type": "stream",
     "text": [
      "Final Prbability:  16.59\n"
     ]
    }
   ],
   "source": [
    "\n",
    "\n",
    "def getValuesofCustomer(person):\n",
    "    index = np.where(df_index['Customer name'] == person)[0][0]\n",
    "    to_predicted = new_df.iloc[int(index)]\n",
    "\n",
    "    model1values = to_predicted[df_Customerprofile.columns]\n",
    "    breakdown = exp1.predict_parts(to_predicted[df_Customerprofile.columns], type='break_down', label='Customer Profile')\n",
    "    breakdown.plot(title=person)\n",
    "\n",
    "    model2values = to_predicted[df_Finance.columns]\n",
    "    breakdown = exp2.predict_parts(to_predicted[df_Finance.columns], type='break_down', label='Finances')\n",
    "    breakdown.plot(title=person)\n",
    "\n",
    "    model3values = to_predicted[df_Bookingdetails.columns]\n",
    "   \n",
    "    breakdown = exp3.predict_parts(to_predicted[df_Bookingdetails.columns], type='break_down', label='Booking Details')\n",
    "    breakdown.plot(title=person)\n",
    "\n",
    "    model4values = to_predicted[df_deliveryDetails.columns]\n",
    "   \n",
    "    breakdown = exp4.predict_parts(to_predicted[df_deliveryDetails.columns], type='break_down', label='Delivery Details')\n",
    "    breakdown.plot(title=person)\n",
    "\n",
    "    model5values = to_predicted[df_customerexperience.columns]\n",
    "   \n",
    "    breakdown = exp5.predict_parts(to_predicted[df_customerexperience.columns], type='break_down', label='Customer Details')\n",
    "    breakdown.plot(title=person)\n",
    "\n",
    "    model1_predicted = df_customermodel.predict(model1values).to_numpy()[0]\n",
    "    model2_predicted = df_financesmodel.predict(model2values).to_numpy()[0]\n",
    "    model3_predicted = df_bookingdetailsmodel.predict(model3values).to_numpy()[0]\n",
    "    model4_predicted = df_deliverydetailsmodel.predict(model4values).to_numpy()[0]\n",
    "    model5_predicted = df_customerexperiencemodel.predict(model5values).to_numpy()[0]\n",
    "    finalresult  = model1_predicted + model2_predicted + model3_predicted + model4_predicted + model5_predicted\n",
    "    bar_labels = ['Customer Profile', 'Finances', 'Booking Details', 'Delivery Details','Customer Details']\n",
    "    bar_values = [model1_predicted,model2_predicted,model3_predicted,model4_predicted,model5_predicted]\n",
    "    plt.bar(bar_labels, bar_values)\n",
    "    plt.title('How its impacted to final output ?')\n",
    "    plt.xlabel('Profiles')\n",
    "    plt.ylabel('Weights')\n",
    "    plt.xticks(fontsize=6)\n",
    "    plt.show()\n",
    "    return round((finalresult * 100) / 5,2)\n",
    "\n",
    "print(\"Final Prbability: \", getValuesofCustomer('Ramesh Choudhary'))"
   ]
  },
  {
   "cell_type": "code",
   "execution_count": 29,
   "metadata": {},
   "outputs": [
    {
     "data": {
      "application/vnd.plotly.v1+json": {
       "config": {
        "displaylogo": false,
        "modeBarButtonsToRemove": [
         "sendDataToCloud",
         "lasso2d",
         "autoScale2d",
         "select2d",
         "zoom2d",
         "pan2d",
         "zoomIn2d",
         "zoomOut2d",
         "resetScale2d",
         "toggleSpikelines",
         "hoverCompareCartesian",
         "hoverClosestCartesian"
        ],
        "plotlyServerURL": "https://plot.ly",
        "staticPlot": false,
        "toImageButtonOptions": {
         "height": null,
         "width": null
        }
       },
       "data": [
        {
         "base": 0.2500081855269921,
         "connector": {
          "line": {
           "color": "#371ea3",
           "dash": "solid",
           "width": 1
          },
          "mode": "spanning"
         },
         "decreasing": {
          "marker": {
           "color": "#f05a71"
          }
         },
         "hoverinfo": "text+delta",
         "hoverlabel": {
          "bgcolor": "rgba(0,0,0,0.8)"
         },
         "hovertext": [
          "Average response: 0.25<br>Prediction: 1.0",
          "OEM_Loyalty_Program = Yes<br>increases average response by",
          "Age = YOUNG<br>increases average response by",
          "Lead_Source = Walk-in<br>increases average response by",
          "First_Time_Buyer = Yes<br>increases average response by",
          "Gender = Male<br>decreases average response by",
          "Income = HIGH<br>decreases average response by",
          "Average response: 0.25<br>Prediction: 1.0"
         ],
         "increasing": {
          "marker": {
           "color": "#8bdcbe"
          }
         },
         "measure": [
          "relative",
          "relative",
          "relative",
          "relative",
          "relative",
          "relative",
          "relative",
          "total"
         ],
         "orientation": "h",
         "showlegend": false,
         "text": [
          "0.25",
          "+0.323",
          "+0.15",
          "+0.126",
          "+0.151",
          "-0.0",
          "-0.0",
          "1.0"
         ],
         "textposition": "outside",
         "totals": {
          "marker": {
           "color": "#371ea3"
          }
         },
         "type": "waterfall",
         "x": [
          0,
          0.323,
          0.15,
          0.126,
          0.151,
          0,
          0,
          0.75
         ],
         "xaxis": "x",
         "y": [
          "intercept",
          "OEM_Loyalty_Program = Yes",
          "Age = YOUNG",
          "Lead_Source = Walk-in",
          "First_Time_Buyer = Yes",
          "Gender = Male",
          "Income = HIGH",
          "prediction"
         ],
         "yaxis": "y"
        }
       ],
       "layout": {
        "annotations": [
         {
          "font": {
           "size": 16
          },
          "showarrow": false,
          "text": "Customer Profile",
          "x": 0.5,
          "xanchor": "center",
          "xref": "paper",
          "y": 1,
          "yanchor": "bottom",
          "yref": "paper"
         },
         {
          "font": {
           "size": 16
          },
          "showarrow": false,
          "text": "contribution",
          "x": 0.5,
          "xanchor": "center",
          "xref": "paper",
          "y": 0,
          "yanchor": "top",
          "yref": "paper",
          "yshift": -30
         }
        ],
        "font": {
         "color": "#371ea3"
        },
        "height": 313,
        "margin": {
         "b": 71,
         "r": 30,
         "t": 78
        },
        "shapes": [
         {
          "line": {
           "color": "#371ea3",
           "dash": "dot",
           "width": 1.5
          },
          "type": "line",
          "x0": 0.2500081855269921,
          "x1": 0.2500081855269921,
          "xref": "x",
          "y0": -1,
          "y1": 8,
          "yref": "y"
         }
        ],
        "template": {
         "data": {
          "scatter": [
           {
            "type": "scatter"
           }
          ]
         }
        },
        "title": {
         "text": "Rahul Desai",
         "x": 0.15
        },
        "xaxis": {
         "anchor": "y",
         "automargin": true,
         "domain": [
          0,
          1
         ],
         "fixedrange": true,
         "gridwidth": 2,
         "range": [
          0.1375,
          1.1125
         ],
         "tickcolor": "white",
         "ticklen": 3,
         "ticks": "outside",
         "type": "linear",
         "zeroline": false
        },
        "yaxis": {
         "anchor": "x",
         "automargin": true,
         "autorange": "reversed",
         "domain": [
          0,
          1
         ],
         "fixedrange": true,
         "gridwidth": 2,
         "tickcolor": "white",
         "ticklen": 10,
         "ticks": "outside",
         "type": "category"
        }
       }
      }
     },
     "metadata": {},
     "output_type": "display_data"
    },
    {
     "data": {
      "application/vnd.plotly.v1+json": {
       "config": {
        "displaylogo": false,
        "modeBarButtonsToRemove": [
         "sendDataToCloud",
         "lasso2d",
         "autoScale2d",
         "select2d",
         "zoom2d",
         "pan2d",
         "zoomIn2d",
         "zoomOut2d",
         "resetScale2d",
         "toggleSpikelines",
         "hoverCompareCartesian",
         "hoverClosestCartesian"
        ],
        "plotlyServerURL": "https://plot.ly",
        "staticPlot": false,
        "toImageButtonOptions": {
         "height": null,
         "width": null
        }
       },
       "data": [
        {
         "base": 0.24813679039262504,
         "connector": {
          "line": {
           "color": "#371ea3",
           "dash": "solid",
           "width": 1
          },
          "mode": "spanning"
         },
         "decreasing": {
          "marker": {
           "color": "#f05a71"
          }
         },
         "hoverinfo": "text+delta",
         "hoverlabel": {
          "bgcolor": "rgba(0,0,0,0.8)"
         },
         "hovertext": [
          "Average response: 0.248<br>Prediction: 0.336",
          "CIBIL_Score = HIGH<br>increases average response by",
          "Down_Payment = HIGH<br>increases average response by",
          "Undecided_Finances = No<br>decreases average response by",
          "Finances_Status = Cash Purchase<br>decreases average response by",
          "Average response: 0.248<br>Prediction: 0.336"
         ],
         "increasing": {
          "marker": {
           "color": "#8bdcbe"
          }
         },
         "measure": [
          "relative",
          "relative",
          "relative",
          "relative",
          "relative",
          "total"
         ],
         "orientation": "h",
         "showlegend": false,
         "text": [
          "0.248",
          "+0.51",
          "+0.032",
          "-0.187",
          "-0.267",
          "0.336"
         ],
         "textposition": "outside",
         "totals": {
          "marker": {
           "color": "#371ea3"
          }
         },
         "type": "waterfall",
         "x": [
          0,
          0.51,
          0.032,
          -0.187,
          -0.267,
          0.088
         ],
         "xaxis": "x",
         "y": [
          "intercept",
          "CIBIL_Score = HIGH",
          "Down_Payment = HIGH",
          "Undecided_Finances = No",
          "Finances_Status = Cash Purchase",
          "prediction"
         ],
         "yaxis": "y"
        }
       ],
       "layout": {
        "annotations": [
         {
          "font": {
           "size": 16
          },
          "showarrow": false,
          "text": "Finances",
          "x": 0.5,
          "xanchor": "center",
          "xref": "paper",
          "y": 1,
          "yanchor": "bottom",
          "yref": "paper"
         },
         {
          "font": {
           "size": 16
          },
          "showarrow": false,
          "text": "contribution",
          "x": 0.5,
          "xanchor": "center",
          "xref": "paper",
          "y": 0,
          "yanchor": "top",
          "yref": "paper",
          "yshift": -30
         }
        ],
        "font": {
         "color": "#371ea3"
        },
        "height": 273,
        "margin": {
         "b": 71,
         "r": 30,
         "t": 78
        },
        "shapes": [
         {
          "line": {
           "color": "#371ea3",
           "dash": "dot",
           "width": 1.5
          },
          "type": "line",
          "x0": 0.24813679039262504,
          "x1": 0.24813679039262504,
          "xref": "x",
          "y0": -1,
          "y1": 6,
          "yref": "y"
         }
        ],
        "template": {
         "data": {
          "scatter": [
           {
            "type": "scatter"
           }
          ]
         }
        },
        "title": {
         "text": "Rahul Desai",
         "x": 0.15
        },
        "xaxis": {
         "anchor": "y",
         "automargin": true,
         "domain": [
          0,
          1
         ],
         "fixedrange": true,
         "gridwidth": 2,
         "range": [
          0.16670000000000001,
          0.8713000000000001
         ],
         "tickcolor": "white",
         "ticklen": 3,
         "ticks": "outside",
         "type": "linear",
         "zeroline": false
        },
        "yaxis": {
         "anchor": "x",
         "automargin": true,
         "autorange": "reversed",
         "domain": [
          0,
          1
         ],
         "fixedrange": true,
         "gridwidth": 2,
         "tickcolor": "white",
         "ticklen": 10,
         "ticks": "outside",
         "type": "category"
        }
       }
      }
     },
     "metadata": {},
     "output_type": "display_data"
    },
    {
     "data": {
      "application/vnd.plotly.v1+json": {
       "config": {
        "displaylogo": false,
        "modeBarButtonsToRemove": [
         "sendDataToCloud",
         "lasso2d",
         "autoScale2d",
         "select2d",
         "zoom2d",
         "pan2d",
         "zoomIn2d",
         "zoomOut2d",
         "resetScale2d",
         "toggleSpikelines",
         "hoverCompareCartesian",
         "hoverClosestCartesian"
        ],
        "plotlyServerURL": "https://plot.ly",
        "staticPlot": false,
        "toImageButtonOptions": {
         "height": null,
         "width": null
        }
       },
       "data": [
        {
         "base": 0.24892522124140437,
         "connector": {
          "line": {
           "color": "#371ea3",
           "dash": "solid",
           "width": 1
          },
          "mode": "spanning"
         },
         "decreasing": {
          "marker": {
           "color": "#f05a71"
          }
         },
         "hoverinfo": "text+delta",
         "hoverlabel": {
          "bgcolor": "rgba(0,0,0,0.8)"
         },
         "hovertext": [
          "Average response: 0.249<br>Prediction: 0.493",
          "Booking_Lead_Time = LOW<br>increases average response by",
          "Needs_Match = High<br>increases average response by",
          "Add_Ons = LOW<br>decreases average response by",
          "Special_Occasions = Festival<br>decreases average response by",
          "Average response: 0.249<br>Prediction: 0.493"
         ],
         "increasing": {
          "marker": {
           "color": "#8bdcbe"
          }
         },
         "measure": [
          "relative",
          "relative",
          "relative",
          "relative",
          "relative",
          "total"
         ],
         "orientation": "h",
         "showlegend": false,
         "text": [
          "0.249",
          "+0.113",
          "+0.186",
          "-0.001",
          "-0.055",
          "0.493"
         ],
         "textposition": "outside",
         "totals": {
          "marker": {
           "color": "#371ea3"
          }
         },
         "type": "waterfall",
         "x": [
          0,
          0.113,
          0.186,
          -0.001,
          -0.055,
          0.244
         ],
         "xaxis": "x",
         "y": [
          "intercept",
          "Booking_Lead_Time = LOW",
          "Needs_Match = High",
          "Add_Ons = LOW",
          "Special_Occasions = Festival",
          "prediction"
         ],
         "yaxis": "y"
        }
       ],
       "layout": {
        "annotations": [
         {
          "font": {
           "size": 16
          },
          "showarrow": false,
          "text": "Booking Details",
          "x": 0.5,
          "xanchor": "center",
          "xref": "paper",
          "y": 1,
          "yanchor": "bottom",
          "yref": "paper"
         },
         {
          "font": {
           "size": 16
          },
          "showarrow": false,
          "text": "contribution",
          "x": 0.5,
          "xanchor": "center",
          "xref": "paper",
          "y": 0,
          "yanchor": "top",
          "yref": "paper",
          "yshift": -30
         }
        ],
        "font": {
         "color": "#371ea3"
        },
        "height": 273,
        "margin": {
         "b": 71,
         "r": 30,
         "t": 78
        },
        "shapes": [
         {
          "line": {
           "color": "#371ea3",
           "dash": "dot",
           "width": 1.5
          },
          "type": "line",
          "x0": 0.24892522124140437,
          "x1": 0.24892522124140437,
          "xref": "x",
          "y0": -1,
          "y1": 6,
          "yref": "y"
         }
        ],
        "template": {
         "data": {
          "scatter": [
           {
            "type": "scatter"
           }
          ]
         }
        },
        "title": {
         "text": "Rahul Desai",
         "x": 0.15
        },
        "xaxis": {
         "anchor": "y",
         "automargin": true,
         "domain": [
          0,
          1
         ],
         "fixedrange": true,
         "gridwidth": 2,
         "range": [
          0.204,
          0.5940000000000001
         ],
         "tickcolor": "white",
         "ticklen": 3,
         "ticks": "outside",
         "type": "linear",
         "zeroline": false
        },
        "yaxis": {
         "anchor": "x",
         "automargin": true,
         "autorange": "reversed",
         "domain": [
          0,
          1
         ],
         "fixedrange": true,
         "gridwidth": 2,
         "tickcolor": "white",
         "ticklen": 10,
         "ticks": "outside",
         "type": "category"
        }
       }
      }
     },
     "metadata": {},
     "output_type": "display_data"
    },
    {
     "data": {
      "application/vnd.plotly.v1+json": {
       "config": {
        "displaylogo": false,
        "modeBarButtonsToRemove": [
         "sendDataToCloud",
         "lasso2d",
         "autoScale2d",
         "select2d",
         "zoom2d",
         "pan2d",
         "zoomIn2d",
         "zoomOut2d",
         "resetScale2d",
         "toggleSpikelines",
         "hoverCompareCartesian",
         "hoverClosestCartesian"
        ],
        "plotlyServerURL": "https://plot.ly",
        "staticPlot": false,
        "toImageButtonOptions": {
         "height": null,
         "width": null
        }
       },
       "data": [
        {
         "base": 0.2503596925045235,
         "connector": {
          "line": {
           "color": "#371ea3",
           "dash": "solid",
           "width": 1
          },
          "mode": "spanning"
         },
         "decreasing": {
          "marker": {
           "color": "#f05a71"
          }
         },
         "hoverinfo": "text+delta",
         "hoverlabel": {
          "bgcolor": "rgba(0,0,0,0.8)"
         },
         "hovertext": [
          "Average response: 0.25<br>Prediction: 0.335",
          "Companion_Feedback = Positive<br>increases average response by",
          "Delivery_Date_Status = On-Time<br>increases average response by",
          "Stock_Status = Available<br>increases average response by",
          "Experience_With_Sales_Rep = Positive<br>increases average response by",
          "Dealership_Engagement = Medium<br>decreases average response by",
          "Average response: 0.25<br>Prediction: 0.335"
         ],
         "increasing": {
          "marker": {
           "color": "#8bdcbe"
          }
         },
         "measure": [
          "relative",
          "relative",
          "relative",
          "relative",
          "relative",
          "relative",
          "total"
         ],
         "orientation": "h",
         "showlegend": false,
         "text": [
          "0.25",
          "+0.145",
          "+0.102",
          "+0.005",
          "+0.106",
          "-0.273",
          "0.335"
         ],
         "textposition": "outside",
         "totals": {
          "marker": {
           "color": "#371ea3"
          }
         },
         "type": "waterfall",
         "x": [
          0,
          0.145,
          0.102,
          0.005,
          0.106,
          -0.273,
          0.085
         ],
         "xaxis": "x",
         "y": [
          "intercept",
          "Companion_Feedback = Positive",
          "Delivery_Date_Status = On-Time",
          "Stock_Status = Available",
          "Experience_With_Sales_Rep = Positive",
          "Dealership_Engagement = Medium",
          "prediction"
         ],
         "yaxis": "y"
        }
       ],
       "layout": {
        "annotations": [
         {
          "font": {
           "size": 16
          },
          "showarrow": false,
          "text": "Delivery Details",
          "x": 0.5,
          "xanchor": "center",
          "xref": "paper",
          "y": 1,
          "yanchor": "bottom",
          "yref": "paper"
         },
         {
          "font": {
           "size": 16
          },
          "showarrow": false,
          "text": "contribution",
          "x": 0.5,
          "xanchor": "center",
          "xref": "paper",
          "y": 0,
          "yanchor": "top",
          "yref": "paper",
          "yshift": -30
         }
        ],
        "font": {
         "color": "#371ea3"
        },
        "height": 293,
        "margin": {
         "b": 71,
         "r": 30,
         "t": 78
        },
        "shapes": [
         {
          "line": {
           "color": "#371ea3",
           "dash": "dot",
           "width": 1.5
          },
          "type": "line",
          "x0": 0.2503596925045235,
          "x1": 0.2503596925045235,
          "xref": "x",
          "y0": -1,
          "y1": 7,
          "yref": "y"
         }
        ],
        "template": {
         "data": {
          "scatter": [
           {
            "type": "scatter"
           }
          ]
         }
        },
        "title": {
         "text": "Rahul Desai",
         "x": 0.15
        },
        "xaxis": {
         "anchor": "y",
         "automargin": true,
         "domain": [
          0,
          1
         ],
         "fixedrange": true,
         "gridwidth": 2,
         "range": [
          0.1963,
          0.6617
         ],
         "tickcolor": "white",
         "ticklen": 3,
         "ticks": "outside",
         "type": "linear",
         "zeroline": false
        },
        "yaxis": {
         "anchor": "x",
         "automargin": true,
         "autorange": "reversed",
         "domain": [
          0,
          1
         ],
         "fixedrange": true,
         "gridwidth": 2,
         "tickcolor": "white",
         "ticklen": 10,
         "ticks": "outside",
         "type": "category"
        }
       }
      }
     },
     "metadata": {},
     "output_type": "display_data"
    },
    {
     "data": {
      "application/vnd.plotly.v1+json": {
       "config": {
        "displaylogo": false,
        "modeBarButtonsToRemove": [
         "sendDataToCloud",
         "lasso2d",
         "autoScale2d",
         "select2d",
         "zoom2d",
         "pan2d",
         "zoomIn2d",
         "zoomOut2d",
         "resetScale2d",
         "toggleSpikelines",
         "hoverCompareCartesian",
         "hoverClosestCartesian"
        ],
        "plotlyServerURL": "https://plot.ly",
        "staticPlot": false,
        "toImageButtonOptions": {
         "height": null,
         "width": null
        }
       },
       "data": [
        {
         "base": 0.2500285199014719,
         "connector": {
          "line": {
           "color": "#371ea3",
           "dash": "solid",
           "width": 1
          },
          "mode": "spanning"
         },
         "decreasing": {
          "marker": {
           "color": "#f05a71"
          }
         },
         "hoverinfo": "text+delta",
         "hoverlabel": {
          "bgcolor": "rgba(0,0,0,0.8)"
         },
         "hovertext": [
          "Average response: 0.25<br>Prediction: 0.999",
          "Competitive_Factors = Low<br>increases average response by",
          "Test_Drive_Status = Completed<br>increases average response by",
          "Vehicle_Type = Sedan<br>increases average response by",
          "Cancellation_Probability = Low<br>increases average response by",
          "Customer_Satisfaction_Score = HIGH<br>increases average response by",
          "External_Factors = Medium<br>decreases average response by",
          "Preferred_Delivery_Time = Afternoon<br>increases average response by",
          "Average response: 0.25<br>Prediction: 0.999"
         ],
         "increasing": {
          "marker": {
           "color": "#8bdcbe"
          }
         },
         "measure": [
          "relative",
          "relative",
          "relative",
          "relative",
          "relative",
          "relative",
          "relative",
          "relative",
          "total"
         ],
         "orientation": "h",
         "showlegend": false,
         "text": [
          "0.25",
          "+0.162",
          "+0.066",
          "+0.076",
          "+0.219",
          "+0.142",
          "-0.081",
          "+0.165",
          "0.999"
         ],
         "textposition": "outside",
         "totals": {
          "marker": {
           "color": "#371ea3"
          }
         },
         "type": "waterfall",
         "x": [
          0,
          0.162,
          0.066,
          0.076,
          0.219,
          0.142,
          -0.081,
          0.165,
          0.749
         ],
         "xaxis": "x",
         "y": [
          "intercept",
          "Competitive_Factors = Low",
          "Test_Drive_Status = Completed",
          "Vehicle_Type = Sedan",
          "Cancellation_Probability = Low",
          "Customer_Satisfaction_Score = HIGH",
          "External_Factors = Medium",
          "Preferred_Delivery_Time = Afternoon",
          "prediction"
         ],
         "yaxis": "y"
        }
       ],
       "layout": {
        "annotations": [
         {
          "font": {
           "size": 16
          },
          "showarrow": false,
          "text": "Customer Details",
          "x": 0.5,
          "xanchor": "center",
          "xref": "paper",
          "y": 1,
          "yanchor": "bottom",
          "yref": "paper"
         },
         {
          "font": {
           "size": 16
          },
          "showarrow": false,
          "text": "contribution",
          "x": 0.5,
          "xanchor": "center",
          "xref": "paper",
          "y": 0,
          "yanchor": "top",
          "yref": "paper",
          "yshift": -30
         }
        ],
        "font": {
         "color": "#371ea3"
        },
        "height": 333,
        "margin": {
         "b": 71,
         "r": 30,
         "t": 78
        },
        "shapes": [
         {
          "line": {
           "color": "#371ea3",
           "dash": "dot",
           "width": 1.5
          },
          "type": "line",
          "x0": 0.2500285199014719,
          "x1": 0.2500285199014719,
          "xref": "x",
          "y0": -1,
          "y1": 9,
          "yref": "y"
         }
        ],
        "template": {
         "data": {
          "scatter": [
           {
            "type": "scatter"
           }
          ]
         }
        },
        "title": {
         "text": "Rahul Desai",
         "x": 0.15
        },
        "xaxis": {
         "anchor": "y",
         "automargin": true,
         "domain": [
          0,
          1
         ],
         "fixedrange": true,
         "gridwidth": 2,
         "range": [
          0.13765,
          1.11135
         ],
         "tickcolor": "white",
         "ticklen": 3,
         "ticks": "outside",
         "type": "linear",
         "zeroline": false
        },
        "yaxis": {
         "anchor": "x",
         "automargin": true,
         "autorange": "reversed",
         "domain": [
          0,
          1
         ],
         "fixedrange": true,
         "gridwidth": 2,
         "tickcolor": "white",
         "ticklen": 10,
         "ticks": "outside",
         "type": "category"
        }
       }
      }
     },
     "metadata": {},
     "output_type": "display_data"
    },
    {
     "data": {
      "image/png": "[encoded data removed]",
      "text/plain": [
       "<Figure size 640x480 with 1 Axes>"
      ]
     },
     "metadata": {},
     "output_type": "display_data"
    },
    {
     "name": "stdout",
     "output_type": "stream",
     "text": [
      "Final Prbability:  63.26\n"
     ]
    }
   ],
   "source": [
    "print(\"Final Prbability: \", getValuesofCustomer('Rahul Desai'))"
   ]
  },
  {
   "cell_type": "code",
   "execution_count": 30,
   "metadata": {},
   "outputs": [
    {
     "name": "stdout",
     "output_type": "stream",
     "text": [
      "bciindex ~ C(Lead_Source) + C(First_Time_Buyer) + C(Age) + C(Gender) + C(Income) + C(OEM_Loyalty_Program) + C(Finances_Status) + C(CIBIL_Score) + C(Down_Payment) + C(Undecided_Finances) + C(Special_Occasions) + C(Booking_Lead_Time) + C(Needs_Match) + C(Add_Ons) + C(Dealership_Engagement) + C(Experience_With_Sales_Rep) + C(Companion_Feedback) + C(Stock_Status) + C(Delivery_Date_Status) + C(Competitive_Factors) + C(External_Factors) + C(Customer_Satisfaction_Score) + C(Cancellation_Probability) + C(Vehicle_Type) + C(Test_Drive_Status) + C(Preferred_Delivery_Time)\n"
     ]
    }
   ],
   "source": [
    "df_filtered = df.select_dtypes(exclude=['int64', 'float64', 'datetime64[ns]'])\n",
    "filtered_columns = [f'C({item})' for item in df_filtered.columns]\n",
    "logit_formula = 'bciindex ~ ' + ' + '.join(filtered_columns)\n",
    "print(logit_formula)"
   ]
  },
  {
   "cell_type": "code",
   "execution_count": 31,
   "metadata": {},
   "outputs": [],
   "source": [
    "df_customermodel.save('customermodel.pkl')\n",
    "df_financesmodel.save('financesmodel.pkl')\n",
    "df_bookingdetailsmodel.save('bookingdetailsmodel.pkl')\n",
    "df_deliverydetailsmodel.save('deliverydetailsmodel.pkl')\n",
    "df_customerexperiencemodel.save('customerexperiencemodel.pkl')"
   ]
  },
  {
   "cell_type": "code",
   "execution_count": 38,
   "metadata": {},
   "outputs": [],
   "source": [
    "from dill import dump\n",
    "# with open('financesexplainer.pkl', 'wb') as f:\n",
    "#     dump(exp2, f)\n",
    "# with open('bookingdetailsexplainer.pkl', 'wb') as f:\n",
    "#     dump(exp3, f)\n",
    "# with open('deliverydetailsexplainer.pkl', 'wb') as f:\n",
    "#     dump(exp4, f)\n",
    "# with open('customerexperienceexplainer.pkl', 'wb') as f:\n",
    "#     dump(exp5, f)"
   ]
  },
  {
   "cell_type": "code",
   "execution_count": null,
   "metadata": {},
   "outputs": [
    {
     "data": {
      "application/vnd.plotly.v1+json": {
       "config": {
        "displaylogo": false,
        "modeBarButtonsToRemove": [
         "sendDataToCloud",
         "lasso2d",
         "autoScale2d",
         "select2d",
         "zoom2d",
         "pan2d",
         "zoomIn2d",
         "zoomOut2d",
         "resetScale2d",
         "toggleSpikelines",
         "hoverCompareCartesian",
         "hoverClosestCartesian"
        ],
        "plotlyServerURL": "https://plot.ly",
        "staticPlot": false,
        "toImageButtonOptions": {
         "height": null,
         "width": null
        }
       },
       "data": [
        {
         "base": 0.2500081855269921,
         "connector": {
          "line": {
           "color": "#371ea3",
           "dash": "solid",
           "width": 1
          },
          "mode": "spanning"
         },
         "decreasing": {
          "marker": {
           "color": "#f05a71"
          }
         },
         "hoverinfo": "text+delta",
         "hoverlabel": {
          "bgcolor": "rgba(0,0,0,0.8)"
         },
         "hovertext": [
          "Average response: 0.25<br>Prediction: 1.0",
          "OEM_Loyalty_Program = Yes<br>increases average response by",
          "Lead_Source = Online<br>increases average response by",
          "First_Time_Buyer = Yes<br>increases average response by",
          "Income = MEDIUM<br>increases average response by",
          "Gender = Female<br>increases average response by",
          "Age = KID<br>increases average response by",
          "Average response: 0.25<br>Prediction: 1.0"
         ],
         "increasing": {
          "marker": {
           "color": "#8bdcbe"
          }
         },
         "measure": [
          "relative",
          "relative",
          "relative",
          "relative",
          "relative",
          "relative",
          "relative",
          "total"
         ],
         "orientation": "h",
         "showlegend": false,
         "text": [
          "0.25",
          "+0.323",
          "+0.252",
          "+0.073",
          "+0.099",
          "+0.001",
          "+0.001",
          "1.0"
         ],
         "textposition": "outside",
         "totals": {
          "marker": {
           "color": "#371ea3"
          }
         },
         "type": "waterfall",
         "x": [
          0,
          0.323,
          0.252,
          0.073,
          0.099,
          0.001,
          0.001,
          0.75
         ],
         "xaxis": "x",
         "y": [
          "intercept",
          "OEM_Loyalty_Program = Yes",
          "Lead_Source = Online",
          "First_Time_Buyer = Yes",
          "Income = MEDIUM",
          "Gender = Female",
          "Age = KID",
          "prediction"
         ],
         "yaxis": "y"
        }
       ],
       "layout": {
        "annotations": [
         {
          "font": {
           "size": 16
          },
          "showarrow": false,
          "text": "Customer Profile",
          "x": 0.5,
          "xanchor": "center",
          "xref": "paper",
          "y": 1,
          "yanchor": "bottom",
          "yref": "paper"
         },
         {
          "font": {
           "size": 16
          },
          "showarrow": false,
          "text": "contribution",
          "x": 0.5,
          "xanchor": "center",
          "xref": "paper",
          "y": 0,
          "yanchor": "top",
          "yref": "paper",
          "yshift": -30
         }
        ],
        "font": {
         "color": "#371ea3"
        },
        "height": 313,
        "margin": {
         "b": 71,
         "r": 30,
         "t": 78
        },
        "shapes": [
         {
          "line": {
           "color": "#371ea3",
           "dash": "dot",
           "width": 1.5
          },
          "type": "line",
          "x0": 0.2500081855269921,
          "x1": 0.2500081855269921,
          "xref": "x",
          "y0": -1,
          "y1": 8,
          "yref": "y"
         }
        ],
        "template": {
         "data": {
          "scatter": [
           {
            "type": "scatter"
           }
          ]
         }
        },
        "title": {
         "text": "Aditi Joshi",
         "x": 0.15
        },
        "xaxis": {
         "anchor": "y",
         "automargin": true,
         "domain": [
          0,
          1
         ],
         "fixedrange": true,
         "gridwidth": 2,
         "range": [
          0.1375,
          1.1125
         ],
         "tickcolor": "white",
         "ticklen": 3,
         "ticks": "outside",
         "type": "linear",
         "zeroline": false
        },
        "yaxis": {
         "anchor": "x",
         "automargin": true,
         "autorange": "reversed",
         "domain": [
          0,
          1
         ],
         "fixedrange": true,
         "gridwidth": 2,
         "tickcolor": "white",
         "ticklen": 10,
         "ticks": "outside",
         "type": "category"
        }
       }
      }
     },
     "metadata": {},
     "output_type": "display_data"
    }
   ],
   "source": [
    "from joblib import load\n",
    "to_predicted = new_df.iloc[0]\n",
    "model1values = to_predicted[df_Customerprofile.columns]\n",
    "df_customermodel2 = load('customermodel.pkl')\n",
    "predictedcustomer = df_customermodel2.predict(model1values).to_numpy()[0]\n",
    "breakdown = exp1.predict_parts(to_predicted[df_Customerprofile.columns], type='break_down', label='Customer Profile')\n",
    "breakdown.plot(title='Aditi Joshi')"
   ]
  }
 ],
 "metadata": {
  "kernelspec": {
   "display_name": "bcienv",
   "language": "python",
   "name": "python3"
  },
  "language_info": {
   "codemirror_mode": {
    "name": "ipython",
    "version": 3
   },
   "file_extension": ".py",
   "mimetype": "text/x-python",
   "name": "python",
   "nbconvert_exporter": "python",
   "pygments_lexer": "ipython3",
   "version": "3.12.8"
  }
 },
 "nbformat": 4,
 "nbformat_minor": 2
}
